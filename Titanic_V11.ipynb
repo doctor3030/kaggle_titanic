{
 "cells": [
  {
   "cell_type": "code",
   "execution_count": 457,
   "metadata": {
    "scrolled": true
   },
   "outputs": [],
   "source": [
    "%config IPCompleter.greedy=True\n",
    "from IPython.display import IFrame\n",
    "# from MyLearner import MyLearner\n",
    "\n",
    "# from MyScorer import MyScorer\n",
    "# from MyPlotter import MyPlotter\n",
    "\n",
    "import pandas as pd\n",
    "import numpy as np\n",
    "import string\n",
    "import itertools\n",
    "\n",
    "import math\n",
    "import scipy.stats as sts\n",
    "import matplotlib as mpl\n",
    "import matplotlib.pyplot as plt\n",
    "import matplotlib.gridspec as gridspec\n",
    "from sklearn.pipeline import Pipeline\n",
    "import sklearn.metrics as metrics\n",
    "\n",
    "import seaborn as sns\n",
    "import xgboost as xgb\n",
    "from xgboost.sklearn import XGBClassifier\n",
    "from sklearn import discriminant_analysis as disan\n",
    "from sklearn import calibration as calib\n",
    "from sklearn import linear_model as lm\n",
    "from sklearn import svm\n",
    "from sklearn import gaussian_process as gaup\n",
    "from sklearn import mixture as mix\n",
    "from sklearn import tree\n",
    "from sklearn import ensemble as ens\n",
    "from sklearn.kernel_ridge import KernelRidge\n",
    "from sklearn.ensemble import GradientBoostingClassifier\n",
    "import sklearn.model_selection as model_selection\n",
    "from sklearn.model_selection import train_test_split\n",
    "from sklearn.model_selection import cross_val_score\n",
    "from sklearn.model_selection import cross_validate\n",
    "\n",
    "from sklearn.model_selection import KFold, RepeatedKFold, GridSearchCV, cross_val_score\n",
    "import sklearn.feature_selection as feature_selection\n",
    "import sklearn.preprocessing as prepc\n",
    "from sklearn.multiclass import OneVsRestClassifier as ovr\n",
    "from sklearn.multiclass import OneVsOneClassifier as ovo\n",
    "from sklearn.multiclass import OutputCodeClassifier as occ\n",
    "import sklearn\n",
    "import sklearn.metrics as metrics\n",
    "from rfpimp import dropcol_importances\n",
    "from rfpimp import importances\n",
    "import imblearn.over_sampling as imbOVS\n",
    "import imblearn.under_sampling as imbUDS\n",
    "import imblearn.combine as imbCMB\n",
    "\n",
    "from dabl.plot import class_hists"
   ]
  },
  {
   "cell_type": "code",
   "execution_count": 458,
   "metadata": {},
   "outputs": [],
   "source": [
    "#import train dataset\n",
    "filename_tr = 'train.csv'\n",
    "data_train = pd.read_csv(filename_tr)\n",
    "\n",
    "#import test dataset\n",
    "filename_tes = 'test.csv'\n",
    "data_test = pd.read_csv(filename_tes)"
   ]
  },
  {
   "cell_type": "markdown",
   "metadata": {},
   "source": [
    "### Training Set"
   ]
  },
  {
   "cell_type": "code",
   "execution_count": 459,
   "metadata": {},
   "outputs": [
    {
     "data": {
      "text/html": [
       "<div>\n",
       "<style scoped>\n",
       "    .dataframe tbody tr th:only-of-type {\n",
       "        vertical-align: middle;\n",
       "    }\n",
       "\n",
       "    .dataframe tbody tr th {\n",
       "        vertical-align: top;\n",
       "    }\n",
       "\n",
       "    .dataframe thead th {\n",
       "        text-align: right;\n",
       "    }\n",
       "</style>\n",
       "<table border=\"1\" class=\"dataframe\">\n",
       "  <thead>\n",
       "    <tr style=\"text-align: right;\">\n",
       "      <th></th>\n",
       "      <th>PassengerId</th>\n",
       "      <th>Survived</th>\n",
       "      <th>Pclass</th>\n",
       "      <th>Name</th>\n",
       "      <th>Sex</th>\n",
       "      <th>Age</th>\n",
       "      <th>SibSp</th>\n",
       "      <th>Parch</th>\n",
       "      <th>Ticket</th>\n",
       "      <th>Fare</th>\n",
       "      <th>Cabin</th>\n",
       "      <th>Embarked</th>\n",
       "    </tr>\n",
       "  </thead>\n",
       "  <tbody>\n",
       "    <tr>\n",
       "      <th>0</th>\n",
       "      <td>1</td>\n",
       "      <td>0</td>\n",
       "      <td>3</td>\n",
       "      <td>Braund, Mr. Owen Harris</td>\n",
       "      <td>male</td>\n",
       "      <td>22.0</td>\n",
       "      <td>1</td>\n",
       "      <td>0</td>\n",
       "      <td>A/5 21171</td>\n",
       "      <td>7.2500</td>\n",
       "      <td>NaN</td>\n",
       "      <td>S</td>\n",
       "    </tr>\n",
       "    <tr>\n",
       "      <th>1</th>\n",
       "      <td>2</td>\n",
       "      <td>1</td>\n",
       "      <td>1</td>\n",
       "      <td>Cumings, Mrs. John Bradley (Florence Briggs Th...</td>\n",
       "      <td>female</td>\n",
       "      <td>38.0</td>\n",
       "      <td>1</td>\n",
       "      <td>0</td>\n",
       "      <td>PC 17599</td>\n",
       "      <td>71.2833</td>\n",
       "      <td>C85</td>\n",
       "      <td>C</td>\n",
       "    </tr>\n",
       "    <tr>\n",
       "      <th>2</th>\n",
       "      <td>3</td>\n",
       "      <td>1</td>\n",
       "      <td>3</td>\n",
       "      <td>Heikkinen, Miss. Laina</td>\n",
       "      <td>female</td>\n",
       "      <td>26.0</td>\n",
       "      <td>0</td>\n",
       "      <td>0</td>\n",
       "      <td>STON/O2. 3101282</td>\n",
       "      <td>7.9250</td>\n",
       "      <td>NaN</td>\n",
       "      <td>S</td>\n",
       "    </tr>\n",
       "    <tr>\n",
       "      <th>3</th>\n",
       "      <td>4</td>\n",
       "      <td>1</td>\n",
       "      <td>1</td>\n",
       "      <td>Futrelle, Mrs. Jacques Heath (Lily May Peel)</td>\n",
       "      <td>female</td>\n",
       "      <td>35.0</td>\n",
       "      <td>1</td>\n",
       "      <td>0</td>\n",
       "      <td>113803</td>\n",
       "      <td>53.1000</td>\n",
       "      <td>C123</td>\n",
       "      <td>S</td>\n",
       "    </tr>\n",
       "    <tr>\n",
       "      <th>4</th>\n",
       "      <td>5</td>\n",
       "      <td>0</td>\n",
       "      <td>3</td>\n",
       "      <td>Allen, Mr. William Henry</td>\n",
       "      <td>male</td>\n",
       "      <td>35.0</td>\n",
       "      <td>0</td>\n",
       "      <td>0</td>\n",
       "      <td>373450</td>\n",
       "      <td>8.0500</td>\n",
       "      <td>NaN</td>\n",
       "      <td>S</td>\n",
       "    </tr>\n",
       "  </tbody>\n",
       "</table>\n",
       "</div>"
      ],
      "text/plain": [
       "   PassengerId  Survived  Pclass  \\\n",
       "0            1         0       3   \n",
       "1            2         1       1   \n",
       "2            3         1       3   \n",
       "3            4         1       1   \n",
       "4            5         0       3   \n",
       "\n",
       "                                                Name     Sex   Age  SibSp  \\\n",
       "0                            Braund, Mr. Owen Harris    male  22.0      1   \n",
       "1  Cumings, Mrs. John Bradley (Florence Briggs Th...  female  38.0      1   \n",
       "2                             Heikkinen, Miss. Laina  female  26.0      0   \n",
       "3       Futrelle, Mrs. Jacques Heath (Lily May Peel)  female  35.0      1   \n",
       "4                           Allen, Mr. William Henry    male  35.0      0   \n",
       "\n",
       "   Parch            Ticket     Fare Cabin Embarked  \n",
       "0      0         A/5 21171   7.2500   NaN        S  \n",
       "1      0          PC 17599  71.2833   C85        C  \n",
       "2      0  STON/O2. 3101282   7.9250   NaN        S  \n",
       "3      0            113803  53.1000  C123        S  \n",
       "4      0            373450   8.0500   NaN        S  "
      ]
     },
     "execution_count": 459,
     "metadata": {},
     "output_type": "execute_result"
    }
   ],
   "source": [
    "data_train.head(5)"
   ]
  },
  {
   "cell_type": "markdown",
   "metadata": {},
   "source": [
    "### Test Set"
   ]
  },
  {
   "cell_type": "code",
   "execution_count": 460,
   "metadata": {},
   "outputs": [
    {
     "data": {
      "text/html": [
       "<div>\n",
       "<style scoped>\n",
       "    .dataframe tbody tr th:only-of-type {\n",
       "        vertical-align: middle;\n",
       "    }\n",
       "\n",
       "    .dataframe tbody tr th {\n",
       "        vertical-align: top;\n",
       "    }\n",
       "\n",
       "    .dataframe thead th {\n",
       "        text-align: right;\n",
       "    }\n",
       "</style>\n",
       "<table border=\"1\" class=\"dataframe\">\n",
       "  <thead>\n",
       "    <tr style=\"text-align: right;\">\n",
       "      <th></th>\n",
       "      <th>PassengerId</th>\n",
       "      <th>Pclass</th>\n",
       "      <th>Name</th>\n",
       "      <th>Sex</th>\n",
       "      <th>Age</th>\n",
       "      <th>SibSp</th>\n",
       "      <th>Parch</th>\n",
       "      <th>Ticket</th>\n",
       "      <th>Fare</th>\n",
       "      <th>Cabin</th>\n",
       "      <th>Embarked</th>\n",
       "    </tr>\n",
       "  </thead>\n",
       "  <tbody>\n",
       "    <tr>\n",
       "      <th>0</th>\n",
       "      <td>892</td>\n",
       "      <td>3</td>\n",
       "      <td>Kelly, Mr. James</td>\n",
       "      <td>male</td>\n",
       "      <td>34.5</td>\n",
       "      <td>0</td>\n",
       "      <td>0</td>\n",
       "      <td>330911</td>\n",
       "      <td>7.8292</td>\n",
       "      <td>NaN</td>\n",
       "      <td>Q</td>\n",
       "    </tr>\n",
       "    <tr>\n",
       "      <th>1</th>\n",
       "      <td>893</td>\n",
       "      <td>3</td>\n",
       "      <td>Wilkes, Mrs. James (Ellen Needs)</td>\n",
       "      <td>female</td>\n",
       "      <td>47.0</td>\n",
       "      <td>1</td>\n",
       "      <td>0</td>\n",
       "      <td>363272</td>\n",
       "      <td>7.0000</td>\n",
       "      <td>NaN</td>\n",
       "      <td>S</td>\n",
       "    </tr>\n",
       "    <tr>\n",
       "      <th>2</th>\n",
       "      <td>894</td>\n",
       "      <td>2</td>\n",
       "      <td>Myles, Mr. Thomas Francis</td>\n",
       "      <td>male</td>\n",
       "      <td>62.0</td>\n",
       "      <td>0</td>\n",
       "      <td>0</td>\n",
       "      <td>240276</td>\n",
       "      <td>9.6875</td>\n",
       "      <td>NaN</td>\n",
       "      <td>Q</td>\n",
       "    </tr>\n",
       "    <tr>\n",
       "      <th>3</th>\n",
       "      <td>895</td>\n",
       "      <td>3</td>\n",
       "      <td>Wirz, Mr. Albert</td>\n",
       "      <td>male</td>\n",
       "      <td>27.0</td>\n",
       "      <td>0</td>\n",
       "      <td>0</td>\n",
       "      <td>315154</td>\n",
       "      <td>8.6625</td>\n",
       "      <td>NaN</td>\n",
       "      <td>S</td>\n",
       "    </tr>\n",
       "    <tr>\n",
       "      <th>4</th>\n",
       "      <td>896</td>\n",
       "      <td>3</td>\n",
       "      <td>Hirvonen, Mrs. Alexander (Helga E Lindqvist)</td>\n",
       "      <td>female</td>\n",
       "      <td>22.0</td>\n",
       "      <td>1</td>\n",
       "      <td>1</td>\n",
       "      <td>3101298</td>\n",
       "      <td>12.2875</td>\n",
       "      <td>NaN</td>\n",
       "      <td>S</td>\n",
       "    </tr>\n",
       "  </tbody>\n",
       "</table>\n",
       "</div>"
      ],
      "text/plain": [
       "   PassengerId  Pclass                                          Name     Sex  \\\n",
       "0          892       3                              Kelly, Mr. James    male   \n",
       "1          893       3              Wilkes, Mrs. James (Ellen Needs)  female   \n",
       "2          894       2                     Myles, Mr. Thomas Francis    male   \n",
       "3          895       3                              Wirz, Mr. Albert    male   \n",
       "4          896       3  Hirvonen, Mrs. Alexander (Helga E Lindqvist)  female   \n",
       "\n",
       "    Age  SibSp  Parch   Ticket     Fare Cabin Embarked  \n",
       "0  34.5      0      0   330911   7.8292   NaN        Q  \n",
       "1  47.0      1      0   363272   7.0000   NaN        S  \n",
       "2  62.0      0      0   240276   9.6875   NaN        Q  \n",
       "3  27.0      0      0   315154   8.6625   NaN        S  \n",
       "4  22.0      1      1  3101298  12.2875   NaN        S  "
      ]
     },
     "execution_count": 460,
     "metadata": {},
     "output_type": "execute_result"
    }
   ],
   "source": [
    "data_test.head(5)"
   ]
  },
  {
   "cell_type": "markdown",
   "metadata": {},
   "source": [
    "### Checking missing values in training set"
   ]
  },
  {
   "cell_type": "code",
   "execution_count": 461,
   "metadata": {},
   "outputs": [
    {
     "data": {
      "text/html": [
       "<div>\n",
       "<style scoped>\n",
       "    .dataframe tbody tr th:only-of-type {\n",
       "        vertical-align: middle;\n",
       "    }\n",
       "\n",
       "    .dataframe tbody tr th {\n",
       "        vertical-align: top;\n",
       "    }\n",
       "\n",
       "    .dataframe thead th {\n",
       "        text-align: right;\n",
       "    }\n",
       "</style>\n",
       "<table border=\"1\" class=\"dataframe\">\n",
       "  <thead>\n",
       "    <tr style=\"text-align: right;\">\n",
       "      <th></th>\n",
       "      <th>count</th>\n",
       "      <th>percent</th>\n",
       "    </tr>\n",
       "  </thead>\n",
       "  <tbody>\n",
       "    <tr>\n",
       "      <th>Age</th>\n",
       "      <td>177</td>\n",
       "      <td>19.87%</td>\n",
       "    </tr>\n",
       "    <tr>\n",
       "      <th>Cabin</th>\n",
       "      <td>687</td>\n",
       "      <td>77.10%</td>\n",
       "    </tr>\n",
       "    <tr>\n",
       "      <th>Embarked</th>\n",
       "      <td>2</td>\n",
       "      <td>0.22%</td>\n",
       "    </tr>\n",
       "  </tbody>\n",
       "</table>\n",
       "</div>"
      ],
      "text/plain": [
       "          count percent\n",
       "Age         177  19.87%\n",
       "Cabin       687  77.10%\n",
       "Embarked      2   0.22%"
      ]
     },
     "execution_count": 461,
     "metadata": {},
     "output_type": "execute_result"
    }
   ],
   "source": [
    "nulls = data_train.isnull().sum()\n",
    "nulls = nulls.loc[nulls > 0]\n",
    "nulls = nulls.to_frame(name='count')\n",
    "N = len(data_train.index)\n",
    "nulls.insert(1, 'percent', ['{0:.2%}'.format(nulls.loc['Age'][0] / N), \n",
    "                            '{0:.2%}'.format(nulls.loc['Cabin'][0] / N),\n",
    "                            '{0:.2%}'.format(nulls.loc['Embarked'][0] / N)])\n",
    "nulls"
   ]
  },
  {
   "cell_type": "markdown",
   "metadata": {},
   "source": [
    "Seems to be a lot of missing values in 'Age' and 'Cabin'."
   ]
  },
  {
   "cell_type": "markdown",
   "metadata": {},
   "source": [
    "As I concluded from preliminary analysis, the Age is one of the critical and must be treated first.\n",
    "\n",
    "The Cabin and Embarked are probably not important in Survival prediction.\n",
    "\n",
    "I will come to nulls later but for now lets look on distributions."
   ]
  },
  {
   "cell_type": "markdown",
   "metadata": {},
   "source": [
    "### Checking missing values in test set"
   ]
  },
  {
   "cell_type": "code",
   "execution_count": 462,
   "metadata": {},
   "outputs": [
    {
     "data": {
      "text/html": [
       "<div>\n",
       "<style scoped>\n",
       "    .dataframe tbody tr th:only-of-type {\n",
       "        vertical-align: middle;\n",
       "    }\n",
       "\n",
       "    .dataframe tbody tr th {\n",
       "        vertical-align: top;\n",
       "    }\n",
       "\n",
       "    .dataframe thead th {\n",
       "        text-align: right;\n",
       "    }\n",
       "</style>\n",
       "<table border=\"1\" class=\"dataframe\">\n",
       "  <thead>\n",
       "    <tr style=\"text-align: right;\">\n",
       "      <th></th>\n",
       "      <th>count</th>\n",
       "    </tr>\n",
       "  </thead>\n",
       "  <tbody>\n",
       "    <tr>\n",
       "      <th>Age</th>\n",
       "      <td>86</td>\n",
       "    </tr>\n",
       "    <tr>\n",
       "      <th>Fare</th>\n",
       "      <td>1</td>\n",
       "    </tr>\n",
       "    <tr>\n",
       "      <th>Cabin</th>\n",
       "      <td>327</td>\n",
       "    </tr>\n",
       "  </tbody>\n",
       "</table>\n",
       "</div>"
      ],
      "text/plain": [
       "       count\n",
       "Age       86\n",
       "Fare       1\n",
       "Cabin    327"
      ]
     },
     "execution_count": 462,
     "metadata": {},
     "output_type": "execute_result"
    }
   ],
   "source": [
    "nulls = data_test.isnull().sum()\n",
    "nulls = nulls.loc[nulls > 0]\n",
    "nulls = nulls.to_frame(name='count')\n",
    "nulls"
   ]
  },
  {
   "cell_type": "markdown",
   "metadata": {},
   "source": [
    "#### Calculate survival rate"
   ]
  },
  {
   "cell_type": "code",
   "execution_count": 463,
   "metadata": {},
   "outputs": [
    {
     "name": "stdout",
     "output_type": "stream",
     "text": [
      "Deads: 549 (61.62%)\n",
      "Survivals: 342 (38.38%)\n"
     ]
    }
   ],
   "source": [
    "#how many died\n",
    "N_surv0 = len(data_train.loc[data_train['Survived']==0])\n",
    "#how many survived\n",
    "N_surv1 = len(data_train.loc[data_train['Survived']==1])\n",
    "\n",
    "print('Deads: {0} ({1:.2%})'.format(N_surv0, N_surv0 / N))\n",
    "print('Survivals: {0} ({1:.2%})'.format(N_surv1, N_surv1 / N))"
   ]
  },
  {
   "cell_type": "markdown",
   "metadata": {},
   "source": [
    "Well, only 1/3 survived. That was expectable though."
   ]
  },
  {
   "cell_type": "code",
   "execution_count": 464,
   "metadata": {},
   "outputs": [],
   "source": [
    "data = data_train[['Survived', 'Pclass', 'Sex', 'Age', 'SibSp', 'Parch', 'Fare', 'Embarked']].copy()\n",
    "\n",
    "#encode categorical variables\n",
    "data['Sex'] = data['Sex'].apply(lambda i: 1 if i=='male' else 0)\n",
    "data['Embarked'] = data['Embarked'].apply(lambda i: 0 if i=='C' else (1 if i=='Q' else 2))\n",
    "data['Pclass'] = data['Pclass'].apply(lambda i: i-1)\n",
    "# data = pd.concat([data.drop(columns=['Sex', 'Embarked']), df1, df2], axis=1)\n",
    "\n",
    "#add family size\n",
    "data['famsize'] = data['SibSp'] + data['Parch']\n",
    "\n",
    "#numerical data\n",
    "data_num = data[['Age', 'Fare',]]\n",
    "\n",
    "#categorical data\n",
    "data_cat = data[['Pclass', 'Sex', 'Embarked', 'SibSp', 'Parch', 'famsize']]"
   ]
  },
  {
   "cell_type": "code",
   "execution_count": 465,
   "metadata": {},
   "outputs": [
    {
     "data": {
      "text/html": [
       "<div>\n",
       "<style scoped>\n",
       "    .dataframe tbody tr th:only-of-type {\n",
       "        vertical-align: middle;\n",
       "    }\n",
       "\n",
       "    .dataframe tbody tr th {\n",
       "        vertical-align: top;\n",
       "    }\n",
       "\n",
       "    .dataframe thead th {\n",
       "        text-align: right;\n",
       "    }\n",
       "</style>\n",
       "<table border=\"1\" class=\"dataframe\">\n",
       "  <thead>\n",
       "    <tr style=\"text-align: right;\">\n",
       "      <th></th>\n",
       "      <th>Survived</th>\n",
       "      <th>Pclass</th>\n",
       "      <th>Sex</th>\n",
       "      <th>Age</th>\n",
       "      <th>SibSp</th>\n",
       "      <th>Parch</th>\n",
       "      <th>Fare</th>\n",
       "      <th>Embarked</th>\n",
       "      <th>famsize</th>\n",
       "    </tr>\n",
       "  </thead>\n",
       "  <tbody>\n",
       "    <tr>\n",
       "      <th>0</th>\n",
       "      <td>0</td>\n",
       "      <td>2</td>\n",
       "      <td>1</td>\n",
       "      <td>22.0</td>\n",
       "      <td>1</td>\n",
       "      <td>0</td>\n",
       "      <td>7.2500</td>\n",
       "      <td>2</td>\n",
       "      <td>1</td>\n",
       "    </tr>\n",
       "    <tr>\n",
       "      <th>1</th>\n",
       "      <td>1</td>\n",
       "      <td>0</td>\n",
       "      <td>0</td>\n",
       "      <td>38.0</td>\n",
       "      <td>1</td>\n",
       "      <td>0</td>\n",
       "      <td>71.2833</td>\n",
       "      <td>0</td>\n",
       "      <td>1</td>\n",
       "    </tr>\n",
       "    <tr>\n",
       "      <th>2</th>\n",
       "      <td>1</td>\n",
       "      <td>2</td>\n",
       "      <td>0</td>\n",
       "      <td>26.0</td>\n",
       "      <td>0</td>\n",
       "      <td>0</td>\n",
       "      <td>7.9250</td>\n",
       "      <td>2</td>\n",
       "      <td>0</td>\n",
       "    </tr>\n",
       "    <tr>\n",
       "      <th>3</th>\n",
       "      <td>1</td>\n",
       "      <td>0</td>\n",
       "      <td>0</td>\n",
       "      <td>35.0</td>\n",
       "      <td>1</td>\n",
       "      <td>0</td>\n",
       "      <td>53.1000</td>\n",
       "      <td>2</td>\n",
       "      <td>1</td>\n",
       "    </tr>\n",
       "    <tr>\n",
       "      <th>4</th>\n",
       "      <td>0</td>\n",
       "      <td>2</td>\n",
       "      <td>1</td>\n",
       "      <td>35.0</td>\n",
       "      <td>0</td>\n",
       "      <td>0</td>\n",
       "      <td>8.0500</td>\n",
       "      <td>2</td>\n",
       "      <td>0</td>\n",
       "    </tr>\n",
       "  </tbody>\n",
       "</table>\n",
       "</div>"
      ],
      "text/plain": [
       "   Survived  Pclass  Sex   Age  SibSp  Parch     Fare  Embarked  famsize\n",
       "0         0       2    1  22.0      1      0   7.2500         2        1\n",
       "1         1       0    0  38.0      1      0  71.2833         0        1\n",
       "2         1       2    0  26.0      0      0   7.9250         2        0\n",
       "3         1       0    0  35.0      1      0  53.1000         2        1\n",
       "4         0       2    1  35.0      0      0   8.0500         2        0"
      ]
     },
     "execution_count": 465,
     "metadata": {},
     "output_type": "execute_result"
    }
   ],
   "source": [
    "data.head(5)"
   ]
  },
  {
   "cell_type": "markdown",
   "metadata": {},
   "source": [
    "### Plotting Variables"
   ]
  },
  {
   "cell_type": "code",
   "execution_count": 466,
   "metadata": {},
   "outputs": [],
   "source": [
    "def plot_bar_diagram(ax, data, nested=False, plots_labels=None, plots_colors=None, bar_labels='', width=0.4, title='', length_label='',\n",
    "                     orient='v', legend_loc=None, spines=None):\n",
    "    \"\"\"\n",
    "    Plots single or multiple bar diagrams with data labels on top(aside) of the bars\n",
    "    :param ax: matplotlib axes\n",
    "    :param data: pandas DataFrame where rows correspond to bar plots and columns correspond to data labels (columns in data)\n",
    "    :param nested: boolean. If True, bar plots are plotted on top of each other. If False bar plots are plotted besides each other\n",
    "    :param bar_labels: pandas DataFrame. labels over the bars. Should be same shape as data\n",
    "    :param width: float. Bar width\n",
    "    :param title: string. Plot title\n",
    "    :param length_label: bar height/width axis label\n",
    "    :param spines: dictionary of booleans. indicates to plot borders or not. Keys=['left', 'right', 'top', 'bottom'], values=True/False\n",
    "    :param orient: string. Bar orientation: 'v'-vertical; 'h'-horisontal\n",
    "    \"\"\"\n",
    "    bars = list(data.index)\n",
    "    cols = list(data.columns)\n",
    "    cells = data.values.tolist()\n",
    "\n",
    "    if bar_labels is not None:\n",
    "        for i, lab in enumerate(bars):\n",
    "            labels = ([f\"{j:.4f}\" for j in cells[i]] if bar_labels=='' else bar_labels[i])\n",
    "\n",
    "    if orient == 'v':\n",
    "        for i, lab in enumerate(bars):\n",
    "            label = (bars[i] if plots_labels is None else plots_labels[i])\n",
    "            color = ('r' if plots_colors is None else plots_colors[i])\n",
    "            x = np.arange(len(cols))\n",
    "            bar = ax.bar(x=x + width * (i - len(bars) / 2), height=cells[i], width=width,\n",
    "                         label=label,\n",
    "                         color=color,\n",
    "                         align=('center' if nested else 'edge'))\n",
    "            if bar_labels is not None:\n",
    "                autolabel(bar, ax, labels, oriented='v')\n",
    "\n",
    "        ax.set_xticks(np.arange(len(cols)))\n",
    "        ax.set_xticklabels(cols)\n",
    "        if not length_label=='':\n",
    "            ax.set_ylabel(length_label)\n",
    "    elif orient == 'h':\n",
    "        for i, lab in enumerate(bars):\n",
    "            label = (bars[i] if plots_labels is None else plots_labels[i])\n",
    "            y = np.arange(len(cols))\n",
    "            height = width\n",
    "            bar = ax.barh(y=y + height * (i - len(bars) / 2), width=cells[i], height=width,\n",
    "                          label=label,\n",
    "                          color=plots_colors[i],\n",
    "                          align=('center' if nested else 'edge'))\n",
    "            if bar_labels is not None:\n",
    "                autolabel(bar, ax, labels, oriented='h')\n",
    "\n",
    "        ax.set_yticks(np.arange(len(cols)))\n",
    "        ax.set_yticklabels(cols)\n",
    "        if not length_label=='':\n",
    "            ax.set_xlabel(length_label)\n",
    "    else:\n",
    "        raise ValueError('orient parameter value error. expected v or h ')\n",
    "\n",
    "    if not title == '':\n",
    "        ttl = ax.title\n",
    "        ttl.set_position([.5, 1.07])\n",
    "        ax.set_title(title)\n",
    "    if legend_loc is not None:\n",
    "        ax.legend(loc=legend_loc)\n",
    "    else:\n",
    "        ax.legend().set_visible(False)\n",
    "\n",
    "    if spines is None:\n",
    "        spines = {'left': True,\n",
    "                  'right': True,\n",
    "                  'top': True,\n",
    "                  'bottom': True}\n",
    "    for i in list(spines.keys()):\n",
    "        ax.spines[i].set_visible(spines[i])"
   ]
  },
  {
   "cell_type": "code",
   "execution_count": 467,
   "metadata": {},
   "outputs": [],
   "source": [
    "def autolabel(bars, ax, labels, oriented='v'):\n",
    "    \"\"\"Attach a text label displaying its height/width (depends of orientation).\"\"\"\n",
    "    for bar, label in zip(bars, labels):\n",
    "        if oriented == 'v':\n",
    "            height = bar.get_height()\n",
    "            ax.annotate(label,\n",
    "                        xy=(bar.get_x() + bar.get_width() / 2, height),\n",
    "                        xytext=(0, 2),\n",
    "                        textcoords=\"offset points\",\n",
    "                        ha='center')\n",
    "        else:\n",
    "            width = bar.get_width()\n",
    "            ax.annotate(label,\n",
    "                        xy=(width, bar.get_y() + bar.get_height() / 2),\n",
    "                        xytext=(1, 0),\n",
    "                        textcoords=\"offset points\",\n",
    "                        ha='left',\n",
    "                        va='center')"
   ]
  },
  {
   "cell_type": "code",
   "execution_count": 468,
   "metadata": {},
   "outputs": [],
   "source": [
    "def plot_correlation_matrix(ax, data, cmap='hot', diagonal=False, square=True):\n",
    "    mask = None\n",
    "    if diagonal:\n",
    "        mask = np.zeros_like(data, dtype=np.bool)\n",
    "        mask[np.triu_indices_from(mask)] = True\n",
    "    sns.heatmap(data, ax=ax,\n",
    "                mask=mask,\n",
    "                square=square,\n",
    "                linewidths=1.5,\n",
    "                cmap=cmap,\n",
    "                cbar_kws={'shrink': 1, 'ticks': [-1, -.5, 0, 0.5, 1]},\n",
    "                vmin=-1,\n",
    "                vmax=1,\n",
    "                annot=True,\n",
    "                annot_kws={'size': 8})\n",
    "    ax.set_xticklabels(ax.get_xticklabels(), rotation=45, horizontalalignment='right')"
   ]
  },
  {
   "cell_type": "code",
   "execution_count": 469,
   "metadata": {
    "jupyter": {
     "source_hidden": true
    }
   },
   "outputs": [
    {
     "data": {
      "image/png": "[encoded data removed]",
      "text/plain": [
       "<Figure size 576x576 with 2 Axes>"
      ]
     },
     "metadata": {
      "needs_background": "light"
     },
     "output_type": "display_data"
    },
    {
     "data": {
      "image/png": "[encoded data removed]",
      "text/plain": [
       "<Figure size 1800x21.6 with 1 Axes>"
      ]
     },
     "metadata": {
      "needs_background": "light"
     },
     "output_type": "display_data"
    },
    {
     "data": {
      "image/png": "[encoded data removed]",
      "text/plain": [
       "<Figure size 1800x432 with 6 Axes>"
      ]
     },
     "metadata": {
      "needs_background": "light"
     },
     "output_type": "display_data"
    },
    {
     "data": {
      "image/png": "[encoded data removed]",
      "text/plain": [
       "<Figure size 1800x21.6 with 1 Axes>"
      ]
     },
     "metadata": {
      "needs_background": "light"
     },
     "output_type": "display_data"
    },
    {
     "data": {
      "image/png": "[encoded data removed]",
      "text/plain": [
       "<Figure size 1800x432 with 6 Axes>"
      ]
     },
     "metadata": {
      "needs_background": "light"
     },
     "output_type": "display_data"
    },
    {
     "data": {
      "image/png": "[encoded data removed]",
      "text/plain": [
       "<Figure size 1800x21.6 with 1 Axes>"
      ]
     },
     "metadata": {
      "needs_background": "light"
     },
     "output_type": "display_data"
    },
    {
     "data": {
      "image/png": "[encoded data removed]",
      "text/plain": [
       "<Figure size 1800x432 with 6 Axes>"
      ]
     },
     "metadata": {
      "needs_background": "light"
     },
     "output_type": "display_data"
    },
    {
     "data": {
      "image/png": "[encoded data removed]",
      "text/plain": [
       "<Figure size 1728x21.6 with 1 Axes>"
      ]
     },
     "metadata": {
      "needs_background": "light"
     },
     "output_type": "display_data"
    },
    {
     "data": {
      "image/png": "[encoded data removed]",
      "text/plain": [
       "<Figure size 1728x216 with 2 Axes>"
      ]
     },
     "metadata": {
      "needs_background": "light"
     },
     "output_type": "display_data"
    },
    {
     "data": {
      "image/png": "[encoded data removed]",
      "text/plain": [
       "<Figure size 1728x21.6 with 1 Axes>"
      ]
     },
     "metadata": {
      "needs_background": "light"
     },
     "output_type": "display_data"
    },
    {
     "data": {
      "image/png": "[encoded data removed]",
      "text/plain": [
       "<Figure size 1728x216 with 2 Axes>"
      ]
     },
     "metadata": {
      "needs_background": "light"
     },
     "output_type": "display_data"
    },
    {
     "data": {
      "image/png": "[encoded data removed]",
      "text/plain": [
       "<Figure size 1728x21.6 with 1 Axes>"
      ]
     },
     "metadata": {
      "needs_background": "light"
     },
     "output_type": "display_data"
    },
    {
     "data": {
      "image/png": "[encoded data removed]",
      "text/plain": [
       "<Figure size 1728x216 with 2 Axes>"
      ]
     },
     "metadata": {
      "needs_background": "light"
     },
     "output_type": "display_data"
    }
   ],
   "source": [
    "#plot correlation matrix\n",
    "fig = plt.figure()\n",
    "fig.set_size_inches(8, 8)\n",
    "corr_matrix = data.corr()\n",
    "plot_correlation_matrix(ax=fig.add_subplot(1,1,1),\n",
    "                              data=corr_matrix,\n",
    "                             cmap='coolwarm')\n",
    "\n",
    "\n",
    "grd = list(data_cat.columns)\n",
    "grd_n = len(grd)\n",
    "grd_cols_n = 5\n",
    "grd_rows_n = int(math.ceil(grd_n / grd_cols_n))\n",
    "\n",
    "plt_h = 3\n",
    "plt_w = 5\n",
    "\n",
    "fig_ttl = plt.figure()\n",
    "fig_ttl.set_size_inches(plt_w * grd_cols_n, 0.3)\n",
    "ax0 = fig_ttl.add_subplot()\n",
    "ax0.text(0.5, 0.5, 'Categorical Variables (all)', fontsize=14, horizontalalignment='center', verticalalignment='center')\n",
    "ax0.axis('off')\n",
    "\n",
    "fig = plt.figure()\n",
    "fig.set_size_inches(plt_w * grd_cols_n, plt_h * grd_rows_n)\n",
    "gs = gridspec.GridSpec(grd_rows_n, grd_cols_n, figure=fig, wspace=0.3, hspace=0.5)\n",
    "\n",
    "for idx, col in enumerate(data_cat.columns):\n",
    "    freq = []\n",
    "    frc = []\n",
    "    for i in np.sort(data_cat[col].unique()):\n",
    "        n = len(data.loc[data[col]==i, col].index)\n",
    "        fr = n / len(data.index)\n",
    "        freq.append([n])\n",
    "        frc.append([fr])\n",
    "\n",
    "    df_freq = pd.DataFrame(freq, columns=['all'], index=np.sort(data_cat[col].unique())).T\n",
    "    df_frc = pd.DataFrame(frc, columns=['all'], index=data_cat[col].unique()).T\n",
    "    labs = ['{0:d} \\n ({1:.0%})'.format(i,j) for i, j in zip(df_freq.loc['all'], df_frc.loc['all'])]\n",
    "    plot_bar_diagram(ax=fig.add_subplot(gs[idx]),\n",
    "                           data=df_freq,\n",
    "                           bar_labels=[labs],\n",
    "                           plots_labels=None,\n",
    "                           plots_colors=['0.35'],\n",
    "                           title=None,\n",
    "                           length_label=col,\n",
    "                           orient='v',\n",
    "                           spines={'top': False, 'right': False})\n",
    "\n",
    "fig_ttl = plt.figure()\n",
    "fig_ttl.set_size_inches(plt_w * grd_cols_n, 0.3)\n",
    "ax0 = fig_ttl.add_subplot()\n",
    "ax0.text(0.5, 0.5, 'Categorical Variables (non-survivals)', fontsize=14, horizontalalignment='center', verticalalignment='center')\n",
    "ax0.axis('off')\n",
    "\n",
    "fig = plt.figure()\n",
    "fig.set_size_inches(plt_w * grd_cols_n, plt_h * grd_rows_n)\n",
    "gs = gridspec.GridSpec(grd_rows_n, grd_cols_n, figure=fig, wspace=0.3, hspace=0.5)\n",
    "\n",
    "for idx, col in enumerate(data_cat.columns):\n",
    "    freq = []\n",
    "    frc = []\n",
    "    for i in np.sort(data_cat[col].unique()):\n",
    "        n0 = len(data.loc[(data['Survived']==0) & (data[col]==i), col].index)\n",
    "        fr0 = n0 / N_surv0\n",
    "        freq.append([n0])\n",
    "        frc.append([fr0])\n",
    "\n",
    "    df_freq = pd.DataFrame(freq, columns=['non_survivals'], index=np.sort(data_cat[col].unique())).T\n",
    "    df_frc = pd.DataFrame(frc, columns=['non_survivals'], index=data_cat[col].unique()).T\n",
    "    labs0 = ['{0:d} \\n ({1:.0%})'.format(i,j) for i, j in zip(df_freq.loc['non_survivals'], df_frc.loc['non_survivals'])]\n",
    "    plot_bar_diagram(ax=fig.add_subplot(gs[idx]),\n",
    "                           data=df_freq,\n",
    "                           bar_labels=[labs0],\n",
    "                           plots_labels=None,\n",
    "                           plots_colors=['r'],\n",
    "                           title=None,\n",
    "                           length_label=col,\n",
    "                           orient='v',\n",
    "                           spines={'top': False, 'right': False})\n",
    "    \n",
    "fig_ttl = plt.figure()\n",
    "fig_ttl.set_size_inches(plt_w * grd_cols_n, 0.3)\n",
    "ax0 = fig_ttl.add_subplot()\n",
    "ax0.text(0.5, 0.5, 'Categorical Variables (survivals)', fontsize=14, horizontalalignment='center', verticalalignment='center')\n",
    "ax0.axis('off')\n",
    "\n",
    "fig = plt.figure()\n",
    "fig.set_size_inches(plt_w * grd_cols_n, plt_h * grd_rows_n)\n",
    "gs = gridspec.GridSpec(grd_rows_n, grd_cols_n, figure=fig, wspace=0.3, hspace=0.5)\n",
    "\n",
    "for idx, col in enumerate(data_cat.columns):\n",
    "    freq = []\n",
    "    frc = []\n",
    "    for i in np.sort(data_cat[col].unique()):\n",
    "        n1 = len(data.loc[(data['Survived']==1) & (data[col]==i), col].index)\n",
    "        fr1 = n1 / N_surv1\n",
    "        freq.append([n1])\n",
    "        frc.append([fr1])\n",
    "\n",
    "    df_freq = pd.DataFrame(freq, columns=['survivals'], index=np.sort(data_cat[col].unique())).T\n",
    "    df_frc = pd.DataFrame(frc, columns=['survivals'], index=data_cat[col].unique()).T\n",
    "    labs1 = ['{0:d} \\n ({1:.0%})'.format(i,j) for i, j in zip(df_freq.loc['survivals'], df_frc.loc['survivals'])]\n",
    "    plot_bar_diagram(ax=fig.add_subplot(gs[idx]),\n",
    "                           data=df_freq,\n",
    "                           bar_labels=[labs1],\n",
    "                           plots_labels=None,\n",
    "                           plots_colors=['b'],\n",
    "                           title=None,\n",
    "                           length_label=col,\n",
    "                           orient='v',\n",
    "                           spines={'top': False, 'right': False})\n",
    "    \n",
    "\n",
    "    \n",
    "grd = list(data_num.columns)\n",
    "grd_n = len(grd)\n",
    "grd_cols_n = 2\n",
    "grd_rows_n = int(math.ceil(grd_n / grd_cols_n))\n",
    "\n",
    "plt_h = 3\n",
    "plt_w = 12\n",
    "\n",
    "fig_ttl = plt.figure()\n",
    "fig_ttl.set_size_inches(plt_w * grd_cols_n, 0.3)\n",
    "ax0 = fig_ttl.add_subplot()\n",
    "ax0.text(0.5, 0.5, 'Numerical Variables (all)', fontsize=14, horizontalalignment='center', verticalalignment='center')\n",
    "ax0.axis('off')\n",
    "\n",
    "fig = plt.figure()\n",
    "fig.set_size_inches(plt_w * grd_cols_n, plt_h * grd_rows_n)\n",
    "gs = gridspec.GridSpec(grd_rows_n, grd_cols_n, figure=fig, wspace=0.3, hspace=0.5)\n",
    "\n",
    "for idx, col in enumerate(data_num.columns):\n",
    "    fig.add_subplot(gs[idx])\n",
    "    df = data[col].dropna()\n",
    "    ax = sns.distplot(df,\n",
    "                 bins=20, kde=False, norm_hist=False, rug=True, \n",
    "                 rug_kws={'color':'r'},\n",
    "                 hist_kws={'histtype':'bar', 'linewidth': 3, 'color': \"0\"})\n",
    "    ax.spines['top'].set_visible(False)\n",
    "    ax.spines['right'].set_visible(False)\n",
    "\n",
    "    skewness = '{0:.3f}'.format(sts.skew(df.values))\n",
    "    kurtosis = '{0:.3f}'.format(sts.kurtosis(df.values))\n",
    "    ttl = ax.title\n",
    "    ttl.set_position([.5, 1.07])\n",
    "    ax.set_title('Skewness = {0} \\n Kurtosis = {1}'.format(skewness, kurtosis))\n",
    "    \n",
    "fig_ttl = plt.figure()\n",
    "fig_ttl.set_size_inches(plt_w * grd_cols_n, 0.3)\n",
    "ax0 = fig_ttl.add_subplot()\n",
    "ax0.text(0.5, 0.5, 'Numerical Variables (NON-SURVIVALS)', fontsize=14, horizontalalignment='center', verticalalignment='center')\n",
    "ax0.axis('off')\n",
    "\n",
    "fig = plt.figure()\n",
    "fig.set_size_inches(plt_w * grd_cols_n, plt_h * grd_rows_n)\n",
    "gs = gridspec.GridSpec(grd_rows_n, grd_cols_n, figure=fig, wspace=0.3, hspace=0.5)\n",
    "\n",
    "for idx, col in enumerate(data_num.columns):\n",
    "    fig.add_subplot(gs[idx])\n",
    "    df = data.loc[data['Survived']==0, col].dropna()\n",
    "    ax = sns.distplot(df,\n",
    "                 bins=20, kde=False, norm_hist=False, rug=True, \n",
    "                 rug_kws={'color':'r'},\n",
    "                 hist_kws={'histtype':'bar', 'linewidth': 3, 'color': \"r\"})\n",
    "    ax.spines['top'].set_visible(False)\n",
    "    ax.spines['right'].set_visible(False)\n",
    "\n",
    "    skewness = '{0:.3f}'.format(sts.skew(df.values))\n",
    "    kurtosis = '{0:.3f}'.format(sts.kurtosis(df.values))\n",
    "    ttl = ax.title\n",
    "    ttl.set_position([.5, 1.07])\n",
    "    ax.set_title('Skewness = {0} \\n Kurtosis = {1}'.format(skewness, kurtosis))\n",
    "    \n",
    "fig_ttl = plt.figure()\n",
    "fig_ttl.set_size_inches(plt_w * grd_cols_n, 0.3)\n",
    "ax0 = fig_ttl.add_subplot()\n",
    "ax0.text(0.5, 0.5, 'Numerical Variables (SURVIVALS)', fontsize=14, horizontalalignment='center', verticalalignment='center')\n",
    "ax0.axis('off')\n",
    "\n",
    "fig = plt.figure()\n",
    "fig.set_size_inches(plt_w * grd_cols_n, plt_h * grd_rows_n)\n",
    "gs = gridspec.GridSpec(grd_rows_n, grd_cols_n, figure=fig, wspace=0.3, hspace=0.5)\n",
    "\n",
    "for idx, col in enumerate(data_num.columns):\n",
    "    fig.add_subplot(gs[idx])\n",
    "    df = data.loc[data['Survived']==1, col].dropna()\n",
    "    ax = sns.distplot(df,\n",
    "                 bins=20, kde=False, norm_hist=False, rug=True, \n",
    "                 rug_kws={'color':'r'},\n",
    "                 hist_kws={'histtype':'bar', 'linewidth': 3, 'color': \"b\"})\n",
    "    ax.spines['top'].set_visible(False)\n",
    "    ax.spines['right'].set_visible(False)\n",
    "\n",
    "    skewness = '{0:.3f}'.format(sts.skew(df.values))\n",
    "    kurtosis = '{0:.3f}'.format(sts.kurtosis(df.values))\n",
    "    ttl = ax.title\n",
    "    ttl.set_position([.5, 1.07])\n",
    "    ax.set_title('Skewness = {0} \\n Kurtosis = {1}'.format(skewness, kurtosis))\n"
   ]
  },
  {
   "cell_type": "markdown",
   "metadata": {},
   "source": [
    "#### Define age intervals using clastering"
   ]
  },
  {
   "cell_type": "code",
   "execution_count": 470,
   "metadata": {},
   "outputs": [],
   "source": [
    "#Transform 'Age'\n",
    "df_age = data_train['Age'].dropna()\n",
    "\n",
    "age_trans = df_age.apply(lambda i: np.log(i+1)).to_frame()\n",
    "age_trans.columns = ['Age_trans']\n",
    "df_age = pd.concat([df_age.to_frame(), age_trans], axis=1)"
   ]
  },
  {
   "cell_type": "code",
   "execution_count": 471,
   "metadata": {},
   "outputs": [],
   "source": [
    "#Define clustering model\n",
    "age_clast_model = mix.BayesianGaussianMixture(n_components=2, covariance_type='spherical', tol=0.001, reg_covar=1e-06, max_iter=1000, n_init=1, \n",
    "                                 init_params='kmeans', weight_concentration_prior_type='dirichlet_distribution', \n",
    "                                 weight_concentration_prior=None, mean_precision_prior=None, mean_prior=None, \n",
    "                                 degrees_of_freedom_prior=None, covariance_prior=None, random_state=30)\n",
    "                                 \n",
    "#Predict class labels\n",
    "age_cls = pd.DataFrame(age_clast_model.fit_predict(np.array(df_age['Age_trans']).reshape(-1,1)), columns=['Age_cls'])\n",
    "age_cls = age_cls.astype(int)"
   ]
  },
  {
   "cell_type": "code",
   "execution_count": 472,
   "metadata": {},
   "outputs": [],
   "source": [
    "df_age = pd.concat([df_age.reset_index(), age_cls], axis=1).drop(columns='index')"
   ]
  },
  {
   "cell_type": "code",
   "execution_count": 473,
   "metadata": {
    "jupyter": {
     "source_hidden": true
    }
   },
   "outputs": [
    {
     "data": {
      "image/png": "[encoded data removed]",
      "text/plain": [
       "<Figure size 1152x288 with 2 Axes>"
      ]
     },
     "metadata": {
      "needs_background": "light"
     },
     "output_type": "display_data"
    }
   ],
   "source": [
    "fig = plt.figure()\n",
    "fig.set_size_inches(16,4)\n",
    "\n",
    "fig.add_subplot(1,2,1)\n",
    "ax = sns.scatterplot(x='Age_cls', y='Age_trans', data=df_age)\n",
    "ax.spines['top'].set_visible(False)\n",
    "ax.spines['right'].set_visible(False)\n",
    "ttl = ax.title\n",
    "ttl.set_position([.5, 1.07])\n",
    "a=ax.set_title('Clusters vs Age (transformed)')\n",
    "\n",
    "fig.add_subplot(1,2,2)\n",
    "ax = sns.scatterplot(x='Age_cls', y='Age', data=df_age)\n",
    "ax.spines['top'].set_visible(False)\n",
    "ax.spines['right'].set_visible(False)\n",
    "ttl = ax.title\n",
    "ttl.set_position([.5, 1.07])\n",
    "a=ax.set_title('Clusters vs Age (not transformed)')"
   ]
  },
  {
   "cell_type": "code",
   "execution_count": 474,
   "metadata": {
    "jupyter": {
     "source_hidden": true
    }
   },
   "outputs": [
    {
     "data": {
      "image/png": "[encoded data removed]",
      "text/plain": [
       "<Figure size 1728x144 with 2 Axes>"
      ]
     },
     "metadata": {
      "needs_background": "light"
     },
     "output_type": "display_data"
    }
   ],
   "source": [
    "grd = sorted(df_age['Age_cls'].unique())\n",
    "grd_n = len(grd)\n",
    "grd_cols_n = 2\n",
    "grd_rows_n = int(math.ceil(grd_n / grd_cols_n))\n",
    "\n",
    "plt_h = 2\n",
    "plt_w = 12\n",
    "\n",
    "\n",
    "fig = plt.figure()\n",
    "fig.set_size_inches(plt_w * grd_cols_n, plt_h * grd_rows_n)\n",
    "gs = gridspec.GridSpec(grd_rows_n, grd_cols_n, figure=fig, wspace=0.3, hspace=0.8)\n",
    "\n",
    "for idx, c in enumerate(grd):\n",
    "    fig.add_subplot(gs[idx])\n",
    "    df = df_age.loc[df_age['Age_cls']==c, 'Age_trans']\n",
    "    ax = sns.distplot(df,\n",
    "                 bins=25, kde=True, norm_hist=True, rug=True, \n",
    "                 rug_kws={'color':'r'},\n",
    "                 hist_kws={'histtype':'bar', 'linewidth': 3, 'color': \"b\"})\n",
    "    ax.spines['top'].set_visible(False)\n",
    "    ax.spines['right'].set_visible(False)\n",
    "\n",
    "    skewness = '{0:.3f}'.format(sts.skew(df.values))\n",
    "    kurtosis = '{0:.3f}'.format(sts.kurtosis(df.values))\n",
    "    ttl = ax.title\n",
    "    ttl.set_position([.5, 1.07])\n",
    "    ax.set_title('Class: {0}'.format(c))"
   ]
  },
  {
   "cell_type": "code",
   "execution_count": 475,
   "metadata": {
    "jupyter": {
     "source_hidden": true
    }
   },
   "outputs": [
    {
     "data": {
      "image/png": "[encoded data removed]",
      "text/plain": [
       "<Figure size 1728x144 with 2 Axes>"
      ]
     },
     "metadata": {
      "needs_background": "light"
     },
     "output_type": "display_data"
    }
   ],
   "source": [
    "grd = sorted(df_age['Age_cls'].unique())\n",
    "grd_n = len(grd)\n",
    "grd_cols_n = 2\n",
    "grd_rows_n = int(math.ceil(grd_n / grd_cols_n))\n",
    "\n",
    "plt_h = 2\n",
    "plt_w = 12\n",
    "\n",
    "\n",
    "fig = plt.figure()\n",
    "fig.set_size_inches(plt_w * grd_cols_n, plt_h * grd_rows_n)\n",
    "gs = gridspec.GridSpec(grd_rows_n, grd_cols_n, figure=fig, wspace=0.3, hspace=0.8)\n",
    "\n",
    "for idx, c in enumerate(grd):\n",
    "    fig.add_subplot(gs[idx])\n",
    "    df = df_age.loc[df_age['Age_cls']==c, 'Age']\n",
    "    ax = sns.distplot(df,\n",
    "                 bins=25, kde=True, norm_hist=True, rug=True, \n",
    "                 rug_kws={'color':'r'},\n",
    "                 hist_kws={'histtype':'bar', 'linewidth': 3, 'color': \"b\"})\n",
    "    ax.spines['top'].set_visible(False)\n",
    "    ax.spines['right'].set_visible(False)\n",
    "\n",
    "    skewness = '{0:.3f}'.format(sts.skew(df.values))\n",
    "    kurtosis = '{0:.3f}'.format(sts.kurtosis(df.values))\n",
    "    ttl = ax.title\n",
    "    ttl.set_position([.5, 1.07])\n",
    "    ax.set_title('Class: {0}'.format(c))"
   ]
  },
  {
   "cell_type": "code",
   "execution_count": 476,
   "metadata": {},
   "outputs": [],
   "source": [
    "def age_transformer(data, model):\n",
    "    age_trans = np.array(data['Age'].apply(lambda i: np.log(i+1))).reshape(-1,1)\n",
    "    age_cls = pd.DataFrame(model.fit_predict(age_trans), columns=['Age_cls'])\n",
    "    age_cls = age_cls.astype(int)\n",
    "    data = pd.concat([data.drop(columns=['Age']).reset_index(), pd.DataFrame(age_trans, columns=['Age'])], axis=1).drop(columns='index')\n",
    "    return pd.concat([data.reset_index(), age_cls], axis=1).drop(columns='index')"
   ]
  },
  {
   "cell_type": "markdown",
   "metadata": {},
   "source": [
    "#### Replace 'Name' with encoded titles"
   ]
  },
  {
   "cell_type": "code",
   "execution_count": 477,
   "metadata": {},
   "outputs": [],
   "source": [
    "#Concatinate train & test data\n",
    "data_tot = pd.concat([data_train, data_test], ignore_index=True)"
   ]
  },
  {
   "cell_type": "code",
   "execution_count": 478,
   "metadata": {},
   "outputs": [],
   "source": [
    "#Encode 'Name'\n",
    "def name_encoder(data):\n",
    "    data_encoded = []\n",
    "    for i in data['Name']:\n",
    "        lname0 = i.split(',')[0].strip() #last name\n",
    "        ttl = i.split(',')[1].split('.')[0].strip() #title\n",
    "        lname1 = (i.split('(')[-1].split(')')[0].split()[-1].strip() if '(' in i else '').replace('\\\"','') #second last name\n",
    "        data_encoded.append([lname0, lname1, ttl])\n",
    "    data_encoded = pd.DataFrame(data_encoded, columns=['lname0', 'lname1', 'ttl'], index=data.index)\n",
    "    return pd.concat([data.reset_index(), data_encoded], axis=1).drop(columns=['index'])"
   ]
  },
  {
   "cell_type": "code",
   "execution_count": 479,
   "metadata": {},
   "outputs": [
    {
     "data": {
      "text/html": [
       "<div>\n",
       "<style scoped>\n",
       "    .dataframe tbody tr th:only-of-type {\n",
       "        vertical-align: middle;\n",
       "    }\n",
       "\n",
       "    .dataframe tbody tr th {\n",
       "        vertical-align: top;\n",
       "    }\n",
       "\n",
       "    .dataframe thead th {\n",
       "        text-align: right;\n",
       "    }\n",
       "</style>\n",
       "<table border=\"1\" class=\"dataframe\">\n",
       "  <thead>\n",
       "    <tr style=\"text-align: right;\">\n",
       "      <th></th>\n",
       "      <th>PassengerId</th>\n",
       "      <th>Survived</th>\n",
       "      <th>Pclass</th>\n",
       "      <th>Name</th>\n",
       "      <th>Sex</th>\n",
       "      <th>Age</th>\n",
       "      <th>SibSp</th>\n",
       "      <th>Parch</th>\n",
       "      <th>Ticket</th>\n",
       "      <th>Fare</th>\n",
       "      <th>Cabin</th>\n",
       "      <th>Embarked</th>\n",
       "      <th>lname0</th>\n",
       "      <th>lname1</th>\n",
       "      <th>ttl</th>\n",
       "    </tr>\n",
       "  </thead>\n",
       "  <tbody>\n",
       "    <tr>\n",
       "      <th>0</th>\n",
       "      <td>1</td>\n",
       "      <td>0.0</td>\n",
       "      <td>3</td>\n",
       "      <td>Braund, Mr. Owen Harris</td>\n",
       "      <td>male</td>\n",
       "      <td>22.0</td>\n",
       "      <td>1</td>\n",
       "      <td>0</td>\n",
       "      <td>A/5 21171</td>\n",
       "      <td>7.2500</td>\n",
       "      <td>NaN</td>\n",
       "      <td>S</td>\n",
       "      <td>Braund</td>\n",
       "      <td></td>\n",
       "      <td>Mr</td>\n",
       "    </tr>\n",
       "    <tr>\n",
       "      <th>1</th>\n",
       "      <td>2</td>\n",
       "      <td>1.0</td>\n",
       "      <td>1</td>\n",
       "      <td>Cumings, Mrs. John Bradley (Florence Briggs Th...</td>\n",
       "      <td>female</td>\n",
       "      <td>38.0</td>\n",
       "      <td>1</td>\n",
       "      <td>0</td>\n",
       "      <td>PC 17599</td>\n",
       "      <td>71.2833</td>\n",
       "      <td>C85</td>\n",
       "      <td>C</td>\n",
       "      <td>Cumings</td>\n",
       "      <td>Thayer</td>\n",
       "      <td>Mrs</td>\n",
       "    </tr>\n",
       "    <tr>\n",
       "      <th>2</th>\n",
       "      <td>3</td>\n",
       "      <td>1.0</td>\n",
       "      <td>3</td>\n",
       "      <td>Heikkinen, Miss. Laina</td>\n",
       "      <td>female</td>\n",
       "      <td>26.0</td>\n",
       "      <td>0</td>\n",
       "      <td>0</td>\n",
       "      <td>STON/O2. 3101282</td>\n",
       "      <td>7.9250</td>\n",
       "      <td>NaN</td>\n",
       "      <td>S</td>\n",
       "      <td>Heikkinen</td>\n",
       "      <td></td>\n",
       "      <td>Miss</td>\n",
       "    </tr>\n",
       "    <tr>\n",
       "      <th>3</th>\n",
       "      <td>4</td>\n",
       "      <td>1.0</td>\n",
       "      <td>1</td>\n",
       "      <td>Futrelle, Mrs. Jacques Heath (Lily May Peel)</td>\n",
       "      <td>female</td>\n",
       "      <td>35.0</td>\n",
       "      <td>1</td>\n",
       "      <td>0</td>\n",
       "      <td>113803</td>\n",
       "      <td>53.1000</td>\n",
       "      <td>C123</td>\n",
       "      <td>S</td>\n",
       "      <td>Futrelle</td>\n",
       "      <td>Peel</td>\n",
       "      <td>Mrs</td>\n",
       "    </tr>\n",
       "    <tr>\n",
       "      <th>4</th>\n",
       "      <td>5</td>\n",
       "      <td>0.0</td>\n",
       "      <td>3</td>\n",
       "      <td>Allen, Mr. William Henry</td>\n",
       "      <td>male</td>\n",
       "      <td>35.0</td>\n",
       "      <td>0</td>\n",
       "      <td>0</td>\n",
       "      <td>373450</td>\n",
       "      <td>8.0500</td>\n",
       "      <td>NaN</td>\n",
       "      <td>S</td>\n",
       "      <td>Allen</td>\n",
       "      <td></td>\n",
       "      <td>Mr</td>\n",
       "    </tr>\n",
       "  </tbody>\n",
       "</table>\n",
       "</div>"
      ],
      "text/plain": [
       "   PassengerId  Survived  Pclass  \\\n",
       "0            1       0.0       3   \n",
       "1            2       1.0       1   \n",
       "2            3       1.0       3   \n",
       "3            4       1.0       1   \n",
       "4            5       0.0       3   \n",
       "\n",
       "                                                Name     Sex   Age  SibSp  \\\n",
       "0                            Braund, Mr. Owen Harris    male  22.0      1   \n",
       "1  Cumings, Mrs. John Bradley (Florence Briggs Th...  female  38.0      1   \n",
       "2                             Heikkinen, Miss. Laina  female  26.0      0   \n",
       "3       Futrelle, Mrs. Jacques Heath (Lily May Peel)  female  35.0      1   \n",
       "4                           Allen, Mr. William Henry    male  35.0      0   \n",
       "\n",
       "   Parch            Ticket     Fare Cabin Embarked     lname0  lname1   ttl  \n",
       "0      0         A/5 21171   7.2500   NaN        S     Braund            Mr  \n",
       "1      0          PC 17599  71.2833   C85        C    Cumings  Thayer   Mrs  \n",
       "2      0  STON/O2. 3101282   7.9250   NaN        S  Heikkinen          Miss  \n",
       "3      0            113803  53.1000  C123        S   Futrelle    Peel   Mrs  \n",
       "4      0            373450   8.0500   NaN        S      Allen            Mr  "
      ]
     },
     "execution_count": 479,
     "metadata": {},
     "output_type": "execute_result"
    }
   ],
   "source": [
    "data_tot = name_encoder(data_tot)\n",
    "data_tot.head(5)"
   ]
  },
  {
   "cell_type": "code",
   "execution_count": 480,
   "metadata": {},
   "outputs": [
    {
     "data": {
      "text/html": [
       "<div>\n",
       "<style scoped>\n",
       "    .dataframe tbody tr th:only-of-type {\n",
       "        vertical-align: middle;\n",
       "    }\n",
       "\n",
       "    .dataframe tbody tr th {\n",
       "        vertical-align: top;\n",
       "    }\n",
       "\n",
       "    .dataframe thead th {\n",
       "        text-align: right;\n",
       "    }\n",
       "</style>\n",
       "<table border=\"1\" class=\"dataframe\">\n",
       "  <thead>\n",
       "    <tr style=\"text-align: right;\">\n",
       "      <th></th>\n",
       "      <th>0</th>\n",
       "      <th>1</th>\n",
       "      <th>2</th>\n",
       "      <th>3</th>\n",
       "      <th>4</th>\n",
       "      <th>5</th>\n",
       "      <th>6</th>\n",
       "      <th>7</th>\n",
       "      <th>8</th>\n",
       "      <th>9</th>\n",
       "      <th>10</th>\n",
       "      <th>11</th>\n",
       "      <th>12</th>\n",
       "      <th>13</th>\n",
       "      <th>14</th>\n",
       "      <th>15</th>\n",
       "      <th>16</th>\n",
       "      <th>17</th>\n",
       "    </tr>\n",
       "  </thead>\n",
       "  <tbody>\n",
       "    <tr>\n",
       "      <th>ttl</th>\n",
       "      <td>Mr</td>\n",
       "      <td>Mrs</td>\n",
       "      <td>Miss</td>\n",
       "      <td>Master</td>\n",
       "      <td>Don</td>\n",
       "      <td>Rev</td>\n",
       "      <td>Dr</td>\n",
       "      <td>Mme</td>\n",
       "      <td>Ms</td>\n",
       "      <td>Major</td>\n",
       "      <td>Lady</td>\n",
       "      <td>Sir</td>\n",
       "      <td>Mlle</td>\n",
       "      <td>Col</td>\n",
       "      <td>Capt</td>\n",
       "      <td>the Countess</td>\n",
       "      <td>Jonkheer</td>\n",
       "      <td>Dona</td>\n",
       "    </tr>\n",
       "    <tr>\n",
       "      <th>ttl_n</th>\n",
       "      <td>757</td>\n",
       "      <td>197</td>\n",
       "      <td>260</td>\n",
       "      <td>61</td>\n",
       "      <td>1</td>\n",
       "      <td>8</td>\n",
       "      <td>8</td>\n",
       "      <td>1</td>\n",
       "      <td>2</td>\n",
       "      <td>2</td>\n",
       "      <td>1</td>\n",
       "      <td>1</td>\n",
       "      <td>2</td>\n",
       "      <td>4</td>\n",
       "      <td>1</td>\n",
       "      <td>1</td>\n",
       "      <td>1</td>\n",
       "      <td>1</td>\n",
       "    </tr>\n",
       "  </tbody>\n",
       "</table>\n",
       "</div>"
      ],
      "text/plain": [
       "         0    1     2       3    4    5   6    7   8      9    10   11    12  \\\n",
       "ttl     Mr  Mrs  Miss  Master  Don  Rev  Dr  Mme  Ms  Major  Lady  Sir  Mlle   \n",
       "ttl_n  757  197   260      61    1    8   8    1   2      2     1    1     2   \n",
       "\n",
       "        13    14            15        16    17  \n",
       "ttl    Col  Capt  the Countess  Jonkheer  Dona  \n",
       "ttl_n    4     1             1         1     1  "
      ]
     },
     "execution_count": 480,
     "metadata": {},
     "output_type": "execute_result"
    }
   ],
   "source": [
    "#Find unique titles and their counts\n",
    "ttl = data_tot['ttl'].unique()\n",
    "ttl = pd.DataFrame([[i, len(data_tot.loc[data_tot['ttl']==i])] for i in ttl], columns=['ttl', 'ttl_n'])\n",
    "ttl.T"
   ]
  },
  {
   "cell_type": "code",
   "execution_count": 481,
   "metadata": {},
   "outputs": [
    {
     "data": {
      "text/html": [
       "<div>\n",
       "<style scoped>\n",
       "    .dataframe tbody tr th:only-of-type {\n",
       "        vertical-align: middle;\n",
       "    }\n",
       "\n",
       "    .dataframe tbody tr th {\n",
       "        vertical-align: top;\n",
       "    }\n",
       "\n",
       "    .dataframe thead th {\n",
       "        text-align: right;\n",
       "    }\n",
       "</style>\n",
       "<table border=\"1\" class=\"dataframe\">\n",
       "  <thead>\n",
       "    <tr style=\"text-align: right;\">\n",
       "      <th></th>\n",
       "      <th>PassengerId</th>\n",
       "      <th>Survived</th>\n",
       "      <th>Pclass</th>\n",
       "      <th>Name</th>\n",
       "      <th>Sex</th>\n",
       "      <th>Age</th>\n",
       "      <th>SibSp</th>\n",
       "      <th>Parch</th>\n",
       "      <th>Ticket</th>\n",
       "      <th>Fare</th>\n",
       "      <th>Cabin</th>\n",
       "      <th>Embarked</th>\n",
       "      <th>lname0</th>\n",
       "      <th>lname1</th>\n",
       "      <th>ttl</th>\n",
       "    </tr>\n",
       "  </thead>\n",
       "  <tbody>\n",
       "    <tr>\n",
       "      <th>245</th>\n",
       "      <td>246</td>\n",
       "      <td>0.0</td>\n",
       "      <td>1</td>\n",
       "      <td>Minahan, Dr. William Edward</td>\n",
       "      <td>male</td>\n",
       "      <td>44.0</td>\n",
       "      <td>2</td>\n",
       "      <td>0</td>\n",
       "      <td>19928</td>\n",
       "      <td>90.0000</td>\n",
       "      <td>C78</td>\n",
       "      <td>Q</td>\n",
       "      <td>Minahan</td>\n",
       "      <td></td>\n",
       "      <td>Dr</td>\n",
       "    </tr>\n",
       "    <tr>\n",
       "      <th>317</th>\n",
       "      <td>318</td>\n",
       "      <td>0.0</td>\n",
       "      <td>2</td>\n",
       "      <td>Moraweck, Dr. Ernest</td>\n",
       "      <td>male</td>\n",
       "      <td>54.0</td>\n",
       "      <td>0</td>\n",
       "      <td>0</td>\n",
       "      <td>29011</td>\n",
       "      <td>14.0000</td>\n",
       "      <td>NaN</td>\n",
       "      <td>S</td>\n",
       "      <td>Moraweck</td>\n",
       "      <td></td>\n",
       "      <td>Dr</td>\n",
       "    </tr>\n",
       "    <tr>\n",
       "      <th>398</th>\n",
       "      <td>399</td>\n",
       "      <td>0.0</td>\n",
       "      <td>2</td>\n",
       "      <td>Pain, Dr. Alfred</td>\n",
       "      <td>male</td>\n",
       "      <td>23.0</td>\n",
       "      <td>0</td>\n",
       "      <td>0</td>\n",
       "      <td>244278</td>\n",
       "      <td>10.5000</td>\n",
       "      <td>NaN</td>\n",
       "      <td>S</td>\n",
       "      <td>Pain</td>\n",
       "      <td></td>\n",
       "      <td>Dr</td>\n",
       "    </tr>\n",
       "    <tr>\n",
       "      <th>632</th>\n",
       "      <td>633</td>\n",
       "      <td>1.0</td>\n",
       "      <td>1</td>\n",
       "      <td>Stahelin-Maeglin, Dr. Max</td>\n",
       "      <td>male</td>\n",
       "      <td>32.0</td>\n",
       "      <td>0</td>\n",
       "      <td>0</td>\n",
       "      <td>13214</td>\n",
       "      <td>30.5000</td>\n",
       "      <td>B50</td>\n",
       "      <td>C</td>\n",
       "      <td>Stahelin-Maeglin</td>\n",
       "      <td></td>\n",
       "      <td>Dr</td>\n",
       "    </tr>\n",
       "    <tr>\n",
       "      <th>660</th>\n",
       "      <td>661</td>\n",
       "      <td>1.0</td>\n",
       "      <td>1</td>\n",
       "      <td>Frauenthal, Dr. Henry William</td>\n",
       "      <td>male</td>\n",
       "      <td>50.0</td>\n",
       "      <td>2</td>\n",
       "      <td>0</td>\n",
       "      <td>PC 17611</td>\n",
       "      <td>133.6500</td>\n",
       "      <td>NaN</td>\n",
       "      <td>S</td>\n",
       "      <td>Frauenthal</td>\n",
       "      <td></td>\n",
       "      <td>Dr</td>\n",
       "    </tr>\n",
       "    <tr>\n",
       "      <th>766</th>\n",
       "      <td>767</td>\n",
       "      <td>0.0</td>\n",
       "      <td>1</td>\n",
       "      <td>Brewe, Dr. Arthur Jackson</td>\n",
       "      <td>male</td>\n",
       "      <td>NaN</td>\n",
       "      <td>0</td>\n",
       "      <td>0</td>\n",
       "      <td>112379</td>\n",
       "      <td>39.6000</td>\n",
       "      <td>NaN</td>\n",
       "      <td>C</td>\n",
       "      <td>Brewe</td>\n",
       "      <td></td>\n",
       "      <td>Dr</td>\n",
       "    </tr>\n",
       "    <tr>\n",
       "      <th>796</th>\n",
       "      <td>797</td>\n",
       "      <td>1.0</td>\n",
       "      <td>1</td>\n",
       "      <td>Leader, Dr. Alice (Farnham)</td>\n",
       "      <td>female</td>\n",
       "      <td>49.0</td>\n",
       "      <td>0</td>\n",
       "      <td>0</td>\n",
       "      <td>17465</td>\n",
       "      <td>25.9292</td>\n",
       "      <td>D17</td>\n",
       "      <td>S</td>\n",
       "      <td>Leader</td>\n",
       "      <td>Farnham</td>\n",
       "      <td>Dr</td>\n",
       "    </tr>\n",
       "    <tr>\n",
       "      <th>1184</th>\n",
       "      <td>1185</td>\n",
       "      <td>NaN</td>\n",
       "      <td>1</td>\n",
       "      <td>Dodge, Dr. Washington</td>\n",
       "      <td>male</td>\n",
       "      <td>53.0</td>\n",
       "      <td>1</td>\n",
       "      <td>1</td>\n",
       "      <td>33638</td>\n",
       "      <td>81.8583</td>\n",
       "      <td>A34</td>\n",
       "      <td>S</td>\n",
       "      <td>Dodge</td>\n",
       "      <td></td>\n",
       "      <td>Dr</td>\n",
       "    </tr>\n",
       "  </tbody>\n",
       "</table>\n",
       "</div>"
      ],
      "text/plain": [
       "      PassengerId  Survived  Pclass                           Name     Sex  \\\n",
       "245           246       0.0       1    Minahan, Dr. William Edward    male   \n",
       "317           318       0.0       2           Moraweck, Dr. Ernest    male   \n",
       "398           399       0.0       2               Pain, Dr. Alfred    male   \n",
       "632           633       1.0       1      Stahelin-Maeglin, Dr. Max    male   \n",
       "660           661       1.0       1  Frauenthal, Dr. Henry William    male   \n",
       "766           767       0.0       1      Brewe, Dr. Arthur Jackson    male   \n",
       "796           797       1.0       1    Leader, Dr. Alice (Farnham)  female   \n",
       "1184         1185       NaN       1          Dodge, Dr. Washington    male   \n",
       "\n",
       "       Age  SibSp  Parch    Ticket      Fare Cabin Embarked            lname0  \\\n",
       "245   44.0      2      0     19928   90.0000   C78        Q           Minahan   \n",
       "317   54.0      0      0     29011   14.0000   NaN        S          Moraweck   \n",
       "398   23.0      0      0    244278   10.5000   NaN        S              Pain   \n",
       "632   32.0      0      0     13214   30.5000   B50        C  Stahelin-Maeglin   \n",
       "660   50.0      2      0  PC 17611  133.6500   NaN        S        Frauenthal   \n",
       "766    NaN      0      0    112379   39.6000   NaN        C             Brewe   \n",
       "796   49.0      0      0     17465   25.9292   D17        S            Leader   \n",
       "1184  53.0      1      1     33638   81.8583   A34        S             Dodge   \n",
       "\n",
       "       lname1 ttl  \n",
       "245            Dr  \n",
       "317            Dr  \n",
       "398            Dr  \n",
       "632            Dr  \n",
       "660            Dr  \n",
       "766            Dr  \n",
       "796   Farnham  Dr  \n",
       "1184           Dr  "
      ]
     },
     "execution_count": 481,
     "metadata": {},
     "output_type": "execute_result"
    }
   ],
   "source": [
    "#Explore samples with 'Dr' title\n",
    "data_tot.loc[data_tot['ttl']=='Dr']"
   ]
  },
  {
   "cell_type": "markdown",
   "metadata": {},
   "source": [
    "_**There is only one woman with title 'Dr'._"
   ]
  },
  {
   "cell_type": "markdown",
   "metadata": {},
   "source": [
    "The function below will replace each person's name with encoded title. Instead of using all unique titles, I will teke only these: 'Mr', 'Mrs', 'Miss' and 'Master'."
   ]
  },
  {
   "cell_type": "code",
   "execution_count": 482,
   "metadata": {},
   "outputs": [],
   "source": [
    "def title_encoder(data):\n",
    "    mask = {'Don':'Mr',\n",
    "            'Sir':'Mr',\n",
    "            'Jonkheer':'Mr',\n",
    "            'Mme':'Mrs',\n",
    "            'Lady':'Mrs',\n",
    "            'the Countess':'Mrs',\n",
    "            'Dona':'Mrs',\n",
    "            'Mlle':'Miss',\n",
    "            'Ms':'Miss',\n",
    "            'Major':'Mr',\n",
    "            'Col':'Mr',\n",
    "            'Capt':'Mr',\n",
    "            'Rev':'Mr',\n",
    "            'Dr':'Mr'}\n",
    "    \n",
    "    df = data['ttl'].apply(lambda i: mask[i] if i in mask else i)\n",
    "    data = pd.concat([data.drop(columns=['ttl']), df], axis=1)\n",
    "    if 797 in data['PassengerId'].values:\n",
    "        data.loc[data_tot['PassengerId']==797, 'ttl'] = 'Mrs'\n",
    "    mask = {'Mr':1, 'Mrs':2, 'Miss':3, 'Master':4}\n",
    "    df = data['ttl'].apply(lambda i: mask[i])\n",
    "    return pd.concat([data.drop(columns=['ttl']), df], axis=1)"
   ]
  },
  {
   "cell_type": "code",
   "execution_count": 483,
   "metadata": {},
   "outputs": [],
   "source": [
    "data_tot = title_encoder(data_tot)"
   ]
  },
  {
   "cell_type": "markdown",
   "metadata": {},
   "source": [
    "#### Explore missing values for 'Embarked'"
   ]
  },
  {
   "cell_type": "code",
   "execution_count": 484,
   "metadata": {},
   "outputs": [
    {
     "data": {
      "text/html": [
       "<div>\n",
       "<style scoped>\n",
       "    .dataframe tbody tr th:only-of-type {\n",
       "        vertical-align: middle;\n",
       "    }\n",
       "\n",
       "    .dataframe tbody tr th {\n",
       "        vertical-align: top;\n",
       "    }\n",
       "\n",
       "    .dataframe thead th {\n",
       "        text-align: right;\n",
       "    }\n",
       "</style>\n",
       "<table border=\"1\" class=\"dataframe\">\n",
       "  <thead>\n",
       "    <tr style=\"text-align: right;\">\n",
       "      <th></th>\n",
       "      <th>PassengerId</th>\n",
       "      <th>Survived</th>\n",
       "      <th>Pclass</th>\n",
       "      <th>Name</th>\n",
       "      <th>Sex</th>\n",
       "      <th>Age</th>\n",
       "      <th>SibSp</th>\n",
       "      <th>Parch</th>\n",
       "      <th>Ticket</th>\n",
       "      <th>Fare</th>\n",
       "      <th>Cabin</th>\n",
       "      <th>Embarked</th>\n",
       "      <th>lname0</th>\n",
       "      <th>lname1</th>\n",
       "      <th>ttl</th>\n",
       "    </tr>\n",
       "  </thead>\n",
       "  <tbody>\n",
       "    <tr>\n",
       "      <th>61</th>\n",
       "      <td>62</td>\n",
       "      <td>1.0</td>\n",
       "      <td>1</td>\n",
       "      <td>Icard, Miss. Amelie</td>\n",
       "      <td>female</td>\n",
       "      <td>38.0</td>\n",
       "      <td>0</td>\n",
       "      <td>0</td>\n",
       "      <td>113572</td>\n",
       "      <td>80.0</td>\n",
       "      <td>B28</td>\n",
       "      <td>NaN</td>\n",
       "      <td>Icard</td>\n",
       "      <td></td>\n",
       "      <td>3</td>\n",
       "    </tr>\n",
       "    <tr>\n",
       "      <th>829</th>\n",
       "      <td>830</td>\n",
       "      <td>1.0</td>\n",
       "      <td>1</td>\n",
       "      <td>Stone, Mrs. George Nelson (Martha Evelyn)</td>\n",
       "      <td>female</td>\n",
       "      <td>62.0</td>\n",
       "      <td>0</td>\n",
       "      <td>0</td>\n",
       "      <td>113572</td>\n",
       "      <td>80.0</td>\n",
       "      <td>B28</td>\n",
       "      <td>NaN</td>\n",
       "      <td>Stone</td>\n",
       "      <td>Evelyn</td>\n",
       "      <td>2</td>\n",
       "    </tr>\n",
       "  </tbody>\n",
       "</table>\n",
       "</div>"
      ],
      "text/plain": [
       "     PassengerId  Survived  Pclass                                       Name  \\\n",
       "61            62       1.0       1                        Icard, Miss. Amelie   \n",
       "829          830       1.0       1  Stone, Mrs. George Nelson (Martha Evelyn)   \n",
       "\n",
       "        Sex   Age  SibSp  Parch  Ticket  Fare Cabin Embarked lname0  lname1  \\\n",
       "61   female  38.0      0      0  113572  80.0   B28      NaN  Icard           \n",
       "829  female  62.0      0      0  113572  80.0   B28      NaN  Stone  Evelyn   \n",
       "\n",
       "     ttl  \n",
       "61     3  \n",
       "829    2  "
      ]
     },
     "execution_count": 484,
     "metadata": {},
     "output_type": "execute_result"
    }
   ],
   "source": [
    "data_tot.loc[data_tot['Embarked'].isnull()]"
   ]
  },
  {
   "cell_type": "markdown",
   "metadata": {},
   "source": [
    "Display samples with similar ticket number"
   ]
  },
  {
   "cell_type": "code",
   "execution_count": 485,
   "metadata": {},
   "outputs": [
    {
     "data": {
      "text/html": [
       "<div>\n",
       "<style scoped>\n",
       "    .dataframe tbody tr th:only-of-type {\n",
       "        vertical-align: middle;\n",
       "    }\n",
       "\n",
       "    .dataframe tbody tr th {\n",
       "        vertical-align: top;\n",
       "    }\n",
       "\n",
       "    .dataframe thead th {\n",
       "        text-align: right;\n",
       "    }\n",
       "</style>\n",
       "<table border=\"1\" class=\"dataframe\">\n",
       "  <thead>\n",
       "    <tr style=\"text-align: right;\">\n",
       "      <th></th>\n",
       "      <th>PassengerId</th>\n",
       "      <th>Survived</th>\n",
       "      <th>Pclass</th>\n",
       "      <th>Name</th>\n",
       "      <th>Sex</th>\n",
       "      <th>Age</th>\n",
       "      <th>SibSp</th>\n",
       "      <th>Parch</th>\n",
       "      <th>Ticket</th>\n",
       "      <th>Fare</th>\n",
       "      <th>Cabin</th>\n",
       "      <th>Embarked</th>\n",
       "      <th>lname0</th>\n",
       "      <th>lname1</th>\n",
       "      <th>ttl</th>\n",
       "    </tr>\n",
       "  </thead>\n",
       "  <tbody>\n",
       "    <tr>\n",
       "      <th>782</th>\n",
       "      <td>783</td>\n",
       "      <td>0.0</td>\n",
       "      <td>1</td>\n",
       "      <td>Long, Mr. Milton Clyde</td>\n",
       "      <td>male</td>\n",
       "      <td>29.0</td>\n",
       "      <td>0</td>\n",
       "      <td>0</td>\n",
       "      <td>113501</td>\n",
       "      <td>30.0000</td>\n",
       "      <td>D6</td>\n",
       "      <td>S</td>\n",
       "      <td>Long</td>\n",
       "      <td></td>\n",
       "      <td>1</td>\n",
       "    </tr>\n",
       "    <tr>\n",
       "      <th>377</th>\n",
       "      <td>378</td>\n",
       "      <td>0.0</td>\n",
       "      <td>1</td>\n",
       "      <td>Widener, Mr. Harry Elkins</td>\n",
       "      <td>male</td>\n",
       "      <td>27.0</td>\n",
       "      <td>0</td>\n",
       "      <td>2</td>\n",
       "      <td>113503</td>\n",
       "      <td>211.5000</td>\n",
       "      <td>C82</td>\n",
       "      <td>C</td>\n",
       "      <td>Widener</td>\n",
       "      <td></td>\n",
       "      <td>1</td>\n",
       "    </tr>\n",
       "    <tr>\n",
       "      <th>965</th>\n",
       "      <td>966</td>\n",
       "      <td>NaN</td>\n",
       "      <td>1</td>\n",
       "      <td>Geiger, Miss. Amalie</td>\n",
       "      <td>female</td>\n",
       "      <td>35.0</td>\n",
       "      <td>0</td>\n",
       "      <td>0</td>\n",
       "      <td>113503</td>\n",
       "      <td>211.5000</td>\n",
       "      <td>C130</td>\n",
       "      <td>C</td>\n",
       "      <td>Geiger</td>\n",
       "      <td></td>\n",
       "      <td>3</td>\n",
       "    </tr>\n",
       "    <tr>\n",
       "      <th>966</th>\n",
       "      <td>967</td>\n",
       "      <td>NaN</td>\n",
       "      <td>1</td>\n",
       "      <td>Keeping, Mr. Edwin</td>\n",
       "      <td>male</td>\n",
       "      <td>32.5</td>\n",
       "      <td>0</td>\n",
       "      <td>0</td>\n",
       "      <td>113503</td>\n",
       "      <td>211.5000</td>\n",
       "      <td>C132</td>\n",
       "      <td>C</td>\n",
       "      <td>Keeping</td>\n",
       "      <td></td>\n",
       "      <td>1</td>\n",
       "    </tr>\n",
       "    <tr>\n",
       "      <th>1109</th>\n",
       "      <td>1110</td>\n",
       "      <td>NaN</td>\n",
       "      <td>1</td>\n",
       "      <td>Widener, Mrs. George Dunton (Eleanor Elkins)</td>\n",
       "      <td>female</td>\n",
       "      <td>50.0</td>\n",
       "      <td>1</td>\n",
       "      <td>1</td>\n",
       "      <td>113503</td>\n",
       "      <td>211.5000</td>\n",
       "      <td>C80</td>\n",
       "      <td>C</td>\n",
       "      <td>Widener</td>\n",
       "      <td>Elkins</td>\n",
       "      <td>2</td>\n",
       "    </tr>\n",
       "    <tr>\n",
       "      <th>1298</th>\n",
       "      <td>1299</td>\n",
       "      <td>NaN</td>\n",
       "      <td>1</td>\n",
       "      <td>Widener, Mr. George Dunton</td>\n",
       "      <td>male</td>\n",
       "      <td>50.0</td>\n",
       "      <td>1</td>\n",
       "      <td>1</td>\n",
       "      <td>113503</td>\n",
       "      <td>211.5000</td>\n",
       "      <td>C80</td>\n",
       "      <td>C</td>\n",
       "      <td>Widener</td>\n",
       "      <td></td>\n",
       "      <td>1</td>\n",
       "    </tr>\n",
       "    <tr>\n",
       "      <th>166</th>\n",
       "      <td>167</td>\n",
       "      <td>1.0</td>\n",
       "      <td>1</td>\n",
       "      <td>Chibnall, Mrs. (Edith Martha Bowerman)</td>\n",
       "      <td>female</td>\n",
       "      <td>NaN</td>\n",
       "      <td>0</td>\n",
       "      <td>1</td>\n",
       "      <td>113505</td>\n",
       "      <td>55.0000</td>\n",
       "      <td>E33</td>\n",
       "      <td>S</td>\n",
       "      <td>Chibnall</td>\n",
       "      <td>Bowerman</td>\n",
       "      <td>2</td>\n",
       "    </tr>\n",
       "    <tr>\n",
       "      <th>356</th>\n",
       "      <td>357</td>\n",
       "      <td>1.0</td>\n",
       "      <td>1</td>\n",
       "      <td>Bowerman, Miss. Elsie Edith</td>\n",
       "      <td>female</td>\n",
       "      <td>22.0</td>\n",
       "      <td>0</td>\n",
       "      <td>1</td>\n",
       "      <td>113505</td>\n",
       "      <td>55.0000</td>\n",
       "      <td>E33</td>\n",
       "      <td>S</td>\n",
       "      <td>Bowerman</td>\n",
       "      <td></td>\n",
       "      <td>3</td>\n",
       "    </tr>\n",
       "    <tr>\n",
       "      <th>54</th>\n",
       "      <td>55</td>\n",
       "      <td>0.0</td>\n",
       "      <td>1</td>\n",
       "      <td>Ostby, Mr. Engelhart Cornelius</td>\n",
       "      <td>male</td>\n",
       "      <td>65.0</td>\n",
       "      <td>0</td>\n",
       "      <td>1</td>\n",
       "      <td>113509</td>\n",
       "      <td>61.9792</td>\n",
       "      <td>B30</td>\n",
       "      <td>C</td>\n",
       "      <td>Ostby</td>\n",
       "      <td></td>\n",
       "      <td>1</td>\n",
       "    </tr>\n",
       "    <tr>\n",
       "      <th>917</th>\n",
       "      <td>918</td>\n",
       "      <td>NaN</td>\n",
       "      <td>1</td>\n",
       "      <td>Ostby, Miss. Helene Ragnhild</td>\n",
       "      <td>female</td>\n",
       "      <td>22.0</td>\n",
       "      <td>0</td>\n",
       "      <td>1</td>\n",
       "      <td>113509</td>\n",
       "      <td>61.9792</td>\n",
       "      <td>B36</td>\n",
       "      <td>C</td>\n",
       "      <td>Ostby</td>\n",
       "      <td></td>\n",
       "      <td>3</td>\n",
       "    </tr>\n",
       "    <tr>\n",
       "      <th>351</th>\n",
       "      <td>352</td>\n",
       "      <td>0.0</td>\n",
       "      <td>1</td>\n",
       "      <td>Williams-Lambert, Mr. Fletcher Fellows</td>\n",
       "      <td>male</td>\n",
       "      <td>NaN</td>\n",
       "      <td>0</td>\n",
       "      <td>0</td>\n",
       "      <td>113510</td>\n",
       "      <td>35.0000</td>\n",
       "      <td>C128</td>\n",
       "      <td>S</td>\n",
       "      <td>Williams-Lambert</td>\n",
       "      <td></td>\n",
       "      <td>1</td>\n",
       "    </tr>\n",
       "    <tr>\n",
       "      <th>252</th>\n",
       "      <td>253</td>\n",
       "      <td>0.0</td>\n",
       "      <td>1</td>\n",
       "      <td>Stead, Mr. William Thomas</td>\n",
       "      <td>male</td>\n",
       "      <td>62.0</td>\n",
       "      <td>0</td>\n",
       "      <td>0</td>\n",
       "      <td>113514</td>\n",
       "      <td>26.5500</td>\n",
       "      <td>C87</td>\n",
       "      <td>S</td>\n",
       "      <td>Stead</td>\n",
       "      <td></td>\n",
       "      <td>1</td>\n",
       "    </tr>\n",
       "    <tr>\n",
       "      <th>61</th>\n",
       "      <td>62</td>\n",
       "      <td>1.0</td>\n",
       "      <td>1</td>\n",
       "      <td>Icard, Miss. Amelie</td>\n",
       "      <td>female</td>\n",
       "      <td>38.0</td>\n",
       "      <td>0</td>\n",
       "      <td>0</td>\n",
       "      <td>113572</td>\n",
       "      <td>80.0000</td>\n",
       "      <td>B28</td>\n",
       "      <td>NaN</td>\n",
       "      <td>Icard</td>\n",
       "      <td></td>\n",
       "      <td>3</td>\n",
       "    </tr>\n",
       "    <tr>\n",
       "      <th>829</th>\n",
       "      <td>830</td>\n",
       "      <td>1.0</td>\n",
       "      <td>1</td>\n",
       "      <td>Stone, Mrs. George Nelson (Martha Evelyn)</td>\n",
       "      <td>female</td>\n",
       "      <td>62.0</td>\n",
       "      <td>0</td>\n",
       "      <td>0</td>\n",
       "      <td>113572</td>\n",
       "      <td>80.0000</td>\n",
       "      <td>B28</td>\n",
       "      <td>NaN</td>\n",
       "      <td>Stone</td>\n",
       "      <td>Evelyn</td>\n",
       "      <td>2</td>\n",
       "    </tr>\n",
       "  </tbody>\n",
       "</table>\n",
       "</div>"
      ],
      "text/plain": [
       "      PassengerId  Survived  Pclass  \\\n",
       "782           783       0.0       1   \n",
       "377           378       0.0       1   \n",
       "965           966       NaN       1   \n",
       "966           967       NaN       1   \n",
       "1109         1110       NaN       1   \n",
       "1298         1299       NaN       1   \n",
       "166           167       1.0       1   \n",
       "356           357       1.0       1   \n",
       "54             55       0.0       1   \n",
       "917           918       NaN       1   \n",
       "351           352       0.0       1   \n",
       "252           253       0.0       1   \n",
       "61             62       1.0       1   \n",
       "829           830       1.0       1   \n",
       "\n",
       "                                              Name     Sex   Age  SibSp  \\\n",
       "782                         Long, Mr. Milton Clyde    male  29.0      0   \n",
       "377                      Widener, Mr. Harry Elkins    male  27.0      0   \n",
       "965                           Geiger, Miss. Amalie  female  35.0      0   \n",
       "966                             Keeping, Mr. Edwin    male  32.5      0   \n",
       "1109  Widener, Mrs. George Dunton (Eleanor Elkins)  female  50.0      1   \n",
       "1298                    Widener, Mr. George Dunton    male  50.0      1   \n",
       "166         Chibnall, Mrs. (Edith Martha Bowerman)  female   NaN      0   \n",
       "356                    Bowerman, Miss. Elsie Edith  female  22.0      0   \n",
       "54                  Ostby, Mr. Engelhart Cornelius    male  65.0      0   \n",
       "917                   Ostby, Miss. Helene Ragnhild  female  22.0      0   \n",
       "351         Williams-Lambert, Mr. Fletcher Fellows    male   NaN      0   \n",
       "252                      Stead, Mr. William Thomas    male  62.0      0   \n",
       "61                             Icard, Miss. Amelie  female  38.0      0   \n",
       "829      Stone, Mrs. George Nelson (Martha Evelyn)  female  62.0      0   \n",
       "\n",
       "      Parch  Ticket      Fare Cabin Embarked            lname0    lname1  ttl  \n",
       "782       0  113501   30.0000    D6        S              Long              1  \n",
       "377       2  113503  211.5000   C82        C           Widener              1  \n",
       "965       0  113503  211.5000  C130        C            Geiger              3  \n",
       "966       0  113503  211.5000  C132        C           Keeping              1  \n",
       "1109      1  113503  211.5000   C80        C           Widener    Elkins    2  \n",
       "1298      1  113503  211.5000   C80        C           Widener              1  \n",
       "166       1  113505   55.0000   E33        S          Chibnall  Bowerman    2  \n",
       "356       1  113505   55.0000   E33        S          Bowerman              3  \n",
       "54        1  113509   61.9792   B30        C             Ostby              1  \n",
       "917       1  113509   61.9792   B36        C             Ostby              3  \n",
       "351       0  113510   35.0000  C128        S  Williams-Lambert              1  \n",
       "252       0  113514   26.5500   C87        S             Stead              1  \n",
       "61        0  113572   80.0000   B28      NaN             Icard              3  \n",
       "829       0  113572   80.0000   B28      NaN             Stone    Evelyn    2  "
      ]
     },
     "execution_count": 485,
     "metadata": {},
     "output_type": "execute_result"
    }
   ],
   "source": [
    "df = data_tot.query('Ticket.str.contains(\"1135\")')\n",
    "df.sort_values(by='Ticket')"
   ]
  },
  {
   "cell_type": "markdown",
   "metadata": {},
   "source": [
    "All people with similar ticket numbers are embarked in 'C' or 'S'. So i will simply assign the most frequent class for both missed values."
   ]
  },
  {
   "cell_type": "code",
   "execution_count": 486,
   "metadata": {},
   "outputs": [
    {
     "name": "stdout",
     "output_type": "stream",
     "text": [
      "C: 7\n",
      "S: 5\n",
      "All: 14\n"
     ]
    }
   ],
   "source": [
    "nc = len(df.loc[df['Embarked']=='C'])\n",
    "ns = len(df.loc[df['Embarked']=='S'])\n",
    "n = len(df.index)\n",
    "\n",
    "print('C: %d' % nc)\n",
    "print('S: %d' % ns)\n",
    "print('All: %d' % n)"
   ]
  },
  {
   "cell_type": "markdown",
   "metadata": {},
   "source": [
    "The function below will be used to encode 'Embarked' variable"
   ]
  },
  {
   "cell_type": "code",
   "execution_count": 487,
   "metadata": {},
   "outputs": [],
   "source": [
    "#Encoding 'Embarked'\n",
    "def embarked_encoder(data):\n",
    "#     data = data.copy()\n",
    "    if len(data.loc[data['Embarked'].isnull()].index)>0:\n",
    "        data = data.fillna(value={'Embarked':'C'})\n",
    "    mask = {'C':0, 'S':1, 'Q':2}\n",
    "    data['Embarked'] = data['Embarked'].apply(lambda i: mask[i])\n",
    "    return data\n",
    "            \n",
    "#Encoding 'Pclass'\n",
    "def pclass_encoder(data):\n",
    "#     data = data.copy()\n",
    "    data['Pclass'] = data['Pclass'].apply(lambda i: i-1)\n",
    "    return data"
   ]
  },
  {
   "cell_type": "code",
   "execution_count": 488,
   "metadata": {},
   "outputs": [],
   "source": [
    "data_tot = embarked_encoder(data_tot)\n",
    "data_tot = pclass_encoder(data_tot)"
   ]
  },
  {
   "cell_type": "markdown",
   "metadata": {},
   "source": [
    "### Grouping by ticket ID\n",
    "\n",
    "While exploring the dataset, I found that many passengers have identical ticket numbers as well as identical fare value.\n",
    "\n",
    "In this section I will do two things:\n",
    "1. Group all passengers by ticked ID and add a column of the gropus IDs.\n",
    "2. For all people with matching tickets, I will recalculate ticket fare for every i-th person in a group g as: fare(i, g) = fare(g) / n, where n is a number of people in group g.\n",
    "\n",
    "~~3. Transform fare into categorical variable.~~"
   ]
  },
  {
   "cell_type": "code",
   "execution_count": 489,
   "metadata": {},
   "outputs": [],
   "source": [
    "# Clean text function\n",
    "def clean_text(text):\n",
    "    text = ''.join([c for c in text if c not in string.punctuation]).strip()\n",
    "    text = ''.join(text.split())\n",
    "    return text"
   ]
  },
  {
   "cell_type": "code",
   "execution_count": 490,
   "metadata": {},
   "outputs": [],
   "source": [
    "# This function will clean ticket ID from all punctuation and spaces\n",
    "def ticket_encoder(data):\n",
    "    df = data['Ticket'].apply(lambda i: clean_text(i)).to_frame()\n",
    "    data = pd.concat([data.drop(columns=['Ticket']).reset_index(), df], axis=1)\n",
    "    return data.drop(columns=['index'])"
   ]
  },
  {
   "cell_type": "code",
   "execution_count": 491,
   "metadata": {},
   "outputs": [],
   "source": [
    "data_tot = ticket_encoder(data_tot)"
   ]
  },
  {
   "cell_type": "markdown",
   "metadata": {},
   "source": [
    "Numbers of unique and non-unique tickets:"
   ]
  },
  {
   "cell_type": "code",
   "execution_count": 492,
   "metadata": {},
   "outputs": [
    {
     "name": "stdout",
     "output_type": "stream",
     "text": [
      "Unique tickets: 929\n",
      "Non-unique tickets: 380\n"
     ]
    }
   ],
   "source": [
    "print('Unique tickets: %d' % len(data_tot['Ticket'].unique()))\n",
    "print('Non-unique tickets: %d' % (len(data_tot.index) - len(data_tot['Ticket'].unique())))"
   ]
  },
  {
   "cell_type": "markdown",
   "metadata": {},
   "source": [
    "I want to define the following groups:\n",
    "1. No family (SibSp==0 & Parch==0), unique tickets\n",
    "2. No family (SibSp==0 & Parch==0), non-unique tickets\n",
    "3. Has family, no children (SibSp >0 & Parch==0), unique tickets\n",
    "4. Has family, no children (SibSp >0 & Parch==0), non-unique tickets\n",
    "5. Has family, has children (Parch >0), unique tickets\n",
    "6. Has family, has children (Parch >0), non-unique tickets"
   ]
  },
  {
   "cell_type": "code",
   "execution_count": 493,
   "metadata": {},
   "outputs": [],
   "source": [
    "families0 = data_tot.loc[(data_tot['SibSp']>0) & (data_tot['Parch']==0)]\n",
    "families1 = data_tot.loc[data_tot['Parch']>0]\n",
    "singles = data_tot.loc[(data_tot['SibSp']==0) & (data_tot['Parch']==0)]"
   ]
  },
  {
   "cell_type": "code",
   "execution_count": 494,
   "metadata": {},
   "outputs": [],
   "source": [
    "# This function is used to return sub-groups by unique and non-unique tickets from a group by SibSP and Parch\n",
    "def grps_by_size(grp):\n",
    "    #group size > 1\n",
    "    grp1 = None\n",
    "    #group size == 1\n",
    "    grp0 = None\n",
    "    for g in grp.groups:\n",
    "        grp_ = grp.get_group(g)\n",
    "        if len(grp.get_group(g).index)>1:\n",
    "            if grp1 is None:\n",
    "                grp1 = grp_\n",
    "            else:\n",
    "                grp1 = pd.concat([grp1, grp_])\n",
    "        else:\n",
    "            if grp0 is None:\n",
    "                grp0 = grp_\n",
    "            else:\n",
    "                grp0 = pd.concat([grp0, grp_])\n",
    "    return (grp0, grp1)"
   ]
  },
  {
   "cell_type": "code",
   "execution_count": 495,
   "metadata": {},
   "outputs": [
    {
     "name": "stdout",
     "output_type": "stream",
     "text": [
      "Singles-----------------------\n",
      "Matching tickets groups: 108\n",
      "Unique tickets groups: 682\n",
      "------------------------------\n",
      "Families----------------------\n",
      "Matching tickets groups: 174\n",
      "Unique tickets groups: 38\n",
      "------------------------------\n",
      "Families W/children-----------\n",
      "Matching tickets groups: 288\n",
      "Unique tickets groups: 19\n",
      "------------------------------\n"
     ]
    }
   ],
   "source": [
    "#singles\n",
    "sig_grp = singles.groupby('Ticket')\n",
    "#families NO children\n",
    "fam0_grp = families0.groupby('Ticket')\n",
    "#families w/children\n",
    "fam1_grp = families1.groupby('Ticket')\n",
    "\n",
    "#no family, unique ticket\n",
    "sig0 = grps_by_size(sig_grp)[0]\n",
    "#no family, matching tickets\n",
    "sig1 = grps_by_size(sig_grp)[1]\n",
    "#has family, no children, unique ticket\n",
    "fam0 = grps_by_size(fam0_grp)[0]\n",
    "#has family, no children, matching ticket\n",
    "fam1 = grps_by_size(fam0_grp)[1]\n",
    "#has family, has children, unique ticket\n",
    "famch0 = grps_by_size(fam1_grp)[0]\n",
    "#has family, has children, matching ticket\n",
    "famch1 = grps_by_size(fam1_grp)[1]\n",
    "\n",
    "print('Singles-----------------------')\n",
    "print('Matching tickets groups: %d' % len(sig1.index))\n",
    "print('Unique tickets groups: %d' % len(sig0.index))\n",
    "print('------------------------------')\n",
    "\n",
    "print('Families----------------------')\n",
    "print('Matching tickets groups: %d' % len(fam1.index))\n",
    "print('Unique tickets groups: %d' % len(fam0.index))\n",
    "print('------------------------------')\n",
    "\n",
    "print('Families W/children-----------')\n",
    "print('Matching tickets groups: %d' % len(famch1.index))\n",
    "print('Unique tickets groups: %d' % len(famch0.index))\n",
    "print('------------------------------')"
   ]
  },
  {
   "cell_type": "code",
   "execution_count": 496,
   "metadata": {},
   "outputs": [],
   "source": [
    "# Family groups\n",
    "fam_grps = [sig0, sig1, fam0, fam1, famch0, famch1]"
   ]
  },
  {
   "cell_type": "code",
   "execution_count": 497,
   "metadata": {},
   "outputs": [],
   "source": [
    "# Encode family groups\n",
    "def family_groups_encoder(data, fam_grps):\n",
    "#     data = data.copy()\n",
    "    data['fgrp'] = 0\n",
    "    for idx, grp in enumerate(fam_grps):\n",
    "        for pid in grp['PassengerId']:\n",
    "            data.loc[data['PassengerId']==pid, 'fgrp'] = idx\n",
    "    return data"
   ]
  },
  {
   "cell_type": "code",
   "execution_count": 498,
   "metadata": {},
   "outputs": [],
   "source": [
    "# Recalculate ticket fare in the family groups and fill missing values with a mean for corresponding passenger class.\n",
    "def fare_encoder(data, encode_grps):\n",
    "    for grp in encode_grps:\n",
    "        fare = grp['Fare'].values[0] / len(grp.index)\n",
    "        grp['Fare'] = fare\n",
    "        for pid in grp['PassengerId']:\n",
    "            if pid in data['PassengerId']:\n",
    "                data.loc[data['PassengerId']==pid, 'Fare'] = fare\n",
    "    if len(data.loc[data['Fare'].isnull()])>0:\n",
    "        for pid in data.loc[data['Fare'].isnull(), 'PassengerId']:\n",
    "            c = data.loc[data['PassengerId']==pid, 'Pclass'].values[0]\n",
    "            data.loc[data['PassengerId']==pid, 'Fare'] = np.mean(data.loc[data['Pclass']==c, 'Fare'])\n",
    "    return data"
   ]
  },
  {
   "cell_type": "code",
   "execution_count": 499,
   "metadata": {},
   "outputs": [],
   "source": [
    "def family_encoder(data, match_ticket_grps):\n",
    "#     data = data.copy()\n",
    "    data['mtickets'] = 0\n",
    "    data['famsize'] = data['SibSp'] + data['Parch']\n",
    "    data['SibSp'] = data['SibSp'].apply(lambda i: 1 if i > 0 else 0)\n",
    "    data['Parch'] = data['Parch'].apply(lambda i: 1 if i > 0 else 0)\n",
    "    for pid in data['PassengerId']:\n",
    "        for grp in match_ticket_grps:\n",
    "            if pid in grp['PassengerId']:\n",
    "                data.loc[data['PassengerId']==pid, 'mtickets'] = 1\n",
    "    return data"
   ]
  },
  {
   "cell_type": "code",
   "execution_count": 500,
   "metadata": {},
   "outputs": [],
   "source": [
    "# Encode fare\n",
    "def fare_transformer(data):\n",
    "#     data = data.copy()\n",
    "    data['Fare'] = data['Fare'].apply(lambda i: np.log(i+1))\n",
    "#     kbd = prepc.KBinsDiscretizer(n_bins=4, encode='ordinal', strategy='kmeans')\n",
    "#     c = pd.DataFrame(kbd.fit_transform(np.array(data['Fare']).reshape(-1,1)), columns=['Fare'])\n",
    "#     c = c.astype(int)\n",
    "#     data = pd.concat([data.drop(columns=['Fare']).reset_index(), c], axis=1).drop(columns='index')\n",
    "    return data"
   ]
  },
  {
   "cell_type": "code",
   "execution_count": 501,
   "metadata": {},
   "outputs": [],
   "source": [
    "data_tot = family_groups_encoder(data_tot, fam_grps)\n",
    "data_tot = family_encoder(data_tot, [sig1, fam1, famch1])\n",
    "data_tot = fare_encoder(data_tot, [sig1, fam1, famch1])\n",
    "# data_tot = fare_transformer(data_tot)"
   ]
  },
  {
   "cell_type": "markdown",
   "metadata": {},
   "source": [
    "Functions for sex encoding and to add a family size variable:"
   ]
  },
  {
   "cell_type": "code",
   "execution_count": 502,
   "metadata": {},
   "outputs": [],
   "source": [
    "# Encode 'Sex'\n",
    "def sex_encoder(data):\n",
    "#     data = data.copy()\n",
    "    mask = {'male':0, 'female':1}\n",
    "    df = data['Sex'].apply(lambda i: mask[i])\n",
    "    return pd.concat([data.drop(columns=['Sex']), df], axis=1)"
   ]
  },
  {
   "cell_type": "code",
   "execution_count": 503,
   "metadata": {},
   "outputs": [],
   "source": [
    "# Add 'Familie size'\n",
    "def fam_size(data):\n",
    "#     data = data.copy()\n",
    "    data['famsize'] = data['SibSp'] + data['Parch']\n",
    "    return data"
   ]
  },
  {
   "cell_type": "code",
   "execution_count": 504,
   "metadata": {},
   "outputs": [],
   "source": [
    "def combine_features(data, feature1, feature2, name):\n",
    "    lst1 = list(data[feature1].unique())\n",
    "    lst2 = list(data[feature2].unique())\n",
    "    d1 = len(lst1)\n",
    "    d2 = len(lst2)\n",
    "    mask = np.array(range(d1 * d2)).reshape(d1,d2)\n",
    "    data = data.copy()\n",
    "    df = []\n",
    "    for i in data.index:\n",
    "        df.append([mask[lst1.index(data[feature1][i])][lst2.index(data[feature2][i])]])\n",
    "    df = pd.DataFrame(df, columns=[name])\n",
    "    return pd.concat([data.reset_index(), df], axis=1).drop(columns='index')"
   ]
  },
  {
   "cell_type": "code",
   "execution_count": 505,
   "metadata": {},
   "outputs": [],
   "source": [
    "data_tot = sex_encoder(data_tot)\n",
    "# data_tot = fam_size(data_tot)\n",
    "data_tot = combine_features(data_tot, 'Pclass', 'Embarked', 'PclEmb')"
   ]
  },
  {
   "cell_type": "code",
   "execution_count": 506,
   "metadata": {},
   "outputs": [
    {
     "data": {
      "text/plain": [
       "Index(['PassengerId', 'Survived', 'Pclass', 'Name', 'Age', 'SibSp', 'Parch',\n",
       "       'Fare', 'Cabin', 'Embarked', 'lname0', 'lname1', 'ttl', 'Ticket',\n",
       "       'fgrp', 'mtickets', 'famsize', 'Sex', 'PclEmb'],\n",
       "      dtype='object')"
      ]
     },
     "execution_count": 506,
     "metadata": {},
     "output_type": "execute_result"
    }
   ],
   "source": [
    "data_tot.columns"
   ]
  },
  {
   "cell_type": "markdown",
   "metadata": {},
   "source": [
    "### Predict missing missing values for age"
   ]
  },
  {
   "cell_type": "code",
   "execution_count": 507,
   "metadata": {},
   "outputs": [],
   "source": [
    "data = data_tot[data_tot['Age'].notna()].copy()\n",
    "data = data[['Age', 'Fare', 'PclEmb', 'Sex', 'ttl', 'fgrp', 'mtickets', 'SibSp', 'Parch', 'famsize']]"
   ]
  },
  {
   "cell_type": "code",
   "execution_count": 508,
   "metadata": {},
   "outputs": [],
   "source": [
    "data = age_transformer(data, age_clast_model)"
   ]
  },
  {
   "cell_type": "code",
   "execution_count": 509,
   "metadata": {},
   "outputs": [],
   "source": [
    "# X = add_counts(X, ['Fare'])\n",
    "data['Fare'] = data['Fare'].apply(lambda i: np.log(i+1) * len(data.loc[data['Fare']==i].index))"
   ]
  },
  {
   "cell_type": "markdown",
   "metadata": {},
   "source": [
    "Plot correlation matrix:"
   ]
  },
  {
   "cell_type": "code",
   "execution_count": 510,
   "metadata": {},
   "outputs": [
    {
     "data": {
      "image/png": "[encoded data removed]",
      "text/plain": [
       "<Figure size 576x576 with 2 Axes>"
      ]
     },
     "metadata": {
      "needs_background": "light"
     },
     "output_type": "display_data"
    }
   ],
   "source": [
    "data = data[['Age', 'Age_cls', 'Fare', 'PclEmb', 'Sex', 'ttl', 'fgrp', 'mtickets', 'SibSp', 'Parch', 'famsize']]\n",
    "fig = plt.figure()\n",
    "fig.set_size_inches(8, 8)\n",
    "corr_matrix = data.corr()\n",
    "plot_correlation_matrix(ax=fig.add_subplot(1,1,1), data=corr_matrix, cmap='coolwarm')"
   ]
  },
  {
   "cell_type": "code",
   "execution_count": 511,
   "metadata": {},
   "outputs": [],
   "source": [
    "def param_tune(model, X_train, y_train, param_ranges, scoring, cv, refit=''):\n",
    "    if refit == '': refit = list(scoring.keys())[0]\n",
    "    gsearch = GridSearchCV(estimator=model, param_grid=param_ranges, scoring=scoring, cv=cv, refit=refit, return_train_score=True,\n",
    "                           n_jobs=-1)\n",
    "    gsearch.fit(X_train, y_train)\n",
    "    cv_res = pd.DataFrame(gsearch.cv_results_)\n",
    "    cv_res_sel = []\n",
    "    for i in list(scoring.keys()):\n",
    "        df = cv_res.loc[cv_res['rank_test_%s' % i] == 1].head(1)\n",
    "        cv_res_sel.append(df[['mean_train_%s' % i, 'std_train_%s' % i, 'mean_test_%s' % i, 'std_test_%s' % i]].values[0])\n",
    "\n",
    "    cv_res_sel = pd.DataFrame(cv_res_sel, index=list(scoring.keys()), columns=['mean_train', 'std_train', 'mean_test', 'std_test'])\n",
    "    cv_results = cv_res_sel.T\n",
    "    cv_results = cv_results.apply(lambda i: np.absolute(i))\n",
    "    return gsearch.best_estimator_, gsearch.best_params_, gsearch.best_score_, cv_results"
   ]
  },
  {
   "cell_type": "code",
   "execution_count": 512,
   "metadata": {},
   "outputs": [],
   "source": [
    "def cv_rep(model, X, y, cv, scoring):\n",
    "    cv_res = model_selection.cross_validate(model, X, y, scoring=scoring, cv=cv, return_train_score=True, n_jobs=-1)\n",
    "    cv_res = [[np.mean(cv_res['train_%s' % i]), np.std(cv_res['train_%s' % i]), np.mean(cv_res['test_%s' % i]), np.std(cv_res['test_%s' % i])] for i in list(scoring.keys())]\n",
    "    cv_results = pd.DataFrame(cv_res, index=list(scoring.keys()), columns=['mean_train', 'std_train', 'mean_test', 'std_test'])\n",
    "    cv_results = cv_results.T\n",
    "    cv_results = cv_results.apply(lambda i: np.absolute(i))\n",
    "    return cv_results"
   ]
  },
  {
   "cell_type": "code",
   "execution_count": 513,
   "metadata": {},
   "outputs": [],
   "source": [
    "def train_best_model(model, param_ranges, X_train, y_train, scoring, cv, refit):\n",
    "    model, best_params, best_score, cv_res = param_tune(model, X_train, y_train, param_ranges, scoring, cv, refit=refit)\n",
    "    print(cv_res)\n",
    "    print(best_params)\n",
    "    return model, cv_res"
   ]
  },
  {
   "cell_type": "code",
   "execution_count": 514,
   "metadata": {},
   "outputs": [],
   "source": [
    "def train_best_model_cal(model, param_ranges, X_train, y_train, scoring, cv, refit):\n",
    "    if model.__class__.__name__=='CalibratedClassifierCV':\n",
    "         model_cal= model \n",
    "    else:\n",
    "        model_cal = calib.CalibratedClassifierCV(base_estimator=model, method='sigmoid', cv=cv)\n",
    "    model_cal, best_params, best_score, cv_res = param_tune(model_cal, X_train, y_train, param_ranges, scoring, cv, refit=refit)\n",
    "    print(cv_res)\n",
    "    print(best_params)\n",
    "    return model, cv_res"
   ]
  },
  {
   "cell_type": "code",
   "execution_count": 515,
   "metadata": {},
   "outputs": [],
   "source": [
    "def dropcol_imp_r2_metric(model, X_valid, y_valid, sample_weights):\n",
    "    model.fit(X_valid, y_valid)\n",
    "    y_pred = model.predict(X_valid)\n",
    "    return metrics.r2_score(y_valid, y_pred, sample_weight=sample_weights)"
   ]
  },
  {
   "cell_type": "code",
   "execution_count": 516,
   "metadata": {},
   "outputs": [],
   "source": [
    "def dropcol_imp_roc_auc_metric(model, X_valid, y_valid, sample_weights):\n",
    "    model.fit(X_valid, y_valid)\n",
    "    y_pred = model.predict(X_valid)\n",
    "    return metrics.roc_auc_score(y_valid, y_pred, sample_weight=sample_weights)"
   ]
  },
  {
   "cell_type": "code",
   "execution_count": 517,
   "metadata": {},
   "outputs": [],
   "source": [
    "def dropcol_imp_accuracy_metric(model, X_valid, y_valid, sample_weights):\n",
    "    model.fit(X_valid, y_valid)\n",
    "    y_pred = model.predict(X_valid)\n",
    "    return metrics.accuracy_score(y_valid, y_pred, sample_weight=sample_weights)"
   ]
  },
  {
   "cell_type": "code",
   "execution_count": 518,
   "metadata": {},
   "outputs": [],
   "source": [
    "def plot_confusion_matrix(model, X, y, ax, normalize=True, title=None):\n",
    "    \"\"\"Plots confusion matrix\n",
    "    Parameters:\n",
    "    ax =  matplotlib axes\n",
    "    normalyze = normalization over truth (number_predicted / total_count_of_this_class)\n",
    "    \"\"\"\n",
    "    model.fit(X,y)\n",
    "    conf_matrix = metrics.confusion_matrix(y_true=y, y_pred=model.predict(X),\n",
    "                              labels=None)  # returns matrix for sorted classes (i.e 0, 1, 2,..., n)\n",
    "    classes = y.unique()\n",
    "    classes.sort()\n",
    "    n_classes = [len(y[y == c]) for c in classes]\n",
    "    if normalize == True:\n",
    "        n_matrix = [[i for j in range(len(n_classes))] for i in n_classes]\n",
    "        norm_matrix = conf_matrix / np.array(n_classes)\n",
    "        ns_matrix = np.array([[i for j in enumerate(n_classes)] for i in n_classes])\n",
    "        labels = np.array([[\"{0:.2%} \\n {1:d} of {2:d}\".format(norm_matrix[i, j], conf_matrix[i, j],\n",
    "                                                               ns_matrix[i, j]) for j, v in\n",
    "                            enumerate(norm_matrix[i])]\n",
    "                           for i, v in enumerate(norm_matrix)])\n",
    "\n",
    "        sns.heatmap(norm_matrix, annot=labels, fmt='', cmap='Blues')\n",
    "    else:\n",
    "        sns.heatmap(conf_matrix, annot=True, fmt='d', cmap='Blues')\n",
    "\n",
    "    ax.set_ylabel('True Labels')\n",
    "    ax.set_xlabel('Predicted Labels')\n",
    "    if title is None:\n",
    "        title = model.__class__.__name__\n",
    "    ax.set_title(title)\n",
    "    ttl = ax.title\n",
    "    ttl.set_position([.5, 1.07])\n",
    "\n",
    "    # fix for mpl bug that cuts off top/bottom of seaborn viz\n",
    "    b, t = ax.get_ylim()  # discover the values for bottom and top\n",
    "    b += 0.5  # Add 0.5 to the bottom\n",
    "    t -= 0.5  # Subtract 0.5 from the top\n",
    "    ax.set_ylim(b, t)  # update the ylim(bottom, top) values"
   ]
  },
  {
   "cell_type": "code",
   "execution_count": 519,
   "metadata": {},
   "outputs": [],
   "source": [
    "def feature_importance(model, X_train, y_train, X_test, y_test, metric, label=None):\n",
    "    feature_importance = dropcol_importances(model, X_train, y_train, X_valid=X_test, y_valid=y_test, metric=metric)\n",
    "    if label is None:\n",
    "        label = model.__class__.__name__\n",
    "    feature_importance.columns = [label]\n",
    "    return feature_importance"
   ]
  },
  {
   "cell_type": "code",
   "execution_count": 520,
   "metadata": {},
   "outputs": [],
   "source": [
    "def roc_auc_score_ovr(y_true, y_score):\n",
    "    return metrics.roc_auc_score(y_true, y_score, average='macro', sample_weight=None, max_fpr=None,\n",
    "                                 multi_class='ovr', labels=None)\n",
    "\n",
    "def roc_auc_score_ovo(y_true, y_score):\n",
    "    return metrics.roc_auc_score(y_true, y_score, average='macro', sample_weight=None, max_fpr=None,\n",
    "                                 multi_class='ovo', labels=None)"
   ]
  },
  {
   "cell_type": "code",
   "execution_count": 521,
   "metadata": {},
   "outputs": [],
   "source": [
    "def add_counts(data, columns):\n",
    "    for col in columns:\n",
    "        data[col] = data[col].apply(lambda i: i * len(data.loc[data[col]==i].index))\n",
    "    return data"
   ]
  },
  {
   "cell_type": "code",
   "execution_count": 522,
   "metadata": {},
   "outputs": [
    {
     "data": {
      "text/plain": [
       "Index(['Age', 'Age_cls', 'Fare', 'PclEmb', 'Sex', 'ttl', 'fgrp', 'mtickets',\n",
       "       'SibSp', 'Parch', 'famsize'],\n",
       "      dtype='object')"
      ]
     },
     "execution_count": 522,
     "metadata": {},
     "output_type": "execute_result"
    }
   ],
   "source": [
    "data.columns"
   ]
  },
  {
   "cell_type": "code",
   "execution_count": 523,
   "metadata": {
    "scrolled": true
   },
   "outputs": [],
   "source": [
    "# train test split\n",
    "X = data.drop(columns=['Age', 'Age_cls', 'Sex', 'mtickets', 'SibSp', 'Parch', 'famsize'])\n",
    "y = data['Age_cls']"
   ]
  },
  {
   "cell_type": "code",
   "execution_count": 524,
   "metadata": {},
   "outputs": [],
   "source": [
    "#common random_state\n",
    "random_state=30\n",
    "\n",
    "#cross validation strategy\n",
    "cv = model_selection.StratifiedShuffleSplit(n_splits=10, test_size=0.3, train_size=0.6, random_state=random_state)\n",
    "\n",
    "#cross validation metrics\n",
    "scoring = {'balanced_accuracy': 'balanced_accuracy',\n",
    "           'roc_auc':  'roc_auc',\n",
    "           'precision_macro': 'precision_macro'}\n",
    "# refit = 'balanced_accuracy'"
   ]
  },
  {
   "cell_type": "code",
   "execution_count": 525,
   "metadata": {},
   "outputs": [
    {
     "data": {
      "text/html": [
       "<div>\n",
       "<style scoped>\n",
       "    .dataframe tbody tr th:only-of-type {\n",
       "        vertical-align: middle;\n",
       "    }\n",
       "\n",
       "    .dataframe tbody tr th {\n",
       "        vertical-align: top;\n",
       "    }\n",
       "\n",
       "    .dataframe thead th {\n",
       "        text-align: right;\n",
       "    }\n",
       "</style>\n",
       "<table border=\"1\" class=\"dataframe\">\n",
       "  <thead>\n",
       "    <tr style=\"text-align: right;\">\n",
       "      <th></th>\n",
       "      <th>balanced_accuracy</th>\n",
       "      <th>roc_auc</th>\n",
       "      <th>precision_macro</th>\n",
       "    </tr>\n",
       "  </thead>\n",
       "  <tbody>\n",
       "    <tr>\n",
       "      <th>mean_train</th>\n",
       "      <td>0.972258</td>\n",
       "      <td>0.993741</td>\n",
       "      <td>0.903244</td>\n",
       "    </tr>\n",
       "    <tr>\n",
       "      <th>std_train</th>\n",
       "      <td>0.016774</td>\n",
       "      <td>0.001319</td>\n",
       "      <td>0.018890</td>\n",
       "    </tr>\n",
       "    <tr>\n",
       "      <th>mean_test</th>\n",
       "      <td>0.962754</td>\n",
       "      <td>0.991308</td>\n",
       "      <td>0.890875</td>\n",
       "    </tr>\n",
       "    <tr>\n",
       "      <th>std_test</th>\n",
       "      <td>0.030999</td>\n",
       "      <td>0.002581</td>\n",
       "      <td>0.021398</td>\n",
       "    </tr>\n",
       "  </tbody>\n",
       "</table>\n",
       "</div>"
      ],
      "text/plain": [
       "            balanced_accuracy   roc_auc  precision_macro\n",
       "mean_train           0.972258  0.993741         0.903244\n",
       "std_train            0.016774  0.001319         0.018890\n",
       "mean_test            0.962754  0.991308         0.890875\n",
       "std_test             0.030999  0.002581         0.021398"
      ]
     },
     "execution_count": 525,
     "metadata": {},
     "output_type": "execute_result"
    }
   ],
   "source": [
    "params = {'learning_rate': 0.13179487, \n",
    "          'n_estimators': 85,\n",
    "          'min_weight_fraction_leaf': 0.029487179487, \n",
    "          'min_impurity_decrease': 0.0022857,\n",
    "          'max_depth': 3,\n",
    "          'subsample': 1.0,\n",
    "          'ccp_alpha': 0.0}\n",
    "\n",
    "age_cls_model = ens.GradientBoostingClassifier(loss='deviance', criterion='friedman_mse', \n",
    "                                               random_state=random_state, **params)\n",
    "age_cls_model.fit(X,y)\n",
    "cv_rep(age_cls_model, X, y, cv, scoring)\n",
    "\n",
    "# param_ranges = {'learning_rate': np.linspace(0.01, 0.2, 40), 'n_estimators': np.arange(5, 100, 20)}\n",
    "# age_cls_model, scores = train_best_model(age_cls_model, param_ranges, X, y, scoring, cv, refit=refit)\n",
    "\n",
    "# param_ranges = {'min_weight_fraction_leaf': np.linspace(0.01, 0.2, 40), 'min_impurity_decrease': np.linspace(0.001, 0.01, 15)}\n",
    "# age_cls_model, scores = train_best_model(age_cls_model, param_ranges, X, y, scoring, cv, refit=refit)\n",
    "\n",
    "# param_ranges = {'max_depth': np.arange(2,10)}\n",
    "# age_cls_model, scores = train_best_model(age_cls_model, param_ranges, X, y, scoring, cv, refit=refit)"
   ]
  },
  {
   "cell_type": "code",
   "execution_count": 526,
   "metadata": {
    "scrolled": true
   },
   "outputs": [],
   "source": [
    "# train test split\n",
    "X = data.drop(columns=['Age', 'Sex', 'mtickets', 'SibSp', 'Parch', 'famsize'])\n",
    "y = data['Age']"
   ]
  },
  {
   "cell_type": "code",
   "execution_count": 527,
   "metadata": {},
   "outputs": [],
   "source": [
    "#common random_state\n",
    "random_state=30\n",
    "#cross validation strategy\n",
    "cv = model_selection.RepeatedKFold(n_splits=5, n_repeats=10, random_state=random_state)\n",
    "#cross validation metrics\n",
    "scoring = {'explained_variance':  'explained_variance', 'r2': 'r2'}\n",
    "refit='r2'"
   ]
  },
  {
   "cell_type": "code",
   "execution_count": 528,
   "metadata": {},
   "outputs": [
    {
     "data": {
      "text/html": [
       "<div>\n",
       "<style scoped>\n",
       "    .dataframe tbody tr th:only-of-type {\n",
       "        vertical-align: middle;\n",
       "    }\n",
       "\n",
       "    .dataframe tbody tr th {\n",
       "        vertical-align: top;\n",
       "    }\n",
       "\n",
       "    .dataframe thead th {\n",
       "        text-align: right;\n",
       "    }\n",
       "</style>\n",
       "<table border=\"1\" class=\"dataframe\">\n",
       "  <thead>\n",
       "    <tr style=\"text-align: right;\">\n",
       "      <th></th>\n",
       "      <th>explained_variance</th>\n",
       "      <th>r2</th>\n",
       "    </tr>\n",
       "  </thead>\n",
       "  <tbody>\n",
       "    <tr>\n",
       "      <th>mean_train</th>\n",
       "      <td>0.728076</td>\n",
       "      <td>0.728076</td>\n",
       "    </tr>\n",
       "    <tr>\n",
       "      <th>std_train</th>\n",
       "      <td>0.010813</td>\n",
       "      <td>0.010813</td>\n",
       "    </tr>\n",
       "    <tr>\n",
       "      <th>mean_test</th>\n",
       "      <td>0.702238</td>\n",
       "      <td>0.700568</td>\n",
       "    </tr>\n",
       "    <tr>\n",
       "      <th>std_test</th>\n",
       "      <td>0.058610</td>\n",
       "      <td>0.059199</td>\n",
       "    </tr>\n",
       "  </tbody>\n",
       "</table>\n",
       "</div>"
      ],
      "text/plain": [
       "            explained_variance        r2\n",
       "mean_train            0.728076  0.728076\n",
       "std_train             0.010813  0.010813\n",
       "mean_test             0.702238  0.700568\n",
       "std_test              0.058610  0.059199"
      ]
     },
     "execution_count": 528,
     "metadata": {},
     "output_type": "execute_result"
    }
   ],
   "source": [
    "params = {'learning_rate': 0.0593846, \n",
    "          'n_estimators': 85,\n",
    "          'min_weight_fraction_leaf': 0.044137931, \n",
    "          'min_impurity_decrease': 0.00478947368,\n",
    "          'max_depth': 3,\n",
    "          'subsample': 1.0,\n",
    "          'ccp_alpha': 0.0001545454}\n",
    "\n",
    "age_reg_mogel = ens.GradientBoostingRegressor(loss='ls', criterion='friedman_mse', random_state=random_state, **params)\n",
    "age_reg_mogel.fit(X,y)\n",
    "cv_rep(age_reg_mogel, X, y, cv, scoring)\n",
    "\n",
    "# param_ranges = {'min_weight_fraction_leaf': np.linspace(0.01, 0.1, 30), 'min_impurity_decrease': np.linspace(0.0001, 0.01, 20)}\n",
    "# age_reg_mogel, scores = train_best_model(age_reg_mogel, param_ranges, X, y, scoring, cv, refit=refit)\n",
    "\n",
    "# param_ranges = {'max_depth': np.arange(2,10), 'subsample': np.linspace(0.1, 1.1, 30)}\n",
    "# age_reg_mogel, scores = train_best_model(age_reg_mogel, param_ranges, X, y, scoring, cv, refit=refit)\n",
    "\n",
    "# param_ranges = {'max_depth': np.arange(2,10), 'subsample': np.linspace(0.1, 1.1, 30)}\n",
    "# age_reg_mogel, scores = train_best_model(age_reg_mogel, param_ranges, X, y, scoring, cv, refit=refit)\n",
    "\n",
    "# param_ranges = {'ccp_alpha': np.linspace(0.0001, 0.001, 100)}\n",
    "# age_reg_mogel, scores = train_best_model(age_reg_mogel, param_ranges, X, y, scoring, cv, refit=refit)"
   ]
  },
  {
   "cell_type": "markdown",
   "metadata": {},
   "source": [
    "### Preprocess train set for classification\n",
    "\n",
    "**Pipeline:**\n",
    "1. Encode name\n",
    "2. Encode title\n",
    "3. Encode embarked\n",
    "4. Encode familie groups\n",
    "5. Encode fare\n",
    "6. Encode sex\n",
    "7. Add familie size\n",
    "8. Encode age"
   ]
  },
  {
   "cell_type": "code",
   "execution_count": 529,
   "metadata": {},
   "outputs": [],
   "source": [
    "#Age encoder\n",
    "def age_predictor(data, age_cls_model, age_reg_mogel):\n",
    "    cols = ['Fare', 'PclEmb', 'ttl', 'fgrp']\n",
    "    data_na = data[data['Age'].isnull()]\n",
    "    data_notna = data[data['Age'].notna()]\n",
    "\n",
    "    # transform non-null age values\n",
    "    age_trans = data_notna['Age'].apply(lambda i: np.log(i+1)).to_frame()\n",
    "    data_notna = pd.concat([data_notna.drop(columns=['Age']), age_trans], axis=1)\n",
    "\n",
    "    # predict class labels\n",
    "    X = data_na[cols].reset_index(drop=True)\n",
    "    y = data_na['Survived'].reset_index(drop=True)\n",
    "    X = add_counts(X, ['Fare'])\n",
    "    age_cls_model.fit(X,y)\n",
    "    age_cls = pd.Series(age_cls_model.predict(X), name='Age_cls').to_frame()\n",
    "\n",
    "    # predict age\n",
    "    X_age_cls = pd.concat([X, age_cls], axis=1)\n",
    "    age_reg_mogel.fit(X_age_cls, y)\n",
    "    age_preds = pd.Series(age_reg_mogel.predict(X_age_cls), name='Age').to_frame()\n",
    "    data_na = pd.concat([data_na.reset_index(drop=True).drop(columns=['Age']), age_preds], axis=1)\n",
    "    return pd.concat([data_na, data_notna])"
   ]
  },
  {
   "cell_type": "code",
   "execution_count": 530,
   "metadata": {},
   "outputs": [],
   "source": [
    "def base_models_predictions(models, X):\n",
    "    X1 = None\n",
    "    for i, model in models:\n",
    "        if X1 is None:\n",
    "            X1 = pd.Series(model.predict(X), name=i).to_frame()\n",
    "        else:\n",
    "            X1 = X1.merge(pd.Series(model.predict(X), name=i).to_frame(), left_index=True, right_index=True)\n",
    "    return X1"
   ]
  },
  {
   "cell_type": "code",
   "execution_count": 531,
   "metadata": {},
   "outputs": [],
   "source": [
    "def base_models_predictions_proba(models, X):\n",
    "    X0 = None\n",
    "    X1 = None\n",
    "    for i, model in models:\n",
    "#         print(model.predict_proba(X))\n",
    "        proba_0 = model.predict_proba(X)[:,0]\n",
    "        proba_1 = model.predict_proba(X)[:,1]\n",
    "#         print(proba_0)\n",
    "        if X0 is None:\n",
    "            X0 = pd.Series(proba_0, name='{0}_proba'.format(i)).to_frame()\n",
    "        else:\n",
    "            X0 = X0.merge(pd.Series(proba_0, name='{0}_proba'.format(i)).to_frame(), left_index=True, right_index=True)\n",
    "        \n",
    "        if X1 is None:\n",
    "            X1 = pd.Series(proba_1, name='{0}_proba'.format(i)).to_frame()\n",
    "        else:\n",
    "            X1 = X1.merge(pd.Series(proba_1, name='{0}_proba'.format(i)).to_frame(), left_index=True, right_index=True)\n",
    "    return (X0, X1)"
   ]
  },
  {
   "cell_type": "code",
   "execution_count": 532,
   "metadata": {},
   "outputs": [],
   "source": [
    "data_train1 = name_encoder(data_train)\n",
    "data_train1 = title_encoder(data_train1)\n",
    "data_train1 = embarked_encoder(data_train1)\n",
    "data_train1 = pclass_encoder(data_train1)\n",
    "data_train1 = family_groups_encoder(data_train1, fam_grps)\n",
    "# data_train1 = family_encoder(data_train1, [sig1, fam1, famch1])\n",
    "data_train1 = fare_encoder(data_train1, [sig1, fam1, famch1])\n",
    "data_train1 = sex_encoder(data_train1)\n",
    "data_train1 = combine_features(data_train1, 'Pclass', 'Embarked', 'PclEmb')\n",
    "data_train1 = fam_size(data_train1)\n",
    "data_train1 = age_predictor(data_train1, age_cls_model, age_reg_mogel)"
   ]
  },
  {
   "cell_type": "code",
   "execution_count": 533,
   "metadata": {},
   "outputs": [],
   "source": [
    "data = data_train1[['Survived', 'Fare', 'ttl', 'famsize', 'PclEmb', 'Age']]"
   ]
  },
  {
   "cell_type": "code",
   "execution_count": 534,
   "metadata": {
    "scrolled": true
   },
   "outputs": [],
   "source": [
    "X = data.drop(columns=['Survived'])\n",
    "y = data['Survived']"
   ]
  },
  {
   "cell_type": "code",
   "execution_count": 535,
   "metadata": {},
   "outputs": [],
   "source": [
    "X['Fare'] = X['Fare'].apply(lambda i: np.log((i+1) * len(X.loc[X['Fare']==i].index)))\n",
    "X['Age'] = X['Age'].apply(lambda i: np.log(i * len(X.loc[X['Age']==i].index)))"
   ]
  },
  {
   "cell_type": "code",
   "execution_count": 536,
   "metadata": {},
   "outputs": [],
   "source": [
    "#common random_state\n",
    "random_state=30\n",
    "#cross validation strategy\n",
    "cv = model_selection.StratifiedShuffleSplit(n_splits=10, test_size=0.3, train_size=0.6, random_state=random_state)\n",
    "#cross validation metrics\n",
    "scoring = {'balanced_accuracy': 'balanced_accuracy', \n",
    "           'roc_auc':  'roc_auc',\n",
    "           'precision_macro': 'precision_macro'}\n",
    "refit = 'balanced_accuracy'"
   ]
  },
  {
   "cell_type": "code",
   "execution_count": 537,
   "metadata": {},
   "outputs": [],
   "source": [
    "n = len(y)\n",
    "class_priors = {}\n",
    "class_weights = {}\n",
    "for i in y.unique():\n",
    "    class_priors[i] = len(y.loc[y==i]) / n\n",
    "    class_weights[i] = 1- class_priors[i]"
   ]
  },
  {
   "cell_type": "code",
   "execution_count": 538,
   "metadata": {},
   "outputs": [],
   "source": [
    "base_scores = {}"
   ]
  },
  {
   "cell_type": "code",
   "execution_count": 539,
   "metadata": {},
   "outputs": [
    {
     "name": "stdout",
     "output_type": "stream",
     "text": [
      "            balanced_accuracy   roc_auc  precision_macro\n",
      "mean_train           0.859569  0.907866         0.882887\n",
      "std_train            0.010806  0.009360         0.009452\n",
      "mean_test            0.781559  0.847387         0.806779\n",
      "std_test             0.026267  0.024087         0.027296\n"
     ]
    }
   ],
   "source": [
    "gpc = gaup.GaussianProcessClassifier(max_iter_predict=11, random_state=random_state)\n",
    "scores = cv_rep(gpc, X, y, cv, scoring)\n",
    "base_scores['gpc'] = [scores.loc['mean_test', refit], scores.loc['mean_train', refit]]\n",
    "print(scores)\n",
    "# param_ranges = {'max_iter_predict': np.arange(1000, 2000, 10)}\n",
    "# gpc, scores = train_best_model(gpc, param_ranges, X, y, scoring, cv, refit=refit)"
   ]
  },
  {
   "cell_type": "code",
   "execution_count": 540,
   "metadata": {},
   "outputs": [
    {
     "name": "stdout",
     "output_type": "stream",
     "text": [
      "            balanced_accuracy   roc_auc  precision_macro\n",
      "mean_train           0.773154  0.835245         0.797848\n",
      "std_train            0.013187  0.011710         0.012996\n",
      "mean_test            0.759776  0.824763         0.788618\n",
      "std_test             0.023111  0.018487         0.019139\n"
     ]
    }
   ],
   "source": [
    "lda = disan.LinearDiscriminantAnalysis(solver='lsqr', shrinkage='auto')\n",
    "scores = cv_rep(lda, X, y, cv, scoring)\n",
    "base_scores['lda'] = [scores.loc['mean_test', refit], scores.loc['mean_train', refit]]\n",
    "print(scores)\n",
    "# param_ranges = {'n_components': np.arange(1,5)}\n",
    "# lda, scores = train_best_model(lda, param_ranges, X, y, scoring, cv, refit=refit)\n",
    "# base_scores['lda'] = scores.loc['mean_test', refit]"
   ]
  },
  {
   "cell_type": "code",
   "execution_count": 541,
   "metadata": {},
   "outputs": [
    {
     "name": "stdout",
     "output_type": "stream",
     "text": [
      "            balanced_accuracy   roc_auc  precision_macro\n",
      "mean_train           0.774576  0.845370         0.794638\n",
      "std_train            0.018624  0.013188         0.028364\n",
      "mean_test            0.755237  0.838414         0.778267\n",
      "std_test             0.028371  0.023689         0.036402\n"
     ]
    }
   ],
   "source": [
    "qda = disan.QuadraticDiscriminantAnalysis(priors=[class_priors[0], class_priors[1]])\n",
    "scores = cv_rep(qda, X, y, cv, scoring)\n",
    "base_scores['qda'] = [scores.loc['mean_test', refit], scores.loc['mean_train', refit]]\n",
    "print(scores)\n",
    "# param_ranges = {'reg_param': np.linspace(0.01,1,12)}\n",
    "# qda, scores = train_best_model(qda, param_ranges, X, y, scoring, cv, refit=refit)\n",
    "# base_scores['qda'] = scores.loc['mean_test', refit]"
   ]
  },
  {
   "cell_type": "code",
   "execution_count": 542,
   "metadata": {},
   "outputs": [
    {
     "name": "stdout",
     "output_type": "stream",
     "text": [
      "            balanced_accuracy   roc_auc  precision_macro\n",
      "mean_train           0.827334  0.875444         0.843996\n",
      "std_train            0.011500  0.010739         0.011481\n",
      "mean_test            0.812798  0.858708         0.834610\n",
      "std_test             0.021344  0.019776         0.020206\n"
     ]
    }
   ],
   "source": [
    "abc = ens.AdaBoostClassifier(algorithm='SAMME.R', \n",
    "                             learning_rate=0.08984615,\n",
    "                             n_estimators=45,\n",
    "                             random_state=random_state)\n",
    "scores = cv_rep(abc, X, y, cv, scoring)\n",
    "base_scores['abc'] = [scores.loc['mean_test', refit], scores.loc['mean_train', refit]]\n",
    "print(scores)\n",
    "# param_ranges = {'n_estimators': np.arange(5, 100, 20), 'learning_rate': np.linspace(0.001, 0.1, 40)}\n",
    "# abc, scores = train_best_model(abc, param_ranges, X, y, scoring, cv, refit=refit)\n",
    "# base_scores['abc'] = scores.loc['mean_test', refit]"
   ]
  },
  {
   "cell_type": "code",
   "execution_count": 543,
   "metadata": {},
   "outputs": [
    {
     "name": "stdout",
     "output_type": "stream",
     "text": [
      "            balanced_accuracy   roc_auc  precision_macro\n",
      "mean_train           0.822081  0.890284         0.844765\n",
      "std_train            0.013635  0.017045         0.013885\n",
      "mean_test            0.801086  0.866929         0.828202\n",
      "std_test             0.026045  0.020992         0.016739\n"
     ]
    }
   ],
   "source": [
    "gbc = ens.GradientBoostingClassifier(loss='exponential', \n",
    "                                     criterion='friedman_mse', \n",
    "                                     learning_rate=0.2,\n",
    "                                     n_estimators=45,\n",
    "                                     min_impurity_decrease=0.0093076923,\n",
    "                                     min_weight_fraction_leaf=0.0123076923,\n",
    "                                     max_depth=3,\n",
    "                                     subsample=0.9620689655,\n",
    "                                     ccp_alpha=0.016813,\n",
    "                                     random_state=random_state)\n",
    "scores = cv_rep(gbc, X, y, cv, scoring)\n",
    "base_scores['gbc'] = [scores.loc['mean_test', refit], scores.loc['mean_train', refit]]\n",
    "print(scores)\n",
    "# param_ranges = {'learning_rate': np.linspace(0.01, 0.2, 60), 'n_estimators': np.arange(5, 100, 20)}\n",
    "# gbc, scores = train_best_model(gbc, param_ranges, X, y, scoring, cv, refit=refit)\n",
    "\n",
    "# param_ranges = {'min_weight_fraction_leaf': np.linspace(0.001, 0.2, 40), 'min_impurity_decrease': np.linspace(0.001, 0.1, 20)}\n",
    "# gbc, scores = train_best_model(gbc, param_ranges, X, y, scoring, cv, refit=refit)\n",
    "\n",
    "# param_ranges = {'subsample': np.linspace(0.1, 1.1, 15), 'max_depth': np.arange(3, 6)}\n",
    "# gbc, scores = train_best_model(gbc, param_ranges, X, y, scoring, cv, refit=refit)\n",
    "\n",
    "# param_ranges = {'ccp_alpha': np.linspace(0.0001,0.001, 15)}\n",
    "# gbc, scores = train_best_model(gbc, param_ranges, X, y, scoring, cv, refit=refit)\n",
    "\n",
    "# base_scores['gbc'] = scores.loc['mean_test', refit]"
   ]
  },
  {
   "cell_type": "code",
   "execution_count": 544,
   "metadata": {},
   "outputs": [
    {
     "name": "stdout",
     "output_type": "stream",
     "text": [
      "            balanced_accuracy   roc_auc  precision_macro\n",
      "mean_train           0.824987  0.872744         0.842227\n",
      "std_train            0.009543  0.011365         0.010218\n",
      "mean_test            0.803213  0.858747         0.826941\n",
      "std_test             0.025192  0.016753         0.023702\n"
     ]
    }
   ],
   "source": [
    "etc = ens.ExtraTreesClassifier(random_state=random_state, n_jobs=-1, criterion='gini',\n",
    "                               n_estimators=45,\n",
    "                               max_depth=3)\n",
    "scores = cv_rep(etc, X, y, cv, scoring)\n",
    "base_scores['etc'] = [scores.loc['mean_test', refit], scores.loc['mean_train', refit]]\n",
    "print(scores)\n",
    "# param_ranges = {'n_estimators': np.arange(5, 100, 20),\n",
    "#                 'max_depth': np.arange(3, 10)}\n",
    "# etc, scores = train_best_model(etc, param_ranges, X, y, scoring, cv, refit=refit)\n",
    "\n",
    "# param_ranges = {'ccp_alpha': np.linspace(0.001,0.01, 15)}\n",
    "# etc, scores = train_best_model(etc, param_ranges, X, y, scoring, cv, refit=refit)\n",
    "\n",
    "# base_scores['etc'] = scores.loc['mean_test', refit]"
   ]
  },
  {
   "cell_type": "code",
   "execution_count": 545,
   "metadata": {},
   "outputs": [
    {
     "name": "stdout",
     "output_type": "stream",
     "text": [
      "            balanced_accuracy   roc_auc  precision_macro\n",
      "mean_train           0.847127  0.943485         0.876763\n",
      "std_train            0.014869  0.008349         0.008925\n",
      "mean_test            0.804110  0.883619         0.838836\n",
      "std_test             0.026141  0.017656         0.026026\n"
     ]
    }
   ],
   "source": [
    "rfc = ens.RandomForestClassifier(random_state=random_state, n_jobs=-1, criterion='entropy',\n",
    "                                 n_estimators=85,\n",
    "                                 max_depth=9,\n",
    "                                 ccp_alpha=0.0112637)\n",
    "scores = cv_rep(rfc, X, y, cv, scoring)\n",
    "base_scores['rfc'] = [scores.loc['mean_test', refit], scores.loc['mean_train', refit]]\n",
    "print(scores)\n",
    "# param_ranges = {'n_estimators': np.arange(5, 100, 20),\n",
    "#                 'max_depth': np.arange(5, 10)}\n",
    "# rfc, scores = train_best_model(rfc, param_ranges, X, y, scoring, cv, refit=refit)\n",
    "\n",
    "# param_ranges = {'ccp_alpha': np.linspace(0.001, 0.01, 15)}\n",
    "# rfc, scores = train_best_model(rfc, param_ranges, X, y, scoring, cv, refit=refit)\n",
    "\n",
    "# base_scores['rfc'] = scores.loc['mean_test', refit]"
   ]
  },
  {
   "cell_type": "code",
   "execution_count": 546,
   "metadata": {},
   "outputs": [
    {
     "name": "stdout",
     "output_type": "stream",
     "text": [
      "            balanced_accuracy   roc_auc  precision_macro\n",
      "mean_train           0.749863  0.837161         0.745929\n",
      "std_train            0.016617  0.011935         0.016772\n",
      "mean_test            0.735204  0.824428         0.733524\n",
      "std_test             0.020524  0.020815         0.018067\n"
     ]
    }
   ],
   "source": [
    "lr = lm.LogisticRegression(class_weight=class_weights, random_state=random_state, n_jobs=-1,\n",
    "                           penalty='l2',\n",
    "                           solver='newton-cg',\n",
    "                           dual=False,\n",
    "                           C=4.747)\n",
    "scores = cv_rep(lr, X, y, cv, scoring)\n",
    "base_scores['lr'] = [scores.loc['mean_test', refit], scores.loc['mean_train', refit]]\n",
    "print(scores)\n",
    "# param_ranges = {'C': np.linspace(0.1, 10, 99), 'solver': ['newton-cg', 'lbfgs', 'liblinear', 'sag', 'saga']}\n",
    "# lr, scores = train_best_model(lr, param_ranges, X, y, scoring, cv, refit=refit)\n",
    "# base_scores['lr'] = scores.loc['mean_test', refit]"
   ]
  },
  {
   "cell_type": "code",
   "execution_count": 547,
   "metadata": {},
   "outputs": [
    {
     "name": "stdout",
     "output_type": "stream",
     "text": [
      "            balanced_accuracy   roc_auc  precision_macro\n",
      "mean_train           0.748218  0.802292         0.750101\n",
      "std_train            0.015972  0.011087         0.019553\n",
      "mean_test            0.739794  0.783798         0.748635\n",
      "std_test             0.014708  0.019675         0.014954\n"
     ]
    }
   ],
   "source": [
    "pac = lm.PassiveAggressiveClassifier(class_weight=class_weights, random_state=random_state, n_jobs=-1,\n",
    "                                     C=0.0014999)\n",
    "scores = cv_rep(pac, X, y, cv, scoring)\n",
    "base_scores['pac'] = [scores.loc['mean_test', refit], scores.loc['mean_train', refit]]\n",
    "print(scores)\n",
    "\n",
    "# param_ranges = {'C': np.linspace(0.0001, 0.005, 50)}\n",
    "# pac, scores = train_best_model(pac, param_ranges, X, y, scoring, cv, refit=refit)\n",
    "# base_scores['pac'] = scores.loc['mean_test', refit]"
   ]
  },
  {
   "cell_type": "code",
   "execution_count": 548,
   "metadata": {},
   "outputs": [
    {
     "name": "stdout",
     "output_type": "stream",
     "text": [
      "            balanced_accuracy   roc_auc  precision_macro\n",
      "mean_train           0.751308  0.836946         0.749738\n",
      "std_train            0.016608  0.011784         0.016424\n",
      "mean_test            0.735990  0.824610         0.735462\n",
      "std_test             0.022248  0.019798         0.020563\n"
     ]
    }
   ],
   "source": [
    "rc = lm.RidgeClassifier(class_weight=class_weights, random_state=random_state)\n",
    "scores = cv_rep(rc, X, y, cv, scoring)\n",
    "base_scores['rc'] = [scores.loc['mean_test', refit], scores.loc['mean_train', refit]]\n",
    "print(scores)\n",
    "\n",
    "# param_ranges = {'alpha': np.linspace(0.1, 0.9, 40)}\n",
    "# rc, scores = train_best_model(rc, param_ranges, X, y, scoring, cv, refit=refit)\n",
    "# base_scores['rc'] = scores.loc['mean_test', refit]"
   ]
  },
  {
   "cell_type": "code",
   "execution_count": 549,
   "metadata": {},
   "outputs": [
    {
     "name": "stdout",
     "output_type": "stream",
     "text": [
      "            balanced_accuracy   roc_auc  precision_macro\n",
      "mean_train           0.821381  0.890561         0.842539\n",
      "std_train            0.011837  0.013189         0.009434\n",
      "mean_test            0.805452  0.866111         0.833711\n",
      "std_test             0.022130  0.018321         0.020293\n"
     ]
    }
   ],
   "source": [
    "svc = svm.SVC(kernel='rbf', gamma='scale', shrinking=True, class_weight=class_weights,\n",
    "              C=3.5778571)\n",
    "scores = cv_rep(svc, X, y, cv, scoring)\n",
    "base_scores['svc'] = [scores.loc['mean_test', refit], scores.loc['mean_train', refit]]\n",
    "print(scores)\n",
    "\n",
    "# param_ranges = {'C': np.linspace(0.01, 10, 99)}\n",
    "# svc, scores = train_best_model(svc, param_ranges, X, y, scoring, cv, refit=refit)\n",
    "# base_scores['svc'] = scores.loc['mean_test', refit]"
   ]
  },
  {
   "cell_type": "code",
   "execution_count": 550,
   "metadata": {},
   "outputs": [
    {
     "name": "stdout",
     "output_type": "stream",
     "text": [
      "            balanced_accuracy   roc_auc  precision_macro\n",
      "mean_train           0.815982  0.889747         0.851998\n",
      "std_train            0.013239  0.009961         0.007797\n",
      "mean_test            0.798947  0.864445         0.841691\n",
      "std_test             0.022316  0.019179         0.020850\n"
     ]
    }
   ],
   "source": [
    "nusvc = svm.NuSVC(kernel='rbf', gamma='scale', shrinking=True, class_weight=class_weights,\n",
    "                 nu=0.40397959)\n",
    "scores = cv_rep(nusvc, X, y, cv, scoring)\n",
    "base_scores['nusvc'] = [scores.loc['mean_test', refit], scores.loc['mean_train', refit]]\n",
    "print(scores)\n",
    "\n",
    "# param_ranges = {'nu': np.linspace(0.01,1,99)}\n",
    "# nusvc, scores = train_best_model(nusvc, param_ranges, X, y, scoring, cv, refit=refit)\n",
    "# base_scores['nusvc'] = scores.loc['mean_test', refit]"
   ]
  },
  {
   "cell_type": "code",
   "execution_count": 551,
   "metadata": {},
   "outputs": [
    {
     "data": {
      "text/html": [
       "<div>\n",
       "<style scoped>\n",
       "    .dataframe tbody tr th:only-of-type {\n",
       "        vertical-align: middle;\n",
       "    }\n",
       "\n",
       "    .dataframe tbody tr th {\n",
       "        vertical-align: top;\n",
       "    }\n",
       "\n",
       "    .dataframe thead th {\n",
       "        text-align: right;\n",
       "    }\n",
       "</style>\n",
       "<table border=\"1\" class=\"dataframe\">\n",
       "  <thead>\n",
       "    <tr style=\"text-align: right;\">\n",
       "      <th></th>\n",
       "      <th>abc</th>\n",
       "      <th>svc</th>\n",
       "      <th>rfc</th>\n",
       "      <th>etc</th>\n",
       "      <th>gbc</th>\n",
       "      <th>nusvc</th>\n",
       "      <th>gpc</th>\n",
       "      <th>lda</th>\n",
       "      <th>qda</th>\n",
       "      <th>pac</th>\n",
       "      <th>rc</th>\n",
       "      <th>lr</th>\n",
       "    </tr>\n",
       "  </thead>\n",
       "  <tbody>\n",
       "    <tr>\n",
       "      <th>test_score</th>\n",
       "      <td>0.812798</td>\n",
       "      <td>0.805452</td>\n",
       "      <td>0.804110</td>\n",
       "      <td>0.803213</td>\n",
       "      <td>0.801086</td>\n",
       "      <td>0.798947</td>\n",
       "      <td>0.781559</td>\n",
       "      <td>0.759776</td>\n",
       "      <td>0.755237</td>\n",
       "      <td>0.739794</td>\n",
       "      <td>0.735990</td>\n",
       "      <td>0.735204</td>\n",
       "    </tr>\n",
       "    <tr>\n",
       "      <th>train_score</th>\n",
       "      <td>0.827334</td>\n",
       "      <td>0.821381</td>\n",
       "      <td>0.847127</td>\n",
       "      <td>0.824987</td>\n",
       "      <td>0.822081</td>\n",
       "      <td>0.815982</td>\n",
       "      <td>0.859569</td>\n",
       "      <td>0.773154</td>\n",
       "      <td>0.774576</td>\n",
       "      <td>0.748218</td>\n",
       "      <td>0.751308</td>\n",
       "      <td>0.749863</td>\n",
       "    </tr>\n",
       "  </tbody>\n",
       "</table>\n",
       "</div>"
      ],
      "text/plain": [
       "                  abc       svc       rfc       etc       gbc     nusvc  \\\n",
       "test_score   0.812798  0.805452  0.804110  0.803213  0.801086  0.798947   \n",
       "train_score  0.827334  0.821381  0.847127  0.824987  0.822081  0.815982   \n",
       "\n",
       "                  gpc       lda       qda       pac        rc        lr  \n",
       "test_score   0.781559  0.759776  0.755237  0.739794  0.735990  0.735204  \n",
       "train_score  0.859569  0.773154  0.774576  0.748218  0.751308  0.749863  "
      ]
     },
     "execution_count": 551,
     "metadata": {},
     "output_type": "execute_result"
    }
   ],
   "source": [
    "pd.DataFrame(base_scores, index=['test_score', 'train_score']).sort_values(by='test_score', axis=1,ascending=False)"
   ]
  },
  {
   "cell_type": "code",
   "execution_count": 552,
   "metadata": {},
   "outputs": [],
   "source": [
    "base_models_surv_dic = {'lda':lda,'qda':qda,'abc':abc,'etc':etc,'rfc':rfc,'lr':lr,'pac':pac,'rc':rc,'svc':svc,'nusvc':nusvc,'gpc':gpc,'gbc':gbc}"
   ]
  },
  {
   "cell_type": "code",
   "execution_count": 553,
   "metadata": {},
   "outputs": [],
   "source": [
    "base_models_surv = [(k,base_models_surv_dic[k]) for k in base_models_surv_dic.keys()]"
   ]
  },
  {
   "cell_type": "code",
   "execution_count": 554,
   "metadata": {},
   "outputs": [
    {
     "data": {
      "image/png": "[encoded data removed]",
      "text/plain": [
       "<Figure size 1728x576 with 24 Axes>"
      ]
     },
     "metadata": {
      "needs_background": "light"
     },
     "output_type": "display_data"
    }
   ],
   "source": [
    "grd_n = len(base_models_surv)\n",
    "grd_cols_n = 6\n",
    "grd_rows_n = int(math.ceil(grd_n / grd_cols_n))\n",
    "fig = plt.figure()\n",
    "fig.set_size_inches(4 * grd_cols_n, 4 * grd_rows_n)\n",
    "gs = gridspec.GridSpec(grd_rows_n, grd_cols_n, figure=fig, wspace=0.3, hspace=0.3)\n",
    "\n",
    "for i, m in enumerate(base_models_surv):\n",
    "    lbl, model = m\n",
    "    plot_confusion_matrix(model, X, y, ax=fig.add_subplot(gs[i]), normalize=True, title=lbl)"
   ]
  },
  {
   "cell_type": "code",
   "execution_count": 555,
   "metadata": {},
   "outputs": [
    {
     "data": {
      "image/png": "[encoded data removed]",
      "text/plain": [
       "<Figure size 720x720 with 2 Axes>"
      ]
     },
     "metadata": {
      "needs_background": "light"
     },
     "output_type": "display_data"
    }
   ],
   "source": [
    "preds_base = base_models_predictions(base_models_surv, X)\n",
    "fig = plt.figure()\n",
    "fig.set_size_inches(10, 10)\n",
    "corr_matrix = preds_base.corr()\n",
    "plot_correlation_matrix(ax=fig.add_subplot(1,1,1),\n",
    "                              data=corr_matrix,\n",
    "                             cmap=sns.diverging_palette(200, 15, s=75, l=50, sep=1, n=25, center='light', as_cmap=False))"
   ]
  },
  {
   "cell_type": "code",
   "execution_count": 556,
   "metadata": {},
   "outputs": [
    {
     "data": {
      "text/html": [
       "<div>\n",
       "<style scoped>\n",
       "    .dataframe tbody tr th:only-of-type {\n",
       "        vertical-align: middle;\n",
       "    }\n",
       "\n",
       "    .dataframe tbody tr th {\n",
       "        vertical-align: top;\n",
       "    }\n",
       "\n",
       "    .dataframe thead th {\n",
       "        text-align: right;\n",
       "    }\n",
       "</style>\n",
       "<table border=\"1\" class=\"dataframe\">\n",
       "  <thead>\n",
       "    <tr style=\"text-align: right;\">\n",
       "      <th></th>\n",
       "      <th>svc</th>\n",
       "      <th>abc</th>\n",
       "      <th>gbc</th>\n",
       "      <th>etc</th>\n",
       "      <th>nusvc</th>\n",
       "      <th>rfc</th>\n",
       "      <th>lda</th>\n",
       "      <th>qda</th>\n",
       "      <th>rc</th>\n",
       "      <th>lr</th>\n",
       "      <th>gpc</th>\n",
       "      <th>pac</th>\n",
       "    </tr>\n",
       "  </thead>\n",
       "  <tbody>\n",
       "    <tr>\n",
       "      <th>cc</th>\n",
       "      <td>0.799005</td>\n",
       "      <td>0.791394</td>\n",
       "      <td>0.789467</td>\n",
       "      <td>0.789139</td>\n",
       "      <td>0.788641</td>\n",
       "      <td>0.769388</td>\n",
       "      <td>0.756093</td>\n",
       "      <td>0.726624</td>\n",
       "      <td>0.70457</td>\n",
       "      <td>0.701825</td>\n",
       "      <td>0.690924</td>\n",
       "      <td>0.689098</td>\n",
       "    </tr>\n",
       "  </tbody>\n",
       "</table>\n",
       "</div>"
      ],
      "text/plain": [
       "         svc       abc       gbc       etc     nusvc       rfc       lda  \\\n",
       "cc  0.799005  0.791394  0.789467  0.789139  0.788641  0.769388  0.756093   \n",
       "\n",
       "         qda       rc        lr       gpc       pac  \n",
       "cc  0.726624  0.70457  0.701825  0.690924  0.689098  "
      ]
     },
     "execution_count": 556,
     "metadata": {},
     "output_type": "execute_result"
    }
   ],
   "source": [
    "corr_sc = {}\n",
    "for k in base_models_surv_dic.keys():\n",
    "    corr_sc[k] = (corr_matrix[k].sum() - 1) / len(corr_matrix.index)\n",
    "df_base_models_corr_sc = pd.DataFrame(corr_sc, index=['cc'])\n",
    "df_base_models_corr_sc.sort_values(by='cc', axis=1, ascending=False)"
   ]
  },
  {
   "cell_type": "code",
   "execution_count": 557,
   "metadata": {},
   "outputs": [],
   "source": [
    "base_models_surv_dic = {'lda':lda,'qda':qda,'abc':abc,'lr':lr,'pac':pac}"
   ]
  },
  {
   "cell_type": "code",
   "execution_count": 558,
   "metadata": {},
   "outputs": [],
   "source": [
    "base_models_surv = [(k,base_models_surv_dic[k]) for k in base_models_surv_dic.keys()]"
   ]
  },
  {
   "cell_type": "code",
   "execution_count": 559,
   "metadata": {},
   "outputs": [
    {
     "data": {
      "image/png": "[encoded data removed]",
      "text/plain": [
       "<Figure size 720x720 with 2 Axes>"
      ]
     },
     "metadata": {
      "needs_background": "light"
     },
     "output_type": "display_data"
    }
   ],
   "source": [
    "preds_base = base_models_predictions(base_models_surv, X)\n",
    "fig = plt.figure()\n",
    "fig.set_size_inches(10, 10)\n",
    "corr_matrix = preds_base.corr()\n",
    "plot_correlation_matrix(ax=fig.add_subplot(1,1,1),\n",
    "                              data=corr_matrix,\n",
    "                             cmap=sns.diverging_palette(200, 15, s=75, l=50, sep=1, n=25, center='light', as_cmap=False))"
   ]
  },
  {
   "cell_type": "code",
   "execution_count": 560,
   "metadata": {},
   "outputs": [],
   "source": [
    "def train_final_models(models, X, y, score, cv_folds=5):\n",
    "    scores = {}\n",
    "    fin_models = []\n",
    "    for m in models:\n",
    "        model_st = ens.StackingClassifier(estimators=base_models_surv,\n",
    "                                          final_estimator=m[1],\n",
    "                                          cv=cv_folds, \n",
    "                                          stack_method='predict', \n",
    "                                          n_jobs=-1)\n",
    "        res = cv_rep(model_st, X, y, cv, scoring)\n",
    "        scores[m[0]] = [res.loc['mean_test', score], res.loc['mean_train', score]]\n",
    "        fin_models.append((m[0], model_st))\n",
    "    scores = pd.DataFrame(scores, index=['Test_score', 'Train_score']).sort_values(by='Test_score', axis=1,ascending=False)\n",
    "    return fin_models, scores"
   ]
  },
  {
   "cell_type": "code",
   "execution_count": 561,
   "metadata": {},
   "outputs": [],
   "source": [
    "final_models_surv = [('abc', ens.AdaBoostClassifier()),\n",
    "                     ('gbc', ens.GradientBoostingClassifier()),\n",
    "                     ('etc', ens.ExtraTreesClassifier()),\n",
    "                     ('rfc', ens.RandomForestClassifier()),\n",
    "                     ('lr', lm.LogisticRegression()),\n",
    "                     ('svc', svm.SVC())]"
   ]
  },
  {
   "cell_type": "code",
   "execution_count": 562,
   "metadata": {},
   "outputs": [],
   "source": [
    "fin_models, scores = train_final_models(final_models_surv, X, y, cv_folds=5, score=refit)"
   ]
  },
  {
   "cell_type": "code",
   "execution_count": 563,
   "metadata": {},
   "outputs": [
    {
     "data": {
      "text/html": [
       "<div>\n",
       "<style scoped>\n",
       "    .dataframe tbody tr th:only-of-type {\n",
       "        vertical-align: middle;\n",
       "    }\n",
       "\n",
       "    .dataframe tbody tr th {\n",
       "        vertical-align: top;\n",
       "    }\n",
       "\n",
       "    .dataframe thead th {\n",
       "        text-align: right;\n",
       "    }\n",
       "</style>\n",
       "<table border=\"1\" class=\"dataframe\">\n",
       "  <thead>\n",
       "    <tr style=\"text-align: right;\">\n",
       "      <th></th>\n",
       "      <th>lr</th>\n",
       "      <th>abc</th>\n",
       "      <th>svc</th>\n",
       "      <th>rfc</th>\n",
       "      <th>gbc</th>\n",
       "      <th>etc</th>\n",
       "    </tr>\n",
       "  </thead>\n",
       "  <tbody>\n",
       "    <tr>\n",
       "      <th>Test_score</th>\n",
       "      <td>0.812312</td>\n",
       "      <td>0.811342</td>\n",
       "      <td>0.810794</td>\n",
       "      <td>0.808367</td>\n",
       "      <td>0.808367</td>\n",
       "      <td>0.807396</td>\n",
       "    </tr>\n",
       "    <tr>\n",
       "      <th>Train_score</th>\n",
       "      <td>0.826754</td>\n",
       "      <td>0.825779</td>\n",
       "      <td>0.826903</td>\n",
       "      <td>0.824860</td>\n",
       "      <td>0.824951</td>\n",
       "      <td>0.823212</td>\n",
       "    </tr>\n",
       "  </tbody>\n",
       "</table>\n",
       "</div>"
      ],
      "text/plain": [
       "                   lr       abc       svc       rfc       gbc       etc\n",
       "Test_score   0.812312  0.811342  0.810794  0.808367  0.808367  0.807396\n",
       "Train_score  0.826754  0.825779  0.826903  0.824860  0.824951  0.823212"
      ]
     },
     "execution_count": 563,
     "metadata": {},
     "output_type": "execute_result"
    }
   ],
   "source": [
    "scores"
   ]
  },
  {
   "cell_type": "code",
   "execution_count": 564,
   "metadata": {},
   "outputs": [
    {
     "data": {
      "image/png": "[encoded data removed]",
      "text/plain": [
       "<Figure size 1728x288 with 12 Axes>"
      ]
     },
     "metadata": {
      "needs_background": "light"
     },
     "output_type": "display_data"
    }
   ],
   "source": [
    "grd_n = len(fin_models)\n",
    "grd_cols_n = 6\n",
    "grd_rows_n = int(math.ceil(grd_n / grd_cols_n))\n",
    "fig = plt.figure()\n",
    "fig.set_size_inches(4 * grd_cols_n, 4 * grd_rows_n)\n",
    "gs = gridspec.GridSpec(grd_rows_n, grd_cols_n, figure=fig, wspace=0.3, hspace=0.3)\n",
    "\n",
    "for i, m in enumerate(fin_models):\n",
    "    lbl, model = m\n",
    "    plot_confusion_matrix(model, X, y, ax=fig.add_subplot(gs[i]), normalize=True, title=lbl)"
   ]
  },
  {
   "cell_type": "code",
   "execution_count": 565,
   "metadata": {},
   "outputs": [
    {
     "data": {
      "text/html": [
       "<div>\n",
       "<style scoped>\n",
       "    .dataframe tbody tr th:only-of-type {\n",
       "        vertical-align: middle;\n",
       "    }\n",
       "\n",
       "    .dataframe tbody tr th {\n",
       "        vertical-align: top;\n",
       "    }\n",
       "\n",
       "    .dataframe thead th {\n",
       "        text-align: right;\n",
       "    }\n",
       "</style>\n",
       "<table border=\"1\" class=\"dataframe\">\n",
       "  <thead>\n",
       "    <tr style=\"text-align: right;\">\n",
       "      <th></th>\n",
       "      <th>balanced_accuracy</th>\n",
       "      <th>roc_auc</th>\n",
       "      <th>precision_macro</th>\n",
       "    </tr>\n",
       "  </thead>\n",
       "  <tbody>\n",
       "    <tr>\n",
       "      <th>mean_train</th>\n",
       "      <td>0.827334</td>\n",
       "      <td>0.844183</td>\n",
       "      <td>0.843996</td>\n",
       "    </tr>\n",
       "    <tr>\n",
       "      <th>std_train</th>\n",
       "      <td>0.011500</td>\n",
       "      <td>0.013018</td>\n",
       "      <td>0.011481</td>\n",
       "    </tr>\n",
       "    <tr>\n",
       "      <th>mean_test</th>\n",
       "      <td>0.812798</td>\n",
       "      <td>0.828144</td>\n",
       "      <td>0.834610</td>\n",
       "    </tr>\n",
       "    <tr>\n",
       "      <th>std_test</th>\n",
       "      <td>0.021344</td>\n",
       "      <td>0.019086</td>\n",
       "      <td>0.020206</td>\n",
       "    </tr>\n",
       "  </tbody>\n",
       "</table>\n",
       "</div>"
      ],
      "text/plain": [
       "            balanced_accuracy   roc_auc  precision_macro\n",
       "mean_train           0.827334  0.844183         0.843996\n",
       "std_train            0.011500  0.013018         0.011481\n",
       "mean_test            0.812798  0.828144         0.834610\n",
       "std_test             0.021344  0.019086         0.020206"
      ]
     },
     "execution_count": 565,
     "metadata": {},
     "output_type": "execute_result"
    }
   ],
   "source": [
    "model_st = ens.StackingClassifier(estimators=base_models_surv,\n",
    "                                  final_estimator=ens.RandomForestClassifier(random_state=random_state, n_jobs=-1, \n",
    "                                                                             criterion='entropy',\n",
    "                                                                             n_estimators=25,\n",
    "                                                                             max_depth=5,\n",
    "                                                                             ccp_alpha=0.007428571428571),\n",
    "                                  cv=5, \n",
    "                                  stack_method='predict', \n",
    "                                  passthrough=False,\n",
    "                                  n_jobs=-1)\n",
    "\n",
    "# param_ranges = {'final_estimator__n_estimators': np.arange(5, 100, 20),\n",
    "#                 'final_estimator__max_depth': np.arange(5, 10)}\n",
    "# model_st, scores = train_best_model(model_st, param_ranges, X, y, scoring, cv, refit=refit)\n",
    "\n",
    "# param_ranges = {'final_estimator__ccp_alpha': np.linspace(0.001, 0.01, 15)}\n",
    "# model_st, scores = train_best_model(model_st, param_ranges, X, y, scoring, cv, refit=refit)\n",
    "\n",
    "cv_rep(model_st, X, y, cv, scoring)"
   ]
  },
  {
   "cell_type": "code",
   "execution_count": 566,
   "metadata": {},
   "outputs": [
    {
     "data": {
      "image/png": "[encoded data removed]",
      "text/plain": [
       "<Figure size 288x288 with 2 Axes>"
      ]
     },
     "metadata": {
      "needs_background": "light"
     },
     "output_type": "display_data"
    }
   ],
   "source": [
    "fig = plt.figure()\n",
    "fig.set_size_inches(4,4)\n",
    "plot_confusion_matrix(model_st, X, y, ax=fig.add_subplot(1,1,1), normalize=True, title='')"
   ]
  },
  {
   "cell_type": "code",
   "execution_count": null,
   "metadata": {},
   "outputs": [],
   "source": []
  },
  {
   "cell_type": "code",
   "execution_count": null,
   "metadata": {},
   "outputs": [],
   "source": []
  }
 ],
 "metadata": {
  "kernelspec": {
   "display_name": "Python 3",
   "language": "python",
   "name": "python3"
  },
  "language_info": {
   "codemirror_mode": {
    "name": "ipython",
    "version": 3
   },
   "file_extension": ".py",
   "mimetype": "text/x-python",
   "name": "python",
   "nbconvert_exporter": "python",
   "pygments_lexer": "ipython3",
   "version": "3.8.1"
  }
 },
 "nbformat": 4,
 "nbformat_minor": 4
}
