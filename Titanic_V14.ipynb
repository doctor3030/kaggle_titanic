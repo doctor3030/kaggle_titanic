{
 "cells": [
  {
   "cell_type": "code",
   "execution_count": 584,
   "metadata": {
    "scrolled": true
   },
   "outputs": [],
   "source": [
    "%config IPCompleter.greedy=True\n",
    "from IPython.display import IFrame\n",
    "\n",
    "import pandas as pd\n",
    "import numpy as np\n",
    "import string\n",
    "import math\n",
    "\n",
    "import matplotlib.pyplot as plt\n",
    "import matplotlib.gridspec as gridspec\n",
    "import seaborn as sns\n",
    "\n",
    "import sklearn.metrics as metrics\n",
    "import sklearn.model_selection as model_selection\n",
    "from sklearn import discriminant_analysis as disan\n",
    "from sklearn import calibration as calib\n",
    "from sklearn import linear_model as lm\n",
    "from sklearn import svm\n",
    "from sklearn import gaussian_process as gaup\n",
    "from sklearn import mixture as mix\n",
    "from sklearn import tree\n",
    "from sklearn import ensemble as ens\n",
    "\n",
    "\n",
    "import sklearn.feature_selection as feature_selection\n",
    "\n",
    "import pickle"
   ]
  },
  {
   "cell_type": "markdown",
   "metadata": {},
   "source": [
    "#### Plotting Helper functions"
   ]
  },
  {
   "cell_type": "code",
   "execution_count": 97,
   "metadata": {
    "jupyter": {
     "source_hidden": true
    }
   },
   "outputs": [],
   "source": [
    "def plot_bar_diagram(ax, data, nested=False, plots_labels=None, plots_colors=None, bar_labels='', width=0.4, title='', length_label='',\n",
    "                     orient='v', legend_loc=None, spines=None):\n",
    "    \"\"\"\n",
    "    Plots single or multiple bar diagrams with data labels on top(aside) of the bars\n",
    "    :param ax: matplotlib axes\n",
    "    :param data: pandas DataFrame where rows correspond to bar plots and columns correspond to data labels (columns in data)\n",
    "    :param nested: boolean. If True, bar plots are plotted on top of each other. If False bar plots are plotted besides each other\n",
    "    :param bar_labels: pandas DataFrame. labels over the bars. Should be same shape as data\n",
    "    :param width: float. Bar width\n",
    "    :param title: string. Plot title\n",
    "    :param length_label: bar height/width axis label\n",
    "    :param spines: dictionary of booleans. indicates to plot borders or not. Keys=['left', 'right', 'top', 'bottom'], values=True/False\n",
    "    :param orient: string. Bar orientation: 'v'-vertical; 'h'-horisontal\n",
    "    \"\"\"\n",
    "    bars = list(data.index)\n",
    "    cols = list(data.columns)\n",
    "    cells = data.values.tolist()\n",
    "\n",
    "    if bar_labels is not None:\n",
    "        for i, lab in enumerate(bars):\n",
    "            labels = ([f\"{j:.4f}\" for j in cells[i]] if bar_labels=='' else bar_labels[i])\n",
    "\n",
    "    if orient == 'v':\n",
    "        for i, lab in enumerate(bars):\n",
    "            label = (bars[i] if plots_labels is None else plots_labels[i])\n",
    "            color = ('r' if plots_colors is None else plots_colors[i])\n",
    "            x = np.arange(len(cols))\n",
    "            bar = ax.bar(x=x + width * (i - len(bars) / 2), height=cells[i], width=width,\n",
    "                         label=label,\n",
    "                         color=color,\n",
    "                         align=('center' if nested else 'edge'))\n",
    "            if bar_labels is not None:\n",
    "                autolabel(bar, ax, labels, oriented='v')\n",
    "\n",
    "        ax.set_xticks(np.arange(len(cols)))\n",
    "        ax.set_xticklabels(cols)\n",
    "        if not length_label=='':\n",
    "            ax.set_ylabel(length_label)\n",
    "    elif orient == 'h':\n",
    "        for i, lab in enumerate(bars):\n",
    "            label = (bars[i] if plots_labels is None else plots_labels[i])\n",
    "            y = np.arange(len(cols))\n",
    "            height = width\n",
    "            bar = ax.barh(y=y + height * (i - len(bars) / 2), width=cells[i], height=width,\n",
    "                          label=label,\n",
    "                          color=plots_colors[i],\n",
    "                          align=('center' if nested else 'edge'))\n",
    "            if bar_labels is not None:\n",
    "                autolabel(bar, ax, labels, oriented='h')\n",
    "\n",
    "        ax.set_yticks(np.arange(len(cols)))\n",
    "        ax.set_yticklabels(cols)\n",
    "        if not length_label=='':\n",
    "            ax.set_xlabel(length_label)\n",
    "    else:\n",
    "        raise ValueError('orient parameter value error. expected v or h ')\n",
    "\n",
    "    if not title == '':\n",
    "        ttl = ax.title\n",
    "        ttl.set_position([.5, 1.07])\n",
    "        ax.set_title(title)\n",
    "    if legend_loc is not None:\n",
    "        ax.legend(loc=legend_loc)\n",
    "    else:\n",
    "        ax.legend().set_visible(False)\n",
    "\n",
    "    if spines is None:\n",
    "        spines = {'left': True,\n",
    "                  'right': True,\n",
    "                  'top': True,\n",
    "                  'bottom': True}\n",
    "    for i in list(spines.keys()):\n",
    "        ax.spines[i].set_visible(spines[i])\n",
    "\n",
    "def autolabel(bars, ax, labels, oriented='v'):\n",
    "    \"\"\"Attach a text label displaying its height/width (depends of orientation).\"\"\"\n",
    "    for bar, label in zip(bars, labels):\n",
    "        if oriented == 'v':\n",
    "            height = bar.get_height()\n",
    "            ax.annotate(label,\n",
    "                        xy=(bar.get_x() + bar.get_width() / 2, height),\n",
    "                        xytext=(0, 2),\n",
    "                        textcoords=\"offset points\",\n",
    "                        ha='center')\n",
    "        else:\n",
    "            width = bar.get_width()\n",
    "            ax.annotate(label,\n",
    "                        xy=(width, bar.get_y() + bar.get_height() / 2),\n",
    "                        xytext=(1, 0),\n",
    "                        textcoords=\"offset points\",\n",
    "                        ha='left',\n",
    "                        va='center')\n",
    "\n",
    "def plot_correlation_matrix(ax, data, cmap='hot', diagonal=False, square=True):\n",
    "    mask = None\n",
    "    if diagonal:\n",
    "        mask = np.zeros_like(data, dtype=np.bool)\n",
    "        mask[np.triu_indices_from(mask)] = True\n",
    "    sns.heatmap(data, ax=ax,\n",
    "                mask=mask,\n",
    "                square=square,\n",
    "                linewidths=1.5,\n",
    "                cmap=cmap,\n",
    "                cbar_kws={'shrink': 1, 'ticks': [-1, -.5, 0, 0.5, 1]},\n",
    "                vmin=-1,\n",
    "                vmax=1,\n",
    "                annot=True,\n",
    "                annot_kws={'size': 8})\n",
    "    ax.set_xticklabels(ax.get_xticklabels(), rotation=45, horizontalalignment='right')\n",
    "    \n",
    "def plot_confusion_matrix(model, X, y, ax, normalize=True, title=None):\n",
    "    \"\"\"Plots confusion matrix\n",
    "    Parameters:\n",
    "    ax =  matplotlib axes\n",
    "    normalyze = normalization over truth (number_predicted / total_count_of_this_class)\n",
    "    \"\"\"\n",
    "    model.fit(X,y)\n",
    "    conf_matrix = metrics.confusion_matrix(y_true=y, y_pred=model.predict(X),\n",
    "                              labels=None)  # returns matrix for sorted classes (i.e 0, 1, 2,..., n)\n",
    "    classes = y.unique()\n",
    "    classes.sort()\n",
    "    n_classes = [len(y[y == c]) for c in classes]\n",
    "    if normalize == True:\n",
    "        n_matrix = [[i for j in range(len(n_classes))] for i in n_classes]\n",
    "        norm_matrix = conf_matrix / np.array(n_classes)\n",
    "        ns_matrix = np.array([[i for j in enumerate(n_classes)] for i in n_classes])\n",
    "        labels = np.array([[\"{0:.2%} \\n {1:d} of {2:d}\".format(norm_matrix[i, j], conf_matrix[i, j],\n",
    "                                                               ns_matrix[i, j]) for j, v in\n",
    "                            enumerate(norm_matrix[i])]\n",
    "                           for i, v in enumerate(norm_matrix)])\n",
    "\n",
    "        sns.heatmap(norm_matrix, annot=labels, fmt='', cmap='Blues')\n",
    "    else:\n",
    "        sns.heatmap(conf_matrix, annot=True, fmt='d', cmap='Blues')\n",
    "\n",
    "    ax.set_ylabel('True Labels')\n",
    "    ax.set_xlabel('Predicted Labels')\n",
    "    if title is None:\n",
    "        title = model.__class__.__name__\n",
    "    ax.set_title(title)\n",
    "    ttl = ax.title\n",
    "    ttl.set_position([.5, 1.07])\n",
    "\n",
    "    # fix for mpl bug that cuts off top/bottom of seaborn viz\n",
    "    b, t = ax.get_ylim()  # discover the values for bottom and top\n",
    "    b += 0.5  # Add 0.5 to the bottom\n",
    "    t -= 0.5  # Subtract 0.5 from the top\n",
    "    ax.set_ylim(b, t)  # update the ylim(bottom, top) values"
   ]
  },
  {
   "cell_type": "markdown",
   "metadata": {},
   "source": [
    "#### Helper functions for model training"
   ]
  },
  {
   "cell_type": "code",
   "execution_count": 98,
   "metadata": {
    "jupyter": {
     "source_hidden": true
    }
   },
   "outputs": [],
   "source": [
    "# Tune parameters\n",
    "def param_tune(model, X_train, y_train, param_ranges, scoring, cv, refit=''):\n",
    "    if refit == '': refit = list(scoring.keys())[0]\n",
    "    gsearch = model_selection.GridSearchCV(estimator=model, param_grid=param_ranges, scoring=scoring, cv=cv, refit=refit, return_train_score=True,\n",
    "                           n_jobs=-1)\n",
    "    gsearch.fit(X_train, y_train)\n",
    "    cv_res = pd.DataFrame(gsearch.cv_results_)\n",
    "    cv_res_sel = []\n",
    "    for i in list(scoring.keys()):\n",
    "        df = cv_res.loc[cv_res['rank_test_%s' % i] == 1].head(1)\n",
    "        cv_res_sel.append(df[['mean_train_%s' % i, 'std_train_%s' % i, 'mean_test_%s' % i, 'std_test_%s' % i]].values[0])\n",
    "\n",
    "    cv_res_sel = pd.DataFrame(cv_res_sel, index=list(scoring.keys()), columns=['mean_train', 'std_train', 'mean_test', 'std_test'])\n",
    "    cv_results = cv_res_sel.T\n",
    "    cv_results = cv_results.apply(lambda i: np.absolute(i))\n",
    "    return gsearch.best_estimator_, gsearch.best_params_, gsearch.best_score_, cv_results\n",
    "\n",
    "# Cross-validation report\n",
    "def cv_rep(model, X, y, cv, scoring):\n",
    "    cv_res = model_selection.cross_validate(model, X, y, scoring=scoring, cv=cv, return_train_score=True, n_jobs=-1)\n",
    "    cv_res = [[np.mean(cv_res['train_%s' % i]), np.std(cv_res['train_%s' % i]), np.mean(cv_res['test_%s' % i]), np.std(cv_res['test_%s' % i])] for i in list(scoring.keys())]\n",
    "    cv_results = pd.DataFrame(cv_res, index=list(scoring.keys()), columns=['mean_train', 'std_train', 'mean_test', 'std_test'])\n",
    "    cv_results = cv_results.T\n",
    "    cv_results = cv_results.apply(lambda i: np.absolute(i))\n",
    "    return cv_results\n",
    "\n",
    "# Tune model parameters and print CV report\n",
    "def train_best_model(model, param_ranges, X_train, y_train, scoring, cv, refit):\n",
    "    model, best_params, best_score, cv_res = param_tune(model, X_train, y_train, param_ranges, scoring, cv, refit=refit)\n",
    "    print(cv_res)\n",
    "    print(best_params)\n",
    "    return model, cv_res\n",
    "\n",
    "# Tune model parameters and print CV report for calibrated classifier model\n",
    "def train_best_model_cal(model, param_ranges, X_train, y_train, scoring, cv, refit):\n",
    "    if model.__class__.__name__=='CalibratedClassifierCV':\n",
    "         model_cal= model \n",
    "    else:\n",
    "        model_cal = calib.CalibratedClassifierCV(base_estimator=model, method='sigmoid', cv=cv)\n",
    "    model_cal, best_params, best_score, cv_res = param_tune(model_cal, X_train, y_train, param_ranges, scoring, cv, refit=refit)\n",
    "    print(cv_res)\n",
    "    print(best_params)\n",
    "    return model, cv_res"
   ]
  },
  {
   "cell_type": "markdown",
   "metadata": {},
   "source": [
    "### Import data"
   ]
  },
  {
   "cell_type": "code",
   "execution_count": 99,
   "metadata": {},
   "outputs": [],
   "source": [
    "#import train dataset\n",
    "filename_tr = 'train.csv'\n",
    "data_train = pd.read_csv(filename_tr)\n",
    "\n",
    "#import test dataset\n",
    "filename_tes = 'test.csv'\n",
    "data_test = pd.read_csv(filename_tes)"
   ]
  },
  {
   "cell_type": "markdown",
   "metadata": {},
   "source": [
    "#### Training Set"
   ]
  },
  {
   "cell_type": "code",
   "execution_count": 100,
   "metadata": {},
   "outputs": [
    {
     "data": {
      "text/html": [
       "<div>\n",
       "<style scoped>\n",
       "    .dataframe tbody tr th:only-of-type {\n",
       "        vertical-align: middle;\n",
       "    }\n",
       "\n",
       "    .dataframe tbody tr th {\n",
       "        vertical-align: top;\n",
       "    }\n",
       "\n",
       "    .dataframe thead th {\n",
       "        text-align: right;\n",
       "    }\n",
       "</style>\n",
       "<table border=\"1\" class=\"dataframe\">\n",
       "  <thead>\n",
       "    <tr style=\"text-align: right;\">\n",
       "      <th></th>\n",
       "      <th>PassengerId</th>\n",
       "      <th>Survived</th>\n",
       "      <th>Pclass</th>\n",
       "      <th>Name</th>\n",
       "      <th>Sex</th>\n",
       "      <th>Age</th>\n",
       "      <th>SibSp</th>\n",
       "      <th>Parch</th>\n",
       "      <th>Ticket</th>\n",
       "      <th>Fare</th>\n",
       "      <th>Cabin</th>\n",
       "      <th>Embarked</th>\n",
       "    </tr>\n",
       "  </thead>\n",
       "  <tbody>\n",
       "    <tr>\n",
       "      <th>0</th>\n",
       "      <td>1</td>\n",
       "      <td>0</td>\n",
       "      <td>3</td>\n",
       "      <td>Braund, Mr. Owen Harris</td>\n",
       "      <td>male</td>\n",
       "      <td>22.0</td>\n",
       "      <td>1</td>\n",
       "      <td>0</td>\n",
       "      <td>A/5 21171</td>\n",
       "      <td>7.2500</td>\n",
       "      <td>NaN</td>\n",
       "      <td>S</td>\n",
       "    </tr>\n",
       "    <tr>\n",
       "      <th>1</th>\n",
       "      <td>2</td>\n",
       "      <td>1</td>\n",
       "      <td>1</td>\n",
       "      <td>Cumings, Mrs. John Bradley (Florence Briggs Th...</td>\n",
       "      <td>female</td>\n",
       "      <td>38.0</td>\n",
       "      <td>1</td>\n",
       "      <td>0</td>\n",
       "      <td>PC 17599</td>\n",
       "      <td>71.2833</td>\n",
       "      <td>C85</td>\n",
       "      <td>C</td>\n",
       "    </tr>\n",
       "    <tr>\n",
       "      <th>2</th>\n",
       "      <td>3</td>\n",
       "      <td>1</td>\n",
       "      <td>3</td>\n",
       "      <td>Heikkinen, Miss. Laina</td>\n",
       "      <td>female</td>\n",
       "      <td>26.0</td>\n",
       "      <td>0</td>\n",
       "      <td>0</td>\n",
       "      <td>STON/O2. 3101282</td>\n",
       "      <td>7.9250</td>\n",
       "      <td>NaN</td>\n",
       "      <td>S</td>\n",
       "    </tr>\n",
       "    <tr>\n",
       "      <th>3</th>\n",
       "      <td>4</td>\n",
       "      <td>1</td>\n",
       "      <td>1</td>\n",
       "      <td>Futrelle, Mrs. Jacques Heath (Lily May Peel)</td>\n",
       "      <td>female</td>\n",
       "      <td>35.0</td>\n",
       "      <td>1</td>\n",
       "      <td>0</td>\n",
       "      <td>113803</td>\n",
       "      <td>53.1000</td>\n",
       "      <td>C123</td>\n",
       "      <td>S</td>\n",
       "    </tr>\n",
       "    <tr>\n",
       "      <th>4</th>\n",
       "      <td>5</td>\n",
       "      <td>0</td>\n",
       "      <td>3</td>\n",
       "      <td>Allen, Mr. William Henry</td>\n",
       "      <td>male</td>\n",
       "      <td>35.0</td>\n",
       "      <td>0</td>\n",
       "      <td>0</td>\n",
       "      <td>373450</td>\n",
       "      <td>8.0500</td>\n",
       "      <td>NaN</td>\n",
       "      <td>S</td>\n",
       "    </tr>\n",
       "  </tbody>\n",
       "</table>\n",
       "</div>"
      ],
      "text/plain": [
       "   PassengerId  Survived  Pclass  \\\n",
       "0            1         0       3   \n",
       "1            2         1       1   \n",
       "2            3         1       3   \n",
       "3            4         1       1   \n",
       "4            5         0       3   \n",
       "\n",
       "                                                Name     Sex   Age  SibSp  \\\n",
       "0                            Braund, Mr. Owen Harris    male  22.0      1   \n",
       "1  Cumings, Mrs. John Bradley (Florence Briggs Th...  female  38.0      1   \n",
       "2                             Heikkinen, Miss. Laina  female  26.0      0   \n",
       "3       Futrelle, Mrs. Jacques Heath (Lily May Peel)  female  35.0      1   \n",
       "4                           Allen, Mr. William Henry    male  35.0      0   \n",
       "\n",
       "   Parch            Ticket     Fare Cabin Embarked  \n",
       "0      0         A/5 21171   7.2500   NaN        S  \n",
       "1      0          PC 17599  71.2833   C85        C  \n",
       "2      0  STON/O2. 3101282   7.9250   NaN        S  \n",
       "3      0            113803  53.1000  C123        S  \n",
       "4      0            373450   8.0500   NaN        S  "
      ]
     },
     "execution_count": 100,
     "metadata": {},
     "output_type": "execute_result"
    }
   ],
   "source": [
    "data_train.head(5)"
   ]
  },
  {
   "cell_type": "markdown",
   "metadata": {},
   "source": [
    "#### Test Set"
   ]
  },
  {
   "cell_type": "code",
   "execution_count": 101,
   "metadata": {},
   "outputs": [
    {
     "data": {
      "text/html": [
       "<div>\n",
       "<style scoped>\n",
       "    .dataframe tbody tr th:only-of-type {\n",
       "        vertical-align: middle;\n",
       "    }\n",
       "\n",
       "    .dataframe tbody tr th {\n",
       "        vertical-align: top;\n",
       "    }\n",
       "\n",
       "    .dataframe thead th {\n",
       "        text-align: right;\n",
       "    }\n",
       "</style>\n",
       "<table border=\"1\" class=\"dataframe\">\n",
       "  <thead>\n",
       "    <tr style=\"text-align: right;\">\n",
       "      <th></th>\n",
       "      <th>PassengerId</th>\n",
       "      <th>Pclass</th>\n",
       "      <th>Name</th>\n",
       "      <th>Sex</th>\n",
       "      <th>Age</th>\n",
       "      <th>SibSp</th>\n",
       "      <th>Parch</th>\n",
       "      <th>Ticket</th>\n",
       "      <th>Fare</th>\n",
       "      <th>Cabin</th>\n",
       "      <th>Embarked</th>\n",
       "    </tr>\n",
       "  </thead>\n",
       "  <tbody>\n",
       "    <tr>\n",
       "      <th>0</th>\n",
       "      <td>892</td>\n",
       "      <td>3</td>\n",
       "      <td>Kelly, Mr. James</td>\n",
       "      <td>male</td>\n",
       "      <td>34.5</td>\n",
       "      <td>0</td>\n",
       "      <td>0</td>\n",
       "      <td>330911</td>\n",
       "      <td>7.8292</td>\n",
       "      <td>NaN</td>\n",
       "      <td>Q</td>\n",
       "    </tr>\n",
       "    <tr>\n",
       "      <th>1</th>\n",
       "      <td>893</td>\n",
       "      <td>3</td>\n",
       "      <td>Wilkes, Mrs. James (Ellen Needs)</td>\n",
       "      <td>female</td>\n",
       "      <td>47.0</td>\n",
       "      <td>1</td>\n",
       "      <td>0</td>\n",
       "      <td>363272</td>\n",
       "      <td>7.0000</td>\n",
       "      <td>NaN</td>\n",
       "      <td>S</td>\n",
       "    </tr>\n",
       "    <tr>\n",
       "      <th>2</th>\n",
       "      <td>894</td>\n",
       "      <td>2</td>\n",
       "      <td>Myles, Mr. Thomas Francis</td>\n",
       "      <td>male</td>\n",
       "      <td>62.0</td>\n",
       "      <td>0</td>\n",
       "      <td>0</td>\n",
       "      <td>240276</td>\n",
       "      <td>9.6875</td>\n",
       "      <td>NaN</td>\n",
       "      <td>Q</td>\n",
       "    </tr>\n",
       "    <tr>\n",
       "      <th>3</th>\n",
       "      <td>895</td>\n",
       "      <td>3</td>\n",
       "      <td>Wirz, Mr. Albert</td>\n",
       "      <td>male</td>\n",
       "      <td>27.0</td>\n",
       "      <td>0</td>\n",
       "      <td>0</td>\n",
       "      <td>315154</td>\n",
       "      <td>8.6625</td>\n",
       "      <td>NaN</td>\n",
       "      <td>S</td>\n",
       "    </tr>\n",
       "    <tr>\n",
       "      <th>4</th>\n",
       "      <td>896</td>\n",
       "      <td>3</td>\n",
       "      <td>Hirvonen, Mrs. Alexander (Helga E Lindqvist)</td>\n",
       "      <td>female</td>\n",
       "      <td>22.0</td>\n",
       "      <td>1</td>\n",
       "      <td>1</td>\n",
       "      <td>3101298</td>\n",
       "      <td>12.2875</td>\n",
       "      <td>NaN</td>\n",
       "      <td>S</td>\n",
       "    </tr>\n",
       "  </tbody>\n",
       "</table>\n",
       "</div>"
      ],
      "text/plain": [
       "   PassengerId  Pclass                                          Name     Sex  \\\n",
       "0          892       3                              Kelly, Mr. James    male   \n",
       "1          893       3              Wilkes, Mrs. James (Ellen Needs)  female   \n",
       "2          894       2                     Myles, Mr. Thomas Francis    male   \n",
       "3          895       3                              Wirz, Mr. Albert    male   \n",
       "4          896       3  Hirvonen, Mrs. Alexander (Helga E Lindqvist)  female   \n",
       "\n",
       "    Age  SibSp  Parch   Ticket     Fare Cabin Embarked  \n",
       "0  34.5      0      0   330911   7.8292   NaN        Q  \n",
       "1  47.0      1      0   363272   7.0000   NaN        S  \n",
       "2  62.0      0      0   240276   9.6875   NaN        Q  \n",
       "3  27.0      0      0   315154   8.6625   NaN        S  \n",
       "4  22.0      1      1  3101298  12.2875   NaN        S  "
      ]
     },
     "execution_count": 101,
     "metadata": {},
     "output_type": "execute_result"
    }
   ],
   "source": [
    "data_test.head(5)"
   ]
  },
  {
   "cell_type": "markdown",
   "metadata": {},
   "source": [
    "#### Checking missing values in training set"
   ]
  },
  {
   "cell_type": "code",
   "execution_count": 102,
   "metadata": {},
   "outputs": [
    {
     "data": {
      "text/html": [
       "<div>\n",
       "<style scoped>\n",
       "    .dataframe tbody tr th:only-of-type {\n",
       "        vertical-align: middle;\n",
       "    }\n",
       "\n",
       "    .dataframe tbody tr th {\n",
       "        vertical-align: top;\n",
       "    }\n",
       "\n",
       "    .dataframe thead th {\n",
       "        text-align: right;\n",
       "    }\n",
       "</style>\n",
       "<table border=\"1\" class=\"dataframe\">\n",
       "  <thead>\n",
       "    <tr style=\"text-align: right;\">\n",
       "      <th></th>\n",
       "      <th>count</th>\n",
       "      <th>percent</th>\n",
       "    </tr>\n",
       "  </thead>\n",
       "  <tbody>\n",
       "    <tr>\n",
       "      <th>Age</th>\n",
       "      <td>177</td>\n",
       "      <td>19.87%</td>\n",
       "    </tr>\n",
       "    <tr>\n",
       "      <th>Cabin</th>\n",
       "      <td>687</td>\n",
       "      <td>77.10%</td>\n",
       "    </tr>\n",
       "    <tr>\n",
       "      <th>Embarked</th>\n",
       "      <td>2</td>\n",
       "      <td>0.22%</td>\n",
       "    </tr>\n",
       "  </tbody>\n",
       "</table>\n",
       "</div>"
      ],
      "text/plain": [
       "          count percent\n",
       "Age         177  19.87%\n",
       "Cabin       687  77.10%\n",
       "Embarked      2   0.22%"
      ]
     },
     "execution_count": 102,
     "metadata": {},
     "output_type": "execute_result"
    }
   ],
   "source": [
    "nulls = data_train.isnull().sum()\n",
    "nulls = nulls.loc[nulls > 0]\n",
    "nulls = nulls.to_frame(name='count')\n",
    "N = len(data_train.index)\n",
    "nulls.insert(1, 'percent', ['{0:.2%}'.format(nulls.loc['Age'][0] / N), \n",
    "                            '{0:.2%}'.format(nulls.loc['Cabin'][0] / N),\n",
    "                            '{0:.2%}'.format(nulls.loc['Embarked'][0] / N)])\n",
    "nulls"
   ]
  },
  {
   "cell_type": "markdown",
   "metadata": {},
   "source": [
    "Seems to be a lot of missing values in 'Age' and 'Cabin'."
   ]
  },
  {
   "cell_type": "markdown",
   "metadata": {},
   "source": [
    "As I concluded from preliminary analysis, the Age is one of the critical and must be treated first.\n",
    "\n",
    "The Cabin and Embarked are probably not important in Survival prediction.\n",
    "\n",
    "I will come to nulls later but for now lets look on distributions."
   ]
  },
  {
   "cell_type": "markdown",
   "metadata": {},
   "source": [
    "#### Checking missing values in test set"
   ]
  },
  {
   "cell_type": "code",
   "execution_count": 103,
   "metadata": {},
   "outputs": [
    {
     "data": {
      "text/html": [
       "<div>\n",
       "<style scoped>\n",
       "    .dataframe tbody tr th:only-of-type {\n",
       "        vertical-align: middle;\n",
       "    }\n",
       "\n",
       "    .dataframe tbody tr th {\n",
       "        vertical-align: top;\n",
       "    }\n",
       "\n",
       "    .dataframe thead th {\n",
       "        text-align: right;\n",
       "    }\n",
       "</style>\n",
       "<table border=\"1\" class=\"dataframe\">\n",
       "  <thead>\n",
       "    <tr style=\"text-align: right;\">\n",
       "      <th></th>\n",
       "      <th>count</th>\n",
       "    </tr>\n",
       "  </thead>\n",
       "  <tbody>\n",
       "    <tr>\n",
       "      <th>Age</th>\n",
       "      <td>86</td>\n",
       "    </tr>\n",
       "    <tr>\n",
       "      <th>Fare</th>\n",
       "      <td>1</td>\n",
       "    </tr>\n",
       "    <tr>\n",
       "      <th>Cabin</th>\n",
       "      <td>327</td>\n",
       "    </tr>\n",
       "  </tbody>\n",
       "</table>\n",
       "</div>"
      ],
      "text/plain": [
       "       count\n",
       "Age       86\n",
       "Fare       1\n",
       "Cabin    327"
      ]
     },
     "execution_count": 103,
     "metadata": {},
     "output_type": "execute_result"
    }
   ],
   "source": [
    "nulls = data_test.isnull().sum()\n",
    "nulls = nulls.loc[nulls > 0]\n",
    "nulls = nulls.to_frame(name='count')\n",
    "nulls"
   ]
  },
  {
   "cell_type": "markdown",
   "metadata": {},
   "source": [
    "There is one missing value for ticket fare. For now I will assign it a zero."
   ]
  },
  {
   "cell_type": "code",
   "execution_count": 104,
   "metadata": {},
   "outputs": [],
   "source": [
    "data_test = data_test.fillna(value={'Fare':0})"
   ]
  },
  {
   "cell_type": "markdown",
   "metadata": {},
   "source": [
    "#### Calculate survival rate"
   ]
  },
  {
   "cell_type": "code",
   "execution_count": 105,
   "metadata": {},
   "outputs": [
    {
     "name": "stdout",
     "output_type": "stream",
     "text": [
      "Deads: 549 (61.62%)\n",
      "Survivals: 342 (38.38%)\n"
     ]
    }
   ],
   "source": [
    "#how many died\n",
    "N_surv0 = len(data_train.loc[data_train['Survived']==0])\n",
    "#how many survived\n",
    "N_surv1 = len(data_train.loc[data_train['Survived']==1])\n",
    "\n",
    "print('Deads: {0} ({1:.2%})'.format(N_surv0, N_surv0 / N))\n",
    "print('Survivals: {0} ({1:.2%})'.format(N_surv1, N_surv1 / N))"
   ]
  },
  {
   "cell_type": "markdown",
   "metadata": {},
   "source": [
    "Well, only 1/3 survived. That was expectable though."
   ]
  },
  {
   "cell_type": "markdown",
   "metadata": {},
   "source": [
    "#### Replace 'Name' with encoded titles"
   ]
  },
  {
   "cell_type": "code",
   "execution_count": 106,
   "metadata": {},
   "outputs": [],
   "source": [
    "#Concatinate train & test data (to make sure that all unique titles are captured)\n",
    "data_tot = pd.concat([data_train, data_test], ignore_index=True)"
   ]
  },
  {
   "cell_type": "code",
   "execution_count": 107,
   "metadata": {},
   "outputs": [],
   "source": [
    "#Encode 'Name'\n",
    "def name_encoder(data):\n",
    "    data_encoded = []\n",
    "    for i in data['Name']:\n",
    "        lname0 = i.split(',')[0].strip() #last name\n",
    "        ttl = i.split(',')[1].split('.')[0].strip() #title\n",
    "        lname1 = (i.split('(')[-1].split(')')[0].split()[-1].strip() if '(' in i else '').replace('\\\"','') #second last name\n",
    "        data_encoded.append([lname0, lname1, ttl])\n",
    "    data_encoded = pd.DataFrame(data_encoded, columns=['lname0', 'lname1', 'ttl'], index=data.index)\n",
    "    return pd.concat([data.reset_index(drop=True), data_encoded], axis=1)"
   ]
  },
  {
   "cell_type": "code",
   "execution_count": 108,
   "metadata": {},
   "outputs": [
    {
     "data": {
      "text/html": [
       "<div>\n",
       "<style scoped>\n",
       "    .dataframe tbody tr th:only-of-type {\n",
       "        vertical-align: middle;\n",
       "    }\n",
       "\n",
       "    .dataframe tbody tr th {\n",
       "        vertical-align: top;\n",
       "    }\n",
       "\n",
       "    .dataframe thead th {\n",
       "        text-align: right;\n",
       "    }\n",
       "</style>\n",
       "<table border=\"1\" class=\"dataframe\">\n",
       "  <thead>\n",
       "    <tr style=\"text-align: right;\">\n",
       "      <th></th>\n",
       "      <th>Name</th>\n",
       "      <th>lname0</th>\n",
       "      <th>lname1</th>\n",
       "      <th>ttl</th>\n",
       "    </tr>\n",
       "  </thead>\n",
       "  <tbody>\n",
       "    <tr>\n",
       "      <th>0</th>\n",
       "      <td>Braund, Mr. Owen Harris</td>\n",
       "      <td>Braund</td>\n",
       "      <td></td>\n",
       "      <td>Mr</td>\n",
       "    </tr>\n",
       "    <tr>\n",
       "      <th>1</th>\n",
       "      <td>Cumings, Mrs. John Bradley (Florence Briggs Th...</td>\n",
       "      <td>Cumings</td>\n",
       "      <td>Thayer</td>\n",
       "      <td>Mrs</td>\n",
       "    </tr>\n",
       "    <tr>\n",
       "      <th>2</th>\n",
       "      <td>Heikkinen, Miss. Laina</td>\n",
       "      <td>Heikkinen</td>\n",
       "      <td></td>\n",
       "      <td>Miss</td>\n",
       "    </tr>\n",
       "    <tr>\n",
       "      <th>3</th>\n",
       "      <td>Futrelle, Mrs. Jacques Heath (Lily May Peel)</td>\n",
       "      <td>Futrelle</td>\n",
       "      <td>Peel</td>\n",
       "      <td>Mrs</td>\n",
       "    </tr>\n",
       "    <tr>\n",
       "      <th>4</th>\n",
       "      <td>Allen, Mr. William Henry</td>\n",
       "      <td>Allen</td>\n",
       "      <td></td>\n",
       "      <td>Mr</td>\n",
       "    </tr>\n",
       "  </tbody>\n",
       "</table>\n",
       "</div>"
      ],
      "text/plain": [
       "                                                Name     lname0  lname1   ttl\n",
       "0                            Braund, Mr. Owen Harris     Braund            Mr\n",
       "1  Cumings, Mrs. John Bradley (Florence Briggs Th...    Cumings  Thayer   Mrs\n",
       "2                             Heikkinen, Miss. Laina  Heikkinen          Miss\n",
       "3       Futrelle, Mrs. Jacques Heath (Lily May Peel)   Futrelle    Peel   Mrs\n",
       "4                           Allen, Mr. William Henry      Allen            Mr"
      ]
     },
     "execution_count": 108,
     "metadata": {},
     "output_type": "execute_result"
    }
   ],
   "source": [
    "df_name = name_encoder(data_tot['Name'].to_frame())\n",
    "df_name.head(5)"
   ]
  },
  {
   "cell_type": "code",
   "execution_count": 109,
   "metadata": {},
   "outputs": [
    {
     "data": {
      "text/html": [
       "<div>\n",
       "<style scoped>\n",
       "    .dataframe tbody tr th:only-of-type {\n",
       "        vertical-align: middle;\n",
       "    }\n",
       "\n",
       "    .dataframe tbody tr th {\n",
       "        vertical-align: top;\n",
       "    }\n",
       "\n",
       "    .dataframe thead th {\n",
       "        text-align: right;\n",
       "    }\n",
       "</style>\n",
       "<table border=\"1\" class=\"dataframe\">\n",
       "  <thead>\n",
       "    <tr style=\"text-align: right;\">\n",
       "      <th></th>\n",
       "      <th>0</th>\n",
       "      <th>1</th>\n",
       "      <th>2</th>\n",
       "      <th>3</th>\n",
       "      <th>4</th>\n",
       "      <th>5</th>\n",
       "      <th>6</th>\n",
       "      <th>7</th>\n",
       "      <th>8</th>\n",
       "      <th>9</th>\n",
       "      <th>10</th>\n",
       "      <th>11</th>\n",
       "      <th>12</th>\n",
       "      <th>13</th>\n",
       "      <th>14</th>\n",
       "      <th>15</th>\n",
       "      <th>16</th>\n",
       "      <th>17</th>\n",
       "    </tr>\n",
       "  </thead>\n",
       "  <tbody>\n",
       "    <tr>\n",
       "      <th>ttl</th>\n",
       "      <td>Mr</td>\n",
       "      <td>Mrs</td>\n",
       "      <td>Miss</td>\n",
       "      <td>Master</td>\n",
       "      <td>Don</td>\n",
       "      <td>Rev</td>\n",
       "      <td>Dr</td>\n",
       "      <td>Mme</td>\n",
       "      <td>Ms</td>\n",
       "      <td>Major</td>\n",
       "      <td>Lady</td>\n",
       "      <td>Sir</td>\n",
       "      <td>Mlle</td>\n",
       "      <td>Col</td>\n",
       "      <td>Capt</td>\n",
       "      <td>the Countess</td>\n",
       "      <td>Jonkheer</td>\n",
       "      <td>Dona</td>\n",
       "    </tr>\n",
       "    <tr>\n",
       "      <th>ttl_n</th>\n",
       "      <td>757</td>\n",
       "      <td>197</td>\n",
       "      <td>260</td>\n",
       "      <td>61</td>\n",
       "      <td>1</td>\n",
       "      <td>8</td>\n",
       "      <td>8</td>\n",
       "      <td>1</td>\n",
       "      <td>2</td>\n",
       "      <td>2</td>\n",
       "      <td>1</td>\n",
       "      <td>1</td>\n",
       "      <td>2</td>\n",
       "      <td>4</td>\n",
       "      <td>1</td>\n",
       "      <td>1</td>\n",
       "      <td>1</td>\n",
       "      <td>1</td>\n",
       "    </tr>\n",
       "  </tbody>\n",
       "</table>\n",
       "</div>"
      ],
      "text/plain": [
       "         0    1     2       3    4    5   6    7   8      9    10   11    12  \\\n",
       "ttl     Mr  Mrs  Miss  Master  Don  Rev  Dr  Mme  Ms  Major  Lady  Sir  Mlle   \n",
       "ttl_n  757  197   260      61    1    8   8    1   2      2     1    1     2   \n",
       "\n",
       "        13    14            15        16    17  \n",
       "ttl    Col  Capt  the Countess  Jonkheer  Dona  \n",
       "ttl_n    4     1             1         1     1  "
      ]
     },
     "execution_count": 109,
     "metadata": {},
     "output_type": "execute_result"
    }
   ],
   "source": [
    "#Find unique titles and their counts\n",
    "ttl = df_name['ttl'].unique()\n",
    "ttl = pd.DataFrame([[i, len(df_name.loc[df_name['ttl']==i])] for i in ttl], columns=['ttl', 'ttl_n'])\n",
    "ttl.T"
   ]
  },
  {
   "cell_type": "code",
   "execution_count": 110,
   "metadata": {},
   "outputs": [
    {
     "data": {
      "text/html": [
       "<div>\n",
       "<style scoped>\n",
       "    .dataframe tbody tr th:only-of-type {\n",
       "        vertical-align: middle;\n",
       "    }\n",
       "\n",
       "    .dataframe tbody tr th {\n",
       "        vertical-align: top;\n",
       "    }\n",
       "\n",
       "    .dataframe thead th {\n",
       "        text-align: right;\n",
       "    }\n",
       "</style>\n",
       "<table border=\"1\" class=\"dataframe\">\n",
       "  <thead>\n",
       "    <tr style=\"text-align: right;\">\n",
       "      <th></th>\n",
       "      <th>Name</th>\n",
       "      <th>lname0</th>\n",
       "      <th>lname1</th>\n",
       "      <th>ttl</th>\n",
       "    </tr>\n",
       "  </thead>\n",
       "  <tbody>\n",
       "    <tr>\n",
       "      <th>245</th>\n",
       "      <td>Minahan, Dr. William Edward</td>\n",
       "      <td>Minahan</td>\n",
       "      <td></td>\n",
       "      <td>Dr</td>\n",
       "    </tr>\n",
       "    <tr>\n",
       "      <th>317</th>\n",
       "      <td>Moraweck, Dr. Ernest</td>\n",
       "      <td>Moraweck</td>\n",
       "      <td></td>\n",
       "      <td>Dr</td>\n",
       "    </tr>\n",
       "    <tr>\n",
       "      <th>398</th>\n",
       "      <td>Pain, Dr. Alfred</td>\n",
       "      <td>Pain</td>\n",
       "      <td></td>\n",
       "      <td>Dr</td>\n",
       "    </tr>\n",
       "    <tr>\n",
       "      <th>632</th>\n",
       "      <td>Stahelin-Maeglin, Dr. Max</td>\n",
       "      <td>Stahelin-Maeglin</td>\n",
       "      <td></td>\n",
       "      <td>Dr</td>\n",
       "    </tr>\n",
       "    <tr>\n",
       "      <th>660</th>\n",
       "      <td>Frauenthal, Dr. Henry William</td>\n",
       "      <td>Frauenthal</td>\n",
       "      <td></td>\n",
       "      <td>Dr</td>\n",
       "    </tr>\n",
       "    <tr>\n",
       "      <th>766</th>\n",
       "      <td>Brewe, Dr. Arthur Jackson</td>\n",
       "      <td>Brewe</td>\n",
       "      <td></td>\n",
       "      <td>Dr</td>\n",
       "    </tr>\n",
       "    <tr>\n",
       "      <th>796</th>\n",
       "      <td>Leader, Dr. Alice (Farnham)</td>\n",
       "      <td>Leader</td>\n",
       "      <td>Farnham</td>\n",
       "      <td>Dr</td>\n",
       "    </tr>\n",
       "    <tr>\n",
       "      <th>1184</th>\n",
       "      <td>Dodge, Dr. Washington</td>\n",
       "      <td>Dodge</td>\n",
       "      <td></td>\n",
       "      <td>Dr</td>\n",
       "    </tr>\n",
       "  </tbody>\n",
       "</table>\n",
       "</div>"
      ],
      "text/plain": [
       "                               Name            lname0   lname1 ttl\n",
       "245     Minahan, Dr. William Edward           Minahan           Dr\n",
       "317            Moraweck, Dr. Ernest          Moraweck           Dr\n",
       "398                Pain, Dr. Alfred              Pain           Dr\n",
       "632       Stahelin-Maeglin, Dr. Max  Stahelin-Maeglin           Dr\n",
       "660   Frauenthal, Dr. Henry William        Frauenthal           Dr\n",
       "766       Brewe, Dr. Arthur Jackson             Brewe           Dr\n",
       "796     Leader, Dr. Alice (Farnham)            Leader  Farnham  Dr\n",
       "1184          Dodge, Dr. Washington             Dodge           Dr"
      ]
     },
     "execution_count": 110,
     "metadata": {},
     "output_type": "execute_result"
    }
   ],
   "source": [
    "#Explore samples with 'Dr' title\n",
    "df_name.loc[df_name['ttl']=='Dr']"
   ]
  },
  {
   "cell_type": "markdown",
   "metadata": {},
   "source": [
    "_**Leader, Dr. Alice (Farnham) is only one woman with title 'Dr'._"
   ]
  },
  {
   "cell_type": "markdown",
   "metadata": {},
   "source": [
    "The function below will replace each person's name with encoded title. Instead of using all unique titles, I will teke only these: 'Mr', 'Mrs', 'Miss' and 'Master'."
   ]
  },
  {
   "cell_type": "code",
   "execution_count": 111,
   "metadata": {},
   "outputs": [],
   "source": [
    "def title_encoder(data):\n",
    "    mask = {'Don':'Mr',\n",
    "            'Sir':'Mr',\n",
    "            'Jonkheer':'Mr',\n",
    "            'Mme':'Mrs',\n",
    "            'Lady':'Mrs',\n",
    "            'the Countess':'Mrs',\n",
    "            'Dona':'Mrs',\n",
    "            'Mlle':'Miss',\n",
    "            'Ms':'Miss',\n",
    "            'Major':'Mr',\n",
    "            'Col':'Mr',\n",
    "            'Capt':'Mr',\n",
    "            'Rev':'Mr',\n",
    "            'Dr':'Mr'}\n",
    "    \n",
    "    data = name_encoder(data)\n",
    "    data['ttl'] = data['ttl'].apply(lambda i: mask[i] if i in mask else i)\n",
    "#     df = data['ttl'].apply(lambda i: mask[i] if i in mask else i)\n",
    "#     data = pd.concat([data.drop(columns=['ttl']), df], axis=1)\n",
    "    if 797 in data['PassengerId'].values:\n",
    "        data.loc[data_tot['PassengerId']==797, 'ttl'] = 'Mrs'\n",
    "    mask = {'Mr':1, 'Mrs':2, 'Miss':3, 'Master':4}\n",
    "    data['ttl'] = data['ttl'].apply(lambda i: mask[i])\n",
    "#     df = data['ttl'].apply(lambda i: mask[i])\n",
    "#     return pd.concat([data.drop(columns=['ttl']), df], axis=1)\n",
    "    return data"
   ]
  },
  {
   "cell_type": "markdown",
   "metadata": {},
   "source": [
    "#### Explore missing values for 'Embarked'"
   ]
  },
  {
   "cell_type": "code",
   "execution_count": 112,
   "metadata": {},
   "outputs": [
    {
     "data": {
      "text/html": [
       "<div>\n",
       "<style scoped>\n",
       "    .dataframe tbody tr th:only-of-type {\n",
       "        vertical-align: middle;\n",
       "    }\n",
       "\n",
       "    .dataframe tbody tr th {\n",
       "        vertical-align: top;\n",
       "    }\n",
       "\n",
       "    .dataframe thead th {\n",
       "        text-align: right;\n",
       "    }\n",
       "</style>\n",
       "<table border=\"1\" class=\"dataframe\">\n",
       "  <thead>\n",
       "    <tr style=\"text-align: right;\">\n",
       "      <th></th>\n",
       "      <th>PassengerId</th>\n",
       "      <th>Survived</th>\n",
       "      <th>Pclass</th>\n",
       "      <th>Name</th>\n",
       "      <th>Sex</th>\n",
       "      <th>Age</th>\n",
       "      <th>SibSp</th>\n",
       "      <th>Parch</th>\n",
       "      <th>Ticket</th>\n",
       "      <th>Fare</th>\n",
       "      <th>Cabin</th>\n",
       "      <th>Embarked</th>\n",
       "    </tr>\n",
       "  </thead>\n",
       "  <tbody>\n",
       "    <tr>\n",
       "      <th>61</th>\n",
       "      <td>62</td>\n",
       "      <td>1.0</td>\n",
       "      <td>1</td>\n",
       "      <td>Icard, Miss. Amelie</td>\n",
       "      <td>female</td>\n",
       "      <td>38.0</td>\n",
       "      <td>0</td>\n",
       "      <td>0</td>\n",
       "      <td>113572</td>\n",
       "      <td>80.0</td>\n",
       "      <td>B28</td>\n",
       "      <td>NaN</td>\n",
       "    </tr>\n",
       "    <tr>\n",
       "      <th>829</th>\n",
       "      <td>830</td>\n",
       "      <td>1.0</td>\n",
       "      <td>1</td>\n",
       "      <td>Stone, Mrs. George Nelson (Martha Evelyn)</td>\n",
       "      <td>female</td>\n",
       "      <td>62.0</td>\n",
       "      <td>0</td>\n",
       "      <td>0</td>\n",
       "      <td>113572</td>\n",
       "      <td>80.0</td>\n",
       "      <td>B28</td>\n",
       "      <td>NaN</td>\n",
       "    </tr>\n",
       "  </tbody>\n",
       "</table>\n",
       "</div>"
      ],
      "text/plain": [
       "     PassengerId  Survived  Pclass                                       Name  \\\n",
       "61            62       1.0       1                        Icard, Miss. Amelie   \n",
       "829          830       1.0       1  Stone, Mrs. George Nelson (Martha Evelyn)   \n",
       "\n",
       "        Sex   Age  SibSp  Parch  Ticket  Fare Cabin Embarked  \n",
       "61   female  38.0      0      0  113572  80.0   B28      NaN  \n",
       "829  female  62.0      0      0  113572  80.0   B28      NaN  "
      ]
     },
     "execution_count": 112,
     "metadata": {},
     "output_type": "execute_result"
    }
   ],
   "source": [
    "data_tot.loc[data_tot['Embarked'].isnull()]"
   ]
  },
  {
   "cell_type": "markdown",
   "metadata": {},
   "source": [
    "Display samples with similar ticket number"
   ]
  },
  {
   "cell_type": "code",
   "execution_count": 113,
   "metadata": {},
   "outputs": [
    {
     "data": {
      "text/html": [
       "<div>\n",
       "<style scoped>\n",
       "    .dataframe tbody tr th:only-of-type {\n",
       "        vertical-align: middle;\n",
       "    }\n",
       "\n",
       "    .dataframe tbody tr th {\n",
       "        vertical-align: top;\n",
       "    }\n",
       "\n",
       "    .dataframe thead th {\n",
       "        text-align: right;\n",
       "    }\n",
       "</style>\n",
       "<table border=\"1\" class=\"dataframe\">\n",
       "  <thead>\n",
       "    <tr style=\"text-align: right;\">\n",
       "      <th></th>\n",
       "      <th>PassengerId</th>\n",
       "      <th>Survived</th>\n",
       "      <th>Pclass</th>\n",
       "      <th>Name</th>\n",
       "      <th>Sex</th>\n",
       "      <th>Age</th>\n",
       "      <th>SibSp</th>\n",
       "      <th>Parch</th>\n",
       "      <th>Ticket</th>\n",
       "      <th>Fare</th>\n",
       "      <th>Cabin</th>\n",
       "      <th>Embarked</th>\n",
       "    </tr>\n",
       "  </thead>\n",
       "  <tbody>\n",
       "    <tr>\n",
       "      <th>782</th>\n",
       "      <td>783</td>\n",
       "      <td>0.0</td>\n",
       "      <td>1</td>\n",
       "      <td>Long, Mr. Milton Clyde</td>\n",
       "      <td>male</td>\n",
       "      <td>29.0</td>\n",
       "      <td>0</td>\n",
       "      <td>0</td>\n",
       "      <td>113501</td>\n",
       "      <td>30.0000</td>\n",
       "      <td>D6</td>\n",
       "      <td>S</td>\n",
       "    </tr>\n",
       "    <tr>\n",
       "      <th>377</th>\n",
       "      <td>378</td>\n",
       "      <td>0.0</td>\n",
       "      <td>1</td>\n",
       "      <td>Widener, Mr. Harry Elkins</td>\n",
       "      <td>male</td>\n",
       "      <td>27.0</td>\n",
       "      <td>0</td>\n",
       "      <td>2</td>\n",
       "      <td>113503</td>\n",
       "      <td>211.5000</td>\n",
       "      <td>C82</td>\n",
       "      <td>C</td>\n",
       "    </tr>\n",
       "    <tr>\n",
       "      <th>965</th>\n",
       "      <td>966</td>\n",
       "      <td>NaN</td>\n",
       "      <td>1</td>\n",
       "      <td>Geiger, Miss. Amalie</td>\n",
       "      <td>female</td>\n",
       "      <td>35.0</td>\n",
       "      <td>0</td>\n",
       "      <td>0</td>\n",
       "      <td>113503</td>\n",
       "      <td>211.5000</td>\n",
       "      <td>C130</td>\n",
       "      <td>C</td>\n",
       "    </tr>\n",
       "    <tr>\n",
       "      <th>966</th>\n",
       "      <td>967</td>\n",
       "      <td>NaN</td>\n",
       "      <td>1</td>\n",
       "      <td>Keeping, Mr. Edwin</td>\n",
       "      <td>male</td>\n",
       "      <td>32.5</td>\n",
       "      <td>0</td>\n",
       "      <td>0</td>\n",
       "      <td>113503</td>\n",
       "      <td>211.5000</td>\n",
       "      <td>C132</td>\n",
       "      <td>C</td>\n",
       "    </tr>\n",
       "    <tr>\n",
       "      <th>1109</th>\n",
       "      <td>1110</td>\n",
       "      <td>NaN</td>\n",
       "      <td>1</td>\n",
       "      <td>Widener, Mrs. George Dunton (Eleanor Elkins)</td>\n",
       "      <td>female</td>\n",
       "      <td>50.0</td>\n",
       "      <td>1</td>\n",
       "      <td>1</td>\n",
       "      <td>113503</td>\n",
       "      <td>211.5000</td>\n",
       "      <td>C80</td>\n",
       "      <td>C</td>\n",
       "    </tr>\n",
       "    <tr>\n",
       "      <th>1298</th>\n",
       "      <td>1299</td>\n",
       "      <td>NaN</td>\n",
       "      <td>1</td>\n",
       "      <td>Widener, Mr. George Dunton</td>\n",
       "      <td>male</td>\n",
       "      <td>50.0</td>\n",
       "      <td>1</td>\n",
       "      <td>1</td>\n",
       "      <td>113503</td>\n",
       "      <td>211.5000</td>\n",
       "      <td>C80</td>\n",
       "      <td>C</td>\n",
       "    </tr>\n",
       "    <tr>\n",
       "      <th>166</th>\n",
       "      <td>167</td>\n",
       "      <td>1.0</td>\n",
       "      <td>1</td>\n",
       "      <td>Chibnall, Mrs. (Edith Martha Bowerman)</td>\n",
       "      <td>female</td>\n",
       "      <td>NaN</td>\n",
       "      <td>0</td>\n",
       "      <td>1</td>\n",
       "      <td>113505</td>\n",
       "      <td>55.0000</td>\n",
       "      <td>E33</td>\n",
       "      <td>S</td>\n",
       "    </tr>\n",
       "    <tr>\n",
       "      <th>356</th>\n",
       "      <td>357</td>\n",
       "      <td>1.0</td>\n",
       "      <td>1</td>\n",
       "      <td>Bowerman, Miss. Elsie Edith</td>\n",
       "      <td>female</td>\n",
       "      <td>22.0</td>\n",
       "      <td>0</td>\n",
       "      <td>1</td>\n",
       "      <td>113505</td>\n",
       "      <td>55.0000</td>\n",
       "      <td>E33</td>\n",
       "      <td>S</td>\n",
       "    </tr>\n",
       "    <tr>\n",
       "      <th>54</th>\n",
       "      <td>55</td>\n",
       "      <td>0.0</td>\n",
       "      <td>1</td>\n",
       "      <td>Ostby, Mr. Engelhart Cornelius</td>\n",
       "      <td>male</td>\n",
       "      <td>65.0</td>\n",
       "      <td>0</td>\n",
       "      <td>1</td>\n",
       "      <td>113509</td>\n",
       "      <td>61.9792</td>\n",
       "      <td>B30</td>\n",
       "      <td>C</td>\n",
       "    </tr>\n",
       "    <tr>\n",
       "      <th>917</th>\n",
       "      <td>918</td>\n",
       "      <td>NaN</td>\n",
       "      <td>1</td>\n",
       "      <td>Ostby, Miss. Helene Ragnhild</td>\n",
       "      <td>female</td>\n",
       "      <td>22.0</td>\n",
       "      <td>0</td>\n",
       "      <td>1</td>\n",
       "      <td>113509</td>\n",
       "      <td>61.9792</td>\n",
       "      <td>B36</td>\n",
       "      <td>C</td>\n",
       "    </tr>\n",
       "    <tr>\n",
       "      <th>351</th>\n",
       "      <td>352</td>\n",
       "      <td>0.0</td>\n",
       "      <td>1</td>\n",
       "      <td>Williams-Lambert, Mr. Fletcher Fellows</td>\n",
       "      <td>male</td>\n",
       "      <td>NaN</td>\n",
       "      <td>0</td>\n",
       "      <td>0</td>\n",
       "      <td>113510</td>\n",
       "      <td>35.0000</td>\n",
       "      <td>C128</td>\n",
       "      <td>S</td>\n",
       "    </tr>\n",
       "    <tr>\n",
       "      <th>252</th>\n",
       "      <td>253</td>\n",
       "      <td>0.0</td>\n",
       "      <td>1</td>\n",
       "      <td>Stead, Mr. William Thomas</td>\n",
       "      <td>male</td>\n",
       "      <td>62.0</td>\n",
       "      <td>0</td>\n",
       "      <td>0</td>\n",
       "      <td>113514</td>\n",
       "      <td>26.5500</td>\n",
       "      <td>C87</td>\n",
       "      <td>S</td>\n",
       "    </tr>\n",
       "    <tr>\n",
       "      <th>61</th>\n",
       "      <td>62</td>\n",
       "      <td>1.0</td>\n",
       "      <td>1</td>\n",
       "      <td>Icard, Miss. Amelie</td>\n",
       "      <td>female</td>\n",
       "      <td>38.0</td>\n",
       "      <td>0</td>\n",
       "      <td>0</td>\n",
       "      <td>113572</td>\n",
       "      <td>80.0000</td>\n",
       "      <td>B28</td>\n",
       "      <td>NaN</td>\n",
       "    </tr>\n",
       "    <tr>\n",
       "      <th>829</th>\n",
       "      <td>830</td>\n",
       "      <td>1.0</td>\n",
       "      <td>1</td>\n",
       "      <td>Stone, Mrs. George Nelson (Martha Evelyn)</td>\n",
       "      <td>female</td>\n",
       "      <td>62.0</td>\n",
       "      <td>0</td>\n",
       "      <td>0</td>\n",
       "      <td>113572</td>\n",
       "      <td>80.0000</td>\n",
       "      <td>B28</td>\n",
       "      <td>NaN</td>\n",
       "    </tr>\n",
       "  </tbody>\n",
       "</table>\n",
       "</div>"
      ],
      "text/plain": [
       "      PassengerId  Survived  Pclass  \\\n",
       "782           783       0.0       1   \n",
       "377           378       0.0       1   \n",
       "965           966       NaN       1   \n",
       "966           967       NaN       1   \n",
       "1109         1110       NaN       1   \n",
       "1298         1299       NaN       1   \n",
       "166           167       1.0       1   \n",
       "356           357       1.0       1   \n",
       "54             55       0.0       1   \n",
       "917           918       NaN       1   \n",
       "351           352       0.0       1   \n",
       "252           253       0.0       1   \n",
       "61             62       1.0       1   \n",
       "829           830       1.0       1   \n",
       "\n",
       "                                              Name     Sex   Age  SibSp  \\\n",
       "782                         Long, Mr. Milton Clyde    male  29.0      0   \n",
       "377                      Widener, Mr. Harry Elkins    male  27.0      0   \n",
       "965                           Geiger, Miss. Amalie  female  35.0      0   \n",
       "966                             Keeping, Mr. Edwin    male  32.5      0   \n",
       "1109  Widener, Mrs. George Dunton (Eleanor Elkins)  female  50.0      1   \n",
       "1298                    Widener, Mr. George Dunton    male  50.0      1   \n",
       "166         Chibnall, Mrs. (Edith Martha Bowerman)  female   NaN      0   \n",
       "356                    Bowerman, Miss. Elsie Edith  female  22.0      0   \n",
       "54                  Ostby, Mr. Engelhart Cornelius    male  65.0      0   \n",
       "917                   Ostby, Miss. Helene Ragnhild  female  22.0      0   \n",
       "351         Williams-Lambert, Mr. Fletcher Fellows    male   NaN      0   \n",
       "252                      Stead, Mr. William Thomas    male  62.0      0   \n",
       "61                             Icard, Miss. Amelie  female  38.0      0   \n",
       "829      Stone, Mrs. George Nelson (Martha Evelyn)  female  62.0      0   \n",
       "\n",
       "      Parch  Ticket      Fare Cabin Embarked  \n",
       "782       0  113501   30.0000    D6        S  \n",
       "377       2  113503  211.5000   C82        C  \n",
       "965       0  113503  211.5000  C130        C  \n",
       "966       0  113503  211.5000  C132        C  \n",
       "1109      1  113503  211.5000   C80        C  \n",
       "1298      1  113503  211.5000   C80        C  \n",
       "166       1  113505   55.0000   E33        S  \n",
       "356       1  113505   55.0000   E33        S  \n",
       "54        1  113509   61.9792   B30        C  \n",
       "917       1  113509   61.9792   B36        C  \n",
       "351       0  113510   35.0000  C128        S  \n",
       "252       0  113514   26.5500   C87        S  \n",
       "61        0  113572   80.0000   B28      NaN  \n",
       "829       0  113572   80.0000   B28      NaN  "
      ]
     },
     "execution_count": 113,
     "metadata": {},
     "output_type": "execute_result"
    }
   ],
   "source": [
    "df = data_tot.query('Ticket.str.contains(\"1135\")')\n",
    "df.sort_values(by='Ticket')"
   ]
  },
  {
   "cell_type": "markdown",
   "metadata": {},
   "source": [
    "All people with similar ticket numbers are embarked in 'C' or 'S'. So i will simply assign the most frequent class to both missed values."
   ]
  },
  {
   "cell_type": "code",
   "execution_count": 114,
   "metadata": {},
   "outputs": [
    {
     "name": "stdout",
     "output_type": "stream",
     "text": [
      "C: 7\n",
      "S: 5\n",
      "All: 14\n"
     ]
    }
   ],
   "source": [
    "nc = len(df.loc[df['Embarked']=='C'])\n",
    "ns = len(df.loc[df['Embarked']=='S'])\n",
    "n = len(df.index)\n",
    "\n",
    "print('C: %d' % nc)\n",
    "print('S: %d' % ns)\n",
    "print('All: %d' % n)"
   ]
  },
  {
   "cell_type": "markdown",
   "metadata": {},
   "source": [
    "The function below will be used to encode 'Embarked' variable"
   ]
  },
  {
   "cell_type": "code",
   "execution_count": 115,
   "metadata": {},
   "outputs": [],
   "source": [
    "#Encoding 'Embarked'\n",
    "def embarked_encoder(data):\n",
    "    if len(data.loc[data['Embarked'].isnull()].index)>0:\n",
    "        data = data.fillna(value={'Embarked':'C'})\n",
    "    mask = {'C':0, 'S':1, 'Q':2}\n",
    "    data['Embarked'] = data['Embarked'].apply(lambda i: mask[i])\n",
    "    return data"
   ]
  },
  {
   "cell_type": "markdown",
   "metadata": {},
   "source": [
    "### Grouping by ticket ID\n",
    "\n",
    "While exploring the dataset, I found that many passengers have identical ticket numbers as well as identical fare value.\n",
    "\n",
    "In this section, for all people with matching tickets, I will recalculate ticket fare for every i-th person in a group g as: fare(i, g) = fare(g) / n, where n is a number of people in group g."
   ]
  },
  {
   "cell_type": "code",
   "execution_count": 116,
   "metadata": {},
   "outputs": [],
   "source": [
    "# Clean text function\n",
    "def clean_text(text):\n",
    "    text = ''.join([c for c in text if c not in string.punctuation]).strip()\n",
    "    text = ''.join(text.split())\n",
    "    return text\n",
    "\n",
    "# This function will clean ticket ID from all punctuation and spaces\n",
    "# def ticket_cleaner(data):\n",
    "#     data['Ticket'] = data['Ticket'].apply(lambda i: clean_text(i))\n",
    "# #     df = data['Ticket'].apply(lambda i: clean_text(i)).to_frame()\n",
    "# #     data = pd.concat([data.drop(columns=['Ticket']).reset_index(drop=True), df], axis=1)\n",
    "#     return data\n",
    "\n",
    "# Clean ticket ID from all punctuation and spaces\n",
    "df_fam = data_tot.copy()\n",
    "df_fam['Ticket'] = df_fam['Ticket'].apply(lambda i: clean_text(i))"
   ]
  },
  {
   "cell_type": "code",
   "execution_count": 117,
   "metadata": {},
   "outputs": [],
   "source": [
    "# df_fam = ticket_cleaner(data_tot)"
   ]
  },
  {
   "cell_type": "markdown",
   "metadata": {},
   "source": [
    "Numbers of unique and non-unique tickets:"
   ]
  },
  {
   "cell_type": "code",
   "execution_count": 118,
   "metadata": {},
   "outputs": [
    {
     "name": "stdout",
     "output_type": "stream",
     "text": [
      "Unique tickets: 929\n",
      "Non-unique tickets: 380\n"
     ]
    }
   ],
   "source": [
    "print('Unique tickets: %d' % len(df_fam['Ticket'].unique()))\n",
    "print('Non-unique tickets: %d' % (len(df_fam.index) - len(df_fam['Ticket'].unique())))"
   ]
  },
  {
   "cell_type": "markdown",
   "metadata": {},
   "source": [
    "I want to define the following groups:\n",
    "1. No family (SibSp==0 & Parch==0), unique tickets\n",
    "2. No family (SibSp==0 & Parch==0), non-unique tickets\n",
    "3. Has family, no children (SibSp >0 & Parch==0), unique tickets\n",
    "4. Has family, no children (SibSp >0 & Parch==0), non-unique tickets\n",
    "5. Has family, has children (Parch >0), unique tickets\n",
    "6. Has family, has children (Parch >0), non-unique tickets"
   ]
  },
  {
   "cell_type": "code",
   "execution_count": 119,
   "metadata": {},
   "outputs": [],
   "source": [
    "families0 = df_fam.loc[(df_fam['SibSp']>0) & (df_fam['Parch']==0)]\n",
    "families1 = df_fam.loc[df_fam['Parch']>0]\n",
    "singles = df_fam.loc[(df_fam['SibSp']==0) & (df_fam['Parch']==0)]"
   ]
  },
  {
   "cell_type": "code",
   "execution_count": 120,
   "metadata": {},
   "outputs": [],
   "source": [
    "# This function is used to return sub-groups by unique and non-unique tickets from a group by SibSP and Parch\n",
    "def grps_by_size(grp):\n",
    "    #group size > 1\n",
    "    grp1 = None\n",
    "    #group size == 1\n",
    "    grp0 = None\n",
    "    for g in grp.groups:\n",
    "        grp_ = grp.get_group(g)\n",
    "        if len(grp.get_group(g).index)>1:\n",
    "            if grp1 is None:\n",
    "                grp1 = grp_\n",
    "            else:\n",
    "                grp1 = pd.concat([grp1, grp_])\n",
    "        else:\n",
    "            if grp0 is None:\n",
    "                grp0 = grp_\n",
    "            else:\n",
    "                grp0 = pd.concat([grp0, grp_])\n",
    "    return (grp0, grp1)"
   ]
  },
  {
   "cell_type": "code",
   "execution_count": 121,
   "metadata": {},
   "outputs": [
    {
     "name": "stdout",
     "output_type": "stream",
     "text": [
      "Singles-----------------------\n",
      "Matching tickets groups: 108\n",
      "Unique tickets groups: 682\n",
      "------------------------------\n",
      "Families----------------------\n",
      "Matching tickets groups: 174\n",
      "Unique tickets groups: 38\n",
      "------------------------------\n",
      "Families W/children-----------\n",
      "Matching tickets groups: 288\n",
      "Unique tickets groups: 19\n",
      "------------------------------\n"
     ]
    }
   ],
   "source": [
    "#singles\n",
    "sig_grp = singles.groupby('Ticket')\n",
    "#families NO children\n",
    "fam0_grp = families0.groupby('Ticket')\n",
    "#families w/children\n",
    "fam1_grp = families1.groupby('Ticket')\n",
    "\n",
    "#no family, unique ticket\n",
    "sig0 = grps_by_size(sig_grp)[0]\n",
    "#no family, matching tickets\n",
    "sig1 = grps_by_size(sig_grp)[1]\n",
    "#has family, no children, unique ticket\n",
    "fam0 = grps_by_size(fam0_grp)[0]\n",
    "#has family, no children, matching ticket\n",
    "fam1 = grps_by_size(fam0_grp)[1]\n",
    "#has family, has children, unique ticket\n",
    "famch0 = grps_by_size(fam1_grp)[0]\n",
    "#has family, has children, matching ticket\n",
    "famch1 = grps_by_size(fam1_grp)[1]\n",
    "\n",
    "print('Singles-----------------------')\n",
    "print('Matching tickets groups: %d' % len(sig1.index))\n",
    "print('Unique tickets groups: %d' % len(sig0.index))\n",
    "print('------------------------------')\n",
    "\n",
    "print('Families----------------------')\n",
    "print('Matching tickets groups: %d' % len(fam1.index))\n",
    "print('Unique tickets groups: %d' % len(fam0.index))\n",
    "print('------------------------------')\n",
    "\n",
    "print('Families W/children-----------')\n",
    "print('Matching tickets groups: %d' % len(famch1.index))\n",
    "print('Unique tickets groups: %d' % len(famch0.index))\n",
    "print('------------------------------')"
   ]
  },
  {
   "cell_type": "code",
   "execution_count": 122,
   "metadata": {},
   "outputs": [],
   "source": [
    "# Family groups\n",
    "fam_grps = [sig0, sig1, fam0, fam1, famch0, famch1]"
   ]
  },
  {
   "cell_type": "code",
   "execution_count": 123,
   "metadata": {},
   "outputs": [],
   "source": [
    "# Make a mask of family groups labels\n",
    "fgrp_mask = {}\n",
    "for idx, grp in enumerate(fam_grps):\n",
    "    for pid in grp['PassengerId']:\n",
    "        fgrp_mask[pid] = idx"
   ]
  },
  {
   "cell_type": "code",
   "execution_count": 124,
   "metadata": {},
   "outputs": [],
   "source": [
    "# Make a mask of ticket fare\n",
    "fare_mask = {}\n",
    "for tic in df_fam['Ticket'].unique():\n",
    "    # subgroup with matching tickets\n",
    "    tic_grp = df_fam.loc[df_fam['Ticket']==tic]\n",
    "    \n",
    "    # passenger class that the subgroup belongs to\n",
    "    c = tic_grp['Pclass'].values[0]\n",
    "    \n",
    "    # ticket fare of the subgroup\n",
    "    # all subgroup members have the same ticket fare initially\n",
    "    fare_grp = tic_grp['Fare'].values[0]\n",
    "    \n",
    "    # if a subgroup fare is 0 then assign a mean of the fare of the Pclass that the subgroup belongs to\n",
    "    if (fare_grp == 0) or (fare_grp is None):\n",
    "        fare_i = np.mean(df_fam.loc[df_fam['Pclass']==c, 'Fare'])\n",
    "        for pid in tic_grp['PassengerId']:\n",
    "            fare_mask[pid] = fare_i\n",
    "\n",
    "    # recalculate fare for subrgoup members: fare_i = group_fare / n_members\n",
    "    if len(tic_grp.index) > 1:\n",
    "        if fare_grp > 0:\n",
    "            \n",
    "            if np.mean(tic_grp['Fare'])==fare_grp: #check if all group members have same fare\n",
    "                fare_i = fare_grp / len(tic_grp.index)\n",
    "                for pid in tic_grp['PassengerId']:\n",
    "                    fare_mask[pid] = fare_i\n",
    "            else:\n",
    "                for pid in tic_grp['PassengerId']:\n",
    "                    fare_mask[pid] = tic_grp.loc[tic_grp['PassengerId']==pid, 'Fare'].values[0]\n",
    "    # keep fare value for passengers with unuque tickets\n",
    "    else:\n",
    "        if fare_grp > 0:\n",
    "            fare_i = fare_grp\n",
    "            for pid in tic_grp['PassengerId']:\n",
    "                fare_mask[pid] = fare_i"
   ]
  },
  {
   "cell_type": "code",
   "execution_count": 125,
   "metadata": {},
   "outputs": [],
   "source": [
    "# Make a mask of ticket codes\n",
    "m_tickets = []\n",
    "for tic in df_fam['Ticket'].unique():\n",
    "    if len(df_fam.loc[df_fam['Ticket']==tic].index) > 1:\n",
    "        m_tickets.append(tic)\n",
    "\n",
    "ticket_mask = {}        \n",
    "for pid in df_fam['PassengerId']:\n",
    "    tic = df_fam.loc[df_fam['PassengerId']==pid, 'Ticket'].values[0]\n",
    "    if tic in m_tickets:\n",
    "        ticket_mask[pid] = m_tickets.index(tic) + 1\n",
    "    else:\n",
    "        ticket_mask[pid] = 0"
   ]
  },
  {
   "cell_type": "code",
   "execution_count": 126,
   "metadata": {},
   "outputs": [],
   "source": [
    "# Encode family groups\n",
    "# This function adds new class variable 'fgrp' that indicates a group that a passenger belongs to.\n",
    "# def family_groups_encoder(data, fam_grps):\n",
    "#     data['fgrp'] = 0\n",
    "#     for idx, grp in enumerate(fam_grps):\n",
    "#         for pid in grp['PassengerId']:\n",
    "#             data.loc[data['PassengerId']==pid, 'fgrp'] = idx\n",
    "#     return data\n",
    "\n",
    "def family_groups_encoder(data, fgrp_mask):\n",
    "    data['fgrp'] = data['PassengerId'].apply(lambda i: fgrp_mask[i])\n",
    "    return data\n",
    "\n",
    "# Recalculate ticket fare in the family groups and fill missing values with a mean for corresponding passenger class.\n",
    "# def fare_encoder(data, encode_grps):\n",
    "#     for grp in encode_grps:\n",
    "#         fare = grp['Fare'].values[0] / len(grp.index)\n",
    "#         grp['Fare'] = fare\n",
    "#         for pid in grp['PassengerId']:\n",
    "#             if pid in data['PassengerId']:\n",
    "#                 data.loc[data['PassengerId']==pid, 'Fare'] = fare\n",
    "#     if len(data.loc[data['Fare'].isnull()])>0:\n",
    "#         for pid in data.loc[data['Fare'].isnull(), 'PassengerId']:\n",
    "#             c = data.loc[data['PassengerId']==pid, 'Pclass'].values[0]\n",
    "#             data.loc[data['PassengerId']==pid, 'Fare'] = np.mean(data.loc[data['Pclass']==c, 'Fare'])\n",
    "#     return data\n",
    "\n",
    "# def fare_encoder(data, encode_grps):\n",
    "#     for grp in encode_grps:\n",
    "#         for tic in grp['Ticket'].unique():\n",
    "#             tic_grp = grp.loc[grp['Ticket']==tic]\n",
    "#             fare_grp = tic_grp['Fare'].values[0]\n",
    "#             c = tic_grp['Pclass'].values[0]\n",
    "#             if len(tic_grp.index) > 1:\n",
    "#                 if fare_grp > 0:\n",
    "#                     fare_i = fare_grp / len(tic_grp.index)\n",
    "#                 else:\n",
    "#                     fare_i = np.mean(data.loc[data['Pclass']==c, 'Fare'])\n",
    "#             else:\n",
    "#                 if fare == 0:\n",
    "#                     fare_i = np.mean(data.loc[data['Pclass']==c, 'Fare'])       \n",
    "#             for idx, row in tic_grp.iterrows():\n",
    "#                 data.loc[data['PassengerId']==row['PassengerId'], 'Fare'] = fare_i\n",
    "#     return data\n",
    "\n",
    "# def fare_encoder(data):\n",
    "#     for tic in data['Ticket'].unique():\n",
    "#         tic_grp = data.loc[data['Ticket']==tic]\n",
    "        \n",
    "#         c = tic_grp['Pclass'].values[0]\n",
    "        \n",
    "#         fare_grp = tic_grp['Fare'].values[0]\n",
    "#         if fare_grp == 0:\n",
    "#             fare_i = np.mean(data.loc[data['Pclass']==c, 'Fare'])\n",
    "#             for idx, row in tic_grp.iterrows():\n",
    "#                 data.loc[data['PassengerId']==row['PassengerId'], 'Fare'] = fare_i\n",
    "            \n",
    "        \n",
    "#         if len(tic_grp.index) > 1:\n",
    "#             if fare_grp > 0:\n",
    "#                 fare_i = fare_grp / len(tic_grp.index)\n",
    "#                 for idx, row in tic_grp.iterrows():\n",
    "#                     data.loc[data['PassengerId']==row['PassengerId'], 'Fare'] = fare_i\n",
    "#     return data\n",
    "\n",
    "def fare_encoder(data, fare_mask):\n",
    "    data['Fare'] = data['PassengerId'].apply(lambda i: fare_mask[i])\n",
    "    return data\n",
    "\n",
    "# def cabin_encoder(data):\n",
    "#     cab_na = data.loc[data['Cabin'].isnull()]\n",
    "#     for tic in data['Ticket'].unique():\n",
    "#         tic_grp = data.loc[data['Ticket']==tic] \n",
    "# #         if len(tic_grp.index) > 1:\n",
    "# #             cab_grp = tic_grp['Cabin'].values[0]\n",
    "#         for idx, row in tic_grp.iterrows():\n",
    "#             if row['Cabin'] is None:\n",
    "#                 data.loc[data['PassengerId']==row['PassengerId'], 'Cabin'] = row['Ticket']\n",
    "#     return data\n",
    "\n",
    "def ticket_encoder(data, ticket_mask):\n",
    "    data['Ticket'] = data['PassengerId'].apply(lambda i: ticket_mask[i])\n",
    "    return data"
   ]
  },
  {
   "cell_type": "markdown",
   "metadata": {},
   "source": [
    "### Combine Pclass and Embarked\n",
    "\n",
    "The 'Pclass' and 'Embarked' variables are highly correlated. And 'Embarked' is actually not as important as the 'Pclass'.\n",
    "\n",
    "In order to make them work together more effectively, I will combine them into a single variable. This new variable will be defined in a 3x3 matrix according to combinations of 'Pclass' and 'Embarked' labels.\n",
    "\n",
    "| Embarked / Pclass | 0 | 1 | 2 |\n",
    "|:-----------------:|---|---|---|\n",
    "| 0                 | 0 | 1 | 2 |\n",
    "| 1                 | 3 | 4 | 5 |\n",
    "| 2                 | 6 | 7 | 8 |\n",
    "\n",
    "Below is a function that does the work."
   ]
  },
  {
   "cell_type": "code",
   "execution_count": 127,
   "metadata": {},
   "outputs": [],
   "source": [
    "# Combine categorical features\n",
    "def combine_features(data, feature1, feature2, name):\n",
    "    lst1 = list(data[feature1].unique())\n",
    "    lst2 = list(data[feature2].unique())\n",
    "    d1 = len(lst1)\n",
    "    d2 = len(lst2)\n",
    "    mask = np.array(range(d1 * d2)).reshape(d1,d2)\n",
    "    data = data.copy()\n",
    "    df = []\n",
    "    for i in data.index:\n",
    "        df.append([mask[lst1.index(data[feature1][i])][lst2.index(data[feature2][i])]])\n",
    "    df = pd.DataFrame(df, columns=[name])\n",
    "    return pd.concat([data.reset_index(), df], axis=1).drop(columns='index')"
   ]
  },
  {
   "cell_type": "markdown",
   "metadata": {},
   "source": [
    "### Numerical features augmentation (magic features)\n",
    "\n",
    "This is a simple feature transformation in order to account for counts of non-unique values.\n",
    "\n",
    "More info on magic features is [here](https://www.kaggle.com/cdeotte/200-magical-models-santander-0-920). "
   ]
  },
  {
   "cell_type": "code",
   "execution_count": 128,
   "metadata": {},
   "outputs": [],
   "source": [
    "# Transform 'Age to account for non-unique samples'\n",
    "def age_transformer_counts(data):\n",
    "    data['Age'] = data['Age'].apply(np.log)\n",
    "#     data['Age'] = data['Age'].apply(lambda i: np.log(i * len(data.loc[data['Age']==i].index)))\n",
    "    return data\n",
    "\n",
    "# Transform 'Fare' to account for number of non-unique samples\n",
    "def fare_transformer(data):\n",
    "    data['Fare'] = data['Fare'].apply(np.log)\n",
    "#     data['Fare'] = data['Fare'].apply(lambda i: np.log(i * len(data.loc[data['Fare']==i].index)))\n",
    "    return data"
   ]
  },
  {
   "cell_type": "markdown",
   "metadata": {},
   "source": [
    "### Other variables encoding"
   ]
  },
  {
   "cell_type": "code",
   "execution_count": 129,
   "metadata": {},
   "outputs": [],
   "source": [
    "# Encode 'Sex'\n",
    "def sex_encoder(data):\n",
    "    mask = {'male':0, 'female':1}\n",
    "    df = data['Sex'].apply(lambda i: mask[i])\n",
    "    return pd.concat([data.drop(columns=['Sex']), df], axis=1)\n",
    "\n",
    "# Add 'Family size'\n",
    "def fam_size(data):\n",
    "    data['famsize'] = data['SibSp'] + data['Parch']\n",
    "    data['famsize'] = data['famsize'].apply(lambda i: i if i<8 else 8)\n",
    "    return data\n",
    "\n",
    "#Encoding 'Pclass' (to labels 0,1,2)\n",
    "def pclass_encoder(data):\n",
    "    data['Pclass'] = data['Pclass'].apply(lambda i: i-1)\n",
    "    return data"
   ]
  },
  {
   "cell_type": "markdown",
   "metadata": {},
   "source": [
    "### Age augmentation\n",
    "\n",
    "I want to use 2-step approach to predict missing values for Age.\n",
    "\n",
    "1. Use BayesianGaussianMixture to define clusters in the existing Age data and then train a classifier that will predict these cluster labels based on other features.\n",
    "2. Train a regression model that will predict Age values based on existing features and Age class labels."
   ]
  },
  {
   "cell_type": "code",
   "execution_count": 130,
   "metadata": {},
   "outputs": [],
   "source": [
    "# Log + 1 - Transform 'Age'\n",
    "df_age = data_tot['Age'].dropna()\n",
    "\n",
    "age_trans = df_age.apply(lambda i: np.log(i)).to_frame()\n",
    "age_trans.columns = ['Age_trans']\n",
    "df_age = pd.concat([df_age.to_frame(), age_trans], axis=1)"
   ]
  },
  {
   "cell_type": "code",
   "execution_count": 131,
   "metadata": {},
   "outputs": [],
   "source": [
    "#Define clustering model\n",
    "age_clast_model = mix.BayesianGaussianMixture(n_components=3, covariance_type='spherical', tol=0.001, reg_covar=1e-06, max_iter=1000, n_init=1, \n",
    "                                 init_params='kmeans', weight_concentration_prior_type='dirichlet_distribution', \n",
    "                                 weight_concentration_prior=None, mean_precision_prior=None, mean_prior=None, \n",
    "                                 degrees_of_freedom_prior=None, covariance_prior=None, random_state=30)\n",
    "                                 \n",
    "#Predict cluster labels\n",
    "age_cls = pd.DataFrame(age_clast_model.fit_predict(np.array(df_age['Age_trans']).reshape(-1,1)), columns=['Age_cls'])\n",
    "age_cls = age_cls.astype(int)"
   ]
  },
  {
   "cell_type": "code",
   "execution_count": 639,
   "metadata": {},
   "outputs": [],
   "source": [
    "pickle.dump(age_clast_model, open('age_clast_model.mdl', 'wb'))"
   ]
  },
  {
   "cell_type": "code",
   "execution_count": 132,
   "metadata": {},
   "outputs": [],
   "source": [
    "# Add age class labels to the data set\n",
    "df_age = pd.concat([df_age.reset_index(), age_cls], axis=1).drop(columns='index')"
   ]
  },
  {
   "cell_type": "code",
   "execution_count": 133,
   "metadata": {
    "jupyter": {
     "source_hidden": true
    }
   },
   "outputs": [
    {
     "data": {
      "image/png": "[encoded data removed]",
      "text/plain": [
       "<Figure size 1152x288 with 2 Axes>"
      ]
     },
     "metadata": {
      "needs_background": "light"
     },
     "output_type": "display_data"
    }
   ],
   "source": [
    "fig = plt.figure()\n",
    "fig.set_size_inches(16,4)\n",
    "\n",
    "fig.add_subplot(1,2,1)\n",
    "ax = sns.scatterplot(x='Age_cls', y='Age_trans', data=df_age)\n",
    "ax.spines['top'].set_visible(False)\n",
    "ax.spines['right'].set_visible(False)\n",
    "ttl = ax.title\n",
    "ttl.set_position([.5, 1.07])\n",
    "a=ax.set_title('Clusters vs Age (transformed)')\n",
    "\n",
    "fig.add_subplot(1,2,2)\n",
    "ax = sns.scatterplot(x='Age_cls', y='Age', data=df_age)\n",
    "ax.spines['top'].set_visible(False)\n",
    "ax.spines['right'].set_visible(False)\n",
    "ttl = ax.title\n",
    "ttl.set_position([.5, 1.07])\n",
    "a=ax.set_title('Clusters vs Age (not transformed)')"
   ]
  },
  {
   "cell_type": "markdown",
   "metadata": {},
   "source": [
    "#### Distributions within clasters (age - transformed)"
   ]
  },
  {
   "cell_type": "code",
   "execution_count": 134,
   "metadata": {
    "jupyter": {
     "source_hidden": true
    }
   },
   "outputs": [
    {
     "data": {
      "image/png": "[encoded data removed]",
      "text/plain": [
       "<Figure size 1728x288 with 3 Axes>"
      ]
     },
     "metadata": {
      "needs_background": "light"
     },
     "output_type": "display_data"
    }
   ],
   "source": [
    "grd = sorted(df_age['Age_cls'].unique())\n",
    "grd_n = len(grd)\n",
    "grd_cols_n = 2\n",
    "grd_rows_n = int(math.ceil(grd_n / grd_cols_n))\n",
    "\n",
    "plt_h = 2\n",
    "plt_w = 12\n",
    "\n",
    "\n",
    "fig = plt.figure()\n",
    "fig.set_size_inches(plt_w * grd_cols_n, plt_h * grd_rows_n)\n",
    "gs = gridspec.GridSpec(grd_rows_n, grd_cols_n, figure=fig, wspace=0.3, hspace=0.8)\n",
    "\n",
    "for idx, c in enumerate(grd):\n",
    "    fig.add_subplot(gs[idx])\n",
    "    df = df_age.loc[df_age['Age_cls']==c, 'Age_trans']\n",
    "    ax = sns.distplot(df,\n",
    "                 bins=25, kde=True, norm_hist=True, rug=True, \n",
    "                 rug_kws={'color':'r'},\n",
    "                 hist_kws={'histtype':'bar', 'linewidth': 3, 'color': \"b\"})\n",
    "    ax.spines['top'].set_visible(False)\n",
    "    ax.spines['right'].set_visible(False)\n",
    "    ttl = ax.title\n",
    "    ttl.set_position([.5, 1.07])\n",
    "    ax.set_title('Class: {0}'.format(c))"
   ]
  },
  {
   "cell_type": "markdown",
   "metadata": {},
   "source": [
    "#### Distributions within clasters (age - not transformed)"
   ]
  },
  {
   "cell_type": "code",
   "execution_count": 135,
   "metadata": {
    "jupyter": {
     "source_hidden": true
    }
   },
   "outputs": [
    {
     "data": {
      "image/png": "[encoded data removed]",
      "text/plain": [
       "<Figure size 1728x288 with 3 Axes>"
      ]
     },
     "metadata": {
      "needs_background": "light"
     },
     "output_type": "display_data"
    }
   ],
   "source": [
    "grd = sorted(df_age['Age_cls'].unique())\n",
    "grd_n = len(grd)\n",
    "grd_cols_n = 2\n",
    "grd_rows_n = int(math.ceil(grd_n / grd_cols_n))\n",
    "\n",
    "plt_h = 2\n",
    "plt_w = 12\n",
    "\n",
    "\n",
    "fig = plt.figure()\n",
    "fig.set_size_inches(plt_w * grd_cols_n, plt_h * grd_rows_n)\n",
    "gs = gridspec.GridSpec(grd_rows_n, grd_cols_n, figure=fig, wspace=0.3, hspace=0.8)\n",
    "\n",
    "for idx, c in enumerate(grd):\n",
    "    fig.add_subplot(gs[idx])\n",
    "    df = df_age.loc[df_age['Age_cls']==c, 'Age']\n",
    "    ax = sns.distplot(df,\n",
    "                 bins=25, kde=True, norm_hist=True, rug=True, \n",
    "                 rug_kws={'color':'r'},\n",
    "                 hist_kws={'histtype':'bar', 'linewidth': 3, 'color': \"b\"})\n",
    "    ax.spines['top'].set_visible(False)\n",
    "    ax.spines['right'].set_visible(False)\n",
    "    ttl = ax.title\n",
    "    ttl.set_position([.5, 1.07])\n",
    "    ax.set_title('Class: {0}'.format(c))"
   ]
  },
  {
   "cell_type": "code",
   "execution_count": 136,
   "metadata": {},
   "outputs": [],
   "source": [
    "def age_transformer(data, model):\n",
    "    age_trans = np.array(data['Age'].apply(lambda i: np.log(i))).reshape(-1,1)\n",
    "    age_cls = pd.DataFrame(model.fit_predict(age_trans), columns=['Age_cls'])\n",
    "    age_cls = age_cls.astype(int)\n",
    "    data = pd.concat([data.drop(columns=['Age']).reset_index(), pd.DataFrame(age_trans, columns=['Age'])], axis=1).drop(columns='index')\n",
    "    return pd.concat([data.reset_index(), age_cls], axis=1).drop(columns='index')"
   ]
  },
  {
   "cell_type": "markdown",
   "metadata": {},
   "source": [
    "### Predict missing missing values for age"
   ]
  },
  {
   "cell_type": "code",
   "execution_count": 208,
   "metadata": {},
   "outputs": [],
   "source": [
    "data = family_groups_encoder(data_tot.copy(), fgrp_mask)\n",
    "# data = fare_encoder(data, [sig1, fam1, famch1])\n",
    "data = fare_encoder(data, fare_mask)\n",
    "data = fare_transformer(data)\n",
    "\n",
    "data = ticket_encoder(data, ticket_mask)\n",
    "\n",
    "data = title_encoder(data)\n",
    "data = sex_encoder(data)\n",
    "data = fam_size(data)\n",
    "\n",
    "data = embarked_encoder(data)\n",
    "data = pclass_encoder(data)\n",
    "# data = combine_features(data, 'Pclass', 'Embarked', 'PclEmb')\n",
    "\n",
    "data = data[data['Age'].notna()].copy()\n",
    "# data = data[['Age', 'Fare', 'PclEmb', 'Sex', 'ttl', 'fgrp', 'famsize', 'Ticket', 'Cabin', 'PassengerId']]\n",
    "\n",
    "data = age_transformer(data, age_clast_model)\n",
    "\n",
    "data = data[['Age', 'Age_cls', 'Fare', 'Sex', 'ttl', 'fgrp', 'famsize', 'Ticket', 'Pclass', 'Embarked']]"
   ]
  },
  {
   "cell_type": "code",
   "execution_count": 209,
   "metadata": {},
   "outputs": [],
   "source": [
    "# data = cabin_encoder(data)"
   ]
  },
  {
   "cell_type": "markdown",
   "metadata": {},
   "source": [
    "#### Plot correlation matrix:"
   ]
  },
  {
   "cell_type": "code",
   "execution_count": 210,
   "metadata": {},
   "outputs": [
    {
     "data": {
      "image/png": "[encoded data removed]",
      "text/plain": [
       "<Figure size 576x576 with 2 Axes>"
      ]
     },
     "metadata": {
      "needs_background": "light"
     },
     "output_type": "display_data"
    }
   ],
   "source": [
    "fig = plt.figure()\n",
    "fig.set_size_inches(8, 8)\n",
    "corr_matrix = data.corr()\n",
    "plot_correlation_matrix(ax=fig.add_subplot(1,1,1), data=corr_matrix, cmap='coolwarm')"
   ]
  },
  {
   "cell_type": "markdown",
   "metadata": {},
   "source": [
    "#### Train model for age class prediction"
   ]
  },
  {
   "cell_type": "code",
   "execution_count": 211,
   "metadata": {
    "scrolled": true
   },
   "outputs": [],
   "source": [
    "# Here I drop 'Sex' as it is completely covered by 'ttl'.\n",
    "# I also drop 'famsize' as it is highly correlated with 'fgrp' and eventually was found to be less important.\n",
    "# TO DO: try to combine 'fgrp' and 'famsize'\n",
    "X = data.drop(columns=['Age', 'Age_cls'])\n",
    "y = data['Age_cls']"
   ]
  },
  {
   "cell_type": "code",
   "execution_count": 212,
   "metadata": {},
   "outputs": [
    {
     "data": {
      "text/plain": [
       "Index(['Fare', 'Sex', 'ttl', 'fgrp', 'famsize', 'Ticket', 'Pclass',\n",
       "       'Embarked'],\n",
       "      dtype='object')"
      ]
     },
     "execution_count": 212,
     "metadata": {},
     "output_type": "execute_result"
    }
   ],
   "source": [
    "X.columns"
   ]
  },
  {
   "cell_type": "code",
   "execution_count": 213,
   "metadata": {},
   "outputs": [],
   "source": [
    "def roc_auc_score_ovr(y_true, y_score):\n",
    "    return metrics.roc_auc_score(y_true, y_score, average='macro', sample_weight=None, max_fpr=None,\n",
    "                                 multi_class='ovr', labels=None)\n",
    "\n",
    "def roc_auc_score_ovo(y_true, y_score):\n",
    "    return metrics.roc_auc_score(y_true, y_score, average='macro', sample_weight=None, max_fpr=None,\n",
    "                                 multi_class='ovo', labels=None)"
   ]
  },
  {
   "cell_type": "code",
   "execution_count": 214,
   "metadata": {},
   "outputs": [],
   "source": [
    "#common random_state\n",
    "random_state=30\n",
    "#cross validation strategy\n",
    "cv = model_selection.StratifiedShuffleSplit(n_splits=10, test_size=0.3, train_size=0.6, random_state=random_state)\n",
    "# # cv = model_selection.RepeatedStratifiedKFold(n_splits=5, n_repeats=10, random_state=random_state)\n",
    "#cross validation metrics\n",
    "scoring = {'balanced_accuracy': 'balanced_accuracy',\n",
    "           'roc_auc_ovr':  metrics.make_scorer(roc_auc_score_ovr, needs_proba=True),\n",
    "           'roc_auc_ovo':  metrics.make_scorer(roc_auc_score_ovo, needs_proba=True),\n",
    "           'precision_macro': 'precision_macro'}\n",
    "refit = 'roc_auc_ovr'"
   ]
  },
  {
   "cell_type": "code",
   "execution_count": 215,
   "metadata": {},
   "outputs": [],
   "source": [
    "# #common random_state\n",
    "# random_state=30\n",
    "\n",
    "# #cross validation strategy\n",
    "# cv = model_selection.StratifiedShuffleSplit(n_splits=10, test_size=0.3, train_size=0.6, random_state=random_state)\n",
    "\n",
    "# #cross validation metrics\n",
    "# scoring = {'balanced_accuracy': 'balanced_accuracy',\n",
    "#            'roc_auc':  'roc_auc',\n",
    "#            'precision_macro': 'precision_macro'}\n",
    "# refit = 'balanced_accuracy'"
   ]
  },
  {
   "cell_type": "markdown",
   "metadata": {},
   "source": [
    "##### Initial model"
   ]
  },
  {
   "cell_type": "code",
   "execution_count": 216,
   "metadata": {},
   "outputs": [
    {
     "data": {
      "text/html": [
       "<div>\n",
       "<style scoped>\n",
       "    .dataframe tbody tr th:only-of-type {\n",
       "        vertical-align: middle;\n",
       "    }\n",
       "\n",
       "    .dataframe tbody tr th {\n",
       "        vertical-align: top;\n",
       "    }\n",
       "\n",
       "    .dataframe thead th {\n",
       "        text-align: right;\n",
       "    }\n",
       "</style>\n",
       "<table border=\"1\" class=\"dataframe\">\n",
       "  <thead>\n",
       "    <tr style=\"text-align: right;\">\n",
       "      <th></th>\n",
       "      <th>balanced_accuracy</th>\n",
       "      <th>roc_auc_ovr</th>\n",
       "      <th>roc_auc_ovo</th>\n",
       "      <th>precision_macro</th>\n",
       "    </tr>\n",
       "  </thead>\n",
       "  <tbody>\n",
       "    <tr>\n",
       "      <th>mean_train</th>\n",
       "      <td>0.788307</td>\n",
       "      <td>0.887493</td>\n",
       "      <td>0.927171</td>\n",
       "      <td>0.793692</td>\n",
       "    </tr>\n",
       "    <tr>\n",
       "      <th>std_train</th>\n",
       "      <td>0.008412</td>\n",
       "      <td>0.003986</td>\n",
       "      <td>0.002945</td>\n",
       "      <td>0.012823</td>\n",
       "    </tr>\n",
       "    <tr>\n",
       "      <th>mean_test</th>\n",
       "      <td>0.735338</td>\n",
       "      <td>0.833984</td>\n",
       "      <td>0.890114</td>\n",
       "      <td>0.726960</td>\n",
       "    </tr>\n",
       "    <tr>\n",
       "      <th>std_test</th>\n",
       "      <td>0.026231</td>\n",
       "      <td>0.015250</td>\n",
       "      <td>0.014373</td>\n",
       "      <td>0.030943</td>\n",
       "    </tr>\n",
       "  </tbody>\n",
       "</table>\n",
       "</div>"
      ],
      "text/plain": [
       "            balanced_accuracy  roc_auc_ovr  roc_auc_ovo  precision_macro\n",
       "mean_train           0.788307     0.887493     0.927171         0.793692\n",
       "std_train            0.008412     0.003986     0.002945         0.012823\n",
       "mean_test            0.735338     0.833984     0.890114         0.726960\n",
       "std_test             0.026231     0.015250     0.014373         0.030943"
      ]
     },
     "execution_count": 216,
     "metadata": {},
     "output_type": "execute_result"
    }
   ],
   "source": [
    "params = {'learning_rate': 0.3597948717948718, \n",
    "          'n_estimators': 5,\n",
    "          'min_weight_fraction_leaf': 0.03671794871794872, \n",
    "          'min_impurity_decrease': 0.030838461538461537,\n",
    "          'max_depth': 4,\n",
    "          'subsample': 1.0,\n",
    "          'ccp_alpha': 0.0}\n",
    "\n",
    "age_cls_model = ens.GradientBoostingClassifier(loss='deviance', criterion='friedman_mse', \n",
    "                                               random_state=random_state, **params)\n",
    "cv_rep(age_cls_model, X, y, cv, scoring)"
   ]
  },
  {
   "cell_type": "markdown",
   "metadata": {},
   "source": [
    "##### Tune parameters"
   ]
  },
  {
   "cell_type": "code",
   "execution_count": 217,
   "metadata": {},
   "outputs": [
    {
     "name": "stdout",
     "output_type": "stream",
     "text": [
      "            balanced_accuracy  roc_auc_ovr  roc_auc_ovo  precision_macro\n",
      "mean_train           0.813961     0.895783     0.927829         0.800968\n",
      "std_train            0.006383     0.002708     0.002401         0.011050\n",
      "mean_test            0.741475     0.834445     0.891237         0.755926\n",
      "std_test             0.024806     0.013762     0.012268         0.035005\n",
      "{'learning_rate': 0.10351282051282051, 'n_estimators': 25}\n"
     ]
    }
   ],
   "source": [
    "param_ranges = {'learning_rate': np.linspace(0.001, 2, 40), 'n_estimators': np.arange(5, 100, 20)}\n",
    "age_cls_model, scores = train_best_model(age_cls_model, param_ranges, X, y, scoring, cv, refit=refit)"
   ]
  },
  {
   "cell_type": "code",
   "execution_count": 218,
   "metadata": {},
   "outputs": [
    {
     "name": "stdout",
     "output_type": "stream",
     "text": [
      "            balanced_accuracy  roc_auc_ovr  roc_auc_ovo  precision_macro\n",
      "mean_train           0.807140     0.873549     0.932800         0.858260\n",
      "std_train            0.008867     0.004988     0.002136         0.005161\n",
      "mean_test            0.737756     0.835782     0.890787         0.740880\n",
      "std_test             0.020965     0.017971     0.013299         0.024067\n",
      "{'min_impurity_decrease': 0.04620769230769231, 'min_weight_fraction_leaf': 0.09794871794871796}\n"
     ]
    }
   ],
   "source": [
    "param_ranges = {'min_weight_fraction_leaf': np.linspace(0.001, 0.2, 40), 'min_impurity_decrease': np.linspace(0.0001, 0.1, 40)}\n",
    "age_cls_model, scores = train_best_model(age_cls_model, param_ranges, X, y, scoring, cv, refit=refit)"
   ]
  },
  {
   "cell_type": "code",
   "execution_count": 219,
   "metadata": {},
   "outputs": [
    {
     "name": "stdout",
     "output_type": "stream",
     "text": [
      "            balanced_accuracy  roc_auc_ovr  roc_auc_ovo  precision_macro\n",
      "mean_train           0.770329     0.873549     0.914540         0.761902\n",
      "std_train            0.010318     0.004988     0.003866         0.010393\n",
      "mean_test            0.737462     0.835782     0.889384         0.727031\n",
      "std_test             0.020546     0.017971     0.014007         0.031261\n",
      "{'max_depth': 4, 'subsample': 1.0}\n"
     ]
    }
   ],
   "source": [
    "param_ranges = {'subsample': np.linspace(0.1, 1.0, 50), 'max_depth': np.arange(3, 10)}\n",
    "age_cls_model, scores = train_best_model(age_cls_model, param_ranges, X, y, scoring, cv, refit=refit)"
   ]
  },
  {
   "cell_type": "code",
   "execution_count": 220,
   "metadata": {},
   "outputs": [
    {
     "name": "stdout",
     "output_type": "stream",
     "text": [
      "            balanced_accuracy  roc_auc_ovr  roc_auc_ovo  precision_macro\n",
      "mean_train           0.775099     0.873549     0.915076         0.762602\n",
      "std_train            0.006184     0.004988     0.004249         0.012823\n",
      "mean_test            0.732548     0.835782     0.888968         0.705425\n",
      "std_test             0.023170     0.017971     0.015052         0.033243\n",
      "{'ccp_alpha': 1e-05}\n"
     ]
    }
   ],
   "source": [
    "param_ranges = {'ccp_alpha': np.linspace(0.00001,0.0001, 99)}\n",
    "age_cls_model, scores = train_best_model(age_cls_model, param_ranges, X, y, scoring, cv, refit=refit)"
   ]
  },
  {
   "cell_type": "code",
   "execution_count": 221,
   "metadata": {},
   "outputs": [
    {
     "data": {
      "text/plain": [
       "GradientBoostingClassifier(ccp_alpha=1e-05, criterion='friedman_mse', init=None,\n",
       "                           learning_rate=0.10351282051282051, loss='deviance',\n",
       "                           max_depth=4, max_features=None, max_leaf_nodes=None,\n",
       "                           min_impurity_decrease=0.04620769230769231,\n",
       "                           min_impurity_split=None, min_samples_leaf=1,\n",
       "                           min_samples_split=2,\n",
       "                           min_weight_fraction_leaf=0.09794871794871796,\n",
       "                           n_estimators=25, n_iter_no_change=None,\n",
       "                           presort='deprecated', random_state=30, subsample=1.0,\n",
       "                           tol=0.0001, validation_fraction=0.1, verbose=0,\n",
       "                           warm_start=False)"
      ]
     },
     "execution_count": 221,
     "metadata": {},
     "output_type": "execute_result"
    }
   ],
   "source": [
    "age_cls_model.fit(X,y)"
   ]
  },
  {
   "cell_type": "code",
   "execution_count": 585,
   "metadata": {},
   "outputs": [],
   "source": [
    "pickle.dump(age_cls_model, open('age_cls_model.mdl', 'wb'))"
   ]
  },
  {
   "cell_type": "markdown",
   "metadata": {},
   "source": [
    "#### Train model for age prediction"
   ]
  },
  {
   "cell_type": "code",
   "execution_count": 222,
   "metadata": {
    "scrolled": true
   },
   "outputs": [],
   "source": [
    "# train test split\n",
    "X = data.drop(columns=['Age'])\n",
    "y = data['Age']"
   ]
  },
  {
   "cell_type": "code",
   "execution_count": 223,
   "metadata": {},
   "outputs": [
    {
     "data": {
      "text/plain": [
       "Index(['Age_cls', 'Fare', 'Sex', 'ttl', 'fgrp', 'famsize', 'Ticket', 'Pclass',\n",
       "       'Embarked'],\n",
       "      dtype='object')"
      ]
     },
     "execution_count": 223,
     "metadata": {},
     "output_type": "execute_result"
    }
   ],
   "source": [
    "X.columns"
   ]
  },
  {
   "cell_type": "code",
   "execution_count": 224,
   "metadata": {},
   "outputs": [],
   "source": [
    "#common random_state\n",
    "random_state=30\n",
    "#cross validation strategy\n",
    "cv = model_selection.RepeatedKFold(n_splits=5, n_repeats=10, random_state=random_state)\n",
    "#cross validation metrics\n",
    "scoring = {'explained_variance':  'explained_variance', 'r2': 'r2'}\n",
    "refit='r2'"
   ]
  },
  {
   "cell_type": "markdown",
   "metadata": {},
   "source": [
    "##### Initial model"
   ]
  },
  {
   "cell_type": "code",
   "execution_count": 225,
   "metadata": {},
   "outputs": [
    {
     "data": {
      "text/html": [
       "<div>\n",
       "<style scoped>\n",
       "    .dataframe tbody tr th:only-of-type {\n",
       "        vertical-align: middle;\n",
       "    }\n",
       "\n",
       "    .dataframe tbody tr th {\n",
       "        vertical-align: top;\n",
       "    }\n",
       "\n",
       "    .dataframe thead th {\n",
       "        text-align: right;\n",
       "    }\n",
       "</style>\n",
       "<table border=\"1\" class=\"dataframe\">\n",
       "  <thead>\n",
       "    <tr style=\"text-align: right;\">\n",
       "      <th></th>\n",
       "      <th>explained_variance</th>\n",
       "      <th>r2</th>\n",
       "    </tr>\n",
       "  </thead>\n",
       "  <tbody>\n",
       "    <tr>\n",
       "      <th>mean_train</th>\n",
       "      <td>0.859418</td>\n",
       "      <td>0.859418</td>\n",
       "    </tr>\n",
       "    <tr>\n",
       "      <th>std_train</th>\n",
       "      <td>0.006287</td>\n",
       "      <td>0.006287</td>\n",
       "    </tr>\n",
       "    <tr>\n",
       "      <th>mean_test</th>\n",
       "      <td>0.803207</td>\n",
       "      <td>0.801856</td>\n",
       "    </tr>\n",
       "    <tr>\n",
       "      <th>std_test</th>\n",
       "      <td>0.036581</td>\n",
       "      <td>0.037024</td>\n",
       "    </tr>\n",
       "  </tbody>\n",
       "</table>\n",
       "</div>"
      ],
      "text/plain": [
       "            explained_variance        r2\n",
       "mean_train            0.859418  0.859418\n",
       "std_train             0.006287  0.006287\n",
       "mean_test             0.803207  0.801856\n",
       "std_test              0.036581  0.037024"
      ]
     },
     "execution_count": 225,
     "metadata": {},
     "output_type": "execute_result"
    }
   ],
   "source": [
    "params = {'learning_rate': 0.04, \n",
    "          'n_estimators': 80,\n",
    "          'min_weight_fraction_leaf': 0.001, \n",
    "          'min_impurity_decrease': 0.5,\n",
    "          'max_depth': 3,\n",
    "          'subsample': 0.889795918367347,\n",
    "          'ccp_alpha': 0.0008071428571428573}\n",
    "\n",
    "age_reg_mogel = ens.GradientBoostingRegressor(loss='ls', criterion='friedman_mse', random_state=random_state, **params)\n",
    "cv_rep(age_reg_mogel, X, y, cv, scoring)"
   ]
  },
  {
   "cell_type": "markdown",
   "metadata": {},
   "source": [
    "##### Tune parameters"
   ]
  },
  {
   "cell_type": "code",
   "execution_count": 226,
   "metadata": {},
   "outputs": [
    {
     "name": "stdout",
     "output_type": "stream",
     "text": [
      "            explained_variance        r2\n",
      "mean_train            0.866729  0.866728\n",
      "std_train             0.005666  0.005666\n",
      "mean_test             0.804596  0.803304\n",
      "std_test              0.038223  0.038623\n",
      "{'learning_rate': 0.1, 'n_estimators': 55}\n"
     ]
    }
   ],
   "source": [
    "param_ranges = {'learning_rate': np.linspace(0.01, 0.1, 40), 'n_estimators': np.arange(5, 100, 25)}\n",
    "age_reg_mogel, scores = train_best_model(age_reg_mogel, param_ranges, X, y, scoring, cv, refit=refit)"
   ]
  },
  {
   "cell_type": "code",
   "execution_count": 227,
   "metadata": {},
   "outputs": [
    {
     "name": "stdout",
     "output_type": "stream",
     "text": [
      "            explained_variance        r2\n",
      "mean_train            0.866729  0.866728\n",
      "std_train             0.005666  0.005666\n",
      "mean_test             0.804596  0.803304\n",
      "std_test              0.038223  0.038623\n",
      "{'min_impurity_decrease': 0.5, 'min_weight_fraction_leaf': 0.001}\n"
     ]
    }
   ],
   "source": [
    "param_ranges = {'min_weight_fraction_leaf': np.linspace(0.001, 0.2, 40), 'min_impurity_decrease': np.linspace(0.001, 0.5, 40)}\n",
    "age_reg_mogel, scores = train_best_model(age_reg_mogel, param_ranges, X, y, scoring, cv, refit=refit)"
   ]
  },
  {
   "cell_type": "code",
   "execution_count": 228,
   "metadata": {},
   "outputs": [
    {
     "name": "stdout",
     "output_type": "stream",
     "text": [
      "            explained_variance        r2\n",
      "mean_train            0.865851  0.865851\n",
      "std_train             0.006208  0.006208\n",
      "mean_test             0.804744  0.803436\n",
      "std_test              0.039393  0.039883\n",
      "{'max_depth': 3, 'subsample': 0.926530612244898}\n"
     ]
    }
   ],
   "source": [
    "param_ranges = {'max_depth': np.arange(2,10), 'subsample': np.linspace(0.1, 1.0, 50)}\n",
    "age_reg_mogel, scores = train_best_model(age_reg_mogel, param_ranges, X, y, scoring, cv, refit=refit)"
   ]
  },
  {
   "cell_type": "code",
   "execution_count": 229,
   "metadata": {},
   "outputs": [
    {
     "name": "stdout",
     "output_type": "stream",
     "text": [
      "            explained_variance        r2\n",
      "mean_train            0.864902  0.860830\n",
      "std_train             0.006237  0.006014\n",
      "mean_test             0.805026  0.803720\n",
      "std_test              0.039804  0.038274\n",
      "{'ccp_alpha': 0.001312244897959184}\n"
     ]
    }
   ],
   "source": [
    "param_ranges = {'ccp_alpha': np.linspace(0.0001, 0.01, 99)}\n",
    "age_reg_mogel, scores = train_best_model(age_reg_mogel, param_ranges, X, y, scoring, cv, refit=refit)"
   ]
  },
  {
   "cell_type": "code",
   "execution_count": 230,
   "metadata": {},
   "outputs": [
    {
     "data": {
      "text/plain": [
       "GradientBoostingRegressor(alpha=0.9, ccp_alpha=0.001312244897959184,\n",
       "                          criterion='friedman_mse', init=None,\n",
       "                          learning_rate=0.1, loss='ls', max_depth=3,\n",
       "                          max_features=None, max_leaf_nodes=None,\n",
       "                          min_impurity_decrease=0.5, min_impurity_split=None,\n",
       "                          min_samples_leaf=1, min_samples_split=2,\n",
       "                          min_weight_fraction_leaf=0.001, n_estimators=55,\n",
       "                          n_iter_no_change=None, presort='deprecated',\n",
       "                          random_state=30, subsample=0.926530612244898,\n",
       "                          tol=0.0001, validation_fraction=0.1, verbose=0,\n",
       "                          warm_start=False)"
      ]
     },
     "execution_count": 230,
     "metadata": {},
     "output_type": "execute_result"
    }
   ],
   "source": [
    "age_reg_mogel.fit(X,y)"
   ]
  },
  {
   "cell_type": "code",
   "execution_count": 586,
   "metadata": {},
   "outputs": [],
   "source": [
    "pickle.dump(age_reg_mogel, open('age_reg_mogel.mdl', 'wb'))"
   ]
  },
  {
   "cell_type": "code",
   "execution_count": 231,
   "metadata": {},
   "outputs": [],
   "source": [
    "#Age encoder (predict missing vakues and log-transform)\n",
    "def age_predictor(data, age_cls_model, age_reg_mogel):\n",
    "#     cls_cols = ['Fare', 'PclEmb', 'ttl', 'fgrp']\n",
    "#     reg_cols = ['Fare', 'PclEmb', 'ttl', 'fgrp', 'famsize', 'Ticket']\n",
    "    cls_cols = ['Fare', 'Sex', 'ttl', 'fgrp', 'famsize', 'Ticket', 'Pclass', 'Embarked']\n",
    "    reg_cols = ['Fare', 'Sex', 'ttl', 'fgrp', 'famsize', 'Ticket', 'Pclass', 'Embarked']\n",
    "    data_na = data[data['Age'].isnull()]\n",
    "    data_notna = data[data['Age'].notna()].copy()\n",
    "\n",
    "    # transform non-null age values\n",
    "#     age_trans = data_notna['Age'].apply(lambda i: np.log(i+1)).to_frame()\n",
    "#     age_trans = data_notna['Age'].apply(np.log).to_frame()\n",
    "#     data_notna = pd.concat([data_notna.drop(columns=['Age']), age_trans], axis=1)\n",
    "    data_notna['Age'] = data_notna['Age'].apply(np.log)\n",
    "\n",
    "    # predict class labels\n",
    "    X = data_na[cls_cols].reset_index(drop=True)\n",
    "    age_cls = pd.Series(age_cls_model.predict(X), name='Age_cls').to_frame()\n",
    "\n",
    "    # predict age\n",
    "    X = data_na[reg_cols].reset_index(drop=True)\n",
    "    X_age_cls = pd.concat([X, age_cls], axis=1)\n",
    "    age_preds = pd.Series(age_reg_mogel.predict(X_age_cls), name='Age').to_frame()\n",
    "    data_na = pd.concat([data_na.reset_index(drop=True).drop(columns=['Age']), age_preds], axis=1)\n",
    "    return pd.concat([data_na, data_notna])"
   ]
  },
  {
   "cell_type": "markdown",
   "metadata": {},
   "source": [
    "## Predict survivals"
   ]
  },
  {
   "cell_type": "markdown",
   "metadata": {},
   "source": [
    "#### Preprocessind data"
   ]
  },
  {
   "cell_type": "code",
   "execution_count": 232,
   "metadata": {},
   "outputs": [],
   "source": [
    "# data = family_groups_encoder(data_train, fam_grps)\n",
    "# data = fare_encoder(data, [sig1, fam1, famch1])\n",
    "# data = fare_transformer(data)\n",
    "\n",
    "# data = title_encoder(data)\n",
    "# data = sex_encoder(data)\n",
    "# data = fam_size(data)\n",
    "\n",
    "# data = embarked_encoder(data)\n",
    "# data = pclass_encoder(data)\n",
    "# data = combine_features(data, 'Pclass', 'Embarked', 'PclEmb')\n",
    "\n",
    "# data = data[['PassengerId', 'Survived', 'Fare', 'Age', 'ttl', 'famsize', 'PclEmb', 'fgrp']]\n",
    "\n",
    "# data = age_predictor(data, age_cls_model, age_reg_mogel)\n",
    "# data = age_transformer_counts(data)"
   ]
  },
  {
   "cell_type": "code",
   "execution_count": 233,
   "metadata": {},
   "outputs": [],
   "source": [
    "# def family_encoder(data):\n",
    "# #     data = data.copy()\n",
    "# #     data['mtickets'] = 0\n",
    "# #     data['famsize'] = data['SibSp'] + data['Parch']\n",
    "#     data['SibSp'] = data['SibSp'].apply(lambda i: 1 if i > 0 else 0)\n",
    "#     data['Parch'] = data['Parch'].apply(lambda i: 1 if i > 0 else 0)\n",
    "# #     for pid in data['PassengerId']:\n",
    "# #         for grp in match_ticket_grps:\n",
    "# #             if pid in grp['PassengerId']:\n",
    "# #                 data.loc[data['PassengerId']==pid, 'mtickets'] = 1\n",
    "#     return data"
   ]
  },
  {
   "cell_type": "code",
   "execution_count": 704,
   "metadata": {},
   "outputs": [],
   "source": [
    "data = family_groups_encoder(data_train.copy(), fgrp_mask)\n",
    "# data = family_encoder(data)\n",
    "# data = fare_encoder(data, [sig1, fam1, famch1])\n",
    "data = fare_encoder(data, fare_mask)\n",
    "data = fare_transformer(data)\n",
    "\n",
    "data = ticket_encoder(data, ticket_mask)\n",
    "\n",
    "data = title_encoder(data)\n",
    "data = sex_encoder(data)\n",
    "data = fam_size(data)\n",
    "\n",
    "data = embarked_encoder(data)\n",
    "data = pclass_encoder(data)\n",
    "# data = combine_features(data, 'Pclass', 'Embarked', 'PclEmb')\n",
    "\n",
    "# data = data[data['Age'].notna()].copy()\n",
    "# data = data[['Age', 'Fare', 'PclEmb', 'Sex', 'ttl', 'fgrp', 'famsize', 'Ticket', 'Cabin', 'PassengerId']]\n",
    "\n",
    "data = age_predictor(data, age_cls_model, age_reg_mogel)\n",
    "# data = age_transformer(data, age_clast_model)\n",
    "# data = data[['PassengerId', 'Survived', 'Fare', 'Age', 'ttl', 'famsize', 'PclEmb', 'fgrp']]\n",
    "data = data[['PassengerId', 'Survived', 'Age', 'Fare', 'Sex', 'ttl', 'fgrp', 'famsize', 'Ticket', 'Pclass', 'Embarked']]"
   ]
  },
  {
   "cell_type": "code",
   "execution_count": 706,
   "metadata": {},
   "outputs": [
    {
     "name": "stdout",
     "output_type": "stream",
     "text": [
      "0\n",
      "1\n",
      "2\n",
      "3\n",
      "4\n",
      "5\n",
      "6\n",
      "7\n",
      "8\n",
      "9\n",
      "10\n",
      "11\n",
      "12\n",
      "13\n",
      "14\n",
      "15\n",
      "16\n",
      "17\n",
      "18\n",
      "19\n",
      "20\n",
      "21\n",
      "22\n",
      "23\n",
      "24\n",
      "25\n",
      "26\n",
      "27\n",
      "28\n",
      "29\n",
      "30\n",
      "31\n",
      "32\n",
      "33\n",
      "34\n",
      "35\n",
      "36\n",
      "37\n",
      "38\n",
      "39\n",
      "40\n",
      "41\n",
      "42\n",
      "43\n",
      "44\n",
      "45\n",
      "46\n",
      "47\n",
      "48\n",
      "49\n",
      "50\n",
      "51\n",
      "52\n",
      "53\n",
      "54\n",
      "55\n",
      "56\n",
      "57\n",
      "58\n",
      "59\n",
      "60\n",
      "61\n",
      "62\n",
      "63\n",
      "64\n",
      "65\n",
      "66\n",
      "67\n",
      "68\n",
      "69\n",
      "70\n",
      "71\n",
      "72\n",
      "73\n",
      "74\n",
      "75\n",
      "76\n",
      "77\n",
      "78\n",
      "79\n",
      "80\n",
      "81\n",
      "82\n",
      "83\n",
      "84\n",
      "85\n",
      "86\n",
      "87\n",
      "88\n",
      "89\n",
      "90\n",
      "91\n",
      "92\n",
      "93\n",
      "94\n",
      "95\n",
      "96\n",
      "97\n",
      "98\n",
      "99\n",
      "100\n",
      "101\n",
      "102\n",
      "103\n",
      "104\n",
      "105\n",
      "106\n",
      "107\n",
      "108\n",
      "109\n",
      "110\n",
      "111\n",
      "112\n",
      "113\n",
      "114\n",
      "115\n",
      "116\n",
      "117\n",
      "118\n",
      "119\n",
      "120\n",
      "121\n",
      "122\n",
      "123\n",
      "124\n",
      "125\n",
      "126\n",
      "127\n",
      "128\n",
      "129\n",
      "130\n",
      "131\n",
      "132\n",
      "133\n",
      "134\n",
      "135\n",
      "136\n",
      "137\n",
      "138\n",
      "139\n",
      "140\n",
      "141\n",
      "142\n",
      "143\n",
      "144\n",
      "145\n",
      "146\n",
      "147\n",
      "148\n",
      "149\n",
      "150\n",
      "151\n",
      "152\n",
      "153\n",
      "154\n",
      "155\n",
      "156\n",
      "157\n",
      "158\n",
      "159\n",
      "160\n",
      "161\n",
      "162\n",
      "163\n",
      "164\n",
      "165\n",
      "166\n",
      "167\n",
      "168\n",
      "169\n",
      "170\n",
      "171\n",
      "172\n",
      "173\n",
      "174\n",
      "175\n",
      "176\n",
      "0\n",
      "1\n",
      "2\n",
      "3\n",
      "4\n",
      "6\n",
      "7\n",
      "8\n",
      "9\n",
      "10\n",
      "11\n",
      "12\n",
      "13\n",
      "14\n",
      "15\n",
      "16\n",
      "18\n",
      "20\n",
      "21\n",
      "22\n",
      "23\n",
      "24\n",
      "25\n",
      "27\n",
      "30\n",
      "33\n",
      "34\n",
      "35\n",
      "37\n",
      "38\n",
      "39\n",
      "40\n",
      "41\n",
      "43\n",
      "44\n",
      "49\n",
      "50\n",
      "51\n",
      "52\n",
      "53\n",
      "54\n",
      "56\n",
      "57\n",
      "58\n",
      "59\n",
      "60\n",
      "61\n",
      "62\n",
      "63\n",
      "66\n",
      "67\n",
      "68\n",
      "69\n",
      "70\n",
      "71\n",
      "72\n",
      "73\n",
      "74\n",
      "75\n",
      "78\n",
      "79\n",
      "80\n",
      "81\n",
      "83\n",
      "84\n",
      "85\n",
      "86\n",
      "88\n",
      "89\n",
      "90\n",
      "91\n",
      "92\n",
      "93\n",
      "94\n",
      "96\n",
      "97\n",
      "98\n",
      "99\n",
      "100\n",
      "102\n",
      "103\n",
      "104\n",
      "105\n",
      "106\n",
      "108\n",
      "110\n",
      "111\n",
      "112\n",
      "113\n",
      "114\n",
      "115\n",
      "116\n",
      "117\n",
      "118\n",
      "119\n",
      "120\n",
      "122\n",
      "123\n",
      "124\n",
      "125\n",
      "127\n",
      "129\n",
      "130\n",
      "131\n",
      "132\n",
      "133\n",
      "134\n",
      "135\n",
      "136\n",
      "137\n",
      "138\n",
      "139\n",
      "141\n",
      "142\n",
      "143\n",
      "144\n",
      "145\n",
      "146\n",
      "147\n",
      "148\n",
      "149\n",
      "150\n",
      "151\n",
      "152\n",
      "153\n",
      "155\n",
      "156\n",
      "157\n",
      "160\n",
      "161\n",
      "162\n",
      "163\n",
      "164\n",
      "165\n",
      "167\n",
      "169\n",
      "170\n",
      "171\n",
      "172\n",
      "173\n",
      "174\n",
      "175\n",
      "177\n",
      "178\n",
      "179\n",
      "182\n",
      "183\n",
      "184\n",
      "187\n",
      "188\n",
      "189\n",
      "190\n",
      "191\n",
      "192\n",
      "193\n",
      "194\n",
      "195\n",
      "197\n",
      "199\n",
      "200\n",
      "202\n",
      "203\n",
      "204\n",
      "205\n",
      "206\n",
      "207\n",
      "208\n",
      "209\n",
      "210\n",
      "211\n",
      "212\n",
      "213\n",
      "215\n",
      "216\n",
      "217\n",
      "218\n",
      "219\n",
      "220\n",
      "221\n",
      "222\n",
      "224\n",
      "225\n",
      "226\n",
      "227\n",
      "228\n",
      "230\n",
      "231\n",
      "232\n",
      "233\n",
      "234\n",
      "236\n",
      "237\n",
      "238\n",
      "239\n",
      "242\n",
      "243\n",
      "244\n",
      "245\n",
      "246\n",
      "247\n",
      "248\n",
      "249\n",
      "251\n",
      "252\n",
      "253\n",
      "254\n",
      "255\n",
      "257\n",
      "258\n",
      "259\n",
      "261\n",
      "262\n",
      "263\n",
      "265\n",
      "266\n",
      "267\n",
      "268\n",
      "269\n",
      "271\n",
      "272\n",
      "273\n",
      "275\n",
      "276\n",
      "278\n",
      "279\n",
      "280\n",
      "281\n",
      "282\n",
      "283\n",
      "285\n",
      "286\n",
      "287\n",
      "288\n",
      "289\n",
      "290\n",
      "291\n",
      "292\n",
      "293\n",
      "294\n",
      "296\n",
      "297\n",
      "299\n",
      "302\n",
      "305\n",
      "307\n",
      "308\n",
      "309\n",
      "310\n",
      "311\n",
      "312\n",
      "313\n",
      "314\n",
      "315\n",
      "316\n",
      "317\n",
      "318\n",
      "319\n",
      "320\n",
      "321\n",
      "322\n",
      "323\n",
      "325\n",
      "326\n",
      "327\n",
      "328\n",
      "329\n",
      "331\n",
      "332\n",
      "333\n",
      "336\n",
      "337\n",
      "338\n",
      "339\n",
      "340\n",
      "341\n",
      "342\n",
      "343\n",
      "344\n",
      "345\n",
      "346\n",
      "348\n",
      "349\n",
      "350\n",
      "352\n",
      "353\n",
      "355\n",
      "356\n",
      "357\n",
      "360\n",
      "361\n",
      "362\n",
      "363\n",
      "365\n",
      "366\n",
      "369\n",
      "370\n",
      "371\n",
      "372\n",
      "373\n",
      "374\n",
      "376\n",
      "377\n",
      "378\n",
      "379\n",
      "380\n",
      "381\n",
      "382\n",
      "383\n",
      "385\n",
      "386\n",
      "387\n",
      "389\n",
      "390\n",
      "391\n",
      "392\n",
      "393\n",
      "394\n",
      "395\n",
      "396\n",
      "397\n",
      "398\n",
      "399\n",
      "400\n",
      "401\n",
      "402\n",
      "403\n",
      "404\n",
      "405\n",
      "406\n",
      "407\n",
      "408\n",
      "412\n",
      "414\n",
      "416\n",
      "417\n",
      "418\n",
      "419\n",
      "421\n",
      "422\n",
      "423\n",
      "424\n",
      "426\n",
      "427\n",
      "429\n",
      "430\n",
      "432\n",
      "433\n",
      "434\n",
      "435\n",
      "436\n",
      "437\n",
      "438\n",
      "439\n",
      "440\n",
      "441\n",
      "442\n",
      "443\n",
      "445\n",
      "446\n",
      "447\n",
      "448\n",
      "449\n",
      "450\n",
      "452\n",
      "453\n",
      "455\n",
      "456\n",
      "458\n",
      "460\n",
      "461\n",
      "462\n",
      "463\n",
      "465\n",
      "467\n",
      "469\n",
      "471\n",
      "472\n",
      "473\n",
      "474\n",
      "476\n",
      "477\n",
      "478\n",
      "479\n",
      "480\n",
      "482\n",
      "483\n",
      "484\n",
      "486\n",
      "487\n",
      "488\n",
      "489\n",
      "491\n",
      "492\n",
      "493\n",
      "494\n",
      "496\n",
      "498\n",
      "499\n",
      "500\n",
      "501\n",
      "503\n",
      "504\n",
      "505\n",
      "506\n",
      "508\n",
      "509\n",
      "510\n",
      "512\n",
      "513\n",
      "514\n",
      "515\n",
      "516\n",
      "518\n",
      "519\n",
      "520\n",
      "521\n",
      "523\n",
      "525\n",
      "526\n",
      "528\n",
      "529\n",
      "530\n",
      "532\n",
      "534\n",
      "535\n",
      "536\n",
      "537\n",
      "539\n",
      "540\n",
      "541\n",
      "542\n",
      "543\n",
      "544\n",
      "545\n",
      "546\n",
      "548\n",
      "549\n",
      "550\n",
      "551\n",
      "553\n",
      "554\n",
      "555\n",
      "556\n",
      "558\n",
      "559\n",
      "561\n",
      "562\n",
      "565\n",
      "566\n",
      "567\n",
      "569\n",
      "570\n",
      "571\n",
      "572\n",
      "574\n",
      "575\n",
      "576\n",
      "577\n",
      "579\n",
      "580\n",
      "581\n",
      "582\n",
      "583\n",
      "585\n",
      "586\n",
      "587\n",
      "588\n",
      "590\n",
      "591\n",
      "592\n",
      "594\n",
      "595\n",
      "597\n",
      "599\n",
      "600\n",
      "603\n",
      "604\n",
      "605\n",
      "606\n",
      "607\n",
      "608\n",
      "609\n",
      "610\n",
      "614\n",
      "615\n",
      "616\n",
      "617\n",
      "618\n",
      "619\n",
      "620\n",
      "621\n",
      "622\n",
      "623\n",
      "624\n",
      "625\n",
      "626\n",
      "627\n",
      "628\n",
      "630\n",
      "631\n",
      "632\n",
      "634\n",
      "635\n",
      "636\n",
      "637\n",
      "638\n",
      "640\n",
      "641\n",
      "642\n",
      "644\n",
      "645\n",
      "646\n",
      "647\n",
      "649\n",
      "651\n",
      "652\n",
      "654\n",
      "655\n",
      "657\n",
      "658\n",
      "659\n",
      "660\n",
      "661\n",
      "662\n",
      "663\n",
      "664\n",
      "665\n",
      "666\n",
      "668\n",
      "670\n",
      "671\n",
      "672\n",
      "673\n",
      "675\n",
      "676\n",
      "677\n",
      "678\n",
      "679\n",
      "681\n",
      "682\n",
      "683\n",
      "684\n",
      "685\n",
      "686\n",
      "687\n",
      "688\n",
      "689\n",
      "690\n",
      "691\n",
      "693\n",
      "694\n",
      "695\n",
      "696\n",
      "698\n",
      "699\n",
      "700\n",
      "701\n",
      "702\n",
      "703\n",
      "704\n",
      "705\n",
      "706\n",
      "707\n",
      "708\n",
      "710\n",
      "712\n",
      "713\n",
      "714\n",
      "715\n",
      "716\n",
      "717\n",
      "719\n",
      "720\n",
      "721\n",
      "722\n",
      "723\n",
      "724\n",
      "725\n",
      "726\n",
      "728\n",
      "729\n",
      "730\n",
      "731\n",
      "733\n",
      "734\n",
      "735\n",
      "736\n",
      "737\n",
      "741\n",
      "742\n",
      "743\n",
      "744\n",
      "745\n",
      "746\n",
      "747\n",
      "748\n",
      "749\n",
      "750\n",
      "751\n",
      "752\n",
      "753\n",
      "754\n",
      "755\n",
      "756\n",
      "757\n",
      "758\n",
      "759\n",
      "761\n",
      "762\n",
      "763\n",
      "764\n",
      "765\n",
      "767\n",
      "769\n",
      "770\n",
      "771\n",
      "772\n",
      "774\n",
      "775\n",
      "777\n",
      "779\n",
      "780\n",
      "781\n",
      "782\n",
      "784\n",
      "785\n",
      "786\n",
      "787\n",
      "788\n",
      "789\n",
      "791\n",
      "794\n",
      "795\n",
      "796\n",
      "797\n",
      "798\n",
      "799\n",
      "800\n",
      "801\n",
      "802\n",
      "803\n",
      "804\n",
      "805\n",
      "806\n",
      "807\n",
      "808\n",
      "809\n",
      "810\n",
      "811\n",
      "812\n",
      "813\n",
      "814\n",
      "816\n",
      "817\n",
      "818\n",
      "819\n",
      "820\n",
      "821\n",
      "822\n",
      "823\n",
      "824\n",
      "827\n",
      "829\n",
      "830\n",
      "831\n",
      "833\n",
      "834\n",
      "835\n",
      "836\n",
      "838\n",
      "840\n",
      "841\n",
      "842\n",
      "843\n",
      "844\n",
      "845\n",
      "847\n",
      "848\n",
      "850\n",
      "851\n",
      "852\n",
      "853\n",
      "854\n",
      "855\n",
      "856\n",
      "857\n",
      "858\n",
      "860\n",
      "861\n",
      "862\n",
      "864\n",
      "865\n",
      "866\n",
      "867\n",
      "869\n",
      "870\n",
      "871\n",
      "872\n",
      "873\n",
      "874\n",
      "875\n",
      "876\n",
      "877\n",
      "879\n",
      "880\n",
      "881\n",
      "882\n",
      "883\n",
      "884\n",
      "885\n",
      "886\n",
      "887\n",
      "889\n",
      "890\n"
     ]
    }
   ],
   "source": [
    "fc1_mask = {}\n",
    "fc2_mask = {}\n",
    "fc3_mask = {}\n",
    "for idx, row in data.iterrows():\n",
    "    pid = row['PassengerId']\n",
    "    f = row['Fare']\n",
    "    if row['Pclass']==1:\n",
    "        fc1[pid] = f\n",
    "        fc2[pid] = 0\n",
    "        fc3[pid] = 0\n",
    "    elif row['Pclass']==2:\n",
    "        fc1[pid] = 0\n",
    "        fc2[pid] = f\n",
    "        fc3[pid] = 0\n",
    "    elif row['Pclass']==2:\n",
    "        fc1[pid] = 0\n",
    "        fc2[pid] = 0\n",
    "        fc3[pid] = 0"
   ]
  },
  {
   "cell_type": "markdown",
   "metadata": {},
   "source": [
    "#### Plot correlation matrix:"
   ]
  },
  {
   "cell_type": "code",
   "execution_count": 235,
   "metadata": {},
   "outputs": [
    {
     "data": {
      "image/png": "[encoded data removed]",
      "text/plain": [
       "<Figure size 576x576 with 2 Axes>"
      ]
     },
     "metadata": {
      "needs_background": "light"
     },
     "output_type": "display_data"
    }
   ],
   "source": [
    "fig = plt.figure()\n",
    "fig.set_size_inches(8, 8)\n",
    "corr_matrix = data.drop(columns='PassengerId').corr()\n",
    "plot_correlation_matrix(ax=fig.add_subplot(1,1,1), data=corr_matrix, cmap='coolwarm')"
   ]
  },
  {
   "cell_type": "markdown",
   "metadata": {},
   "source": [
    "#### Train base estimators for stacking model"
   ]
  },
  {
   "cell_type": "code",
   "execution_count": 599,
   "metadata": {
    "scrolled": true
   },
   "outputs": [],
   "source": [
    "X = data.drop(columns=['Survived', 'PassengerId'])\n",
    "y = data['Survived']"
   ]
  },
  {
   "cell_type": "code",
   "execution_count": 356,
   "metadata": {},
   "outputs": [],
   "source": [
    "#common random_state\n",
    "random_state=30\n",
    "#cross validation strategy\n",
    "cv = model_selection.StratifiedShuffleSplit(n_splits=10, test_size=0.3, train_size=0.6, random_state=random_state)\n",
    "#cross validation metrics\n",
    "scoring = {'balanced_accuracy': 'balanced_accuracy', \n",
    "           'roc_auc':  'roc_auc',\n",
    "           'precision_macro': 'precision_macro'}\n",
    "refit = 'roc_auc'"
   ]
  },
  {
   "cell_type": "code",
   "execution_count": 421,
   "metadata": {},
   "outputs": [],
   "source": [
    "n = len(y)\n",
    "class_priors = {}\n",
    "class_weights = {}\n",
    "for i in y.unique():\n",
    "    class_priors[i] = len(y.loc[y==i]) / n\n",
    "    class_weights[i] = 1- class_priors[i]"
   ]
  },
  {
   "cell_type": "code",
   "execution_count": 422,
   "metadata": {},
   "outputs": [],
   "source": [
    "base_scores = {}"
   ]
  },
  {
   "cell_type": "markdown",
   "metadata": {},
   "source": [
    "#### GaussianProcessClassifier"
   ]
  },
  {
   "cell_type": "markdown",
   "metadata": {},
   "source": [
    "#### LinearDiscriminantAnalysis"
   ]
  },
  {
   "cell_type": "code",
   "execution_count": 423,
   "metadata": {},
   "outputs": [
    {
     "name": "stdout",
     "output_type": "stream",
     "text": [
      "            balanced_accuracy   roc_auc  precision_macro\n",
      "mean_train           0.807219  0.871063         0.818831\n",
      "std_train            0.012423  0.013720         0.012619\n",
      "mean_test            0.790121  0.863928         0.805970\n",
      "std_test             0.025031  0.025089         0.022105\n"
     ]
    }
   ],
   "source": [
    "lda = disan.LinearDiscriminantAnalysis(solver='lsqr', shrinkage='auto')\n",
    "scores = cv_rep(lda, X, y, cv, scoring)\n",
    "base_scores['lda'] = [scores.loc['mean_test', refit], scores.loc['mean_train', refit]]\n",
    "print(scores)\n",
    "\n",
    "# param_ranges = {'n_components': np.arange(1,5)}\n",
    "# lda, scores = train_best_model(lda, param_ranges, X, y, scoring, cv, refit=refit)"
   ]
  },
  {
   "cell_type": "code",
   "execution_count": 424,
   "metadata": {},
   "outputs": [],
   "source": [
    "base_scores['lda'] = [scores.loc['mean_test', refit], scores.loc['mean_train', refit]]"
   ]
  },
  {
   "cell_type": "code",
   "execution_count": 587,
   "metadata": {},
   "outputs": [],
   "source": [
    "pickle.dump(lda, open('lda.mdl', 'wb'))"
   ]
  },
  {
   "cell_type": "markdown",
   "metadata": {},
   "source": [
    "#### QuadraticDiscriminantAnalysis"
   ]
  },
  {
   "cell_type": "code",
   "execution_count": 425,
   "metadata": {},
   "outputs": [
    {
     "name": "stdout",
     "output_type": "stream",
     "text": [
      "            balanced_accuracy   roc_auc  precision_macro\n",
      "mean_train           0.811285  0.860837         0.819162\n",
      "std_train            0.010687  0.012846         0.010449\n",
      "mean_test            0.790618  0.850989         0.800067\n",
      "std_test             0.022851  0.025804         0.023970\n"
     ]
    }
   ],
   "source": [
    "qda = disan.QuadraticDiscriminantAnalysis(priors=[class_priors[0], class_priors[1]], reg_param=0.08989795918367348)\n",
    "scores = cv_rep(qda, X, y, cv, scoring)\n",
    "base_scores['qda'] = [scores.loc['mean_test', refit], scores.loc['mean_train', refit]]\n",
    "print(scores)"
   ]
  },
  {
   "cell_type": "code",
   "execution_count": 426,
   "metadata": {},
   "outputs": [
    {
     "name": "stdout",
     "output_type": "stream",
     "text": [
      "            balanced_accuracy   roc_auc  precision_macro\n",
      "mean_train           0.814823  0.860837         0.821174\n",
      "std_train            0.011396  0.012846         0.010583\n",
      "mean_test            0.793592  0.850989         0.801069\n",
      "std_test             0.022781  0.025804         0.021626\n",
      "{'reg_param': 0.08989795918367348}\n"
     ]
    }
   ],
   "source": [
    "param_ranges = {'reg_param': np.linspace(0.001,0.1,99)}\n",
    "qda, scores = train_best_model(qda, param_ranges, X, y, scoring, cv, refit=refit)"
   ]
  },
  {
   "cell_type": "code",
   "execution_count": 427,
   "metadata": {},
   "outputs": [],
   "source": [
    "base_scores['qda'] = [scores.loc['mean_test', refit], scores.loc['mean_train', refit]]"
   ]
  },
  {
   "cell_type": "code",
   "execution_count": 588,
   "metadata": {},
   "outputs": [],
   "source": [
    "pickle.dump(qda, open('qda.mdl', 'wb'))"
   ]
  },
  {
   "cell_type": "markdown",
   "metadata": {},
   "source": [
    "#### AdaBoostClassifier"
   ]
  },
  {
   "cell_type": "code",
   "execution_count": 428,
   "metadata": {},
   "outputs": [
    {
     "name": "stdout",
     "output_type": "stream",
     "text": [
      "            balanced_accuracy   roc_auc  precision_macro\n",
      "mean_train           0.817901  0.876253         0.832079\n",
      "std_train            0.011325  0.011014         0.010629\n",
      "mean_test            0.802006  0.863510         0.819581\n",
      "std_test             0.022569  0.024551         0.022312\n"
     ]
    }
   ],
   "source": [
    "abc = ens.AdaBoostClassifier(algorithm='SAMME.R', \n",
    "                             learning_rate=0.07776923076923077,\n",
    "                             n_estimators=65,\n",
    "                             random_state=random_state)\n",
    "scores = cv_rep(abc, X, y, cv, scoring)\n",
    "base_scores['abc'] = [scores.loc['mean_test', refit], scores.loc['mean_train', refit]]\n",
    "print(scores)"
   ]
  },
  {
   "cell_type": "code",
   "execution_count": 429,
   "metadata": {},
   "outputs": [
    {
     "name": "stdout",
     "output_type": "stream",
     "text": [
      "            balanced_accuracy   roc_auc  precision_macro\n",
      "mean_train           0.820279  0.876253         0.833499\n",
      "std_train            0.011695  0.011014         0.011361\n",
      "mean_test            0.804434  0.863510         0.821252\n",
      "std_test             0.023008  0.024551         0.022812\n",
      "{'learning_rate': 0.07776923076923077, 'n_estimators': 65}\n"
     ]
    }
   ],
   "source": [
    "param_ranges = {'n_estimators': np.arange(5, 100, 20), 'learning_rate': np.linspace(0.001, 0.5, 40)}\n",
    "abc, scores = train_best_model(abc, param_ranges, X, y, scoring, cv, refit=refit)"
   ]
  },
  {
   "cell_type": "code",
   "execution_count": 432,
   "metadata": {},
   "outputs": [],
   "source": [
    "base_scores['abc'] = [scores.loc['mean_test', refit], scores.loc['mean_train', refit]]"
   ]
  },
  {
   "cell_type": "code",
   "execution_count": 589,
   "metadata": {},
   "outputs": [],
   "source": [
    "pickle.dump(abc, open('abc.mdl', 'wb'))"
   ]
  },
  {
   "cell_type": "markdown",
   "metadata": {},
   "source": [
    "#### ExtraTreesClassifier"
   ]
  },
  {
   "cell_type": "code",
   "execution_count": 445,
   "metadata": {},
   "outputs": [
    {
     "name": "stdout",
     "output_type": "stream",
     "text": [
      "            balanced_accuracy   roc_auc  precision_macro\n",
      "mean_train           0.863874  0.944837         0.895404\n",
      "std_train            0.011072  0.005426         0.012240\n",
      "mean_test            0.786711  0.871459         0.813572\n",
      "std_test             0.021386  0.019898         0.023332\n"
     ]
    }
   ],
   "source": [
    "etc = ens.ExtraTreesClassifier(random_state=random_state, n_jobs=-1, criterion='entropy',\n",
    "                               n_estimators=85,\n",
    "                               max_depth=7,\n",
    "                               ccp_alpha=0.0)\n",
    "scores = cv_rep(etc, X, y, cv, scoring)\n",
    "base_scores['etc'] = [scores.loc['mean_test', refit], scores.loc['mean_train', refit]]\n",
    "print(scores)"
   ]
  },
  {
   "cell_type": "code",
   "execution_count": 446,
   "metadata": {},
   "outputs": [
    {
     "name": "stdout",
     "output_type": "stream",
     "text": [
      "            balanced_accuracy   roc_auc  precision_macro\n",
      "mean_train           0.824567  0.944837         0.868565\n",
      "std_train            0.011617  0.005426         0.014486\n",
      "mean_test            0.799094  0.871459         0.825241\n",
      "std_test             0.024418  0.019898         0.016898\n",
      "{'criterion': 'entropy', 'max_depth': 7, 'n_estimators': 85}\n"
     ]
    }
   ],
   "source": [
    "param_ranges = {'criterion': ['gini', 'entropy'], \n",
    "                'n_estimators': np.arange(5, 100, 20),\n",
    "                'max_depth': np.arange(3, 20)}\n",
    "etc, scores = train_best_model(etc, param_ranges, X, y, scoring, cv, refit=refit)"
   ]
  },
  {
   "cell_type": "code",
   "execution_count": 455,
   "metadata": {},
   "outputs": [
    {
     "name": "stdout",
     "output_type": "stream",
     "text": [
      "            balanced_accuracy   roc_auc  precision_macro\n",
      "mean_train           0.819456  0.937983         0.866279\n",
      "std_train            0.011140  0.005471         0.012794\n",
      "mean_test            0.797638  0.871468         0.818438\n",
      "std_test             0.025595  0.020230         0.017908\n",
      "{'ccp_alpha': 0.002220338983050848}\n"
     ]
    }
   ],
   "source": [
    "param_ranges = {'ccp_alpha': np.linspace(0.001,0.01, 60)}\n",
    "etc, scores = train_best_model(etc, param_ranges, X, y, scoring, cv, refit=refit)"
   ]
  },
  {
   "cell_type": "code",
   "execution_count": 456,
   "metadata": {},
   "outputs": [],
   "source": [
    "base_scores['etc'] = [scores.loc['mean_test', refit], scores.loc['mean_train', refit]]"
   ]
  },
  {
   "cell_type": "code",
   "execution_count": 590,
   "metadata": {},
   "outputs": [],
   "source": [
    "pickle.dump(etc, open('etc.mdl', 'wb'))"
   ]
  },
  {
   "cell_type": "markdown",
   "metadata": {},
   "source": [
    "#### RandomForestClassifier"
   ]
  },
  {
   "cell_type": "code",
   "execution_count": 457,
   "metadata": {},
   "outputs": [
    {
     "name": "stdout",
     "output_type": "stream",
     "text": [
      "            balanced_accuracy   roc_auc  precision_macro\n",
      "mean_train           0.831621  0.916003         0.850528\n",
      "std_train            0.011405  0.010390         0.010244\n",
      "mean_test            0.803639  0.874234         0.825916\n",
      "std_test             0.024301  0.023962         0.026027\n"
     ]
    }
   ],
   "source": [
    "rfc = ens.RandomForestClassifier(random_state=random_state, n_jobs=-1, criterion='entropy',\n",
    "                                 n_estimators=45,\n",
    "                                 max_depth=5,\n",
    "                                 ccp_alpha=0.0112637)\n",
    "scores = cv_rep(rfc, X, y, cv, scoring)\n",
    "base_scores['rfc'] = [scores.loc['mean_test', refit], scores.loc['mean_train', refit]]\n",
    "print(scores)"
   ]
  },
  {
   "cell_type": "code",
   "execution_count": 458,
   "metadata": {},
   "outputs": [
    {
     "name": "stdout",
     "output_type": "stream",
     "text": [
      "            balanced_accuracy   roc_auc  precision_macro\n",
      "mean_train           0.841974  0.931028         0.870989\n",
      "std_train            0.014110  0.007829         0.012480\n",
      "mean_test            0.807582  0.878847         0.833701\n",
      "std_test             0.020638  0.020255         0.020466\n",
      "{'criterion': 'entropy', 'max_depth': 9, 'n_estimators': 65}\n"
     ]
    }
   ],
   "source": [
    "param_ranges = {'criterion': ['gini', 'entropy'], \n",
    "                'n_estimators': np.arange(5, 100, 20),\n",
    "                'max_depth': np.arange(3, 20)}\n",
    "rfc, scores = train_best_model(rfc, param_ranges, X, y, scoring, cv, refit=refit)"
   ]
  },
  {
   "cell_type": "code",
   "execution_count": 459,
   "metadata": {},
   "outputs": [
    {
     "name": "stdout",
     "output_type": "stream",
     "text": [
      "            balanced_accuracy   roc_auc  precision_macro\n",
      "mean_train           0.869838  0.944087         0.891391\n",
      "std_train            0.013531  0.007017         0.010809\n",
      "mean_test            0.810736  0.878850         0.833706\n",
      "std_test             0.024391  0.020502         0.024871\n",
      "{'ccp_alpha': 0.009542372881355933}\n"
     ]
    }
   ],
   "source": [
    "param_ranges = {'ccp_alpha': np.linspace(0.001,0.01, 60)}\n",
    "rfc, scores = train_best_model(rfc, param_ranges, X, y, scoring, cv, refit=refit)"
   ]
  },
  {
   "cell_type": "code",
   "execution_count": 460,
   "metadata": {},
   "outputs": [],
   "source": [
    "base_scores['rfc'] = [scores.loc['mean_test', refit], scores.loc['mean_train', refit]]"
   ]
  },
  {
   "cell_type": "code",
   "execution_count": 591,
   "metadata": {},
   "outputs": [],
   "source": [
    "pickle.dump(rfc, open('rfc.mdl', 'wb'))"
   ]
  },
  {
   "cell_type": "markdown",
   "metadata": {},
   "source": [
    "#### LogisticRegression"
   ]
  },
  {
   "cell_type": "code",
   "execution_count": 461,
   "metadata": {},
   "outputs": [
    {
     "name": "stdout",
     "output_type": "stream",
     "text": [
      "            balanced_accuracy   roc_auc  precision_macro\n",
      "mean_train           0.808029  0.872175         0.802803\n",
      "std_train            0.012895  0.013386         0.012694\n",
      "mean_test            0.797008  0.865316         0.795523\n",
      "std_test             0.026828  0.024096         0.021504\n"
     ]
    }
   ],
   "source": [
    "lr = lm.LogisticRegression(class_weight=class_weights, random_state=random_state, n_jobs=-1,\n",
    "                           penalty='l2',\n",
    "                           solver='liblinear',\n",
    "                           dual=False,\n",
    "                           C=1.3122448979591839)\n",
    "scores = cv_rep(lr, X, y, cv, scoring)\n",
    "base_scores['lr'] = [scores.loc['mean_test', refit], scores.loc['mean_train', refit]]\n",
    "print(scores)"
   ]
  },
  {
   "cell_type": "code",
   "execution_count": 462,
   "metadata": {},
   "outputs": [
    {
     "name": "stdout",
     "output_type": "stream",
     "text": [
      "            balanced_accuracy   roc_auc  precision_macro\n",
      "mean_train           0.806141  0.870231         0.800525\n",
      "std_train            0.013643  0.013814         0.015170\n",
      "mean_test            0.798829  0.866322         0.797087\n",
      "std_test             0.026861  0.023915         0.025857\n",
      "{'C': 0.3020408163265306, 'solver': 'liblinear'}\n"
     ]
    },
    {
     "name": "stderr",
     "output_type": "stream",
     "text": [
      "c:\\00_data\\python38\\lib\\site-packages\\sklearn\\linear_model\\_logistic.py:1537: UserWarning: 'n_jobs' > 1 does not have any effect when 'solver' is set to 'liblinear'. Got 'n_jobs' = 4.\n",
      "  warnings.warn(\"'n_jobs' > 1 does not have any effect when\"\n"
     ]
    }
   ],
   "source": [
    "param_ranges = {'C': np.linspace(0.1, 10, 99), 'solver': ['newton-cg', 'lbfgs', 'liblinear', 'sag', 'saga']}\n",
    "lr, scores = train_best_model(lr, param_ranges, X, y, scoring, cv, refit=refit)"
   ]
  },
  {
   "cell_type": "code",
   "execution_count": 463,
   "metadata": {},
   "outputs": [],
   "source": [
    "base_scores['lr'] = [scores.loc['mean_test', refit], scores.loc['mean_train', refit]]"
   ]
  },
  {
   "cell_type": "code",
   "execution_count": 592,
   "metadata": {},
   "outputs": [],
   "source": [
    "pickle.dump(lr, open('lr.mdl', 'wb'))"
   ]
  },
  {
   "cell_type": "markdown",
   "metadata": {},
   "source": [
    "#### RidgeClassifier"
   ]
  },
  {
   "cell_type": "code",
   "execution_count": 467,
   "metadata": {},
   "outputs": [
    {
     "name": "stdout",
     "output_type": "stream",
     "text": [
      "            balanced_accuracy   roc_auc  precision_macro\n",
      "mean_train           0.809140  0.869929         0.812909\n",
      "std_train            0.013357  0.014135         0.014310\n",
      "mean_test            0.793289  0.863492         0.799877\n",
      "std_test             0.021495  0.023838         0.017904\n"
     ]
    }
   ],
   "source": [
    "rc = lm.RidgeClassifier(class_weight=class_weights, random_state=random_state,\n",
    "                        alpha=11.122448979591837)\n",
    "scores = cv_rep(rc, X, y, cv, scoring)\n",
    "base_scores['rc'] = [scores.loc['mean_test', refit], scores.loc['mean_train', refit]]\n",
    "print(scores)"
   ]
  },
  {
   "cell_type": "code",
   "execution_count": 468,
   "metadata": {},
   "outputs": [
    {
     "name": "stdout",
     "output_type": "stream",
     "text": [
      "            balanced_accuracy   roc_auc  precision_macro\n",
      "mean_train           0.808727  0.869094         0.815072\n",
      "std_train            0.011910  0.014460         0.014014\n",
      "mean_test            0.797785  0.863592         0.802613\n",
      "std_test             0.029756  0.023659         0.019989\n",
      "{'alpha': 17.96938775510204}\n"
     ]
    }
   ],
   "source": [
    "param_ranges = {'alpha': np.linspace(0.1, 20, 99)}\n",
    "rc, scores = train_best_model(rc, param_ranges, X, y, scoring, cv, refit=refit)"
   ]
  },
  {
   "cell_type": "code",
   "execution_count": 469,
   "metadata": {},
   "outputs": [],
   "source": [
    "base_scores['rc'] = [scores.loc['mean_test', refit], scores.loc['mean_train', refit]]"
   ]
  },
  {
   "cell_type": "code",
   "execution_count": 593,
   "metadata": {},
   "outputs": [],
   "source": [
    "pickle.dump(rc, open('rc.mdl', 'wb'))"
   ]
  },
  {
   "cell_type": "markdown",
   "metadata": {},
   "source": [
    "#### SVC"
   ]
  },
  {
   "cell_type": "code",
   "execution_count": 470,
   "metadata": {},
   "outputs": [
    {
     "name": "stdout",
     "output_type": "stream",
     "text": [
      "            balanced_accuracy   roc_auc  precision_macro\n",
      "mean_train           0.826399  0.892310         0.831924\n",
      "std_train            0.014800  0.013062         0.015417\n",
      "mean_test            0.786372  0.838091         0.795130\n",
      "std_test             0.024622  0.027945         0.024734\n"
     ]
    }
   ],
   "source": [
    "svc = svm.SVC(kernel='rbf', gamma='scale', shrinking=True, class_weight=class_weights,\n",
    "              C=9428.57142857143)\n",
    "scores = cv_rep(svc, X, y, cv, scoring)\n",
    "base_scores['svc'] = [scores.loc['mean_test', refit], scores.loc['mean_train', refit]]\n",
    "print(scores)"
   ]
  },
  {
   "cell_type": "code",
   "execution_count": 477,
   "metadata": {},
   "outputs": [
    {
     "name": "stdout",
     "output_type": "stream",
     "text": [
      "            balanced_accuracy   roc_auc  precision_macro\n",
      "mean_train           0.811474  0.861091         0.812340\n",
      "std_train            0.012875  0.014017         0.013724\n",
      "mean_test            0.800939  0.853372         0.804957\n",
      "std_test             0.024536  0.020815         0.023739\n",
      "{'C': 140.9090909090909}\n"
     ]
    }
   ],
   "source": [
    "param_ranges = {'C': np.linspace(100, 150, 23)}\n",
    "svc, scores = train_best_model(svc, param_ranges, X, y, scoring, cv, refit=refit)"
   ]
  },
  {
   "cell_type": "code",
   "execution_count": 478,
   "metadata": {},
   "outputs": [],
   "source": [
    "base_scores['svc'] = [scores.loc['mean_test', refit], scores.loc['mean_train', refit]]"
   ]
  },
  {
   "cell_type": "code",
   "execution_count": 594,
   "metadata": {},
   "outputs": [],
   "source": [
    "pickle.dump(svc, open('svc.mdl', 'wb'))"
   ]
  },
  {
   "cell_type": "code",
   "execution_count": 479,
   "metadata": {},
   "outputs": [
    {
     "name": "stdout",
     "output_type": "stream",
     "text": [
      "            balanced_accuracy   roc_auc  precision_macro\n",
      "mean_train           0.813585  0.853474         0.825130\n",
      "std_train            0.010862  0.011331         0.010664\n",
      "mean_test            0.793336  0.839003         0.809132\n",
      "std_test             0.019254  0.019508         0.019365\n"
     ]
    }
   ],
   "source": [
    "nusvc = svm.NuSVC(kernel='rbf', gamma='scale', shrinking=True, class_weight=class_weights,\n",
    "                 nu=0.5102089795918366)\n",
    "scores = cv_rep(nusvc, X, y, cv, scoring)\n",
    "base_scores['nusvc'] = [scores.loc['mean_test', refit], scores.loc['mean_train', refit]]\n",
    "print(scores)"
   ]
  },
  {
   "cell_type": "code",
   "execution_count": 485,
   "metadata": {},
   "outputs": [
    {
     "name": "stdout",
     "output_type": "stream",
     "text": [
      "            balanced_accuracy   roc_auc  precision_macro\n",
      "mean_train           0.814857  0.868325         0.828311\n",
      "std_train            0.009612  0.009931         0.010918\n",
      "mean_test            0.797458  0.846217         0.814856\n",
      "std_test             0.021931  0.017840         0.020972\n",
      "{'nu': 0.4346938775510204}\n"
     ]
    }
   ],
   "source": [
    "param_ranges = {'nu': np.linspace(0.1,0.5,99)}\n",
    "nusvc, scores = train_best_model(nusvc, param_ranges, X, y, scoring, cv, refit=refit)"
   ]
  },
  {
   "cell_type": "code",
   "execution_count": 486,
   "metadata": {},
   "outputs": [],
   "source": [
    "base_scores['nusvc'] = [scores.loc['mean_test', refit], scores.loc['mean_train', refit]]"
   ]
  },
  {
   "cell_type": "code",
   "execution_count": 595,
   "metadata": {},
   "outputs": [],
   "source": [
    "pickle.dump(nusvc, open('nusvc.mdl', 'wb'))"
   ]
  },
  {
   "cell_type": "code",
   "execution_count": 487,
   "metadata": {},
   "outputs": [
    {
     "data": {
      "text/html": [
       "<div>\n",
       "<style scoped>\n",
       "    .dataframe tbody tr th:only-of-type {\n",
       "        vertical-align: middle;\n",
       "    }\n",
       "\n",
       "    .dataframe tbody tr th {\n",
       "        vertical-align: top;\n",
       "    }\n",
       "\n",
       "    .dataframe thead th {\n",
       "        text-align: right;\n",
       "    }\n",
       "</style>\n",
       "<table border=\"1\" class=\"dataframe\">\n",
       "  <thead>\n",
       "    <tr style=\"text-align: right;\">\n",
       "      <th></th>\n",
       "      <th>rfc</th>\n",
       "      <th>etc</th>\n",
       "      <th>lr</th>\n",
       "      <th>lda</th>\n",
       "      <th>rc</th>\n",
       "      <th>abc</th>\n",
       "      <th>svc</th>\n",
       "      <th>qda</th>\n",
       "      <th>nusvc</th>\n",
       "      <th>pac</th>\n",
       "    </tr>\n",
       "  </thead>\n",
       "  <tbody>\n",
       "    <tr>\n",
       "      <th>test_score</th>\n",
       "      <td>0.878850</td>\n",
       "      <td>0.871468</td>\n",
       "      <td>0.866322</td>\n",
       "      <td>0.863928</td>\n",
       "      <td>0.863592</td>\n",
       "      <td>0.863510</td>\n",
       "      <td>0.853372</td>\n",
       "      <td>0.850989</td>\n",
       "      <td>0.846217</td>\n",
       "      <td>0.753354</td>\n",
       "    </tr>\n",
       "    <tr>\n",
       "      <th>train_score</th>\n",
       "      <td>0.944087</td>\n",
       "      <td>0.937983</td>\n",
       "      <td>0.870231</td>\n",
       "      <td>0.871063</td>\n",
       "      <td>0.869094</td>\n",
       "      <td>0.876253</td>\n",
       "      <td>0.861091</td>\n",
       "      <td>0.860837</td>\n",
       "      <td>0.868325</td>\n",
       "      <td>0.759102</td>\n",
       "    </tr>\n",
       "  </tbody>\n",
       "</table>\n",
       "</div>"
      ],
      "text/plain": [
       "                  rfc       etc        lr       lda        rc       abc  \\\n",
       "test_score   0.878850  0.871468  0.866322  0.863928  0.863592  0.863510   \n",
       "train_score  0.944087  0.937983  0.870231  0.871063  0.869094  0.876253   \n",
       "\n",
       "                  svc       qda     nusvc       pac  \n",
       "test_score   0.853372  0.850989  0.846217  0.753354  \n",
       "train_score  0.861091  0.860837  0.868325  0.759102  "
      ]
     },
     "execution_count": 487,
     "metadata": {},
     "output_type": "execute_result"
    }
   ],
   "source": [
    "pd.DataFrame(base_scores, index=['test_score', 'train_score']).sort_values(by='test_score', axis=1,ascending=False)"
   ]
  },
  {
   "cell_type": "code",
   "execution_count": 491,
   "metadata": {},
   "outputs": [],
   "source": [
    "base_models_surv_dic = {'lda':lda,'qda':qda,'abc':abc,'etc':etc,'rfc':rfc,'lr':lr,'rc':rc,'svc':svc,'nusvc':nusvc}"
   ]
  },
  {
   "cell_type": "code",
   "execution_count": 492,
   "metadata": {},
   "outputs": [],
   "source": [
    "base_models_surv = [(k,base_models_surv_dic[k]) for k in base_models_surv_dic.keys()]"
   ]
  },
  {
   "cell_type": "code",
   "execution_count": 493,
   "metadata": {},
   "outputs": [
    {
     "name": "stderr",
     "output_type": "stream",
     "text": [
      "c:\\00_data\\python38\\lib\\site-packages\\sklearn\\linear_model\\_logistic.py:1537: UserWarning: 'n_jobs' > 1 does not have any effect when 'solver' is set to 'liblinear'. Got 'n_jobs' = 4.\n",
      "  warnings.warn(\"'n_jobs' > 1 does not have any effect when\"\n"
     ]
    },
    {
     "data": {
      "image/png": "[encoded data removed]",
      "text/plain": [
       "<Figure size 1728x576 with 18 Axes>"
      ]
     },
     "metadata": {
      "needs_background": "light"
     },
     "output_type": "display_data"
    }
   ],
   "source": [
    "grd_n = len(base_models_surv)\n",
    "grd_cols_n = 6\n",
    "grd_rows_n = int(math.ceil(grd_n / grd_cols_n))\n",
    "fig = plt.figure()\n",
    "fig.set_size_inches(4 * grd_cols_n, 4 * grd_rows_n)\n",
    "gs = gridspec.GridSpec(grd_rows_n, grd_cols_n, figure=fig, wspace=0.3, hspace=0.3)\n",
    "\n",
    "for i, m in enumerate(base_models_surv):\n",
    "    lbl, model = m\n",
    "    plot_confusion_matrix(model, X, y, ax=fig.add_subplot(gs[i]), normalize=True, title=lbl)"
   ]
  },
  {
   "cell_type": "code",
   "execution_count": 494,
   "metadata": {},
   "outputs": [],
   "source": [
    "def base_models_predictions(models, X):\n",
    "    X1 = None\n",
    "    for i, model in models:\n",
    "        if X1 is None:\n",
    "            X1 = pd.Series(model.predict(X), name=i).to_frame()\n",
    "        else:\n",
    "            X1 = X1.merge(pd.Series(model.predict(X), name=i).to_frame(), left_index=True, right_index=True)\n",
    "    return X1"
   ]
  },
  {
   "cell_type": "code",
   "execution_count": 495,
   "metadata": {},
   "outputs": [],
   "source": [
    "def base_models_predictions_proba(models, X):\n",
    "    X0 = None\n",
    "    X1 = None\n",
    "    for i, model in models:\n",
    "        proba_0 = model.predict_proba(X)[:,0]\n",
    "        proba_1 = model.predict_proba(X)[:,1]\n",
    "        if X0 is None:\n",
    "            X0 = pd.Series(proba_0, name='{0}_proba'.format(i)).to_frame()\n",
    "        else:\n",
    "            X0 = X0.merge(pd.Series(proba_0, name='{0}_proba'.format(i)).to_frame(), left_index=True, right_index=True)\n",
    "        \n",
    "        if X1 is None:\n",
    "            X1 = pd.Series(proba_1, name='{0}_proba'.format(i)).to_frame()\n",
    "        else:\n",
    "            X1 = X1.merge(pd.Series(proba_1, name='{0}_proba'.format(i)).to_frame(), left_index=True, right_index=True)\n",
    "    return (X0, X1)"
   ]
  },
  {
   "cell_type": "markdown",
   "metadata": {},
   "source": [
    "#### Base estimators correlation matrix"
   ]
  },
  {
   "cell_type": "code",
   "execution_count": 496,
   "metadata": {},
   "outputs": [
    {
     "data": {
      "image/png": "[encoded data removed]",
      "text/plain": [
       "<Figure size 720x720 with 2 Axes>"
      ]
     },
     "metadata": {
      "needs_background": "light"
     },
     "output_type": "display_data"
    }
   ],
   "source": [
    "preds_base = base_models_predictions(base_models_surv, X)\n",
    "fig = plt.figure()\n",
    "fig.set_size_inches(10, 10)\n",
    "corr_matrix = preds_base.corr()\n",
    "plot_correlation_matrix(ax=fig.add_subplot(1,1,1),\n",
    "                              data=corr_matrix,\n",
    "                             cmap=sns.diverging_palette(200, 15, s=75, l=50, sep=1, n=25, center='light', as_cmap=False))"
   ]
  },
  {
   "cell_type": "code",
   "execution_count": 497,
   "metadata": {},
   "outputs": [
    {
     "data": {
      "text/html": [
       "<div>\n",
       "<style scoped>\n",
       "    .dataframe tbody tr th:only-of-type {\n",
       "        vertical-align: middle;\n",
       "    }\n",
       "\n",
       "    .dataframe tbody tr th {\n",
       "        vertical-align: top;\n",
       "    }\n",
       "\n",
       "    .dataframe thead th {\n",
       "        text-align: right;\n",
       "    }\n",
       "</style>\n",
       "<table border=\"1\" class=\"dataframe\">\n",
       "  <thead>\n",
       "    <tr style=\"text-align: right;\">\n",
       "      <th></th>\n",
       "      <th>nusvc</th>\n",
       "      <th>abc</th>\n",
       "      <th>lda</th>\n",
       "      <th>rc</th>\n",
       "      <th>svc</th>\n",
       "      <th>etc</th>\n",
       "      <th>rfc</th>\n",
       "      <th>lr</th>\n",
       "      <th>qda</th>\n",
       "    </tr>\n",
       "  </thead>\n",
       "  <tbody>\n",
       "    <tr>\n",
       "      <th>cc</th>\n",
       "      <td>0.818714</td>\n",
       "      <td>0.816234</td>\n",
       "      <td>0.811385</td>\n",
       "      <td>0.805155</td>\n",
       "      <td>0.798969</td>\n",
       "      <td>0.786079</td>\n",
       "      <td>0.785611</td>\n",
       "      <td>0.77082</td>\n",
       "      <td>0.768936</td>\n",
       "    </tr>\n",
       "  </tbody>\n",
       "</table>\n",
       "</div>"
      ],
      "text/plain": [
       "       nusvc       abc       lda        rc       svc       etc       rfc  \\\n",
       "cc  0.818714  0.816234  0.811385  0.805155  0.798969  0.786079  0.785611   \n",
       "\n",
       "         lr       qda  \n",
       "cc  0.77082  0.768936  "
      ]
     },
     "execution_count": 497,
     "metadata": {},
     "output_type": "execute_result"
    }
   ],
   "source": [
    "# Mean of each model correlation coefficients\n",
    "corr_sc = {}\n",
    "for k in base_models_surv_dic.keys():\n",
    "    corr_sc[k] = (corr_matrix[k].sum() - 1) / len(corr_matrix.index)\n",
    "df_base_models_corr_sc = pd.DataFrame(corr_sc, index=['cc'])\n",
    "df_base_models_corr_sc.sort_values(by='cc', axis=1, ascending=False)"
   ]
  },
  {
   "cell_type": "markdown",
   "metadata": {},
   "source": [
    "#### Select less correlated models"
   ]
  },
  {
   "cell_type": "code",
   "execution_count": 506,
   "metadata": {},
   "outputs": [],
   "source": [
    "base_models_surv_dic = {'lda':lda,'qda':qda,'abc':abc,'etc':etc,'rc':rc,'svc':svc}"
   ]
  },
  {
   "cell_type": "code",
   "execution_count": 507,
   "metadata": {},
   "outputs": [],
   "source": [
    "base_models_surv = [(k,base_models_surv_dic[k]) for k in base_models_surv_dic.keys()]"
   ]
  },
  {
   "cell_type": "code",
   "execution_count": 508,
   "metadata": {},
   "outputs": [
    {
     "data": {
      "image/png": "[encoded data removed]",
      "text/plain": [
       "<Figure size 720x720 with 2 Axes>"
      ]
     },
     "metadata": {
      "needs_background": "light"
     },
     "output_type": "display_data"
    }
   ],
   "source": [
    "preds_base = base_models_predictions(base_models_surv, X)\n",
    "fig = plt.figure()\n",
    "fig.set_size_inches(10, 10)\n",
    "corr_matrix = preds_base.corr()\n",
    "plot_correlation_matrix(ax=fig.add_subplot(1,1,1),\n",
    "                              data=corr_matrix,\n",
    "                             cmap=sns.diverging_palette(200, 15, s=75, l=50, sep=1, n=25, center='light', as_cmap=False))"
   ]
  },
  {
   "cell_type": "code",
   "execution_count": 509,
   "metadata": {},
   "outputs": [
    {
     "data": {
      "text/html": [
       "<div>\n",
       "<style scoped>\n",
       "    .dataframe tbody tr th:only-of-type {\n",
       "        vertical-align: middle;\n",
       "    }\n",
       "\n",
       "    .dataframe tbody tr th {\n",
       "        vertical-align: top;\n",
       "    }\n",
       "\n",
       "    .dataframe thead th {\n",
       "        text-align: right;\n",
       "    }\n",
       "</style>\n",
       "<table border=\"1\" class=\"dataframe\">\n",
       "  <thead>\n",
       "    <tr style=\"text-align: right;\">\n",
       "      <th></th>\n",
       "      <th>abc</th>\n",
       "      <th>lda</th>\n",
       "      <th>rc</th>\n",
       "      <th>svc</th>\n",
       "      <th>etc</th>\n",
       "      <th>qda</th>\n",
       "    </tr>\n",
       "  </thead>\n",
       "  <tbody>\n",
       "    <tr>\n",
       "      <th>cc</th>\n",
       "      <td>0.763751</td>\n",
       "      <td>0.7595</td>\n",
       "      <td>0.754582</td>\n",
       "      <td>0.748827</td>\n",
       "      <td>0.735549</td>\n",
       "      <td>0.721225</td>\n",
       "    </tr>\n",
       "  </tbody>\n",
       "</table>\n",
       "</div>"
      ],
      "text/plain": [
       "         abc     lda        rc       svc       etc       qda\n",
       "cc  0.763751  0.7595  0.754582  0.748827  0.735549  0.721225"
      ]
     },
     "execution_count": 509,
     "metadata": {},
     "output_type": "execute_result"
    }
   ],
   "source": [
    "# Mean of each model correlation coefficients\n",
    "corr_sc = {}\n",
    "for k in base_models_surv_dic.keys():\n",
    "    corr_sc[k] = (corr_matrix[k].sum() - 1) / len(corr_matrix.index)\n",
    "df_base_models_corr_sc = pd.DataFrame(corr_sc, index=['cc'])\n",
    "df_base_models_corr_sc.sort_values(by='cc', axis=1, ascending=False)"
   ]
  },
  {
   "cell_type": "markdown",
   "metadata": {},
   "source": [
    "#### Compare stacking classifier score for different final estimator models"
   ]
  },
  {
   "cell_type": "code",
   "execution_count": 510,
   "metadata": {},
   "outputs": [],
   "source": [
    "def train_final_models(models, X, y, score, cv_folds=5):\n",
    "    scores = {}\n",
    "    fin_models = []\n",
    "    for m in models:\n",
    "        model_st = ens.StackingClassifier(estimators=base_models_surv,\n",
    "                                          final_estimator=m[1],\n",
    "                                          cv=cv_folds, \n",
    "                                          stack_method='predict', \n",
    "                                          n_jobs=-1)\n",
    "        res = cv_rep(model_st, X, y, cv, scoring)\n",
    "        scores[m[0]] = [res.loc['mean_test', score], res.loc['mean_train', score]]\n",
    "        fin_models.append((m[0], model_st))\n",
    "    scores = pd.DataFrame(scores, index=['Test_score', 'Train_score']).sort_values(by='Test_score', axis=1,ascending=False)\n",
    "    return fin_models, scores"
   ]
  },
  {
   "cell_type": "code",
   "execution_count": 511,
   "metadata": {},
   "outputs": [],
   "source": [
    "final_models_surv = [('abc', ens.AdaBoostClassifier()),\n",
    "                     ('etc', ens.ExtraTreesClassifier()),\n",
    "                     ('rfc', ens.RandomForestClassifier()),\n",
    "                     ('lr', lm.LogisticRegression()),\n",
    "                     ('svc', svm.SVC())]"
   ]
  },
  {
   "cell_type": "code",
   "execution_count": 512,
   "metadata": {},
   "outputs": [],
   "source": [
    "fin_models, scores = train_final_models(final_models_surv, X, y, cv_folds=5, score=refit)"
   ]
  },
  {
   "cell_type": "code",
   "execution_count": 513,
   "metadata": {},
   "outputs": [
    {
     "data": {
      "text/html": [
       "<div>\n",
       "<style scoped>\n",
       "    .dataframe tbody tr th:only-of-type {\n",
       "        vertical-align: middle;\n",
       "    }\n",
       "\n",
       "    .dataframe tbody tr th {\n",
       "        vertical-align: top;\n",
       "    }\n",
       "\n",
       "    .dataframe thead th {\n",
       "        text-align: right;\n",
       "    }\n",
       "</style>\n",
       "<table border=\"1\" class=\"dataframe\">\n",
       "  <thead>\n",
       "    <tr style=\"text-align: right;\">\n",
       "      <th></th>\n",
       "      <th>lr</th>\n",
       "      <th>abc</th>\n",
       "      <th>gbc</th>\n",
       "      <th>svc</th>\n",
       "      <th>rfc</th>\n",
       "      <th>etc</th>\n",
       "    </tr>\n",
       "  </thead>\n",
       "  <tbody>\n",
       "    <tr>\n",
       "      <th>Test_score</th>\n",
       "      <td>0.819635</td>\n",
       "      <td>0.818229</td>\n",
       "      <td>0.810880</td>\n",
       "      <td>0.810768</td>\n",
       "      <td>0.809732</td>\n",
       "      <td>0.807782</td>\n",
       "    </tr>\n",
       "    <tr>\n",
       "      <th>Train_score</th>\n",
       "      <td>0.853080</td>\n",
       "      <td>0.854971</td>\n",
       "      <td>0.846437</td>\n",
       "      <td>0.846627</td>\n",
       "      <td>0.847531</td>\n",
       "      <td>0.845081</td>\n",
       "    </tr>\n",
       "  </tbody>\n",
       "</table>\n",
       "</div>"
      ],
      "text/plain": [
       "                   lr       abc       gbc       svc       rfc       etc\n",
       "Test_score   0.819635  0.818229  0.810880  0.810768  0.809732  0.807782\n",
       "Train_score  0.853080  0.854971  0.846437  0.846627  0.847531  0.845081"
      ]
     },
     "execution_count": 513,
     "metadata": {},
     "output_type": "execute_result"
    }
   ],
   "source": [
    "scores"
   ]
  },
  {
   "cell_type": "code",
   "execution_count": 514,
   "metadata": {},
   "outputs": [
    {
     "data": {
      "image/png": "[encoded data removed]",
      "text/plain": [
       "<Figure size 1728x288 with 12 Axes>"
      ]
     },
     "metadata": {
      "needs_background": "light"
     },
     "output_type": "display_data"
    }
   ],
   "source": [
    "grd_n = len(fin_models)\n",
    "grd_cols_n = 6\n",
    "grd_rows_n = int(math.ceil(grd_n / grd_cols_n))\n",
    "fig = plt.figure()\n",
    "fig.set_size_inches(4 * grd_cols_n, 4 * grd_rows_n)\n",
    "gs = gridspec.GridSpec(grd_rows_n, grd_cols_n, figure=fig, wspace=0.3, hspace=0.3)\n",
    "\n",
    "for i, m in enumerate(fin_models):\n",
    "    lbl, model = m\n",
    "    plot_confusion_matrix(model, X, y, ax=fig.add_subplot(gs[i]), normalize=True, title=lbl)"
   ]
  },
  {
   "cell_type": "markdown",
   "metadata": {},
   "source": [
    "#### Train stacking model"
   ]
  },
  {
   "cell_type": "code",
   "execution_count": 523,
   "metadata": {},
   "outputs": [
    {
     "data": {
      "text/html": [
       "<div>\n",
       "<style scoped>\n",
       "    .dataframe tbody tr th:only-of-type {\n",
       "        vertical-align: middle;\n",
       "    }\n",
       "\n",
       "    .dataframe tbody tr th {\n",
       "        vertical-align: top;\n",
       "    }\n",
       "\n",
       "    .dataframe thead th {\n",
       "        text-align: right;\n",
       "    }\n",
       "</style>\n",
       "<table border=\"1\" class=\"dataframe\">\n",
       "  <thead>\n",
       "    <tr style=\"text-align: right;\">\n",
       "      <th></th>\n",
       "      <th>balanced_accuracy</th>\n",
       "      <th>roc_auc</th>\n",
       "      <th>precision_macro</th>\n",
       "    </tr>\n",
       "  </thead>\n",
       "  <tbody>\n",
       "    <tr>\n",
       "      <th>mean_train</th>\n",
       "      <td>0.830314</td>\n",
       "      <td>0.830314</td>\n",
       "      <td>0.849335</td>\n",
       "    </tr>\n",
       "    <tr>\n",
       "      <th>std_train</th>\n",
       "      <td>0.016998</td>\n",
       "      <td>0.016998</td>\n",
       "      <td>0.024052</td>\n",
       "    </tr>\n",
       "    <tr>\n",
       "      <th>mean_test</th>\n",
       "      <td>0.796546</td>\n",
       "      <td>0.796546</td>\n",
       "      <td>0.816210</td>\n",
       "    </tr>\n",
       "    <tr>\n",
       "      <th>std_test</th>\n",
       "      <td>0.023100</td>\n",
       "      <td>0.023100</td>\n",
       "      <td>0.022082</td>\n",
       "    </tr>\n",
       "  </tbody>\n",
       "</table>\n",
       "</div>"
      ],
      "text/plain": [
       "            balanced_accuracy   roc_auc  precision_macro\n",
       "mean_train           0.830314  0.830314         0.849335\n",
       "std_train            0.016998  0.016998         0.024052\n",
       "mean_test            0.796546  0.796546         0.816210\n",
       "std_test             0.023100  0.023100         0.022082"
      ]
     },
     "execution_count": 523,
     "metadata": {},
     "output_type": "execute_result"
    }
   ],
   "source": [
    "model_st = ens.StackingClassifier(estimators=base_models_surv,\n",
    "                                  final_estimator=ens.AdaBoostClassifier(algorithm='SAMME.R', \n",
    "                                                                         learning_rate=0.001,\n",
    "                                                                         n_estimators=25,\n",
    "                                                                         random_state=random_state),\n",
    "                                  cv=5, \n",
    "                                  stack_method='predict', \n",
    "                                  passthrough=False,\n",
    "                                  n_jobs=-1)\n",
    "\n",
    "cv_rep(model_st, X, y, cv, scoring)"
   ]
  },
  {
   "cell_type": "code",
   "execution_count": 524,
   "metadata": {},
   "outputs": [
    {
     "name": "stdout",
     "output_type": "stream",
     "text": [
      "            balanced_accuracy   roc_auc  precision_macro\n",
      "mean_train           0.830837  0.854341         0.857621\n",
      "std_train            0.011663  0.014729         0.017832\n",
      "mean_test            0.799459  0.818850         0.818891\n",
      "std_test             0.023105  0.027048         0.025139\n",
      "{'final_estimator__learning_rate': 0.49276811594202896, 'final_estimator__n_estimators': 55}\n"
     ]
    }
   ],
   "source": [
    "param_ranges = {'final_estimator__n_estimators': np.arange(5, 120, 50), 'final_estimator__learning_rate': np.linspace(0.001, 0.5, 70)}\n",
    "model_st, scores = train_best_model(model_st, param_ranges, X, y, scoring, cv, refit=refit)\n"
   ]
  },
  {
   "cell_type": "code",
   "execution_count": 525,
   "metadata": {},
   "outputs": [
    {
     "data": {
      "image/png": "[encoded data removed]",
      "text/plain": [
       "<Figure size 288x288 with 2 Axes>"
      ]
     },
     "metadata": {
      "needs_background": "light"
     },
     "output_type": "display_data"
    }
   ],
   "source": [
    "fig = plt.figure()\n",
    "fig.set_size_inches(4,4)\n",
    "plot_confusion_matrix(model_st, X, y, ax=fig.add_subplot(1,1,1), normalize=True, title='')"
   ]
  },
  {
   "cell_type": "code",
   "execution_count": 600,
   "metadata": {},
   "outputs": [
    {
     "data": {
      "text/html": [
       "<div>\n",
       "<style scoped>\n",
       "    .dataframe tbody tr th:only-of-type {\n",
       "        vertical-align: middle;\n",
       "    }\n",
       "\n",
       "    .dataframe tbody tr th {\n",
       "        vertical-align: top;\n",
       "    }\n",
       "\n",
       "    .dataframe thead th {\n",
       "        text-align: right;\n",
       "    }\n",
       "</style>\n",
       "<table border=\"1\" class=\"dataframe\">\n",
       "  <thead>\n",
       "    <tr style=\"text-align: right;\">\n",
       "      <th></th>\n",
       "      <th>balanced_accuracy</th>\n",
       "      <th>roc_auc</th>\n",
       "      <th>precision_macro</th>\n",
       "    </tr>\n",
       "  </thead>\n",
       "  <tbody>\n",
       "    <tr>\n",
       "      <th>mean_train</th>\n",
       "      <td>0.827250</td>\n",
       "      <td>0.885514</td>\n",
       "      <td>0.841631</td>\n",
       "    </tr>\n",
       "    <tr>\n",
       "      <th>std_train</th>\n",
       "      <td>0.011828</td>\n",
       "      <td>0.012155</td>\n",
       "      <td>0.009452</td>\n",
       "    </tr>\n",
       "    <tr>\n",
       "      <th>mean_test</th>\n",
       "      <td>0.801156</td>\n",
       "      <td>0.845475</td>\n",
       "      <td>0.819951</td>\n",
       "    </tr>\n",
       "    <tr>\n",
       "      <th>std_test</th>\n",
       "      <td>0.025042</td>\n",
       "      <td>0.016590</td>\n",
       "      <td>0.023213</td>\n",
       "    </tr>\n",
       "  </tbody>\n",
       "</table>\n",
       "</div>"
      ],
      "text/plain": [
       "            balanced_accuracy   roc_auc  precision_macro\n",
       "mean_train           0.827250  0.885514         0.841631\n",
       "std_train            0.011828  0.012155         0.009452\n",
       "mean_test            0.801156  0.845475         0.819951\n",
       "std_test             0.025042  0.016590         0.023213"
      ]
     },
     "execution_count": 600,
     "metadata": {},
     "output_type": "execute_result"
    }
   ],
   "source": [
    "model_st_cal = calib.CalibratedClassifierCV(base_estimator=model_st, method='sigmoid', cv=cv)\n",
    "model_st_cal.fit(X,y)\n",
    "cv_rep(model_st_cal, X, y, cv, scoring)"
   ]
  },
  {
   "cell_type": "code",
   "execution_count": 601,
   "metadata": {},
   "outputs": [
    {
     "data": {
      "image/png": "[encoded data removed]",
      "text/plain": [
       "<Figure size 288x288 with 2 Axes>"
      ]
     },
     "metadata": {
      "needs_background": "light"
     },
     "output_type": "display_data"
    }
   ],
   "source": [
    "fig = plt.figure()\n",
    "fig.set_size_inches(4,4)\n",
    "plot_confusion_matrix(model_st_cal, X, y, ax=fig.add_subplot(1,1,1), normalize=True, title='')"
   ]
  },
  {
   "cell_type": "code",
   "execution_count": 597,
   "metadata": {},
   "outputs": [],
   "source": [
    "pickle.dump(model_st, open('model_st.mdl', 'wb'))"
   ]
  },
  {
   "cell_type": "code",
   "execution_count": 602,
   "metadata": {},
   "outputs": [],
   "source": [
    "pickle.dump(model_st_cal, open('model_st_cal.mdl', 'wb'))"
   ]
  },
  {
   "cell_type": "markdown",
   "metadata": {},
   "source": [
    "## Predict test set"
   ]
  },
  {
   "cell_type": "markdown",
   "metadata": {},
   "source": [
    "#### Preprocessind data"
   ]
  },
  {
   "cell_type": "code",
   "execution_count": 624,
   "metadata": {},
   "outputs": [],
   "source": [
    "data = family_groups_encoder(data_test.copy(), fgrp_mask)\n",
    "# data = family_encoder(data)\n",
    "# data = fare_encoder(data, [sig1, fam1, famch1])\n",
    "data = fare_encoder(data, fare_mask)\n",
    "data = fare_transformer(data)\n",
    "\n",
    "data = ticket_encoder(data, ticket_mask)\n",
    "\n",
    "data = title_encoder(data)\n",
    "data = sex_encoder(data)\n",
    "data = fam_size(data)\n",
    "\n",
    "data = embarked_encoder(data)\n",
    "data = pclass_encoder(data)\n",
    "data = combine_features(data, 'Pclass', 'Embarked', 'PclEmb')\n",
    "\n",
    "# data = data[data['Age'].notna()].copy()\n",
    "# data = data[['Age', 'Fare', 'PclEmb', 'Sex', 'ttl', 'fgrp', 'famsize', 'Ticket', 'Cabin', 'PassengerId']]\n",
    "\n",
    "data = age_predictor(data, age_cls_model, age_reg_mogel)\n",
    "# data = age_transformer(data, age_clast_model)\n",
    "# data = data[['PassengerId', 'Survived', 'Fare', 'Age', 'ttl', 'famsize', 'PclEmb', 'fgrp']]\n",
    "data = data[['PassengerId', 'Age', 'Fare', 'Sex', 'ttl', 'fgrp', 'famsize', 'Ticket', 'Pclass', 'Embarked']]"
   ]
  },
  {
   "cell_type": "code",
   "execution_count": 625,
   "metadata": {},
   "outputs": [],
   "source": [
    "# data = family_groups_encoder(data_test, fam_grps)\n",
    "# data = fare_encoder(data, [sig1, fam1, famch1])\n",
    "# data = fare_transformer(data)\n",
    "\n",
    "# data = title_encoder(data)\n",
    "# data = sex_encoder(data)\n",
    "# data = fam_size(data)\n",
    "\n",
    "# data = embarked_encoder(data)\n",
    "# data = pclass_encoder(data)\n",
    "# data = combine_features(data, 'Pclass', 'Embarked', 'PclEmb')\n",
    "\n",
    "# data = data[['PassengerId', 'Fare', 'Age', 'ttl', 'famsize', 'PclEmb', 'fgrp']]\n",
    "\n",
    "# data = age_predictor(data, age_cls_model, age_reg_mogel)\n",
    "# data = age_transformer_counts(data)"
   ]
  },
  {
   "cell_type": "markdown",
   "metadata": {},
   "source": [
    "#### Make predictions"
   ]
  },
  {
   "cell_type": "code",
   "execution_count": 626,
   "metadata": {
    "scrolled": true
   },
   "outputs": [],
   "source": [
    "X = data.drop(columns=['PassengerId'])"
   ]
  },
  {
   "cell_type": "code",
   "execution_count": 627,
   "metadata": {},
   "outputs": [],
   "source": [
    "data['Survived'] = model_st.predict(X)\n",
    "df_submission = data[['PassengerId', 'Survived']]\n",
    "df_submission.to_csv(\"df_submission.csv\", index=False)"
   ]
  },
  {
   "cell_type": "code",
   "execution_count": 628,
   "metadata": {},
   "outputs": [
    {
     "data": {
      "text/html": [
       "<div>\n",
       "<style scoped>\n",
       "    .dataframe tbody tr th:only-of-type {\n",
       "        vertical-align: middle;\n",
       "    }\n",
       "\n",
       "    .dataframe tbody tr th {\n",
       "        vertical-align: top;\n",
       "    }\n",
       "\n",
       "    .dataframe thead th {\n",
       "        text-align: right;\n",
       "    }\n",
       "</style>\n",
       "<table border=\"1\" class=\"dataframe\">\n",
       "  <thead>\n",
       "    <tr style=\"text-align: right;\">\n",
       "      <th></th>\n",
       "      <th>PassengerId</th>\n",
       "      <th>Survived</th>\n",
       "    </tr>\n",
       "  </thead>\n",
       "  <tbody>\n",
       "    <tr>\n",
       "      <th>0</th>\n",
       "      <td>902</td>\n",
       "      <td>0</td>\n",
       "    </tr>\n",
       "    <tr>\n",
       "      <th>1</th>\n",
       "      <td>914</td>\n",
       "      <td>1</td>\n",
       "    </tr>\n",
       "    <tr>\n",
       "      <th>2</th>\n",
       "      <td>921</td>\n",
       "      <td>0</td>\n",
       "    </tr>\n",
       "    <tr>\n",
       "      <th>3</th>\n",
       "      <td>925</td>\n",
       "      <td>1</td>\n",
       "    </tr>\n",
       "    <tr>\n",
       "      <th>4</th>\n",
       "      <td>928</td>\n",
       "      <td>1</td>\n",
       "    </tr>\n",
       "    <tr>\n",
       "      <th>...</th>\n",
       "      <td>...</td>\n",
       "      <td>...</td>\n",
       "    </tr>\n",
       "    <tr>\n",
       "      <th>409</th>\n",
       "      <td>1301</td>\n",
       "      <td>1</td>\n",
       "    </tr>\n",
       "    <tr>\n",
       "      <th>411</th>\n",
       "      <td>1303</td>\n",
       "      <td>1</td>\n",
       "    </tr>\n",
       "    <tr>\n",
       "      <th>412</th>\n",
       "      <td>1304</td>\n",
       "      <td>1</td>\n",
       "    </tr>\n",
       "    <tr>\n",
       "      <th>414</th>\n",
       "      <td>1306</td>\n",
       "      <td>1</td>\n",
       "    </tr>\n",
       "    <tr>\n",
       "      <th>415</th>\n",
       "      <td>1307</td>\n",
       "      <td>0</td>\n",
       "    </tr>\n",
       "  </tbody>\n",
       "</table>\n",
       "<p>418 rows × 2 columns</p>\n",
       "</div>"
      ],
      "text/plain": [
       "     PassengerId  Survived\n",
       "0            902         0\n",
       "1            914         1\n",
       "2            921         0\n",
       "3            925         1\n",
       "4            928         1\n",
       "..           ...       ...\n",
       "409         1301         1\n",
       "411         1303         1\n",
       "412         1304         1\n",
       "414         1306         1\n",
       "415         1307         0\n",
       "\n",
       "[418 rows x 2 columns]"
      ]
     },
     "execution_count": 628,
     "metadata": {},
     "output_type": "execute_result"
    }
   ],
   "source": [
    "df_submission.loc[df_submission['PassengerId']>890]"
   ]
  },
  {
   "cell_type": "code",
   "execution_count": 629,
   "metadata": {},
   "outputs": [],
   "source": [
    "df_pp = pd.DataFrame(model_st_cal.predict_proba(X), columns=['pp_0', 'pp_1'])\n",
    "df_pp = pd.concat([data.reset_index(drop=True), df_pp], axis=1)\n",
    "df_pp.to_csv(\"df_pp.csv\", index=False)"
   ]
  },
  {
   "cell_type": "code",
   "execution_count": 630,
   "metadata": {},
   "outputs": [],
   "source": [
    "# Import predicted probabilities\n",
    "filename_pp = 'df_pp.csv'\n",
    "df_pp = pd.read_csv(filename_pp)"
   ]
  },
  {
   "cell_type": "code",
   "execution_count": 631,
   "metadata": {},
   "outputs": [],
   "source": [
    "df_pp1 = df_pp.loc[df_pp['pp_1']>0.81]"
   ]
  },
  {
   "cell_type": "code",
   "execution_count": 632,
   "metadata": {},
   "outputs": [
    {
     "data": {
      "text/html": [
       "<div>\n",
       "<style scoped>\n",
       "    .dataframe tbody tr th:only-of-type {\n",
       "        vertical-align: middle;\n",
       "    }\n",
       "\n",
       "    .dataframe tbody tr th {\n",
       "        vertical-align: top;\n",
       "    }\n",
       "\n",
       "    .dataframe thead th {\n",
       "        text-align: right;\n",
       "    }\n",
       "</style>\n",
       "<table border=\"1\" class=\"dataframe\">\n",
       "  <thead>\n",
       "    <tr style=\"text-align: right;\">\n",
       "      <th></th>\n",
       "      <th>PassengerId</th>\n",
       "      <th>Age</th>\n",
       "      <th>Fare</th>\n",
       "      <th>Sex</th>\n",
       "      <th>ttl</th>\n",
       "      <th>fgrp</th>\n",
       "      <th>famsize</th>\n",
       "      <th>Ticket</th>\n",
       "      <th>Pclass</th>\n",
       "      <th>Embarked</th>\n",
       "      <th>Survived</th>\n",
       "      <th>pp_0</th>\n",
       "      <th>pp_1</th>\n",
       "    </tr>\n",
       "  </thead>\n",
       "  <tbody>\n",
       "    <tr>\n",
       "      <th>1</th>\n",
       "      <td>914</td>\n",
       "      <td>3.084892</td>\n",
       "      <td>3.455790</td>\n",
       "      <td>1</td>\n",
       "      <td>2</td>\n",
       "      <td>0</td>\n",
       "      <td>0</td>\n",
       "      <td>0</td>\n",
       "      <td>0</td>\n",
       "      <td>1</td>\n",
       "      <td>1</td>\n",
       "      <td>0.180290</td>\n",
       "      <td>0.819710</td>\n",
       "    </tr>\n",
       "    <tr>\n",
       "      <th>15</th>\n",
       "      <td>980</td>\n",
       "      <td>3.126060</td>\n",
       "      <td>2.047693</td>\n",
       "      <td>1</td>\n",
       "      <td>3</td>\n",
       "      <td>0</td>\n",
       "      <td>0</td>\n",
       "      <td>0</td>\n",
       "      <td>2</td>\n",
       "      <td>2</td>\n",
       "      <td>1</td>\n",
       "      <td>0.180290</td>\n",
       "      <td>0.819710</td>\n",
       "    </tr>\n",
       "    <tr>\n",
       "      <th>21</th>\n",
       "      <td>1003</td>\n",
       "      <td>3.126060</td>\n",
       "      <td>2.051454</td>\n",
       "      <td>1</td>\n",
       "      <td>3</td>\n",
       "      <td>0</td>\n",
       "      <td>0</td>\n",
       "      <td>0</td>\n",
       "      <td>2</td>\n",
       "      <td>2</td>\n",
       "      <td>1</td>\n",
       "      <td>0.180290</td>\n",
       "      <td>0.819710</td>\n",
       "    </tr>\n",
       "    <tr>\n",
       "      <th>25</th>\n",
       "      <td>1019</td>\n",
       "      <td>2.887323</td>\n",
       "      <td>2.047693</td>\n",
       "      <td>1</td>\n",
       "      <td>3</td>\n",
       "      <td>3</td>\n",
       "      <td>2</td>\n",
       "      <td>108</td>\n",
       "      <td>2</td>\n",
       "      <td>2</td>\n",
       "      <td>1</td>\n",
       "      <td>0.180290</td>\n",
       "      <td>0.819710</td>\n",
       "    </tr>\n",
       "    <tr>\n",
       "      <th>31</th>\n",
       "      <td>1052</td>\n",
       "      <td>3.126060</td>\n",
       "      <td>2.045536</td>\n",
       "      <td>1</td>\n",
       "      <td>3</td>\n",
       "      <td>0</td>\n",
       "      <td>0</td>\n",
       "      <td>0</td>\n",
       "      <td>2</td>\n",
       "      <td>2</td>\n",
       "      <td>1</td>\n",
       "      <td>0.180290</td>\n",
       "      <td>0.819710</td>\n",
       "    </tr>\n",
       "    <tr>\n",
       "      <th>...</th>\n",
       "      <td>...</td>\n",
       "      <td>...</td>\n",
       "      <td>...</td>\n",
       "      <td>...</td>\n",
       "      <td>...</td>\n",
       "      <td>...</td>\n",
       "      <td>...</td>\n",
       "      <td>...</td>\n",
       "      <td>...</td>\n",
       "      <td>...</td>\n",
       "      <td>...</td>\n",
       "      <td>...</td>\n",
       "      <td>...</td>\n",
       "    </tr>\n",
       "    <tr>\n",
       "      <th>405</th>\n",
       "      <td>1292</td>\n",
       "      <td>3.401197</td>\n",
       "      <td>3.718843</td>\n",
       "      <td>1</td>\n",
       "      <td>3</td>\n",
       "      <td>0</td>\n",
       "      <td>0</td>\n",
       "      <td>117</td>\n",
       "      <td>0</td>\n",
       "      <td>1</td>\n",
       "      <td>1</td>\n",
       "      <td>0.180290</td>\n",
       "      <td>0.819710</td>\n",
       "    </tr>\n",
       "    <tr>\n",
       "      <th>407</th>\n",
       "      <td>1294</td>\n",
       "      <td>3.091042</td>\n",
       "      <td>3.391147</td>\n",
       "      <td>1</td>\n",
       "      <td>3</td>\n",
       "      <td>5</td>\n",
       "      <td>1</td>\n",
       "      <td>216</td>\n",
       "      <td>0</td>\n",
       "      <td>0</td>\n",
       "      <td>1</td>\n",
       "      <td>0.175281</td>\n",
       "      <td>0.824719</td>\n",
       "    </tr>\n",
       "    <tr>\n",
       "      <th>413</th>\n",
       "      <td>1301</td>\n",
       "      <td>1.098612</td>\n",
       "      <td>1.524243</td>\n",
       "      <td>1</td>\n",
       "      <td>3</td>\n",
       "      <td>5</td>\n",
       "      <td>2</td>\n",
       "      <td>212</td>\n",
       "      <td>2</td>\n",
       "      <td>1</td>\n",
       "      <td>1</td>\n",
       "      <td>0.175281</td>\n",
       "      <td>0.824719</td>\n",
       "    </tr>\n",
       "    <tr>\n",
       "      <th>414</th>\n",
       "      <td>1303</td>\n",
       "      <td>3.610918</td>\n",
       "      <td>3.401197</td>\n",
       "      <td>1</td>\n",
       "      <td>2</td>\n",
       "      <td>3</td>\n",
       "      <td>1</td>\n",
       "      <td>86</td>\n",
       "      <td>0</td>\n",
       "      <td>2</td>\n",
       "      <td>1</td>\n",
       "      <td>0.180290</td>\n",
       "      <td>0.819710</td>\n",
       "    </tr>\n",
       "    <tr>\n",
       "      <th>416</th>\n",
       "      <td>1306</td>\n",
       "      <td>3.663562</td>\n",
       "      <td>4.690430</td>\n",
       "      <td>1</td>\n",
       "      <td>2</td>\n",
       "      <td>0</td>\n",
       "      <td>0</td>\n",
       "      <td>110</td>\n",
       "      <td>0</td>\n",
       "      <td>0</td>\n",
       "      <td>1</td>\n",
       "      <td>0.180290</td>\n",
       "      <td>0.819710</td>\n",
       "    </tr>\n",
       "  </tbody>\n",
       "</table>\n",
       "<p>99 rows × 13 columns</p>\n",
       "</div>"
      ],
      "text/plain": [
       "     PassengerId       Age      Fare  Sex  ttl  fgrp  famsize  Ticket  Pclass  \\\n",
       "1            914  3.084892  3.455790    1    2     0        0       0       0   \n",
       "15           980  3.126060  2.047693    1    3     0        0       0       2   \n",
       "21          1003  3.126060  2.051454    1    3     0        0       0       2   \n",
       "25          1019  2.887323  2.047693    1    3     3        2     108       2   \n",
       "31          1052  3.126060  2.045536    1    3     0        0       0       2   \n",
       "..           ...       ...       ...  ...  ...   ...      ...     ...     ...   \n",
       "405         1292  3.401197  3.718843    1    3     0        0     117       0   \n",
       "407         1294  3.091042  3.391147    1    3     5        1     216       0   \n",
       "413         1301  1.098612  1.524243    1    3     5        2     212       2   \n",
       "414         1303  3.610918  3.401197    1    2     3        1      86       0   \n",
       "416         1306  3.663562  4.690430    1    2     0        0     110       0   \n",
       "\n",
       "     Embarked  Survived      pp_0      pp_1  \n",
       "1           1         1  0.180290  0.819710  \n",
       "15          2         1  0.180290  0.819710  \n",
       "21          2         1  0.180290  0.819710  \n",
       "25          2         1  0.180290  0.819710  \n",
       "31          2         1  0.180290  0.819710  \n",
       "..        ...       ...       ...       ...  \n",
       "405         1         1  0.180290  0.819710  \n",
       "407         0         1  0.175281  0.824719  \n",
       "413         1         1  0.175281  0.824719  \n",
       "414         2         1  0.180290  0.819710  \n",
       "416         0         1  0.180290  0.819710  \n",
       "\n",
       "[99 rows x 13 columns]"
      ]
     },
     "execution_count": 632,
     "metadata": {},
     "output_type": "execute_result"
    }
   ],
   "source": [
    "df_pp1"
   ]
  },
  {
   "cell_type": "code",
   "execution_count": 633,
   "metadata": {},
   "outputs": [],
   "source": [
    "data_test_pp = data_test.copy()\n",
    "data_test_pp = data_test_pp.query('PassengerId in {0}'.format(list(df_pp1['PassengerId'])))\n",
    "data_test_pp['Survived'] = 1"
   ]
  },
  {
   "cell_type": "code",
   "execution_count": 634,
   "metadata": {},
   "outputs": [
    {
     "data": {
      "text/html": [
       "<div>\n",
       "<style scoped>\n",
       "    .dataframe tbody tr th:only-of-type {\n",
       "        vertical-align: middle;\n",
       "    }\n",
       "\n",
       "    .dataframe tbody tr th {\n",
       "        vertical-align: top;\n",
       "    }\n",
       "\n",
       "    .dataframe thead th {\n",
       "        text-align: right;\n",
       "    }\n",
       "</style>\n",
       "<table border=\"1\" class=\"dataframe\">\n",
       "  <thead>\n",
       "    <tr style=\"text-align: right;\">\n",
       "      <th></th>\n",
       "      <th>PassengerId</th>\n",
       "      <th>Pclass</th>\n",
       "      <th>Name</th>\n",
       "      <th>Sex</th>\n",
       "      <th>Age</th>\n",
       "      <th>SibSp</th>\n",
       "      <th>Parch</th>\n",
       "      <th>Ticket</th>\n",
       "      <th>Fare</th>\n",
       "      <th>Cabin</th>\n",
       "      <th>Embarked</th>\n",
       "      <th>Survived</th>\n",
       "    </tr>\n",
       "  </thead>\n",
       "  <tbody>\n",
       "    <tr>\n",
       "      <th>4</th>\n",
       "      <td>896</td>\n",
       "      <td>3</td>\n",
       "      <td>Hirvonen, Mrs. Alexander (Helga E Lindqvist)</td>\n",
       "      <td>female</td>\n",
       "      <td>22.0</td>\n",
       "      <td>1</td>\n",
       "      <td>1</td>\n",
       "      <td>3101298</td>\n",
       "      <td>12.2875</td>\n",
       "      <td>NaN</td>\n",
       "      <td>S</td>\n",
       "      <td>1</td>\n",
       "    </tr>\n",
       "    <tr>\n",
       "      <th>6</th>\n",
       "      <td>898</td>\n",
       "      <td>3</td>\n",
       "      <td>Connolly, Miss. Kate</td>\n",
       "      <td>female</td>\n",
       "      <td>30.0</td>\n",
       "      <td>0</td>\n",
       "      <td>0</td>\n",
       "      <td>330972</td>\n",
       "      <td>7.6292</td>\n",
       "      <td>NaN</td>\n",
       "      <td>Q</td>\n",
       "      <td>1</td>\n",
       "    </tr>\n",
       "    <tr>\n",
       "      <th>12</th>\n",
       "      <td>904</td>\n",
       "      <td>1</td>\n",
       "      <td>Snyder, Mrs. John Pillsbury (Nelle Stevenson)</td>\n",
       "      <td>female</td>\n",
       "      <td>23.0</td>\n",
       "      <td>1</td>\n",
       "      <td>0</td>\n",
       "      <td>21228</td>\n",
       "      <td>82.2667</td>\n",
       "      <td>B45</td>\n",
       "      <td>S</td>\n",
       "      <td>1</td>\n",
       "    </tr>\n",
       "    <tr>\n",
       "      <th>14</th>\n",
       "      <td>906</td>\n",
       "      <td>1</td>\n",
       "      <td>Chaffee, Mrs. Herbert Fuller (Carrie Constance...</td>\n",
       "      <td>female</td>\n",
       "      <td>47.0</td>\n",
       "      <td>1</td>\n",
       "      <td>0</td>\n",
       "      <td>W.E.P. 5734</td>\n",
       "      <td>61.1750</td>\n",
       "      <td>E31</td>\n",
       "      <td>S</td>\n",
       "      <td>1</td>\n",
       "    </tr>\n",
       "    <tr>\n",
       "      <th>15</th>\n",
       "      <td>907</td>\n",
       "      <td>2</td>\n",
       "      <td>del Carlo, Mrs. Sebastiano (Argenia Genovesi)</td>\n",
       "      <td>female</td>\n",
       "      <td>24.0</td>\n",
       "      <td>1</td>\n",
       "      <td>0</td>\n",
       "      <td>SC/PARIS 2167</td>\n",
       "      <td>27.7208</td>\n",
       "      <td>NaN</td>\n",
       "      <td>C</td>\n",
       "      <td>1</td>\n",
       "    </tr>\n",
       "    <tr>\n",
       "      <th>...</th>\n",
       "      <td>...</td>\n",
       "      <td>...</td>\n",
       "      <td>...</td>\n",
       "      <td>...</td>\n",
       "      <td>...</td>\n",
       "      <td>...</td>\n",
       "      <td>...</td>\n",
       "      <td>...</td>\n",
       "      <td>...</td>\n",
       "      <td>...</td>\n",
       "      <td>...</td>\n",
       "      <td>...</td>\n",
       "    </tr>\n",
       "    <tr>\n",
       "      <th>409</th>\n",
       "      <td>1301</td>\n",
       "      <td>3</td>\n",
       "      <td>Peacock, Miss. Treasteall</td>\n",
       "      <td>female</td>\n",
       "      <td>3.0</td>\n",
       "      <td>1</td>\n",
       "      <td>1</td>\n",
       "      <td>SOTON/O.Q. 3101315</td>\n",
       "      <td>13.7750</td>\n",
       "      <td>NaN</td>\n",
       "      <td>S</td>\n",
       "      <td>1</td>\n",
       "    </tr>\n",
       "    <tr>\n",
       "      <th>410</th>\n",
       "      <td>1302</td>\n",
       "      <td>3</td>\n",
       "      <td>Naughton, Miss. Hannah</td>\n",
       "      <td>female</td>\n",
       "      <td>NaN</td>\n",
       "      <td>0</td>\n",
       "      <td>0</td>\n",
       "      <td>365237</td>\n",
       "      <td>7.7500</td>\n",
       "      <td>NaN</td>\n",
       "      <td>Q</td>\n",
       "      <td>1</td>\n",
       "    </tr>\n",
       "    <tr>\n",
       "      <th>411</th>\n",
       "      <td>1303</td>\n",
       "      <td>1</td>\n",
       "      <td>Minahan, Mrs. William Edward (Lillian E Thorpe)</td>\n",
       "      <td>female</td>\n",
       "      <td>37.0</td>\n",
       "      <td>1</td>\n",
       "      <td>0</td>\n",
       "      <td>19928</td>\n",
       "      <td>90.0000</td>\n",
       "      <td>C78</td>\n",
       "      <td>Q</td>\n",
       "      <td>1</td>\n",
       "    </tr>\n",
       "    <tr>\n",
       "      <th>414</th>\n",
       "      <td>1306</td>\n",
       "      <td>1</td>\n",
       "      <td>Oliva y Ocana, Dona. Fermina</td>\n",
       "      <td>female</td>\n",
       "      <td>39.0</td>\n",
       "      <td>0</td>\n",
       "      <td>0</td>\n",
       "      <td>PC 17758</td>\n",
       "      <td>108.9000</td>\n",
       "      <td>C105</td>\n",
       "      <td>C</td>\n",
       "      <td>1</td>\n",
       "    </tr>\n",
       "    <tr>\n",
       "      <th>417</th>\n",
       "      <td>1309</td>\n",
       "      <td>3</td>\n",
       "      <td>Peter, Master. Michael J</td>\n",
       "      <td>male</td>\n",
       "      <td>NaN</td>\n",
       "      <td>1</td>\n",
       "      <td>1</td>\n",
       "      <td>2668</td>\n",
       "      <td>22.3583</td>\n",
       "      <td>NaN</td>\n",
       "      <td>C</td>\n",
       "      <td>1</td>\n",
       "    </tr>\n",
       "  </tbody>\n",
       "</table>\n",
       "<p>99 rows × 12 columns</p>\n",
       "</div>"
      ],
      "text/plain": [
       "     PassengerId  Pclass                                               Name  \\\n",
       "4            896       3       Hirvonen, Mrs. Alexander (Helga E Lindqvist)   \n",
       "6            898       3                               Connolly, Miss. Kate   \n",
       "12           904       1      Snyder, Mrs. John Pillsbury (Nelle Stevenson)   \n",
       "14           906       1  Chaffee, Mrs. Herbert Fuller (Carrie Constance...   \n",
       "15           907       2      del Carlo, Mrs. Sebastiano (Argenia Genovesi)   \n",
       "..           ...     ...                                                ...   \n",
       "409         1301       3                          Peacock, Miss. Treasteall   \n",
       "410         1302       3                             Naughton, Miss. Hannah   \n",
       "411         1303       1    Minahan, Mrs. William Edward (Lillian E Thorpe)   \n",
       "414         1306       1                       Oliva y Ocana, Dona. Fermina   \n",
       "417         1309       3                           Peter, Master. Michael J   \n",
       "\n",
       "        Sex   Age  SibSp  Parch              Ticket      Fare Cabin Embarked  \\\n",
       "4    female  22.0      1      1             3101298   12.2875   NaN        S   \n",
       "6    female  30.0      0      0              330972    7.6292   NaN        Q   \n",
       "12   female  23.0      1      0               21228   82.2667   B45        S   \n",
       "14   female  47.0      1      0         W.E.P. 5734   61.1750   E31        S   \n",
       "15   female  24.0      1      0       SC/PARIS 2167   27.7208   NaN        C   \n",
       "..      ...   ...    ...    ...                 ...       ...   ...      ...   \n",
       "409  female   3.0      1      1  SOTON/O.Q. 3101315   13.7750   NaN        S   \n",
       "410  female   NaN      0      0              365237    7.7500   NaN        Q   \n",
       "411  female  37.0      1      0               19928   90.0000   C78        Q   \n",
       "414  female  39.0      0      0            PC 17758  108.9000  C105        C   \n",
       "417    male   NaN      1      1                2668   22.3583   NaN        C   \n",
       "\n",
       "     Survived  \n",
       "4           1  \n",
       "6           1  \n",
       "12          1  \n",
       "14          1  \n",
       "15          1  \n",
       "..        ...  \n",
       "409         1  \n",
       "410         1  \n",
       "411         1  \n",
       "414         1  \n",
       "417         1  \n",
       "\n",
       "[99 rows x 12 columns]"
      ]
     },
     "execution_count": 634,
     "metadata": {},
     "output_type": "execute_result"
    }
   ],
   "source": [
    "data_test_pp"
   ]
  },
  {
   "cell_type": "code",
   "execution_count": 635,
   "metadata": {},
   "outputs": [],
   "source": [
    "data_train_aug = pd.concat([data_train.copy(), data_test_pp])"
   ]
  },
  {
   "cell_type": "code",
   "execution_count": 636,
   "metadata": {},
   "outputs": [
    {
     "data": {
      "text/html": [
       "<div>\n",
       "<style scoped>\n",
       "    .dataframe tbody tr th:only-of-type {\n",
       "        vertical-align: middle;\n",
       "    }\n",
       "\n",
       "    .dataframe tbody tr th {\n",
       "        vertical-align: top;\n",
       "    }\n",
       "\n",
       "    .dataframe thead th {\n",
       "        text-align: right;\n",
       "    }\n",
       "</style>\n",
       "<table border=\"1\" class=\"dataframe\">\n",
       "  <thead>\n",
       "    <tr style=\"text-align: right;\">\n",
       "      <th></th>\n",
       "      <th>PassengerId</th>\n",
       "      <th>Survived</th>\n",
       "      <th>Pclass</th>\n",
       "      <th>Name</th>\n",
       "      <th>Sex</th>\n",
       "      <th>Age</th>\n",
       "      <th>SibSp</th>\n",
       "      <th>Parch</th>\n",
       "      <th>Ticket</th>\n",
       "      <th>Fare</th>\n",
       "      <th>Cabin</th>\n",
       "      <th>Embarked</th>\n",
       "    </tr>\n",
       "  </thead>\n",
       "  <tbody>\n",
       "    <tr>\n",
       "      <th>0</th>\n",
       "      <td>1</td>\n",
       "      <td>0</td>\n",
       "      <td>3</td>\n",
       "      <td>Braund, Mr. Owen Harris</td>\n",
       "      <td>male</td>\n",
       "      <td>22.0</td>\n",
       "      <td>1</td>\n",
       "      <td>0</td>\n",
       "      <td>A/5 21171</td>\n",
       "      <td>7.2500</td>\n",
       "      <td>NaN</td>\n",
       "      <td>S</td>\n",
       "    </tr>\n",
       "    <tr>\n",
       "      <th>1</th>\n",
       "      <td>2</td>\n",
       "      <td>1</td>\n",
       "      <td>1</td>\n",
       "      <td>Cumings, Mrs. John Bradley (Florence Briggs Th...</td>\n",
       "      <td>female</td>\n",
       "      <td>38.0</td>\n",
       "      <td>1</td>\n",
       "      <td>0</td>\n",
       "      <td>PC 17599</td>\n",
       "      <td>71.2833</td>\n",
       "      <td>C85</td>\n",
       "      <td>C</td>\n",
       "    </tr>\n",
       "    <tr>\n",
       "      <th>2</th>\n",
       "      <td>3</td>\n",
       "      <td>1</td>\n",
       "      <td>3</td>\n",
       "      <td>Heikkinen, Miss. Laina</td>\n",
       "      <td>female</td>\n",
       "      <td>26.0</td>\n",
       "      <td>0</td>\n",
       "      <td>0</td>\n",
       "      <td>STON/O2. 3101282</td>\n",
       "      <td>7.9250</td>\n",
       "      <td>NaN</td>\n",
       "      <td>S</td>\n",
       "    </tr>\n",
       "    <tr>\n",
       "      <th>3</th>\n",
       "      <td>4</td>\n",
       "      <td>1</td>\n",
       "      <td>1</td>\n",
       "      <td>Futrelle, Mrs. Jacques Heath (Lily May Peel)</td>\n",
       "      <td>female</td>\n",
       "      <td>35.0</td>\n",
       "      <td>1</td>\n",
       "      <td>0</td>\n",
       "      <td>113803</td>\n",
       "      <td>53.1000</td>\n",
       "      <td>C123</td>\n",
       "      <td>S</td>\n",
       "    </tr>\n",
       "    <tr>\n",
       "      <th>4</th>\n",
       "      <td>5</td>\n",
       "      <td>0</td>\n",
       "      <td>3</td>\n",
       "      <td>Allen, Mr. William Henry</td>\n",
       "      <td>male</td>\n",
       "      <td>35.0</td>\n",
       "      <td>0</td>\n",
       "      <td>0</td>\n",
       "      <td>373450</td>\n",
       "      <td>8.0500</td>\n",
       "      <td>NaN</td>\n",
       "      <td>S</td>\n",
       "    </tr>\n",
       "    <tr>\n",
       "      <th>...</th>\n",
       "      <td>...</td>\n",
       "      <td>...</td>\n",
       "      <td>...</td>\n",
       "      <td>...</td>\n",
       "      <td>...</td>\n",
       "      <td>...</td>\n",
       "      <td>...</td>\n",
       "      <td>...</td>\n",
       "      <td>...</td>\n",
       "      <td>...</td>\n",
       "      <td>...</td>\n",
       "      <td>...</td>\n",
       "    </tr>\n",
       "    <tr>\n",
       "      <th>409</th>\n",
       "      <td>1301</td>\n",
       "      <td>1</td>\n",
       "      <td>3</td>\n",
       "      <td>Peacock, Miss. Treasteall</td>\n",
       "      <td>female</td>\n",
       "      <td>3.0</td>\n",
       "      <td>1</td>\n",
       "      <td>1</td>\n",
       "      <td>SOTON/O.Q. 3101315</td>\n",
       "      <td>13.7750</td>\n",
       "      <td>NaN</td>\n",
       "      <td>S</td>\n",
       "    </tr>\n",
       "    <tr>\n",
       "      <th>410</th>\n",
       "      <td>1302</td>\n",
       "      <td>1</td>\n",
       "      <td>3</td>\n",
       "      <td>Naughton, Miss. Hannah</td>\n",
       "      <td>female</td>\n",
       "      <td>NaN</td>\n",
       "      <td>0</td>\n",
       "      <td>0</td>\n",
       "      <td>365237</td>\n",
       "      <td>7.7500</td>\n",
       "      <td>NaN</td>\n",
       "      <td>Q</td>\n",
       "    </tr>\n",
       "    <tr>\n",
       "      <th>411</th>\n",
       "      <td>1303</td>\n",
       "      <td>1</td>\n",
       "      <td>1</td>\n",
       "      <td>Minahan, Mrs. William Edward (Lillian E Thorpe)</td>\n",
       "      <td>female</td>\n",
       "      <td>37.0</td>\n",
       "      <td>1</td>\n",
       "      <td>0</td>\n",
       "      <td>19928</td>\n",
       "      <td>90.0000</td>\n",
       "      <td>C78</td>\n",
       "      <td>Q</td>\n",
       "    </tr>\n",
       "    <tr>\n",
       "      <th>414</th>\n",
       "      <td>1306</td>\n",
       "      <td>1</td>\n",
       "      <td>1</td>\n",
       "      <td>Oliva y Ocana, Dona. Fermina</td>\n",
       "      <td>female</td>\n",
       "      <td>39.0</td>\n",
       "      <td>0</td>\n",
       "      <td>0</td>\n",
       "      <td>PC 17758</td>\n",
       "      <td>108.9000</td>\n",
       "      <td>C105</td>\n",
       "      <td>C</td>\n",
       "    </tr>\n",
       "    <tr>\n",
       "      <th>417</th>\n",
       "      <td>1309</td>\n",
       "      <td>1</td>\n",
       "      <td>3</td>\n",
       "      <td>Peter, Master. Michael J</td>\n",
       "      <td>male</td>\n",
       "      <td>NaN</td>\n",
       "      <td>1</td>\n",
       "      <td>1</td>\n",
       "      <td>2668</td>\n",
       "      <td>22.3583</td>\n",
       "      <td>NaN</td>\n",
       "      <td>C</td>\n",
       "    </tr>\n",
       "  </tbody>\n",
       "</table>\n",
       "<p>990 rows × 12 columns</p>\n",
       "</div>"
      ],
      "text/plain": [
       "     PassengerId  Survived  Pclass  \\\n",
       "0              1         0       3   \n",
       "1              2         1       1   \n",
       "2              3         1       3   \n",
       "3              4         1       1   \n",
       "4              5         0       3   \n",
       "..           ...       ...     ...   \n",
       "409         1301         1       3   \n",
       "410         1302         1       3   \n",
       "411         1303         1       1   \n",
       "414         1306         1       1   \n",
       "417         1309         1       3   \n",
       "\n",
       "                                                  Name     Sex   Age  SibSp  \\\n",
       "0                              Braund, Mr. Owen Harris    male  22.0      1   \n",
       "1    Cumings, Mrs. John Bradley (Florence Briggs Th...  female  38.0      1   \n",
       "2                               Heikkinen, Miss. Laina  female  26.0      0   \n",
       "3         Futrelle, Mrs. Jacques Heath (Lily May Peel)  female  35.0      1   \n",
       "4                             Allen, Mr. William Henry    male  35.0      0   \n",
       "..                                                 ...     ...   ...    ...   \n",
       "409                          Peacock, Miss. Treasteall  female   3.0      1   \n",
       "410                             Naughton, Miss. Hannah  female   NaN      0   \n",
       "411    Minahan, Mrs. William Edward (Lillian E Thorpe)  female  37.0      1   \n",
       "414                       Oliva y Ocana, Dona. Fermina  female  39.0      0   \n",
       "417                           Peter, Master. Michael J    male   NaN      1   \n",
       "\n",
       "     Parch              Ticket      Fare Cabin Embarked  \n",
       "0        0           A/5 21171    7.2500   NaN        S  \n",
       "1        0            PC 17599   71.2833   C85        C  \n",
       "2        0    STON/O2. 3101282    7.9250   NaN        S  \n",
       "3        0              113803   53.1000  C123        S  \n",
       "4        0              373450    8.0500   NaN        S  \n",
       "..     ...                 ...       ...   ...      ...  \n",
       "409      1  SOTON/O.Q. 3101315   13.7750   NaN        S  \n",
       "410      0              365237    7.7500   NaN        Q  \n",
       "411      0               19928   90.0000   C78        Q  \n",
       "414      0            PC 17758  108.9000  C105        C  \n",
       "417      1                2668   22.3583   NaN        C  \n",
       "\n",
       "[990 rows x 12 columns]"
      ]
     },
     "execution_count": 636,
     "metadata": {},
     "output_type": "execute_result"
    }
   ],
   "source": [
    "data_train_aug"
   ]
  },
  {
   "cell_type": "code",
   "execution_count": 637,
   "metadata": {},
   "outputs": [
    {
     "name": "stdout",
     "output_type": "stream",
     "text": [
      "Deads: 549 (61.62%)\n",
      "Survivals: 342 (38.38%)\n"
     ]
    }
   ],
   "source": [
    "#how many died\n",
    "N_surv0 = len(data_train.loc[data_train['Survived']==0])\n",
    "#how many survived\n",
    "N_surv1 = len(data_train.loc[data_train['Survived']==1])\n",
    "\n",
    "print('Deads: {0} ({1:.2%})'.format(N_surv0, N_surv0 / N))\n",
    "print('Survivals: {0} ({1:.2%})'.format(N_surv1, N_surv1 / N))"
   ]
  },
  {
   "cell_type": "code",
   "execution_count": 638,
   "metadata": {},
   "outputs": [
    {
     "name": "stdout",
     "output_type": "stream",
     "text": [
      "Deads: 549 (61.62%)\n",
      "Survivals: 441 (49.49%)\n"
     ]
    }
   ],
   "source": [
    "#how many died\n",
    "N_surv0 = len(data_train_aug.loc[data_train_aug['Survived']==0])\n",
    "#how many survived\n",
    "N_surv1 = len(data_train_aug.loc[data_train_aug['Survived']==1])\n",
    "\n",
    "print('Deads: {0} ({1:.2%})'.format(N_surv0, N_surv0 / N))\n",
    "print('Survivals: {0} ({1:.2%})'.format(N_surv1, N_surv1 / N))"
   ]
  },
  {
   "cell_type": "markdown",
   "metadata": {},
   "source": [
    "# Retrain models on augmented data"
   ]
  },
  {
   "cell_type": "markdown",
   "metadata": {},
   "source": [
    "## Predict survivals"
   ]
  },
  {
   "cell_type": "markdown",
   "metadata": {},
   "source": [
    "#### Preprocessind data"
   ]
  },
  {
   "cell_type": "code",
   "execution_count": 641,
   "metadata": {},
   "outputs": [],
   "source": [
    "#Encode 'Name'\n",
    "def name_encoder(data):\n",
    "    data['lname0'] = data['Name'].apply(lambda i: i.split(',')[0].strip())\n",
    "    data['lname1'] = data['Name'].apply(lambda i: (i.split('(')[-1].split(')')[0].split()[-1].strip() if '(' in i else '').replace('\\\"',''))\n",
    "    data['ttl'] = data['Name'].apply(lambda i: i.split(',')[1].split('.')[0].strip())\n",
    "#     data_encoded = []\n",
    "#     for i in data['Name']:\n",
    "#         lname0 = i.split(',')[0].strip() #last name\n",
    "#         ttl = i.split(',')[1].split('.')[0].strip() #title\n",
    "#         lname1 = (i.split('(')[-1].split(')')[0].split()[-1].strip() if '(' in i else '').replace('\\\"','') #second last name\n",
    "#         data_encoded.append([lname0, lname1, ttl])\n",
    "#     data_encoded = pd.DataFrame(data_encoded, columns=['lname0', 'lname1', 'ttl'], index=data.index)\n",
    "#     return pd.concat([data.reset_index(drop=True), data_encoded], axis=1)\n",
    "    return data"
   ]
  },
  {
   "cell_type": "code",
   "execution_count": 690,
   "metadata": {},
   "outputs": [],
   "source": [
    "data = family_groups_encoder(data_train_aug.copy(), fgrp_mask)\n",
    "# data = family_encoder(data)\n",
    "# data = fare_encoder(data, [sig1, fam1, famch1])\n",
    "data = fare_encoder(data, fare_mask)\n",
    "data = fare_transformer(data)\n",
    "\n",
    "data = ticket_encoder(data, ticket_mask)\n",
    "\n",
    "data = title_encoder(data)\n",
    "data = sex_encoder(data)\n",
    "data = fam_size(data)\n",
    "\n",
    "data = embarked_encoder(data)\n",
    "data = pclass_encoder(data)\n",
    "# data = combine_features(data, 'Pclass', 'Embarked', 'PclEmb')\n",
    "\n",
    "# data = data[data['Age'].notna()].copy()\n",
    "# data = data[['Age', 'Fare', 'PclEmb', 'Sex', 'ttl', 'fgrp', 'famsize', 'Ticket', 'Cabin', 'PassengerId']]\n",
    "\n",
    "data = age_predictor(data, age_cls_model, age_reg_mogel)\n",
    "# data = age_transformer(data, age_clast_model)\n",
    "# data = data[['PassengerId', 'Survived', 'Fare', 'Age', 'ttl', 'famsize', 'PclEmb', 'fgrp']]\n",
    "data = data[['PassengerId', 'Survived', 'Age', 'Fare', 'Sex', 'ttl', 'fgrp', 'famsize', 'Ticket', 'Pclass', 'Embarked']]"
   ]
  },
  {
   "cell_type": "markdown",
   "metadata": {},
   "source": [
    "#### Train base estimators for stacking model"
   ]
  },
  {
   "cell_type": "code",
   "execution_count": 691,
   "metadata": {
    "scrolled": true
   },
   "outputs": [],
   "source": [
    "X = data.drop(columns=['Survived', 'PassengerId'])\n",
    "y = data['Survived']"
   ]
  },
  {
   "cell_type": "code",
   "execution_count": 668,
   "metadata": {},
   "outputs": [],
   "source": [
    "#common random_state\n",
    "random_state=30\n",
    "#cross validation strategy\n",
    "cv = model_selection.StratifiedShuffleSplit(n_splits=10, test_size=0.3, train_size=0.6, random_state=random_state)\n",
    "#cross validation metrics\n",
    "scoring = {'accuracy': 'accuracy', \n",
    "           'roc_auc':  'roc_auc',\n",
    "           'precision_macro': 'precision_macro'}\n",
    "refit = 'accuracy'"
   ]
  },
  {
   "cell_type": "markdown",
   "metadata": {},
   "source": [
    "#### LinearDiscriminantAnalysis"
   ]
  },
  {
   "cell_type": "code",
   "execution_count": 669,
   "metadata": {},
   "outputs": [
    {
     "name": "stdout",
     "output_type": "stream",
     "text": [
      "            accuracy   roc_auc  precision_macro\n",
      "mean_train  0.845455  0.895007         0.845368\n",
      "std_train   0.008206  0.010253         0.008297\n",
      "mean_test   0.832997  0.884405         0.834568\n",
      "std_test    0.016509  0.014915         0.017314\n"
     ]
    }
   ],
   "source": [
    "lda = disan.LinearDiscriminantAnalysis(solver='lsqr', shrinkage='auto')\n",
    "scores = cv_rep(lda, X, y, cv, scoring)\n",
    "base_scores['lda'] = [scores.loc['mean_test', refit], scores.loc['mean_train', refit]]\n",
    "print(scores)\n",
    "\n",
    "# param_ranges = {'n_components': np.arange(1,5)}\n",
    "# lda, scores = train_best_model(lda, param_ranges, X, y, scoring, cv, refit=refit)"
   ]
  },
  {
   "cell_type": "markdown",
   "metadata": {},
   "source": [
    "#### QuadraticDiscriminantAnalysis"
   ]
  },
  {
   "cell_type": "code",
   "execution_count": 670,
   "metadata": {},
   "outputs": [
    {
     "name": "stdout",
     "output_type": "stream",
     "text": [
      "            accuracy   roc_auc  precision_macro\n",
      "mean_train  0.837542  0.886834         0.836081\n",
      "std_train   0.010574  0.011000         0.010719\n",
      "mean_test   0.825926  0.874116         0.826445\n",
      "std_test    0.020428  0.017146         0.022065\n"
     ]
    }
   ],
   "source": [
    "qda = disan.QuadraticDiscriminantAnalysis(priors=None, reg_param=0.08989795918367348)\n",
    "scores = cv_rep(qda, X, y, cv, scoring)\n",
    "base_scores['qda'] = [scores.loc['mean_test', refit], scores.loc['mean_train', refit]]\n",
    "print(scores)"
   ]
  },
  {
   "cell_type": "code",
   "execution_count": 671,
   "metadata": {},
   "outputs": [
    {
     "name": "stdout",
     "output_type": "stream",
     "text": [
      "            accuracy   roc_auc  precision_macro\n",
      "mean_train  0.842929  0.886713         0.841611\n",
      "std_train   0.012509  0.010911         0.012651\n",
      "mean_test   0.829966  0.874222         0.830707\n",
      "std_test    0.019180  0.017396         0.021327\n",
      "{'reg_param': 0.03736734693877551}\n"
     ]
    }
   ],
   "source": [
    "param_ranges = {'reg_param': np.linspace(0.001,0.1,99)}\n",
    "qda, scores = train_best_model(qda, param_ranges, X, y, scoring, cv, refit=refit)"
   ]
  },
  {
   "cell_type": "markdown",
   "metadata": {},
   "source": [
    "#### AdaBoostClassifier"
   ]
  },
  {
   "cell_type": "code",
   "execution_count": 672,
   "metadata": {},
   "outputs": [
    {
     "name": "stdout",
     "output_type": "stream",
     "text": [
      "            accuracy   roc_auc  precision_macro\n",
      "mean_train  0.854714  0.900346         0.855587\n",
      "std_train   0.007790  0.010023         0.008046\n",
      "mean_test   0.846801  0.886653         0.850274\n",
      "std_test    0.015594  0.013282         0.016429\n"
     ]
    }
   ],
   "source": [
    "abc = ens.AdaBoostClassifier(algorithm='SAMME.R', \n",
    "                             learning_rate=0.07776923076923077,\n",
    "                             n_estimators=65,\n",
    "                             random_state=random_state)\n",
    "scores = cv_rep(abc, X, y, cv, scoring)\n",
    "base_scores['abc'] = [scores.loc['mean_test', refit], scores.loc['mean_train', refit]]\n",
    "print(scores)"
   ]
  },
  {
   "cell_type": "code",
   "execution_count": 673,
   "metadata": {},
   "outputs": [
    {
     "name": "stdout",
     "output_type": "stream",
     "text": [
      "            accuracy   roc_auc  precision_macro\n",
      "mean_train  0.855387  0.900363         0.856191\n",
      "std_train   0.008297  0.009983         0.008483\n",
      "mean_test   0.847811  0.888081         0.851135\n",
      "std_test    0.015267  0.013247         0.016237\n",
      "{'learning_rate': 0.05217948717948718, 'n_estimators': 65}\n"
     ]
    }
   ],
   "source": [
    "param_ranges = {'n_estimators': np.arange(5, 100, 20), 'learning_rate': np.linspace(0.001, 0.5, 40)}\n",
    "abc, scores = train_best_model(abc, param_ranges, X, y, scoring, cv, refit=refit)"
   ]
  },
  {
   "cell_type": "markdown",
   "metadata": {},
   "source": [
    "#### ExtraTreesClassifier"
   ]
  },
  {
   "cell_type": "code",
   "execution_count": 674,
   "metadata": {},
   "outputs": [
    {
     "name": "stdout",
     "output_type": "stream",
     "text": [
      "            accuracy   roc_auc  precision_macro\n",
      "mean_train  0.895960  0.953370         0.901258\n",
      "std_train   0.005151  0.004293         0.006114\n",
      "mean_test   0.841077  0.895794         0.847069\n",
      "std_test    0.018674  0.014217         0.020577\n"
     ]
    }
   ],
   "source": [
    "etc = ens.ExtraTreesClassifier(random_state=random_state, n_jobs=-1, criterion='entropy',\n",
    "                               n_estimators=85,\n",
    "                               max_depth=7,\n",
    "                               ccp_alpha=0.0)\n",
    "scores = cv_rep(etc, X, y, cv, scoring)\n",
    "base_scores['etc'] = [scores.loc['mean_test', refit], scores.loc['mean_train', refit]]\n",
    "print(scores)"
   ]
  },
  {
   "cell_type": "code",
   "execution_count": 675,
   "metadata": {},
   "outputs": [
    {
     "name": "stdout",
     "output_type": "stream",
     "text": [
      "            accuracy   roc_auc  precision_macro\n",
      "mean_train  0.858418  0.952620         0.901401\n",
      "std_train   0.009265  0.004475         0.007337\n",
      "mean_test   0.844108  0.896240         0.849399\n",
      "std_test    0.016360  0.013646         0.019133\n",
      "{'criterion': 'gini', 'max_depth': 5, 'n_estimators': 65}\n"
     ]
    }
   ],
   "source": [
    "param_ranges = {'criterion': ['gini', 'entropy'], \n",
    "                'n_estimators': np.arange(5, 100, 20),\n",
    "                'max_depth': np.arange(3, 20)}\n",
    "etc, scores = train_best_model(etc, param_ranges, X, y, scoring, cv, refit=refit)"
   ]
  },
  {
   "cell_type": "code",
   "execution_count": 676,
   "metadata": {},
   "outputs": [
    {
     "name": "stdout",
     "output_type": "stream",
     "text": [
      "            accuracy   roc_auc  precision_macro\n",
      "mean_train  0.855724  0.920243         0.856530\n",
      "std_train   0.008619  0.006643         0.008819\n",
      "mean_test   0.844781  0.887874         0.848480\n",
      "std_test    0.016999  0.012435         0.017589\n",
      "{'ccp_alpha': 0.0014576271186440678}\n"
     ]
    }
   ],
   "source": [
    "param_ranges = {'ccp_alpha': np.linspace(0.001,0.01, 60)}\n",
    "etc, scores = train_best_model(etc, param_ranges, X, y, scoring, cv, refit=refit)"
   ]
  },
  {
   "cell_type": "markdown",
   "metadata": {},
   "source": [
    "#### RidgeClassifier"
   ]
  },
  {
   "cell_type": "code",
   "execution_count": 677,
   "metadata": {},
   "outputs": [
    {
     "name": "stdout",
     "output_type": "stream",
     "text": [
      "            accuracy   roc_auc  precision_macro\n",
      "mean_train  0.843771  0.894392         0.843178\n",
      "std_train   0.008067  0.010213         0.008318\n",
      "mean_test   0.832660  0.883602         0.833706\n",
      "std_test    0.013968  0.015599         0.014259\n"
     ]
    }
   ],
   "source": [
    "rc = lm.RidgeClassifier(class_weight='balanced', random_state=random_state,\n",
    "                        alpha=11.122448979591837)\n",
    "scores = cv_rep(rc, X, y, cv, scoring)\n",
    "base_scores['rc'] = [scores.loc['mean_test', refit], scores.loc['mean_train', refit]]\n",
    "print(scores)"
   ]
  },
  {
   "cell_type": "code",
   "execution_count": 678,
   "metadata": {},
   "outputs": [
    {
     "name": "stdout",
     "output_type": "stream",
     "text": [
      "            accuracy   roc_auc  precision_macro\n",
      "mean_train  0.843266  0.895272         0.842638\n",
      "std_train   0.008194  0.010239         0.008425\n",
      "mean_test   0.835690  0.884552         0.837022\n",
      "std_test    0.013282  0.016108         0.013677\n",
      "{'alpha': 19.59387755102041, 'solver': 'sparse_cg'}\n"
     ]
    }
   ],
   "source": [
    "param_ranges = {'solver': ['svd', 'cholesky', 'lsqr', 'sparse_cg', 'sag', 'saga'], 'alpha': np.linspace(0.1, 20, 99)}\n",
    "rc, scores = train_best_model(rc, param_ranges, X, y, scoring, cv, refit=refit)"
   ]
  },
  {
   "cell_type": "markdown",
   "metadata": {},
   "source": [
    "#### SVC"
   ]
  },
  {
   "cell_type": "code",
   "execution_count": 679,
   "metadata": {},
   "outputs": [
    {
     "name": "stdout",
     "output_type": "stream",
     "text": [
      "            accuracy   roc_auc  precision_macro\n",
      "mean_train  0.862121  0.913093         0.862124\n",
      "std_train   0.010197  0.007552         0.010679\n",
      "mean_test   0.826599  0.869630         0.828134\n",
      "std_test    0.019589  0.016148         0.021122\n"
     ]
    }
   ],
   "source": [
    "svc = svm.SVC(kernel='rbf', gamma='scale', shrinking=True, class_weight='balanced',\n",
    "              C=9428.57142857143)\n",
    "scores = cv_rep(svc, X, y, cv, scoring)\n",
    "base_scores['svc'] = [scores.loc['mean_test', refit], scores.loc['mean_train', refit]]\n",
    "print(scores)"
   ]
  },
  {
   "cell_type": "code",
   "execution_count": 680,
   "metadata": {},
   "outputs": [
    {
     "name": "stdout",
     "output_type": "stream",
     "text": [
      "            accuracy   roc_auc  precision_macro\n",
      "mean_train  0.847475  0.886450         0.846663\n",
      "std_train   0.008254  0.008141         0.008664\n",
      "mean_test   0.830976  0.872730         0.831758\n",
      "std_test    0.015921  0.018604         0.017499\n",
      "{'C': 136.36363636363637}\n"
     ]
    }
   ],
   "source": [
    "param_ranges = {'C': np.linspace(100, 150, 23)}\n",
    "svc, scores = train_best_model(svc, param_ranges, X, y, scoring, cv, refit=refit)"
   ]
  },
  {
   "cell_type": "markdown",
   "metadata": {},
   "source": [
    "#### Select less correlated models"
   ]
  },
  {
   "cell_type": "code",
   "execution_count": 681,
   "metadata": {},
   "outputs": [],
   "source": [
    "base_models_surv_dic = {'lda':lda,'qda':qda,'abc':abc,'etc':etc,'rc':rc,'svc':svc}"
   ]
  },
  {
   "cell_type": "code",
   "execution_count": 682,
   "metadata": {},
   "outputs": [],
   "source": [
    "base_models_surv = [(k,base_models_surv_dic[k]) for k in base_models_surv_dic.keys()]"
   ]
  },
  {
   "cell_type": "markdown",
   "metadata": {},
   "source": [
    "#### Train stacking model"
   ]
  },
  {
   "cell_type": "code",
   "execution_count": 699,
   "metadata": {},
   "outputs": [
    {
     "data": {
      "text/html": [
       "<div>\n",
       "<style scoped>\n",
       "    .dataframe tbody tr th:only-of-type {\n",
       "        vertical-align: middle;\n",
       "    }\n",
       "\n",
       "    .dataframe tbody tr th {\n",
       "        vertical-align: top;\n",
       "    }\n",
       "\n",
       "    .dataframe thead th {\n",
       "        text-align: right;\n",
       "    }\n",
       "</style>\n",
       "<table border=\"1\" class=\"dataframe\">\n",
       "  <thead>\n",
       "    <tr style=\"text-align: right;\">\n",
       "      <th></th>\n",
       "      <th>accuracy</th>\n",
       "      <th>roc_auc</th>\n",
       "      <th>precision_macro</th>\n",
       "    </tr>\n",
       "  </thead>\n",
       "  <tbody>\n",
       "    <tr>\n",
       "      <th>mean_train</th>\n",
       "      <td>0.855387</td>\n",
       "      <td>0.850979</td>\n",
       "      <td>0.856191</td>\n",
       "    </tr>\n",
       "    <tr>\n",
       "      <th>std_train</th>\n",
       "      <td>0.008297</td>\n",
       "      <td>0.008438</td>\n",
       "      <td>0.008483</td>\n",
       "    </tr>\n",
       "    <tr>\n",
       "      <th>mean_test</th>\n",
       "      <td>0.847811</td>\n",
       "      <td>0.840985</td>\n",
       "      <td>0.851135</td>\n",
       "    </tr>\n",
       "    <tr>\n",
       "      <th>std_test</th>\n",
       "      <td>0.015267</td>\n",
       "      <td>0.015386</td>\n",
       "      <td>0.016237</td>\n",
       "    </tr>\n",
       "  </tbody>\n",
       "</table>\n",
       "</div>"
      ],
      "text/plain": [
       "            accuracy   roc_auc  precision_macro\n",
       "mean_train  0.855387  0.850979         0.856191\n",
       "std_train   0.008297  0.008438         0.008483\n",
       "mean_test   0.847811  0.840985         0.851135\n",
       "std_test    0.015267  0.015386         0.016237"
      ]
     },
     "execution_count": 699,
     "metadata": {},
     "output_type": "execute_result"
    }
   ],
   "source": [
    "model_st = ens.StackingClassifier(estimators=base_models_surv,\n",
    "                                  final_estimator=ens.AdaBoostClassifier(algorithm='SAMME.R', \n",
    "                                                                         learning_rate=0.0001,\n",
    "                                                                         n_estimators=5,\n",
    "                                                                         random_state=random_state),\n",
    "                                  cv=5, \n",
    "                                  stack_method='predict', \n",
    "                                  passthrough=False,\n",
    "                                  n_jobs=-1)\n",
    "\n",
    "cv_rep(model_st, X, y, cv, scoring)"
   ]
  },
  {
   "cell_type": "code",
   "execution_count": 700,
   "metadata": {},
   "outputs": [],
   "source": [
    "# param_ranges = {'final_estimator__n_estimators': np.arange(25, 200, 40), 'final_estimator__learning_rate': np.linspace(0.001, 0.01, 70)}\n",
    "# model_st, scores = train_best_model(model_st, param_ranges, X, y, scoring, cv, refit=refit)\n"
   ]
  },
  {
   "cell_type": "code",
   "execution_count": 701,
   "metadata": {},
   "outputs": [
    {
     "name": "stdout",
     "output_type": "stream",
     "text": [
      "            accuracy   roc_auc  precision_macro\n",
      "mean_train  0.855387  0.850979         0.856191\n",
      "std_train   0.008297  0.008438         0.008483\n",
      "mean_test   0.847811  0.840985         0.851135\n",
      "std_test    0.015267  0.015386         0.016237\n",
      "{'final_estimator__n_estimators': 25}\n"
     ]
    }
   ],
   "source": [
    "param_ranges = {'final_estimator__n_estimators': np.arange(25, 200, 5)}\n",
    "model_st, scores = train_best_model(model_st, param_ranges, X, y, scoring, cv, refit=refit)\n"
   ]
  },
  {
   "cell_type": "code",
   "execution_count": 703,
   "metadata": {},
   "outputs": [
    {
     "name": "stdout",
     "output_type": "stream",
     "text": [
      "            accuracy   roc_auc  precision_macro\n",
      "mean_train  0.855387  0.858553         0.856191\n",
      "std_train   0.008297  0.010163         0.008483\n",
      "mean_test   0.847811  0.844027         0.851135\n",
      "std_test    0.015267  0.015578         0.016237\n",
      "{'final_estimator__learning_rate': 0.0001}\n"
     ]
    }
   ],
   "source": [
    "param_ranges = {'final_estimator__learning_rate': np.linspace(0.0001, 0.7, 99)}\n",
    "model_st, scores = train_best_model(model_st, param_ranges, X, y, scoring, cv, refit=refit)\n"
   ]
  },
  {
   "cell_type": "code",
   "execution_count": 685,
   "metadata": {},
   "outputs": [
    {
     "data": {
      "image/png": "[encoded data removed]",
      "text/plain": [
       "<Figure size 288x288 with 2 Axes>"
      ]
     },
     "metadata": {
      "needs_background": "light"
     },
     "output_type": "display_data"
    }
   ],
   "source": [
    "fig = plt.figure()\n",
    "fig.set_size_inches(4,4)\n",
    "plot_confusion_matrix(model_st, X, y, ax=fig.add_subplot(1,1,1), normalize=True, title='')"
   ]
  },
  {
   "cell_type": "markdown",
   "metadata": {},
   "source": [
    "## Predict test set"
   ]
  },
  {
   "cell_type": "markdown",
   "metadata": {},
   "source": [
    "#### Preprocessind data"
   ]
  },
  {
   "cell_type": "code",
   "execution_count": 686,
   "metadata": {},
   "outputs": [],
   "source": [
    "data = family_groups_encoder(data_test.copy(), fgrp_mask)\n",
    "# data = family_encoder(data)\n",
    "# data = fare_encoder(data, [sig1, fam1, famch1])\n",
    "data = fare_encoder(data, fare_mask)\n",
    "data = fare_transformer(data)\n",
    "\n",
    "data = ticket_encoder(data, ticket_mask)\n",
    "\n",
    "data = title_encoder(data)\n",
    "data = sex_encoder(data)\n",
    "data = fam_size(data)\n",
    "\n",
    "data = embarked_encoder(data)\n",
    "data = pclass_encoder(data)\n",
    "data = combine_features(data, 'Pclass', 'Embarked', 'PclEmb')\n",
    "\n",
    "# data = data[data['Age'].notna()].copy()\n",
    "# data = data[['Age', 'Fare', 'PclEmb', 'Sex', 'ttl', 'fgrp', 'famsize', 'Ticket', 'Cabin', 'PassengerId']]\n",
    "\n",
    "data = age_predictor(data, age_cls_model, age_reg_mogel)\n",
    "# data = age_transformer(data, age_clast_model)\n",
    "# data = data[['PassengerId', 'Survived', 'Fare', 'Age', 'ttl', 'famsize', 'PclEmb', 'fgrp']]\n",
    "data = data[['PassengerId', 'Age', 'Fare', 'Sex', 'ttl', 'fgrp', 'famsize', 'Ticket', 'Pclass', 'Embarked']]"
   ]
  },
  {
   "cell_type": "markdown",
   "metadata": {},
   "source": [
    "#### Make predictions"
   ]
  },
  {
   "cell_type": "code",
   "execution_count": 687,
   "metadata": {
    "scrolled": true
   },
   "outputs": [],
   "source": [
    "X = data.drop(columns=['PassengerId'])"
   ]
  },
  {
   "cell_type": "code",
   "execution_count": 688,
   "metadata": {},
   "outputs": [],
   "source": [
    "data['Survived'] = model_st.predict(X)\n",
    "df_submission = data[['PassengerId', 'Survived']]\n",
    "df_submission.to_csv(\"df_submission_aug.csv\", index=False)"
   ]
  },
  {
   "cell_type": "code",
   "execution_count": null,
   "metadata": {},
   "outputs": [],
   "source": []
  }
 ],
 "metadata": {
  "kernelspec": {
   "display_name": "Python 3",
   "language": "python",
   "name": "python3"
  },
  "language_info": {
   "codemirror_mode": {
    "name": "ipython",
    "version": 3
   },
   "file_extension": ".py",
   "mimetype": "text/x-python",
   "name": "python",
   "nbconvert_exporter": "python",
   "pygments_lexer": "ipython3",
   "version": "3.8.1"
  }
 },
 "nbformat": 4,
 "nbformat_minor": 4
}
