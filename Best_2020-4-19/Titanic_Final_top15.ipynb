{
 "cells": [
  {
   "cell_type": "code",
   "execution_count": 1,
   "metadata": {
    "scrolled": true
   },
   "outputs": [],
   "source": [
    "%config IPCompleter.greedy=True\n",
    "from IPython.display import IFrame\n",
    "\n",
    "import pandas as pd\n",
    "import numpy as np\n",
    "import string\n",
    "import math\n",
    "\n",
    "import matplotlib.pyplot as plt\n",
    "import matplotlib.gridspec as gridspec\n",
    "import seaborn as sns\n",
    "\n",
    "import sklearn.metrics as metrics\n",
    "import sklearn.model_selection as model_selection\n",
    "from sklearn import discriminant_analysis as disan\n",
    "from sklearn import calibration as calib\n",
    "from sklearn import linear_model as lm\n",
    "from sklearn import svm\n",
    "from sklearn import gaussian_process as gaup\n",
    "from sklearn import mixture as mix\n",
    "from sklearn import tree\n",
    "from sklearn import ensemble as ens\n",
    "\n",
    "\n",
    "import sklearn.feature_selection as feature_selection\n",
    "\n",
    "import pickle"
   ]
  },
  {
   "cell_type": "markdown",
   "metadata": {},
   "source": [
    "#### Plotting Helper functions"
   ]
  },
  {
   "cell_type": "code",
   "execution_count": 2,
   "metadata": {},
   "outputs": [],
   "source": [
    "def plot_bar_diagram(ax, data, nested=False, plots_labels=None, plots_colors=None, bar_labels='', width=0.4, title='', length_label='',\n",
    "                     orient='v', legend_loc=None, spines=None):\n",
    "    \"\"\"\n",
    "    Plots single or multiple bar diagrams with data labels on top(aside) of the bars\n",
    "    :param ax: matplotlib axes\n",
    "    :param data: pandas DataFrame where rows correspond to bar plots and columns correspond to data labels (columns in data)\n",
    "    :param nested: boolean. If True, bar plots are plotted on top of each other. If False bar plots are plotted besides each other\n",
    "    :param bar_labels: pandas DataFrame. labels over the bars. Should be same shape as data\n",
    "    :param width: float. Bar width\n",
    "    :param title: string. Plot title\n",
    "    :param length_label: bar height/width axis label\n",
    "    :param spines: dictionary of booleans. indicates to plot borders or not. Keys=['left', 'right', 'top', 'bottom'], values=True/False\n",
    "    :param orient: string. Bar orientation: 'v'-vertical; 'h'-horisontal\n",
    "    \"\"\"\n",
    "    bars = list(data.index)\n",
    "    cols = list(data.columns)\n",
    "    cells = data.values.tolist()\n",
    "\n",
    "    if bar_labels is not None:\n",
    "        for i, lab in enumerate(bars):\n",
    "            labels = ([f\"{j:.4f}\" for j in cells[i]] if bar_labels=='' else bar_labels[i])\n",
    "\n",
    "    if orient == 'v':\n",
    "        for i, lab in enumerate(bars):\n",
    "            label = (bars[i] if plots_labels is None else plots_labels[i])\n",
    "            color = ('r' if plots_colors is None else plots_colors[i])\n",
    "            x = np.arange(len(cols))\n",
    "            bar = ax.bar(x=x + width * (i - len(bars) / 2), height=cells[i], width=width,\n",
    "                         label=label,\n",
    "                         color=color,\n",
    "                         align=('center' if nested else 'edge'))\n",
    "            if bar_labels is not None:\n",
    "                autolabel(bar, ax, labels, oriented='v')\n",
    "\n",
    "        ax.set_xticks(np.arange(len(cols)))\n",
    "        ax.set_xticklabels(cols)\n",
    "        if not length_label=='':\n",
    "            ax.set_ylabel(length_label)\n",
    "    elif orient == 'h':\n",
    "        for i, lab in enumerate(bars):\n",
    "            label = (bars[i] if plots_labels is None else plots_labels[i])\n",
    "            y = np.arange(len(cols))\n",
    "            height = width\n",
    "            bar = ax.barh(y=y + height * (i - len(bars) / 2), width=cells[i], height=width,\n",
    "                          label=label,\n",
    "                          color=plots_colors[i],\n",
    "                          align=('center' if nested else 'edge'))\n",
    "            if bar_labels is not None:\n",
    "                autolabel(bar, ax, labels, oriented='h')\n",
    "\n",
    "        ax.set_yticks(np.arange(len(cols)))\n",
    "        ax.set_yticklabels(cols)\n",
    "        if not length_label=='':\n",
    "            ax.set_xlabel(length_label)\n",
    "    else:\n",
    "        raise ValueError('orient parameter value error. expected v or h ')\n",
    "\n",
    "    if not title == '':\n",
    "        ttl = ax.title\n",
    "        ttl.set_position([.5, 1.07])\n",
    "        ax.set_title(title)\n",
    "    if legend_loc is not None:\n",
    "        ax.legend(loc=legend_loc)\n",
    "    else:\n",
    "        ax.legend().set_visible(False)\n",
    "\n",
    "    if spines is None:\n",
    "        spines = {'left': True,\n",
    "                  'right': True,\n",
    "                  'top': True,\n",
    "                  'bottom': True}\n",
    "    for i in list(spines.keys()):\n",
    "        ax.spines[i].set_visible(spines[i])\n",
    "\n",
    "def autolabel(bars, ax, labels, oriented='v'):\n",
    "    \"\"\"Attach a text label displaying its height/width (depends of orientation).\"\"\"\n",
    "    for bar, label in zip(bars, labels):\n",
    "        if oriented == 'v':\n",
    "            height = bar.get_height()\n",
    "            ax.annotate(label,\n",
    "                        xy=(bar.get_x() + bar.get_width() / 2, height),\n",
    "                        xytext=(0, 2),\n",
    "                        textcoords=\"offset points\",\n",
    "                        ha='center')\n",
    "        else:\n",
    "            width = bar.get_width()\n",
    "            ax.annotate(label,\n",
    "                        xy=(width, bar.get_y() + bar.get_height() / 2),\n",
    "                        xytext=(1, 0),\n",
    "                        textcoords=\"offset points\",\n",
    "                        ha='left',\n",
    "                        va='center')\n",
    "\n",
    "def plot_correlation_matrix(ax, data, cmap='hot', diagonal=False, square=True):\n",
    "    mask = None\n",
    "    if diagonal:\n",
    "        mask = np.zeros_like(data, dtype=np.bool)\n",
    "        mask[np.triu_indices_from(mask)] = True\n",
    "    sns.heatmap(data, ax=ax,\n",
    "                mask=mask,\n",
    "                square=square,\n",
    "                linewidths=1.5,\n",
    "                cmap=cmap,\n",
    "                cbar_kws={'shrink': 1, 'ticks': [-1, -.5, 0, 0.5, 1]},\n",
    "                vmin=-1,\n",
    "                vmax=1,\n",
    "                annot=True,\n",
    "                annot_kws={'size': 8})\n",
    "    ax.set_xticklabels(ax.get_xticklabels(), rotation=45, horizontalalignment='right')\n",
    "    \n",
    "def plot_confusion_matrix(model, X, y, ax, normalize=True, title=None):\n",
    "    \"\"\"Plots confusion matrix\n",
    "    Parameters:\n",
    "    ax =  matplotlib axes\n",
    "    normalyze = normalization over truth (number_predicted / total_count_of_this_class)\n",
    "    \"\"\"\n",
    "    model.fit(X,y)\n",
    "    conf_matrix = metrics.confusion_matrix(y_true=y, y_pred=model.predict(X),\n",
    "                              labels=None)  # returns matrix for sorted classes (i.e 0, 1, 2,..., n)\n",
    "    classes = y.unique()\n",
    "    classes.sort()\n",
    "    n_classes = [len(y[y == c]) for c in classes]\n",
    "    if normalize == True:\n",
    "        n_matrix = [[i for j in range(len(n_classes))] for i in n_classes]\n",
    "        norm_matrix = conf_matrix / np.array(n_classes)\n",
    "        ns_matrix = np.array([[i for j in enumerate(n_classes)] for i in n_classes])\n",
    "        labels = np.array([[\"{0:.2%} \\n {1:d} of {2:d}\".format(norm_matrix[i, j], conf_matrix[i, j],\n",
    "                                                               ns_matrix[i, j]) for j, v in\n",
    "                            enumerate(norm_matrix[i])]\n",
    "                           for i, v in enumerate(norm_matrix)])\n",
    "\n",
    "        sns.heatmap(norm_matrix, annot=labels, fmt='', cmap='Blues')\n",
    "    else:\n",
    "        sns.heatmap(conf_matrix, annot=True, fmt='d', cmap='Blues')\n",
    "\n",
    "    ax.set_ylabel('True Labels')\n",
    "    ax.set_xlabel('Predicted Labels')\n",
    "    if title is None:\n",
    "        title = model.__class__.__name__\n",
    "    ax.set_title(title)\n",
    "    ttl = ax.title\n",
    "    ttl.set_position([.5, 1.07])\n",
    "\n",
    "    # fix for mpl bug that cuts off top/bottom of seaborn viz\n",
    "    b, t = ax.get_ylim()  # discover the values for bottom and top\n",
    "    b += 0.5  # Add 0.5 to the bottom\n",
    "    t -= 0.5  # Subtract 0.5 from the top\n",
    "    ax.set_ylim(b, t)  # update the ylim(bottom, top) values"
   ]
  },
  {
   "cell_type": "markdown",
   "metadata": {},
   "source": [
    "#### Helper functions for model training"
   ]
  },
  {
   "cell_type": "code",
   "execution_count": 3,
   "metadata": {},
   "outputs": [],
   "source": [
    "# Tune parameters\n",
    "def param_tune(model, X_train, y_train, param_ranges, scoring, cv, refit=''):\n",
    "    if refit == '': refit = list(scoring.keys())[0]\n",
    "    gsearch = model_selection.GridSearchCV(estimator=model, param_grid=param_ranges, scoring=scoring, cv=cv, refit=refit, return_train_score=True,\n",
    "                           n_jobs=-1)\n",
    "    gsearch.fit(X_train, y_train)\n",
    "    cv_res = pd.DataFrame(gsearch.cv_results_)\n",
    "    cv_res_sel = []\n",
    "    for i in list(scoring.keys()):\n",
    "        df = cv_res.loc[cv_res['rank_test_%s' % i] == 1].head(1)\n",
    "        cv_res_sel.append(df[['mean_train_%s' % i, 'std_train_%s' % i, 'mean_test_%s' % i, 'std_test_%s' % i]].values[0])\n",
    "\n",
    "    cv_res_sel = pd.DataFrame(cv_res_sel, index=list(scoring.keys()), columns=['mean_train', 'std_train', 'mean_test', 'std_test'])\n",
    "    cv_results = cv_res_sel.T\n",
    "    cv_results = cv_results.apply(lambda i: np.absolute(i))\n",
    "    return gsearch.best_estimator_, gsearch.best_params_, gsearch.best_score_, cv_results\n",
    "\n",
    "# Cross-validation report\n",
    "def cv_rep(model, X, y, cv, scoring):\n",
    "    cv_res = model_selection.cross_validate(model, X, y, scoring=scoring, cv=cv, return_train_score=True, n_jobs=-1)\n",
    "    cv_res = [[np.mean(cv_res['train_%s' % i]), np.std(cv_res['train_%s' % i]), np.mean(cv_res['test_%s' % i]), np.std(cv_res['test_%s' % i])] for i in list(scoring.keys())]\n",
    "    cv_results = pd.DataFrame(cv_res, index=list(scoring.keys()), columns=['mean_train', 'std_train', 'mean_test', 'std_test'])\n",
    "    cv_results = cv_results.T\n",
    "    cv_results = cv_results.apply(lambda i: np.absolute(i))\n",
    "    return cv_results\n",
    "\n",
    "# Tune model parameters and print CV report\n",
    "def train_best_model(model, param_ranges, X_train, y_train, scoring, cv, refit):\n",
    "    model, best_params, best_score, cv_res = param_tune(model, X_train, y_train, param_ranges, scoring, cv, refit=refit)\n",
    "    print(cv_res)\n",
    "    print(best_params)\n",
    "    return model, cv_res\n",
    "\n",
    "# Tune model parameters and print CV report for calibrated classifier model\n",
    "def train_best_model_cal(model, param_ranges, X_train, y_train, scoring, cv, refit):\n",
    "    if model.__class__.__name__=='CalibratedClassifierCV':\n",
    "         model_cal= model \n",
    "    else:\n",
    "        model_cal = calib.CalibratedClassifierCV(base_estimator=model, method='sigmoid', cv=cv)\n",
    "    model_cal, best_params, best_score, cv_res = param_tune(model_cal, X_train, y_train, param_ranges, scoring, cv, refit=refit)\n",
    "    print(cv_res)\n",
    "    print(best_params)\n",
    "    return model, cv_res"
   ]
  },
  {
   "cell_type": "markdown",
   "metadata": {},
   "source": [
    "### Import data"
   ]
  },
  {
   "cell_type": "code",
   "execution_count": 4,
   "metadata": {},
   "outputs": [],
   "source": [
    "#import train dataset\n",
    "filename_tr = 'train.csv'\n",
    "data_train = pd.read_csv(filename_tr)\n",
    "\n",
    "#import test dataset\n",
    "filename_tes = 'test.csv'\n",
    "data_test = pd.read_csv(filename_tes)"
   ]
  },
  {
   "cell_type": "markdown",
   "metadata": {},
   "source": [
    "#### Training Set"
   ]
  },
  {
   "cell_type": "code",
   "execution_count": 5,
   "metadata": {},
   "outputs": [
    {
     "data": {
      "text/html": [
       "<div>\n",
       "<style scoped>\n",
       "    .dataframe tbody tr th:only-of-type {\n",
       "        vertical-align: middle;\n",
       "    }\n",
       "\n",
       "    .dataframe tbody tr th {\n",
       "        vertical-align: top;\n",
       "    }\n",
       "\n",
       "    .dataframe thead th {\n",
       "        text-align: right;\n",
       "    }\n",
       "</style>\n",
       "<table border=\"1\" class=\"dataframe\">\n",
       "  <thead>\n",
       "    <tr style=\"text-align: right;\">\n",
       "      <th></th>\n",
       "      <th>PassengerId</th>\n",
       "      <th>Survived</th>\n",
       "      <th>Pclass</th>\n",
       "      <th>Name</th>\n",
       "      <th>Sex</th>\n",
       "      <th>Age</th>\n",
       "      <th>SibSp</th>\n",
       "      <th>Parch</th>\n",
       "      <th>Ticket</th>\n",
       "      <th>Fare</th>\n",
       "      <th>Cabin</th>\n",
       "      <th>Embarked</th>\n",
       "    </tr>\n",
       "  </thead>\n",
       "  <tbody>\n",
       "    <tr>\n",
       "      <th>0</th>\n",
       "      <td>1</td>\n",
       "      <td>0</td>\n",
       "      <td>3</td>\n",
       "      <td>Braund, Mr. Owen Harris</td>\n",
       "      <td>male</td>\n",
       "      <td>22.0</td>\n",
       "      <td>1</td>\n",
       "      <td>0</td>\n",
       "      <td>A/5 21171</td>\n",
       "      <td>7.2500</td>\n",
       "      <td>NaN</td>\n",
       "      <td>S</td>\n",
       "    </tr>\n",
       "    <tr>\n",
       "      <th>1</th>\n",
       "      <td>2</td>\n",
       "      <td>1</td>\n",
       "      <td>1</td>\n",
       "      <td>Cumings, Mrs. John Bradley (Florence Briggs Th...</td>\n",
       "      <td>female</td>\n",
       "      <td>38.0</td>\n",
       "      <td>1</td>\n",
       "      <td>0</td>\n",
       "      <td>PC 17599</td>\n",
       "      <td>71.2833</td>\n",
       "      <td>C85</td>\n",
       "      <td>C</td>\n",
       "    </tr>\n",
       "    <tr>\n",
       "      <th>2</th>\n",
       "      <td>3</td>\n",
       "      <td>1</td>\n",
       "      <td>3</td>\n",
       "      <td>Heikkinen, Miss. Laina</td>\n",
       "      <td>female</td>\n",
       "      <td>26.0</td>\n",
       "      <td>0</td>\n",
       "      <td>0</td>\n",
       "      <td>STON/O2. 3101282</td>\n",
       "      <td>7.9250</td>\n",
       "      <td>NaN</td>\n",
       "      <td>S</td>\n",
       "    </tr>\n",
       "    <tr>\n",
       "      <th>3</th>\n",
       "      <td>4</td>\n",
       "      <td>1</td>\n",
       "      <td>1</td>\n",
       "      <td>Futrelle, Mrs. Jacques Heath (Lily May Peel)</td>\n",
       "      <td>female</td>\n",
       "      <td>35.0</td>\n",
       "      <td>1</td>\n",
       "      <td>0</td>\n",
       "      <td>113803</td>\n",
       "      <td>53.1000</td>\n",
       "      <td>C123</td>\n",
       "      <td>S</td>\n",
       "    </tr>\n",
       "    <tr>\n",
       "      <th>4</th>\n",
       "      <td>5</td>\n",
       "      <td>0</td>\n",
       "      <td>3</td>\n",
       "      <td>Allen, Mr. William Henry</td>\n",
       "      <td>male</td>\n",
       "      <td>35.0</td>\n",
       "      <td>0</td>\n",
       "      <td>0</td>\n",
       "      <td>373450</td>\n",
       "      <td>8.0500</td>\n",
       "      <td>NaN</td>\n",
       "      <td>S</td>\n",
       "    </tr>\n",
       "  </tbody>\n",
       "</table>\n",
       "</div>"
      ],
      "text/plain": [
       "   PassengerId  Survived  Pclass  \\\n",
       "0            1         0       3   \n",
       "1            2         1       1   \n",
       "2            3         1       3   \n",
       "3            4         1       1   \n",
       "4            5         0       3   \n",
       "\n",
       "                                                Name     Sex   Age  SibSp  \\\n",
       "0                            Braund, Mr. Owen Harris    male  22.0      1   \n",
       "1  Cumings, Mrs. John Bradley (Florence Briggs Th...  female  38.0      1   \n",
       "2                             Heikkinen, Miss. Laina  female  26.0      0   \n",
       "3       Futrelle, Mrs. Jacques Heath (Lily May Peel)  female  35.0      1   \n",
       "4                           Allen, Mr. William Henry    male  35.0      0   \n",
       "\n",
       "   Parch            Ticket     Fare Cabin Embarked  \n",
       "0      0         A/5 21171   7.2500   NaN        S  \n",
       "1      0          PC 17599  71.2833   C85        C  \n",
       "2      0  STON/O2. 3101282   7.9250   NaN        S  \n",
       "3      0            113803  53.1000  C123        S  \n",
       "4      0            373450   8.0500   NaN        S  "
      ]
     },
     "execution_count": 5,
     "metadata": {},
     "output_type": "execute_result"
    }
   ],
   "source": [
    "data_train.head(5)"
   ]
  },
  {
   "cell_type": "markdown",
   "metadata": {},
   "source": [
    "#### Test Set"
   ]
  },
  {
   "cell_type": "code",
   "execution_count": 6,
   "metadata": {},
   "outputs": [
    {
     "data": {
      "text/html": [
       "<div>\n",
       "<style scoped>\n",
       "    .dataframe tbody tr th:only-of-type {\n",
       "        vertical-align: middle;\n",
       "    }\n",
       "\n",
       "    .dataframe tbody tr th {\n",
       "        vertical-align: top;\n",
       "    }\n",
       "\n",
       "    .dataframe thead th {\n",
       "        text-align: right;\n",
       "    }\n",
       "</style>\n",
       "<table border=\"1\" class=\"dataframe\">\n",
       "  <thead>\n",
       "    <tr style=\"text-align: right;\">\n",
       "      <th></th>\n",
       "      <th>PassengerId</th>\n",
       "      <th>Pclass</th>\n",
       "      <th>Name</th>\n",
       "      <th>Sex</th>\n",
       "      <th>Age</th>\n",
       "      <th>SibSp</th>\n",
       "      <th>Parch</th>\n",
       "      <th>Ticket</th>\n",
       "      <th>Fare</th>\n",
       "      <th>Cabin</th>\n",
       "      <th>Embarked</th>\n",
       "    </tr>\n",
       "  </thead>\n",
       "  <tbody>\n",
       "    <tr>\n",
       "      <th>0</th>\n",
       "      <td>892</td>\n",
       "      <td>3</td>\n",
       "      <td>Kelly, Mr. James</td>\n",
       "      <td>male</td>\n",
       "      <td>34.5</td>\n",
       "      <td>0</td>\n",
       "      <td>0</td>\n",
       "      <td>330911</td>\n",
       "      <td>7.8292</td>\n",
       "      <td>NaN</td>\n",
       "      <td>Q</td>\n",
       "    </tr>\n",
       "    <tr>\n",
       "      <th>1</th>\n",
       "      <td>893</td>\n",
       "      <td>3</td>\n",
       "      <td>Wilkes, Mrs. James (Ellen Needs)</td>\n",
       "      <td>female</td>\n",
       "      <td>47.0</td>\n",
       "      <td>1</td>\n",
       "      <td>0</td>\n",
       "      <td>363272</td>\n",
       "      <td>7.0000</td>\n",
       "      <td>NaN</td>\n",
       "      <td>S</td>\n",
       "    </tr>\n",
       "    <tr>\n",
       "      <th>2</th>\n",
       "      <td>894</td>\n",
       "      <td>2</td>\n",
       "      <td>Myles, Mr. Thomas Francis</td>\n",
       "      <td>male</td>\n",
       "      <td>62.0</td>\n",
       "      <td>0</td>\n",
       "      <td>0</td>\n",
       "      <td>240276</td>\n",
       "      <td>9.6875</td>\n",
       "      <td>NaN</td>\n",
       "      <td>Q</td>\n",
       "    </tr>\n",
       "    <tr>\n",
       "      <th>3</th>\n",
       "      <td>895</td>\n",
       "      <td>3</td>\n",
       "      <td>Wirz, Mr. Albert</td>\n",
       "      <td>male</td>\n",
       "      <td>27.0</td>\n",
       "      <td>0</td>\n",
       "      <td>0</td>\n",
       "      <td>315154</td>\n",
       "      <td>8.6625</td>\n",
       "      <td>NaN</td>\n",
       "      <td>S</td>\n",
       "    </tr>\n",
       "    <tr>\n",
       "      <th>4</th>\n",
       "      <td>896</td>\n",
       "      <td>3</td>\n",
       "      <td>Hirvonen, Mrs. Alexander (Helga E Lindqvist)</td>\n",
       "      <td>female</td>\n",
       "      <td>22.0</td>\n",
       "      <td>1</td>\n",
       "      <td>1</td>\n",
       "      <td>3101298</td>\n",
       "      <td>12.2875</td>\n",
       "      <td>NaN</td>\n",
       "      <td>S</td>\n",
       "    </tr>\n",
       "  </tbody>\n",
       "</table>\n",
       "</div>"
      ],
      "text/plain": [
       "   PassengerId  Pclass                                          Name     Sex  \\\n",
       "0          892       3                              Kelly, Mr. James    male   \n",
       "1          893       3              Wilkes, Mrs. James (Ellen Needs)  female   \n",
       "2          894       2                     Myles, Mr. Thomas Francis    male   \n",
       "3          895       3                              Wirz, Mr. Albert    male   \n",
       "4          896       3  Hirvonen, Mrs. Alexander (Helga E Lindqvist)  female   \n",
       "\n",
       "    Age  SibSp  Parch   Ticket     Fare Cabin Embarked  \n",
       "0  34.5      0      0   330911   7.8292   NaN        Q  \n",
       "1  47.0      1      0   363272   7.0000   NaN        S  \n",
       "2  62.0      0      0   240276   9.6875   NaN        Q  \n",
       "3  27.0      0      0   315154   8.6625   NaN        S  \n",
       "4  22.0      1      1  3101298  12.2875   NaN        S  "
      ]
     },
     "execution_count": 6,
     "metadata": {},
     "output_type": "execute_result"
    }
   ],
   "source": [
    "data_test.head(5)"
   ]
  },
  {
   "cell_type": "markdown",
   "metadata": {},
   "source": [
    "#### Checking missing values in training set"
   ]
  },
  {
   "cell_type": "code",
   "execution_count": 7,
   "metadata": {},
   "outputs": [
    {
     "data": {
      "text/html": [
       "<div>\n",
       "<style scoped>\n",
       "    .dataframe tbody tr th:only-of-type {\n",
       "        vertical-align: middle;\n",
       "    }\n",
       "\n",
       "    .dataframe tbody tr th {\n",
       "        vertical-align: top;\n",
       "    }\n",
       "\n",
       "    .dataframe thead th {\n",
       "        text-align: right;\n",
       "    }\n",
       "</style>\n",
       "<table border=\"1\" class=\"dataframe\">\n",
       "  <thead>\n",
       "    <tr style=\"text-align: right;\">\n",
       "      <th></th>\n",
       "      <th>count</th>\n",
       "      <th>percent</th>\n",
       "    </tr>\n",
       "  </thead>\n",
       "  <tbody>\n",
       "    <tr>\n",
       "      <th>Age</th>\n",
       "      <td>177</td>\n",
       "      <td>19.87%</td>\n",
       "    </tr>\n",
       "    <tr>\n",
       "      <th>Cabin</th>\n",
       "      <td>687</td>\n",
       "      <td>77.10%</td>\n",
       "    </tr>\n",
       "    <tr>\n",
       "      <th>Embarked</th>\n",
       "      <td>2</td>\n",
       "      <td>0.22%</td>\n",
       "    </tr>\n",
       "  </tbody>\n",
       "</table>\n",
       "</div>"
      ],
      "text/plain": [
       "          count percent\n",
       "Age         177  19.87%\n",
       "Cabin       687  77.10%\n",
       "Embarked      2   0.22%"
      ]
     },
     "execution_count": 7,
     "metadata": {},
     "output_type": "execute_result"
    }
   ],
   "source": [
    "nulls = data_train.isnull().sum()\n",
    "nulls = nulls.loc[nulls > 0]\n",
    "nulls = nulls.to_frame(name='count')\n",
    "N = len(data_train.index)\n",
    "nulls.insert(1, 'percent', ['{0:.2%}'.format(nulls.loc['Age'][0] / N), \n",
    "                            '{0:.2%}'.format(nulls.loc['Cabin'][0] / N),\n",
    "                            '{0:.2%}'.format(nulls.loc['Embarked'][0] / N)])\n",
    "nulls"
   ]
  },
  {
   "cell_type": "markdown",
   "metadata": {},
   "source": [
    "Seems to be a lot of missing values in 'Age' and 'Cabin'."
   ]
  },
  {
   "cell_type": "markdown",
   "metadata": {},
   "source": [
    "As I concluded from preliminary analysis, the Age is one of the critical and must be treated first.\n",
    "\n",
    "The Cabin and Embarked are probably not important in Survival prediction.\n",
    "\n",
    "I will come to nulls later but for now lets look on distributions."
   ]
  },
  {
   "cell_type": "markdown",
   "metadata": {},
   "source": [
    "#### Checking missing values in test set"
   ]
  },
  {
   "cell_type": "code",
   "execution_count": 8,
   "metadata": {},
   "outputs": [
    {
     "data": {
      "text/html": [
       "<div>\n",
       "<style scoped>\n",
       "    .dataframe tbody tr th:only-of-type {\n",
       "        vertical-align: middle;\n",
       "    }\n",
       "\n",
       "    .dataframe tbody tr th {\n",
       "        vertical-align: top;\n",
       "    }\n",
       "\n",
       "    .dataframe thead th {\n",
       "        text-align: right;\n",
       "    }\n",
       "</style>\n",
       "<table border=\"1\" class=\"dataframe\">\n",
       "  <thead>\n",
       "    <tr style=\"text-align: right;\">\n",
       "      <th></th>\n",
       "      <th>count</th>\n",
       "    </tr>\n",
       "  </thead>\n",
       "  <tbody>\n",
       "    <tr>\n",
       "      <th>Age</th>\n",
       "      <td>86</td>\n",
       "    </tr>\n",
       "    <tr>\n",
       "      <th>Fare</th>\n",
       "      <td>1</td>\n",
       "    </tr>\n",
       "    <tr>\n",
       "      <th>Cabin</th>\n",
       "      <td>327</td>\n",
       "    </tr>\n",
       "  </tbody>\n",
       "</table>\n",
       "</div>"
      ],
      "text/plain": [
       "       count\n",
       "Age       86\n",
       "Fare       1\n",
       "Cabin    327"
      ]
     },
     "execution_count": 8,
     "metadata": {},
     "output_type": "execute_result"
    }
   ],
   "source": [
    "nulls = data_test.isnull().sum()\n",
    "nulls = nulls.loc[nulls > 0]\n",
    "nulls = nulls.to_frame(name='count')\n",
    "nulls"
   ]
  },
  {
   "cell_type": "markdown",
   "metadata": {},
   "source": [
    "There is one missing value for ticket fare. For now I will assign it a zero."
   ]
  },
  {
   "cell_type": "code",
   "execution_count": 9,
   "metadata": {},
   "outputs": [],
   "source": [
    "data_test = data_test.fillna(value={'Fare':0})"
   ]
  },
  {
   "cell_type": "markdown",
   "metadata": {},
   "source": [
    "#### Calculate survival rate"
   ]
  },
  {
   "cell_type": "code",
   "execution_count": 10,
   "metadata": {},
   "outputs": [
    {
     "name": "stdout",
     "output_type": "stream",
     "text": [
      "Deads: 549 (61.62%)\n",
      "Survivals: 342 (38.38%)\n"
     ]
    }
   ],
   "source": [
    "#how many died\n",
    "N_surv0 = len(data_train.loc[data_train['Survived']==0])\n",
    "#how many survived\n",
    "N_surv1 = len(data_train.loc[data_train['Survived']==1])\n",
    "\n",
    "print('Deads: {0} ({1:.2%})'.format(N_surv0, N_surv0 / N))\n",
    "print('Survivals: {0} ({1:.2%})'.format(N_surv1, N_surv1 / N))"
   ]
  },
  {
   "cell_type": "markdown",
   "metadata": {},
   "source": [
    "Well, only 1/3 survived. That was expectable though."
   ]
  },
  {
   "cell_type": "markdown",
   "metadata": {},
   "source": [
    "#### Replace 'Name' with encoded titles"
   ]
  },
  {
   "cell_type": "code",
   "execution_count": 11,
   "metadata": {},
   "outputs": [],
   "source": [
    "#Concatinate train & test data (to make sure that all unique titles are captured)\n",
    "data_tot = pd.concat([data_train, data_test], ignore_index=True)"
   ]
  },
  {
   "cell_type": "code",
   "execution_count": 12,
   "metadata": {},
   "outputs": [],
   "source": [
    "#Encode 'Name'\n",
    "def name_encoder(data):\n",
    "    data_encoded = []\n",
    "    for i in data['Name']:\n",
    "        lname0 = i.split(',')[0].strip() #last name\n",
    "        ttl = i.split(',')[1].split('.')[0].strip() #title\n",
    "        lname1 = (i.split('(')[-1].split(')')[0].split()[-1].strip() if '(' in i else '').replace('\\\"','') #second last name\n",
    "        data_encoded.append([lname0, lname1, ttl])\n",
    "    data_encoded = pd.DataFrame(data_encoded, columns=['lname0', 'lname1', 'ttl'], index=data.index)\n",
    "    return pd.concat([data.reset_index(drop=True), data_encoded], axis=1)"
   ]
  },
  {
   "cell_type": "code",
   "execution_count": 13,
   "metadata": {},
   "outputs": [
    {
     "data": {
      "text/html": [
       "<div>\n",
       "<style scoped>\n",
       "    .dataframe tbody tr th:only-of-type {\n",
       "        vertical-align: middle;\n",
       "    }\n",
       "\n",
       "    .dataframe tbody tr th {\n",
       "        vertical-align: top;\n",
       "    }\n",
       "\n",
       "    .dataframe thead th {\n",
       "        text-align: right;\n",
       "    }\n",
       "</style>\n",
       "<table border=\"1\" class=\"dataframe\">\n",
       "  <thead>\n",
       "    <tr style=\"text-align: right;\">\n",
       "      <th></th>\n",
       "      <th>Name</th>\n",
       "      <th>lname0</th>\n",
       "      <th>lname1</th>\n",
       "      <th>ttl</th>\n",
       "    </tr>\n",
       "  </thead>\n",
       "  <tbody>\n",
       "    <tr>\n",
       "      <th>0</th>\n",
       "      <td>Braund, Mr. Owen Harris</td>\n",
       "      <td>Braund</td>\n",
       "      <td></td>\n",
       "      <td>Mr</td>\n",
       "    </tr>\n",
       "    <tr>\n",
       "      <th>1</th>\n",
       "      <td>Cumings, Mrs. John Bradley (Florence Briggs Th...</td>\n",
       "      <td>Cumings</td>\n",
       "      <td>Thayer</td>\n",
       "      <td>Mrs</td>\n",
       "    </tr>\n",
       "    <tr>\n",
       "      <th>2</th>\n",
       "      <td>Heikkinen, Miss. Laina</td>\n",
       "      <td>Heikkinen</td>\n",
       "      <td></td>\n",
       "      <td>Miss</td>\n",
       "    </tr>\n",
       "    <tr>\n",
       "      <th>3</th>\n",
       "      <td>Futrelle, Mrs. Jacques Heath (Lily May Peel)</td>\n",
       "      <td>Futrelle</td>\n",
       "      <td>Peel</td>\n",
       "      <td>Mrs</td>\n",
       "    </tr>\n",
       "    <tr>\n",
       "      <th>4</th>\n",
       "      <td>Allen, Mr. William Henry</td>\n",
       "      <td>Allen</td>\n",
       "      <td></td>\n",
       "      <td>Mr</td>\n",
       "    </tr>\n",
       "  </tbody>\n",
       "</table>\n",
       "</div>"
      ],
      "text/plain": [
       "                                                Name     lname0  lname1   ttl\n",
       "0                            Braund, Mr. Owen Harris     Braund            Mr\n",
       "1  Cumings, Mrs. John Bradley (Florence Briggs Th...    Cumings  Thayer   Mrs\n",
       "2                             Heikkinen, Miss. Laina  Heikkinen          Miss\n",
       "3       Futrelle, Mrs. Jacques Heath (Lily May Peel)   Futrelle    Peel   Mrs\n",
       "4                           Allen, Mr. William Henry      Allen            Mr"
      ]
     },
     "execution_count": 13,
     "metadata": {},
     "output_type": "execute_result"
    }
   ],
   "source": [
    "df_name = name_encoder(data_tot['Name'].to_frame())\n",
    "df_name.head(5)"
   ]
  },
  {
   "cell_type": "code",
   "execution_count": 14,
   "metadata": {},
   "outputs": [
    {
     "data": {
      "text/html": [
       "<div>\n",
       "<style scoped>\n",
       "    .dataframe tbody tr th:only-of-type {\n",
       "        vertical-align: middle;\n",
       "    }\n",
       "\n",
       "    .dataframe tbody tr th {\n",
       "        vertical-align: top;\n",
       "    }\n",
       "\n",
       "    .dataframe thead th {\n",
       "        text-align: right;\n",
       "    }\n",
       "</style>\n",
       "<table border=\"1\" class=\"dataframe\">\n",
       "  <thead>\n",
       "    <tr style=\"text-align: right;\">\n",
       "      <th></th>\n",
       "      <th>0</th>\n",
       "      <th>1</th>\n",
       "      <th>2</th>\n",
       "      <th>3</th>\n",
       "      <th>4</th>\n",
       "      <th>5</th>\n",
       "      <th>6</th>\n",
       "      <th>7</th>\n",
       "      <th>8</th>\n",
       "      <th>9</th>\n",
       "      <th>10</th>\n",
       "      <th>11</th>\n",
       "      <th>12</th>\n",
       "      <th>13</th>\n",
       "      <th>14</th>\n",
       "      <th>15</th>\n",
       "      <th>16</th>\n",
       "      <th>17</th>\n",
       "    </tr>\n",
       "  </thead>\n",
       "  <tbody>\n",
       "    <tr>\n",
       "      <th>ttl</th>\n",
       "      <td>Mr</td>\n",
       "      <td>Mrs</td>\n",
       "      <td>Miss</td>\n",
       "      <td>Master</td>\n",
       "      <td>Don</td>\n",
       "      <td>Rev</td>\n",
       "      <td>Dr</td>\n",
       "      <td>Mme</td>\n",
       "      <td>Ms</td>\n",
       "      <td>Major</td>\n",
       "      <td>Lady</td>\n",
       "      <td>Sir</td>\n",
       "      <td>Mlle</td>\n",
       "      <td>Col</td>\n",
       "      <td>Capt</td>\n",
       "      <td>the Countess</td>\n",
       "      <td>Jonkheer</td>\n",
       "      <td>Dona</td>\n",
       "    </tr>\n",
       "    <tr>\n",
       "      <th>ttl_n</th>\n",
       "      <td>757</td>\n",
       "      <td>197</td>\n",
       "      <td>260</td>\n",
       "      <td>61</td>\n",
       "      <td>1</td>\n",
       "      <td>8</td>\n",
       "      <td>8</td>\n",
       "      <td>1</td>\n",
       "      <td>2</td>\n",
       "      <td>2</td>\n",
       "      <td>1</td>\n",
       "      <td>1</td>\n",
       "      <td>2</td>\n",
       "      <td>4</td>\n",
       "      <td>1</td>\n",
       "      <td>1</td>\n",
       "      <td>1</td>\n",
       "      <td>1</td>\n",
       "    </tr>\n",
       "  </tbody>\n",
       "</table>\n",
       "</div>"
      ],
      "text/plain": [
       "         0    1     2       3    4    5   6    7   8      9    10   11    12  \\\n",
       "ttl     Mr  Mrs  Miss  Master  Don  Rev  Dr  Mme  Ms  Major  Lady  Sir  Mlle   \n",
       "ttl_n  757  197   260      61    1    8   8    1   2      2     1    1     2   \n",
       "\n",
       "        13    14            15        16    17  \n",
       "ttl    Col  Capt  the Countess  Jonkheer  Dona  \n",
       "ttl_n    4     1             1         1     1  "
      ]
     },
     "execution_count": 14,
     "metadata": {},
     "output_type": "execute_result"
    }
   ],
   "source": [
    "#Find unique titles and their counts\n",
    "ttl = df_name['ttl'].unique()\n",
    "ttl = pd.DataFrame([[i, len(df_name.loc[df_name['ttl']==i])] for i in ttl], columns=['ttl', 'ttl_n'])\n",
    "ttl.T"
   ]
  },
  {
   "cell_type": "code",
   "execution_count": 15,
   "metadata": {},
   "outputs": [
    {
     "data": {
      "text/html": [
       "<div>\n",
       "<style scoped>\n",
       "    .dataframe tbody tr th:only-of-type {\n",
       "        vertical-align: middle;\n",
       "    }\n",
       "\n",
       "    .dataframe tbody tr th {\n",
       "        vertical-align: top;\n",
       "    }\n",
       "\n",
       "    .dataframe thead th {\n",
       "        text-align: right;\n",
       "    }\n",
       "</style>\n",
       "<table border=\"1\" class=\"dataframe\">\n",
       "  <thead>\n",
       "    <tr style=\"text-align: right;\">\n",
       "      <th></th>\n",
       "      <th>Name</th>\n",
       "      <th>lname0</th>\n",
       "      <th>lname1</th>\n",
       "      <th>ttl</th>\n",
       "    </tr>\n",
       "  </thead>\n",
       "  <tbody>\n",
       "    <tr>\n",
       "      <th>245</th>\n",
       "      <td>Minahan, Dr. William Edward</td>\n",
       "      <td>Minahan</td>\n",
       "      <td></td>\n",
       "      <td>Dr</td>\n",
       "    </tr>\n",
       "    <tr>\n",
       "      <th>317</th>\n",
       "      <td>Moraweck, Dr. Ernest</td>\n",
       "      <td>Moraweck</td>\n",
       "      <td></td>\n",
       "      <td>Dr</td>\n",
       "    </tr>\n",
       "    <tr>\n",
       "      <th>398</th>\n",
       "      <td>Pain, Dr. Alfred</td>\n",
       "      <td>Pain</td>\n",
       "      <td></td>\n",
       "      <td>Dr</td>\n",
       "    </tr>\n",
       "    <tr>\n",
       "      <th>632</th>\n",
       "      <td>Stahelin-Maeglin, Dr. Max</td>\n",
       "      <td>Stahelin-Maeglin</td>\n",
       "      <td></td>\n",
       "      <td>Dr</td>\n",
       "    </tr>\n",
       "    <tr>\n",
       "      <th>660</th>\n",
       "      <td>Frauenthal, Dr. Henry William</td>\n",
       "      <td>Frauenthal</td>\n",
       "      <td></td>\n",
       "      <td>Dr</td>\n",
       "    </tr>\n",
       "    <tr>\n",
       "      <th>766</th>\n",
       "      <td>Brewe, Dr. Arthur Jackson</td>\n",
       "      <td>Brewe</td>\n",
       "      <td></td>\n",
       "      <td>Dr</td>\n",
       "    </tr>\n",
       "    <tr>\n",
       "      <th>796</th>\n",
       "      <td>Leader, Dr. Alice (Farnham)</td>\n",
       "      <td>Leader</td>\n",
       "      <td>Farnham</td>\n",
       "      <td>Dr</td>\n",
       "    </tr>\n",
       "    <tr>\n",
       "      <th>1184</th>\n",
       "      <td>Dodge, Dr. Washington</td>\n",
       "      <td>Dodge</td>\n",
       "      <td></td>\n",
       "      <td>Dr</td>\n",
       "    </tr>\n",
       "  </tbody>\n",
       "</table>\n",
       "</div>"
      ],
      "text/plain": [
       "                               Name            lname0   lname1 ttl\n",
       "245     Minahan, Dr. William Edward           Minahan           Dr\n",
       "317            Moraweck, Dr. Ernest          Moraweck           Dr\n",
       "398                Pain, Dr. Alfred              Pain           Dr\n",
       "632       Stahelin-Maeglin, Dr. Max  Stahelin-Maeglin           Dr\n",
       "660   Frauenthal, Dr. Henry William        Frauenthal           Dr\n",
       "766       Brewe, Dr. Arthur Jackson             Brewe           Dr\n",
       "796     Leader, Dr. Alice (Farnham)            Leader  Farnham  Dr\n",
       "1184          Dodge, Dr. Washington             Dodge           Dr"
      ]
     },
     "execution_count": 15,
     "metadata": {},
     "output_type": "execute_result"
    }
   ],
   "source": [
    "#Explore samples with 'Dr' title\n",
    "df_name.loc[df_name['ttl']=='Dr']"
   ]
  },
  {
   "cell_type": "markdown",
   "metadata": {},
   "source": [
    "_**Leader, Dr. Alice (Farnham) is only one woman with title 'Dr'._"
   ]
  },
  {
   "cell_type": "markdown",
   "metadata": {},
   "source": [
    "The function below will replace each person's name with encoded title. Instead of using all unique titles, I will teke only these: 'Mr', 'Mrs', 'Miss' and 'Master'."
   ]
  },
  {
   "cell_type": "code",
   "execution_count": 16,
   "metadata": {},
   "outputs": [],
   "source": [
    "def title_encoder(data):\n",
    "    mask = {'Don':'Mr',\n",
    "            'Sir':'Mr',\n",
    "            'Jonkheer':'Mr',\n",
    "            'Mme':'Mrs',\n",
    "            'Lady':'Mrs',\n",
    "            'the Countess':'Mrs',\n",
    "            'Dona':'Mrs',\n",
    "            'Mlle':'Miss',\n",
    "            'Ms':'Miss',\n",
    "            'Major':'Mr',\n",
    "            'Col':'Mr',\n",
    "            'Capt':'Mr',\n",
    "            'Rev':'Mr',\n",
    "            'Dr':'Mr'}\n",
    "    \n",
    "    data = name_encoder(data)\n",
    "    data['ttl'] = data['ttl'].apply(lambda i: mask[i] if i in mask else i)\n",
    "    if 797 in data['PassengerId'].values:\n",
    "        data.loc[data_tot['PassengerId']==797, 'ttl'] = 'Mrs'\n",
    "    mask = {'Mr':1, 'Mrs':2, 'Miss':3, 'Master':4}\n",
    "    data['ttl'] = data['ttl'].apply(lambda i: mask[i])\n",
    "    return data"
   ]
  },
  {
   "cell_type": "markdown",
   "metadata": {},
   "source": [
    "#### Explore missing values for 'Embarked'"
   ]
  },
  {
   "cell_type": "code",
   "execution_count": 17,
   "metadata": {},
   "outputs": [
    {
     "data": {
      "text/html": [
       "<div>\n",
       "<style scoped>\n",
       "    .dataframe tbody tr th:only-of-type {\n",
       "        vertical-align: middle;\n",
       "    }\n",
       "\n",
       "    .dataframe tbody tr th {\n",
       "        vertical-align: top;\n",
       "    }\n",
       "\n",
       "    .dataframe thead th {\n",
       "        text-align: right;\n",
       "    }\n",
       "</style>\n",
       "<table border=\"1\" class=\"dataframe\">\n",
       "  <thead>\n",
       "    <tr style=\"text-align: right;\">\n",
       "      <th></th>\n",
       "      <th>PassengerId</th>\n",
       "      <th>Survived</th>\n",
       "      <th>Pclass</th>\n",
       "      <th>Name</th>\n",
       "      <th>Sex</th>\n",
       "      <th>Age</th>\n",
       "      <th>SibSp</th>\n",
       "      <th>Parch</th>\n",
       "      <th>Ticket</th>\n",
       "      <th>Fare</th>\n",
       "      <th>Cabin</th>\n",
       "      <th>Embarked</th>\n",
       "    </tr>\n",
       "  </thead>\n",
       "  <tbody>\n",
       "    <tr>\n",
       "      <th>61</th>\n",
       "      <td>62</td>\n",
       "      <td>1.0</td>\n",
       "      <td>1</td>\n",
       "      <td>Icard, Miss. Amelie</td>\n",
       "      <td>female</td>\n",
       "      <td>38.0</td>\n",
       "      <td>0</td>\n",
       "      <td>0</td>\n",
       "      <td>113572</td>\n",
       "      <td>80.0</td>\n",
       "      <td>B28</td>\n",
       "      <td>NaN</td>\n",
       "    </tr>\n",
       "    <tr>\n",
       "      <th>829</th>\n",
       "      <td>830</td>\n",
       "      <td>1.0</td>\n",
       "      <td>1</td>\n",
       "      <td>Stone, Mrs. George Nelson (Martha Evelyn)</td>\n",
       "      <td>female</td>\n",
       "      <td>62.0</td>\n",
       "      <td>0</td>\n",
       "      <td>0</td>\n",
       "      <td>113572</td>\n",
       "      <td>80.0</td>\n",
       "      <td>B28</td>\n",
       "      <td>NaN</td>\n",
       "    </tr>\n",
       "  </tbody>\n",
       "</table>\n",
       "</div>"
      ],
      "text/plain": [
       "     PassengerId  Survived  Pclass                                       Name  \\\n",
       "61            62       1.0       1                        Icard, Miss. Amelie   \n",
       "829          830       1.0       1  Stone, Mrs. George Nelson (Martha Evelyn)   \n",
       "\n",
       "        Sex   Age  SibSp  Parch  Ticket  Fare Cabin Embarked  \n",
       "61   female  38.0      0      0  113572  80.0   B28      NaN  \n",
       "829  female  62.0      0      0  113572  80.0   B28      NaN  "
      ]
     },
     "execution_count": 17,
     "metadata": {},
     "output_type": "execute_result"
    }
   ],
   "source": [
    "data_tot.loc[data_tot['Embarked'].isnull()]"
   ]
  },
  {
   "cell_type": "markdown",
   "metadata": {},
   "source": [
    "Display samples with similar ticket number"
   ]
  },
  {
   "cell_type": "code",
   "execution_count": 126,
   "metadata": {},
   "outputs": [
    {
     "data": {
      "text/html": [
       "<div>\n",
       "<style scoped>\n",
       "    .dataframe tbody tr th:only-of-type {\n",
       "        vertical-align: middle;\n",
       "    }\n",
       "\n",
       "    .dataframe tbody tr th {\n",
       "        vertical-align: top;\n",
       "    }\n",
       "\n",
       "    .dataframe thead th {\n",
       "        text-align: right;\n",
       "    }\n",
       "</style>\n",
       "<table border=\"1\" class=\"dataframe\">\n",
       "  <thead>\n",
       "    <tr style=\"text-align: right;\">\n",
       "      <th></th>\n",
       "      <th>PassengerId</th>\n",
       "      <th>Survived</th>\n",
       "      <th>Pclass</th>\n",
       "      <th>Name</th>\n",
       "      <th>Sex</th>\n",
       "      <th>Age</th>\n",
       "      <th>SibSp</th>\n",
       "      <th>Parch</th>\n",
       "      <th>Ticket</th>\n",
       "      <th>Fare</th>\n",
       "      <th>Cabin</th>\n",
       "      <th>Embarked</th>\n",
       "    </tr>\n",
       "  </thead>\n",
       "  <tbody>\n",
       "    <tr>\n",
       "      <th>782</th>\n",
       "      <td>783</td>\n",
       "      <td>0.0</td>\n",
       "      <td>1</td>\n",
       "      <td>Long, Mr. Milton Clyde</td>\n",
       "      <td>male</td>\n",
       "      <td>29.0</td>\n",
       "      <td>0</td>\n",
       "      <td>0</td>\n",
       "      <td>113501</td>\n",
       "      <td>30.0000</td>\n",
       "      <td>D6</td>\n",
       "      <td>S</td>\n",
       "    </tr>\n",
       "    <tr>\n",
       "      <th>377</th>\n",
       "      <td>378</td>\n",
       "      <td>0.0</td>\n",
       "      <td>1</td>\n",
       "      <td>Widener, Mr. Harry Elkins</td>\n",
       "      <td>male</td>\n",
       "      <td>27.0</td>\n",
       "      <td>0</td>\n",
       "      <td>2</td>\n",
       "      <td>113503</td>\n",
       "      <td>211.5000</td>\n",
       "      <td>C82</td>\n",
       "      <td>C</td>\n",
       "    </tr>\n",
       "    <tr>\n",
       "      <th>965</th>\n",
       "      <td>966</td>\n",
       "      <td>NaN</td>\n",
       "      <td>1</td>\n",
       "      <td>Geiger, Miss. Amalie</td>\n",
       "      <td>female</td>\n",
       "      <td>35.0</td>\n",
       "      <td>0</td>\n",
       "      <td>0</td>\n",
       "      <td>113503</td>\n",
       "      <td>211.5000</td>\n",
       "      <td>C130</td>\n",
       "      <td>C</td>\n",
       "    </tr>\n",
       "    <tr>\n",
       "      <th>966</th>\n",
       "      <td>967</td>\n",
       "      <td>NaN</td>\n",
       "      <td>1</td>\n",
       "      <td>Keeping, Mr. Edwin</td>\n",
       "      <td>male</td>\n",
       "      <td>32.5</td>\n",
       "      <td>0</td>\n",
       "      <td>0</td>\n",
       "      <td>113503</td>\n",
       "      <td>211.5000</td>\n",
       "      <td>C132</td>\n",
       "      <td>C</td>\n",
       "    </tr>\n",
       "    <tr>\n",
       "      <th>1109</th>\n",
       "      <td>1110</td>\n",
       "      <td>NaN</td>\n",
       "      <td>1</td>\n",
       "      <td>Widener, Mrs. George Dunton (Eleanor Elkins)</td>\n",
       "      <td>female</td>\n",
       "      <td>50.0</td>\n",
       "      <td>1</td>\n",
       "      <td>1</td>\n",
       "      <td>113503</td>\n",
       "      <td>211.5000</td>\n",
       "      <td>C80</td>\n",
       "      <td>C</td>\n",
       "    </tr>\n",
       "    <tr>\n",
       "      <th>1298</th>\n",
       "      <td>1299</td>\n",
       "      <td>NaN</td>\n",
       "      <td>1</td>\n",
       "      <td>Widener, Mr. George Dunton</td>\n",
       "      <td>male</td>\n",
       "      <td>50.0</td>\n",
       "      <td>1</td>\n",
       "      <td>1</td>\n",
       "      <td>113503</td>\n",
       "      <td>211.5000</td>\n",
       "      <td>C80</td>\n",
       "      <td>C</td>\n",
       "    </tr>\n",
       "    <tr>\n",
       "      <th>166</th>\n",
       "      <td>167</td>\n",
       "      <td>1.0</td>\n",
       "      <td>1</td>\n",
       "      <td>Chibnall, Mrs. (Edith Martha Bowerman)</td>\n",
       "      <td>female</td>\n",
       "      <td>NaN</td>\n",
       "      <td>0</td>\n",
       "      <td>1</td>\n",
       "      <td>113505</td>\n",
       "      <td>55.0000</td>\n",
       "      <td>E33</td>\n",
       "      <td>S</td>\n",
       "    </tr>\n",
       "    <tr>\n",
       "      <th>356</th>\n",
       "      <td>357</td>\n",
       "      <td>1.0</td>\n",
       "      <td>1</td>\n",
       "      <td>Bowerman, Miss. Elsie Edith</td>\n",
       "      <td>female</td>\n",
       "      <td>22.0</td>\n",
       "      <td>0</td>\n",
       "      <td>1</td>\n",
       "      <td>113505</td>\n",
       "      <td>55.0000</td>\n",
       "      <td>E33</td>\n",
       "      <td>S</td>\n",
       "    </tr>\n",
       "    <tr>\n",
       "      <th>54</th>\n",
       "      <td>55</td>\n",
       "      <td>0.0</td>\n",
       "      <td>1</td>\n",
       "      <td>Ostby, Mr. Engelhart Cornelius</td>\n",
       "      <td>male</td>\n",
       "      <td>65.0</td>\n",
       "      <td>0</td>\n",
       "      <td>1</td>\n",
       "      <td>113509</td>\n",
       "      <td>61.9792</td>\n",
       "      <td>B30</td>\n",
       "      <td>C</td>\n",
       "    </tr>\n",
       "    <tr>\n",
       "      <th>917</th>\n",
       "      <td>918</td>\n",
       "      <td>NaN</td>\n",
       "      <td>1</td>\n",
       "      <td>Ostby, Miss. Helene Ragnhild</td>\n",
       "      <td>female</td>\n",
       "      <td>22.0</td>\n",
       "      <td>0</td>\n",
       "      <td>1</td>\n",
       "      <td>113509</td>\n",
       "      <td>61.9792</td>\n",
       "      <td>B36</td>\n",
       "      <td>C</td>\n",
       "    </tr>\n",
       "    <tr>\n",
       "      <th>351</th>\n",
       "      <td>352</td>\n",
       "      <td>0.0</td>\n",
       "      <td>1</td>\n",
       "      <td>Williams-Lambert, Mr. Fletcher Fellows</td>\n",
       "      <td>male</td>\n",
       "      <td>NaN</td>\n",
       "      <td>0</td>\n",
       "      <td>0</td>\n",
       "      <td>113510</td>\n",
       "      <td>35.0000</td>\n",
       "      <td>C128</td>\n",
       "      <td>S</td>\n",
       "    </tr>\n",
       "    <tr>\n",
       "      <th>252</th>\n",
       "      <td>253</td>\n",
       "      <td>0.0</td>\n",
       "      <td>1</td>\n",
       "      <td>Stead, Mr. William Thomas</td>\n",
       "      <td>male</td>\n",
       "      <td>62.0</td>\n",
       "      <td>0</td>\n",
       "      <td>0</td>\n",
       "      <td>113514</td>\n",
       "      <td>26.5500</td>\n",
       "      <td>C87</td>\n",
       "      <td>S</td>\n",
       "    </tr>\n",
       "    <tr>\n",
       "      <th>61</th>\n",
       "      <td>62</td>\n",
       "      <td>1.0</td>\n",
       "      <td>1</td>\n",
       "      <td>Icard, Miss. Amelie</td>\n",
       "      <td>female</td>\n",
       "      <td>38.0</td>\n",
       "      <td>0</td>\n",
       "      <td>0</td>\n",
       "      <td>113572</td>\n",
       "      <td>80.0000</td>\n",
       "      <td>B28</td>\n",
       "      <td>NaN</td>\n",
       "    </tr>\n",
       "    <tr>\n",
       "      <th>829</th>\n",
       "      <td>830</td>\n",
       "      <td>1.0</td>\n",
       "      <td>1</td>\n",
       "      <td>Stone, Mrs. George Nelson (Martha Evelyn)</td>\n",
       "      <td>female</td>\n",
       "      <td>62.0</td>\n",
       "      <td>0</td>\n",
       "      <td>0</td>\n",
       "      <td>113572</td>\n",
       "      <td>80.0000</td>\n",
       "      <td>B28</td>\n",
       "      <td>NaN</td>\n",
       "    </tr>\n",
       "  </tbody>\n",
       "</table>\n",
       "</div>"
      ],
      "text/plain": [
       "      PassengerId  Survived  Pclass  \\\n",
       "782           783       0.0       1   \n",
       "377           378       0.0       1   \n",
       "965           966       NaN       1   \n",
       "966           967       NaN       1   \n",
       "1109         1110       NaN       1   \n",
       "1298         1299       NaN       1   \n",
       "166           167       1.0       1   \n",
       "356           357       1.0       1   \n",
       "54             55       0.0       1   \n",
       "917           918       NaN       1   \n",
       "351           352       0.0       1   \n",
       "252           253       0.0       1   \n",
       "61             62       1.0       1   \n",
       "829           830       1.0       1   \n",
       "\n",
       "                                              Name     Sex   Age  SibSp  \\\n",
       "782                         Long, Mr. Milton Clyde    male  29.0      0   \n",
       "377                      Widener, Mr. Harry Elkins    male  27.0      0   \n",
       "965                           Geiger, Miss. Amalie  female  35.0      0   \n",
       "966                             Keeping, Mr. Edwin    male  32.5      0   \n",
       "1109  Widener, Mrs. George Dunton (Eleanor Elkins)  female  50.0      1   \n",
       "1298                    Widener, Mr. George Dunton    male  50.0      1   \n",
       "166         Chibnall, Mrs. (Edith Martha Bowerman)  female   NaN      0   \n",
       "356                    Bowerman, Miss. Elsie Edith  female  22.0      0   \n",
       "54                  Ostby, Mr. Engelhart Cornelius    male  65.0      0   \n",
       "917                   Ostby, Miss. Helene Ragnhild  female  22.0      0   \n",
       "351         Williams-Lambert, Mr. Fletcher Fellows    male   NaN      0   \n",
       "252                      Stead, Mr. William Thomas    male  62.0      0   \n",
       "61                             Icard, Miss. Amelie  female  38.0      0   \n",
       "829      Stone, Mrs. George Nelson (Martha Evelyn)  female  62.0      0   \n",
       "\n",
       "      Parch  Ticket      Fare Cabin Embarked  \n",
       "782       0  113501   30.0000    D6        S  \n",
       "377       2  113503  211.5000   C82        C  \n",
       "965       0  113503  211.5000  C130        C  \n",
       "966       0  113503  211.5000  C132        C  \n",
       "1109      1  113503  211.5000   C80        C  \n",
       "1298      1  113503  211.5000   C80        C  \n",
       "166       1  113505   55.0000   E33        S  \n",
       "356       1  113505   55.0000   E33        S  \n",
       "54        1  113509   61.9792   B30        C  \n",
       "917       1  113509   61.9792   B36        C  \n",
       "351       0  113510   35.0000  C128        S  \n",
       "252       0  113514   26.5500   C87        S  \n",
       "61        0  113572   80.0000   B28      NaN  \n",
       "829       0  113572   80.0000   B28      NaN  "
      ]
     },
     "execution_count": 126,
     "metadata": {},
     "output_type": "execute_result"
    }
   ],
   "source": [
    "df = data_tot.query('Ticket.str.contains(\"1135\")')\n",
    "df.sort_values(by='Ticket')"
   ]
  },
  {
   "cell_type": "markdown",
   "metadata": {},
   "source": [
    "All people with similar ticket numbers are embarked in 'C' or 'S'. So i will simply assign the most frequent class to both missed values."
   ]
  },
  {
   "cell_type": "code",
   "execution_count": 19,
   "metadata": {},
   "outputs": [
    {
     "name": "stdout",
     "output_type": "stream",
     "text": [
      "C: 7\n",
      "S: 5\n",
      "All: 14\n"
     ]
    }
   ],
   "source": [
    "nc = len(df.loc[df['Embarked']=='C'])\n",
    "ns = len(df.loc[df['Embarked']=='S'])\n",
    "n = len(df.index)\n",
    "\n",
    "print('C: %d' % nc)\n",
    "print('S: %d' % ns)\n",
    "print('All: %d' % n)"
   ]
  },
  {
   "cell_type": "markdown",
   "metadata": {},
   "source": [
    "The function below will be used to encode 'Embarked' variable"
   ]
  },
  {
   "cell_type": "code",
   "execution_count": 20,
   "metadata": {},
   "outputs": [],
   "source": [
    "#Encoding 'Embarked'\n",
    "def embarked_encoder(data):\n",
    "    if len(data.loc[data['Embarked'].isnull()].index)>0:\n",
    "        data = data.fillna(value={'Embarked':'C'})\n",
    "    mask = {'C':0, 'S':1, 'Q':2}\n",
    "    data['Embarked'] = data['Embarked'].apply(lambda i: mask[i])\n",
    "    return data"
   ]
  },
  {
   "cell_type": "markdown",
   "metadata": {},
   "source": [
    "### Grouping by ticket ID\n",
    "\n",
    "While exploring the dataset, I found that many passengers have identical ticket numbers as well as identical fare value.\n",
    "\n",
    "In this section, for all people with matching tickets, I will recalculate ticket fare for every i-th person in a group g as: fare(i, g) = fare(g) / n, where n is a number of people in group g."
   ]
  },
  {
   "cell_type": "code",
   "execution_count": 21,
   "metadata": {},
   "outputs": [],
   "source": [
    "# Clean text function\n",
    "def clean_text(text):\n",
    "    text = ''.join([c for c in text if c not in string.punctuation]).strip()\n",
    "    text = ''.join(text.split())\n",
    "    return text"
   ]
  },
  {
   "cell_type": "code",
   "execution_count": 22,
   "metadata": {},
   "outputs": [],
   "source": [
    "# Clean ticket ID from all punctuation and spaces\n",
    "df_fam = data_tot.copy()\n",
    "df_fam['Ticket'] = df_fam['Ticket'].apply(lambda i: clean_text(i))"
   ]
  },
  {
   "cell_type": "markdown",
   "metadata": {},
   "source": [
    "Numbers of unique and non-unique tickets:"
   ]
  },
  {
   "cell_type": "code",
   "execution_count": 23,
   "metadata": {},
   "outputs": [
    {
     "name": "stdout",
     "output_type": "stream",
     "text": [
      "Unique tickets: 929\n",
      "Non-unique tickets: 380\n"
     ]
    }
   ],
   "source": [
    "print('Unique tickets: %d' % len(df_fam['Ticket'].unique()))\n",
    "print('Non-unique tickets: %d' % (len(df_fam.index) - len(df_fam['Ticket'].unique())))"
   ]
  },
  {
   "cell_type": "markdown",
   "metadata": {},
   "source": [
    "I want to define the following groups:\n",
    "1. No family (SibSp==0 & Parch==0), unique tickets\n",
    "2. No family (SibSp==0 & Parch==0), non-unique tickets\n",
    "3. Has family, no children (SibSp >0 & Parch==0), unique tickets\n",
    "4. Has family, no children (SibSp >0 & Parch==0), non-unique tickets\n",
    "5. Has family, has children (Parch >0), unique tickets\n",
    "6. Has family, has children (Parch >0), non-unique tickets"
   ]
  },
  {
   "cell_type": "code",
   "execution_count": 24,
   "metadata": {},
   "outputs": [],
   "source": [
    "families0 = df_fam.loc[(df_fam['SibSp']>0) & (df_fam['Parch']==0)]\n",
    "families1 = df_fam.loc[df_fam['Parch']>0]\n",
    "singles = df_fam.loc[(df_fam['SibSp']==0) & (df_fam['Parch']==0)]"
   ]
  },
  {
   "cell_type": "code",
   "execution_count": 25,
   "metadata": {},
   "outputs": [],
   "source": [
    "# This function is used to return sub-groups by unique and non-unique tickets from a group by SibSP and Parch\n",
    "def grps_by_size(grp):\n",
    "    #group size > 1\n",
    "    grp1 = None\n",
    "    #group size == 1\n",
    "    grp0 = None\n",
    "    for g in grp.groups:\n",
    "        grp_ = grp.get_group(g)\n",
    "        if len(grp.get_group(g).index)>1:\n",
    "            if grp1 is None:\n",
    "                grp1 = grp_\n",
    "            else:\n",
    "                grp1 = pd.concat([grp1, grp_])\n",
    "        else:\n",
    "            if grp0 is None:\n",
    "                grp0 = grp_\n",
    "            else:\n",
    "                grp0 = pd.concat([grp0, grp_])\n",
    "    return (grp0, grp1)"
   ]
  },
  {
   "cell_type": "code",
   "execution_count": 26,
   "metadata": {},
   "outputs": [
    {
     "name": "stdout",
     "output_type": "stream",
     "text": [
      "Singles-----------------------\n",
      "Matching tickets groups: 108\n",
      "Unique tickets groups: 682\n",
      "------------------------------\n",
      "Families----------------------\n",
      "Matching tickets groups: 174\n",
      "Unique tickets groups: 38\n",
      "------------------------------\n",
      "Families W/children-----------\n",
      "Matching tickets groups: 288\n",
      "Unique tickets groups: 19\n",
      "------------------------------\n"
     ]
    }
   ],
   "source": [
    "#singles\n",
    "sig_grp = singles.groupby('Ticket')\n",
    "#families NO children\n",
    "fam0_grp = families0.groupby('Ticket')\n",
    "#families w/children\n",
    "fam1_grp = families1.groupby('Ticket')\n",
    "\n",
    "#no family, unique ticket\n",
    "sig0 = grps_by_size(sig_grp)[0]\n",
    "#no family, matching tickets\n",
    "sig1 = grps_by_size(sig_grp)[1]\n",
    "#has family, no children, unique ticket\n",
    "fam0 = grps_by_size(fam0_grp)[0]\n",
    "#has family, no children, matching ticket\n",
    "fam1 = grps_by_size(fam0_grp)[1]\n",
    "#has family, has children, unique ticket\n",
    "famch0 = grps_by_size(fam1_grp)[0]\n",
    "#has family, has children, matching ticket\n",
    "famch1 = grps_by_size(fam1_grp)[1]\n",
    "\n",
    "print('Singles-----------------------')\n",
    "print('Matching tickets groups: %d' % len(sig1.index))\n",
    "print('Unique tickets groups: %d' % len(sig0.index))\n",
    "print('------------------------------')\n",
    "\n",
    "print('Families----------------------')\n",
    "print('Matching tickets groups: %d' % len(fam1.index))\n",
    "print('Unique tickets groups: %d' % len(fam0.index))\n",
    "print('------------------------------')\n",
    "\n",
    "print('Families W/children-----------')\n",
    "print('Matching tickets groups: %d' % len(famch1.index))\n",
    "print('Unique tickets groups: %d' % len(famch0.index))\n",
    "print('------------------------------')"
   ]
  },
  {
   "cell_type": "code",
   "execution_count": 27,
   "metadata": {},
   "outputs": [],
   "source": [
    "# Family groups\n",
    "fam_grps = [sig0, sig1, fam0, fam1, famch0, famch1]"
   ]
  },
  {
   "cell_type": "code",
   "execution_count": 28,
   "metadata": {},
   "outputs": [],
   "source": [
    "# Make a mask of family groups labels\n",
    "fgrp_mask = {}\n",
    "for idx, grp in enumerate(fam_grps):\n",
    "    for pid in grp['PassengerId']:\n",
    "        fgrp_mask[pid] = idx"
   ]
  },
  {
   "cell_type": "code",
   "execution_count": 29,
   "metadata": {},
   "outputs": [],
   "source": [
    "# Make a mask of ticket fare\n",
    "fare_mask = {}\n",
    "for tic in df_fam['Ticket'].unique():\n",
    "    # subgroup with matching tickets\n",
    "    tic_grp = df_fam.loc[df_fam['Ticket']==tic]\n",
    "    \n",
    "    # passenger class that the subgroup belongs to\n",
    "    c = tic_grp['Pclass'].values[0]\n",
    "    \n",
    "    # ticket fare of the subgroup\n",
    "    # all subgroup members have the same ticket fare initially\n",
    "    fare_grp = tic_grp['Fare'].values[0]\n",
    "    \n",
    "    # if a subgroup fare is 0 then assign a mean of the fare of the Pclass that the subgroup belongs to\n",
    "    if (fare_grp == 0) or (fare_grp is None):\n",
    "        fare_i = np.mean(df_fam.loc[df_fam['Pclass']==c, 'Fare'])\n",
    "        for pid in tic_grp['PassengerId']:\n",
    "            fare_mask[pid] = fare_i\n",
    "\n",
    "    # recalculate fare for subrgoup members: fare_i = group_fare / n_members\n",
    "    if len(tic_grp.index) > 1:\n",
    "        if fare_grp > 0:\n",
    "            \n",
    "            if np.mean(tic_grp['Fare'])==fare_grp: #check if all group members have same fare\n",
    "                fare_i = fare_grp / len(tic_grp.index)\n",
    "                for pid in tic_grp['PassengerId']:\n",
    "                    fare_mask[pid] = fare_i\n",
    "            else:\n",
    "                for pid in tic_grp['PassengerId']:\n",
    "                    fare_mask[pid] = tic_grp.loc[tic_grp['PassengerId']==pid, 'Fare'].values[0]\n",
    "    # keep fare value for passengers with unuque tickets\n",
    "    else:\n",
    "        if fare_grp > 0:\n",
    "            fare_i = fare_grp\n",
    "            for pid in tic_grp['PassengerId']:\n",
    "                fare_mask[pid] = fare_i"
   ]
  },
  {
   "cell_type": "code",
   "execution_count": 30,
   "metadata": {},
   "outputs": [],
   "source": [
    "# Make a mask of ticket codes\n",
    "m_tickets = []\n",
    "for tic in df_fam['Ticket'].unique():\n",
    "    if len(df_fam.loc[df_fam['Ticket']==tic].index) > 1:\n",
    "        m_tickets.append(tic)\n",
    "\n",
    "ticket_mask = {}        \n",
    "for pid in df_fam['PassengerId']:\n",
    "    tic = df_fam.loc[df_fam['PassengerId']==pid, 'Ticket'].values[0]\n",
    "    if tic in m_tickets:\n",
    "        ticket_mask[pid] = m_tickets.index(tic) + 1\n",
    "    else:\n",
    "        ticket_mask[pid] = 0"
   ]
  },
  {
   "cell_type": "code",
   "execution_count": 31,
   "metadata": {},
   "outputs": [],
   "source": [
    "# Encode family groups\n",
    "# This function adds new class variable 'fgrp' that indicates a group that a passenger belongs to.\n",
    "def family_groups_encoder(data, fgrp_mask):\n",
    "    data['fgrp'] = data['PassengerId'].apply(lambda i: fgrp_mask[i])\n",
    "    return data\n",
    "\n",
    "# Recalculate ticket fare in the family groups and fill missing values with a mean for corresponding passenger class.\n",
    "def fare_encoder(data, fare_mask):\n",
    "    data['Fare'] = data['PassengerId'].apply(lambda i: fare_mask[i])\n",
    "    return data\n",
    "\n",
    "# Encode tickets\n",
    "def ticket_encoder(data, ticket_mask):\n",
    "    data['Ticket'] = data['PassengerId'].apply(lambda i: ticket_mask[i])\n",
    "    return data"
   ]
  },
  {
   "cell_type": "markdown",
   "metadata": {},
   "source": [
    "### Transform numerical features"
   ]
  },
  {
   "cell_type": "code",
   "execution_count": 32,
   "metadata": {},
   "outputs": [],
   "source": [
    "# Log-transform 'Fare'\n",
    "def fare_transformer(data):\n",
    "    data['Fare'] = data['Fare'].apply(np.log)\n",
    "    return data"
   ]
  },
  {
   "cell_type": "markdown",
   "metadata": {},
   "source": [
    "### Other variables encoding"
   ]
  },
  {
   "cell_type": "code",
   "execution_count": 33,
   "metadata": {},
   "outputs": [],
   "source": [
    "# Encode 'Sex'\n",
    "def sex_encoder(data):\n",
    "    mask = {'male':0, 'female':1}\n",
    "    df = data['Sex'].apply(lambda i: mask[i])\n",
    "    return pd.concat([data.drop(columns=['Sex']), df], axis=1)\n",
    "\n",
    "# Add 'Family size'\n",
    "def fam_size(data):\n",
    "    data['famsize'] = data['SibSp'] + data['Parch']\n",
    "    data['famsize'] = data['famsize'].apply(lambda i: i if i<8 else 8)\n",
    "    return data\n",
    "\n",
    "#Encoding 'Pclass' (to labels 0,1,2)\n",
    "def pclass_encoder(data):\n",
    "    data['Pclass'] = data['Pclass'].apply(lambda i: i-1)\n",
    "    return data"
   ]
  },
  {
   "cell_type": "markdown",
   "metadata": {},
   "source": [
    "### Age prediction\n",
    "\n",
    "I want to use 2-step approach to predict missing values for Age.\n",
    "\n",
    "1. Use BayesianGaussianMixture to define clusters in the existing Age data and then train a classifier that will predict these cluster labels based on other features.\n",
    "2. Train a regression model that will predict Age values based on existing features and Age class labels."
   ]
  },
  {
   "cell_type": "code",
   "execution_count": 53,
   "metadata": {},
   "outputs": [],
   "source": [
    "# Log-transform 'Age'\n",
    "df_age = data_tot['Age'].dropna().copy().to_frame()\n",
    "df_age['Age_trans'] = df_age['Age'].apply(np.log)"
   ]
  },
  {
   "cell_type": "code",
   "execution_count": 54,
   "metadata": {},
   "outputs": [],
   "source": [
    "#Define clustering model\n",
    "age_clast_model = mix.BayesianGaussianMixture(n_components=3, \n",
    "                                              covariance_type='spherical', \n",
    "                                              init_params='kmeans', \n",
    "                                              weight_concentration_prior_type='dirichlet_distribution', \n",
    "                                              max_iter=1000,\n",
    "                                              random_state=30)"
   ]
  },
  {
   "cell_type": "code",
   "execution_count": 55,
   "metadata": {},
   "outputs": [],
   "source": [
    "#Predict cluster labels\n",
    "X = df_age['Age_trans'].to_frame()\n",
    "df_age['Age_cls'] = age_clast_model.fit_predict(X)\n",
    "df_age['Age_cls'] = df_age['Age_cls'].astype(int)"
   ]
  },
  {
   "cell_type": "code",
   "execution_count": 56,
   "metadata": {
    "jupyter": {
     "source_hidden": true
    }
   },
   "outputs": [
    {
     "data": {
      "image/png": "[encoded data removed]",
      "text/plain": [
       "<Figure size 1152x288 with 2 Axes>"
      ]
     },
     "metadata": {
      "needs_background": "light"
     },
     "output_type": "display_data"
    }
   ],
   "source": [
    "fig = plt.figure()\n",
    "fig.set_size_inches(16,4)\n",
    "\n",
    "fig.add_subplot(1,2,1)\n",
    "ax = sns.scatterplot(x='Age_cls', y='Age_trans', data=df_age)\n",
    "ax.spines['top'].set_visible(False)\n",
    "ax.spines['right'].set_visible(False)\n",
    "ttl = ax.title\n",
    "ttl.set_position([.5, 1.07])\n",
    "a=ax.set_title('Clusters vs Age (transformed)')\n",
    "\n",
    "fig.add_subplot(1,2,2)\n",
    "ax = sns.scatterplot(x='Age_cls', y='Age', data=df_age)\n",
    "ax.spines['top'].set_visible(False)\n",
    "ax.spines['right'].set_visible(False)\n",
    "ttl = ax.title\n",
    "ttl.set_position([.5, 1.07])\n",
    "a=ax.set_title('Clusters vs Age (not transformed)')"
   ]
  },
  {
   "cell_type": "markdown",
   "metadata": {},
   "source": [
    "#### Distributions within clasters (age - transformed)"
   ]
  },
  {
   "cell_type": "code",
   "execution_count": 57,
   "metadata": {},
   "outputs": [
    {
     "data": {
      "image/png": "[encoded data removed]",
      "text/plain": [
       "<Figure size 1728x288 with 3 Axes>"
      ]
     },
     "metadata": {
      "needs_background": "light"
     },
     "output_type": "display_data"
    }
   ],
   "source": [
    "grd = sorted(df_age['Age_cls'].unique())\n",
    "grd_n = len(grd)\n",
    "grd_cols_n = 2\n",
    "grd_rows_n = int(math.ceil(grd_n / grd_cols_n))\n",
    "\n",
    "plt_h = 2\n",
    "plt_w = 12\n",
    "\n",
    "\n",
    "fig = plt.figure()\n",
    "fig.set_size_inches(plt_w * grd_cols_n, plt_h * grd_rows_n)\n",
    "gs = gridspec.GridSpec(grd_rows_n, grd_cols_n, figure=fig, wspace=0.3, hspace=0.8)\n",
    "\n",
    "for idx, c in enumerate(grd):\n",
    "    fig.add_subplot(gs[idx])\n",
    "    df = df_age.loc[df_age['Age_cls']==c, 'Age_trans']\n",
    "    ax = sns.distplot(df,\n",
    "                 bins=25, kde=True, norm_hist=True, rug=True, \n",
    "                 rug_kws={'color':'r'},\n",
    "                 hist_kws={'histtype':'bar', 'linewidth': 3, 'color': \"b\"})\n",
    "    ax.spines['top'].set_visible(False)\n",
    "    ax.spines['right'].set_visible(False)\n",
    "    ttl = ax.title\n",
    "    ttl.set_position([.5, 1.07])\n",
    "    ax.set_title('Class: {0}'.format(c))"
   ]
  },
  {
   "cell_type": "markdown",
   "metadata": {},
   "source": [
    "#### Distributions within clasters (age - not transformed)"
   ]
  },
  {
   "cell_type": "code",
   "execution_count": 58,
   "metadata": {},
   "outputs": [
    {
     "data": {
      "image/png": "[encoded data removed]",
      "text/plain": [
       "<Figure size 1728x288 with 3 Axes>"
      ]
     },
     "metadata": {
      "needs_background": "light"
     },
     "output_type": "display_data"
    }
   ],
   "source": [
    "grd = sorted(df_age['Age_cls'].unique())\n",
    "grd_n = len(grd)\n",
    "grd_cols_n = 2\n",
    "grd_rows_n = int(math.ceil(grd_n / grd_cols_n))\n",
    "\n",
    "plt_h = 2\n",
    "plt_w = 12\n",
    "\n",
    "\n",
    "fig = plt.figure()\n",
    "fig.set_size_inches(plt_w * grd_cols_n, plt_h * grd_rows_n)\n",
    "gs = gridspec.GridSpec(grd_rows_n, grd_cols_n, figure=fig, wspace=0.3, hspace=0.8)\n",
    "\n",
    "for idx, c in enumerate(grd):\n",
    "    fig.add_subplot(gs[idx])\n",
    "    df = df_age.loc[df_age['Age_cls']==c, 'Age']\n",
    "    ax = sns.distplot(df,\n",
    "                 bins=25, kde=True, norm_hist=True, rug=True, \n",
    "                 rug_kws={'color':'r'},\n",
    "                 hist_kws={'histtype':'bar', 'linewidth': 3, 'color': \"b\"})\n",
    "    ax.spines['top'].set_visible(False)\n",
    "    ax.spines['right'].set_visible(False)\n",
    "    ttl = ax.title\n",
    "    ttl.set_position([.5, 1.07])\n",
    "    ax.set_title('Class: {0}'.format(c))"
   ]
  },
  {
   "cell_type": "code",
   "execution_count": 59,
   "metadata": {},
   "outputs": [],
   "source": [
    "def age_transformer(data, model):\n",
    "    data['Age_trans'] = data['Age'].apply(np.log)\n",
    "    X = data['Age_trans'].to_frame()\n",
    "    data['Age_cls'] = model.predict(X)\n",
    "    data['Age_cls'] = data['Age_cls'].astype(int)\n",
    "    return data"
   ]
  },
  {
   "cell_type": "markdown",
   "metadata": {},
   "source": [
    "### Predict missing missing values for age"
   ]
  },
  {
   "cell_type": "code",
   "execution_count": 60,
   "metadata": {},
   "outputs": [],
   "source": [
    "data = family_groups_encoder(data_tot.copy(), fgrp_mask)\n",
    "data = fare_encoder(data, fare_mask)\n",
    "data = fare_transformer(data)\n",
    "\n",
    "data = ticket_encoder(data, ticket_mask)\n",
    "\n",
    "data = title_encoder(data)\n",
    "data = sex_encoder(data)\n",
    "data = fam_size(data)\n",
    "data = embarked_encoder(data)\n",
    "data = pclass_encoder(data)\n",
    "\n",
    "data = data[data['Age'].notna()].copy()\n",
    "data = age_transformer(data, age_clast_model)\n",
    "\n",
    "data = data[['Age', 'Age_cls', 'Fare', 'Sex', 'ttl', 'fgrp', 'famsize', 'Ticket', 'Pclass', 'Embarked']]"
   ]
  },
  {
   "cell_type": "markdown",
   "metadata": {},
   "source": [
    "#### Plot correlation matrix:"
   ]
  },
  {
   "cell_type": "code",
   "execution_count": 61,
   "metadata": {},
   "outputs": [
    {
     "data": {
      "image/png": "[encoded data removed]",
      "text/plain": [
       "<Figure size 576x576 with 2 Axes>"
      ]
     },
     "metadata": {
      "needs_background": "light"
     },
     "output_type": "display_data"
    }
   ],
   "source": [
    "fig = plt.figure()\n",
    "fig.set_size_inches(8, 8)\n",
    "corr_matrix = data.corr()\n",
    "plot_correlation_matrix(ax=fig.add_subplot(1,1,1), data=corr_matrix, cmap='coolwarm')"
   ]
  },
  {
   "cell_type": "markdown",
   "metadata": {},
   "source": [
    "#### Train model for age class prediction"
   ]
  },
  {
   "cell_type": "code",
   "execution_count": 62,
   "metadata": {
    "scrolled": true
   },
   "outputs": [],
   "source": [
    "X = data.drop(columns=['Age', 'Age_cls'])\n",
    "y = data['Age_cls']"
   ]
  },
  {
   "cell_type": "code",
   "execution_count": 63,
   "metadata": {},
   "outputs": [
    {
     "data": {
      "text/plain": [
       "Index(['Fare', 'Sex', 'ttl', 'fgrp', 'famsize', 'Ticket', 'Pclass',\n",
       "       'Embarked'],\n",
       "      dtype='object')"
      ]
     },
     "execution_count": 63,
     "metadata": {},
     "output_type": "execute_result"
    }
   ],
   "source": [
    "X.columns"
   ]
  },
  {
   "cell_type": "code",
   "execution_count": 64,
   "metadata": {},
   "outputs": [],
   "source": [
    "def roc_auc_score_ovr(y_true, y_score):\n",
    "    return metrics.roc_auc_score(y_true, y_score, average='macro', sample_weight=None, max_fpr=None,\n",
    "                                 multi_class='ovr', labels=None)\n",
    "\n",
    "def roc_auc_score_ovo(y_true, y_score):\n",
    "    return metrics.roc_auc_score(y_true, y_score, average='macro', sample_weight=None, max_fpr=None,\n",
    "                                 multi_class='ovo', labels=None)"
   ]
  },
  {
   "cell_type": "code",
   "execution_count": 65,
   "metadata": {},
   "outputs": [],
   "source": [
    "#common random_state\n",
    "random_state=30\n",
    "\n",
    "#cross validation strategy\n",
    "cv = model_selection.StratifiedShuffleSplit(n_splits=10, test_size=0.3, train_size=0.6, random_state=random_state)\n",
    "\n",
    "#cross validation metrics\n",
    "scoring = {'balanced_accuracy': 'balanced_accuracy',\n",
    "           'roc_auc_ovr':  metrics.make_scorer(roc_auc_score_ovr, needs_proba=True),\n",
    "           'roc_auc_ovo':  metrics.make_scorer(roc_auc_score_ovo, needs_proba=True),\n",
    "           'precision_macro': 'precision_macro'}\n",
    "refit = 'roc_auc_ovr'"
   ]
  },
  {
   "cell_type": "markdown",
   "metadata": {},
   "source": [
    "##### Initial model"
   ]
  },
  {
   "cell_type": "code",
   "execution_count": 66,
   "metadata": {},
   "outputs": [
    {
     "data": {
      "text/html": [
       "<div>\n",
       "<style scoped>\n",
       "    .dataframe tbody tr th:only-of-type {\n",
       "        vertical-align: middle;\n",
       "    }\n",
       "\n",
       "    .dataframe tbody tr th {\n",
       "        vertical-align: top;\n",
       "    }\n",
       "\n",
       "    .dataframe thead th {\n",
       "        text-align: right;\n",
       "    }\n",
       "</style>\n",
       "<table border=\"1\" class=\"dataframe\">\n",
       "  <thead>\n",
       "    <tr style=\"text-align: right;\">\n",
       "      <th></th>\n",
       "      <th>balanced_accuracy</th>\n",
       "      <th>roc_auc_ovr</th>\n",
       "      <th>roc_auc_ovo</th>\n",
       "      <th>precision_macro</th>\n",
       "    </tr>\n",
       "  </thead>\n",
       "  <tbody>\n",
       "    <tr>\n",
       "      <th>mean_train</th>\n",
       "      <td>0.773038</td>\n",
       "      <td>0.872537</td>\n",
       "      <td>0.914197</td>\n",
       "      <td>0.755189</td>\n",
       "    </tr>\n",
       "    <tr>\n",
       "      <th>std_train</th>\n",
       "      <td>0.007318</td>\n",
       "      <td>0.005321</td>\n",
       "      <td>0.004704</td>\n",
       "      <td>0.012687</td>\n",
       "    </tr>\n",
       "    <tr>\n",
       "      <th>mean_test</th>\n",
       "      <td>0.731562</td>\n",
       "      <td>0.834598</td>\n",
       "      <td>0.887808</td>\n",
       "      <td>0.700383</td>\n",
       "    </tr>\n",
       "    <tr>\n",
       "      <th>std_test</th>\n",
       "      <td>0.019142</td>\n",
       "      <td>0.017756</td>\n",
       "      <td>0.014903</td>\n",
       "      <td>0.033610</td>\n",
       "    </tr>\n",
       "  </tbody>\n",
       "</table>\n",
       "</div>"
      ],
      "text/plain": [
       "            balanced_accuracy  roc_auc_ovr  roc_auc_ovo  precision_macro\n",
       "mean_train           0.773038     0.872537     0.914197         0.755189\n",
       "std_train            0.007318     0.005321     0.004704         0.012687\n",
       "mean_test            0.731562     0.834598     0.887808         0.700383\n",
       "std_test             0.019142     0.017756     0.014903         0.033610"
      ]
     },
     "execution_count": 66,
     "metadata": {},
     "output_type": "execute_result"
    }
   ],
   "source": [
    "params = {'learning_rate': 0.1, \n",
    "          'n_estimators': 25,\n",
    "          'min_weight_fraction_leaf': 0.099, \n",
    "          'min_impurity_decrease': 0.05,\n",
    "          'max_depth': 4,\n",
    "          'subsample': 1.0,\n",
    "          'ccp_alpha': 0.0}\n",
    "\n",
    "age_cls_model = ens.GradientBoostingClassifier(loss='deviance', criterion='friedman_mse', \n",
    "                                               random_state=random_state, **params)\n",
    "cv_rep(age_cls_model, X, y, cv, scoring)"
   ]
  },
  {
   "cell_type": "markdown",
   "metadata": {},
   "source": [
    "##### Tune parameters"
   ]
  },
  {
   "cell_type": "code",
   "execution_count": 217,
   "metadata": {},
   "outputs": [
    {
     "name": "stdout",
     "output_type": "stream",
     "text": [
      "            balanced_accuracy  roc_auc_ovr  roc_auc_ovo  precision_macro\n",
      "mean_train           0.813961     0.895783     0.927829         0.800968\n",
      "std_train            0.006383     0.002708     0.002401         0.011050\n",
      "mean_test            0.741475     0.834445     0.891237         0.755926\n",
      "std_test             0.024806     0.013762     0.012268         0.035005\n",
      "{'learning_rate': 0.10351282051282051, 'n_estimators': 25}\n"
     ]
    }
   ],
   "source": [
    "param_ranges = {'learning_rate': np.linspace(0.001, 2, 40), 'n_estimators': np.arange(5, 100, 20)}\n",
    "age_cls_model, scores = train_best_model(age_cls_model, param_ranges, X, y, scoring, cv, refit=refit)"
   ]
  },
  {
   "cell_type": "code",
   "execution_count": 218,
   "metadata": {},
   "outputs": [
    {
     "name": "stdout",
     "output_type": "stream",
     "text": [
      "            balanced_accuracy  roc_auc_ovr  roc_auc_ovo  precision_macro\n",
      "mean_train           0.807140     0.873549     0.932800         0.858260\n",
      "std_train            0.008867     0.004988     0.002136         0.005161\n",
      "mean_test            0.737756     0.835782     0.890787         0.740880\n",
      "std_test             0.020965     0.017971     0.013299         0.024067\n",
      "{'min_impurity_decrease': 0.04620769230769231, 'min_weight_fraction_leaf': 0.09794871794871796}\n"
     ]
    }
   ],
   "source": [
    "param_ranges = {'min_weight_fraction_leaf': np.linspace(0.001, 0.2, 40), 'min_impurity_decrease': np.linspace(0.0001, 0.1, 40)}\n",
    "age_cls_model, scores = train_best_model(age_cls_model, param_ranges, X, y, scoring, cv, refit=refit)"
   ]
  },
  {
   "cell_type": "code",
   "execution_count": 219,
   "metadata": {},
   "outputs": [
    {
     "name": "stdout",
     "output_type": "stream",
     "text": [
      "            balanced_accuracy  roc_auc_ovr  roc_auc_ovo  precision_macro\n",
      "mean_train           0.770329     0.873549     0.914540         0.761902\n",
      "std_train            0.010318     0.004988     0.003866         0.010393\n",
      "mean_test            0.737462     0.835782     0.889384         0.727031\n",
      "std_test             0.020546     0.017971     0.014007         0.031261\n",
      "{'max_depth': 4, 'subsample': 1.0}\n"
     ]
    }
   ],
   "source": [
    "param_ranges = {'subsample': np.linspace(0.1, 1.0, 50), 'max_depth': np.arange(3, 10)}\n",
    "age_cls_model, scores = train_best_model(age_cls_model, param_ranges, X, y, scoring, cv, refit=refit)"
   ]
  },
  {
   "cell_type": "code",
   "execution_count": 220,
   "metadata": {},
   "outputs": [
    {
     "name": "stdout",
     "output_type": "stream",
     "text": [
      "            balanced_accuracy  roc_auc_ovr  roc_auc_ovo  precision_macro\n",
      "mean_train           0.775099     0.873549     0.915076         0.762602\n",
      "std_train            0.006184     0.004988     0.004249         0.012823\n",
      "mean_test            0.732548     0.835782     0.888968         0.705425\n",
      "std_test             0.023170     0.017971     0.015052         0.033243\n",
      "{'ccp_alpha': 1e-05}\n"
     ]
    }
   ],
   "source": [
    "param_ranges = {'ccp_alpha': np.linspace(0.00001,0.0001, 99)}\n",
    "age_cls_model, scores = train_best_model(age_cls_model, param_ranges, X, y, scoring, cv, refit=refit)"
   ]
  },
  {
   "cell_type": "code",
   "execution_count": 67,
   "metadata": {},
   "outputs": [
    {
     "data": {
      "text/plain": [
       "GradientBoostingClassifier(ccp_alpha=0.0, criterion='friedman_mse', init=None,\n",
       "                           learning_rate=0.1, loss='deviance', max_depth=4,\n",
       "                           max_features=None, max_leaf_nodes=None,\n",
       "                           min_impurity_decrease=0.05, min_impurity_split=None,\n",
       "                           min_samples_leaf=1, min_samples_split=2,\n",
       "                           min_weight_fraction_leaf=0.099, n_estimators=25,\n",
       "                           n_iter_no_change=None, presort='deprecated',\n",
       "                           random_state=30, subsample=1.0, tol=0.0001,\n",
       "                           validation_fraction=0.1, verbose=0,\n",
       "                           warm_start=False)"
      ]
     },
     "execution_count": 67,
     "metadata": {},
     "output_type": "execute_result"
    }
   ],
   "source": [
    "age_cls_model.fit(X,y)"
   ]
  },
  {
   "cell_type": "markdown",
   "metadata": {},
   "source": [
    "#### Train model for age prediction"
   ]
  },
  {
   "cell_type": "code",
   "execution_count": 68,
   "metadata": {
    "scrolled": true
   },
   "outputs": [],
   "source": [
    "# train test split\n",
    "X = data.drop(columns=['Age'])\n",
    "y = data['Age']"
   ]
  },
  {
   "cell_type": "code",
   "execution_count": 69,
   "metadata": {},
   "outputs": [
    {
     "data": {
      "text/plain": [
       "Index(['Age_cls', 'Fare', 'Sex', 'ttl', 'fgrp', 'famsize', 'Ticket', 'Pclass',\n",
       "       'Embarked'],\n",
       "      dtype='object')"
      ]
     },
     "execution_count": 69,
     "metadata": {},
     "output_type": "execute_result"
    }
   ],
   "source": [
    "X.columns"
   ]
  },
  {
   "cell_type": "code",
   "execution_count": 70,
   "metadata": {},
   "outputs": [],
   "source": [
    "#common random_state\n",
    "random_state=30\n",
    "\n",
    "#cross validation strategy\n",
    "cv = model_selection.RepeatedKFold(n_splits=5, n_repeats=10, random_state=random_state)\n",
    "\n",
    "#cross validation metrics\n",
    "scoring = {'explained_variance':  'explained_variance', 'r2': 'r2'}\n",
    "refit='r2'"
   ]
  },
  {
   "cell_type": "markdown",
   "metadata": {},
   "source": [
    "##### Initial model"
   ]
  },
  {
   "cell_type": "code",
   "execution_count": 71,
   "metadata": {},
   "outputs": [
    {
     "data": {
      "text/html": [
       "<div>\n",
       "<style scoped>\n",
       "    .dataframe tbody tr th:only-of-type {\n",
       "        vertical-align: middle;\n",
       "    }\n",
       "\n",
       "    .dataframe tbody tr th {\n",
       "        vertical-align: top;\n",
       "    }\n",
       "\n",
       "    .dataframe thead th {\n",
       "        text-align: right;\n",
       "    }\n",
       "</style>\n",
       "<table border=\"1\" class=\"dataframe\">\n",
       "  <thead>\n",
       "    <tr style=\"text-align: right;\">\n",
       "      <th></th>\n",
       "      <th>explained_variance</th>\n",
       "      <th>r2</th>\n",
       "    </tr>\n",
       "  </thead>\n",
       "  <tbody>\n",
       "    <tr>\n",
       "      <th>mean_train</th>\n",
       "      <td>0.830083</td>\n",
       "      <td>0.830083</td>\n",
       "    </tr>\n",
       "    <tr>\n",
       "      <th>std_train</th>\n",
       "      <td>0.004575</td>\n",
       "      <td>0.004575</td>\n",
       "    </tr>\n",
       "    <tr>\n",
       "      <th>mean_test</th>\n",
       "      <td>0.782566</td>\n",
       "      <td>0.781170</td>\n",
       "    </tr>\n",
       "    <tr>\n",
       "      <th>std_test</th>\n",
       "      <td>0.023180</td>\n",
       "      <td>0.023503</td>\n",
       "    </tr>\n",
       "  </tbody>\n",
       "</table>\n",
       "</div>"
      ],
      "text/plain": [
       "            explained_variance        r2\n",
       "mean_train            0.830083  0.830083\n",
       "std_train             0.004575  0.004575\n",
       "mean_test             0.782566  0.781170\n",
       "std_test              0.023180  0.023503"
      ]
     },
     "execution_count": 71,
     "metadata": {},
     "output_type": "execute_result"
    }
   ],
   "source": [
    "params = {'learning_rate': 0.1, \n",
    "          'n_estimators': 55,\n",
    "          'min_weight_fraction_leaf': 0.001, \n",
    "          'min_impurity_decrease': 0.5,\n",
    "          'max_depth': 3,\n",
    "          'subsample': 1.0,\n",
    "          'ccp_alpha': 0.001}\n",
    "\n",
    "age_reg_mogel = ens.GradientBoostingRegressor(loss='ls', criterion='friedman_mse', random_state=random_state, **params)\n",
    "cv_rep(age_reg_mogel, X, y, cv, scoring)"
   ]
  },
  {
   "cell_type": "markdown",
   "metadata": {},
   "source": [
    "##### Tune parameters"
   ]
  },
  {
   "cell_type": "code",
   "execution_count": 226,
   "metadata": {},
   "outputs": [
    {
     "name": "stdout",
     "output_type": "stream",
     "text": [
      "            explained_variance        r2\n",
      "mean_train            0.866729  0.866728\n",
      "std_train             0.005666  0.005666\n",
      "mean_test             0.804596  0.803304\n",
      "std_test              0.038223  0.038623\n",
      "{'learning_rate': 0.1, 'n_estimators': 55}\n"
     ]
    }
   ],
   "source": [
    "param_ranges = {'learning_rate': np.linspace(0.01, 0.1, 40), 'n_estimators': np.arange(5, 100, 25)}\n",
    "age_reg_mogel, scores = train_best_model(age_reg_mogel, param_ranges, X, y, scoring, cv, refit=refit)"
   ]
  },
  {
   "cell_type": "code",
   "execution_count": 227,
   "metadata": {},
   "outputs": [
    {
     "name": "stdout",
     "output_type": "stream",
     "text": [
      "            explained_variance        r2\n",
      "mean_train            0.866729  0.866728\n",
      "std_train             0.005666  0.005666\n",
      "mean_test             0.804596  0.803304\n",
      "std_test              0.038223  0.038623\n",
      "{'min_impurity_decrease': 0.5, 'min_weight_fraction_leaf': 0.001}\n"
     ]
    }
   ],
   "source": [
    "param_ranges = {'min_weight_fraction_leaf': np.linspace(0.001, 0.2, 40), 'min_impurity_decrease': np.linspace(0.001, 0.5, 40)}\n",
    "age_reg_mogel, scores = train_best_model(age_reg_mogel, param_ranges, X, y, scoring, cv, refit=refit)"
   ]
  },
  {
   "cell_type": "code",
   "execution_count": 228,
   "metadata": {},
   "outputs": [
    {
     "name": "stdout",
     "output_type": "stream",
     "text": [
      "            explained_variance        r2\n",
      "mean_train            0.865851  0.865851\n",
      "std_train             0.006208  0.006208\n",
      "mean_test             0.804744  0.803436\n",
      "std_test              0.039393  0.039883\n",
      "{'max_depth': 3, 'subsample': 0.926530612244898}\n"
     ]
    }
   ],
   "source": [
    "param_ranges = {'max_depth': np.arange(2,10), 'subsample': np.linspace(0.1, 1.0, 50)}\n",
    "age_reg_mogel, scores = train_best_model(age_reg_mogel, param_ranges, X, y, scoring, cv, refit=refit)"
   ]
  },
  {
   "cell_type": "code",
   "execution_count": 229,
   "metadata": {},
   "outputs": [
    {
     "name": "stdout",
     "output_type": "stream",
     "text": [
      "            explained_variance        r2\n",
      "mean_train            0.864902  0.860830\n",
      "std_train             0.006237  0.006014\n",
      "mean_test             0.805026  0.803720\n",
      "std_test              0.039804  0.038274\n",
      "{'ccp_alpha': 0.001312244897959184}\n"
     ]
    }
   ],
   "source": [
    "param_ranges = {'ccp_alpha': np.linspace(0.0001, 0.01, 99)}\n",
    "age_reg_mogel, scores = train_best_model(age_reg_mogel, param_ranges, X, y, scoring, cv, refit=refit)"
   ]
  },
  {
   "cell_type": "code",
   "execution_count": 72,
   "metadata": {},
   "outputs": [
    {
     "data": {
      "text/plain": [
       "GradientBoostingRegressor(alpha=0.9, ccp_alpha=0.001, criterion='friedman_mse',\n",
       "                          init=None, learning_rate=0.1, loss='ls', max_depth=3,\n",
       "                          max_features=None, max_leaf_nodes=None,\n",
       "                          min_impurity_decrease=0.5, min_impurity_split=None,\n",
       "                          min_samples_leaf=1, min_samples_split=2,\n",
       "                          min_weight_fraction_leaf=0.001, n_estimators=55,\n",
       "                          n_iter_no_change=None, presort='deprecated',\n",
       "                          random_state=30, subsample=1.0, tol=0.0001,\n",
       "                          validation_fraction=0.1, verbose=0, warm_start=False)"
      ]
     },
     "execution_count": 72,
     "metadata": {},
     "output_type": "execute_result"
    }
   ],
   "source": [
    "age_reg_mogel.fit(X,y)"
   ]
  },
  {
   "cell_type": "code",
   "execution_count": 586,
   "metadata": {},
   "outputs": [],
   "source": [
    "# Save model\n",
    "# pickle.dump(age_reg_mogel, open('age_reg_mogel.mdl', 'wb'))"
   ]
  },
  {
   "cell_type": "code",
   "execution_count": 79,
   "metadata": {},
   "outputs": [],
   "source": [
    "#Age encoder (predict missing vakues and log-transform)\n",
    "def age_predictor(data, age_cls_model, age_reg_mogel):\n",
    "    cols = ['Fare', 'Sex', 'ttl', 'fgrp', 'famsize', 'Ticket', 'Pclass', 'Embarked']\n",
    "\n",
    "    data_na = data[data['Age'].isnull()].copy()\n",
    "    data_notna = data[data['Age'].notna()].copy()\n",
    "\n",
    "    # transform non-null age values\n",
    "    data_notna['Age'] = data_notna['Age'].apply(np.log)\n",
    "\n",
    "    # predict class labels\n",
    "    X = data_na[cols].copy()\n",
    "    X['Age_cls'] = age_cls_model.predict(X)\n",
    "\n",
    "    # predict age\n",
    "    data_na['Age'] = age_reg_mogel.predict(X)\n",
    "    return pd.concat([data_na, data_notna])"
   ]
  },
  {
   "cell_type": "markdown",
   "metadata": {},
   "source": [
    "## Predict survivals"
   ]
  },
  {
   "cell_type": "markdown",
   "metadata": {},
   "source": [
    "#### Preprocessind data"
   ]
  },
  {
   "cell_type": "code",
   "execution_count": 80,
   "metadata": {},
   "outputs": [],
   "source": [
    "data = family_groups_encoder(data_train.copy(), fgrp_mask)\n",
    "data = fare_encoder(data, fare_mask)\n",
    "data = fare_transformer(data)\n",
    "\n",
    "data = ticket_encoder(data, ticket_mask)\n",
    "data = title_encoder(data)\n",
    "data = sex_encoder(data)\n",
    "data = fam_size(data)\n",
    "data = embarked_encoder(data)\n",
    "data = pclass_encoder(data)\n",
    "\n",
    "data = age_predictor(data, age_cls_model, age_reg_mogel)\n",
    "\n",
    "data = data[['PassengerId', 'Survived', 'Age', 'Fare', 'Sex', 'ttl', 'fgrp', 'famsize', 'Ticket', 'Pclass', 'Embarked']]"
   ]
  },
  {
   "cell_type": "markdown",
   "metadata": {},
   "source": [
    "#### Plot correlation matrix:"
   ]
  },
  {
   "cell_type": "code",
   "execution_count": 81,
   "metadata": {},
   "outputs": [
    {
     "data": {
      "image/png": "[encoded data removed]",
      "text/plain": [
       "<Figure size 576x576 with 2 Axes>"
      ]
     },
     "metadata": {
      "needs_background": "light"
     },
     "output_type": "display_data"
    }
   ],
   "source": [
    "fig = plt.figure()\n",
    "fig.set_size_inches(8, 8)\n",
    "corr_matrix = data.drop(columns='PassengerId').corr()\n",
    "plot_correlation_matrix(ax=fig.add_subplot(1,1,1), data=corr_matrix, cmap='coolwarm')"
   ]
  },
  {
   "cell_type": "markdown",
   "metadata": {},
   "source": [
    "#### Train base estimators for stacking model"
   ]
  },
  {
   "cell_type": "code",
   "execution_count": 82,
   "metadata": {
    "scrolled": true
   },
   "outputs": [],
   "source": [
    "X = data.drop(columns=['Survived', 'PassengerId'])\n",
    "y = data['Survived']"
   ]
  },
  {
   "cell_type": "code",
   "execution_count": 83,
   "metadata": {},
   "outputs": [],
   "source": [
    "#common random_state\n",
    "random_state=30\n",
    "#cross validation strategy\n",
    "cv = model_selection.StratifiedShuffleSplit(n_splits=10, test_size=0.3, train_size=0.6, random_state=random_state)\n",
    "#cross validation metrics\n",
    "scoring = {'balanced_accuracy': 'balanced_accuracy', \n",
    "           'roc_auc':  'roc_auc',\n",
    "           'precision_macro': 'precision_macro'}\n",
    "refit = 'roc_auc'"
   ]
  },
  {
   "cell_type": "code",
   "execution_count": 84,
   "metadata": {},
   "outputs": [],
   "source": [
    "n = len(y)\n",
    "class_priors = {}\n",
    "class_weights = {}\n",
    "for i in y.unique():\n",
    "    class_priors[i] = len(y.loc[y==i]) / n\n",
    "    class_weights[i] = 1- class_priors[i]"
   ]
  },
  {
   "cell_type": "code",
   "execution_count": 85,
   "metadata": {},
   "outputs": [],
   "source": [
    "base_scores = {}"
   ]
  },
  {
   "cell_type": "markdown",
   "metadata": {},
   "source": [
    "#### LinearDiscriminantAnalysis"
   ]
  },
  {
   "cell_type": "code",
   "execution_count": 88,
   "metadata": {},
   "outputs": [
    {
     "name": "stdout",
     "output_type": "stream",
     "text": [
      "            balanced_accuracy   roc_auc  precision_macro\n",
      "mean_train           0.808775  0.869546         0.819865\n",
      "std_train            0.013135  0.013891         0.012587\n",
      "mean_test            0.792851  0.862792         0.808007\n",
      "std_test             0.024264  0.023125         0.022538\n"
     ]
    }
   ],
   "source": [
    "lda = disan.LinearDiscriminantAnalysis(solver='lsqr', shrinkage='auto')\n",
    "scores = cv_rep(lda, X, y, cv, scoring)\n",
    "base_scores['lda'] = [scores.loc['mean_test', refit], scores.loc['mean_train', refit]]\n",
    "print(scores)"
   ]
  },
  {
   "cell_type": "code",
   "execution_count": 89,
   "metadata": {},
   "outputs": [],
   "source": [
    "base_scores['lda'] = [scores.loc['mean_test', refit], scores.loc['mean_train', refit]]"
   ]
  },
  {
   "cell_type": "markdown",
   "metadata": {},
   "source": [
    "#### QuadraticDiscriminantAnalysis"
   ]
  },
  {
   "cell_type": "code",
   "execution_count": 90,
   "metadata": {},
   "outputs": [
    {
     "name": "stdout",
     "output_type": "stream",
     "text": [
      "            balanced_accuracy   roc_auc  precision_macro\n",
      "mean_train           0.809147  0.863105         0.811271\n",
      "std_train            0.012868  0.012509         0.012799\n",
      "mean_test            0.794872  0.849164         0.799620\n",
      "std_test             0.025036  0.025143         0.028949\n"
     ]
    }
   ],
   "source": [
    "qda = disan.QuadraticDiscriminantAnalysis(priors=[class_priors[0], class_priors[1]], reg_param=0.08989795918367348)\n",
    "scores = cv_rep(qda, X, y, cv, scoring)\n",
    "base_scores['qda'] = [scores.loc['mean_test', refit], scores.loc['mean_train', refit]]\n",
    "print(scores)"
   ]
  },
  {
   "cell_type": "code",
   "execution_count": 916,
   "metadata": {},
   "outputs": [
    {
     "name": "stdout",
     "output_type": "stream",
     "text": [
      "            balanced_accuracy   roc_auc  precision_macro\n",
      "mean_train           0.810073  0.859971         0.817108\n",
      "std_train            0.008741  0.013245         0.009548\n",
      "mean_test            0.792498  0.853195         0.801482\n",
      "std_test             0.020096  0.025425         0.018406\n",
      "{'reg_param': 0.09292857142857143}\n"
     ]
    }
   ],
   "source": [
    "param_ranges = {'reg_param': np.linspace(0.001,0.1,99)}\n",
    "qda, scores = train_best_model(qda, param_ranges, X, y, scoring, cv, refit=refit)"
   ]
  },
  {
   "cell_type": "code",
   "execution_count": 91,
   "metadata": {},
   "outputs": [],
   "source": [
    "base_scores['qda'] = [scores.loc['mean_test', refit], scores.loc['mean_train', refit]]"
   ]
  },
  {
   "cell_type": "markdown",
   "metadata": {},
   "source": [
    "#### AdaBoostClassifier"
   ]
  },
  {
   "cell_type": "code",
   "execution_count": 92,
   "metadata": {},
   "outputs": [
    {
     "name": "stdout",
     "output_type": "stream",
     "text": [
      "            balanced_accuracy   roc_auc  precision_macro\n",
      "mean_train           0.818144  0.877274         0.832255\n",
      "std_train            0.010721  0.011017         0.010182\n",
      "mean_test            0.802006  0.864978         0.819581\n",
      "std_test             0.022569  0.023358         0.022312\n"
     ]
    }
   ],
   "source": [
    "abc = ens.AdaBoostClassifier(algorithm='SAMME.R', \n",
    "                             learning_rate=0.07776923076923077,\n",
    "                             n_estimators=65,\n",
    "                             random_state=random_state)\n",
    "scores = cv_rep(abc, X, y, cv, scoring)\n",
    "base_scores['abc'] = [scores.loc['mean_test', refit], scores.loc['mean_train', refit]]\n",
    "print(scores)"
   ]
  },
  {
   "cell_type": "code",
   "execution_count": 918,
   "metadata": {},
   "outputs": [
    {
     "name": "stdout",
     "output_type": "stream",
     "text": [
      "            balanced_accuracy   roc_auc  precision_macro\n",
      "mean_train           0.821128  0.889999         0.838062\n",
      "std_train            0.012550  0.011414         0.015436\n",
      "mean_test            0.803098  0.866337         0.821434\n",
      "std_test             0.023386  0.021291         0.022570\n",
      "{'learning_rate': 0.09056410256410256, 'n_estimators': 85}\n"
     ]
    }
   ],
   "source": [
    "param_ranges = {'n_estimators': np.arange(5, 100, 20), 'learning_rate': np.linspace(0.001, 0.5, 40)}\n",
    "abc, scores = train_best_model(abc, param_ranges, X, y, scoring, cv, refit=refit)"
   ]
  },
  {
   "cell_type": "code",
   "execution_count": 93,
   "metadata": {},
   "outputs": [],
   "source": [
    "base_scores['abc'] = [scores.loc['mean_test', refit], scores.loc['mean_train', refit]]"
   ]
  },
  {
   "cell_type": "markdown",
   "metadata": {},
   "source": [
    "#### ExtraTreesClassifier"
   ]
  },
  {
   "cell_type": "code",
   "execution_count": 94,
   "metadata": {},
   "outputs": [
    {
     "name": "stdout",
     "output_type": "stream",
     "text": [
      "            balanced_accuracy   roc_auc  precision_macro\n",
      "mean_train           0.824799  0.910165         0.843455\n",
      "std_train            0.011227  0.009942         0.008565\n",
      "mean_test            0.794784  0.870330         0.816315\n",
      "std_test             0.024544  0.022119         0.022809\n"
     ]
    }
   ],
   "source": [
    "etc = ens.ExtraTreesClassifier(random_state=random_state, n_jobs=-1, criterion='entropy',\n",
    "                               n_estimators=75,\n",
    "                               max_depth=5,\n",
    "                               ccp_alpha=0.0)\n",
    "scores = cv_rep(etc, X, y, cv, scoring)\n",
    "base_scores['etc'] = [scores.loc['mean_test', refit], scores.loc['mean_train', refit]]\n",
    "print(scores)"
   ]
  },
  {
   "cell_type": "code",
   "execution_count": 920,
   "metadata": {},
   "outputs": [
    {
     "name": "stdout",
     "output_type": "stream",
     "text": [
      "            balanced_accuracy   roc_auc  precision_macro\n",
      "mean_train           0.836312  0.922787         0.886171\n",
      "std_train            0.012006  0.007406         0.010424\n",
      "mean_test            0.797758  0.874828         0.818034\n",
      "std_test             0.024243  0.018590         0.027277\n",
      "{'criterion': 'gini', 'max_depth': 6, 'n_estimators': 95}\n"
     ]
    }
   ],
   "source": [
    "param_ranges = {'criterion': ['gini', 'entropy'], \n",
    "                'n_estimators': np.arange(60, 100, 5),\n",
    "                'max_depth': np.arange(3, 10)}\n",
    "etc, scores = train_best_model(etc, param_ranges, X, y, scoring, cv, refit=refit)"
   ]
  },
  {
   "cell_type": "code",
   "execution_count": 921,
   "metadata": {},
   "outputs": [
    {
     "name": "stdout",
     "output_type": "stream",
     "text": [
      "            balanced_accuracy   roc_auc  precision_macro\n",
      "mean_train           0.829342  0.913324         0.846771\n",
      "std_train            0.010345  0.007920         0.008354\n",
      "mean_test            0.800003  0.871259         0.819395\n",
      "std_test             0.024620  0.020985         0.025026\n",
      "{'ccp_alpha': 0.001}\n"
     ]
    }
   ],
   "source": [
    "param_ranges = {'ccp_alpha': np.linspace(0.001,0.01, 60)}\n",
    "etc, scores = train_best_model(etc, param_ranges, X, y, scoring, cv, refit=refit)"
   ]
  },
  {
   "cell_type": "code",
   "execution_count": 95,
   "metadata": {},
   "outputs": [],
   "source": [
    "base_scores['etc'] = [scores.loc['mean_test', refit], scores.loc['mean_train', refit]]"
   ]
  },
  {
   "cell_type": "markdown",
   "metadata": {},
   "source": [
    "#### RandomForestClassifier"
   ]
  },
  {
   "cell_type": "code",
   "execution_count": 96,
   "metadata": {},
   "outputs": [
    {
     "name": "stdout",
     "output_type": "stream",
     "text": [
      "            balanced_accuracy   roc_auc  precision_macro\n",
      "mean_train           0.809418  0.862586         0.819760\n",
      "std_train            0.016471  0.017438         0.019010\n",
      "mean_test            0.788729  0.843760         0.801917\n",
      "std_test             0.022284  0.029901         0.023452\n"
     ]
    }
   ],
   "source": [
    "rfc = ens.RandomForestClassifier(random_state=random_state, n_jobs=-1, criterion='entropy',\n",
    "                                 n_estimators=20,\n",
    "                                 max_depth=5,\n",
    "                                 ccp_alpha=0.04)\n",
    "scores = cv_rep(rfc, X, y, cv, scoring)\n",
    "base_scores['rfc'] = [scores.loc['mean_test', refit], scores.loc['mean_train', refit]]\n",
    "print(scores)"
   ]
  },
  {
   "cell_type": "code",
   "execution_count": 923,
   "metadata": {},
   "outputs": [
    {
     "name": "stdout",
     "output_type": "stream",
     "text": [
      "            balanced_accuracy   roc_auc  precision_macro\n",
      "mean_train           0.808778  0.863144         0.831375\n",
      "std_train            0.016266  0.014766         0.013733\n",
      "mean_test            0.791153  0.850824         0.818181\n",
      "std_test             0.020577  0.020424         0.023901\n",
      "{'criterion': 'entropy', 'max_depth': 3, 'n_estimators': 15}\n"
     ]
    }
   ],
   "source": [
    "param_ranges = {'criterion': ['gini', 'entropy'], \n",
    "                'n_estimators': np.arange(5, 100, 10),\n",
    "                'max_depth': np.arange(3, 10)}\n",
    "rfc, scores = train_best_model(rfc, param_ranges, X, y, scoring, cv, refit=refit)"
   ]
  },
  {
   "cell_type": "code",
   "execution_count": 924,
   "metadata": {},
   "outputs": [
    {
     "name": "stdout",
     "output_type": "stream",
     "text": [
      "            balanced_accuracy   roc_auc  precision_macro\n",
      "mean_train           0.814274  0.886840         0.829080\n",
      "std_train            0.012278  0.011053         0.012276\n",
      "mean_test            0.792786  0.865375         0.811368\n",
      "std_test             0.022826  0.022883         0.020560\n",
      "{'ccp_alpha': 0.0026779661016949154}\n"
     ]
    }
   ],
   "source": [
    "param_ranges = {'ccp_alpha': np.linspace(0.001,0.1, 60)}\n",
    "rfc, scores = train_best_model(rfc, param_ranges, X, y, scoring, cv, refit=refit)"
   ]
  },
  {
   "cell_type": "code",
   "execution_count": 97,
   "metadata": {},
   "outputs": [],
   "source": [
    "base_scores['rfc'] = [scores.loc['mean_test', refit], scores.loc['mean_train', refit]]"
   ]
  },
  {
   "cell_type": "markdown",
   "metadata": {},
   "source": [
    "#### LogisticRegression"
   ]
  },
  {
   "cell_type": "code",
   "execution_count": 98,
   "metadata": {},
   "outputs": [
    {
     "name": "stdout",
     "output_type": "stream",
     "text": [
      "            balanced_accuracy   roc_auc  precision_macro\n",
      "mean_train           0.809976  0.872432         0.805098\n",
      "std_train            0.015914  0.013052         0.016800\n",
      "mean_test            0.799191  0.865652         0.797903\n",
      "std_test             0.031246  0.023422         0.026337\n"
     ]
    }
   ],
   "source": [
    "lr = lm.LogisticRegression(class_weight=class_weights, random_state=random_state, n_jobs=-1,\n",
    "                           penalty='l2',\n",
    "                           solver='liblinear',\n",
    "                           dual=False,\n",
    "                           C=1.3122448979591839)\n",
    "scores = cv_rep(lr, X, y, cv, scoring)\n",
    "base_scores['lr'] = [scores.loc['mean_test', refit], scores.loc['mean_train', refit]]\n",
    "print(scores)"
   ]
  },
  {
   "cell_type": "code",
   "execution_count": 943,
   "metadata": {},
   "outputs": [
    {
     "name": "stdout",
     "output_type": "stream",
     "text": [
      "            balanced_accuracy   roc_auc  precision_macro\n",
      "mean_train           0.805770  0.870090         0.801564\n",
      "std_train            0.011801  0.013882         0.012084\n",
      "mean_test            0.800100  0.866517         0.799149\n",
      "std_test             0.029733  0.024017         0.025003\n",
      "{'C': 0.926530612244898, 'solver': 'lbfgs'}\n"
     ]
    }
   ],
   "source": [
    "param_ranges = {'C': np.linspace(0.01, 5, 99), 'solver': ['newton-cg', 'lbfgs', 'liblinear', 'sag', 'saga']}\n",
    "lr, scores = train_best_model(lr, param_ranges, X, y, scoring, cv, refit=refit)"
   ]
  },
  {
   "cell_type": "code",
   "execution_count": 99,
   "metadata": {},
   "outputs": [],
   "source": [
    "base_scores['lr'] = [scores.loc['mean_test', refit], scores.loc['mean_train', refit]]"
   ]
  },
  {
   "cell_type": "markdown",
   "metadata": {},
   "source": [
    "#### RidgeClassifier"
   ]
  },
  {
   "cell_type": "code",
   "execution_count": 100,
   "metadata": {},
   "outputs": [
    {
     "name": "stdout",
     "output_type": "stream",
     "text": [
      "            balanced_accuracy   roc_auc  precision_macro\n",
      "mean_train           0.809504  0.870001         0.813501\n",
      "std_train            0.012067  0.013762         0.012322\n",
      "mean_test            0.796322  0.863645         0.802799\n",
      "std_test             0.024349  0.022013         0.020831\n"
     ]
    }
   ],
   "source": [
    "rc = lm.RidgeClassifier(class_weight=class_weights, random_state=random_state,\n",
    "                        alpha=11.122448979591837)\n",
    "scores = cv_rep(rc, X, y, cv, scoring)\n",
    "base_scores['rc'] = [scores.loc['mean_test', refit], scores.loc['mean_train', refit]]\n",
    "print(scores)"
   ]
  },
  {
   "cell_type": "code",
   "execution_count": 928,
   "metadata": {},
   "outputs": [
    {
     "name": "stdout",
     "output_type": "stream",
     "text": [
      "            balanced_accuracy   roc_auc  precision_macro\n",
      "mean_train           0.796588  0.868289         0.806309\n",
      "std_train            0.012774  0.014233         0.013074\n",
      "mean_test            0.797132  0.865552         0.799873\n",
      "std_test             0.023162  0.024011         0.019406\n",
      "{'alpha': 43.6530612244898}\n"
     ]
    }
   ],
   "source": [
    "param_ranges = {'alpha': np.linspace(1, 45, 99)}\n",
    "rc, scores = train_best_model(rc, param_ranges, X, y, scoring, cv, refit=refit)"
   ]
  },
  {
   "cell_type": "code",
   "execution_count": 101,
   "metadata": {},
   "outputs": [],
   "source": [
    "base_scores['rc'] = [scores.loc['mean_test', refit], scores.loc['mean_train', refit]]"
   ]
  },
  {
   "cell_type": "markdown",
   "metadata": {},
   "source": [
    "#### SVC"
   ]
  },
  {
   "cell_type": "code",
   "execution_count": 102,
   "metadata": {},
   "outputs": [
    {
     "name": "stdout",
     "output_type": "stream",
     "text": [
      "            balanced_accuracy   roc_auc  precision_macro\n",
      "mean_train           0.833521  0.898703         0.840091\n",
      "std_train            0.015848  0.013006         0.016400\n",
      "mean_test            0.786193  0.835525         0.794718\n",
      "std_test             0.023483  0.032429         0.025215\n"
     ]
    }
   ],
   "source": [
    "svc = svm.SVC(kernel='rbf', gamma='scale', shrinking=True, class_weight=class_weights,\n",
    "              C=9428.57142857143)\n",
    "scores = cv_rep(svc, X, y, cv, scoring)\n",
    "base_scores['svc'] = [scores.loc['mean_test', refit], scores.loc['mean_train', refit]]\n",
    "print(scores)"
   ]
  },
  {
   "cell_type": "code",
   "execution_count": 942,
   "metadata": {},
   "outputs": [
    {
     "name": "stdout",
     "output_type": "stream",
     "text": [
      "            balanced_accuracy   roc_auc  precision_macro\n",
      "mean_train           0.811978  0.867740         0.812407\n",
      "std_train            0.013215  0.014424         0.013256\n",
      "mean_test            0.804957  0.860633         0.806403\n",
      "std_test             0.021197  0.024536         0.025326\n",
      "{'C': 754.5454545454545}\n"
     ]
    }
   ],
   "source": [
    "param_ranges = {'C': np.linspace(400, 1000, 23)}\n",
    "svc, scores = train_best_model(svc, param_ranges, X, y, scoring, cv, refit=refit)"
   ]
  },
  {
   "cell_type": "code",
   "execution_count": 103,
   "metadata": {},
   "outputs": [],
   "source": [
    "base_scores['svc'] = [scores.loc['mean_test', refit], scores.loc['mean_train', refit]]"
   ]
  },
  {
   "cell_type": "code",
   "execution_count": 104,
   "metadata": {},
   "outputs": [
    {
     "name": "stdout",
     "output_type": "stream",
     "text": [
      "            balanced_accuracy   roc_auc  precision_macro\n",
      "mean_train           0.814278  0.855467         0.828099\n",
      "std_train            0.010601  0.012062         0.010780\n",
      "mean_test            0.791818  0.832642         0.809321\n",
      "std_test             0.020462  0.016069         0.021850\n"
     ]
    }
   ],
   "source": [
    "nusvc = svm.NuSVC(kernel='rbf', gamma='scale', shrinking=True, class_weight=class_weights,\n",
    "                 nu=0.5102089795918366)\n",
    "scores = cv_rep(nusvc, X, y, cv, scoring)\n",
    "base_scores['nusvc'] = [scores.loc['mean_test', refit], scores.loc['mean_train', refit]]\n",
    "print(scores)"
   ]
  },
  {
   "cell_type": "code",
   "execution_count": 932,
   "metadata": {},
   "outputs": [
    {
     "name": "stdout",
     "output_type": "stream",
     "text": [
      "            balanced_accuracy   roc_auc  precision_macro\n",
      "mean_train           0.812216  0.866157         0.832915\n",
      "std_train            0.023854  0.012700         0.014336\n",
      "mean_test            0.794357  0.846693         0.819401\n",
      "std_test             0.020614  0.022323         0.026112\n",
      "{'nu': 0.4877551020408164}\n"
     ]
    }
   ],
   "source": [
    "param_ranges = {'nu': np.linspace(0.1,0.5,99)}\n",
    "nusvc, scores = train_best_model(nusvc, param_ranges, X, y, scoring, cv, refit=refit)"
   ]
  },
  {
   "cell_type": "code",
   "execution_count": 105,
   "metadata": {},
   "outputs": [],
   "source": [
    "base_scores['nusvc'] = [scores.loc['mean_test', refit], scores.loc['mean_train', refit]]"
   ]
  },
  {
   "cell_type": "markdown",
   "metadata": {},
   "source": [
    "#### Base estimators scores"
   ]
  },
  {
   "cell_type": "code",
   "execution_count": 107,
   "metadata": {},
   "outputs": [
    {
     "data": {
      "text/html": [
       "<div>\n",
       "<style scoped>\n",
       "    .dataframe tbody tr th:only-of-type {\n",
       "        vertical-align: middle;\n",
       "    }\n",
       "\n",
       "    .dataframe tbody tr th {\n",
       "        vertical-align: top;\n",
       "    }\n",
       "\n",
       "    .dataframe thead th {\n",
       "        text-align: right;\n",
       "    }\n",
       "</style>\n",
       "<table border=\"1\" class=\"dataframe\">\n",
       "  <thead>\n",
       "    <tr style=\"text-align: right;\">\n",
       "      <th></th>\n",
       "      <th>etc</th>\n",
       "      <th>lr</th>\n",
       "      <th>abc</th>\n",
       "      <th>rc</th>\n",
       "      <th>lda</th>\n",
       "      <th>qda</th>\n",
       "      <th>rfc</th>\n",
       "      <th>svc</th>\n",
       "      <th>nusvc</th>\n",
       "    </tr>\n",
       "  </thead>\n",
       "  <tbody>\n",
       "    <tr>\n",
       "      <th>test_score</th>\n",
       "      <td>0.870330</td>\n",
       "      <td>0.865652</td>\n",
       "      <td>0.864978</td>\n",
       "      <td>0.863645</td>\n",
       "      <td>0.862792</td>\n",
       "      <td>0.849164</td>\n",
       "      <td>0.843760</td>\n",
       "      <td>0.835525</td>\n",
       "      <td>0.832642</td>\n",
       "    </tr>\n",
       "    <tr>\n",
       "      <th>train_score</th>\n",
       "      <td>0.910165</td>\n",
       "      <td>0.872432</td>\n",
       "      <td>0.877274</td>\n",
       "      <td>0.870001</td>\n",
       "      <td>0.869546</td>\n",
       "      <td>0.863105</td>\n",
       "      <td>0.862586</td>\n",
       "      <td>0.898703</td>\n",
       "      <td>0.855467</td>\n",
       "    </tr>\n",
       "  </tbody>\n",
       "</table>\n",
       "</div>"
      ],
      "text/plain": [
       "                  etc        lr       abc        rc       lda       qda  \\\n",
       "test_score   0.870330  0.865652  0.864978  0.863645  0.862792  0.849164   \n",
       "train_score  0.910165  0.872432  0.877274  0.870001  0.869546  0.863105   \n",
       "\n",
       "                  rfc       svc     nusvc  \n",
       "test_score   0.843760  0.835525  0.832642  \n",
       "train_score  0.862586  0.898703  0.855467  "
      ]
     },
     "execution_count": 107,
     "metadata": {},
     "output_type": "execute_result"
    }
   ],
   "source": [
    "pd.DataFrame(base_scores, index=['test_score', 'train_score']).sort_values(by='test_score', axis=1,ascending=False)"
   ]
  },
  {
   "cell_type": "code",
   "execution_count": 108,
   "metadata": {},
   "outputs": [],
   "source": [
    "base_models_surv_dic = {'lda':lda,'qda':qda,'abc':abc,'etc':etc,'rfc':rfc,'lr':lr,'rc':rc,'svc':svc,'nusvc':nusvc}"
   ]
  },
  {
   "cell_type": "code",
   "execution_count": 109,
   "metadata": {},
   "outputs": [],
   "source": [
    "base_models_surv = [(k,base_models_surv_dic[k]) for k in base_models_surv_dic.keys()]"
   ]
  },
  {
   "cell_type": "code",
   "execution_count": 110,
   "metadata": {},
   "outputs": [
    {
     "name": "stderr",
     "output_type": "stream",
     "text": [
      "c:\\00_data\\python38\\lib\\site-packages\\sklearn\\linear_model\\_logistic.py:1537: UserWarning: 'n_jobs' > 1 does not have any effect when 'solver' is set to 'liblinear'. Got 'n_jobs' = 4.\n",
      "  warnings.warn(\"'n_jobs' > 1 does not have any effect when\"\n"
     ]
    },
    {
     "data": {
      "image/png": "[encoded data removed]",
      "text/plain": [
       "<Figure size 1728x576 with 18 Axes>"
      ]
     },
     "metadata": {
      "needs_background": "light"
     },
     "output_type": "display_data"
    }
   ],
   "source": [
    "grd_n = len(base_models_surv)\n",
    "grd_cols_n = 6\n",
    "grd_rows_n = int(math.ceil(grd_n / grd_cols_n))\n",
    "fig = plt.figure()\n",
    "fig.set_size_inches(4 * grd_cols_n, 4 * grd_rows_n)\n",
    "gs = gridspec.GridSpec(grd_rows_n, grd_cols_n, figure=fig, wspace=0.3, hspace=0.3)\n",
    "\n",
    "for i, m in enumerate(base_models_surv):\n",
    "    lbl, model = m\n",
    "    plot_confusion_matrix(model, X, y, ax=fig.add_subplot(gs[i]), normalize=True, title=lbl)"
   ]
  },
  {
   "cell_type": "code",
   "execution_count": 111,
   "metadata": {},
   "outputs": [],
   "source": [
    "def base_models_predictions(models, X):\n",
    "    X1 = None\n",
    "    for i, model in models:\n",
    "        if X1 is None:\n",
    "            X1 = pd.Series(model.predict(X), name=i).to_frame()\n",
    "        else:\n",
    "            X1 = X1.merge(pd.Series(model.predict(X), name=i).to_frame(), left_index=True, right_index=True)\n",
    "    return X1"
   ]
  },
  {
   "cell_type": "code",
   "execution_count": 112,
   "metadata": {},
   "outputs": [],
   "source": [
    "def base_models_predictions_proba(models, X):\n",
    "    X0 = None\n",
    "    X1 = None\n",
    "    for i, model in models:\n",
    "        proba_0 = model.predict_proba(X)[:,0]\n",
    "        proba_1 = model.predict_proba(X)[:,1]\n",
    "        if X0 is None:\n",
    "            X0 = pd.Series(proba_0, name='{0}_proba'.format(i)).to_frame()\n",
    "        else:\n",
    "            X0 = X0.merge(pd.Series(proba_0, name='{0}_proba'.format(i)).to_frame(), left_index=True, right_index=True)\n",
    "        \n",
    "        if X1 is None:\n",
    "            X1 = pd.Series(proba_1, name='{0}_proba'.format(i)).to_frame()\n",
    "        else:\n",
    "            X1 = X1.merge(pd.Series(proba_1, name='{0}_proba'.format(i)).to_frame(), left_index=True, right_index=True)\n",
    "    return (X0, X1)"
   ]
  },
  {
   "cell_type": "markdown",
   "metadata": {},
   "source": [
    "#### Base estimators correlation matrix"
   ]
  },
  {
   "cell_type": "code",
   "execution_count": 113,
   "metadata": {},
   "outputs": [
    {
     "data": {
      "image/png": "[encoded data removed]",
      "text/plain": [
       "<Figure size 720x720 with 2 Axes>"
      ]
     },
     "metadata": {
      "needs_background": "light"
     },
     "output_type": "display_data"
    }
   ],
   "source": [
    "preds_base = base_models_predictions(base_models_surv, X)\n",
    "fig = plt.figure()\n",
    "fig.set_size_inches(10, 10)\n",
    "corr_matrix = preds_base.corr()\n",
    "plot_correlation_matrix(ax=fig.add_subplot(1,1,1),\n",
    "                              data=corr_matrix,\n",
    "                             cmap=sns.diverging_palette(200, 15, s=75, l=50, sep=1, n=25, center='light', as_cmap=False))"
   ]
  },
  {
   "cell_type": "code",
   "execution_count": 114,
   "metadata": {},
   "outputs": [
    {
     "data": {
      "text/html": [
       "<div>\n",
       "<style scoped>\n",
       "    .dataframe tbody tr th:only-of-type {\n",
       "        vertical-align: middle;\n",
       "    }\n",
       "\n",
       "    .dataframe tbody tr th {\n",
       "        vertical-align: top;\n",
       "    }\n",
       "\n",
       "    .dataframe thead th {\n",
       "        text-align: right;\n",
       "    }\n",
       "</style>\n",
       "<table border=\"1\" class=\"dataframe\">\n",
       "  <thead>\n",
       "    <tr style=\"text-align: right;\">\n",
       "      <th></th>\n",
       "      <th>lda</th>\n",
       "      <th>abc</th>\n",
       "      <th>etc</th>\n",
       "      <th>rc</th>\n",
       "      <th>nusvc</th>\n",
       "      <th>rfc</th>\n",
       "      <th>svc</th>\n",
       "      <th>lr</th>\n",
       "      <th>qda</th>\n",
       "    </tr>\n",
       "  </thead>\n",
       "  <tbody>\n",
       "    <tr>\n",
       "      <th>cc</th>\n",
       "      <td>0.820399</td>\n",
       "      <td>0.818386</td>\n",
       "      <td>0.813985</td>\n",
       "      <td>0.805765</td>\n",
       "      <td>0.801585</td>\n",
       "      <td>0.781501</td>\n",
       "      <td>0.780082</td>\n",
       "      <td>0.765337</td>\n",
       "      <td>0.760414</td>\n",
       "    </tr>\n",
       "  </tbody>\n",
       "</table>\n",
       "</div>"
      ],
      "text/plain": [
       "         lda       abc       etc        rc     nusvc       rfc       svc  \\\n",
       "cc  0.820399  0.818386  0.813985  0.805765  0.801585  0.781501  0.780082   \n",
       "\n",
       "          lr       qda  \n",
       "cc  0.765337  0.760414  "
      ]
     },
     "execution_count": 114,
     "metadata": {},
     "output_type": "execute_result"
    }
   ],
   "source": [
    "# Mean of each model correlation coefficients\n",
    "corr_sc = {}\n",
    "for k in base_models_surv_dic.keys():\n",
    "    corr_sc[k] = (corr_matrix[k].sum() - 1) / len(corr_matrix.index)\n",
    "df_base_models_corr_sc = pd.DataFrame(corr_sc, index=['cc'])\n",
    "df_base_models_corr_sc.sort_values(by='cc', axis=1, ascending=False)"
   ]
  },
  {
   "cell_type": "markdown",
   "metadata": {},
   "source": [
    "#### Select less correlated models"
   ]
  },
  {
   "cell_type": "code",
   "execution_count": 115,
   "metadata": {},
   "outputs": [],
   "source": [
    "base_models_surv_dic = {'lda':lda,'qda':qda,'abc':abc,'etc':etc,'rc':rc,'svc':svc}"
   ]
  },
  {
   "cell_type": "code",
   "execution_count": 116,
   "metadata": {},
   "outputs": [],
   "source": [
    "base_models_surv = [(k,base_models_surv_dic[k]) for k in base_models_surv_dic.keys()]"
   ]
  },
  {
   "cell_type": "code",
   "execution_count": 117,
   "metadata": {},
   "outputs": [
    {
     "data": {
      "image/png": "[encoded data removed]",
      "text/plain": [
       "<Figure size 720x720 with 2 Axes>"
      ]
     },
     "metadata": {
      "needs_background": "light"
     },
     "output_type": "display_data"
    }
   ],
   "source": [
    "preds_base = base_models_predictions(base_models_surv, X)\n",
    "fig = plt.figure()\n",
    "fig.set_size_inches(10, 10)\n",
    "corr_matrix = preds_base.corr()\n",
    "plot_correlation_matrix(ax=fig.add_subplot(1,1,1),\n",
    "                              data=corr_matrix,\n",
    "                             cmap=sns.diverging_palette(200, 15, s=75, l=50, sep=1, n=25, center='light', as_cmap=False))"
   ]
  },
  {
   "cell_type": "code",
   "execution_count": 118,
   "metadata": {},
   "outputs": [
    {
     "data": {
      "text/html": [
       "<div>\n",
       "<style scoped>\n",
       "    .dataframe tbody tr th:only-of-type {\n",
       "        vertical-align: middle;\n",
       "    }\n",
       "\n",
       "    .dataframe tbody tr th {\n",
       "        vertical-align: top;\n",
       "    }\n",
       "\n",
       "    .dataframe thead th {\n",
       "        text-align: right;\n",
       "    }\n",
       "</style>\n",
       "<table border=\"1\" class=\"dataframe\">\n",
       "  <thead>\n",
       "    <tr style=\"text-align: right;\">\n",
       "      <th></th>\n",
       "      <th>abc</th>\n",
       "      <th>lda</th>\n",
       "      <th>etc</th>\n",
       "      <th>rc</th>\n",
       "      <th>svc</th>\n",
       "      <th>qda</th>\n",
       "    </tr>\n",
       "  </thead>\n",
       "  <tbody>\n",
       "    <tr>\n",
       "      <th>cc</th>\n",
       "      <td>0.771803</td>\n",
       "      <td>0.76992</td>\n",
       "      <td>0.767916</td>\n",
       "      <td>0.758141</td>\n",
       "      <td>0.735652</td>\n",
       "      <td>0.719811</td>\n",
       "    </tr>\n",
       "  </tbody>\n",
       "</table>\n",
       "</div>"
      ],
      "text/plain": [
       "         abc      lda       etc        rc       svc       qda\n",
       "cc  0.771803  0.76992  0.767916  0.758141  0.735652  0.719811"
      ]
     },
     "execution_count": 118,
     "metadata": {},
     "output_type": "execute_result"
    }
   ],
   "source": [
    "# Mean of each model correlation coefficients\n",
    "corr_sc = {}\n",
    "for k in base_models_surv_dic.keys():\n",
    "    corr_sc[k] = (corr_matrix[k].sum() - 1) / len(corr_matrix.index)\n",
    "df_base_models_corr_sc = pd.DataFrame(corr_sc, index=['cc'])\n",
    "df_base_models_corr_sc.sort_values(by='cc', axis=1, ascending=False)"
   ]
  },
  {
   "cell_type": "markdown",
   "metadata": {},
   "source": [
    "#### Compare stacking classifier score for different final estimator models"
   ]
  },
  {
   "cell_type": "code",
   "execution_count": 119,
   "metadata": {},
   "outputs": [],
   "source": [
    "def train_final_models(models, X, y, score, cv_folds=5):\n",
    "    scores = {}\n",
    "    fin_models = []\n",
    "    for m in models:\n",
    "        model_st = ens.StackingClassifier(estimators=base_models_surv,\n",
    "                                          final_estimator=m[1],\n",
    "                                          cv=cv_folds, \n",
    "                                          stack_method='predict', \n",
    "                                          n_jobs=-1)\n",
    "        res = cv_rep(model_st, X, y, cv, scoring)\n",
    "        scores[m[0]] = [res.loc['mean_test', score], res.loc['mean_train', score]]\n",
    "        fin_models.append((m[0], model_st))\n",
    "    scores = pd.DataFrame(scores, index=['Test_score', 'Train_score']).sort_values(by='Test_score', axis=1,ascending=False)\n",
    "    return fin_models, scores"
   ]
  },
  {
   "cell_type": "code",
   "execution_count": 120,
   "metadata": {},
   "outputs": [],
   "source": [
    "final_models_surv = [('abc', ens.AdaBoostClassifier()),\n",
    "                     ('etc', ens.ExtraTreesClassifier()),\n",
    "                     ('rfc', ens.RandomForestClassifier()),\n",
    "                     ('lr', lm.LogisticRegression()),\n",
    "                     ('svc', svm.SVC())]"
   ]
  },
  {
   "cell_type": "code",
   "execution_count": 121,
   "metadata": {},
   "outputs": [],
   "source": [
    "fin_models, scores = train_final_models(final_models_surv, X, y, cv_folds=5, score=refit)"
   ]
  },
  {
   "cell_type": "code",
   "execution_count": 122,
   "metadata": {},
   "outputs": [
    {
     "data": {
      "text/html": [
       "<div>\n",
       "<style scoped>\n",
       "    .dataframe tbody tr th:only-of-type {\n",
       "        vertical-align: middle;\n",
       "    }\n",
       "\n",
       "    .dataframe tbody tr th {\n",
       "        vertical-align: top;\n",
       "    }\n",
       "\n",
       "    .dataframe thead th {\n",
       "        text-align: right;\n",
       "    }\n",
       "</style>\n",
       "<table border=\"1\" class=\"dataframe\">\n",
       "  <thead>\n",
       "    <tr style=\"text-align: right;\">\n",
       "      <th></th>\n",
       "      <th>abc</th>\n",
       "      <th>lr</th>\n",
       "      <th>rfc</th>\n",
       "      <th>etc</th>\n",
       "      <th>svc</th>\n",
       "    </tr>\n",
       "  </thead>\n",
       "  <tbody>\n",
       "    <tr>\n",
       "      <th>Test_score</th>\n",
       "      <td>0.821386</td>\n",
       "      <td>0.819826</td>\n",
       "      <td>0.813004</td>\n",
       "      <td>0.811430</td>\n",
       "      <td>0.806481</td>\n",
       "    </tr>\n",
       "    <tr>\n",
       "      <th>Train_score</th>\n",
       "      <td>0.843071</td>\n",
       "      <td>0.841409</td>\n",
       "      <td>0.839062</td>\n",
       "      <td>0.837865</td>\n",
       "      <td>0.835925</td>\n",
       "    </tr>\n",
       "  </tbody>\n",
       "</table>\n",
       "</div>"
      ],
      "text/plain": [
       "                  abc        lr       rfc       etc       svc\n",
       "Test_score   0.821386  0.819826  0.813004  0.811430  0.806481\n",
       "Train_score  0.843071  0.841409  0.839062  0.837865  0.835925"
      ]
     },
     "execution_count": 122,
     "metadata": {},
     "output_type": "execute_result"
    }
   ],
   "source": [
    "scores"
   ]
  },
  {
   "cell_type": "code",
   "execution_count": 871,
   "metadata": {},
   "outputs": [
    {
     "data": {
      "image/png": "[encoded data removed]",
      "text/plain": [
       "<Figure size 1728x288 with 10 Axes>"
      ]
     },
     "metadata": {
      "needs_background": "light"
     },
     "output_type": "display_data"
    }
   ],
   "source": [
    "grd_n = len(fin_models)\n",
    "grd_cols_n = 6\n",
    "grd_rows_n = int(math.ceil(grd_n / grd_cols_n))\n",
    "fig = plt.figure()\n",
    "fig.set_size_inches(4 * grd_cols_n, 4 * grd_rows_n)\n",
    "gs = gridspec.GridSpec(grd_rows_n, grd_cols_n, figure=fig, wspace=0.3, hspace=0.3)\n",
    "\n",
    "for i, m in enumerate(fin_models):\n",
    "    lbl, model = m\n",
    "    plot_confusion_matrix(model, X, y, ax=fig.add_subplot(gs[i]), normalize=True, title=lbl)"
   ]
  },
  {
   "cell_type": "markdown",
   "metadata": {},
   "source": [
    "#### Train stacking classifier"
   ]
  },
  {
   "cell_type": "code",
   "execution_count": 123,
   "metadata": {},
   "outputs": [
    {
     "data": {
      "text/html": [
       "<div>\n",
       "<style scoped>\n",
       "    .dataframe tbody tr th:only-of-type {\n",
       "        vertical-align: middle;\n",
       "    }\n",
       "\n",
       "    .dataframe tbody tr th {\n",
       "        vertical-align: top;\n",
       "    }\n",
       "\n",
       "    .dataframe thead th {\n",
       "        text-align: right;\n",
       "    }\n",
       "</style>\n",
       "<table border=\"1\" class=\"dataframe\">\n",
       "  <thead>\n",
       "    <tr style=\"text-align: right;\">\n",
       "      <th></th>\n",
       "      <th>balanced_accuracy</th>\n",
       "      <th>roc_auc</th>\n",
       "      <th>precision_macro</th>\n",
       "    </tr>\n",
       "  </thead>\n",
       "  <tbody>\n",
       "    <tr>\n",
       "      <th>mean_train</th>\n",
       "      <td>0.820544</td>\n",
       "      <td>0.842830</td>\n",
       "      <td>0.836631</td>\n",
       "    </tr>\n",
       "    <tr>\n",
       "      <th>std_train</th>\n",
       "      <td>0.009007</td>\n",
       "      <td>0.018178</td>\n",
       "      <td>0.008028</td>\n",
       "    </tr>\n",
       "    <tr>\n",
       "      <th>mean_test</th>\n",
       "      <td>0.801642</td>\n",
       "      <td>0.821306</td>\n",
       "      <td>0.820019</td>\n",
       "    </tr>\n",
       "    <tr>\n",
       "      <th>std_test</th>\n",
       "      <td>0.025702</td>\n",
       "      <td>0.024444</td>\n",
       "      <td>0.024183</td>\n",
       "    </tr>\n",
       "  </tbody>\n",
       "</table>\n",
       "</div>"
      ],
      "text/plain": [
       "            balanced_accuracy   roc_auc  precision_macro\n",
       "mean_train           0.820544  0.842830         0.836631\n",
       "std_train            0.009007  0.018178         0.008028\n",
       "mean_test            0.801642  0.821306         0.820019\n",
       "std_test             0.025702  0.024444         0.024183"
      ]
     },
     "execution_count": 123,
     "metadata": {},
     "output_type": "execute_result"
    }
   ],
   "source": [
    "model_st = ens.StackingClassifier(estimators=base_models_surv,\n",
    "                                  final_estimator=ens.AdaBoostClassifier(algorithm='SAMME.R', \n",
    "                                                                         learning_rate=0.6,\n",
    "                                                                         n_estimators=80,\n",
    "                                                                         random_state=random_state),\n",
    "                                  cv=5, \n",
    "                                  stack_method='predict', \n",
    "                                  passthrough=False,\n",
    "                                  n_jobs=-1)\n",
    "\n",
    "cv_rep(model_st, X, y, cv, scoring)"
   ]
  },
  {
   "cell_type": "code",
   "execution_count": 970,
   "metadata": {},
   "outputs": [
    {
     "name": "stdout",
     "output_type": "stream",
     "text": [
      "            balanced_accuracy   roc_auc  precision_macro\n",
      "mean_train           0.820704  0.841414         0.836018\n",
      "std_train            0.013033  0.011235         0.013725\n",
      "mean_test            0.798732  0.820691         0.818308\n",
      "std_test             0.023739  0.030667         0.021704\n",
      "{'final_estimator__learning_rate': 0.1, 'final_estimator__n_estimators': 50}\n"
     ]
    }
   ],
   "source": [
    "param_ranges = {'final_estimator__n_estimators': np.arange(50, 120, 10), 'final_estimator__learning_rate': np.linspace(0.1, 0.8, 20)}\n",
    "model_st, scores = train_best_model(model_st, param_ranges, X, y, scoring, cv, refit=refit)\n"
   ]
  },
  {
   "cell_type": "code",
   "execution_count": 124,
   "metadata": {},
   "outputs": [
    {
     "data": {
      "image/png": "[encoded data removed]",
      "text/plain": [
       "<Figure size 288x288 with 2 Axes>"
      ]
     },
     "metadata": {
      "needs_background": "light"
     },
     "output_type": "display_data"
    }
   ],
   "source": [
    "fig = plt.figure()\n",
    "fig.set_size_inches(4,4)\n",
    "plot_confusion_matrix(model_st, X, y, ax=fig.add_subplot(1,1,1), normalize=True, title='')"
   ]
  },
  {
   "cell_type": "markdown",
   "metadata": {},
   "source": [
    "## Predict test set"
   ]
  },
  {
   "cell_type": "markdown",
   "metadata": {},
   "source": [
    "#### Preprocessind data"
   ]
  },
  {
   "cell_type": "code",
   "execution_count": 125,
   "metadata": {},
   "outputs": [],
   "source": [
    "data = family_groups_encoder(data_test.copy(), fgrp_mask)\n",
    "data = fare_encoder(data, fare_mask)\n",
    "data = fare_transformer(data)\n",
    "\n",
    "data = ticket_encoder(data, ticket_mask)\n",
    "\n",
    "data = title_encoder(data)\n",
    "data = sex_encoder(data)\n",
    "data = fam_size(data)\n",
    "\n",
    "data = embarked_encoder(data)\n",
    "data = pclass_encoder(data)\n",
    "\n",
    "data = age_predictor(data, age_cls_model, age_reg_mogel)\n",
    "data = data[['PassengerId', 'Age', 'Fare', 'Sex', 'ttl', 'fgrp', 'famsize', 'Ticket', 'Pclass', 'Embarked']]"
   ]
  },
  {
   "cell_type": "markdown",
   "metadata": {},
   "source": [
    "#### Make predictions"
   ]
  },
  {
   "cell_type": "code",
   "execution_count": 985,
   "metadata": {
    "scrolled": true
   },
   "outputs": [],
   "source": [
    "X = data.drop(columns=['PassengerId'])"
   ]
  },
  {
   "cell_type": "code",
   "execution_count": 986,
   "metadata": {},
   "outputs": [],
   "source": [
    "data['Survived'] = model_st.predict(X)\n",
    "df_submission = data[['PassengerId', 'Survived']]\n",
    "df_submission.to_csv(\"df_submission.csv\", index=False)"
   ]
  }
 ],
 "metadata": {
  "kernelspec": {
   "display_name": "Python 3",
   "language": "python",
   "name": "python3"
  },
  "language_info": {
   "codemirror_mode": {
    "name": "ipython",
    "version": 3
   },
   "file_extension": ".py",
   "mimetype": "text/x-python",
   "name": "python",
   "nbconvert_exporter": "python",
   "pygments_lexer": "ipython3",
   "version": "3.8.1"
  }
 },
 "nbformat": 4,
 "nbformat_minor": 4
}
