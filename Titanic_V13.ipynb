{
 "cells": [
  {
   "cell_type": "code",
   "execution_count": 9,
   "metadata": {
    "scrolled": true
   },
   "outputs": [],
   "source": [
    "%config IPCompleter.greedy=True\n",
    "from IPython.display import IFrame\n",
    "\n",
    "import pandas as pd\n",
    "import numpy as np\n",
    "import string\n",
    "import math\n",
    "\n",
    "import matplotlib.pyplot as plt\n",
    "import matplotlib.gridspec as gridspec\n",
    "import seaborn as sns\n",
    "\n",
    "import sklearn.metrics as metrics\n",
    "import sklearn.model_selection as model_selection\n",
    "from sklearn import discriminant_analysis as disan\n",
    "from sklearn import calibration as calib\n",
    "from sklearn import linear_model as lm\n",
    "from sklearn import svm\n",
    "from sklearn import gaussian_process as gaup\n",
    "from sklearn import mixture as mix\n",
    "from sklearn import tree\n",
    "from sklearn import ensemble as ens\n",
    "\n",
    "\n",
    "import sklearn.feature_selection as feature_selection"
   ]
  },
  {
   "cell_type": "markdown",
   "metadata": {},
   "source": [
    "#### Plotting Helper functions"
   ]
  },
  {
   "cell_type": "code",
   "execution_count": 10,
   "metadata": {
    "jupyter": {
     "source_hidden": true
    }
   },
   "outputs": [],
   "source": [
    "def plot_bar_diagram(ax, data, nested=False, plots_labels=None, plots_colors=None, bar_labels='', width=0.4, title='', length_label='',\n",
    "                     orient='v', legend_loc=None, spines=None):\n",
    "    \"\"\"\n",
    "    Plots single or multiple bar diagrams with data labels on top(aside) of the bars\n",
    "    :param ax: matplotlib axes\n",
    "    :param data: pandas DataFrame where rows correspond to bar plots and columns correspond to data labels (columns in data)\n",
    "    :param nested: boolean. If True, bar plots are plotted on top of each other. If False bar plots are plotted besides each other\n",
    "    :param bar_labels: pandas DataFrame. labels over the bars. Should be same shape as data\n",
    "    :param width: float. Bar width\n",
    "    :param title: string. Plot title\n",
    "    :param length_label: bar height/width axis label\n",
    "    :param spines: dictionary of booleans. indicates to plot borders or not. Keys=['left', 'right', 'top', 'bottom'], values=True/False\n",
    "    :param orient: string. Bar orientation: 'v'-vertical; 'h'-horisontal\n",
    "    \"\"\"\n",
    "    bars = list(data.index)\n",
    "    cols = list(data.columns)\n",
    "    cells = data.values.tolist()\n",
    "\n",
    "    if bar_labels is not None:\n",
    "        for i, lab in enumerate(bars):\n",
    "            labels = ([f\"{j:.4f}\" for j in cells[i]] if bar_labels=='' else bar_labels[i])\n",
    "\n",
    "    if orient == 'v':\n",
    "        for i, lab in enumerate(bars):\n",
    "            label = (bars[i] if plots_labels is None else plots_labels[i])\n",
    "            color = ('r' if plots_colors is None else plots_colors[i])\n",
    "            x = np.arange(len(cols))\n",
    "            bar = ax.bar(x=x + width * (i - len(bars) / 2), height=cells[i], width=width,\n",
    "                         label=label,\n",
    "                         color=color,\n",
    "                         align=('center' if nested else 'edge'))\n",
    "            if bar_labels is not None:\n",
    "                autolabel(bar, ax, labels, oriented='v')\n",
    "\n",
    "        ax.set_xticks(np.arange(len(cols)))\n",
    "        ax.set_xticklabels(cols)\n",
    "        if not length_label=='':\n",
    "            ax.set_ylabel(length_label)\n",
    "    elif orient == 'h':\n",
    "        for i, lab in enumerate(bars):\n",
    "            label = (bars[i] if plots_labels is None else plots_labels[i])\n",
    "            y = np.arange(len(cols))\n",
    "            height = width\n",
    "            bar = ax.barh(y=y + height * (i - len(bars) / 2), width=cells[i], height=width,\n",
    "                          label=label,\n",
    "                          color=plots_colors[i],\n",
    "                          align=('center' if nested else 'edge'))\n",
    "            if bar_labels is not None:\n",
    "                autolabel(bar, ax, labels, oriented='h')\n",
    "\n",
    "        ax.set_yticks(np.arange(len(cols)))\n",
    "        ax.set_yticklabels(cols)\n",
    "        if not length_label=='':\n",
    "            ax.set_xlabel(length_label)\n",
    "    else:\n",
    "        raise ValueError('orient parameter value error. expected v or h ')\n",
    "\n",
    "    if not title == '':\n",
    "        ttl = ax.title\n",
    "        ttl.set_position([.5, 1.07])\n",
    "        ax.set_title(title)\n",
    "    if legend_loc is not None:\n",
    "        ax.legend(loc=legend_loc)\n",
    "    else:\n",
    "        ax.legend().set_visible(False)\n",
    "\n",
    "    if spines is None:\n",
    "        spines = {'left': True,\n",
    "                  'right': True,\n",
    "                  'top': True,\n",
    "                  'bottom': True}\n",
    "    for i in list(spines.keys()):\n",
    "        ax.spines[i].set_visible(spines[i])\n",
    "\n",
    "def autolabel(bars, ax, labels, oriented='v'):\n",
    "    \"\"\"Attach a text label displaying its height/width (depends of orientation).\"\"\"\n",
    "    for bar, label in zip(bars, labels):\n",
    "        if oriented == 'v':\n",
    "            height = bar.get_height()\n",
    "            ax.annotate(label,\n",
    "                        xy=(bar.get_x() + bar.get_width() / 2, height),\n",
    "                        xytext=(0, 2),\n",
    "                        textcoords=\"offset points\",\n",
    "                        ha='center')\n",
    "        else:\n",
    "            width = bar.get_width()\n",
    "            ax.annotate(label,\n",
    "                        xy=(width, bar.get_y() + bar.get_height() / 2),\n",
    "                        xytext=(1, 0),\n",
    "                        textcoords=\"offset points\",\n",
    "                        ha='left',\n",
    "                        va='center')\n",
    "\n",
    "def plot_correlation_matrix(ax, data, cmap='hot', diagonal=False, square=True):\n",
    "    mask = None\n",
    "    if diagonal:\n",
    "        mask = np.zeros_like(data, dtype=np.bool)\n",
    "        mask[np.triu_indices_from(mask)] = True\n",
    "    sns.heatmap(data, ax=ax,\n",
    "                mask=mask,\n",
    "                square=square,\n",
    "                linewidths=1.5,\n",
    "                cmap=cmap,\n",
    "                cbar_kws={'shrink': 1, 'ticks': [-1, -.5, 0, 0.5, 1]},\n",
    "                vmin=-1,\n",
    "                vmax=1,\n",
    "                annot=True,\n",
    "                annot_kws={'size': 8})\n",
    "    ax.set_xticklabels(ax.get_xticklabels(), rotation=45, horizontalalignment='right')\n",
    "    \n",
    "def plot_confusion_matrix(model, X, y, ax, normalize=True, title=None):\n",
    "    \"\"\"Plots confusion matrix\n",
    "    Parameters:\n",
    "    ax =  matplotlib axes\n",
    "    normalyze = normalization over truth (number_predicted / total_count_of_this_class)\n",
    "    \"\"\"\n",
    "    model.fit(X,y)\n",
    "    conf_matrix = metrics.confusion_matrix(y_true=y, y_pred=model.predict(X),\n",
    "                              labels=None)  # returns matrix for sorted classes (i.e 0, 1, 2,..., n)\n",
    "    classes = y.unique()\n",
    "    classes.sort()\n",
    "    n_classes = [len(y[y == c]) for c in classes]\n",
    "    if normalize == True:\n",
    "        n_matrix = [[i for j in range(len(n_classes))] for i in n_classes]\n",
    "        norm_matrix = conf_matrix / np.array(n_classes)\n",
    "        ns_matrix = np.array([[i for j in enumerate(n_classes)] for i in n_classes])\n",
    "        labels = np.array([[\"{0:.2%} \\n {1:d} of {2:d}\".format(norm_matrix[i, j], conf_matrix[i, j],\n",
    "                                                               ns_matrix[i, j]) for j, v in\n",
    "                            enumerate(norm_matrix[i])]\n",
    "                           for i, v in enumerate(norm_matrix)])\n",
    "\n",
    "        sns.heatmap(norm_matrix, annot=labels, fmt='', cmap='Blues')\n",
    "    else:\n",
    "        sns.heatmap(conf_matrix, annot=True, fmt='d', cmap='Blues')\n",
    "\n",
    "    ax.set_ylabel('True Labels')\n",
    "    ax.set_xlabel('Predicted Labels')\n",
    "    if title is None:\n",
    "        title = model.__class__.__name__\n",
    "    ax.set_title(title)\n",
    "    ttl = ax.title\n",
    "    ttl.set_position([.5, 1.07])\n",
    "\n",
    "    # fix for mpl bug that cuts off top/bottom of seaborn viz\n",
    "    b, t = ax.get_ylim()  # discover the values for bottom and top\n",
    "    b += 0.5  # Add 0.5 to the bottom\n",
    "    t -= 0.5  # Subtract 0.5 from the top\n",
    "    ax.set_ylim(b, t)  # update the ylim(bottom, top) values"
   ]
  },
  {
   "cell_type": "markdown",
   "metadata": {},
   "source": [
    "#### Helper functions for model training"
   ]
  },
  {
   "cell_type": "code",
   "execution_count": 11,
   "metadata": {
    "jupyter": {
     "source_hidden": true
    }
   },
   "outputs": [],
   "source": [
    "# Tune parameters\n",
    "def param_tune(model, X_train, y_train, param_ranges, scoring, cv, refit=''):\n",
    "    if refit == '': refit = list(scoring.keys())[0]\n",
    "    gsearch = model_selection.GridSearchCV(estimator=model, param_grid=param_ranges, scoring=scoring, cv=cv, refit=refit, return_train_score=True,\n",
    "                           n_jobs=-1)\n",
    "    gsearch.fit(X_train, y_train)\n",
    "    cv_res = pd.DataFrame(gsearch.cv_results_)\n",
    "    cv_res_sel = []\n",
    "    for i in list(scoring.keys()):\n",
    "        df = cv_res.loc[cv_res['rank_test_%s' % i] == 1].head(1)\n",
    "        cv_res_sel.append(df[['mean_train_%s' % i, 'std_train_%s' % i, 'mean_test_%s' % i, 'std_test_%s' % i]].values[0])\n",
    "\n",
    "    cv_res_sel = pd.DataFrame(cv_res_sel, index=list(scoring.keys()), columns=['mean_train', 'std_train', 'mean_test', 'std_test'])\n",
    "    cv_results = cv_res_sel.T\n",
    "    cv_results = cv_results.apply(lambda i: np.absolute(i))\n",
    "    return gsearch.best_estimator_, gsearch.best_params_, gsearch.best_score_, cv_results\n",
    "\n",
    "# Cross-validation report\n",
    "def cv_rep(model, X, y, cv, scoring):\n",
    "    cv_res = model_selection.cross_validate(model, X, y, scoring=scoring, cv=cv, return_train_score=True, n_jobs=-1)\n",
    "    cv_res = [[np.mean(cv_res['train_%s' % i]), np.std(cv_res['train_%s' % i]), np.mean(cv_res['test_%s' % i]), np.std(cv_res['test_%s' % i])] for i in list(scoring.keys())]\n",
    "    cv_results = pd.DataFrame(cv_res, index=list(scoring.keys()), columns=['mean_train', 'std_train', 'mean_test', 'std_test'])\n",
    "    cv_results = cv_results.T\n",
    "    cv_results = cv_results.apply(lambda i: np.absolute(i))\n",
    "    return cv_results\n",
    "\n",
    "# Tune model parameters and print CV report\n",
    "def train_best_model(model, param_ranges, X_train, y_train, scoring, cv, refit):\n",
    "    model, best_params, best_score, cv_res = param_tune(model, X_train, y_train, param_ranges, scoring, cv, refit=refit)\n",
    "    print(cv_res)\n",
    "    print(best_params)\n",
    "    return model, cv_res\n",
    "\n",
    "# Tune model parameters and print CV report for calibrated classifier model\n",
    "def train_best_model_cal(model, param_ranges, X_train, y_train, scoring, cv, refit):\n",
    "    if model.__class__.__name__=='CalibratedClassifierCV':\n",
    "         model_cal= model \n",
    "    else:\n",
    "        model_cal = calib.CalibratedClassifierCV(base_estimator=model, method='sigmoid', cv=cv)\n",
    "    model_cal, best_params, best_score, cv_res = param_tune(model_cal, X_train, y_train, param_ranges, scoring, cv, refit=refit)\n",
    "    print(cv_res)\n",
    "    print(best_params)\n",
    "    return model, cv_res"
   ]
  },
  {
   "cell_type": "markdown",
   "metadata": {},
   "source": [
    "### Import data"
   ]
  },
  {
   "cell_type": "code",
   "execution_count": 12,
   "metadata": {},
   "outputs": [],
   "source": [
    "#import train dataset\n",
    "filename_tr = 'train.csv'\n",
    "data_train = pd.read_csv(filename_tr)\n",
    "\n",
    "#import test dataset\n",
    "filename_tes = 'test.csv'\n",
    "data_test = pd.read_csv(filename_tes)"
   ]
  },
  {
   "cell_type": "markdown",
   "metadata": {},
   "source": [
    "#### Training Set"
   ]
  },
  {
   "cell_type": "code",
   "execution_count": 13,
   "metadata": {},
   "outputs": [
    {
     "data": {
      "text/html": [
       "<div>\n",
       "<style scoped>\n",
       "    .dataframe tbody tr th:only-of-type {\n",
       "        vertical-align: middle;\n",
       "    }\n",
       "\n",
       "    .dataframe tbody tr th {\n",
       "        vertical-align: top;\n",
       "    }\n",
       "\n",
       "    .dataframe thead th {\n",
       "        text-align: right;\n",
       "    }\n",
       "</style>\n",
       "<table border=\"1\" class=\"dataframe\">\n",
       "  <thead>\n",
       "    <tr style=\"text-align: right;\">\n",
       "      <th></th>\n",
       "      <th>PassengerId</th>\n",
       "      <th>Survived</th>\n",
       "      <th>Pclass</th>\n",
       "      <th>Name</th>\n",
       "      <th>Sex</th>\n",
       "      <th>Age</th>\n",
       "      <th>SibSp</th>\n",
       "      <th>Parch</th>\n",
       "      <th>Ticket</th>\n",
       "      <th>Fare</th>\n",
       "      <th>Cabin</th>\n",
       "      <th>Embarked</th>\n",
       "    </tr>\n",
       "  </thead>\n",
       "  <tbody>\n",
       "    <tr>\n",
       "      <th>0</th>\n",
       "      <td>1</td>\n",
       "      <td>0</td>\n",
       "      <td>3</td>\n",
       "      <td>Braund, Mr. Owen Harris</td>\n",
       "      <td>male</td>\n",
       "      <td>22.0</td>\n",
       "      <td>1</td>\n",
       "      <td>0</td>\n",
       "      <td>A/5 21171</td>\n",
       "      <td>7.2500</td>\n",
       "      <td>NaN</td>\n",
       "      <td>S</td>\n",
       "    </tr>\n",
       "    <tr>\n",
       "      <th>1</th>\n",
       "      <td>2</td>\n",
       "      <td>1</td>\n",
       "      <td>1</td>\n",
       "      <td>Cumings, Mrs. John Bradley (Florence Briggs Th...</td>\n",
       "      <td>female</td>\n",
       "      <td>38.0</td>\n",
       "      <td>1</td>\n",
       "      <td>0</td>\n",
       "      <td>PC 17599</td>\n",
       "      <td>71.2833</td>\n",
       "      <td>C85</td>\n",
       "      <td>C</td>\n",
       "    </tr>\n",
       "    <tr>\n",
       "      <th>2</th>\n",
       "      <td>3</td>\n",
       "      <td>1</td>\n",
       "      <td>3</td>\n",
       "      <td>Heikkinen, Miss. Laina</td>\n",
       "      <td>female</td>\n",
       "      <td>26.0</td>\n",
       "      <td>0</td>\n",
       "      <td>0</td>\n",
       "      <td>STON/O2. 3101282</td>\n",
       "      <td>7.9250</td>\n",
       "      <td>NaN</td>\n",
       "      <td>S</td>\n",
       "    </tr>\n",
       "    <tr>\n",
       "      <th>3</th>\n",
       "      <td>4</td>\n",
       "      <td>1</td>\n",
       "      <td>1</td>\n",
       "      <td>Futrelle, Mrs. Jacques Heath (Lily May Peel)</td>\n",
       "      <td>female</td>\n",
       "      <td>35.0</td>\n",
       "      <td>1</td>\n",
       "      <td>0</td>\n",
       "      <td>113803</td>\n",
       "      <td>53.1000</td>\n",
       "      <td>C123</td>\n",
       "      <td>S</td>\n",
       "    </tr>\n",
       "    <tr>\n",
       "      <th>4</th>\n",
       "      <td>5</td>\n",
       "      <td>0</td>\n",
       "      <td>3</td>\n",
       "      <td>Allen, Mr. William Henry</td>\n",
       "      <td>male</td>\n",
       "      <td>35.0</td>\n",
       "      <td>0</td>\n",
       "      <td>0</td>\n",
       "      <td>373450</td>\n",
       "      <td>8.0500</td>\n",
       "      <td>NaN</td>\n",
       "      <td>S</td>\n",
       "    </tr>\n",
       "  </tbody>\n",
       "</table>\n",
       "</div>"
      ],
      "text/plain": [
       "   PassengerId  Survived  Pclass  \\\n",
       "0            1         0       3   \n",
       "1            2         1       1   \n",
       "2            3         1       3   \n",
       "3            4         1       1   \n",
       "4            5         0       3   \n",
       "\n",
       "                                                Name     Sex   Age  SibSp  \\\n",
       "0                            Braund, Mr. Owen Harris    male  22.0      1   \n",
       "1  Cumings, Mrs. John Bradley (Florence Briggs Th...  female  38.0      1   \n",
       "2                             Heikkinen, Miss. Laina  female  26.0      0   \n",
       "3       Futrelle, Mrs. Jacques Heath (Lily May Peel)  female  35.0      1   \n",
       "4                           Allen, Mr. William Henry    male  35.0      0   \n",
       "\n",
       "   Parch            Ticket     Fare Cabin Embarked  \n",
       "0      0         A/5 21171   7.2500   NaN        S  \n",
       "1      0          PC 17599  71.2833   C85        C  \n",
       "2      0  STON/O2. 3101282   7.9250   NaN        S  \n",
       "3      0            113803  53.1000  C123        S  \n",
       "4      0            373450   8.0500   NaN        S  "
      ]
     },
     "execution_count": 13,
     "metadata": {},
     "output_type": "execute_result"
    }
   ],
   "source": [
    "data_train.head(5)"
   ]
  },
  {
   "cell_type": "markdown",
   "metadata": {},
   "source": [
    "#### Test Set"
   ]
  },
  {
   "cell_type": "code",
   "execution_count": 14,
   "metadata": {},
   "outputs": [
    {
     "data": {
      "text/html": [
       "<div>\n",
       "<style scoped>\n",
       "    .dataframe tbody tr th:only-of-type {\n",
       "        vertical-align: middle;\n",
       "    }\n",
       "\n",
       "    .dataframe tbody tr th {\n",
       "        vertical-align: top;\n",
       "    }\n",
       "\n",
       "    .dataframe thead th {\n",
       "        text-align: right;\n",
       "    }\n",
       "</style>\n",
       "<table border=\"1\" class=\"dataframe\">\n",
       "  <thead>\n",
       "    <tr style=\"text-align: right;\">\n",
       "      <th></th>\n",
       "      <th>PassengerId</th>\n",
       "      <th>Pclass</th>\n",
       "      <th>Name</th>\n",
       "      <th>Sex</th>\n",
       "      <th>Age</th>\n",
       "      <th>SibSp</th>\n",
       "      <th>Parch</th>\n",
       "      <th>Ticket</th>\n",
       "      <th>Fare</th>\n",
       "      <th>Cabin</th>\n",
       "      <th>Embarked</th>\n",
       "    </tr>\n",
       "  </thead>\n",
       "  <tbody>\n",
       "    <tr>\n",
       "      <th>0</th>\n",
       "      <td>892</td>\n",
       "      <td>3</td>\n",
       "      <td>Kelly, Mr. James</td>\n",
       "      <td>male</td>\n",
       "      <td>34.5</td>\n",
       "      <td>0</td>\n",
       "      <td>0</td>\n",
       "      <td>330911</td>\n",
       "      <td>7.8292</td>\n",
       "      <td>NaN</td>\n",
       "      <td>Q</td>\n",
       "    </tr>\n",
       "    <tr>\n",
       "      <th>1</th>\n",
       "      <td>893</td>\n",
       "      <td>3</td>\n",
       "      <td>Wilkes, Mrs. James (Ellen Needs)</td>\n",
       "      <td>female</td>\n",
       "      <td>47.0</td>\n",
       "      <td>1</td>\n",
       "      <td>0</td>\n",
       "      <td>363272</td>\n",
       "      <td>7.0000</td>\n",
       "      <td>NaN</td>\n",
       "      <td>S</td>\n",
       "    </tr>\n",
       "    <tr>\n",
       "      <th>2</th>\n",
       "      <td>894</td>\n",
       "      <td>2</td>\n",
       "      <td>Myles, Mr. Thomas Francis</td>\n",
       "      <td>male</td>\n",
       "      <td>62.0</td>\n",
       "      <td>0</td>\n",
       "      <td>0</td>\n",
       "      <td>240276</td>\n",
       "      <td>9.6875</td>\n",
       "      <td>NaN</td>\n",
       "      <td>Q</td>\n",
       "    </tr>\n",
       "    <tr>\n",
       "      <th>3</th>\n",
       "      <td>895</td>\n",
       "      <td>3</td>\n",
       "      <td>Wirz, Mr. Albert</td>\n",
       "      <td>male</td>\n",
       "      <td>27.0</td>\n",
       "      <td>0</td>\n",
       "      <td>0</td>\n",
       "      <td>315154</td>\n",
       "      <td>8.6625</td>\n",
       "      <td>NaN</td>\n",
       "      <td>S</td>\n",
       "    </tr>\n",
       "    <tr>\n",
       "      <th>4</th>\n",
       "      <td>896</td>\n",
       "      <td>3</td>\n",
       "      <td>Hirvonen, Mrs. Alexander (Helga E Lindqvist)</td>\n",
       "      <td>female</td>\n",
       "      <td>22.0</td>\n",
       "      <td>1</td>\n",
       "      <td>1</td>\n",
       "      <td>3101298</td>\n",
       "      <td>12.2875</td>\n",
       "      <td>NaN</td>\n",
       "      <td>S</td>\n",
       "    </tr>\n",
       "  </tbody>\n",
       "</table>\n",
       "</div>"
      ],
      "text/plain": [
       "   PassengerId  Pclass                                          Name     Sex  \\\n",
       "0          892       3                              Kelly, Mr. James    male   \n",
       "1          893       3              Wilkes, Mrs. James (Ellen Needs)  female   \n",
       "2          894       2                     Myles, Mr. Thomas Francis    male   \n",
       "3          895       3                              Wirz, Mr. Albert    male   \n",
       "4          896       3  Hirvonen, Mrs. Alexander (Helga E Lindqvist)  female   \n",
       "\n",
       "    Age  SibSp  Parch   Ticket     Fare Cabin Embarked  \n",
       "0  34.5      0      0   330911   7.8292   NaN        Q  \n",
       "1  47.0      1      0   363272   7.0000   NaN        S  \n",
       "2  62.0      0      0   240276   9.6875   NaN        Q  \n",
       "3  27.0      0      0   315154   8.6625   NaN        S  \n",
       "4  22.0      1      1  3101298  12.2875   NaN        S  "
      ]
     },
     "execution_count": 14,
     "metadata": {},
     "output_type": "execute_result"
    }
   ],
   "source": [
    "data_test.head(5)"
   ]
  },
  {
   "cell_type": "markdown",
   "metadata": {},
   "source": [
    "#### Checking missing values in training set"
   ]
  },
  {
   "cell_type": "code",
   "execution_count": 15,
   "metadata": {},
   "outputs": [
    {
     "data": {
      "text/html": [
       "<div>\n",
       "<style scoped>\n",
       "    .dataframe tbody tr th:only-of-type {\n",
       "        vertical-align: middle;\n",
       "    }\n",
       "\n",
       "    .dataframe tbody tr th {\n",
       "        vertical-align: top;\n",
       "    }\n",
       "\n",
       "    .dataframe thead th {\n",
       "        text-align: right;\n",
       "    }\n",
       "</style>\n",
       "<table border=\"1\" class=\"dataframe\">\n",
       "  <thead>\n",
       "    <tr style=\"text-align: right;\">\n",
       "      <th></th>\n",
       "      <th>count</th>\n",
       "      <th>percent</th>\n",
       "    </tr>\n",
       "  </thead>\n",
       "  <tbody>\n",
       "    <tr>\n",
       "      <th>Age</th>\n",
       "      <td>177</td>\n",
       "      <td>19.87%</td>\n",
       "    </tr>\n",
       "    <tr>\n",
       "      <th>Cabin</th>\n",
       "      <td>687</td>\n",
       "      <td>77.10%</td>\n",
       "    </tr>\n",
       "    <tr>\n",
       "      <th>Embarked</th>\n",
       "      <td>2</td>\n",
       "      <td>0.22%</td>\n",
       "    </tr>\n",
       "  </tbody>\n",
       "</table>\n",
       "</div>"
      ],
      "text/plain": [
       "          count percent\n",
       "Age         177  19.87%\n",
       "Cabin       687  77.10%\n",
       "Embarked      2   0.22%"
      ]
     },
     "execution_count": 15,
     "metadata": {},
     "output_type": "execute_result"
    }
   ],
   "source": [
    "nulls = data_train.isnull().sum()\n",
    "nulls = nulls.loc[nulls > 0]\n",
    "nulls = nulls.to_frame(name='count')\n",
    "N = len(data_train.index)\n",
    "nulls.insert(1, 'percent', ['{0:.2%}'.format(nulls.loc['Age'][0] / N), \n",
    "                            '{0:.2%}'.format(nulls.loc['Cabin'][0] / N),\n",
    "                            '{0:.2%}'.format(nulls.loc['Embarked'][0] / N)])\n",
    "nulls"
   ]
  },
  {
   "cell_type": "markdown",
   "metadata": {},
   "source": [
    "Seems to be a lot of missing values in 'Age' and 'Cabin'."
   ]
  },
  {
   "cell_type": "markdown",
   "metadata": {},
   "source": [
    "As I concluded from preliminary analysis, the Age is one of the critical and must be treated first.\n",
    "\n",
    "The Cabin and Embarked are probably not important in Survival prediction.\n",
    "\n",
    "I will come to nulls later but for now lets look on distributions."
   ]
  },
  {
   "cell_type": "markdown",
   "metadata": {},
   "source": [
    "#### Checking missing values in test set"
   ]
  },
  {
   "cell_type": "code",
   "execution_count": 16,
   "metadata": {},
   "outputs": [
    {
     "data": {
      "text/html": [
       "<div>\n",
       "<style scoped>\n",
       "    .dataframe tbody tr th:only-of-type {\n",
       "        vertical-align: middle;\n",
       "    }\n",
       "\n",
       "    .dataframe tbody tr th {\n",
       "        vertical-align: top;\n",
       "    }\n",
       "\n",
       "    .dataframe thead th {\n",
       "        text-align: right;\n",
       "    }\n",
       "</style>\n",
       "<table border=\"1\" class=\"dataframe\">\n",
       "  <thead>\n",
       "    <tr style=\"text-align: right;\">\n",
       "      <th></th>\n",
       "      <th>count</th>\n",
       "    </tr>\n",
       "  </thead>\n",
       "  <tbody>\n",
       "    <tr>\n",
       "      <th>Age</th>\n",
       "      <td>86</td>\n",
       "    </tr>\n",
       "    <tr>\n",
       "      <th>Fare</th>\n",
       "      <td>1</td>\n",
       "    </tr>\n",
       "    <tr>\n",
       "      <th>Cabin</th>\n",
       "      <td>327</td>\n",
       "    </tr>\n",
       "  </tbody>\n",
       "</table>\n",
       "</div>"
      ],
      "text/plain": [
       "       count\n",
       "Age       86\n",
       "Fare       1\n",
       "Cabin    327"
      ]
     },
     "execution_count": 16,
     "metadata": {},
     "output_type": "execute_result"
    }
   ],
   "source": [
    "nulls = data_test.isnull().sum()\n",
    "nulls = nulls.loc[nulls > 0]\n",
    "nulls = nulls.to_frame(name='count')\n",
    "nulls"
   ]
  },
  {
   "cell_type": "markdown",
   "metadata": {},
   "source": [
    "There is one missing value for ticket fare. For now I will assign it a zero."
   ]
  },
  {
   "cell_type": "code",
   "execution_count": 17,
   "metadata": {},
   "outputs": [],
   "source": [
    "data_test = data_test.fillna(value={'Fare':0})"
   ]
  },
  {
   "cell_type": "markdown",
   "metadata": {},
   "source": [
    "#### Calculate survival rate"
   ]
  },
  {
   "cell_type": "code",
   "execution_count": 18,
   "metadata": {},
   "outputs": [
    {
     "name": "stdout",
     "output_type": "stream",
     "text": [
      "Deads: 549 (61.62%)\n",
      "Survivals: 342 (38.38%)\n"
     ]
    }
   ],
   "source": [
    "#how many died\n",
    "N_surv0 = len(data_train.loc[data_train['Survived']==0])\n",
    "#how many survived\n",
    "N_surv1 = len(data_train.loc[data_train['Survived']==1])\n",
    "\n",
    "print('Deads: {0} ({1:.2%})'.format(N_surv0, N_surv0 / N))\n",
    "print('Survivals: {0} ({1:.2%})'.format(N_surv1, N_surv1 / N))"
   ]
  },
  {
   "cell_type": "markdown",
   "metadata": {},
   "source": [
    "Well, only 1/3 survived. That was expectable though."
   ]
  },
  {
   "cell_type": "markdown",
   "metadata": {},
   "source": [
    "#### Replace 'Name' with encoded titles"
   ]
  },
  {
   "cell_type": "code",
   "execution_count": 19,
   "metadata": {},
   "outputs": [],
   "source": [
    "#Concatinate train & test data (to make sure that all unique titles are captured)\n",
    "data_tot = pd.concat([data_train, data_test], ignore_index=True)"
   ]
  },
  {
   "cell_type": "code",
   "execution_count": 20,
   "metadata": {},
   "outputs": [],
   "source": [
    "#Encode 'Name'\n",
    "def name_encoder(data):\n",
    "    data_encoded = []\n",
    "    for i in data['Name']:\n",
    "        lname0 = i.split(',')[0].strip() #last name\n",
    "        ttl = i.split(',')[1].split('.')[0].strip() #title\n",
    "        lname1 = (i.split('(')[-1].split(')')[0].split()[-1].strip() if '(' in i else '').replace('\\\"','') #second last name\n",
    "        data_encoded.append([lname0, lname1, ttl])\n",
    "    data_encoded = pd.DataFrame(data_encoded, columns=['lname0', 'lname1', 'ttl'], index=data.index)\n",
    "    return pd.concat([data.reset_index(drop=True), data_encoded], axis=1)"
   ]
  },
  {
   "cell_type": "code",
   "execution_count": 21,
   "metadata": {},
   "outputs": [
    {
     "data": {
      "text/html": [
       "<div>\n",
       "<style scoped>\n",
       "    .dataframe tbody tr th:only-of-type {\n",
       "        vertical-align: middle;\n",
       "    }\n",
       "\n",
       "    .dataframe tbody tr th {\n",
       "        vertical-align: top;\n",
       "    }\n",
       "\n",
       "    .dataframe thead th {\n",
       "        text-align: right;\n",
       "    }\n",
       "</style>\n",
       "<table border=\"1\" class=\"dataframe\">\n",
       "  <thead>\n",
       "    <tr style=\"text-align: right;\">\n",
       "      <th></th>\n",
       "      <th>Name</th>\n",
       "      <th>lname0</th>\n",
       "      <th>lname1</th>\n",
       "      <th>ttl</th>\n",
       "    </tr>\n",
       "  </thead>\n",
       "  <tbody>\n",
       "    <tr>\n",
       "      <th>0</th>\n",
       "      <td>Braund, Mr. Owen Harris</td>\n",
       "      <td>Braund</td>\n",
       "      <td></td>\n",
       "      <td>Mr</td>\n",
       "    </tr>\n",
       "    <tr>\n",
       "      <th>1</th>\n",
       "      <td>Cumings, Mrs. John Bradley (Florence Briggs Th...</td>\n",
       "      <td>Cumings</td>\n",
       "      <td>Thayer</td>\n",
       "      <td>Mrs</td>\n",
       "    </tr>\n",
       "    <tr>\n",
       "      <th>2</th>\n",
       "      <td>Heikkinen, Miss. Laina</td>\n",
       "      <td>Heikkinen</td>\n",
       "      <td></td>\n",
       "      <td>Miss</td>\n",
       "    </tr>\n",
       "    <tr>\n",
       "      <th>3</th>\n",
       "      <td>Futrelle, Mrs. Jacques Heath (Lily May Peel)</td>\n",
       "      <td>Futrelle</td>\n",
       "      <td>Peel</td>\n",
       "      <td>Mrs</td>\n",
       "    </tr>\n",
       "    <tr>\n",
       "      <th>4</th>\n",
       "      <td>Allen, Mr. William Henry</td>\n",
       "      <td>Allen</td>\n",
       "      <td></td>\n",
       "      <td>Mr</td>\n",
       "    </tr>\n",
       "  </tbody>\n",
       "</table>\n",
       "</div>"
      ],
      "text/plain": [
       "                                                Name     lname0  lname1   ttl\n",
       "0                            Braund, Mr. Owen Harris     Braund            Mr\n",
       "1  Cumings, Mrs. John Bradley (Florence Briggs Th...    Cumings  Thayer   Mrs\n",
       "2                             Heikkinen, Miss. Laina  Heikkinen          Miss\n",
       "3       Futrelle, Mrs. Jacques Heath (Lily May Peel)   Futrelle    Peel   Mrs\n",
       "4                           Allen, Mr. William Henry      Allen            Mr"
      ]
     },
     "execution_count": 21,
     "metadata": {},
     "output_type": "execute_result"
    }
   ],
   "source": [
    "df_name = name_encoder(data_tot['Name'].to_frame())\n",
    "df_name.head(5)"
   ]
  },
  {
   "cell_type": "code",
   "execution_count": 22,
   "metadata": {},
   "outputs": [
    {
     "data": {
      "text/html": [
       "<div>\n",
       "<style scoped>\n",
       "    .dataframe tbody tr th:only-of-type {\n",
       "        vertical-align: middle;\n",
       "    }\n",
       "\n",
       "    .dataframe tbody tr th {\n",
       "        vertical-align: top;\n",
       "    }\n",
       "\n",
       "    .dataframe thead th {\n",
       "        text-align: right;\n",
       "    }\n",
       "</style>\n",
       "<table border=\"1\" class=\"dataframe\">\n",
       "  <thead>\n",
       "    <tr style=\"text-align: right;\">\n",
       "      <th></th>\n",
       "      <th>0</th>\n",
       "      <th>1</th>\n",
       "      <th>2</th>\n",
       "      <th>3</th>\n",
       "      <th>4</th>\n",
       "      <th>5</th>\n",
       "      <th>6</th>\n",
       "      <th>7</th>\n",
       "      <th>8</th>\n",
       "      <th>9</th>\n",
       "      <th>10</th>\n",
       "      <th>11</th>\n",
       "      <th>12</th>\n",
       "      <th>13</th>\n",
       "      <th>14</th>\n",
       "      <th>15</th>\n",
       "      <th>16</th>\n",
       "      <th>17</th>\n",
       "    </tr>\n",
       "  </thead>\n",
       "  <tbody>\n",
       "    <tr>\n",
       "      <th>ttl</th>\n",
       "      <td>Mr</td>\n",
       "      <td>Mrs</td>\n",
       "      <td>Miss</td>\n",
       "      <td>Master</td>\n",
       "      <td>Don</td>\n",
       "      <td>Rev</td>\n",
       "      <td>Dr</td>\n",
       "      <td>Mme</td>\n",
       "      <td>Ms</td>\n",
       "      <td>Major</td>\n",
       "      <td>Lady</td>\n",
       "      <td>Sir</td>\n",
       "      <td>Mlle</td>\n",
       "      <td>Col</td>\n",
       "      <td>Capt</td>\n",
       "      <td>the Countess</td>\n",
       "      <td>Jonkheer</td>\n",
       "      <td>Dona</td>\n",
       "    </tr>\n",
       "    <tr>\n",
       "      <th>ttl_n</th>\n",
       "      <td>757</td>\n",
       "      <td>197</td>\n",
       "      <td>260</td>\n",
       "      <td>61</td>\n",
       "      <td>1</td>\n",
       "      <td>8</td>\n",
       "      <td>8</td>\n",
       "      <td>1</td>\n",
       "      <td>2</td>\n",
       "      <td>2</td>\n",
       "      <td>1</td>\n",
       "      <td>1</td>\n",
       "      <td>2</td>\n",
       "      <td>4</td>\n",
       "      <td>1</td>\n",
       "      <td>1</td>\n",
       "      <td>1</td>\n",
       "      <td>1</td>\n",
       "    </tr>\n",
       "  </tbody>\n",
       "</table>\n",
       "</div>"
      ],
      "text/plain": [
       "         0    1     2       3    4    5   6    7   8      9    10   11    12  \\\n",
       "ttl     Mr  Mrs  Miss  Master  Don  Rev  Dr  Mme  Ms  Major  Lady  Sir  Mlle   \n",
       "ttl_n  757  197   260      61    1    8   8    1   2      2     1    1     2   \n",
       "\n",
       "        13    14            15        16    17  \n",
       "ttl    Col  Capt  the Countess  Jonkheer  Dona  \n",
       "ttl_n    4     1             1         1     1  "
      ]
     },
     "execution_count": 22,
     "metadata": {},
     "output_type": "execute_result"
    }
   ],
   "source": [
    "#Find unique titles and their counts\n",
    "ttl = df_name['ttl'].unique()\n",
    "ttl = pd.DataFrame([[i, len(df_name.loc[df_name['ttl']==i])] for i in ttl], columns=['ttl', 'ttl_n'])\n",
    "ttl.T"
   ]
  },
  {
   "cell_type": "code",
   "execution_count": 23,
   "metadata": {},
   "outputs": [
    {
     "data": {
      "text/html": [
       "<div>\n",
       "<style scoped>\n",
       "    .dataframe tbody tr th:only-of-type {\n",
       "        vertical-align: middle;\n",
       "    }\n",
       "\n",
       "    .dataframe tbody tr th {\n",
       "        vertical-align: top;\n",
       "    }\n",
       "\n",
       "    .dataframe thead th {\n",
       "        text-align: right;\n",
       "    }\n",
       "</style>\n",
       "<table border=\"1\" class=\"dataframe\">\n",
       "  <thead>\n",
       "    <tr style=\"text-align: right;\">\n",
       "      <th></th>\n",
       "      <th>Name</th>\n",
       "      <th>lname0</th>\n",
       "      <th>lname1</th>\n",
       "      <th>ttl</th>\n",
       "    </tr>\n",
       "  </thead>\n",
       "  <tbody>\n",
       "    <tr>\n",
       "      <th>245</th>\n",
       "      <td>Minahan, Dr. William Edward</td>\n",
       "      <td>Minahan</td>\n",
       "      <td></td>\n",
       "      <td>Dr</td>\n",
       "    </tr>\n",
       "    <tr>\n",
       "      <th>317</th>\n",
       "      <td>Moraweck, Dr. Ernest</td>\n",
       "      <td>Moraweck</td>\n",
       "      <td></td>\n",
       "      <td>Dr</td>\n",
       "    </tr>\n",
       "    <tr>\n",
       "      <th>398</th>\n",
       "      <td>Pain, Dr. Alfred</td>\n",
       "      <td>Pain</td>\n",
       "      <td></td>\n",
       "      <td>Dr</td>\n",
       "    </tr>\n",
       "    <tr>\n",
       "      <th>632</th>\n",
       "      <td>Stahelin-Maeglin, Dr. Max</td>\n",
       "      <td>Stahelin-Maeglin</td>\n",
       "      <td></td>\n",
       "      <td>Dr</td>\n",
       "    </tr>\n",
       "    <tr>\n",
       "      <th>660</th>\n",
       "      <td>Frauenthal, Dr. Henry William</td>\n",
       "      <td>Frauenthal</td>\n",
       "      <td></td>\n",
       "      <td>Dr</td>\n",
       "    </tr>\n",
       "    <tr>\n",
       "      <th>766</th>\n",
       "      <td>Brewe, Dr. Arthur Jackson</td>\n",
       "      <td>Brewe</td>\n",
       "      <td></td>\n",
       "      <td>Dr</td>\n",
       "    </tr>\n",
       "    <tr>\n",
       "      <th>796</th>\n",
       "      <td>Leader, Dr. Alice (Farnham)</td>\n",
       "      <td>Leader</td>\n",
       "      <td>Farnham</td>\n",
       "      <td>Dr</td>\n",
       "    </tr>\n",
       "    <tr>\n",
       "      <th>1184</th>\n",
       "      <td>Dodge, Dr. Washington</td>\n",
       "      <td>Dodge</td>\n",
       "      <td></td>\n",
       "      <td>Dr</td>\n",
       "    </tr>\n",
       "  </tbody>\n",
       "</table>\n",
       "</div>"
      ],
      "text/plain": [
       "                               Name            lname0   lname1 ttl\n",
       "245     Minahan, Dr. William Edward           Minahan           Dr\n",
       "317            Moraweck, Dr. Ernest          Moraweck           Dr\n",
       "398                Pain, Dr. Alfred              Pain           Dr\n",
       "632       Stahelin-Maeglin, Dr. Max  Stahelin-Maeglin           Dr\n",
       "660   Frauenthal, Dr. Henry William        Frauenthal           Dr\n",
       "766       Brewe, Dr. Arthur Jackson             Brewe           Dr\n",
       "796     Leader, Dr. Alice (Farnham)            Leader  Farnham  Dr\n",
       "1184          Dodge, Dr. Washington             Dodge           Dr"
      ]
     },
     "execution_count": 23,
     "metadata": {},
     "output_type": "execute_result"
    }
   ],
   "source": [
    "#Explore samples with 'Dr' title\n",
    "df_name.loc[df_name['ttl']=='Dr']"
   ]
  },
  {
   "cell_type": "markdown",
   "metadata": {},
   "source": [
    "_**Leader, Dr. Alice (Farnham) is only one woman with title 'Dr'._"
   ]
  },
  {
   "cell_type": "markdown",
   "metadata": {},
   "source": [
    "The function below will replace each person's name with encoded title. Instead of using all unique titles, I will teke only these: 'Mr', 'Mrs', 'Miss' and 'Master'."
   ]
  },
  {
   "cell_type": "code",
   "execution_count": 24,
   "metadata": {},
   "outputs": [],
   "source": [
    "def title_encoder(data):\n",
    "    mask = {'Don':'Mr',\n",
    "            'Sir':'Mr',\n",
    "            'Jonkheer':'Mr',\n",
    "            'Mme':'Mrs',\n",
    "            'Lady':'Mrs',\n",
    "            'the Countess':'Mrs',\n",
    "            'Dona':'Mrs',\n",
    "            'Mlle':'Miss',\n",
    "            'Ms':'Miss',\n",
    "            'Major':'Mr',\n",
    "            'Col':'Mr',\n",
    "            'Capt':'Mr',\n",
    "            'Rev':'Mr',\n",
    "            'Dr':'Mr'}\n",
    "    \n",
    "    data = name_encoder(data)\n",
    "    data['ttl'] = data['ttl'].apply(lambda i: mask[i] if i in mask else i)\n",
    "#     df = data['ttl'].apply(lambda i: mask[i] if i in mask else i)\n",
    "#     data = pd.concat([data.drop(columns=['ttl']), df], axis=1)\n",
    "    if 797 in data['PassengerId'].values:\n",
    "        data.loc[data_tot['PassengerId']==797, 'ttl'] = 'Mrs'\n",
    "    mask = {'Mr':1, 'Mrs':2, 'Miss':3, 'Master':4}\n",
    "    data['ttl'] = data['ttl'].apply(lambda i: mask[i])\n",
    "#     df = data['ttl'].apply(lambda i: mask[i])\n",
    "#     return pd.concat([data.drop(columns=['ttl']), df], axis=1)\n",
    "    return data"
   ]
  },
  {
   "cell_type": "markdown",
   "metadata": {},
   "source": [
    "#### Explore missing values for 'Embarked'"
   ]
  },
  {
   "cell_type": "code",
   "execution_count": 25,
   "metadata": {},
   "outputs": [
    {
     "data": {
      "text/html": [
       "<div>\n",
       "<style scoped>\n",
       "    .dataframe tbody tr th:only-of-type {\n",
       "        vertical-align: middle;\n",
       "    }\n",
       "\n",
       "    .dataframe tbody tr th {\n",
       "        vertical-align: top;\n",
       "    }\n",
       "\n",
       "    .dataframe thead th {\n",
       "        text-align: right;\n",
       "    }\n",
       "</style>\n",
       "<table border=\"1\" class=\"dataframe\">\n",
       "  <thead>\n",
       "    <tr style=\"text-align: right;\">\n",
       "      <th></th>\n",
       "      <th>PassengerId</th>\n",
       "      <th>Survived</th>\n",
       "      <th>Pclass</th>\n",
       "      <th>Name</th>\n",
       "      <th>Sex</th>\n",
       "      <th>Age</th>\n",
       "      <th>SibSp</th>\n",
       "      <th>Parch</th>\n",
       "      <th>Ticket</th>\n",
       "      <th>Fare</th>\n",
       "      <th>Cabin</th>\n",
       "      <th>Embarked</th>\n",
       "    </tr>\n",
       "  </thead>\n",
       "  <tbody>\n",
       "    <tr>\n",
       "      <th>61</th>\n",
       "      <td>62</td>\n",
       "      <td>1.0</td>\n",
       "      <td>1</td>\n",
       "      <td>Icard, Miss. Amelie</td>\n",
       "      <td>female</td>\n",
       "      <td>38.0</td>\n",
       "      <td>0</td>\n",
       "      <td>0</td>\n",
       "      <td>113572</td>\n",
       "      <td>80.0</td>\n",
       "      <td>B28</td>\n",
       "      <td>NaN</td>\n",
       "    </tr>\n",
       "    <tr>\n",
       "      <th>829</th>\n",
       "      <td>830</td>\n",
       "      <td>1.0</td>\n",
       "      <td>1</td>\n",
       "      <td>Stone, Mrs. George Nelson (Martha Evelyn)</td>\n",
       "      <td>female</td>\n",
       "      <td>62.0</td>\n",
       "      <td>0</td>\n",
       "      <td>0</td>\n",
       "      <td>113572</td>\n",
       "      <td>80.0</td>\n",
       "      <td>B28</td>\n",
       "      <td>NaN</td>\n",
       "    </tr>\n",
       "  </tbody>\n",
       "</table>\n",
       "</div>"
      ],
      "text/plain": [
       "     PassengerId  Survived  Pclass                                       Name  \\\n",
       "61            62       1.0       1                        Icard, Miss. Amelie   \n",
       "829          830       1.0       1  Stone, Mrs. George Nelson (Martha Evelyn)   \n",
       "\n",
       "        Sex   Age  SibSp  Parch  Ticket  Fare Cabin Embarked  \n",
       "61   female  38.0      0      0  113572  80.0   B28      NaN  \n",
       "829  female  62.0      0      0  113572  80.0   B28      NaN  "
      ]
     },
     "execution_count": 25,
     "metadata": {},
     "output_type": "execute_result"
    }
   ],
   "source": [
    "data_tot.loc[data_tot['Embarked'].isnull()]"
   ]
  },
  {
   "cell_type": "markdown",
   "metadata": {},
   "source": [
    "Display samples with similar ticket number"
   ]
  },
  {
   "cell_type": "code",
   "execution_count": 26,
   "metadata": {},
   "outputs": [
    {
     "data": {
      "text/html": [
       "<div>\n",
       "<style scoped>\n",
       "    .dataframe tbody tr th:only-of-type {\n",
       "        vertical-align: middle;\n",
       "    }\n",
       "\n",
       "    .dataframe tbody tr th {\n",
       "        vertical-align: top;\n",
       "    }\n",
       "\n",
       "    .dataframe thead th {\n",
       "        text-align: right;\n",
       "    }\n",
       "</style>\n",
       "<table border=\"1\" class=\"dataframe\">\n",
       "  <thead>\n",
       "    <tr style=\"text-align: right;\">\n",
       "      <th></th>\n",
       "      <th>PassengerId</th>\n",
       "      <th>Survived</th>\n",
       "      <th>Pclass</th>\n",
       "      <th>Name</th>\n",
       "      <th>Sex</th>\n",
       "      <th>Age</th>\n",
       "      <th>SibSp</th>\n",
       "      <th>Parch</th>\n",
       "      <th>Ticket</th>\n",
       "      <th>Fare</th>\n",
       "      <th>Cabin</th>\n",
       "      <th>Embarked</th>\n",
       "    </tr>\n",
       "  </thead>\n",
       "  <tbody>\n",
       "    <tr>\n",
       "      <th>782</th>\n",
       "      <td>783</td>\n",
       "      <td>0.0</td>\n",
       "      <td>1</td>\n",
       "      <td>Long, Mr. Milton Clyde</td>\n",
       "      <td>male</td>\n",
       "      <td>29.0</td>\n",
       "      <td>0</td>\n",
       "      <td>0</td>\n",
       "      <td>113501</td>\n",
       "      <td>30.0000</td>\n",
       "      <td>D6</td>\n",
       "      <td>S</td>\n",
       "    </tr>\n",
       "    <tr>\n",
       "      <th>377</th>\n",
       "      <td>378</td>\n",
       "      <td>0.0</td>\n",
       "      <td>1</td>\n",
       "      <td>Widener, Mr. Harry Elkins</td>\n",
       "      <td>male</td>\n",
       "      <td>27.0</td>\n",
       "      <td>0</td>\n",
       "      <td>2</td>\n",
       "      <td>113503</td>\n",
       "      <td>211.5000</td>\n",
       "      <td>C82</td>\n",
       "      <td>C</td>\n",
       "    </tr>\n",
       "    <tr>\n",
       "      <th>965</th>\n",
       "      <td>966</td>\n",
       "      <td>NaN</td>\n",
       "      <td>1</td>\n",
       "      <td>Geiger, Miss. Amalie</td>\n",
       "      <td>female</td>\n",
       "      <td>35.0</td>\n",
       "      <td>0</td>\n",
       "      <td>0</td>\n",
       "      <td>113503</td>\n",
       "      <td>211.5000</td>\n",
       "      <td>C130</td>\n",
       "      <td>C</td>\n",
       "    </tr>\n",
       "    <tr>\n",
       "      <th>966</th>\n",
       "      <td>967</td>\n",
       "      <td>NaN</td>\n",
       "      <td>1</td>\n",
       "      <td>Keeping, Mr. Edwin</td>\n",
       "      <td>male</td>\n",
       "      <td>32.5</td>\n",
       "      <td>0</td>\n",
       "      <td>0</td>\n",
       "      <td>113503</td>\n",
       "      <td>211.5000</td>\n",
       "      <td>C132</td>\n",
       "      <td>C</td>\n",
       "    </tr>\n",
       "    <tr>\n",
       "      <th>1109</th>\n",
       "      <td>1110</td>\n",
       "      <td>NaN</td>\n",
       "      <td>1</td>\n",
       "      <td>Widener, Mrs. George Dunton (Eleanor Elkins)</td>\n",
       "      <td>female</td>\n",
       "      <td>50.0</td>\n",
       "      <td>1</td>\n",
       "      <td>1</td>\n",
       "      <td>113503</td>\n",
       "      <td>211.5000</td>\n",
       "      <td>C80</td>\n",
       "      <td>C</td>\n",
       "    </tr>\n",
       "    <tr>\n",
       "      <th>1298</th>\n",
       "      <td>1299</td>\n",
       "      <td>NaN</td>\n",
       "      <td>1</td>\n",
       "      <td>Widener, Mr. George Dunton</td>\n",
       "      <td>male</td>\n",
       "      <td>50.0</td>\n",
       "      <td>1</td>\n",
       "      <td>1</td>\n",
       "      <td>113503</td>\n",
       "      <td>211.5000</td>\n",
       "      <td>C80</td>\n",
       "      <td>C</td>\n",
       "    </tr>\n",
       "    <tr>\n",
       "      <th>166</th>\n",
       "      <td>167</td>\n",
       "      <td>1.0</td>\n",
       "      <td>1</td>\n",
       "      <td>Chibnall, Mrs. (Edith Martha Bowerman)</td>\n",
       "      <td>female</td>\n",
       "      <td>NaN</td>\n",
       "      <td>0</td>\n",
       "      <td>1</td>\n",
       "      <td>113505</td>\n",
       "      <td>55.0000</td>\n",
       "      <td>E33</td>\n",
       "      <td>S</td>\n",
       "    </tr>\n",
       "    <tr>\n",
       "      <th>356</th>\n",
       "      <td>357</td>\n",
       "      <td>1.0</td>\n",
       "      <td>1</td>\n",
       "      <td>Bowerman, Miss. Elsie Edith</td>\n",
       "      <td>female</td>\n",
       "      <td>22.0</td>\n",
       "      <td>0</td>\n",
       "      <td>1</td>\n",
       "      <td>113505</td>\n",
       "      <td>55.0000</td>\n",
       "      <td>E33</td>\n",
       "      <td>S</td>\n",
       "    </tr>\n",
       "    <tr>\n",
       "      <th>54</th>\n",
       "      <td>55</td>\n",
       "      <td>0.0</td>\n",
       "      <td>1</td>\n",
       "      <td>Ostby, Mr. Engelhart Cornelius</td>\n",
       "      <td>male</td>\n",
       "      <td>65.0</td>\n",
       "      <td>0</td>\n",
       "      <td>1</td>\n",
       "      <td>113509</td>\n",
       "      <td>61.9792</td>\n",
       "      <td>B30</td>\n",
       "      <td>C</td>\n",
       "    </tr>\n",
       "    <tr>\n",
       "      <th>917</th>\n",
       "      <td>918</td>\n",
       "      <td>NaN</td>\n",
       "      <td>1</td>\n",
       "      <td>Ostby, Miss. Helene Ragnhild</td>\n",
       "      <td>female</td>\n",
       "      <td>22.0</td>\n",
       "      <td>0</td>\n",
       "      <td>1</td>\n",
       "      <td>113509</td>\n",
       "      <td>61.9792</td>\n",
       "      <td>B36</td>\n",
       "      <td>C</td>\n",
       "    </tr>\n",
       "    <tr>\n",
       "      <th>351</th>\n",
       "      <td>352</td>\n",
       "      <td>0.0</td>\n",
       "      <td>1</td>\n",
       "      <td>Williams-Lambert, Mr. Fletcher Fellows</td>\n",
       "      <td>male</td>\n",
       "      <td>NaN</td>\n",
       "      <td>0</td>\n",
       "      <td>0</td>\n",
       "      <td>113510</td>\n",
       "      <td>35.0000</td>\n",
       "      <td>C128</td>\n",
       "      <td>S</td>\n",
       "    </tr>\n",
       "    <tr>\n",
       "      <th>252</th>\n",
       "      <td>253</td>\n",
       "      <td>0.0</td>\n",
       "      <td>1</td>\n",
       "      <td>Stead, Mr. William Thomas</td>\n",
       "      <td>male</td>\n",
       "      <td>62.0</td>\n",
       "      <td>0</td>\n",
       "      <td>0</td>\n",
       "      <td>113514</td>\n",
       "      <td>26.5500</td>\n",
       "      <td>C87</td>\n",
       "      <td>S</td>\n",
       "    </tr>\n",
       "    <tr>\n",
       "      <th>61</th>\n",
       "      <td>62</td>\n",
       "      <td>1.0</td>\n",
       "      <td>1</td>\n",
       "      <td>Icard, Miss. Amelie</td>\n",
       "      <td>female</td>\n",
       "      <td>38.0</td>\n",
       "      <td>0</td>\n",
       "      <td>0</td>\n",
       "      <td>113572</td>\n",
       "      <td>80.0000</td>\n",
       "      <td>B28</td>\n",
       "      <td>NaN</td>\n",
       "    </tr>\n",
       "    <tr>\n",
       "      <th>829</th>\n",
       "      <td>830</td>\n",
       "      <td>1.0</td>\n",
       "      <td>1</td>\n",
       "      <td>Stone, Mrs. George Nelson (Martha Evelyn)</td>\n",
       "      <td>female</td>\n",
       "      <td>62.0</td>\n",
       "      <td>0</td>\n",
       "      <td>0</td>\n",
       "      <td>113572</td>\n",
       "      <td>80.0000</td>\n",
       "      <td>B28</td>\n",
       "      <td>NaN</td>\n",
       "    </tr>\n",
       "  </tbody>\n",
       "</table>\n",
       "</div>"
      ],
      "text/plain": [
       "      PassengerId  Survived  Pclass  \\\n",
       "782           783       0.0       1   \n",
       "377           378       0.0       1   \n",
       "965           966       NaN       1   \n",
       "966           967       NaN       1   \n",
       "1109         1110       NaN       1   \n",
       "1298         1299       NaN       1   \n",
       "166           167       1.0       1   \n",
       "356           357       1.0       1   \n",
       "54             55       0.0       1   \n",
       "917           918       NaN       1   \n",
       "351           352       0.0       1   \n",
       "252           253       0.0       1   \n",
       "61             62       1.0       1   \n",
       "829           830       1.0       1   \n",
       "\n",
       "                                              Name     Sex   Age  SibSp  \\\n",
       "782                         Long, Mr. Milton Clyde    male  29.0      0   \n",
       "377                      Widener, Mr. Harry Elkins    male  27.0      0   \n",
       "965                           Geiger, Miss. Amalie  female  35.0      0   \n",
       "966                             Keeping, Mr. Edwin    male  32.5      0   \n",
       "1109  Widener, Mrs. George Dunton (Eleanor Elkins)  female  50.0      1   \n",
       "1298                    Widener, Mr. George Dunton    male  50.0      1   \n",
       "166         Chibnall, Mrs. (Edith Martha Bowerman)  female   NaN      0   \n",
       "356                    Bowerman, Miss. Elsie Edith  female  22.0      0   \n",
       "54                  Ostby, Mr. Engelhart Cornelius    male  65.0      0   \n",
       "917                   Ostby, Miss. Helene Ragnhild  female  22.0      0   \n",
       "351         Williams-Lambert, Mr. Fletcher Fellows    male   NaN      0   \n",
       "252                      Stead, Mr. William Thomas    male  62.0      0   \n",
       "61                             Icard, Miss. Amelie  female  38.0      0   \n",
       "829      Stone, Mrs. George Nelson (Martha Evelyn)  female  62.0      0   \n",
       "\n",
       "      Parch  Ticket      Fare Cabin Embarked  \n",
       "782       0  113501   30.0000    D6        S  \n",
       "377       2  113503  211.5000   C82        C  \n",
       "965       0  113503  211.5000  C130        C  \n",
       "966       0  113503  211.5000  C132        C  \n",
       "1109      1  113503  211.5000   C80        C  \n",
       "1298      1  113503  211.5000   C80        C  \n",
       "166       1  113505   55.0000   E33        S  \n",
       "356       1  113505   55.0000   E33        S  \n",
       "54        1  113509   61.9792   B30        C  \n",
       "917       1  113509   61.9792   B36        C  \n",
       "351       0  113510   35.0000  C128        S  \n",
       "252       0  113514   26.5500   C87        S  \n",
       "61        0  113572   80.0000   B28      NaN  \n",
       "829       0  113572   80.0000   B28      NaN  "
      ]
     },
     "execution_count": 26,
     "metadata": {},
     "output_type": "execute_result"
    }
   ],
   "source": [
    "df = data_tot.query('Ticket.str.contains(\"1135\")')\n",
    "df.sort_values(by='Ticket')"
   ]
  },
  {
   "cell_type": "markdown",
   "metadata": {},
   "source": [
    "All people with similar ticket numbers are embarked in 'C' or 'S'. So i will simply assign the most frequent class to both missed values."
   ]
  },
  {
   "cell_type": "code",
   "execution_count": 27,
   "metadata": {},
   "outputs": [
    {
     "name": "stdout",
     "output_type": "stream",
     "text": [
      "C: 7\n",
      "S: 5\n",
      "All: 14\n"
     ]
    }
   ],
   "source": [
    "nc = len(df.loc[df['Embarked']=='C'])\n",
    "ns = len(df.loc[df['Embarked']=='S'])\n",
    "n = len(df.index)\n",
    "\n",
    "print('C: %d' % nc)\n",
    "print('S: %d' % ns)\n",
    "print('All: %d' % n)"
   ]
  },
  {
   "cell_type": "markdown",
   "metadata": {},
   "source": [
    "The function below will be used to encode 'Embarked' variable"
   ]
  },
  {
   "cell_type": "code",
   "execution_count": 28,
   "metadata": {},
   "outputs": [],
   "source": [
    "#Encoding 'Embarked'\n",
    "def embarked_encoder(data):\n",
    "    if len(data.loc[data['Embarked'].isnull()].index)>0:\n",
    "        data = data.fillna(value={'Embarked':'C'})\n",
    "    mask = {'C':0, 'S':1, 'Q':2}\n",
    "    data['Embarked'] = data['Embarked'].apply(lambda i: mask[i])\n",
    "    return data"
   ]
  },
  {
   "cell_type": "markdown",
   "metadata": {},
   "source": [
    "### Grouping by ticket ID\n",
    "\n",
    "While exploring the dataset, I found that many passengers have identical ticket numbers as well as identical fare value.\n",
    "\n",
    "In this section, for all people with matching tickets, I will recalculate ticket fare for every i-th person in a group g as: fare(i, g) = fare(g) / n, where n is a number of people in group g."
   ]
  },
  {
   "cell_type": "code",
   "execution_count": 29,
   "metadata": {},
   "outputs": [],
   "source": [
    "# Clean text function\n",
    "def clean_text(text):\n",
    "    text = ''.join([c for c in text if c not in string.punctuation]).strip()\n",
    "    text = ''.join(text.split())\n",
    "    return text\n",
    "\n",
    "# This function will clean ticket ID from all punctuation and spaces\n",
    "# def ticket_cleaner(data):\n",
    "#     data['Ticket'] = data['Ticket'].apply(lambda i: clean_text(i))\n",
    "# #     df = data['Ticket'].apply(lambda i: clean_text(i)).to_frame()\n",
    "# #     data = pd.concat([data.drop(columns=['Ticket']).reset_index(drop=True), df], axis=1)\n",
    "#     return data\n",
    "\n",
    "# Clean ticket ID from all punctuation and spaces\n",
    "df_fam = data_tot.copy()\n",
    "df_fam['Ticket'] = df_fam['Ticket'].apply(lambda i: clean_text(i))"
   ]
  },
  {
   "cell_type": "code",
   "execution_count": 30,
   "metadata": {},
   "outputs": [],
   "source": [
    "# df_fam = ticket_cleaner(data_tot)"
   ]
  },
  {
   "cell_type": "markdown",
   "metadata": {},
   "source": [
    "Numbers of unique and non-unique tickets:"
   ]
  },
  {
   "cell_type": "code",
   "execution_count": 31,
   "metadata": {},
   "outputs": [
    {
     "name": "stdout",
     "output_type": "stream",
     "text": [
      "Unique tickets: 929\n",
      "Non-unique tickets: 380\n"
     ]
    }
   ],
   "source": [
    "print('Unique tickets: %d' % len(df_fam['Ticket'].unique()))\n",
    "print('Non-unique tickets: %d' % (len(df_fam.index) - len(df_fam['Ticket'].unique())))"
   ]
  },
  {
   "cell_type": "markdown",
   "metadata": {},
   "source": [
    "I want to define the following groups:\n",
    "1. No family (SibSp==0 & Parch==0), unique tickets\n",
    "2. No family (SibSp==0 & Parch==0), non-unique tickets\n",
    "3. Has family, no children (SibSp >0 & Parch==0), unique tickets\n",
    "4. Has family, no children (SibSp >0 & Parch==0), non-unique tickets\n",
    "5. Has family, has children (Parch >0), unique tickets\n",
    "6. Has family, has children (Parch >0), non-unique tickets"
   ]
  },
  {
   "cell_type": "code",
   "execution_count": 32,
   "metadata": {},
   "outputs": [],
   "source": [
    "families0 = df_fam.loc[(df_fam['SibSp']>0) & (df_fam['Parch']==0)]\n",
    "families1 = df_fam.loc[df_fam['Parch']>0]\n",
    "singles = df_fam.loc[(df_fam['SibSp']==0) & (df_fam['Parch']==0)]"
   ]
  },
  {
   "cell_type": "code",
   "execution_count": 33,
   "metadata": {},
   "outputs": [],
   "source": [
    "# This function is used to return sub-groups by unique and non-unique tickets from a group by SibSP and Parch\n",
    "def grps_by_size(grp):\n",
    "    #group size > 1\n",
    "    grp1 = None\n",
    "    #group size == 1\n",
    "    grp0 = None\n",
    "    for g in grp.groups:\n",
    "        grp_ = grp.get_group(g)\n",
    "        if len(grp.get_group(g).index)>1:\n",
    "            if grp1 is None:\n",
    "                grp1 = grp_\n",
    "            else:\n",
    "                grp1 = pd.concat([grp1, grp_])\n",
    "        else:\n",
    "            if grp0 is None:\n",
    "                grp0 = grp_\n",
    "            else:\n",
    "                grp0 = pd.concat([grp0, grp_])\n",
    "    return (grp0, grp1)"
   ]
  },
  {
   "cell_type": "code",
   "execution_count": 34,
   "metadata": {},
   "outputs": [
    {
     "name": "stdout",
     "output_type": "stream",
     "text": [
      "Singles-----------------------\n",
      "Matching tickets groups: 108\n",
      "Unique tickets groups: 682\n",
      "------------------------------\n",
      "Families----------------------\n",
      "Matching tickets groups: 174\n",
      "Unique tickets groups: 38\n",
      "------------------------------\n",
      "Families W/children-----------\n",
      "Matching tickets groups: 288\n",
      "Unique tickets groups: 19\n",
      "------------------------------\n"
     ]
    }
   ],
   "source": [
    "#singles\n",
    "sig_grp = singles.groupby('Ticket')\n",
    "#families NO children\n",
    "fam0_grp = families0.groupby('Ticket')\n",
    "#families w/children\n",
    "fam1_grp = families1.groupby('Ticket')\n",
    "\n",
    "#no family, unique ticket\n",
    "sig0 = grps_by_size(sig_grp)[0]\n",
    "#no family, matching tickets\n",
    "sig1 = grps_by_size(sig_grp)[1]\n",
    "#has family, no children, unique ticket\n",
    "fam0 = grps_by_size(fam0_grp)[0]\n",
    "#has family, no children, matching ticket\n",
    "fam1 = grps_by_size(fam0_grp)[1]\n",
    "#has family, has children, unique ticket\n",
    "famch0 = grps_by_size(fam1_grp)[0]\n",
    "#has family, has children, matching ticket\n",
    "famch1 = grps_by_size(fam1_grp)[1]\n",
    "\n",
    "print('Singles-----------------------')\n",
    "print('Matching tickets groups: %d' % len(sig1.index))\n",
    "print('Unique tickets groups: %d' % len(sig0.index))\n",
    "print('------------------------------')\n",
    "\n",
    "print('Families----------------------')\n",
    "print('Matching tickets groups: %d' % len(fam1.index))\n",
    "print('Unique tickets groups: %d' % len(fam0.index))\n",
    "print('------------------------------')\n",
    "\n",
    "print('Families W/children-----------')\n",
    "print('Matching tickets groups: %d' % len(famch1.index))\n",
    "print('Unique tickets groups: %d' % len(famch0.index))\n",
    "print('------------------------------')"
   ]
  },
  {
   "cell_type": "code",
   "execution_count": 35,
   "metadata": {},
   "outputs": [],
   "source": [
    "# Family groups\n",
    "fam_grps = [sig0, sig1, fam0, fam1, famch0, famch1]"
   ]
  },
  {
   "cell_type": "code",
   "execution_count": 36,
   "metadata": {},
   "outputs": [],
   "source": [
    "# Make a mask of family groups labels\n",
    "fgrp_mask = {}\n",
    "for idx, grp in enumerate(fam_grps):\n",
    "    for pid in grp['PassengerId']:\n",
    "        fgrp_mask[pid] = idx"
   ]
  },
  {
   "cell_type": "code",
   "execution_count": 37,
   "metadata": {},
   "outputs": [],
   "source": [
    "# Make a mask of ticket fare\n",
    "fare_mask = {}\n",
    "for tic in df_fam['Ticket'].unique():\n",
    "    # subgroup with matching tickets\n",
    "    tic_grp = df_fam.loc[df_fam['Ticket']==tic]\n",
    "    \n",
    "    # passenger class that the subgroup belongs to\n",
    "    c = tic_grp['Pclass'].values[0]\n",
    "    \n",
    "    # ticket fare of the subgroup\n",
    "    # all subgroup members have the same ticket fare initially\n",
    "    fare_grp = tic_grp['Fare'].values[0]\n",
    "    \n",
    "    # if a subgroup fare is 0 then assign a mean of the fare of the Pclass that the subgroup belongs to\n",
    "    if (fare_grp == 0) or (fare_grp is None):\n",
    "        fare_i = np.mean(df_fam.loc[df_fam['Pclass']==c, 'Fare'])\n",
    "        for pid in tic_grp['PassengerId']:\n",
    "            fare_mask[pid] = fare_i\n",
    "\n",
    "    # recalculate fare for subrgoup members: fare_i = group_fare / n_members\n",
    "    if len(tic_grp.index) > 1:\n",
    "        if fare_grp > 0:\n",
    "            \n",
    "            if np.mean(tic_grp['Fare'])==fare_grp: #check if all group members have same fare\n",
    "                fare_i = fare_grp / len(tic_grp.index)\n",
    "                for pid in tic_grp['PassengerId']:\n",
    "                    fare_mask[pid] = fare_i\n",
    "            else:\n",
    "                for pid in tic_grp['PassengerId']:\n",
    "                    fare_mask[pid] = tic_grp.loc[tic_grp['PassengerId']==pid, 'Fare'].values[0]\n",
    "    # keep fare value for passengers with unuque tickets\n",
    "    else:\n",
    "        if fare_grp > 0:\n",
    "            fare_i = fare_grp\n",
    "            for pid in tic_grp['PassengerId']:\n",
    "                fare_mask[pid] = fare_i"
   ]
  },
  {
   "cell_type": "code",
   "execution_count": 38,
   "metadata": {},
   "outputs": [],
   "source": [
    "# Make a mask of ticket codes\n",
    "m_tickets = []\n",
    "for tic in df_fam['Ticket'].unique():\n",
    "    if len(df_fam.loc[df_fam['Ticket']==tic].index) > 1:\n",
    "        m_tickets.append(tic)\n",
    "\n",
    "ticket_mask = {}        \n",
    "for pid in df_fam['PassengerId']:\n",
    "    tic = df_fam.loc[df_fam['PassengerId']==pid, 'Ticket'].values[0]\n",
    "    if tic in m_tickets:\n",
    "        ticket_mask[pid] = m_tickets.index(tic) + 1\n",
    "    else:\n",
    "        ticket_mask[pid] = 0"
   ]
  },
  {
   "cell_type": "code",
   "execution_count": 39,
   "metadata": {},
   "outputs": [],
   "source": [
    "# Encode family groups\n",
    "# This function adds new class variable 'fgrp' that indicates a group that a passenger belongs to.\n",
    "# def family_groups_encoder(data, fam_grps):\n",
    "#     data['fgrp'] = 0\n",
    "#     for idx, grp in enumerate(fam_grps):\n",
    "#         for pid in grp['PassengerId']:\n",
    "#             data.loc[data['PassengerId']==pid, 'fgrp'] = idx\n",
    "#     return data\n",
    "\n",
    "def family_groups_encoder(data, fgrp_mask):\n",
    "    data['fgrp'] = data['PassengerId'].apply(lambda i: fgrp_mask[i])\n",
    "    return data\n",
    "\n",
    "# Recalculate ticket fare in the family groups and fill missing values with a mean for corresponding passenger class.\n",
    "# def fare_encoder(data, encode_grps):\n",
    "#     for grp in encode_grps:\n",
    "#         fare = grp['Fare'].values[0] / len(grp.index)\n",
    "#         grp['Fare'] = fare\n",
    "#         for pid in grp['PassengerId']:\n",
    "#             if pid in data['PassengerId']:\n",
    "#                 data.loc[data['PassengerId']==pid, 'Fare'] = fare\n",
    "#     if len(data.loc[data['Fare'].isnull()])>0:\n",
    "#         for pid in data.loc[data['Fare'].isnull(), 'PassengerId']:\n",
    "#             c = data.loc[data['PassengerId']==pid, 'Pclass'].values[0]\n",
    "#             data.loc[data['PassengerId']==pid, 'Fare'] = np.mean(data.loc[data['Pclass']==c, 'Fare'])\n",
    "#     return data\n",
    "\n",
    "# def fare_encoder(data, encode_grps):\n",
    "#     for grp in encode_grps:\n",
    "#         for tic in grp['Ticket'].unique():\n",
    "#             tic_grp = grp.loc[grp['Ticket']==tic]\n",
    "#             fare_grp = tic_grp['Fare'].values[0]\n",
    "#             c = tic_grp['Pclass'].values[0]\n",
    "#             if len(tic_grp.index) > 1:\n",
    "#                 if fare_grp > 0:\n",
    "#                     fare_i = fare_grp / len(tic_grp.index)\n",
    "#                 else:\n",
    "#                     fare_i = np.mean(data.loc[data['Pclass']==c, 'Fare'])\n",
    "#             else:\n",
    "#                 if fare == 0:\n",
    "#                     fare_i = np.mean(data.loc[data['Pclass']==c, 'Fare'])       \n",
    "#             for idx, row in tic_grp.iterrows():\n",
    "#                 data.loc[data['PassengerId']==row['PassengerId'], 'Fare'] = fare_i\n",
    "#     return data\n",
    "\n",
    "# def fare_encoder(data):\n",
    "#     for tic in data['Ticket'].unique():\n",
    "#         tic_grp = data.loc[data['Ticket']==tic]\n",
    "        \n",
    "#         c = tic_grp['Pclass'].values[0]\n",
    "        \n",
    "#         fare_grp = tic_grp['Fare'].values[0]\n",
    "#         if fare_grp == 0:\n",
    "#             fare_i = np.mean(data.loc[data['Pclass']==c, 'Fare'])\n",
    "#             for idx, row in tic_grp.iterrows():\n",
    "#                 data.loc[data['PassengerId']==row['PassengerId'], 'Fare'] = fare_i\n",
    "            \n",
    "        \n",
    "#         if len(tic_grp.index) > 1:\n",
    "#             if fare_grp > 0:\n",
    "#                 fare_i = fare_grp / len(tic_grp.index)\n",
    "#                 for idx, row in tic_grp.iterrows():\n",
    "#                     data.loc[data['PassengerId']==row['PassengerId'], 'Fare'] = fare_i\n",
    "#     return data\n",
    "\n",
    "def fare_encoder(data, fare_mask):\n",
    "    data['Fare'] = data['PassengerId'].apply(lambda i: fare_mask[i])\n",
    "    return data\n",
    "\n",
    "# def cabin_encoder(data):\n",
    "#     cab_na = data.loc[data['Cabin'].isnull()]\n",
    "#     for tic in data['Ticket'].unique():\n",
    "#         tic_grp = data.loc[data['Ticket']==tic] \n",
    "# #         if len(tic_grp.index) > 1:\n",
    "# #             cab_grp = tic_grp['Cabin'].values[0]\n",
    "#         for idx, row in tic_grp.iterrows():\n",
    "#             if row['Cabin'] is None:\n",
    "#                 data.loc[data['PassengerId']==row['PassengerId'], 'Cabin'] = row['Ticket']\n",
    "#     return data\n",
    "\n",
    "def ticket_encoder(data, ticket_mask):\n",
    "    data['Ticket'] = data['PassengerId'].apply(lambda i: ticket_mask[i])\n",
    "    return data"
   ]
  },
  {
   "cell_type": "markdown",
   "metadata": {},
   "source": [
    "### Combine Pclass and Embarked\n",
    "\n",
    "The 'Pclass' and 'Embarked' variables are highly correlated. And 'Embarked' is actually not as important as the 'Pclass'.\n",
    "\n",
    "In order to make them work together more effectively, I will combine them into a single variable. This new variable will be defined in a 3x3 matrix according to combinations of 'Pclass' and 'Embarked' labels.\n",
    "\n",
    "| Embarked / Pclass | 0 | 1 | 2 |\n",
    "|:-----------------:|---|---|---|\n",
    "| 0                 | 0 | 1 | 2 |\n",
    "| 1                 | 3 | 4 | 5 |\n",
    "| 2                 | 6 | 7 | 8 |\n",
    "\n",
    "Below is a function that does the work."
   ]
  },
  {
   "cell_type": "code",
   "execution_count": 40,
   "metadata": {},
   "outputs": [],
   "source": [
    "# Combine categorical features\n",
    "def combine_features(data, feature1, feature2, name):\n",
    "    lst1 = list(data[feature1].unique())\n",
    "    lst2 = list(data[feature2].unique())\n",
    "    d1 = len(lst1)\n",
    "    d2 = len(lst2)\n",
    "    mask = np.array(range(d1 * d2)).reshape(d1,d2)\n",
    "    data = data.copy()\n",
    "    df = []\n",
    "    for i in data.index:\n",
    "        df.append([mask[lst1.index(data[feature1][i])][lst2.index(data[feature2][i])]])\n",
    "    df = pd.DataFrame(df, columns=[name])\n",
    "    return pd.concat([data.reset_index(), df], axis=1).drop(columns='index')"
   ]
  },
  {
   "cell_type": "markdown",
   "metadata": {},
   "source": [
    "### Numerical features augmentation (magic features)\n",
    "\n",
    "This is a simple feature transformation in order to account for counts of non-unique values.\n",
    "\n",
    "More info on magic features is [here](https://www.kaggle.com/cdeotte/200-magical-models-santander-0-920). "
   ]
  },
  {
   "cell_type": "code",
   "execution_count": 41,
   "metadata": {},
   "outputs": [],
   "source": [
    "# Transform 'Age to account for non-unique samples'\n",
    "def age_transformer_counts(data):\n",
    "    data['Age'] = data['Age'].apply(np.log)\n",
    "#     data['Age'] = data['Age'].apply(lambda i: np.log(i * len(data.loc[data['Age']==i].index)))\n",
    "    return data\n",
    "\n",
    "# Transform 'Fare' to account for number of non-unique samples\n",
    "def fare_transformer(data):\n",
    "    data['Fare'] = data['Fare'].apply(np.log)\n",
    "#     data['Fare'] = data['Fare'].apply(lambda i: np.log(i * len(data.loc[data['Fare']==i].index)))\n",
    "    return data"
   ]
  },
  {
   "cell_type": "markdown",
   "metadata": {},
   "source": [
    "### Other variables encoding"
   ]
  },
  {
   "cell_type": "code",
   "execution_count": 42,
   "metadata": {},
   "outputs": [],
   "source": [
    "# Encode 'Sex'\n",
    "def sex_encoder(data):\n",
    "    mask = {'male':0, 'female':1}\n",
    "    df = data['Sex'].apply(lambda i: mask[i])\n",
    "    return pd.concat([data.drop(columns=['Sex']), df], axis=1)\n",
    "\n",
    "# Add 'Family size'\n",
    "def fam_size(data):\n",
    "    data['famsize'] = data['SibSp'] + data['Parch']\n",
    "    data['famsize'] = data['famsize'].apply(lambda i: i if i<8 else 8)\n",
    "    return data\n",
    "\n",
    "#Encoding 'Pclass' (to labels 0,1,2)\n",
    "def pclass_encoder(data):\n",
    "    data['Pclass'] = data['Pclass'].apply(lambda i: i-1)\n",
    "    return data"
   ]
  },
  {
   "cell_type": "markdown",
   "metadata": {},
   "source": [
    "### Age augmentation\n",
    "\n",
    "I want to use 2-step approach to predict missing values for Age.\n",
    "\n",
    "1. Use BayesianGaussianMixture to define clusters in the existing Age data and then train a classifier that will predict these cluster labels based on other features.\n",
    "2. Train a regression model that will predict Age values based on existing features and Age class labels."
   ]
  },
  {
   "cell_type": "code",
   "execution_count": 84,
   "metadata": {},
   "outputs": [],
   "source": [
    "# Log + 1 - Transform 'Age'\n",
    "df_age = data_tot['Age'].dropna()\n",
    "\n",
    "age_trans = df_age.apply(lambda i: np.log(i)).to_frame()\n",
    "age_trans.columns = ['Age_trans']\n",
    "df_age = pd.concat([df_age.to_frame(), age_trans], axis=1)"
   ]
  },
  {
   "cell_type": "code",
   "execution_count": 85,
   "metadata": {},
   "outputs": [],
   "source": [
    "#Define clustering model\n",
    "age_clast_model = mix.BayesianGaussianMixture(n_components=2, covariance_type='spherical', tol=0.001, reg_covar=1e-06, max_iter=1000, n_init=1, \n",
    "                                 init_params='kmeans', weight_concentration_prior_type='dirichlet_distribution', \n",
    "                                 weight_concentration_prior=None, mean_precision_prior=None, mean_prior=None, \n",
    "                                 degrees_of_freedom_prior=None, covariance_prior=None, random_state=30)\n",
    "                                 \n",
    "#Predict cluster labels\n",
    "age_cls = pd.DataFrame(age_clast_model.fit_predict(np.array(df_age['Age_trans']).reshape(-1,1)), columns=['Age_cls'])\n",
    "age_cls = age_cls.astype(int)"
   ]
  },
  {
   "cell_type": "code",
   "execution_count": 86,
   "metadata": {},
   "outputs": [],
   "source": [
    "# Add age class labels to the data set\n",
    "df_age = pd.concat([df_age.reset_index(), age_cls], axis=1).drop(columns='index')"
   ]
  },
  {
   "cell_type": "code",
   "execution_count": 87,
   "metadata": {
    "jupyter": {
     "source_hidden": true
    }
   },
   "outputs": [
    {
     "data": {
      "image/png": "[encoded data removed]",
      "text/plain": [
       "<Figure size 1152x288 with 2 Axes>"
      ]
     },
     "metadata": {
      "needs_background": "light"
     },
     "output_type": "display_data"
    }
   ],
   "source": [
    "fig = plt.figure()\n",
    "fig.set_size_inches(16,4)\n",
    "\n",
    "fig.add_subplot(1,2,1)\n",
    "ax = sns.scatterplot(x='Age_cls', y='Age_trans', data=df_age)\n",
    "ax.spines['top'].set_visible(False)\n",
    "ax.spines['right'].set_visible(False)\n",
    "ttl = ax.title\n",
    "ttl.set_position([.5, 1.07])\n",
    "a=ax.set_title('Clusters vs Age (transformed)')\n",
    "\n",
    "fig.add_subplot(1,2,2)\n",
    "ax = sns.scatterplot(x='Age_cls', y='Age', data=df_age)\n",
    "ax.spines['top'].set_visible(False)\n",
    "ax.spines['right'].set_visible(False)\n",
    "ttl = ax.title\n",
    "ttl.set_position([.5, 1.07])\n",
    "a=ax.set_title('Clusters vs Age (not transformed)')"
   ]
  },
  {
   "cell_type": "markdown",
   "metadata": {},
   "source": [
    "#### Distributions within clasters (age - transformed)"
   ]
  },
  {
   "cell_type": "code",
   "execution_count": 88,
   "metadata": {
    "jupyter": {
     "source_hidden": true
    }
   },
   "outputs": [
    {
     "data": {
      "image/png": "[encoded data removed]",
      "text/plain": [
       "<Figure size 1728x144 with 2 Axes>"
      ]
     },
     "metadata": {
      "needs_background": "light"
     },
     "output_type": "display_data"
    }
   ],
   "source": [
    "grd = sorted(df_age['Age_cls'].unique())\n",
    "grd_n = len(grd)\n",
    "grd_cols_n = 2\n",
    "grd_rows_n = int(math.ceil(grd_n / grd_cols_n))\n",
    "\n",
    "plt_h = 2\n",
    "plt_w = 12\n",
    "\n",
    "\n",
    "fig = plt.figure()\n",
    "fig.set_size_inches(plt_w * grd_cols_n, plt_h * grd_rows_n)\n",
    "gs = gridspec.GridSpec(grd_rows_n, grd_cols_n, figure=fig, wspace=0.3, hspace=0.8)\n",
    "\n",
    "for idx, c in enumerate(grd):\n",
    "    fig.add_subplot(gs[idx])\n",
    "    df = df_age.loc[df_age['Age_cls']==c, 'Age_trans']\n",
    "    ax = sns.distplot(df,\n",
    "                 bins=25, kde=True, norm_hist=True, rug=True, \n",
    "                 rug_kws={'color':'r'},\n",
    "                 hist_kws={'histtype':'bar', 'linewidth': 3, 'color': \"b\"})\n",
    "    ax.spines['top'].set_visible(False)\n",
    "    ax.spines['right'].set_visible(False)\n",
    "    ttl = ax.title\n",
    "    ttl.set_position([.5, 1.07])\n",
    "    ax.set_title('Class: {0}'.format(c))"
   ]
  },
  {
   "cell_type": "markdown",
   "metadata": {},
   "source": [
    "#### Distributions within clasters (age - not transformed)"
   ]
  },
  {
   "cell_type": "code",
   "execution_count": 89,
   "metadata": {
    "jupyter": {
     "source_hidden": true
    }
   },
   "outputs": [
    {
     "data": {
      "image/png": "[encoded data removed]",
      "text/plain": [
       "<Figure size 1728x144 with 2 Axes>"
      ]
     },
     "metadata": {
      "needs_background": "light"
     },
     "output_type": "display_data"
    }
   ],
   "source": [
    "grd = sorted(df_age['Age_cls'].unique())\n",
    "grd_n = len(grd)\n",
    "grd_cols_n = 2\n",
    "grd_rows_n = int(math.ceil(grd_n / grd_cols_n))\n",
    "\n",
    "plt_h = 2\n",
    "plt_w = 12\n",
    "\n",
    "\n",
    "fig = plt.figure()\n",
    "fig.set_size_inches(plt_w * grd_cols_n, plt_h * grd_rows_n)\n",
    "gs = gridspec.GridSpec(grd_rows_n, grd_cols_n, figure=fig, wspace=0.3, hspace=0.8)\n",
    "\n",
    "for idx, c in enumerate(grd):\n",
    "    fig.add_subplot(gs[idx])\n",
    "    df = df_age.loc[df_age['Age_cls']==c, 'Age']\n",
    "    ax = sns.distplot(df,\n",
    "                 bins=25, kde=True, norm_hist=True, rug=True, \n",
    "                 rug_kws={'color':'r'},\n",
    "                 hist_kws={'histtype':'bar', 'linewidth': 3, 'color': \"b\"})\n",
    "    ax.spines['top'].set_visible(False)\n",
    "    ax.spines['right'].set_visible(False)\n",
    "    ttl = ax.title\n",
    "    ttl.set_position([.5, 1.07])\n",
    "    ax.set_title('Class: {0}'.format(c))"
   ]
  },
  {
   "cell_type": "code",
   "execution_count": 77,
   "metadata": {},
   "outputs": [],
   "source": [
    "def age_transformer(data, model):\n",
    "    age_trans = np.array(data['Age'].apply(lambda i: np.log(i))).reshape(-1,1)\n",
    "    age_cls = pd.DataFrame(model.fit_predict(age_trans), columns=['Age_cls'])\n",
    "    age_cls = age_cls.astype(int)\n",
    "    data = pd.concat([data.drop(columns=['Age']).reset_index(), pd.DataFrame(age_trans, columns=['Age'])], axis=1).drop(columns='index')\n",
    "    return pd.concat([data.reset_index(), age_cls], axis=1).drop(columns='index')"
   ]
  },
  {
   "cell_type": "markdown",
   "metadata": {},
   "source": [
    "### Predict missing missing values for age"
   ]
  },
  {
   "cell_type": "code",
   "execution_count": 78,
   "metadata": {},
   "outputs": [],
   "source": [
    "data = family_groups_encoder(data_tot.copy(), fgrp_mask)\n",
    "# data = fare_encoder(data, [sig1, fam1, famch1])\n",
    "data = fare_encoder(data, fare_mask)\n",
    "data = fare_transformer(data)\n",
    "\n",
    "data = ticket_encoder(data, ticket_mask)\n",
    "\n",
    "data = title_encoder(data)\n",
    "data = sex_encoder(data)\n",
    "data = fam_size(data)\n",
    "\n",
    "data = embarked_encoder(data)\n",
    "data = pclass_encoder(data)\n",
    "data = combine_features(data, 'Pclass', 'Embarked', 'PclEmb')\n",
    "\n",
    "data = data[data['Age'].notna()].copy()\n",
    "# data = data[['Age', 'Fare', 'PclEmb', 'Sex', 'ttl', 'fgrp', 'famsize', 'Ticket', 'Cabin', 'PassengerId']]\n",
    "\n",
    "data = age_transformer(data, age_clast_model)\n",
    "\n",
    "data = data[['Age', 'Age_cls', 'Fare', 'PclEmb', 'Sex', 'ttl', 'fgrp', 'famsize', 'Ticket']]"
   ]
  },
  {
   "cell_type": "code",
   "execution_count": 79,
   "metadata": {},
   "outputs": [],
   "source": [
    "# data = cabin_encoder(data)"
   ]
  },
  {
   "cell_type": "markdown",
   "metadata": {},
   "source": [
    "#### Plot correlation matrix:"
   ]
  },
  {
   "cell_type": "code",
   "execution_count": 80,
   "metadata": {},
   "outputs": [
    {
     "data": {
      "image/png": "[encoded data removed]",
      "text/plain": [
       "<Figure size 576x576 with 2 Axes>"
      ]
     },
     "metadata": {
      "needs_background": "light"
     },
     "output_type": "display_data"
    }
   ],
   "source": [
    "fig = plt.figure()\n",
    "fig.set_size_inches(8, 8)\n",
    "corr_matrix = data.corr()\n",
    "plot_correlation_matrix(ax=fig.add_subplot(1,1,1), data=corr_matrix, cmap='coolwarm')"
   ]
  },
  {
   "cell_type": "markdown",
   "metadata": {},
   "source": [
    "#### Train model for age class prediction"
   ]
  },
  {
   "cell_type": "code",
   "execution_count": 81,
   "metadata": {
    "scrolled": true
   },
   "outputs": [],
   "source": [
    "# Here I drop 'Sex' as it is completely covered by 'ttl'.\n",
    "# I also drop 'famsize' as it is highly correlated with 'fgrp' and eventually was found to be less important.\n",
    "# TO DO: try to combine 'fgrp' and 'famsize'\n",
    "X = data.drop(columns=['Age', 'Age_cls', 'Sex', 'famsize', 'Ticket'])\n",
    "y = data['Age_cls']"
   ]
  },
  {
   "cell_type": "code",
   "execution_count": 82,
   "metadata": {},
   "outputs": [],
   "source": [
    "#common random_state\n",
    "random_state=30\n",
    "\n",
    "#cross validation strategy\n",
    "cv = model_selection.StratifiedShuffleSplit(n_splits=10, test_size=0.3, train_size=0.6, random_state=random_state)\n",
    "\n",
    "#cross validation metrics\n",
    "scoring = {'balanced_accuracy': 'balanced_accuracy',\n",
    "           'roc_auc':  'roc_auc',\n",
    "           'precision_macro': 'precision_macro'}\n",
    "refit = 'balanced_accuracy'"
   ]
  },
  {
   "cell_type": "markdown",
   "metadata": {},
   "source": [
    "##### Initial model"
   ]
  },
  {
   "cell_type": "code",
   "execution_count": 83,
   "metadata": {},
   "outputs": [
    {
     "ename": "ValueError",
     "evalue": "multiclass format is not supported",
     "output_type": "error",
     "traceback": [
      "\u001b[1;31m---------------------------------------------------------------------------\u001b[0m",
      "\u001b[1;31m_RemoteTraceback\u001b[0m                          Traceback (most recent call last)",
      "\u001b[1;31m_RemoteTraceback\u001b[0m: \n\"\"\"\nTraceback (most recent call last):\n  File \"c:\\00_data\\python38\\lib\\site-packages\\joblib\\externals\\loky\\process_executor.py\", line 418, in _process_worker\n    r = call_item()\n  File \"c:\\00_data\\python38\\lib\\site-packages\\joblib\\externals\\loky\\process_executor.py\", line 272, in __call__\n    return self.fn(*self.args, **self.kwargs)\n  File \"c:\\00_data\\python38\\lib\\site-packages\\joblib\\_parallel_backends.py\", line 608, in __call__\n    return self.func(*args, **kwargs)\n  File \"c:\\00_data\\python38\\lib\\site-packages\\joblib\\parallel.py\", line 255, in __call__\n    return [func(*args, **kwargs)\n  File \"c:\\00_data\\python38\\lib\\site-packages\\joblib\\parallel.py\", line 255, in <listcomp>\n    return [func(*args, **kwargs)\n  File \"c:\\00_data\\python38\\lib\\site-packages\\sklearn\\model_selection\\_validation.py\", line 544, in _fit_and_score\n    test_scores = _score(estimator, X_test, y_test, scorer)\n  File \"c:\\00_data\\python38\\lib\\site-packages\\sklearn\\model_selection\\_validation.py\", line 591, in _score\n    scores = scorer(estimator, X_test, y_test)\n  File \"c:\\00_data\\python38\\lib\\site-packages\\sklearn\\metrics\\_scorer.py\", line 86, in __call__\n    score = scorer._score(cached_call, estimator,\n  File \"c:\\00_data\\python38\\lib\\site-packages\\sklearn\\metrics\\_scorer.py\", line 300, in _score\n    raise ValueError(\"{0} format is not supported\".format(y_type))\nValueError: multiclass format is not supported\n\"\"\"",
      "\nThe above exception was the direct cause of the following exception:\n",
      "\u001b[1;31mValueError\u001b[0m                                Traceback (most recent call last)",
      "\u001b[1;32m<ipython-input-83-58a797c923d2>\u001b[0m in \u001b[0;36m<module>\u001b[1;34m\u001b[0m\n\u001b[0;32m      9\u001b[0m age_cls_model = ens.GradientBoostingClassifier(loss='deviance', criterion='friedman_mse', \n\u001b[0;32m     10\u001b[0m                                                random_state=random_state, **params)\n\u001b[1;32m---> 11\u001b[1;33m \u001b[0mcv_rep\u001b[0m\u001b[1;33m(\u001b[0m\u001b[0mage_cls_model\u001b[0m\u001b[1;33m,\u001b[0m \u001b[0mX\u001b[0m\u001b[1;33m,\u001b[0m \u001b[0my\u001b[0m\u001b[1;33m,\u001b[0m \u001b[0mcv\u001b[0m\u001b[1;33m,\u001b[0m \u001b[0mscoring\u001b[0m\u001b[1;33m)\u001b[0m\u001b[1;33m\u001b[0m\u001b[1;33m\u001b[0m\u001b[0m\n\u001b[0m",
      "\u001b[1;32m<ipython-input-11-cd6e599d644f>\u001b[0m in \u001b[0;36mcv_rep\u001b[1;34m(model, X, y, cv, scoring)\u001b[0m\n\u001b[0;32m     18\u001b[0m \u001b[1;31m# Cross-validation report\u001b[0m\u001b[1;33m\u001b[0m\u001b[1;33m\u001b[0m\u001b[1;33m\u001b[0m\u001b[0m\n\u001b[0;32m     19\u001b[0m \u001b[1;32mdef\u001b[0m \u001b[0mcv_rep\u001b[0m\u001b[1;33m(\u001b[0m\u001b[0mmodel\u001b[0m\u001b[1;33m,\u001b[0m \u001b[0mX\u001b[0m\u001b[1;33m,\u001b[0m \u001b[0my\u001b[0m\u001b[1;33m,\u001b[0m \u001b[0mcv\u001b[0m\u001b[1;33m,\u001b[0m \u001b[0mscoring\u001b[0m\u001b[1;33m)\u001b[0m\u001b[1;33m:\u001b[0m\u001b[1;33m\u001b[0m\u001b[1;33m\u001b[0m\u001b[0m\n\u001b[1;32m---> 20\u001b[1;33m     \u001b[0mcv_res\u001b[0m \u001b[1;33m=\u001b[0m \u001b[0mmodel_selection\u001b[0m\u001b[1;33m.\u001b[0m\u001b[0mcross_validate\u001b[0m\u001b[1;33m(\u001b[0m\u001b[0mmodel\u001b[0m\u001b[1;33m,\u001b[0m \u001b[0mX\u001b[0m\u001b[1;33m,\u001b[0m \u001b[0my\u001b[0m\u001b[1;33m,\u001b[0m \u001b[0mscoring\u001b[0m\u001b[1;33m=\u001b[0m\u001b[0mscoring\u001b[0m\u001b[1;33m,\u001b[0m \u001b[0mcv\u001b[0m\u001b[1;33m=\u001b[0m\u001b[0mcv\u001b[0m\u001b[1;33m,\u001b[0m \u001b[0mreturn_train_score\u001b[0m\u001b[1;33m=\u001b[0m\u001b[1;32mTrue\u001b[0m\u001b[1;33m,\u001b[0m \u001b[0mn_jobs\u001b[0m\u001b[1;33m=\u001b[0m\u001b[1;33m-\u001b[0m\u001b[1;36m1\u001b[0m\u001b[1;33m)\u001b[0m\u001b[1;33m\u001b[0m\u001b[1;33m\u001b[0m\u001b[0m\n\u001b[0m\u001b[0;32m     21\u001b[0m     \u001b[0mcv_res\u001b[0m \u001b[1;33m=\u001b[0m \u001b[1;33m[\u001b[0m\u001b[1;33m[\u001b[0m\u001b[0mnp\u001b[0m\u001b[1;33m.\u001b[0m\u001b[0mmean\u001b[0m\u001b[1;33m(\u001b[0m\u001b[0mcv_res\u001b[0m\u001b[1;33m[\u001b[0m\u001b[1;34m'train_%s'\u001b[0m \u001b[1;33m%\u001b[0m \u001b[0mi\u001b[0m\u001b[1;33m]\u001b[0m\u001b[1;33m)\u001b[0m\u001b[1;33m,\u001b[0m \u001b[0mnp\u001b[0m\u001b[1;33m.\u001b[0m\u001b[0mstd\u001b[0m\u001b[1;33m(\u001b[0m\u001b[0mcv_res\u001b[0m\u001b[1;33m[\u001b[0m\u001b[1;34m'train_%s'\u001b[0m \u001b[1;33m%\u001b[0m \u001b[0mi\u001b[0m\u001b[1;33m]\u001b[0m\u001b[1;33m)\u001b[0m\u001b[1;33m,\u001b[0m \u001b[0mnp\u001b[0m\u001b[1;33m.\u001b[0m\u001b[0mmean\u001b[0m\u001b[1;33m(\u001b[0m\u001b[0mcv_res\u001b[0m\u001b[1;33m[\u001b[0m\u001b[1;34m'test_%s'\u001b[0m \u001b[1;33m%\u001b[0m \u001b[0mi\u001b[0m\u001b[1;33m]\u001b[0m\u001b[1;33m)\u001b[0m\u001b[1;33m,\u001b[0m \u001b[0mnp\u001b[0m\u001b[1;33m.\u001b[0m\u001b[0mstd\u001b[0m\u001b[1;33m(\u001b[0m\u001b[0mcv_res\u001b[0m\u001b[1;33m[\u001b[0m\u001b[1;34m'test_%s'\u001b[0m \u001b[1;33m%\u001b[0m \u001b[0mi\u001b[0m\u001b[1;33m]\u001b[0m\u001b[1;33m)\u001b[0m\u001b[1;33m]\u001b[0m \u001b[1;32mfor\u001b[0m \u001b[0mi\u001b[0m \u001b[1;32min\u001b[0m \u001b[0mlist\u001b[0m\u001b[1;33m(\u001b[0m\u001b[0mscoring\u001b[0m\u001b[1;33m.\u001b[0m\u001b[0mkeys\u001b[0m\u001b[1;33m(\u001b[0m\u001b[1;33m)\u001b[0m\u001b[1;33m)\u001b[0m\u001b[1;33m]\u001b[0m\u001b[1;33m\u001b[0m\u001b[1;33m\u001b[0m\u001b[0m\n\u001b[0;32m     22\u001b[0m     \u001b[0mcv_results\u001b[0m \u001b[1;33m=\u001b[0m \u001b[0mpd\u001b[0m\u001b[1;33m.\u001b[0m\u001b[0mDataFrame\u001b[0m\u001b[1;33m(\u001b[0m\u001b[0mcv_res\u001b[0m\u001b[1;33m,\u001b[0m \u001b[0mindex\u001b[0m\u001b[1;33m=\u001b[0m\u001b[0mlist\u001b[0m\u001b[1;33m(\u001b[0m\u001b[0mscoring\u001b[0m\u001b[1;33m.\u001b[0m\u001b[0mkeys\u001b[0m\u001b[1;33m(\u001b[0m\u001b[1;33m)\u001b[0m\u001b[1;33m)\u001b[0m\u001b[1;33m,\u001b[0m \u001b[0mcolumns\u001b[0m\u001b[1;33m=\u001b[0m\u001b[1;33m[\u001b[0m\u001b[1;34m'mean_train'\u001b[0m\u001b[1;33m,\u001b[0m \u001b[1;34m'std_train'\u001b[0m\u001b[1;33m,\u001b[0m \u001b[1;34m'mean_test'\u001b[0m\u001b[1;33m,\u001b[0m \u001b[1;34m'std_test'\u001b[0m\u001b[1;33m]\u001b[0m\u001b[1;33m)\u001b[0m\u001b[1;33m\u001b[0m\u001b[1;33m\u001b[0m\u001b[0m\n",
      "\u001b[1;32mc:\\00_data\\python38\\lib\\site-packages\\sklearn\\model_selection\\_validation.py\u001b[0m in \u001b[0;36mcross_validate\u001b[1;34m(estimator, X, y, groups, scoring, cv, n_jobs, verbose, fit_params, pre_dispatch, return_train_score, return_estimator, error_score)\u001b[0m\n\u001b[0;32m    228\u001b[0m     parallel = Parallel(n_jobs=n_jobs, verbose=verbose,\n\u001b[0;32m    229\u001b[0m                         pre_dispatch=pre_dispatch)\n\u001b[1;32m--> 230\u001b[1;33m     scores = parallel(\n\u001b[0m\u001b[0;32m    231\u001b[0m         delayed(_fit_and_score)(\n\u001b[0;32m    232\u001b[0m             \u001b[0mclone\u001b[0m\u001b[1;33m(\u001b[0m\u001b[0mestimator\u001b[0m\u001b[1;33m)\u001b[0m\u001b[1;33m,\u001b[0m \u001b[0mX\u001b[0m\u001b[1;33m,\u001b[0m \u001b[0my\u001b[0m\u001b[1;33m,\u001b[0m \u001b[0mscorers\u001b[0m\u001b[1;33m,\u001b[0m \u001b[0mtrain\u001b[0m\u001b[1;33m,\u001b[0m \u001b[0mtest\u001b[0m\u001b[1;33m,\u001b[0m \u001b[0mverbose\u001b[0m\u001b[1;33m,\u001b[0m \u001b[1;32mNone\u001b[0m\u001b[1;33m,\u001b[0m\u001b[1;33m\u001b[0m\u001b[1;33m\u001b[0m\u001b[0m\n",
      "\u001b[1;32mc:\\00_data\\python38\\lib\\site-packages\\joblib\\parallel.py\u001b[0m in \u001b[0;36m__call__\u001b[1;34m(self, iterable)\u001b[0m\n\u001b[0;32m   1015\u001b[0m \u001b[1;33m\u001b[0m\u001b[0m\n\u001b[0;32m   1016\u001b[0m             \u001b[1;32mwith\u001b[0m \u001b[0mself\u001b[0m\u001b[1;33m.\u001b[0m\u001b[0m_backend\u001b[0m\u001b[1;33m.\u001b[0m\u001b[0mretrieval_context\u001b[0m\u001b[1;33m(\u001b[0m\u001b[1;33m)\u001b[0m\u001b[1;33m:\u001b[0m\u001b[1;33m\u001b[0m\u001b[1;33m\u001b[0m\u001b[0m\n\u001b[1;32m-> 1017\u001b[1;33m                 \u001b[0mself\u001b[0m\u001b[1;33m.\u001b[0m\u001b[0mretrieve\u001b[0m\u001b[1;33m(\u001b[0m\u001b[1;33m)\u001b[0m\u001b[1;33m\u001b[0m\u001b[1;33m\u001b[0m\u001b[0m\n\u001b[0m\u001b[0;32m   1018\u001b[0m             \u001b[1;31m# Make sure that we get a last message telling us we are done\u001b[0m\u001b[1;33m\u001b[0m\u001b[1;33m\u001b[0m\u001b[1;33m\u001b[0m\u001b[0m\n\u001b[0;32m   1019\u001b[0m             \u001b[0melapsed_time\u001b[0m \u001b[1;33m=\u001b[0m \u001b[0mtime\u001b[0m\u001b[1;33m.\u001b[0m\u001b[0mtime\u001b[0m\u001b[1;33m(\u001b[0m\u001b[1;33m)\u001b[0m \u001b[1;33m-\u001b[0m \u001b[0mself\u001b[0m\u001b[1;33m.\u001b[0m\u001b[0m_start_time\u001b[0m\u001b[1;33m\u001b[0m\u001b[1;33m\u001b[0m\u001b[0m\n",
      "\u001b[1;32mc:\\00_data\\python38\\lib\\site-packages\\joblib\\parallel.py\u001b[0m in \u001b[0;36mretrieve\u001b[1;34m(self)\u001b[0m\n\u001b[0;32m    907\u001b[0m             \u001b[1;32mtry\u001b[0m\u001b[1;33m:\u001b[0m\u001b[1;33m\u001b[0m\u001b[1;33m\u001b[0m\u001b[0m\n\u001b[0;32m    908\u001b[0m                 \u001b[1;32mif\u001b[0m \u001b[0mgetattr\u001b[0m\u001b[1;33m(\u001b[0m\u001b[0mself\u001b[0m\u001b[1;33m.\u001b[0m\u001b[0m_backend\u001b[0m\u001b[1;33m,\u001b[0m \u001b[1;34m'supports_timeout'\u001b[0m\u001b[1;33m,\u001b[0m \u001b[1;32mFalse\u001b[0m\u001b[1;33m)\u001b[0m\u001b[1;33m:\u001b[0m\u001b[1;33m\u001b[0m\u001b[1;33m\u001b[0m\u001b[0m\n\u001b[1;32m--> 909\u001b[1;33m                     \u001b[0mself\u001b[0m\u001b[1;33m.\u001b[0m\u001b[0m_output\u001b[0m\u001b[1;33m.\u001b[0m\u001b[0mextend\u001b[0m\u001b[1;33m(\u001b[0m\u001b[0mjob\u001b[0m\u001b[1;33m.\u001b[0m\u001b[0mget\u001b[0m\u001b[1;33m(\u001b[0m\u001b[0mtimeout\u001b[0m\u001b[1;33m=\u001b[0m\u001b[0mself\u001b[0m\u001b[1;33m.\u001b[0m\u001b[0mtimeout\u001b[0m\u001b[1;33m)\u001b[0m\u001b[1;33m)\u001b[0m\u001b[1;33m\u001b[0m\u001b[1;33m\u001b[0m\u001b[0m\n\u001b[0m\u001b[0;32m    910\u001b[0m                 \u001b[1;32melse\u001b[0m\u001b[1;33m:\u001b[0m\u001b[1;33m\u001b[0m\u001b[1;33m\u001b[0m\u001b[0m\n\u001b[0;32m    911\u001b[0m                     \u001b[0mself\u001b[0m\u001b[1;33m.\u001b[0m\u001b[0m_output\u001b[0m\u001b[1;33m.\u001b[0m\u001b[0mextend\u001b[0m\u001b[1;33m(\u001b[0m\u001b[0mjob\u001b[0m\u001b[1;33m.\u001b[0m\u001b[0mget\u001b[0m\u001b[1;33m(\u001b[0m\u001b[1;33m)\u001b[0m\u001b[1;33m)\u001b[0m\u001b[1;33m\u001b[0m\u001b[1;33m\u001b[0m\u001b[0m\n",
      "\u001b[1;32mc:\\00_data\\python38\\lib\\site-packages\\joblib\\_parallel_backends.py\u001b[0m in \u001b[0;36mwrap_future_result\u001b[1;34m(future, timeout)\u001b[0m\n\u001b[0;32m    560\u001b[0m         AsyncResults.get from multiprocessing.\"\"\"\n\u001b[0;32m    561\u001b[0m         \u001b[1;32mtry\u001b[0m\u001b[1;33m:\u001b[0m\u001b[1;33m\u001b[0m\u001b[1;33m\u001b[0m\u001b[0m\n\u001b[1;32m--> 562\u001b[1;33m             \u001b[1;32mreturn\u001b[0m \u001b[0mfuture\u001b[0m\u001b[1;33m.\u001b[0m\u001b[0mresult\u001b[0m\u001b[1;33m(\u001b[0m\u001b[0mtimeout\u001b[0m\u001b[1;33m=\u001b[0m\u001b[0mtimeout\u001b[0m\u001b[1;33m)\u001b[0m\u001b[1;33m\u001b[0m\u001b[1;33m\u001b[0m\u001b[0m\n\u001b[0m\u001b[0;32m    563\u001b[0m         \u001b[1;32mexcept\u001b[0m \u001b[0mLokyTimeoutError\u001b[0m\u001b[1;33m:\u001b[0m\u001b[1;33m\u001b[0m\u001b[1;33m\u001b[0m\u001b[0m\n\u001b[0;32m    564\u001b[0m             \u001b[1;32mraise\u001b[0m \u001b[0mTimeoutError\u001b[0m\u001b[1;33m(\u001b[0m\u001b[1;33m)\u001b[0m\u001b[1;33m\u001b[0m\u001b[1;33m\u001b[0m\u001b[0m\n",
      "\u001b[1;32mc:\\00_data\\python38\\lib\\concurrent\\futures\\_base.py\u001b[0m in \u001b[0;36mresult\u001b[1;34m(self, timeout)\u001b[0m\n\u001b[0;32m    437\u001b[0m                 \u001b[1;32mraise\u001b[0m \u001b[0mCancelledError\u001b[0m\u001b[1;33m(\u001b[0m\u001b[1;33m)\u001b[0m\u001b[1;33m\u001b[0m\u001b[1;33m\u001b[0m\u001b[0m\n\u001b[0;32m    438\u001b[0m             \u001b[1;32melif\u001b[0m \u001b[0mself\u001b[0m\u001b[1;33m.\u001b[0m\u001b[0m_state\u001b[0m \u001b[1;33m==\u001b[0m \u001b[0mFINISHED\u001b[0m\u001b[1;33m:\u001b[0m\u001b[1;33m\u001b[0m\u001b[1;33m\u001b[0m\u001b[0m\n\u001b[1;32m--> 439\u001b[1;33m                 \u001b[1;32mreturn\u001b[0m \u001b[0mself\u001b[0m\u001b[1;33m.\u001b[0m\u001b[0m__get_result\u001b[0m\u001b[1;33m(\u001b[0m\u001b[1;33m)\u001b[0m\u001b[1;33m\u001b[0m\u001b[1;33m\u001b[0m\u001b[0m\n\u001b[0m\u001b[0;32m    440\u001b[0m             \u001b[1;32melse\u001b[0m\u001b[1;33m:\u001b[0m\u001b[1;33m\u001b[0m\u001b[1;33m\u001b[0m\u001b[0m\n\u001b[0;32m    441\u001b[0m                 \u001b[1;32mraise\u001b[0m \u001b[0mTimeoutError\u001b[0m\u001b[1;33m(\u001b[0m\u001b[1;33m)\u001b[0m\u001b[1;33m\u001b[0m\u001b[1;33m\u001b[0m\u001b[0m\n",
      "\u001b[1;32mc:\\00_data\\python38\\lib\\concurrent\\futures\\_base.py\u001b[0m in \u001b[0;36m__get_result\u001b[1;34m(self)\u001b[0m\n\u001b[0;32m    386\u001b[0m     \u001b[1;32mdef\u001b[0m \u001b[0m__get_result\u001b[0m\u001b[1;33m(\u001b[0m\u001b[0mself\u001b[0m\u001b[1;33m)\u001b[0m\u001b[1;33m:\u001b[0m\u001b[1;33m\u001b[0m\u001b[1;33m\u001b[0m\u001b[0m\n\u001b[0;32m    387\u001b[0m         \u001b[1;32mif\u001b[0m \u001b[0mself\u001b[0m\u001b[1;33m.\u001b[0m\u001b[0m_exception\u001b[0m\u001b[1;33m:\u001b[0m\u001b[1;33m\u001b[0m\u001b[1;33m\u001b[0m\u001b[0m\n\u001b[1;32m--> 388\u001b[1;33m             \u001b[1;32mraise\u001b[0m \u001b[0mself\u001b[0m\u001b[1;33m.\u001b[0m\u001b[0m_exception\u001b[0m\u001b[1;33m\u001b[0m\u001b[1;33m\u001b[0m\u001b[0m\n\u001b[0m\u001b[0;32m    389\u001b[0m         \u001b[1;32melse\u001b[0m\u001b[1;33m:\u001b[0m\u001b[1;33m\u001b[0m\u001b[1;33m\u001b[0m\u001b[0m\n\u001b[0;32m    390\u001b[0m             \u001b[1;32mreturn\u001b[0m \u001b[0mself\u001b[0m\u001b[1;33m.\u001b[0m\u001b[0m_result\u001b[0m\u001b[1;33m\u001b[0m\u001b[1;33m\u001b[0m\u001b[0m\n",
      "\u001b[1;31mValueError\u001b[0m: multiclass format is not supported"
     ]
    }
   ],
   "source": [
    "params = {'learning_rate': 1.1183673469387756, \n",
    "          'n_estimators': 5,\n",
    "          'min_weight_fraction_leaf': 0.03671794871794872, \n",
    "          'min_impurity_decrease': 0.0001,\n",
    "          'max_depth': 4,\n",
    "          'subsample': 1.0,\n",
    "          'ccp_alpha': 0.0}\n",
    "\n",
    "age_cls_model = ens.GradientBoostingClassifier(loss='deviance', criterion='friedman_mse', \n",
    "                                               random_state=random_state, **params)\n",
    "cv_rep(age_cls_model, X, y, cv, scoring)"
   ]
  },
  {
   "cell_type": "markdown",
   "metadata": {},
   "source": [
    "##### Tune parameters"
   ]
  },
  {
   "cell_type": "code",
   "execution_count": 48,
   "metadata": {},
   "outputs": [
    {
     "name": "stdout",
     "output_type": "stream",
     "text": [
      "            balanced_accuracy   roc_auc  precision_macro\n",
      "mean_train           0.974839  0.995139         0.922207\n",
      "std_train            0.004978  0.001205         0.017015\n",
      "mean_test            0.972720  0.991453         0.915381\n",
      "std_test             0.013573  0.003729         0.019820\n",
      "{'learning_rate': 1.1734693877551021, 'n_estimators': 5}\n"
     ]
    }
   ],
   "source": [
    "param_ranges = {'learning_rate': np.linspace(0.2, 2, 99), 'n_estimators': np.arange(5, 100, 99)}\n",
    "age_cls_model, scores = train_best_model(age_cls_model, param_ranges, X, y, scoring, cv, refit=refit)"
   ]
  },
  {
   "cell_type": "code",
   "execution_count": 49,
   "metadata": {},
   "outputs": [
    {
     "name": "stdout",
     "output_type": "stream",
     "text": [
      "            balanced_accuracy   roc_auc  precision_macro\n",
      "mean_train           0.974839  0.977339         0.903897\n",
      "std_train            0.004978  0.003790         0.066307\n",
      "mean_test            0.972720  0.965010         0.845029\n",
      "std_test             0.013573  0.018567         0.063066\n",
      "{'min_impurity_decrease': 0.0001, 'min_weight_fraction_leaf': 0.03671794871794872}\n"
     ]
    }
   ],
   "source": [
    "param_ranges = {'min_weight_fraction_leaf': np.linspace(0.001, 0.2, 40), 'min_impurity_decrease': np.linspace(0.0001, 0.1, 40)}\n",
    "age_cls_model, scores = train_best_model(age_cls_model, param_ranges, X, y, scoring, cv, refit=refit)"
   ]
  },
  {
   "cell_type": "code",
   "execution_count": 50,
   "metadata": {},
   "outputs": [
    {
     "name": "stdout",
     "output_type": "stream",
     "text": [
      "            balanced_accuracy   roc_auc  precision_macro\n",
      "mean_train           0.975627  0.980082         0.848089\n",
      "std_train            0.004506  0.006310         0.013628\n",
      "mean_test            0.974720  0.972291         0.834804\n",
      "std_test             0.008909  0.012900         0.017796\n",
      "{'max_depth': 4, 'subsample': 0.9816326530612246}\n"
     ]
    }
   ],
   "source": [
    "param_ranges = {'subsample': np.linspace(0.1, 1.0, 50), 'max_depth': np.arange(3, 10)}\n",
    "age_cls_model, scores = train_best_model(age_cls_model, param_ranges, X, y, scoring, cv, refit=refit)"
   ]
  },
  {
   "cell_type": "code",
   "execution_count": 51,
   "metadata": {},
   "outputs": [
    {
     "name": "stdout",
     "output_type": "stream",
     "text": [
      "            balanced_accuracy   roc_auc  precision_macro\n",
      "mean_train           0.975627  0.977336         0.848089\n",
      "std_train            0.004506  0.003588         0.013628\n",
      "mean_test            0.974720  0.968208         0.834804\n",
      "std_test             0.008909  0.011163         0.017796\n",
      "{'ccp_alpha': 1e-05}\n"
     ]
    }
   ],
   "source": [
    "param_ranges = {'ccp_alpha': np.linspace(0.00001,0.0001, 99)}\n",
    "age_cls_model, scores = train_best_model(age_cls_model, param_ranges, X, y, scoring, cv, refit=refit)"
   ]
  },
  {
   "cell_type": "code",
   "execution_count": 52,
   "metadata": {},
   "outputs": [
    {
     "data": {
      "text/plain": [
       "GradientBoostingClassifier(ccp_alpha=1e-05, criterion='friedman_mse', init=None,\n",
       "                           learning_rate=1.1734693877551021, loss='deviance',\n",
       "                           max_depth=4, max_features=None, max_leaf_nodes=None,\n",
       "                           min_impurity_decrease=0.0001,\n",
       "                           min_impurity_split=None, min_samples_leaf=1,\n",
       "                           min_samples_split=2,\n",
       "                           min_weight_fraction_leaf=0.03671794871794872,\n",
       "                           n_estimators=5, n_iter_no_change=None,\n",
       "                           presort='deprecated', random_state=30,\n",
       "                           subsample=0.9816326530612246, tol=0.0001,\n",
       "                           validation_fraction=0.1, verbose=0,\n",
       "                           warm_start=False)"
      ]
     },
     "execution_count": 52,
     "metadata": {},
     "output_type": "execute_result"
    }
   ],
   "source": [
    "age_cls_model.fit(X,y)"
   ]
  },
  {
   "cell_type": "markdown",
   "metadata": {},
   "source": [
    "#### Train model for age prediction"
   ]
  },
  {
   "cell_type": "code",
   "execution_count": 69,
   "metadata": {
    "scrolled": true
   },
   "outputs": [],
   "source": [
    "# train test split\n",
    "X = data.drop(columns=['Age', 'Sex'])\n",
    "y = data['Age']"
   ]
  },
  {
   "cell_type": "code",
   "execution_count": 54,
   "metadata": {},
   "outputs": [],
   "source": [
    "#common random_state\n",
    "random_state=30\n",
    "#cross validation strategy\n",
    "cv = model_selection.RepeatedKFold(n_splits=5, n_repeats=10, random_state=random_state)\n",
    "#cross validation metrics\n",
    "scoring = {'explained_variance':  'explained_variance', 'r2': 'r2'}\n",
    "refit='r2'"
   ]
  },
  {
   "cell_type": "markdown",
   "metadata": {},
   "source": [
    "##### Initial model"
   ]
  },
  {
   "cell_type": "code",
   "execution_count": 55,
   "metadata": {},
   "outputs": [
    {
     "data": {
      "text/html": [
       "<div>\n",
       "<style scoped>\n",
       "    .dataframe tbody tr th:only-of-type {\n",
       "        vertical-align: middle;\n",
       "    }\n",
       "\n",
       "    .dataframe tbody tr th {\n",
       "        vertical-align: top;\n",
       "    }\n",
       "\n",
       "    .dataframe thead th {\n",
       "        text-align: right;\n",
       "    }\n",
       "</style>\n",
       "<table border=\"1\" class=\"dataframe\">\n",
       "  <thead>\n",
       "    <tr style=\"text-align: right;\">\n",
       "      <th></th>\n",
       "      <th>explained_variance</th>\n",
       "      <th>r2</th>\n",
       "    </tr>\n",
       "  </thead>\n",
       "  <tbody>\n",
       "    <tr>\n",
       "      <th>mean_train</th>\n",
       "      <td>0.787116</td>\n",
       "      <td>0.787116</td>\n",
       "    </tr>\n",
       "    <tr>\n",
       "      <th>std_train</th>\n",
       "      <td>0.011373</td>\n",
       "      <td>0.011373</td>\n",
       "    </tr>\n",
       "    <tr>\n",
       "      <th>mean_test</th>\n",
       "      <td>0.714922</td>\n",
       "      <td>0.713372</td>\n",
       "    </tr>\n",
       "    <tr>\n",
       "      <th>std_test</th>\n",
       "      <td>0.061712</td>\n",
       "      <td>0.062098</td>\n",
       "    </tr>\n",
       "  </tbody>\n",
       "</table>\n",
       "</div>"
      ],
      "text/plain": [
       "            explained_variance        r2\n",
       "mean_train            0.787116  0.787116\n",
       "std_train             0.011373  0.011373\n",
       "mean_test             0.714922  0.713372\n",
       "std_test              0.061712  0.062098"
      ]
     },
     "execution_count": 55,
     "metadata": {},
     "output_type": "execute_result"
    }
   ],
   "source": [
    "params = {'learning_rate': 0.09769230769230769, \n",
    "          'n_estimators': 80,\n",
    "          'min_weight_fraction_leaf': 0.02141025641025641, \n",
    "          'min_impurity_decrease': 0.18012820512820513,\n",
    "          'max_depth': 4,\n",
    "          'subsample': 1.0,\n",
    "          'ccp_alpha': 0.0001}\n",
    "\n",
    "age_reg_mogel = ens.GradientBoostingRegressor(loss='ls', criterion='friedman_mse', random_state=random_state, **params)\n",
    "cv_rep(age_reg_mogel, X, y, cv, scoring)"
   ]
  },
  {
   "cell_type": "markdown",
   "metadata": {},
   "source": [
    "##### Tune parameters"
   ]
  },
  {
   "cell_type": "code",
   "execution_count": 56,
   "metadata": {},
   "outputs": [
    {
     "name": "stdout",
     "output_type": "stream",
     "text": [
      "            explained_variance        r2\n",
      "mean_train            0.785912  0.785912\n",
      "std_train             0.011407  0.011407\n",
      "mean_test             0.715282  0.713738\n",
      "std_test              0.061238  0.061601\n",
      "{'learning_rate': 0.05615384615384616, 'n_estimators': 80}\n"
     ]
    }
   ],
   "source": [
    "param_ranges = {'learning_rate': np.linspace(0.01, 0.1, 40), 'n_estimators': np.arange(5, 100, 25)}\n",
    "age_reg_mogel, scores = train_best_model(age_reg_mogel, param_ranges, X, y, scoring, cv, refit=refit)"
   ]
  },
  {
   "cell_type": "code",
   "execution_count": 57,
   "metadata": {},
   "outputs": [
    {
     "name": "stdout",
     "output_type": "stream",
     "text": [
      "            explained_variance        r2\n",
      "mean_train            0.785912  0.785912\n",
      "std_train             0.011407  0.011407\n",
      "mean_test             0.715282  0.713738\n",
      "std_test              0.061238  0.061601\n",
      "{'min_impurity_decrease': 0.18012820512820513, 'min_weight_fraction_leaf': 0.02141025641025641}\n"
     ]
    }
   ],
   "source": [
    "param_ranges = {'min_weight_fraction_leaf': np.linspace(0.001, 0.2, 40), 'min_impurity_decrease': np.linspace(0.001, 0.5, 40)}\n",
    "age_reg_mogel, scores = train_best_model(age_reg_mogel, param_ranges, X, y, scoring, cv, refit=refit)"
   ]
  },
  {
   "cell_type": "code",
   "execution_count": 58,
   "metadata": {},
   "outputs": [
    {
     "name": "stdout",
     "output_type": "stream",
     "text": [
      "            explained_variance        r2\n",
      "mean_train            0.793154  0.793153\n",
      "std_train             0.010893  0.010893\n",
      "mean_test             0.715598  0.713987\n",
      "std_test              0.060739  0.061097\n",
      "{'max_depth': 5, 'subsample': 0.963265306122449}\n"
     ]
    }
   ],
   "source": [
    "param_ranges = {'max_depth': np.arange(2,10), 'subsample': np.linspace(0.1, 1.0, 50)}\n",
    "age_reg_mogel, scores = train_best_model(age_reg_mogel, param_ranges, X, y, scoring, cv, refit=refit)"
   ]
  },
  {
   "cell_type": "code",
   "execution_count": 59,
   "metadata": {},
   "outputs": [
    {
     "name": "stdout",
     "output_type": "stream",
     "text": [
      "            explained_variance        r2\n",
      "mean_train            0.786377  0.786377\n",
      "std_train             0.011437  0.011437\n",
      "mean_test             0.715785  0.714194\n",
      "std_test              0.060578  0.060919\n",
      "{'ccp_alpha': 0.0005040816326530613}\n"
     ]
    }
   ],
   "source": [
    "param_ranges = {'ccp_alpha': np.linspace(0.0001, 0.01, 99)}\n",
    "age_reg_mogel, scores = train_best_model(age_reg_mogel, param_ranges, X, y, scoring, cv, refit=refit)"
   ]
  },
  {
   "cell_type": "code",
   "execution_count": 60,
   "metadata": {},
   "outputs": [
    {
     "data": {
      "text/plain": [
       "GradientBoostingRegressor(alpha=0.9, ccp_alpha=0.0005040816326530613,\n",
       "                          criterion='friedman_mse', init=None,\n",
       "                          learning_rate=0.05615384615384616, loss='ls',\n",
       "                          max_depth=5, max_features=None, max_leaf_nodes=None,\n",
       "                          min_impurity_decrease=0.18012820512820513,\n",
       "                          min_impurity_split=None, min_samples_leaf=1,\n",
       "                          min_samples_split=2,\n",
       "                          min_weight_fraction_leaf=0.02141025641025641,\n",
       "                          n_estimators=80, n_iter_no_change=None,\n",
       "                          presort='deprecated', random_state=30,\n",
       "                          subsample=0.963265306122449, tol=0.0001,\n",
       "                          validation_fraction=0.1, verbose=0, warm_start=False)"
      ]
     },
     "execution_count": 60,
     "metadata": {},
     "output_type": "execute_result"
    }
   ],
   "source": [
    "age_reg_mogel.fit(X,y)"
   ]
  },
  {
   "cell_type": "code",
   "execution_count": 76,
   "metadata": {},
   "outputs": [],
   "source": [
    "#Age encoder (predict missing vakues and log-transform)\n",
    "def age_predictor(data, age_cls_model, age_reg_mogel):\n",
    "    cls_cols = ['Fare', 'PclEmb', 'ttl', 'fgrp']\n",
    "    reg_cols = ['Fare', 'PclEmb', 'ttl', 'fgrp', 'famsize', 'Ticket']\n",
    "    data_na = data[data['Age'].isnull()]\n",
    "    data_notna = data[data['Age'].notna()].copy()\n",
    "\n",
    "    # transform non-null age values\n",
    "#     age_trans = data_notna['Age'].apply(lambda i: np.log(i+1)).to_frame()\n",
    "#     age_trans = data_notna['Age'].apply(np.log).to_frame()\n",
    "#     data_notna = pd.concat([data_notna.drop(columns=['Age']), age_trans], axis=1)\n",
    "    data_notna['Age'] = data_notna['Age'].apply(np.log)\n",
    "\n",
    "    # predict class labels\n",
    "    X = data_na[cls_cols].reset_index(drop=True)\n",
    "    age_cls = pd.Series(age_cls_model.predict(X), name='Age_cls').to_frame()\n",
    "\n",
    "    # predict age\n",
    "    X = data_na[reg_cols].reset_index(drop=True)\n",
    "    X_age_cls = pd.concat([X, age_cls], axis=1)\n",
    "    age_preds = pd.Series(age_reg_mogel.predict(X_age_cls), name='Age').to_frame()\n",
    "    data_na = pd.concat([data_na.reset_index(drop=True).drop(columns=['Age']), age_preds], axis=1)\n",
    "    return pd.concat([data_na, data_notna])"
   ]
  },
  {
   "cell_type": "markdown",
   "metadata": {},
   "source": [
    "## Predict survivals"
   ]
  },
  {
   "cell_type": "markdown",
   "metadata": {},
   "source": [
    "#### Preprocessind data"
   ]
  },
  {
   "cell_type": "code",
   "execution_count": 62,
   "metadata": {},
   "outputs": [],
   "source": [
    "# data = family_groups_encoder(data_train, fam_grps)\n",
    "# data = fare_encoder(data, [sig1, fam1, famch1])\n",
    "# data = fare_transformer(data)\n",
    "\n",
    "# data = title_encoder(data)\n",
    "# data = sex_encoder(data)\n",
    "# data = fam_size(data)\n",
    "\n",
    "# data = embarked_encoder(data)\n",
    "# data = pclass_encoder(data)\n",
    "# data = combine_features(data, 'Pclass', 'Embarked', 'PclEmb')\n",
    "\n",
    "# data = data[['PassengerId', 'Survived', 'Fare', 'Age', 'ttl', 'famsize', 'PclEmb', 'fgrp']]\n",
    "\n",
    "# data = age_predictor(data, age_cls_model, age_reg_mogel)\n",
    "# data = age_transformer_counts(data)"
   ]
  },
  {
   "cell_type": "code",
   "execution_count": 63,
   "metadata": {},
   "outputs": [],
   "source": [
    "# def family_encoder(data):\n",
    "# #     data = data.copy()\n",
    "# #     data['mtickets'] = 0\n",
    "# #     data['famsize'] = data['SibSp'] + data['Parch']\n",
    "#     data['SibSp'] = data['SibSp'].apply(lambda i: 1 if i > 0 else 0)\n",
    "#     data['Parch'] = data['Parch'].apply(lambda i: 1 if i > 0 else 0)\n",
    "# #     for pid in data['PassengerId']:\n",
    "# #         for grp in match_ticket_grps:\n",
    "# #             if pid in grp['PassengerId']:\n",
    "# #                 data.loc[data['PassengerId']==pid, 'mtickets'] = 1\n",
    "#     return data"
   ]
  },
  {
   "cell_type": "code",
   "execution_count": 164,
   "metadata": {},
   "outputs": [],
   "source": [
    "data = family_groups_encoder(data_train.copy(), fgrp_mask)\n",
    "# data = family_encoder(data)\n",
    "# data = fare_encoder(data, [sig1, fam1, famch1])\n",
    "data = fare_encoder(data, fare_mask)\n",
    "data = fare_transformer(data)\n",
    "\n",
    "data = ticket_encoder(data, ticket_mask)\n",
    "\n",
    "data = title_encoder(data)\n",
    "data = sex_encoder(data)\n",
    "data = fam_size(data)\n",
    "\n",
    "data = embarked_encoder(data)\n",
    "data = pclass_encoder(data)\n",
    "data = combine_features(data, 'Pclass', 'Embarked', 'PclEmb')\n",
    "\n",
    "# data = data[data['Age'].notna()].copy()\n",
    "# data = data[['Age', 'Fare', 'PclEmb', 'Sex', 'ttl', 'fgrp', 'famsize', 'Ticket', 'Cabin', 'PassengerId']]\n",
    "\n",
    "data = age_predictor(data, age_cls_model, age_reg_mogel)\n",
    "# data = age_transformer(data, age_clast_model)\n",
    "# data = data[['PassengerId', 'Survived', 'Fare', 'Age', 'ttl', 'famsize', 'PclEmb', 'fgrp']]\n",
    "data = data[['PassengerId', 'Survived', 'Age', 'Fare', 'PclEmb', 'Sex', 'ttl', 'fgrp', 'famsize', 'Ticket']]"
   ]
  },
  {
   "cell_type": "markdown",
   "metadata": {},
   "source": [
    "#### Plot correlation matrix:"
   ]
  },
  {
   "cell_type": "code",
   "execution_count": 165,
   "metadata": {},
   "outputs": [
    {
     "data": {
      "image/png": "[encoded data removed]",
      "text/plain": [
       "<Figure size 576x576 with 2 Axes>"
      ]
     },
     "metadata": {
      "needs_background": "light"
     },
     "output_type": "display_data"
    }
   ],
   "source": [
    "fig = plt.figure()\n",
    "fig.set_size_inches(8, 8)\n",
    "corr_matrix = data.drop(columns='PassengerId').corr()\n",
    "plot_correlation_matrix(ax=fig.add_subplot(1,1,1), data=corr_matrix, cmap='coolwarm')"
   ]
  },
  {
   "cell_type": "markdown",
   "metadata": {},
   "source": [
    "#### Train base estimators for stacking model"
   ]
  },
  {
   "cell_type": "code",
   "execution_count": 166,
   "metadata": {
    "scrolled": true
   },
   "outputs": [],
   "source": [
    "X = data.drop(columns=['Survived', 'PassengerId'])\n",
    "y = data['Survived']"
   ]
  },
  {
   "cell_type": "code",
   "execution_count": 167,
   "metadata": {},
   "outputs": [],
   "source": [
    "#common random_state\n",
    "random_state=30\n",
    "#cross validation strategy\n",
    "cv = model_selection.StratifiedShuffleSplit(n_splits=10, test_size=0.3, train_size=0.6, random_state=random_state)\n",
    "#cross validation metrics\n",
    "scoring = {'balanced_accuracy': 'balanced_accuracy', \n",
    "           'roc_auc':  'roc_auc',\n",
    "           'precision_macro': 'precision_macro'}\n",
    "refit = 'balanced_accuracy'"
   ]
  },
  {
   "cell_type": "code",
   "execution_count": 168,
   "metadata": {},
   "outputs": [],
   "source": [
    "n = len(y)\n",
    "class_priors = {}\n",
    "class_weights = {}\n",
    "for i in y.unique():\n",
    "    class_priors[i] = len(y.loc[y==i]) / n\n",
    "    class_weights[i] = 1- class_priors[i]"
   ]
  },
  {
   "cell_type": "code",
   "execution_count": 169,
   "metadata": {},
   "outputs": [],
   "source": [
    "base_scores = {}"
   ]
  },
  {
   "cell_type": "markdown",
   "metadata": {},
   "source": [
    "#### GaussianProcessClassifier"
   ]
  },
  {
   "cell_type": "code",
   "execution_count": 170,
   "metadata": {},
   "outputs": [
    {
     "name": "stdout",
     "output_type": "stream",
     "text": [
      "            balanced_accuracy   roc_auc  precision_macro\n",
      "mean_train           0.849834  0.881629         0.880619\n",
      "std_train            0.017850  0.013265         0.017680\n",
      "mean_test            0.734613  0.816937         0.755035\n",
      "std_test             0.024683  0.023353         0.026364\n"
     ]
    }
   ],
   "source": [
    "gpc = gaup.GaussianProcessClassifier(random_state=random_state,\n",
    "                                     kernel=gaup.kernels.RBF(length_scale=1.0,\n",
    "                                                             length_scale_bounds=(2.0769230769230766,10)),\n",
    "                                     max_iter_predict=4,\n",
    "                                     n_restarts_optimizer=5)\n",
    "scores = cv_rep(gpc, X, y, cv, scoring)\n",
    "base_scores['gpc'] = [scores.loc['mean_test', refit], scores.loc['mean_train', refit]]\n",
    "print(scores)\n",
    "\n",
    "# param_ranges = {'max_iter_predict': np.arange(1000, 2000, 10)}\n",
    "# gpc, scores = train_best_model(gpc, param_ranges, X, y, scoring, cv, refit=refit)"
   ]
  },
  {
   "cell_type": "code",
   "execution_count": 171,
   "metadata": {},
   "outputs": [
    {
     "name": "stdout",
     "output_type": "stream",
     "text": [
      "            balanced_accuracy   roc_auc  precision_macro\n",
      "mean_train           0.849834  0.881766         0.880619\n",
      "std_train            0.017850  0.013324         0.017680\n",
      "mean_test            0.734613  0.816955         0.755035\n",
      "std_test             0.024683  0.023309         0.026364\n",
      "{'max_iter_predict': 4, 'n_restarts_optimizer': 1}\n"
     ]
    }
   ],
   "source": [
    "param_ranges = {'max_iter_predict': np.arange(1, 12), 'n_restarts_optimizer': np.arange(1, 12)}\n",
    "gpc, scores = train_best_model(gpc, param_ranges, X, y, scoring, cv, refit=refit)"
   ]
  },
  {
   "cell_type": "code",
   "execution_count": 172,
   "metadata": {},
   "outputs": [
    {
     "name": "stdout",
     "output_type": "stream",
     "text": [
      "            balanced_accuracy   roc_auc  precision_macro\n",
      "mean_train           0.842040  0.880987         0.871322\n",
      "std_train            0.013740  0.012744         0.012271\n",
      "mean_test            0.737888  0.817008         0.759152\n",
      "std_test             0.025475  0.023319         0.026702\n",
      "{'kernel__length_scale': 0.001, 'kernel__length_scale_bounds': (3.0, 100)}\n"
     ]
    }
   ],
   "source": [
    "param_ranges = {'kernel__length_scale': np.linspace(0.001, 0.01, 20), 'kernel__length_scale_bounds': [(i,100) for i in np.linspace(1,3,40)]}\n",
    "gpc, scores = train_best_model(gpc, param_ranges, X, y, scoring, cv, refit=refit)"
   ]
  },
  {
   "cell_type": "code",
   "execution_count": 173,
   "metadata": {},
   "outputs": [],
   "source": [
    "base_scores['gpc'] = [scores.loc['mean_test', refit], scores.loc['mean_train', refit]]"
   ]
  },
  {
   "cell_type": "markdown",
   "metadata": {},
   "source": [
    "#### LinearDiscriminantAnalysis"
   ]
  },
  {
   "cell_type": "code",
   "execution_count": 174,
   "metadata": {},
   "outputs": [
    {
     "name": "stdout",
     "output_type": "stream",
     "text": [
      "            balanced_accuracy   roc_auc  precision_macro\n",
      "mean_train           0.805943  0.856018         0.816649\n",
      "std_train            0.012138  0.013468         0.011422\n",
      "mean_test            0.792245  0.847799         0.807173\n",
      "std_test             0.023223  0.022693         0.021403\n"
     ]
    }
   ],
   "source": [
    "lda = disan.LinearDiscriminantAnalysis(solver='lsqr', shrinkage='auto')\n",
    "scores = cv_rep(lda, X, y, cv, scoring)\n",
    "base_scores['lda'] = [scores.loc['mean_test', refit], scores.loc['mean_train', refit]]\n",
    "print(scores)\n",
    "\n",
    "# param_ranges = {'n_components': np.arange(1,5)}\n",
    "# lda, scores = train_best_model(lda, param_ranges, X, y, scoring, cv, refit=refit)"
   ]
  },
  {
   "cell_type": "code",
   "execution_count": 175,
   "metadata": {},
   "outputs": [],
   "source": [
    "base_scores['lda'] = [scores.loc['mean_test', refit], scores.loc['mean_train', refit]]"
   ]
  },
  {
   "cell_type": "markdown",
   "metadata": {},
   "source": [
    "#### QuadraticDiscriminantAnalysis"
   ]
  },
  {
   "cell_type": "code",
   "execution_count": 176,
   "metadata": {},
   "outputs": [
    {
     "name": "stdout",
     "output_type": "stream",
     "text": [
      "            balanced_accuracy   roc_auc  precision_macro\n",
      "mean_train           0.805966  0.859737         0.811166\n",
      "std_train            0.011844  0.010289         0.012879\n",
      "mean_test            0.788138  0.847311         0.793857\n",
      "std_test             0.024518  0.023467         0.026375\n"
     ]
    }
   ],
   "source": [
    "qda = disan.QuadraticDiscriminantAnalysis(priors=[class_priors[0], class_priors[1]], reg_param=0.002010204081632653)\n",
    "scores = cv_rep(qda, X, y, cv, scoring)\n",
    "base_scores['qda'] = [scores.loc['mean_test', refit], scores.loc['mean_train', refit]]\n",
    "print(scores)\n",
    "\n",
    "# param_ranges = {'reg_param': np.linspace(0.01,1,12)}\n",
    "# qda, scores = train_best_model(qda, param_ranges, X, y, scoring, cv, refit=refit)"
   ]
  },
  {
   "cell_type": "code",
   "execution_count": 177,
   "metadata": {},
   "outputs": [
    {
     "name": "stdout",
     "output_type": "stream",
     "text": [
      "            balanced_accuracy   roc_auc  precision_macro\n",
      "mean_train           0.808001  0.859526         0.815206\n",
      "std_train            0.010669  0.009960         0.009971\n",
      "mean_test            0.788985  0.849011         0.795921\n",
      "std_test             0.023193  0.023612         0.023913\n",
      "{'reg_param': 0.011102040816326531}\n"
     ]
    }
   ],
   "source": [
    "param_ranges = {'reg_param': np.linspace(0.001,0.1,99)}\n",
    "qda, scores = train_best_model(qda, param_ranges, X, y, scoring, cv, refit=refit)"
   ]
  },
  {
   "cell_type": "code",
   "execution_count": 178,
   "metadata": {},
   "outputs": [],
   "source": [
    "base_scores['qda'] = [scores.loc['mean_test', refit], scores.loc['mean_train', refit]]"
   ]
  },
  {
   "cell_type": "markdown",
   "metadata": {},
   "source": [
    "#### AdaBoostClassifier"
   ]
  },
  {
   "cell_type": "code",
   "execution_count": 179,
   "metadata": {},
   "outputs": [
    {
     "name": "stdout",
     "output_type": "stream",
     "text": [
      "            balanced_accuracy   roc_auc  precision_macro\n",
      "mean_train           0.816869  0.876193         0.830044\n",
      "std_train            0.011416  0.010463         0.010323\n",
      "mean_test            0.798491  0.860580         0.814595\n",
      "std_test             0.021722  0.021462         0.022339\n"
     ]
    }
   ],
   "source": [
    "abc = ens.AdaBoostClassifier(algorithm='SAMME.R', \n",
    "                             learning_rate=0.056846153846153845,\n",
    "                             n_estimators=85,\n",
    "                             random_state=random_state)\n",
    "scores = cv_rep(abc, X, y, cv, scoring)\n",
    "base_scores['abc'] = [scores.loc['mean_test', refit], scores.loc['mean_train', refit]]\n",
    "print(scores)\n",
    "\n",
    "# param_ranges = {'n_estimators': np.arange(5, 100, 20), 'learning_rate': np.linspace(0.001, 0.1, 40)}\n",
    "# abc, scores = train_best_model(abc, param_ranges, X, y, scoring, cv, refit=refit)"
   ]
  },
  {
   "cell_type": "code",
   "execution_count": 180,
   "metadata": {},
   "outputs": [
    {
     "name": "stdout",
     "output_type": "stream",
     "text": [
      "            balanced_accuracy   roc_auc  precision_macro\n",
      "mean_train           0.818392  0.886939         0.831317\n",
      "std_train            0.011010  0.010112         0.010736\n",
      "mean_test            0.802736  0.864172         0.819122\n",
      "std_test             0.024681  0.019670         0.025675\n",
      "{'learning_rate': 0.06192307692307693, 'n_estimators': 65}\n"
     ]
    }
   ],
   "source": [
    "param_ranges = {'n_estimators': np.arange(5, 100, 20), 'learning_rate': np.linspace(0.001, 0.1, 40)}\n",
    "abc, scores = train_best_model(abc, param_ranges, X, y, scoring, cv, refit=refit)"
   ]
  },
  {
   "cell_type": "code",
   "execution_count": 181,
   "metadata": {},
   "outputs": [],
   "source": [
    "base_scores['abc'] = [scores.loc['mean_test', refit], scores.loc['mean_train', refit]]"
   ]
  },
  {
   "cell_type": "code",
   "execution_count": 182,
   "metadata": {},
   "outputs": [
    {
     "name": "stdout",
     "output_type": "stream",
     "text": [
      "Optimal number of features : 6\n",
      "Features to drop: \n",
      "\n",
      "['Age', 'fgrp']\n"
     ]
    },
    {
     "data": {
      "image/png": "[encoded data removed]",
      "text/plain": [
       "<Figure size 1152x288 with 3 Axes>"
      ]
     },
     "metadata": {
      "needs_background": "light"
     },
     "output_type": "display_data"
    }
   ],
   "source": [
    "rfecv = feature_selection.RFECV(estimator=abc, step=1, min_features_to_select=1, cv=cv, scoring=refit, n_jobs=-1)\n",
    "rfecv.fit(X, y)\n",
    "print(\"Optimal number of features : %d\" % rfecv.n_features_)\n",
    "\n",
    "# Plot number of features VS. cross-validation scores\n",
    "fig = plt.figure()\n",
    "fig.set_size_inches(16,4)\n",
    "ax = fig.add_subplot(1,2,1)\n",
    "ax.set_xlabel(\"Number of features selected\")\n",
    "ax.set_ylabel(\"Cross validation score (nb of correct classifications)\")\n",
    "ax.plot(range(1, len(rfecv.grid_scores_) + 1), rfecv.grid_scores_)\n",
    "\n",
    "plot_confusion_matrix(abc, X, y, ax=fig.add_subplot(1,2,2), normalize=True, title='rfc')\n",
    "\n",
    "print('Features to drop: \\n')\n",
    "feats = []\n",
    "for i, m in zip(X.columns, rfecv.get_support()):\n",
    "    if not m:\n",
    "        feats.append(i)\n",
    "print(feats)"
   ]
  },
  {
   "cell_type": "markdown",
   "metadata": {},
   "source": [
    "#### GradientBoostingClassifier"
   ]
  },
  {
   "cell_type": "code",
   "execution_count": 183,
   "metadata": {},
   "outputs": [
    {
     "name": "stdout",
     "output_type": "stream",
     "text": [
      "            balanced_accuracy   roc_auc  precision_macro\n",
      "mean_train           0.817854  0.876521         0.838869\n",
      "std_train            0.012709  0.015903         0.017045\n",
      "mean_test            0.795387  0.858720         0.820634\n",
      "std_test             0.024507  0.021825         0.019874\n"
     ]
    }
   ],
   "source": [
    "gbc = ens.GradientBoostingClassifier(loss='exponential', \n",
    "                                     criterion='friedman_mse', \n",
    "                                     learning_rate=0.15084745762711865,\n",
    "                                     n_estimators=65,\n",
    "                                     min_impurity_decrease=0.0093076923,\n",
    "                                     min_weight_fraction_leaf=0.011205128205128204,\n",
    "                                     max_depth=3,\n",
    "                                     subsample=1,\n",
    "                                     ccp_alpha=0.016813,\n",
    "                                     random_state=random_state)\n",
    "scores = cv_rep(gbc, X, y, cv, scoring)\n",
    "base_scores['gbc'] = [scores.loc['mean_test', refit], scores.loc['mean_train', refit]]\n",
    "print(scores)\n",
    "\n",
    "# param_ranges = {'learning_rate': np.linspace(0.01, 0.2, 60), 'n_estimators': np.arange(5, 100, 20)}\n",
    "# gbc, scores = train_best_model(gbc, param_ranges, X, y, scoring, cv, refit=refit)\n",
    "\n",
    "# param_ranges = {'min_weight_fraction_leaf': np.linspace(0.001, 0.2, 40), 'min_impurity_decrease': np.linspace(0.001, 0.1, 20)}\n",
    "# gbc, scores = train_best_model(gbc, param_ranges, X, y, scoring, cv, refit=refit)\n",
    "\n",
    "# param_ranges = {'subsample': np.linspace(0.1, 1.1, 15), 'max_depth': np.arange(3, 6)}\n",
    "# gbc, scores = train_best_model(gbc, param_ranges, X, y, scoring, cv, refit=refit)\n",
    "\n",
    "# param_ranges = {'ccp_alpha': np.linspace(0.0001,0.001, 15)}\n",
    "# gbc, scores = train_best_model(gbc, param_ranges, X, y, scoring, cv, refit=refit)"
   ]
  },
  {
   "cell_type": "code",
   "execution_count": 184,
   "metadata": {},
   "outputs": [
    {
     "name": "stdout",
     "output_type": "stream",
     "text": [
      "            balanced_accuracy   roc_auc  precision_macro\n",
      "mean_train           0.818282  0.878127         0.857222\n",
      "std_train            0.012951  0.014731         0.010448\n",
      "mean_test            0.795934  0.861733         0.849416\n",
      "std_test             0.025652  0.020242         0.016543\n",
      "{'learning_rate': 0.10983050847457626, 'n_estimators': 25}\n"
     ]
    }
   ],
   "source": [
    "param_ranges = {'learning_rate': np.linspace(0.01, 0.2, 60), 'n_estimators': np.arange(5, 100, 20)}\n",
    "gbc, scores = train_best_model(gbc, param_ranges, X, y, scoring, cv, refit=refit)"
   ]
  },
  {
   "cell_type": "code",
   "execution_count": 185,
   "metadata": {},
   "outputs": [
    {
     "name": "stdout",
     "output_type": "stream",
     "text": [
      "            balanced_accuracy   roc_auc  precision_macro\n",
      "mean_train           0.818282  0.876430         0.844057\n",
      "std_train            0.012951  0.015340         0.010613\n",
      "mean_test            0.795934  0.859129         0.837557\n",
      "std_test             0.025652  0.021831         0.019112\n",
      "{'min_impurity_decrease': 0.1, 'min_weight_fraction_leaf': 0.001}\n"
     ]
    }
   ],
   "source": [
    "param_ranges = {'min_weight_fraction_leaf': np.linspace(0.001, 0.2, 40), 'min_impurity_decrease': np.linspace(0.1, 10, 80)}\n",
    "gbc, scores = train_best_model(gbc, param_ranges, X, y, scoring, cv, refit=refit)"
   ]
  },
  {
   "cell_type": "code",
   "execution_count": 186,
   "metadata": {},
   "outputs": [
    {
     "name": "stdout",
     "output_type": "stream",
     "text": [
      "            balanced_accuracy   roc_auc  precision_macro\n",
      "mean_train           0.838297  0.907954         0.866350\n",
      "std_train            0.016802  0.012223         0.014733\n",
      "mean_test            0.803566  0.873845         0.837199\n",
      "std_test             0.020974  0.021260         0.020583\n",
      "{'max_depth': 4, 'subsample': 0.36582278481012653}\n"
     ]
    }
   ],
   "source": [
    "param_ranges = {'subsample': np.linspace(0.1, 1.1, 80), 'max_depth': np.arange(3, 6)}\n",
    "gbc, scores = train_best_model(gbc, param_ranges, X, y, scoring, cv, refit=refit)"
   ]
  },
  {
   "cell_type": "code",
   "execution_count": 187,
   "metadata": {},
   "outputs": [
    {
     "name": "stdout",
     "output_type": "stream",
     "text": [
      "            balanced_accuracy   roc_auc  precision_macro\n",
      "mean_train           0.857579  0.944723         0.872183\n",
      "std_train            0.018567  0.008411         0.011676\n",
      "mean_test            0.803207  0.869818         0.832502\n",
      "std_test             0.023993  0.019243         0.022407\n",
      "{'ccp_alpha': 0.0}\n"
     ]
    }
   ],
   "source": [
    "param_ranges = {'ccp_alpha': np.linspace(0,1, 80)}\n",
    "gbc, scores = train_best_model(gbc, param_ranges, X, y, scoring, cv, refit=refit)"
   ]
  },
  {
   "cell_type": "code",
   "execution_count": 188,
   "metadata": {},
   "outputs": [],
   "source": [
    "base_scores['gbc'] = [scores.loc['mean_test', refit], scores.loc['mean_train', refit]]"
   ]
  },
  {
   "cell_type": "code",
   "execution_count": 189,
   "metadata": {},
   "outputs": [
    {
     "name": "stdout",
     "output_type": "stream",
     "text": [
      "Optimal number of features : 8\n",
      "Features to drop: \n",
      "\n",
      "[]\n"
     ]
    },
    {
     "data": {
      "image/png": "[encoded data removed]",
      "text/plain": [
       "<Figure size 1152x288 with 3 Axes>"
      ]
     },
     "metadata": {
      "needs_background": "light"
     },
     "output_type": "display_data"
    }
   ],
   "source": [
    "rfecv = feature_selection.RFECV(estimator=gbc, step=1, min_features_to_select=1, cv=cv, scoring=refit, n_jobs=-1)\n",
    "rfecv.fit(X, y)\n",
    "print(\"Optimal number of features : %d\" % rfecv.n_features_)\n",
    "\n",
    "# Plot number of features VS. cross-validation scores\n",
    "fig = plt.figure()\n",
    "fig.set_size_inches(16,4)\n",
    "ax = fig.add_subplot(1,2,1)\n",
    "ax.set_xlabel(\"Number of features selected\")\n",
    "ax.set_ylabel(\"Cross validation score (nb of correct classifications)\")\n",
    "ax.plot(range(1, len(rfecv.grid_scores_) + 1), rfecv.grid_scores_)\n",
    "\n",
    "plot_confusion_matrix(gbc, X, y, ax=fig.add_subplot(1,2,2), normalize=True, title='rfc')\n",
    "\n",
    "print('Features to drop: \\n')\n",
    "feats = []\n",
    "for i, m in zip(X.columns, rfecv.get_support()):\n",
    "    if not m:\n",
    "        feats.append(i)\n",
    "print(feats)"
   ]
  },
  {
   "cell_type": "markdown",
   "metadata": {},
   "source": [
    "#### ExtraTreesClassifier"
   ]
  },
  {
   "cell_type": "code",
   "execution_count": 190,
   "metadata": {},
   "outputs": [
    {
     "name": "stdout",
     "output_type": "stream",
     "text": [
      "            balanced_accuracy   roc_auc  precision_macro\n",
      "mean_train           0.818675  0.884504         0.829040\n",
      "std_train            0.011282  0.011097         0.010647\n",
      "mean_test            0.794307  0.858826         0.809571\n",
      "std_test             0.023342  0.023911         0.025549\n"
     ]
    }
   ],
   "source": [
    "etc = ens.ExtraTreesClassifier(random_state=random_state, n_jobs=-1, criterion='entropy',\n",
    "                               n_estimators=25,\n",
    "                               max_depth=4,\n",
    "                               ccp_alpha=0.0)\n",
    "scores = cv_rep(etc, X, y, cv, scoring)\n",
    "base_scores['etc'] = [scores.loc['mean_test', refit], scores.loc['mean_train', refit]]\n",
    "print(scores)\n",
    "\n",
    "# param_ranges = {'n_estimators': np.arange(5, 100, 20),\n",
    "#                 'max_depth': np.arange(3, 10)}\n",
    "# etc, scores = train_best_model(etc, param_ranges, X, y, scoring, cv, refit=refit)\n",
    "\n",
    "# param_ranges = {'ccp_alpha': np.linspace(0.001,0.01, 15)}\n",
    "# etc, scores = train_best_model(etc, param_ranges, X, y, scoring, cv, refit=refit)"
   ]
  },
  {
   "cell_type": "code",
   "execution_count": 191,
   "metadata": {},
   "outputs": [
    {
     "name": "stdout",
     "output_type": "stream",
     "text": [
      "            balanced_accuracy   roc_auc  precision_macro\n",
      "mean_train           0.818703  0.884504         0.829700\n",
      "std_train            0.010597  0.011097         0.010107\n",
      "mean_test            0.795096  0.858826         0.810353\n",
      "std_test             0.022976  0.023911         0.024826\n",
      "{'criterion': 'gini'}\n"
     ]
    }
   ],
   "source": [
    "param_ranges = {'criterion': ['gini', 'entropy']}\n",
    "etc, scores = train_best_model(etc, param_ranges, X, y, scoring, cv, refit=refit)"
   ]
  },
  {
   "cell_type": "code",
   "execution_count": 192,
   "metadata": {},
   "outputs": [
    {
     "name": "stdout",
     "output_type": "stream",
     "text": [
      "            balanced_accuracy   roc_auc  precision_macro\n",
      "mean_train           0.824758  0.941765         0.907219\n",
      "std_train            0.011664  0.006171         0.008462\n",
      "mean_test            0.796246  0.871762         0.818686\n",
      "std_test             0.025384  0.019900         0.023794\n",
      "{'max_depth': 5, 'n_estimators': 65}\n"
     ]
    }
   ],
   "source": [
    "param_ranges = {'n_estimators': np.arange(5, 100, 20),\n",
    "                'max_depth': np.arange(3, 10)}\n",
    "etc, scores = train_best_model(etc, param_ranges, X, y, scoring, cv, refit=refit)"
   ]
  },
  {
   "cell_type": "code",
   "execution_count": 193,
   "metadata": {},
   "outputs": [
    {
     "name": "stdout",
     "output_type": "stream",
     "text": [
      "            balanced_accuracy   roc_auc  precision_macro\n",
      "mean_train           0.820771  0.895631         0.835915\n",
      "std_train            0.011872  0.008807         0.010891\n",
      "mean_test            0.795640  0.864242         0.811927\n",
      "std_test             0.027102  0.022100         0.025643\n",
      "{'ccp_alpha': 0.002220338983050848}\n"
     ]
    }
   ],
   "source": [
    "param_ranges = {'ccp_alpha': np.linspace(0.001,0.01, 60)}\n",
    "etc, scores = train_best_model(etc, param_ranges, X, y, scoring, cv, refit=refit)"
   ]
  },
  {
   "cell_type": "code",
   "execution_count": 194,
   "metadata": {},
   "outputs": [],
   "source": [
    "base_scores['etc'] = [scores.loc['mean_test', refit], scores.loc['mean_train', refit]]"
   ]
  },
  {
   "cell_type": "code",
   "execution_count": 195,
   "metadata": {},
   "outputs": [
    {
     "name": "stdout",
     "output_type": "stream",
     "text": [
      "Optimal number of features : 5\n",
      "Features to drop: \n",
      "\n",
      "['Age', 'Fare', 'fgrp']\n"
     ]
    },
    {
     "data": {
      "image/png": "[encoded data removed]",
      "text/plain": [
       "<Figure size 1152x288 with 3 Axes>"
      ]
     },
     "metadata": {
      "needs_background": "light"
     },
     "output_type": "display_data"
    }
   ],
   "source": [
    "rfecv = feature_selection.RFECV(estimator=etc, step=1, min_features_to_select=1, cv=cv, scoring=refit, n_jobs=-1)\n",
    "rfecv.fit(X, y)\n",
    "print(\"Optimal number of features : %d\" % rfecv.n_features_)\n",
    "\n",
    "# Plot number of features VS. cross-validation scores\n",
    "fig = plt.figure()\n",
    "fig.set_size_inches(16,4)\n",
    "ax = fig.add_subplot(1,2,1)\n",
    "ax.set_xlabel(\"Number of features selected\")\n",
    "ax.set_ylabel(\"Cross validation score (nb of correct classifications)\")\n",
    "ax.plot(range(1, len(rfecv.grid_scores_) + 1), rfecv.grid_scores_)\n",
    "\n",
    "plot_confusion_matrix(etc, X, y, ax=fig.add_subplot(1,2,2), normalize=True, title='rfc')\n",
    "\n",
    "print('Features to drop: \\n')\n",
    "feats = []\n",
    "for i, m in zip(X.columns, rfecv.get_support()):\n",
    "    if not m:\n",
    "        feats.append(i)\n",
    "print(feats)"
   ]
  },
  {
   "cell_type": "markdown",
   "metadata": {},
   "source": [
    "#### RandomForestClassifier"
   ]
  },
  {
   "cell_type": "code",
   "execution_count": 196,
   "metadata": {},
   "outputs": [
    {
     "name": "stdout",
     "output_type": "stream",
     "text": [
      "            balanced_accuracy   roc_auc  precision_macro\n",
      "mean_train           0.829920  0.910660         0.858317\n",
      "std_train            0.013286  0.008498         0.009519\n",
      "mean_test            0.794954  0.866428         0.826913\n",
      "std_test             0.028017  0.020118         0.024069\n"
     ]
    }
   ],
   "source": [
    "rfc = ens.RandomForestClassifier(random_state=random_state, n_jobs=-1, criterion='entropy',\n",
    "                                 n_estimators=45,\n",
    "                                 max_depth=5,\n",
    "                                 ccp_alpha=0.0112637)\n",
    "scores = cv_rep(rfc, X, y, cv, scoring)\n",
    "base_scores['rfc'] = [scores.loc['mean_test', refit], scores.loc['mean_train', refit]]\n",
    "print(scores)\n",
    "\n",
    "# param_ranges = {'n_estimators': np.arange(5, 100, 20),\n",
    "#                 'max_depth': np.arange(5, 10)}\n",
    "# rfc, scores = train_best_model(rfc, param_ranges, X, y, scoring, cv, refit=refit)\n",
    "\n",
    "# param_ranges = {'ccp_alpha': np.linspace(0.001, 0.01, 15)}\n",
    "# rfc, scores = train_best_model(rfc, param_ranges, X, y, scoring, cv, refit=refit)"
   ]
  },
  {
   "cell_type": "code",
   "execution_count": 197,
   "metadata": {},
   "outputs": [
    {
     "name": "stdout",
     "output_type": "stream",
     "text": [
      "            balanced_accuracy   roc_auc  precision_macro\n",
      "mean_train           0.832655  0.911300         0.863487\n",
      "std_train            0.008477  0.008651         0.009924\n",
      "mean_test            0.795560  0.868720         0.827839\n",
      "std_test             0.027549  0.020902         0.026634\n",
      "{'max_depth': 7, 'n_estimators': 25}\n"
     ]
    }
   ],
   "source": [
    "param_ranges = {'n_estimators': np.arange(5, 100, 20),\n",
    "                'max_depth': np.arange(5, 10)}\n",
    "rfc, scores = train_best_model(rfc, param_ranges, X, y, scoring, cv, refit=refit)"
   ]
  },
  {
   "cell_type": "code",
   "execution_count": 198,
   "metadata": {},
   "outputs": [
    {
     "name": "stdout",
     "output_type": "stream",
     "text": [
      "            balanced_accuracy   roc_auc  precision_macro\n",
      "mean_train           0.895478  0.965089         0.855132\n",
      "std_train            0.017636  0.005652         0.011411\n",
      "mean_test            0.794904  0.866031         0.824972\n",
      "std_test             0.018886  0.015641         0.023070\n",
      "{'ccp_alpha': 0.0}\n"
     ]
    }
   ],
   "source": [
    "param_ranges = {'ccp_alpha': np.linspace(0, 1, 80)}\n",
    "rfc, scores = train_best_model(rfc, param_ranges, X, y, scoring, cv, refit=refit)"
   ]
  },
  {
   "cell_type": "code",
   "execution_count": 199,
   "metadata": {},
   "outputs": [],
   "source": [
    "base_scores['rfc'] = [scores.loc['mean_test', refit], scores.loc['mean_train', refit]]"
   ]
  },
  {
   "cell_type": "markdown",
   "metadata": {},
   "source": [
    "#### LogisticRegression"
   ]
  },
  {
   "cell_type": "code",
   "execution_count": 200,
   "metadata": {},
   "outputs": [
    {
     "name": "stdout",
     "output_type": "stream",
     "text": [
      "            balanced_accuracy   roc_auc  precision_macro\n",
      "mean_train           0.802870  0.854122         0.805772\n",
      "std_train            0.011458  0.013630         0.012158\n",
      "mean_test            0.788500  0.844116         0.794296\n",
      "std_test             0.019164  0.023815         0.018592\n"
     ]
    }
   ],
   "source": [
    "lr = lm.LogisticRegression(class_weight=class_weights, random_state=random_state, n_jobs=-1,\n",
    "                           penalty='l2',\n",
    "                           solver='liblinear',\n",
    "                           dual=False,\n",
    "                           C=1.3122448979591839)\n",
    "scores = cv_rep(lr, X, y, cv, scoring)\n",
    "base_scores['lr'] = [scores.loc['mean_test', refit], scores.loc['mean_train', refit]]\n",
    "print(scores)\n",
    "\n",
    "# param_ranges = {'C': np.linspace(0.1, 10, 99), 'solver': ['newton-cg', 'lbfgs', 'liblinear', 'sag', 'saga']}\n",
    "# lr, scores = train_best_model(lr, param_ranges, X, y, scoring, cv, refit=refit)"
   ]
  },
  {
   "cell_type": "code",
   "execution_count": 201,
   "metadata": {},
   "outputs": [
    {
     "name": "stdout",
     "output_type": "stream",
     "text": [
      "            balanced_accuracy   roc_auc  precision_macro\n",
      "mean_train           0.805421  0.859746         0.809704\n",
      "std_train            0.012879  0.013871         0.013467\n",
      "mean_test            0.792377  0.852071         0.800605\n",
      "std_test             0.026066  0.022997         0.024628\n",
      "{'C': 8.28265306122449, 'solver': 'lbfgs'}\n"
     ]
    }
   ],
   "source": [
    "param_ranges = {'C': np.linspace(0.1, 10, 99), 'solver': ['newton-cg', 'lbfgs', 'liblinear', 'sag', 'saga']}\n",
    "lr, scores = train_best_model(lr, param_ranges, X, y, scoring, cv, refit=refit)"
   ]
  },
  {
   "cell_type": "code",
   "execution_count": 202,
   "metadata": {},
   "outputs": [],
   "source": [
    "base_scores['lr'] = [scores.loc['mean_test', refit], scores.loc['mean_train', refit]]"
   ]
  },
  {
   "cell_type": "markdown",
   "metadata": {},
   "source": [
    "#### PassiveAggressiveClassifier"
   ]
  },
  {
   "cell_type": "code",
   "execution_count": 203,
   "metadata": {},
   "outputs": [
    {
     "name": "stdout",
     "output_type": "stream",
     "text": [
      "            balanced_accuracy   roc_auc  precision_macro\n",
      "mean_train           0.703352  0.757379         0.723612\n",
      "std_train            0.036793  0.070637         0.040451\n",
      "mean_test            0.690153  0.748864         0.711192\n",
      "std_test             0.056034  0.096648         0.053288\n"
     ]
    }
   ],
   "source": [
    "pac = lm.PassiveAggressiveClassifier(class_weight=class_weights, random_state=random_state, n_jobs=-1,\n",
    "                                     C=0.21020408163265308)\n",
    "scores = cv_rep(pac, X, y, cv, scoring)\n",
    "base_scores['pac'] = [scores.loc['mean_test', refit], scores.loc['mean_train', refit]]\n",
    "print(scores)\n",
    "\n",
    "# param_ranges = {'C': np.linspace(0.1, 1, 99)}\n",
    "# pac, scores = train_best_model(pac, param_ranges, X, y, scoring, cv, refit=refit)"
   ]
  },
  {
   "cell_type": "code",
   "execution_count": 204,
   "metadata": {},
   "outputs": [
    {
     "name": "stdout",
     "output_type": "stream",
     "text": [
      "            balanced_accuracy   roc_auc  precision_macro\n",
      "mean_train           0.706974  0.770578         0.729479\n",
      "std_train            0.032357  0.074146         0.039792\n",
      "mean_test            0.694790  0.760562         0.717052\n",
      "std_test             0.053264  0.095094         0.061142\n",
      "{'C': 0.23775510204081635}\n"
     ]
    }
   ],
   "source": [
    "param_ranges = {'C': np.linspace(0.1, 1, 99)}\n",
    "pac, scores = train_best_model(pac, param_ranges, X, y, scoring, cv, refit=refit)"
   ]
  },
  {
   "cell_type": "code",
   "execution_count": 205,
   "metadata": {},
   "outputs": [],
   "source": [
    "base_scores['pac'] = [scores.loc['mean_test', refit], scores.loc['mean_train', refit]]"
   ]
  },
  {
   "cell_type": "markdown",
   "metadata": {},
   "source": [
    "#### RidgeClassifier"
   ]
  },
  {
   "cell_type": "code",
   "execution_count": 206,
   "metadata": {},
   "outputs": [
    {
     "name": "stdout",
     "output_type": "stream",
     "text": [
      "            balanced_accuracy   roc_auc  precision_macro\n",
      "mean_train           0.807001  0.857756         0.812169\n",
      "std_train            0.010674  0.014064         0.010755\n",
      "mean_test            0.792683  0.849941         0.799238\n",
      "std_test             0.022044  0.022762         0.021288\n"
     ]
    }
   ],
   "source": [
    "rc = lm.RidgeClassifier(class_weight=class_weights, random_state=random_state,\n",
    "                        alpha=11.122448979591837)\n",
    "scores = cv_rep(rc, X, y, cv, scoring)\n",
    "base_scores['rc'] = [scores.loc['mean_test', refit], scores.loc['mean_train', refit]]\n",
    "print(scores)\n",
    "\n",
    "# param_ranges = {'alpha': np.linspace(10, 20, 99)}\n",
    "# rc, scores = train_best_model(rc, param_ranges, X, y, scoring, cv, refit=refit)"
   ]
  },
  {
   "cell_type": "code",
   "execution_count": 207,
   "metadata": {},
   "outputs": [
    {
     "name": "stdout",
     "output_type": "stream",
     "text": [
      "            balanced_accuracy   roc_auc  precision_macro\n",
      "mean_train           0.807001  0.857203         0.812143\n",
      "std_train            0.011019  0.013737         0.010882\n",
      "mean_test            0.794016  0.851118         0.802138\n",
      "std_test             0.022314  0.021933         0.021106\n",
      "{'alpha': 7.004081632653061}\n"
     ]
    }
   ],
   "source": [
    "param_ranges = {'alpha': np.linspace(0.1, 20, 99)}\n",
    "rc, scores = train_best_model(rc, param_ranges, X, y, scoring, cv, refit=refit)"
   ]
  },
  {
   "cell_type": "code",
   "execution_count": 208,
   "metadata": {},
   "outputs": [],
   "source": [
    "base_scores['rc'] = [scores.loc['mean_test', refit], scores.loc['mean_train', refit]]"
   ]
  },
  {
   "cell_type": "markdown",
   "metadata": {},
   "source": [
    "#### SVC"
   ]
  },
  {
   "cell_type": "code",
   "execution_count": 209,
   "metadata": {},
   "outputs": [
    {
     "name": "stdout",
     "output_type": "stream",
     "text": [
      "            balanced_accuracy   roc_auc  precision_macro\n",
      "mean_train           0.825808  0.892942         0.834340\n",
      "std_train            0.015767  0.014836         0.014730\n",
      "mean_test            0.793889  0.838832         0.805801\n",
      "std_test             0.026406  0.031957         0.027197\n"
     ]
    }
   ],
   "source": [
    "svc = svm.SVC(kernel='rbf', gamma='scale', shrinking=True, class_weight=class_weights,\n",
    "              C=9428.57142857143)\n",
    "scores = cv_rep(svc, X, y, cv, scoring)\n",
    "base_scores['svc'] = [scores.loc['mean_test', refit], scores.loc['mean_train', refit]]\n",
    "print(scores)\n",
    "\n",
    "# param_ranges = {'C': np.linspace(9000, 12000, 99)}\n",
    "# svc, scores = train_best_model(svc, param_ranges, X, y, scoring, cv, refit=refit)"
   ]
  },
  {
   "cell_type": "code",
   "execution_count": 210,
   "metadata": {},
   "outputs": [
    {
     "name": "stdout",
     "output_type": "stream",
     "text": [
      "            balanced_accuracy   roc_auc  precision_macro\n",
      "mean_train           0.844542  0.909997         0.852572\n",
      "std_train            0.013048  0.010898         0.012341\n",
      "mean_test            0.788617  0.835872         0.797216\n",
      "std_test             0.027331  0.033071         0.027161\n",
      "{'C': 117857.14285714286}\n"
     ]
    }
   ],
   "source": [
    "param_ranges = {'C': np.linspace(90000, 120000, 99)}\n",
    "svc, scores = train_best_model(svc, param_ranges, X, y, scoring, cv, refit=refit)"
   ]
  },
  {
   "cell_type": "code",
   "execution_count": 211,
   "metadata": {},
   "outputs": [],
   "source": [
    "base_scores['svc'] = [scores.loc['mean_test', refit], scores.loc['mean_train', refit]]"
   ]
  },
  {
   "cell_type": "code",
   "execution_count": 212,
   "metadata": {},
   "outputs": [
    {
     "name": "stdout",
     "output_type": "stream",
     "text": [
      "            balanced_accuracy   roc_auc  precision_macro\n",
      "mean_train           0.815522  0.854014         0.830566\n",
      "std_train            0.011295  0.013647         0.010489\n",
      "mean_test            0.794604  0.840997         0.814519\n",
      "std_test             0.022244  0.021076         0.022693\n"
     ]
    }
   ],
   "source": [
    "nusvc = svm.NuSVC(kernel='rbf', gamma='scale', shrinking=True, class_weight=class_weights,\n",
    "                 nu=0.5102089795918366)\n",
    "scores = cv_rep(nusvc, X, y, cv, scoring)\n",
    "base_scores['nusvc'] = [scores.loc['mean_test', refit], scores.loc['mean_train', refit]]\n",
    "print(scores)\n",
    "\n",
    "# param_ranges = {'nu': np.linspace(0.00001,1,99)}\n",
    "# nusvc, scores = train_best_model(nusvc, param_ranges, X, y, scoring, cv, refit=refit)"
   ]
  },
  {
   "cell_type": "code",
   "execution_count": 213,
   "metadata": {},
   "outputs": [
    {
     "name": "stdout",
     "output_type": "stream",
     "text": [
      "            balanced_accuracy   roc_auc  precision_macro\n",
      "mean_train           0.815762  0.854014         0.831861\n",
      "std_train            0.011719  0.013647         0.011234\n",
      "mean_test            0.798182  0.840997         0.818893\n",
      "std_test             0.022226  0.021076         0.020849\n",
      "{'nu': 0.4693930612244898}\n"
     ]
    }
   ],
   "source": [
    "param_ranges = {'nu': np.linspace(0.00001,1,99)}\n",
    "nusvc, scores = train_best_model(nusvc, param_ranges, X, y, scoring, cv, refit=refit)"
   ]
  },
  {
   "cell_type": "code",
   "execution_count": 214,
   "metadata": {},
   "outputs": [],
   "source": [
    "base_scores['nusvc'] = [scores.loc['mean_test', refit], scores.loc['mean_train', refit]]"
   ]
  },
  {
   "cell_type": "code",
   "execution_count": 215,
   "metadata": {},
   "outputs": [
    {
     "data": {
      "text/html": [
       "<div>\n",
       "<style scoped>\n",
       "    .dataframe tbody tr th:only-of-type {\n",
       "        vertical-align: middle;\n",
       "    }\n",
       "\n",
       "    .dataframe tbody tr th {\n",
       "        vertical-align: top;\n",
       "    }\n",
       "\n",
       "    .dataframe thead th {\n",
       "        text-align: right;\n",
       "    }\n",
       "</style>\n",
       "<table border=\"1\" class=\"dataframe\">\n",
       "  <thead>\n",
       "    <tr style=\"text-align: right;\">\n",
       "      <th></th>\n",
       "      <th>gbc</th>\n",
       "      <th>abc</th>\n",
       "      <th>nusvc</th>\n",
       "      <th>etc</th>\n",
       "      <th>rfc</th>\n",
       "      <th>rc</th>\n",
       "      <th>lr</th>\n",
       "      <th>lda</th>\n",
       "      <th>qda</th>\n",
       "      <th>svc</th>\n",
       "      <th>gpc</th>\n",
       "      <th>pac</th>\n",
       "    </tr>\n",
       "  </thead>\n",
       "  <tbody>\n",
       "    <tr>\n",
       "      <th>test_score</th>\n",
       "      <td>0.803207</td>\n",
       "      <td>0.802736</td>\n",
       "      <td>0.798182</td>\n",
       "      <td>0.795640</td>\n",
       "      <td>0.794904</td>\n",
       "      <td>0.794016</td>\n",
       "      <td>0.792377</td>\n",
       "      <td>0.792245</td>\n",
       "      <td>0.788985</td>\n",
       "      <td>0.788617</td>\n",
       "      <td>0.737888</td>\n",
       "      <td>0.694790</td>\n",
       "    </tr>\n",
       "    <tr>\n",
       "      <th>train_score</th>\n",
       "      <td>0.857579</td>\n",
       "      <td>0.818392</td>\n",
       "      <td>0.815762</td>\n",
       "      <td>0.820771</td>\n",
       "      <td>0.895478</td>\n",
       "      <td>0.807001</td>\n",
       "      <td>0.805421</td>\n",
       "      <td>0.805943</td>\n",
       "      <td>0.808001</td>\n",
       "      <td>0.844542</td>\n",
       "      <td>0.842040</td>\n",
       "      <td>0.706974</td>\n",
       "    </tr>\n",
       "  </tbody>\n",
       "</table>\n",
       "</div>"
      ],
      "text/plain": [
       "                  gbc       abc     nusvc       etc       rfc        rc  \\\n",
       "test_score   0.803207  0.802736  0.798182  0.795640  0.794904  0.794016   \n",
       "train_score  0.857579  0.818392  0.815762  0.820771  0.895478  0.807001   \n",
       "\n",
       "                   lr       lda       qda       svc       gpc       pac  \n",
       "test_score   0.792377  0.792245  0.788985  0.788617  0.737888  0.694790  \n",
       "train_score  0.805421  0.805943  0.808001  0.844542  0.842040  0.706974  "
      ]
     },
     "execution_count": 215,
     "metadata": {},
     "output_type": "execute_result"
    }
   ],
   "source": [
    "pd.DataFrame(base_scores, index=['test_score', 'train_score']).sort_values(by='test_score', axis=1,ascending=False)"
   ]
  },
  {
   "cell_type": "code",
   "execution_count": 216,
   "metadata": {},
   "outputs": [],
   "source": [
    "# \trfc\tgbc\tabc\tnusvc\tetc\tlda\trc\tsvc\tlr\tqda\tgpc\tpac\n",
    "# test_score\t0.820896\t0.820149\t0.819030\t0.817164\t0.813806\t0.811194\t0.808209\t0.807836\t0.803731\t0.798507\t0.767537\t0.683209\n",
    "# train_score\t0.851311\t0.838764\t0.834831\t0.834644\t0.834644\t0.824906\t0.820787\t0.841199\t0.817603\t0.820412\t0.875843\t0.705243"
   ]
  },
  {
   "cell_type": "code",
   "execution_count": 217,
   "metadata": {},
   "outputs": [],
   "source": [
    "# \trfc\tgbc\tabc\tetc\tlda\trc\tnusvc\tlr\tqda\tsvc\tgpc\tpac\n",
    "# test_score\t0.820896\t0.820149\t0.819030\t0.815299\t0.813433\t0.812313\t0.807090\t0.806716\t0.797388\t0.784701\t0.735075\t0.679104\n",
    "# train_score\t0.851311\t0.838764\t0.834831\t0.836517\t0.823221\t0.823034\t0.835768\t0.815918\t0.820599\t0.852809\t0.908240\t0.684644"
   ]
  },
  {
   "cell_type": "code",
   "execution_count": 218,
   "metadata": {},
   "outputs": [],
   "source": [
    "# \tabc\trfc\tgbc\tnusvc\tetc\tlda\trc\tlr\tsvc\tqda\tgpc\tpac\n",
    "# test_score\t0.821642\t0.818284\t0.818284\t0.817537\t0.815672\t0.812687\t0.807090\t0.802985\t0.802612\t0.792537\t0.758209\t0.700373\n",
    "# train_score\t0.836891\t0.849438\t0.840262\t0.832397\t0.835393\t0.824906\t0.819288\t0.815169\t0.840262\t0.822846\t0.873034\t0.713483"
   ]
  },
  {
   "cell_type": "code",
   "execution_count": 219,
   "metadata": {},
   "outputs": [],
   "source": [
    "# \tabc\tnusvc\tetc\trfc\tlda\trc\tgbc\tlr\tsvc\tqda\tgpc\tpac\n",
    "# test_score\t0.800065\t0.795637\t0.795216\t0.793142\t0.792245\t0.790435\t0.789676\t0.787284\t0.784063\t0.776246\t0.731039\t0.695196\n",
    "# train_score\t0.818816\t0.813514\t0.818520\t0.828079\t0.807711\t0.805542\t0.815025\t0.801738\t0.825688\t0.807142\t0.851181\t0.708093"
   ]
  },
  {
   "cell_type": "code",
   "execution_count": 220,
   "metadata": {},
   "outputs": [],
   "source": [
    "base_models_surv_dic = {'lda':lda,'qda':qda,'abc':abc,'etc':etc,'rfc':rfc,'lr':lr,'pac':pac,'rc':rc,'svc':svc,'nusvc':nusvc,'gpc':gpc,'gbc':gbc}"
   ]
  },
  {
   "cell_type": "code",
   "execution_count": 221,
   "metadata": {},
   "outputs": [],
   "source": [
    "base_models_surv = [(k,base_models_surv_dic[k]) for k in base_models_surv_dic.keys()]"
   ]
  },
  {
   "cell_type": "code",
   "execution_count": 222,
   "metadata": {},
   "outputs": [
    {
     "data": {
      "image/png": "[encoded data removed]",
      "text/plain": [
       "<Figure size 1728x576 with 24 Axes>"
      ]
     },
     "metadata": {
      "needs_background": "light"
     },
     "output_type": "display_data"
    }
   ],
   "source": [
    "grd_n = len(base_models_surv)\n",
    "grd_cols_n = 6\n",
    "grd_rows_n = int(math.ceil(grd_n / grd_cols_n))\n",
    "fig = plt.figure()\n",
    "fig.set_size_inches(4 * grd_cols_n, 4 * grd_rows_n)\n",
    "gs = gridspec.GridSpec(grd_rows_n, grd_cols_n, figure=fig, wspace=0.3, hspace=0.3)\n",
    "\n",
    "for i, m in enumerate(base_models_surv):\n",
    "    lbl, model = m\n",
    "    plot_confusion_matrix(model, X, y, ax=fig.add_subplot(gs[i]), normalize=True, title=lbl)"
   ]
  },
  {
   "cell_type": "code",
   "execution_count": 223,
   "metadata": {},
   "outputs": [],
   "source": [
    "def base_models_predictions(models, X):\n",
    "    X1 = None\n",
    "    for i, model in models:\n",
    "        if X1 is None:\n",
    "            X1 = pd.Series(model.predict(X), name=i).to_frame()\n",
    "        else:\n",
    "            X1 = X1.merge(pd.Series(model.predict(X), name=i).to_frame(), left_index=True, right_index=True)\n",
    "    return X1"
   ]
  },
  {
   "cell_type": "code",
   "execution_count": 224,
   "metadata": {},
   "outputs": [],
   "source": [
    "def base_models_predictions_proba(models, X):\n",
    "    X0 = None\n",
    "    X1 = None\n",
    "    for i, model in models:\n",
    "        proba_0 = model.predict_proba(X)[:,0]\n",
    "        proba_1 = model.predict_proba(X)[:,1]\n",
    "        if X0 is None:\n",
    "            X0 = pd.Series(proba_0, name='{0}_proba'.format(i)).to_frame()\n",
    "        else:\n",
    "            X0 = X0.merge(pd.Series(proba_0, name='{0}_proba'.format(i)).to_frame(), left_index=True, right_index=True)\n",
    "        \n",
    "        if X1 is None:\n",
    "            X1 = pd.Series(proba_1, name='{0}_proba'.format(i)).to_frame()\n",
    "        else:\n",
    "            X1 = X1.merge(pd.Series(proba_1, name='{0}_proba'.format(i)).to_frame(), left_index=True, right_index=True)\n",
    "    return (X0, X1)"
   ]
  },
  {
   "cell_type": "markdown",
   "metadata": {},
   "source": [
    "#### Base estimators correlation matrix"
   ]
  },
  {
   "cell_type": "code",
   "execution_count": 225,
   "metadata": {},
   "outputs": [
    {
     "data": {
      "image/png": "[encoded data removed]",
      "text/plain": [
       "<Figure size 720x720 with 2 Axes>"
      ]
     },
     "metadata": {
      "needs_background": "light"
     },
     "output_type": "display_data"
    }
   ],
   "source": [
    "preds_base = base_models_predictions(base_models_surv, X)\n",
    "fig = plt.figure()\n",
    "fig.set_size_inches(10, 10)\n",
    "corr_matrix = preds_base.corr()\n",
    "plot_correlation_matrix(ax=fig.add_subplot(1,1,1),\n",
    "                              data=corr_matrix,\n",
    "                             cmap=sns.diverging_palette(200, 15, s=75, l=50, sep=1, n=25, center='light', as_cmap=False))"
   ]
  },
  {
   "cell_type": "code",
   "execution_count": 226,
   "metadata": {},
   "outputs": [
    {
     "data": {
      "text/html": [
       "<div>\n",
       "<style scoped>\n",
       "    .dataframe tbody tr th:only-of-type {\n",
       "        vertical-align: middle;\n",
       "    }\n",
       "\n",
       "    .dataframe tbody tr th {\n",
       "        vertical-align: top;\n",
       "    }\n",
       "\n",
       "    .dataframe thead th {\n",
       "        text-align: right;\n",
       "    }\n",
       "</style>\n",
       "<table border=\"1\" class=\"dataframe\">\n",
       "  <thead>\n",
       "    <tr style=\"text-align: right;\">\n",
       "      <th></th>\n",
       "      <th>abc</th>\n",
       "      <th>etc</th>\n",
       "      <th>nusvc</th>\n",
       "      <th>lda</th>\n",
       "      <th>rc</th>\n",
       "      <th>lr</th>\n",
       "      <th>svc</th>\n",
       "      <th>qda</th>\n",
       "      <th>gbc</th>\n",
       "      <th>rfc</th>\n",
       "      <th>gpc</th>\n",
       "      <th>pac</th>\n",
       "    </tr>\n",
       "  </thead>\n",
       "  <tbody>\n",
       "    <tr>\n",
       "      <th>cc</th>\n",
       "      <td>0.778739</td>\n",
       "      <td>0.773165</td>\n",
       "      <td>0.770003</td>\n",
       "      <td>0.76419</td>\n",
       "      <td>0.764026</td>\n",
       "      <td>0.753504</td>\n",
       "      <td>0.745403</td>\n",
       "      <td>0.735325</td>\n",
       "      <td>0.721059</td>\n",
       "      <td>0.709187</td>\n",
       "      <td>0.619668</td>\n",
       "      <td>0.314652</td>\n",
       "    </tr>\n",
       "  </tbody>\n",
       "</table>\n",
       "</div>"
      ],
      "text/plain": [
       "         abc       etc     nusvc      lda        rc        lr       svc  \\\n",
       "cc  0.778739  0.773165  0.770003  0.76419  0.764026  0.753504  0.745403   \n",
       "\n",
       "         qda       gbc       rfc       gpc       pac  \n",
       "cc  0.735325  0.721059  0.709187  0.619668  0.314652  "
      ]
     },
     "execution_count": 226,
     "metadata": {},
     "output_type": "execute_result"
    }
   ],
   "source": [
    "# Mean of each model correlation coefficients\n",
    "corr_sc = {}\n",
    "for k in base_models_surv_dic.keys():\n",
    "    corr_sc[k] = (corr_matrix[k].sum() - 1) / len(corr_matrix.index)\n",
    "df_base_models_corr_sc = pd.DataFrame(corr_sc, index=['cc'])\n",
    "df_base_models_corr_sc.sort_values(by='cc', axis=1, ascending=False)"
   ]
  },
  {
   "cell_type": "markdown",
   "metadata": {},
   "source": [
    "#### Select less correlated models"
   ]
  },
  {
   "cell_type": "code",
   "execution_count": 227,
   "metadata": {},
   "outputs": [],
   "source": [
    "# base_models_surv_dic = {'lda':lda,'qda':qda,'abc':abc,'lr':lr,'pac':pac,'svc':svc}"
   ]
  },
  {
   "cell_type": "code",
   "execution_count": 228,
   "metadata": {},
   "outputs": [],
   "source": [
    "base_models_surv_dic = {'qda':qda,'rfc':rfc,'lr':lr,'rc':rc,'svc':svc,'nusvc':nusvc,'gpc':gpc}"
   ]
  },
  {
   "cell_type": "code",
   "execution_count": 229,
   "metadata": {},
   "outputs": [],
   "source": [
    "base_models_surv = [(k,base_models_surv_dic[k]) for k in base_models_surv_dic.keys()]"
   ]
  },
  {
   "cell_type": "code",
   "execution_count": 230,
   "metadata": {},
   "outputs": [
    {
     "data": {
      "image/png": "[encoded data removed]",
      "text/plain": [
       "<Figure size 720x720 with 2 Axes>"
      ]
     },
     "metadata": {
      "needs_background": "light"
     },
     "output_type": "display_data"
    }
   ],
   "source": [
    "preds_base = base_models_predictions(base_models_surv, X)\n",
    "fig = plt.figure()\n",
    "fig.set_size_inches(10, 10)\n",
    "corr_matrix = preds_base.corr()\n",
    "plot_correlation_matrix(ax=fig.add_subplot(1,1,1),\n",
    "                              data=corr_matrix,\n",
    "                             cmap=sns.diverging_palette(200, 15, s=75, l=50, sep=1, n=25, center='light', as_cmap=False))"
   ]
  },
  {
   "cell_type": "markdown",
   "metadata": {},
   "source": [
    "#### Compare stacking classifier score for different final estimator models"
   ]
  },
  {
   "cell_type": "code",
   "execution_count": 231,
   "metadata": {},
   "outputs": [],
   "source": [
    "def train_final_models(models, X, y, score, cv_folds=5):\n",
    "    scores = {}\n",
    "    fin_models = []\n",
    "    for m in models:\n",
    "        model_st = ens.StackingClassifier(estimators=base_models_surv,\n",
    "                                          final_estimator=m[1],\n",
    "                                          cv=cv_folds, \n",
    "                                          stack_method='predict', \n",
    "                                          n_jobs=-1)\n",
    "        res = cv_rep(model_st, X, y, cv, scoring)\n",
    "        scores[m[0]] = [res.loc['mean_test', score], res.loc['mean_train', score]]\n",
    "        fin_models.append((m[0], model_st))\n",
    "    scores = pd.DataFrame(scores, index=['Test_score', 'Train_score']).sort_values(by='Test_score', axis=1,ascending=False)\n",
    "    return fin_models, scores"
   ]
  },
  {
   "cell_type": "code",
   "execution_count": 232,
   "metadata": {},
   "outputs": [],
   "source": [
    "final_models_surv = [('abc', ens.AdaBoostClassifier()),\n",
    "                     ('gbc', ens.GradientBoostingClassifier()),\n",
    "                     ('etc', ens.ExtraTreesClassifier()),\n",
    "                     ('rfc', ens.RandomForestClassifier()),\n",
    "                     ('lr', lm.LogisticRegression()),\n",
    "                     ('svc', svm.SVC())]"
   ]
  },
  {
   "cell_type": "code",
   "execution_count": 233,
   "metadata": {},
   "outputs": [],
   "source": [
    "fin_models, scores = train_final_models(final_models_surv, X, y, cv_folds=5, score=refit)"
   ]
  },
  {
   "cell_type": "code",
   "execution_count": 234,
   "metadata": {},
   "outputs": [
    {
     "data": {
      "text/html": [
       "<div>\n",
       "<style scoped>\n",
       "    .dataframe tbody tr th:only-of-type {\n",
       "        vertical-align: middle;\n",
       "    }\n",
       "\n",
       "    .dataframe tbody tr th {\n",
       "        vertical-align: top;\n",
       "    }\n",
       "\n",
       "    .dataframe thead th {\n",
       "        text-align: right;\n",
       "    }\n",
       "</style>\n",
       "<table border=\"1\" class=\"dataframe\">\n",
       "  <thead>\n",
       "    <tr style=\"text-align: right;\">\n",
       "      <th></th>\n",
       "      <th>rfc</th>\n",
       "      <th>gbc</th>\n",
       "      <th>abc</th>\n",
       "      <th>lr</th>\n",
       "      <th>etc</th>\n",
       "      <th>svc</th>\n",
       "    </tr>\n",
       "  </thead>\n",
       "  <tbody>\n",
       "    <tr>\n",
       "      <th>Test_score</th>\n",
       "      <td>0.799273</td>\n",
       "      <td>0.798791</td>\n",
       "      <td>0.797387</td>\n",
       "      <td>0.796784</td>\n",
       "      <td>0.796784</td>\n",
       "      <td>0.795631</td>\n",
       "    </tr>\n",
       "    <tr>\n",
       "      <th>Train_score</th>\n",
       "      <td>0.855798</td>\n",
       "      <td>0.855222</td>\n",
       "      <td>0.861601</td>\n",
       "      <td>0.856370</td>\n",
       "      <td>0.848025</td>\n",
       "      <td>0.852288</td>\n",
       "    </tr>\n",
       "  </tbody>\n",
       "</table>\n",
       "</div>"
      ],
      "text/plain": [
       "                  rfc       gbc       abc        lr       etc       svc\n",
       "Test_score   0.799273  0.798791  0.797387  0.796784  0.796784  0.795631\n",
       "Train_score  0.855798  0.855222  0.861601  0.856370  0.848025  0.852288"
      ]
     },
     "execution_count": 234,
     "metadata": {},
     "output_type": "execute_result"
    }
   ],
   "source": [
    "scores"
   ]
  },
  {
   "cell_type": "code",
   "execution_count": 235,
   "metadata": {},
   "outputs": [
    {
     "data": {
      "image/png": "[encoded data removed]",
      "text/plain": [
       "<Figure size 1728x288 with 12 Axes>"
      ]
     },
     "metadata": {
      "needs_background": "light"
     },
     "output_type": "display_data"
    }
   ],
   "source": [
    "grd_n = len(fin_models)\n",
    "grd_cols_n = 6\n",
    "grd_rows_n = int(math.ceil(grd_n / grd_cols_n))\n",
    "fig = plt.figure()\n",
    "fig.set_size_inches(4 * grd_cols_n, 4 * grd_rows_n)\n",
    "gs = gridspec.GridSpec(grd_rows_n, grd_cols_n, figure=fig, wspace=0.3, hspace=0.3)\n",
    "\n",
    "for i, m in enumerate(fin_models):\n",
    "    lbl, model = m\n",
    "    plot_confusion_matrix(model, X, y, ax=fig.add_subplot(gs[i]), normalize=True, title=lbl)"
   ]
  },
  {
   "cell_type": "markdown",
   "metadata": {},
   "source": [
    "#### Train stacking model"
   ]
  },
  {
   "cell_type": "code",
   "execution_count": 236,
   "metadata": {},
   "outputs": [
    {
     "data": {
      "text/html": [
       "<div>\n",
       "<style scoped>\n",
       "    .dataframe tbody tr th:only-of-type {\n",
       "        vertical-align: middle;\n",
       "    }\n",
       "\n",
       "    .dataframe tbody tr th {\n",
       "        vertical-align: top;\n",
       "    }\n",
       "\n",
       "    .dataframe thead th {\n",
       "        text-align: right;\n",
       "    }\n",
       "</style>\n",
       "<table border=\"1\" class=\"dataframe\">\n",
       "  <thead>\n",
       "    <tr style=\"text-align: right;\">\n",
       "      <th></th>\n",
       "      <th>balanced_accuracy</th>\n",
       "      <th>roc_auc</th>\n",
       "      <th>precision_macro</th>\n",
       "    </tr>\n",
       "  </thead>\n",
       "  <tbody>\n",
       "    <tr>\n",
       "      <th>mean_train</th>\n",
       "      <td>0.863712</td>\n",
       "      <td>0.898932</td>\n",
       "      <td>0.887519</td>\n",
       "    </tr>\n",
       "    <tr>\n",
       "      <th>std_train</th>\n",
       "      <td>0.017410</td>\n",
       "      <td>0.017775</td>\n",
       "      <td>0.024215</td>\n",
       "    </tr>\n",
       "    <tr>\n",
       "      <th>mean_test</th>\n",
       "      <td>0.798726</td>\n",
       "      <td>0.842780</td>\n",
       "      <td>0.822038</td>\n",
       "    </tr>\n",
       "    <tr>\n",
       "      <th>std_test</th>\n",
       "      <td>0.019499</td>\n",
       "      <td>0.018489</td>\n",
       "      <td>0.022568</td>\n",
       "    </tr>\n",
       "  </tbody>\n",
       "</table>\n",
       "</div>"
      ],
      "text/plain": [
       "            balanced_accuracy   roc_auc  precision_macro\n",
       "mean_train           0.863712  0.898932         0.887519\n",
       "std_train            0.017410  0.017775         0.024215\n",
       "mean_test            0.798726  0.842780         0.822038\n",
       "std_test             0.019499  0.018489         0.022568"
      ]
     },
     "execution_count": 236,
     "metadata": {},
     "output_type": "execute_result"
    }
   ],
   "source": [
    "model_st = ens.StackingClassifier(estimators=base_models_surv,\n",
    "                                  final_estimator=ens.AdaBoostClassifier(algorithm='SAMME.R', \n",
    "                                                                         learning_rate=0.1,\n",
    "                                                                         n_estimators=25,\n",
    "                                                                         random_state=random_state),\n",
    "                                  cv=5, \n",
    "                                  stack_method='predict', \n",
    "                                  passthrough=False,\n",
    "                                  n_jobs=-1)\n",
    "\n",
    "# param_ranges = {'final_estimator__n_estimators': np.arange(5, 100, 20), 'final_estimator__learning_rate': np.linspace(0.001, 1, 40)}\n",
    "# model_st, scores = train_best_model(model_st, param_ranges, X, y, scoring, cv, refit=refit)\n",
    "\n",
    "cv_rep(model_st, X, y, cv, scoring)"
   ]
  },
  {
   "cell_type": "code",
   "execution_count": 237,
   "metadata": {},
   "outputs": [
    {
     "name": "stdout",
     "output_type": "stream",
     "text": [
      "            balanced_accuracy   roc_auc  precision_macro\n",
      "mean_train           0.860948  0.900062         0.890265\n",
      "std_train            0.019155  0.016912         0.019098\n",
      "mean_test            0.802065  0.844319         0.824975\n",
      "std_test             0.019135  0.019679         0.022373\n",
      "{'final_estimator__learning_rate': 0.4566086956521739, 'final_estimator__n_estimators': 5}\n"
     ]
    }
   ],
   "source": [
    "param_ranges = {'final_estimator__n_estimators': np.arange(5, 120, 50), 'final_estimator__learning_rate': np.linspace(0.001, 0.5, 70)}\n",
    "model_st, scores = train_best_model(model_st, param_ranges, X, y, scoring, cv, refit=refit)\n"
   ]
  },
  {
   "cell_type": "code",
   "execution_count": 238,
   "metadata": {},
   "outputs": [],
   "source": [
    "# \tbalanced_accuracy\troc_auc\tprecision_macro\n",
    "# mean_train\t0.821064\t0.852050\t0.836468\n",
    "# std_train\t0.011899\t0.019283\t0.011571\n",
    "# mean_test\t0.799821\t0.816190\t0.819587\n",
    "# std_test\t0.022534\t0.025011\t0.021100"
   ]
  },
  {
   "cell_type": "code",
   "execution_count": 239,
   "metadata": {},
   "outputs": [
    {
     "data": {
      "image/png": "[encoded data removed]",
      "text/plain": [
       "<Figure size 288x288 with 2 Axes>"
      ]
     },
     "metadata": {
      "needs_background": "light"
     },
     "output_type": "display_data"
    }
   ],
   "source": [
    "fig = plt.figure()\n",
    "fig.set_size_inches(4,4)\n",
    "plot_confusion_matrix(model_st, X, y, ax=fig.add_subplot(1,1,1), normalize=True, title='')"
   ]
  },
  {
   "cell_type": "code",
   "execution_count": 240,
   "metadata": {},
   "outputs": [
    {
     "data": {
      "text/html": [
       "<div>\n",
       "<style scoped>\n",
       "    .dataframe tbody tr th:only-of-type {\n",
       "        vertical-align: middle;\n",
       "    }\n",
       "\n",
       "    .dataframe tbody tr th {\n",
       "        vertical-align: top;\n",
       "    }\n",
       "\n",
       "    .dataframe thead th {\n",
       "        text-align: right;\n",
       "    }\n",
       "</style>\n",
       "<table border=\"1\" class=\"dataframe\">\n",
       "  <thead>\n",
       "    <tr style=\"text-align: right;\">\n",
       "      <th></th>\n",
       "      <th>balanced_accuracy</th>\n",
       "      <th>roc_auc</th>\n",
       "      <th>precision_macro</th>\n",
       "    </tr>\n",
       "  </thead>\n",
       "  <tbody>\n",
       "    <tr>\n",
       "      <th>mean_train</th>\n",
       "      <td>0.860948</td>\n",
       "      <td>0.900062</td>\n",
       "      <td>0.882067</td>\n",
       "    </tr>\n",
       "    <tr>\n",
       "      <th>std_train</th>\n",
       "      <td>0.019155</td>\n",
       "      <td>0.016912</td>\n",
       "      <td>0.027244</td>\n",
       "    </tr>\n",
       "    <tr>\n",
       "      <th>mean_test</th>\n",
       "      <td>0.802065</td>\n",
       "      <td>0.844319</td>\n",
       "      <td>0.823208</td>\n",
       "    </tr>\n",
       "    <tr>\n",
       "      <th>std_test</th>\n",
       "      <td>0.019135</td>\n",
       "      <td>0.019679</td>\n",
       "      <td>0.020200</td>\n",
       "    </tr>\n",
       "  </tbody>\n",
       "</table>\n",
       "</div>"
      ],
      "text/plain": [
       "            balanced_accuracy   roc_auc  precision_macro\n",
       "mean_train           0.860948  0.900062         0.882067\n",
       "std_train            0.019155  0.016912         0.027244\n",
       "mean_test            0.802065  0.844319         0.823208\n",
       "std_test             0.019135  0.019679         0.020200"
      ]
     },
     "execution_count": 240,
     "metadata": {},
     "output_type": "execute_result"
    }
   ],
   "source": [
    "model_st_cal = calib.CalibratedClassifierCV(base_estimator=model_st, method='sigmoid', cv=cv)\n",
    "model_st_cal.fit(X,y)\n",
    "cv_rep(model_st, X, y, cv, scoring)"
   ]
  },
  {
   "cell_type": "markdown",
   "metadata": {},
   "source": [
    "## Predict test set"
   ]
  },
  {
   "cell_type": "markdown",
   "metadata": {},
   "source": [
    "#### Preprocessind data"
   ]
  },
  {
   "cell_type": "code",
   "execution_count": 241,
   "metadata": {},
   "outputs": [],
   "source": [
    "data = family_groups_encoder(data_test.copy(), fgrp_mask)\n",
    "# data = family_encoder(data)\n",
    "# data = fare_encoder(data, [sig1, fam1, famch1])\n",
    "data = fare_encoder(data, fare_mask)\n",
    "data = fare_transformer(data)\n",
    "\n",
    "data = ticket_encoder(data, ticket_mask)\n",
    "\n",
    "data = title_encoder(data)\n",
    "data = sex_encoder(data)\n",
    "data = fam_size(data)\n",
    "\n",
    "data = embarked_encoder(data)\n",
    "data = pclass_encoder(data)\n",
    "data = combine_features(data, 'Pclass', 'Embarked', 'PclEmb')\n",
    "\n",
    "# data = data[data['Age'].notna()].copy()\n",
    "# data = data[['Age', 'Fare', 'PclEmb', 'Sex', 'ttl', 'fgrp', 'famsize', 'Ticket', 'Cabin', 'PassengerId']]\n",
    "\n",
    "data = age_predictor(data, age_cls_model, age_reg_mogel)\n",
    "# data = age_transformer(data, age_clast_model)\n",
    "# data = data[['PassengerId', 'Survived', 'Fare', 'Age', 'ttl', 'famsize', 'PclEmb', 'fgrp']]\n",
    "data = data[['PassengerId', 'Age', 'Fare', 'PclEmb', 'Sex', 'ttl', 'fgrp', 'famsize', 'Ticket']]"
   ]
  },
  {
   "cell_type": "code",
   "execution_count": 242,
   "metadata": {},
   "outputs": [],
   "source": [
    "# data = family_groups_encoder(data_test, fam_grps)\n",
    "# data = fare_encoder(data, [sig1, fam1, famch1])\n",
    "# data = fare_transformer(data)\n",
    "\n",
    "# data = title_encoder(data)\n",
    "# data = sex_encoder(data)\n",
    "# data = fam_size(data)\n",
    "\n",
    "# data = embarked_encoder(data)\n",
    "# data = pclass_encoder(data)\n",
    "# data = combine_features(data, 'Pclass', 'Embarked', 'PclEmb')\n",
    "\n",
    "# data = data[['PassengerId', 'Fare', 'Age', 'ttl', 'famsize', 'PclEmb', 'fgrp']]\n",
    "\n",
    "# data = age_predictor(data, age_cls_model, age_reg_mogel)\n",
    "# data = age_transformer_counts(data)"
   ]
  },
  {
   "cell_type": "markdown",
   "metadata": {},
   "source": [
    "#### Make predictions"
   ]
  },
  {
   "cell_type": "code",
   "execution_count": 243,
   "metadata": {
    "scrolled": true
   },
   "outputs": [],
   "source": [
    "X = data.drop(columns=['PassengerId'])"
   ]
  },
  {
   "cell_type": "code",
   "execution_count": 244,
   "metadata": {},
   "outputs": [],
   "source": [
    "data['Survived'] = model_st.predict(X)\n",
    "df_submission = data[['PassengerId', 'Survived']]\n",
    "df_submission.to_csv(\"df_submission.csv\", index=False)"
   ]
  },
  {
   "cell_type": "code",
   "execution_count": 163,
   "metadata": {},
   "outputs": [
    {
     "data": {
      "text/html": [
       "<div>\n",
       "<style scoped>\n",
       "    .dataframe tbody tr th:only-of-type {\n",
       "        vertical-align: middle;\n",
       "    }\n",
       "\n",
       "    .dataframe tbody tr th {\n",
       "        vertical-align: top;\n",
       "    }\n",
       "\n",
       "    .dataframe thead th {\n",
       "        text-align: right;\n",
       "    }\n",
       "</style>\n",
       "<table border=\"1\" class=\"dataframe\">\n",
       "  <thead>\n",
       "    <tr style=\"text-align: right;\">\n",
       "      <th></th>\n",
       "      <th>PassengerId</th>\n",
       "      <th>Survived</th>\n",
       "    </tr>\n",
       "  </thead>\n",
       "  <tbody>\n",
       "    <tr>\n",
       "      <th>0</th>\n",
       "      <td>902</td>\n",
       "      <td>0</td>\n",
       "    </tr>\n",
       "    <tr>\n",
       "      <th>1</th>\n",
       "      <td>914</td>\n",
       "      <td>1</td>\n",
       "    </tr>\n",
       "    <tr>\n",
       "      <th>2</th>\n",
       "      <td>921</td>\n",
       "      <td>0</td>\n",
       "    </tr>\n",
       "    <tr>\n",
       "      <th>3</th>\n",
       "      <td>925</td>\n",
       "      <td>1</td>\n",
       "    </tr>\n",
       "    <tr>\n",
       "      <th>4</th>\n",
       "      <td>928</td>\n",
       "      <td>1</td>\n",
       "    </tr>\n",
       "    <tr>\n",
       "      <th>...</th>\n",
       "      <td>...</td>\n",
       "      <td>...</td>\n",
       "    </tr>\n",
       "    <tr>\n",
       "      <th>409</th>\n",
       "      <td>1301</td>\n",
       "      <td>1</td>\n",
       "    </tr>\n",
       "    <tr>\n",
       "      <th>411</th>\n",
       "      <td>1303</td>\n",
       "      <td>1</td>\n",
       "    </tr>\n",
       "    <tr>\n",
       "      <th>412</th>\n",
       "      <td>1304</td>\n",
       "      <td>1</td>\n",
       "    </tr>\n",
       "    <tr>\n",
       "      <th>414</th>\n",
       "      <td>1306</td>\n",
       "      <td>1</td>\n",
       "    </tr>\n",
       "    <tr>\n",
       "      <th>415</th>\n",
       "      <td>1307</td>\n",
       "      <td>0</td>\n",
       "    </tr>\n",
       "  </tbody>\n",
       "</table>\n",
       "<p>418 rows × 2 columns</p>\n",
       "</div>"
      ],
      "text/plain": [
       "     PassengerId  Survived\n",
       "0            902         0\n",
       "1            914         1\n",
       "2            921         0\n",
       "3            925         1\n",
       "4            928         1\n",
       "..           ...       ...\n",
       "409         1301         1\n",
       "411         1303         1\n",
       "412         1304         1\n",
       "414         1306         1\n",
       "415         1307         0\n",
       "\n",
       "[418 rows x 2 columns]"
      ]
     },
     "execution_count": 163,
     "metadata": {},
     "output_type": "execute_result"
    }
   ],
   "source": [
    "df_submission.loc[df_submission['PassengerId']>890]"
   ]
  },
  {
   "cell_type": "code",
   "execution_count": 250,
   "metadata": {},
   "outputs": [],
   "source": [
    "df_pp = pd.DataFrame(model_st_cal.predict_proba(X), columns=['pp_0', 'pp_1'])\n",
    "df_pp = pd.concat([data['PassengerId'].reset_index(drop=True), df_pp], axis=1)\n",
    "df_pp.to_csv(\"df_pp.csv\", index=False)"
   ]
  },
  {
   "cell_type": "code",
   "execution_count": 5,
   "metadata": {},
   "outputs": [
    {
     "data": {
      "text/html": [
       "<div>\n",
       "<style scoped>\n",
       "    .dataframe tbody tr th:only-of-type {\n",
       "        vertical-align: middle;\n",
       "    }\n",
       "\n",
       "    .dataframe tbody tr th {\n",
       "        vertical-align: top;\n",
       "    }\n",
       "\n",
       "    .dataframe thead th {\n",
       "        text-align: right;\n",
       "    }\n",
       "</style>\n",
       "<table border=\"1\" class=\"dataframe\">\n",
       "  <thead>\n",
       "    <tr style=\"text-align: right;\">\n",
       "      <th></th>\n",
       "      <th>PassengerId</th>\n",
       "      <th>pp_0</th>\n",
       "      <th>pp_1</th>\n",
       "    </tr>\n",
       "  </thead>\n",
       "  <tbody>\n",
       "    <tr>\n",
       "      <th>0</th>\n",
       "      <td>902</td>\n",
       "      <td>0.685302</td>\n",
       "      <td>0.314698</td>\n",
       "    </tr>\n",
       "    <tr>\n",
       "      <th>1</th>\n",
       "      <td>914</td>\n",
       "      <td>0.326434</td>\n",
       "      <td>0.673566</td>\n",
       "    </tr>\n",
       "    <tr>\n",
       "      <th>2</th>\n",
       "      <td>921</td>\n",
       "      <td>0.685302</td>\n",
       "      <td>0.314698</td>\n",
       "    </tr>\n",
       "    <tr>\n",
       "      <th>3</th>\n",
       "      <td>925</td>\n",
       "      <td>0.418080</td>\n",
       "      <td>0.581920</td>\n",
       "    </tr>\n",
       "    <tr>\n",
       "      <th>4</th>\n",
       "      <td>928</td>\n",
       "      <td>0.326434</td>\n",
       "      <td>0.673566</td>\n",
       "    </tr>\n",
       "    <tr>\n",
       "      <th>...</th>\n",
       "      <td>...</td>\n",
       "      <td>...</td>\n",
       "      <td>...</td>\n",
       "    </tr>\n",
       "    <tr>\n",
       "      <th>413</th>\n",
       "      <td>1301</td>\n",
       "      <td>0.418080</td>\n",
       "      <td>0.581920</td>\n",
       "    </tr>\n",
       "    <tr>\n",
       "      <th>414</th>\n",
       "      <td>1303</td>\n",
       "      <td>0.326434</td>\n",
       "      <td>0.673566</td>\n",
       "    </tr>\n",
       "    <tr>\n",
       "      <th>415</th>\n",
       "      <td>1304</td>\n",
       "      <td>0.326434</td>\n",
       "      <td>0.673566</td>\n",
       "    </tr>\n",
       "    <tr>\n",
       "      <th>416</th>\n",
       "      <td>1306</td>\n",
       "      <td>0.326434</td>\n",
       "      <td>0.673566</td>\n",
       "    </tr>\n",
       "    <tr>\n",
       "      <th>417</th>\n",
       "      <td>1307</td>\n",
       "      <td>0.685302</td>\n",
       "      <td>0.314698</td>\n",
       "    </tr>\n",
       "  </tbody>\n",
       "</table>\n",
       "<p>418 rows × 3 columns</p>\n",
       "</div>"
      ],
      "text/plain": [
       "     PassengerId      pp_0      pp_1\n",
       "0            902  0.685302  0.314698\n",
       "1            914  0.326434  0.673566\n",
       "2            921  0.685302  0.314698\n",
       "3            925  0.418080  0.581920\n",
       "4            928  0.326434  0.673566\n",
       "..           ...       ...       ...\n",
       "413         1301  0.418080  0.581920\n",
       "414         1303  0.326434  0.673566\n",
       "415         1304  0.326434  0.673566\n",
       "416         1306  0.326434  0.673566\n",
       "417         1307  0.685302  0.314698\n",
       "\n",
       "[418 rows x 3 columns]"
      ]
     },
     "execution_count": 5,
     "metadata": {},
     "output_type": "execute_result"
    }
   ],
   "source": [
    "df_pp"
   ]
  },
  {
   "cell_type": "code",
   "execution_count": 4,
   "metadata": {},
   "outputs": [],
   "source": [
    "# Import predicted probabilities\n",
    "filename_pp = 'df_pp.csv'\n",
    "df_pp = pd.read_csv(filename_pp)"
   ]
  },
  {
   "cell_type": "code",
   "execution_count": 8,
   "metadata": {},
   "outputs": [
    {
     "data": {
      "text/html": [
       "<div>\n",
       "<style scoped>\n",
       "    .dataframe tbody tr th:only-of-type {\n",
       "        vertical-align: middle;\n",
       "    }\n",
       "\n",
       "    .dataframe tbody tr th {\n",
       "        vertical-align: top;\n",
       "    }\n",
       "\n",
       "    .dataframe thead th {\n",
       "        text-align: right;\n",
       "    }\n",
       "</style>\n",
       "<table border=\"1\" class=\"dataframe\">\n",
       "  <thead>\n",
       "    <tr style=\"text-align: right;\">\n",
       "      <th></th>\n",
       "      <th>PassengerId</th>\n",
       "      <th>pp_0</th>\n",
       "      <th>pp_1</th>\n",
       "    </tr>\n",
       "  </thead>\n",
       "  <tbody>\n",
       "  </tbody>\n",
       "</table>\n",
       "</div>"
      ],
      "text/plain": [
       "Empty DataFrame\n",
       "Columns: [PassengerId, pp_0, pp_1]\n",
       "Index: []"
      ]
     },
     "execution_count": 8,
     "metadata": {},
     "output_type": "execute_result"
    }
   ],
   "source": [
    "df_pp.loc[df_pp['pp_1'] > 70]"
   ]
  },
  {
   "cell_type": "code",
   "execution_count": null,
   "metadata": {},
   "outputs": [],
   "source": []
  }
 ],
 "metadata": {
  "kernelspec": {
   "display_name": "Python 3",
   "language": "python",
   "name": "python3"
  },
  "language_info": {
   "codemirror_mode": {
    "name": "ipython",
    "version": 3
   },
   "file_extension": ".py",
   "mimetype": "text/x-python",
   "name": "python",
   "nbconvert_exporter": "python",
   "pygments_lexer": "ipython3",
   "version": "3.8.1"
  }
 },
 "nbformat": 4,
 "nbformat_minor": 4
}
