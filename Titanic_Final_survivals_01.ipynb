{
 "cells": [
  {
   "cell_type": "code",
   "execution_count": 1,
   "metadata": {
    "scrolled": true
   },
   "outputs": [],
   "source": [
    "%config IPCompleter.greedy=True\n",
    "from IPython.display import IFrame\n",
    "\n",
    "import pandas as pd\n",
    "import numpy as np\n",
    "import string\n",
    "import math\n",
    "\n",
    "import matplotlib.pyplot as plt\n",
    "import matplotlib.gridspec as gridspec\n",
    "import seaborn as sns\n",
    "\n",
    "import sklearn.metrics as metrics\n",
    "import sklearn.model_selection as model_selection\n",
    "from sklearn import discriminant_analysis as disan\n",
    "from sklearn import calibration as calib\n",
    "from sklearn import linear_model as lm\n",
    "from sklearn import svm\n",
    "from sklearn import gaussian_process as gaup\n",
    "from sklearn import mixture as mix\n",
    "from sklearn import tree\n",
    "from sklearn import ensemble as ens\n",
    "\n",
    "\n",
    "import sklearn.feature_selection as feature_selection\n",
    "\n",
    "import pickle"
   ]
  },
  {
   "cell_type": "code",
   "execution_count": 2,
   "metadata": {},
   "outputs": [],
   "source": [
    "age_clast_model = pickle.load(open('age_clast_model.mdl', 'rb'))"
   ]
  },
  {
   "cell_type": "code",
   "execution_count": 43,
   "metadata": {},
   "outputs": [],
   "source": [
    "age_cls_model = pickle.load(open('age_cls_model.mdl', 'rb'))"
   ]
  },
  {
   "cell_type": "code",
   "execution_count": 46,
   "metadata": {},
   "outputs": [],
   "source": [
    "age_reg_model = pickle.load(open('age_reg_mogel.mdl', 'rb'))"
   ]
  },
  {
   "cell_type": "markdown",
   "metadata": {},
   "source": [
    "#### Plotting Helper functions"
   ]
  },
  {
   "cell_type": "code",
   "execution_count": 3,
   "metadata": {
    "jupyter": {
     "source_hidden": true
    }
   },
   "outputs": [],
   "source": [
    "def plot_bar_diagram(ax, data, nested=False, plots_labels=None, plots_colors=None, bar_labels='', width=0.4, title='', length_label='',\n",
    "                     orient='v', legend_loc=None, spines=None):\n",
    "    \"\"\"\n",
    "    Plots single or multiple bar diagrams with data labels on top(aside) of the bars\n",
    "    :param ax: matplotlib axes\n",
    "    :param data: pandas DataFrame where rows correspond to bar plots and columns correspond to data labels (columns in data)\n",
    "    :param nested: boolean. If True, bar plots are plotted on top of each other. If False bar plots are plotted besides each other\n",
    "    :param bar_labels: pandas DataFrame. labels over the bars. Should be same shape as data\n",
    "    :param width: float. Bar width\n",
    "    :param title: string. Plot title\n",
    "    :param length_label: bar height/width axis label\n",
    "    :param spines: dictionary of booleans. indicates to plot borders or not. Keys=['left', 'right', 'top', 'bottom'], values=True/False\n",
    "    :param orient: string. Bar orientation: 'v'-vertical; 'h'-horisontal\n",
    "    \"\"\"\n",
    "    bars = list(data.index)\n",
    "    cols = list(data.columns)\n",
    "    cells = data.values.tolist()\n",
    "\n",
    "    if bar_labels is not None:\n",
    "        for i, lab in enumerate(bars):\n",
    "            labels = ([f\"{j:.4f}\" for j in cells[i]] if bar_labels=='' else bar_labels[i])\n",
    "\n",
    "    if orient == 'v':\n",
    "        for i, lab in enumerate(bars):\n",
    "            label = (bars[i] if plots_labels is None else plots_labels[i])\n",
    "            color = ('r' if plots_colors is None else plots_colors[i])\n",
    "            x = np.arange(len(cols))\n",
    "            bar = ax.bar(x=x + width * (i - len(bars) / 2), height=cells[i], width=width,\n",
    "                         label=label,\n",
    "                         color=color,\n",
    "                         align=('center' if nested else 'edge'))\n",
    "            if bar_labels is not None:\n",
    "                autolabel(bar, ax, labels, oriented='v')\n",
    "\n",
    "        ax.set_xticks(np.arange(len(cols)))\n",
    "        ax.set_xticklabels(cols)\n",
    "        if not length_label=='':\n",
    "            ax.set_ylabel(length_label)\n",
    "    elif orient == 'h':\n",
    "        for i, lab in enumerate(bars):\n",
    "            label = (bars[i] if plots_labels is None else plots_labels[i])\n",
    "            y = np.arange(len(cols))\n",
    "            height = width\n",
    "            bar = ax.barh(y=y + height * (i - len(bars) / 2), width=cells[i], height=width,\n",
    "                          label=label,\n",
    "                          color=plots_colors[i],\n",
    "                          align=('center' if nested else 'edge'))\n",
    "            if bar_labels is not None:\n",
    "                autolabel(bar, ax, labels, oriented='h')\n",
    "\n",
    "        ax.set_yticks(np.arange(len(cols)))\n",
    "        ax.set_yticklabels(cols)\n",
    "        if not length_label=='':\n",
    "            ax.set_xlabel(length_label)\n",
    "    else:\n",
    "        raise ValueError('orient parameter value error. expected v or h ')\n",
    "\n",
    "    if not title == '':\n",
    "        ttl = ax.title\n",
    "        ttl.set_position([.5, 1.07])\n",
    "        ax.set_title(title)\n",
    "    if legend_loc is not None:\n",
    "        ax.legend(loc=legend_loc)\n",
    "    else:\n",
    "        ax.legend().set_visible(False)\n",
    "\n",
    "    if spines is None:\n",
    "        spines = {'left': True,\n",
    "                  'right': True,\n",
    "                  'top': True,\n",
    "                  'bottom': True}\n",
    "    for i in list(spines.keys()):\n",
    "        ax.spines[i].set_visible(spines[i])\n",
    "\n",
    "def autolabel(bars, ax, labels, oriented='v'):\n",
    "    \"\"\"Attach a text label displaying its height/width (depends of orientation).\"\"\"\n",
    "    for bar, label in zip(bars, labels):\n",
    "        if oriented == 'v':\n",
    "            height = bar.get_height()\n",
    "            ax.annotate(label,\n",
    "                        xy=(bar.get_x() + bar.get_width() / 2, height),\n",
    "                        xytext=(0, 2),\n",
    "                        textcoords=\"offset points\",\n",
    "                        ha='center')\n",
    "        else:\n",
    "            width = bar.get_width()\n",
    "            ax.annotate(label,\n",
    "                        xy=(width, bar.get_y() + bar.get_height() / 2),\n",
    "                        xytext=(1, 0),\n",
    "                        textcoords=\"offset points\",\n",
    "                        ha='left',\n",
    "                        va='center')\n",
    "\n",
    "def plot_correlation_matrix(ax, data, cmap='hot', diagonal=False, square=True):\n",
    "    mask = None\n",
    "    if diagonal:\n",
    "        mask = np.zeros_like(data, dtype=np.bool)\n",
    "        mask[np.triu_indices_from(mask)] = True\n",
    "    sns.heatmap(data, ax=ax,\n",
    "                mask=mask,\n",
    "                square=square,\n",
    "                linewidths=1.5,\n",
    "                cmap=cmap,\n",
    "                cbar_kws={'shrink': 1, 'ticks': [-1, -.5, 0, 0.5, 1]},\n",
    "                vmin=-1,\n",
    "                vmax=1,\n",
    "                annot=True,\n",
    "                annot_kws={'size': 8})\n",
    "    ax.set_xticklabels(ax.get_xticklabels(), rotation=45, horizontalalignment='right')\n",
    "    \n",
    "def plot_confusion_matrix(model, X, y, ax, normalize=True, title=None):\n",
    "    \"\"\"Plots confusion matrix\n",
    "    Parameters:\n",
    "    ax =  matplotlib axes\n",
    "    normalyze = normalization over truth (number_predicted / total_count_of_this_class)\n",
    "    \"\"\"\n",
    "    model.fit(X,y)\n",
    "    conf_matrix = metrics.confusion_matrix(y_true=y, y_pred=model.predict(X),\n",
    "                              labels=None)  # returns matrix for sorted classes (i.e 0, 1, 2,..., n)\n",
    "    classes = y.unique()\n",
    "    classes.sort()\n",
    "    n_classes = [len(y[y == c]) for c in classes]\n",
    "    if normalize == True:\n",
    "        n_matrix = [[i for j in range(len(n_classes))] for i in n_classes]\n",
    "        norm_matrix = conf_matrix / np.array(n_classes)\n",
    "        ns_matrix = np.array([[i for j in enumerate(n_classes)] for i in n_classes])\n",
    "        labels = np.array([[\"{0:.2%} \\n {1:d} of {2:d}\".format(norm_matrix[i, j], conf_matrix[i, j],\n",
    "                                                               ns_matrix[i, j]) for j, v in\n",
    "                            enumerate(norm_matrix[i])]\n",
    "                           for i, v in enumerate(norm_matrix)])\n",
    "\n",
    "        sns.heatmap(norm_matrix, annot=labels, fmt='', cmap='Blues')\n",
    "    else:\n",
    "        sns.heatmap(conf_matrix, annot=True, fmt='d', cmap='Blues')\n",
    "\n",
    "    ax.set_ylabel('True Labels')\n",
    "    ax.set_xlabel('Predicted Labels')\n",
    "    if title is None:\n",
    "        title = model.__class__.__name__\n",
    "    ax.set_title(title)\n",
    "    ttl = ax.title\n",
    "    ttl.set_position([.5, 1.07])\n",
    "\n",
    "    # fix for mpl bug that cuts off top/bottom of seaborn viz\n",
    "    b, t = ax.get_ylim()  # discover the values for bottom and top\n",
    "    b += 0.5  # Add 0.5 to the bottom\n",
    "    t -= 0.5  # Subtract 0.5 from the top\n",
    "    ax.set_ylim(b, t)  # update the ylim(bottom, top) values"
   ]
  },
  {
   "cell_type": "markdown",
   "metadata": {},
   "source": [
    "#### Helper functions for model training"
   ]
  },
  {
   "cell_type": "code",
   "execution_count": 4,
   "metadata": {
    "jupyter": {
     "source_hidden": true
    }
   },
   "outputs": [],
   "source": [
    "# Tune parameters\n",
    "def param_tune(model, X_train, y_train, param_ranges, scoring, cv, refit=''):\n",
    "    if refit == '': refit = list(scoring.keys())[0]\n",
    "    gsearch = model_selection.GridSearchCV(estimator=model, param_grid=param_ranges, scoring=scoring, cv=cv, refit=refit, return_train_score=True,\n",
    "                           n_jobs=-1)\n",
    "    gsearch.fit(X_train, y_train)\n",
    "    cv_res = pd.DataFrame(gsearch.cv_results_)\n",
    "    cv_res_sel = []\n",
    "    for i in list(scoring.keys()):\n",
    "        df = cv_res.loc[cv_res['rank_test_%s' % i] == 1].head(1)\n",
    "        cv_res_sel.append(df[['mean_train_%s' % i, 'std_train_%s' % i, 'mean_test_%s' % i, 'std_test_%s' % i]].values[0])\n",
    "\n",
    "    cv_res_sel = pd.DataFrame(cv_res_sel, index=list(scoring.keys()), columns=['mean_train', 'std_train', 'mean_test', 'std_test'])\n",
    "    cv_results = cv_res_sel.T\n",
    "    cv_results = cv_results.apply(lambda i: np.absolute(i))\n",
    "    return gsearch.best_estimator_, gsearch.best_params_, gsearch.best_score_, cv_results\n",
    "\n",
    "# Cross-validation report\n",
    "def cv_rep(model, X, y, cv, scoring):\n",
    "    cv_res = model_selection.cross_validate(model, X, y, scoring=scoring, cv=cv, return_train_score=True, n_jobs=-1)\n",
    "    cv_res = [[np.mean(cv_res['train_%s' % i]), np.std(cv_res['train_%s' % i]), np.mean(cv_res['test_%s' % i]), np.std(cv_res['test_%s' % i])] for i in list(scoring.keys())]\n",
    "    cv_results = pd.DataFrame(cv_res, index=list(scoring.keys()), columns=['mean_train', 'std_train', 'mean_test', 'std_test'])\n",
    "    cv_results = cv_results.T\n",
    "    cv_results = cv_results.apply(lambda i: np.absolute(i))\n",
    "    return cv_results\n",
    "\n",
    "# Tune model parameters and print CV report\n",
    "def train_best_model(model, param_ranges, X_train, y_train, scoring, cv, refit):\n",
    "    model, best_params, best_score, cv_res = param_tune(model, X_train, y_train, param_ranges, scoring, cv, refit=refit)\n",
    "    print(cv_res)\n",
    "    print(best_params)\n",
    "    return model, cv_res\n",
    "\n",
    "# Tune model parameters and print CV report for calibrated classifier model\n",
    "def train_best_model_cal(model, param_ranges, X_train, y_train, scoring, cv, refit):\n",
    "    if model.__class__.__name__=='CalibratedClassifierCV':\n",
    "         model_cal= model \n",
    "    else:\n",
    "        model_cal = calib.CalibratedClassifierCV(base_estimator=model, method='sigmoid', cv=cv)\n",
    "    model_cal, best_params, best_score, cv_res = param_tune(model_cal, X_train, y_train, param_ranges, scoring, cv, refit=refit)\n",
    "    print(cv_res)\n",
    "    print(best_params)\n",
    "    return model, cv_res"
   ]
  },
  {
   "cell_type": "markdown",
   "metadata": {},
   "source": [
    "### Import data"
   ]
  },
  {
   "cell_type": "code",
   "execution_count": 5,
   "metadata": {},
   "outputs": [],
   "source": [
    "#import train dataset\n",
    "filename_tr = 'train.csv'\n",
    "data_train = pd.read_csv(filename_tr)\n",
    "\n",
    "#import test dataset\n",
    "filename_tes = 'test.csv'\n",
    "data_test = pd.read_csv(filename_tes)"
   ]
  },
  {
   "cell_type": "code",
   "execution_count": 6,
   "metadata": {},
   "outputs": [],
   "source": [
    "data_test = data_test.fillna(value={'Fare':0})"
   ]
  },
  {
   "cell_type": "code",
   "execution_count": 7,
   "metadata": {},
   "outputs": [],
   "source": [
    "#Concatinate train & test data (to make sure that all unique titles are captured)\n",
    "data_tot = pd.concat([data_train, data_test], ignore_index=True)"
   ]
  },
  {
   "cell_type": "code",
   "execution_count": 8,
   "metadata": {},
   "outputs": [],
   "source": [
    "#Encode 'Name'\n",
    "def name_encoder(data):\n",
    "    data_encoded = []\n",
    "    for i in data['Name']:\n",
    "        lname0 = i.split(',')[0].strip() #last name\n",
    "        ttl = i.split(',')[1].split('.')[0].strip() #title\n",
    "        lname1 = (i.split('(')[-1].split(')')[0].split()[-1].strip() if '(' in i else '').replace('\\\"','') #second last name\n",
    "        data_encoded.append([lname0, lname1, ttl])\n",
    "    data_encoded = pd.DataFrame(data_encoded, columns=['lname0', 'lname1', 'ttl'], index=data.index)\n",
    "    return pd.concat([data.reset_index(drop=True), data_encoded], axis=1)"
   ]
  },
  {
   "cell_type": "code",
   "execution_count": 9,
   "metadata": {},
   "outputs": [],
   "source": [
    "def title_encoder(data):\n",
    "    mask = {'Don':'Mr',\n",
    "            'Sir':'Mr',\n",
    "            'Jonkheer':'Mr',\n",
    "            'Mme':'Mrs',\n",
    "            'Lady':'Mrs',\n",
    "            'the Countess':'Mrs',\n",
    "            'Dona':'Mrs',\n",
    "            'Mlle':'Miss',\n",
    "            'Ms':'Miss',\n",
    "            'Major':'Mr',\n",
    "            'Col':'Mr',\n",
    "            'Capt':'Mr',\n",
    "            'Rev':'Mr',\n",
    "            'Dr':'Mr'}\n",
    "    \n",
    "    data = name_encoder(data)\n",
    "    data['ttl'] = data['ttl'].apply(lambda i: mask[i] if i in mask else i)\n",
    "    if 797 in data['PassengerId'].values:\n",
    "        data.loc[data_tot['PassengerId']==797, 'ttl'] = 'Mrs'\n",
    "    mask = {'Mr':1, 'Mrs':2, 'Miss':3, 'Master':4}\n",
    "    data['ttl'] = data['ttl'].apply(lambda i: mask[i])\n",
    "    return data"
   ]
  },
  {
   "cell_type": "code",
   "execution_count": 10,
   "metadata": {},
   "outputs": [],
   "source": [
    "#Encoding 'Embarked'\n",
    "def embarked_encoder(data):\n",
    "    if len(data.loc[data['Embarked'].isnull()].index)>0:\n",
    "        data = data.fillna(value={'Embarked':'C'})\n",
    "    mask = {'C':0, 'S':1, 'Q':2}\n",
    "    data['Embarked'] = data['Embarked'].apply(lambda i: mask[i])\n",
    "    return data"
   ]
  },
  {
   "cell_type": "code",
   "execution_count": 11,
   "metadata": {},
   "outputs": [],
   "source": [
    "# Clean text function\n",
    "def clean_text(text):\n",
    "    text = ''.join([c for c in text if c not in string.punctuation]).strip()\n",
    "    text = ''.join(text.split())\n",
    "    return text"
   ]
  },
  {
   "cell_type": "code",
   "execution_count": 12,
   "metadata": {},
   "outputs": [],
   "source": [
    "# Clean ticket ID from all punctuation and spaces\n",
    "df_fam = data_tot.copy()\n",
    "df_fam['Ticket'] = df_fam['Ticket'].apply(lambda i: clean_text(i))"
   ]
  },
  {
   "cell_type": "code",
   "execution_count": 13,
   "metadata": {},
   "outputs": [],
   "source": [
    "families0 = df_fam.loc[(df_fam['SibSp']>0) & (df_fam['Parch']==0)]\n",
    "families1 = df_fam.loc[df_fam['Parch']>0]\n",
    "singles = df_fam.loc[(df_fam['SibSp']==0) & (df_fam['Parch']==0)]"
   ]
  },
  {
   "cell_type": "code",
   "execution_count": 14,
   "metadata": {},
   "outputs": [],
   "source": [
    "# This function is used to return sub-groups by unique and non-unique tickets from a group by SibSP and Parch\n",
    "def grps_by_size(grp):\n",
    "    #group size > 1\n",
    "    grp1 = None\n",
    "    #group size == 1\n",
    "    grp0 = None\n",
    "    for g in grp.groups:\n",
    "        grp_ = grp.get_group(g)\n",
    "        if len(grp.get_group(g).index)>1:\n",
    "            if grp1 is None:\n",
    "                grp1 = grp_\n",
    "            else:\n",
    "                grp1 = pd.concat([grp1, grp_])\n",
    "        else:\n",
    "            if grp0 is None:\n",
    "                grp0 = grp_\n",
    "            else:\n",
    "                grp0 = pd.concat([grp0, grp_])\n",
    "    return (grp0, grp1)"
   ]
  },
  {
   "cell_type": "code",
   "execution_count": 15,
   "metadata": {},
   "outputs": [],
   "source": [
    "#singles\n",
    "sig_grp = singles.groupby('Ticket')\n",
    "#families NO children\n",
    "fam0_grp = families0.groupby('Ticket')\n",
    "#families w/children\n",
    "fam1_grp = families1.groupby('Ticket')\n",
    "\n",
    "#no family, unique ticket\n",
    "sig0 = grps_by_size(sig_grp)[0]\n",
    "#no family, matching tickets\n",
    "sig1 = grps_by_size(sig_grp)[1]\n",
    "#has family, no children, unique ticket\n",
    "fam0 = grps_by_size(fam0_grp)[0]\n",
    "#has family, no children, matching ticket\n",
    "fam1 = grps_by_size(fam0_grp)[1]\n",
    "#has family, has children, unique ticket\n",
    "famch0 = grps_by_size(fam1_grp)[0]\n",
    "#has family, has children, matching ticket\n",
    "famch1 = grps_by_size(fam1_grp)[1]"
   ]
  },
  {
   "cell_type": "code",
   "execution_count": 16,
   "metadata": {},
   "outputs": [],
   "source": [
    "# Family groups\n",
    "fam_grps = [sig0, sig1, fam0, fam1, famch0, famch1]"
   ]
  },
  {
   "cell_type": "code",
   "execution_count": 17,
   "metadata": {},
   "outputs": [],
   "source": [
    "# Make a mask of family groups labels\n",
    "fgrp_mask = {}\n",
    "for idx, grp in enumerate(fam_grps):\n",
    "    for pid in grp['PassengerId']:\n",
    "        fgrp_mask[pid] = idx"
   ]
  },
  {
   "cell_type": "code",
   "execution_count": 18,
   "metadata": {},
   "outputs": [],
   "source": [
    "# Make a mask of ticket fare\n",
    "fare_mask = {}\n",
    "for tic in df_fam['Ticket'].unique():\n",
    "    # subgroup with matching tickets\n",
    "    tic_grp = df_fam.loc[df_fam['Ticket']==tic]\n",
    "    \n",
    "    # passenger class that the subgroup belongs to\n",
    "    c = tic_grp['Pclass'].values[0]\n",
    "    \n",
    "    # ticket fare of the subgroup\n",
    "    # all subgroup members have the same ticket fare initially\n",
    "    fare_grp = tic_grp['Fare'].values[0]\n",
    "    \n",
    "    # if a subgroup fare is 0 then assign a mean of the fare of the Pclass that the subgroup belongs to\n",
    "    if (fare_grp == 0) or (fare_grp is None):\n",
    "        fare_i = np.mean(df_fam.loc[df_fam['Pclass']==c, 'Fare'])\n",
    "        for pid in tic_grp['PassengerId']:\n",
    "            fare_mask[pid] = fare_i\n",
    "\n",
    "    # recalculate fare for subrgoup members: fare_i = group_fare / n_members\n",
    "    if len(tic_grp.index) > 1:\n",
    "        if fare_grp > 0:\n",
    "            \n",
    "            if np.mean(tic_grp['Fare'])==fare_grp: #check if all group members have same fare\n",
    "                fare_i = fare_grp / len(tic_grp.index)\n",
    "                for pid in tic_grp['PassengerId']:\n",
    "                    fare_mask[pid] = fare_i\n",
    "            else:\n",
    "                for pid in tic_grp['PassengerId']:\n",
    "                    fare_mask[pid] = tic_grp.loc[tic_grp['PassengerId']==pid, 'Fare'].values[0]\n",
    "    # keep fare value for passengers with unuque tickets\n",
    "    else:\n",
    "        if fare_grp > 0:\n",
    "            fare_i = fare_grp\n",
    "            for pid in tic_grp['PassengerId']:\n",
    "                fare_mask[pid] = fare_i"
   ]
  },
  {
   "cell_type": "code",
   "execution_count": 19,
   "metadata": {},
   "outputs": [],
   "source": [
    "# Make a mask of ticket codes\n",
    "m_tickets = []\n",
    "for tic in df_fam['Ticket'].unique():\n",
    "    if len(df_fam.loc[df_fam['Ticket']==tic].index) > 1:\n",
    "        m_tickets.append(tic)\n",
    "\n",
    "ticket_mask = {}        \n",
    "for pid in df_fam['PassengerId']:\n",
    "    tic = df_fam.loc[df_fam['PassengerId']==pid, 'Ticket'].values[0]\n",
    "    if tic in m_tickets:\n",
    "        ticket_mask[pid] = m_tickets.index(tic) + 1\n",
    "    else:\n",
    "        ticket_mask[pid] = 0"
   ]
  },
  {
   "cell_type": "code",
   "execution_count": 20,
   "metadata": {},
   "outputs": [],
   "source": [
    "# Encode family groups\n",
    "# This function adds new class variable 'fgrp' that indicates a group that a passenger belongs to.\n",
    "def family_groups_encoder(data, fgrp_mask):\n",
    "    data['fgrp'] = data['PassengerId'].apply(lambda i: fgrp_mask[i])\n",
    "    return data\n",
    "\n",
    "# Recalculate ticket fare in the family groups and fill missing values with a mean for corresponding passenger class.\n",
    "def fare_encoder(data, fare_mask):\n",
    "    data['Fare'] = data['PassengerId'].apply(lambda i: fare_mask[i])\n",
    "    return data\n",
    "\n",
    "# Encode tickets\n",
    "def ticket_encoder(data, ticket_mask):\n",
    "    data['Ticket'] = data['PassengerId'].apply(lambda i: ticket_mask[i])\n",
    "    return data"
   ]
  },
  {
   "cell_type": "code",
   "execution_count": 21,
   "metadata": {},
   "outputs": [],
   "source": [
    "# Log-transform 'Fare'\n",
    "def fare_transformer(data):\n",
    "    data['Fare'] = data['Fare'].apply(np.log)\n",
    "    return data"
   ]
  },
  {
   "cell_type": "code",
   "execution_count": 34,
   "metadata": {},
   "outputs": [],
   "source": [
    "# Encode 'Sex'\n",
    "def sex_encoder(data):\n",
    "    mask = {'male':0, 'female':1}\n",
    "    df = data['Sex'].apply(lambda i: mask[i])\n",
    "    return pd.concat([data.drop(columns=['Sex']), df], axis=1)\n",
    "\n",
    "# Add 'Family size'\n",
    "def fam_size(data):\n",
    "    data['famsize'] = data['SibSp'] + data['Parch']\n",
    "    data['famsize'] = data['famsize'].apply(lambda i: i if i<8 else 8)\n",
    "    return data\n",
    "\n",
    "#Encoding 'Pclass' (to labels 0,1,2)\n",
    "def pclass_encoder(data):\n",
    "    data['Pclass'] = data['Pclass'].apply(lambda i: i-1)\n",
    "    return data\n",
    "\n",
    "def cabin_encoder(data):\n",
    "    data = data.fillna(value={'Cabin': 0})\n",
    "    data['Cabin'] = data['Cabin'].apply(lambda i: 1 if i!=0 else 0)\n",
    "    return data"
   ]
  },
  {
   "cell_type": "code",
   "execution_count": 23,
   "metadata": {},
   "outputs": [],
   "source": [
    "def age_transformer(data, model):\n",
    "    data['Age_trans'] = data['Age'].apply(np.log)\n",
    "    X = data['Age_trans'].to_frame()\n",
    "    data['Age_cls'] = model.predict(X)\n",
    "    data['Age_cls'] = data['Age_cls'].astype(int)\n",
    "    return data"
   ]
  },
  {
   "cell_type": "markdown",
   "metadata": {},
   "source": [
    "### Predict missing missing values for age"
   ]
  },
  {
   "cell_type": "code",
   "execution_count": 37,
   "metadata": {},
   "outputs": [],
   "source": [
    "data = family_groups_encoder(data_tot.copy(), fgrp_mask)\n",
    "data = fare_encoder(data, fare_mask)\n",
    "data = fare_transformer(data)\n",
    "\n",
    "data = ticket_encoder(data, ticket_mask)\n",
    "\n",
    "data = title_encoder(data)\n",
    "data = sex_encoder(data)\n",
    "data = fam_size(data)\n",
    "data = embarked_encoder(data)\n",
    "data = pclass_encoder(data)\n",
    "\n",
    "data = data[data['Age'].notna()].copy()\n",
    "data = age_transformer(data, age_clast_model)\n",
    "data = cabin_encoder(data)\n",
    "\n",
    "data = data[['Age', 'Age_cls', 'Fare', 'Sex', 'ttl', 'fgrp', 'famsize', 'Ticket', 'Pclass', 'Embarked', 'Cabin']]"
   ]
  },
  {
   "cell_type": "code",
   "execution_count": 39,
   "metadata": {},
   "outputs": [
    {
     "data": {
      "text/html": [
       "<div>\n",
       "<style scoped>\n",
       "    .dataframe tbody tr th:only-of-type {\n",
       "        vertical-align: middle;\n",
       "    }\n",
       "\n",
       "    .dataframe tbody tr th {\n",
       "        vertical-align: top;\n",
       "    }\n",
       "\n",
       "    .dataframe thead th {\n",
       "        text-align: right;\n",
       "    }\n",
       "</style>\n",
       "<table border=\"1\" class=\"dataframe\">\n",
       "  <thead>\n",
       "    <tr style=\"text-align: right;\">\n",
       "      <th></th>\n",
       "      <th>Age</th>\n",
       "      <th>Age_cls</th>\n",
       "      <th>Fare</th>\n",
       "      <th>Sex</th>\n",
       "      <th>ttl</th>\n",
       "      <th>fgrp</th>\n",
       "      <th>famsize</th>\n",
       "      <th>Ticket</th>\n",
       "      <th>Pclass</th>\n",
       "      <th>Embarked</th>\n",
       "      <th>Cabin</th>\n",
       "    </tr>\n",
       "  </thead>\n",
       "  <tbody>\n",
       "    <tr>\n",
       "      <th>0</th>\n",
       "      <td>22.0</td>\n",
       "      <td>2</td>\n",
       "      <td>1.981001</td>\n",
       "      <td>0</td>\n",
       "      <td>1</td>\n",
       "      <td>2</td>\n",
       "      <td>1</td>\n",
       "      <td>0</td>\n",
       "      <td>2</td>\n",
       "      <td>1</td>\n",
       "      <td>0</td>\n",
       "    </tr>\n",
       "    <tr>\n",
       "      <th>1</th>\n",
       "      <td>38.0</td>\n",
       "      <td>0</td>\n",
       "      <td>3.573515</td>\n",
       "      <td>1</td>\n",
       "      <td>2</td>\n",
       "      <td>3</td>\n",
       "      <td>1</td>\n",
       "      <td>1</td>\n",
       "      <td>0</td>\n",
       "      <td>0</td>\n",
       "      <td>1</td>\n",
       "    </tr>\n",
       "    <tr>\n",
       "      <th>2</th>\n",
       "      <td>26.0</td>\n",
       "      <td>2</td>\n",
       "      <td>2.070022</td>\n",
       "      <td>1</td>\n",
       "      <td>3</td>\n",
       "      <td>0</td>\n",
       "      <td>0</td>\n",
       "      <td>0</td>\n",
       "      <td>2</td>\n",
       "      <td>1</td>\n",
       "      <td>0</td>\n",
       "    </tr>\n",
       "    <tr>\n",
       "      <th>3</th>\n",
       "      <td>35.0</td>\n",
       "      <td>0</td>\n",
       "      <td>3.279030</td>\n",
       "      <td>1</td>\n",
       "      <td>2</td>\n",
       "      <td>3</td>\n",
       "      <td>1</td>\n",
       "      <td>2</td>\n",
       "      <td>0</td>\n",
       "      <td>1</td>\n",
       "      <td>1</td>\n",
       "    </tr>\n",
       "    <tr>\n",
       "      <th>4</th>\n",
       "      <td>35.0</td>\n",
       "      <td>0</td>\n",
       "      <td>2.085672</td>\n",
       "      <td>0</td>\n",
       "      <td>1</td>\n",
       "      <td>0</td>\n",
       "      <td>0</td>\n",
       "      <td>0</td>\n",
       "      <td>2</td>\n",
       "      <td>1</td>\n",
       "      <td>0</td>\n",
       "    </tr>\n",
       "  </tbody>\n",
       "</table>\n",
       "</div>"
      ],
      "text/plain": [
       "    Age  Age_cls      Fare  Sex  ttl  fgrp  famsize  Ticket  Pclass  Embarked  \\\n",
       "0  22.0        2  1.981001    0    1     2        1       0       2         1   \n",
       "1  38.0        0  3.573515    1    2     3        1       1       0         0   \n",
       "2  26.0        2  2.070022    1    3     0        0       0       2         1   \n",
       "3  35.0        0  3.279030    1    2     3        1       2       0         1   \n",
       "4  35.0        0  2.085672    0    1     0        0       0       2         1   \n",
       "\n",
       "   Cabin  \n",
       "0      0  \n",
       "1      1  \n",
       "2      0  \n",
       "3      1  \n",
       "4      0  "
      ]
     },
     "execution_count": 39,
     "metadata": {},
     "output_type": "execute_result"
    }
   ],
   "source": [
    "data.head()"
   ]
  },
  {
   "cell_type": "code",
   "execution_count": 40,
   "metadata": {},
   "outputs": [
    {
     "data": {
      "image/png": "[encoded data removed]",
      "text/plain": [
       "<Figure size 576x576 with 2 Axes>"
      ]
     },
     "metadata": {
      "needs_background": "light"
     },
     "output_type": "display_data"
    }
   ],
   "source": [
    "fig = plt.figure()\n",
    "fig.set_size_inches(8, 8)\n",
    "corr_matrix = data.corr()\n",
    "plot_correlation_matrix(ax=fig.add_subplot(1,1,1), data=corr_matrix, cmap='coolwarm')"
   ]
  },
  {
   "cell_type": "code",
   "execution_count": 41,
   "metadata": {},
   "outputs": [],
   "source": [
    "#Age encoder (predict missing vakues and log-transform)\n",
    "def age_predictor(data, age_cls_model, age_reg_model):\n",
    "    cols = ['Fare', 'Sex', 'ttl', 'fgrp', 'famsize', 'Ticket', 'Pclass', 'Embarked']\n",
    "\n",
    "    data_na = data[data['Age'].isnull()].copy()\n",
    "    data_notna = data[data['Age'].notna()].copy()\n",
    "\n",
    "    # transform non-null age values\n",
    "    data_notna['Age'] = data_notna['Age'].apply(np.log)\n",
    "\n",
    "    # predict class labels\n",
    "    X = data_na[cols].copy()\n",
    "    X['Age_cls'] = age_cls_model.predict(X)\n",
    "\n",
    "    # predict age\n",
    "    data_na['Age'] = age_reg_model.predict(X)\n",
    "    return pd.concat([data_na, data_notna])"
   ]
  },
  {
   "cell_type": "markdown",
   "metadata": {},
   "source": [
    "## Predict survivals"
   ]
  },
  {
   "cell_type": "markdown",
   "metadata": {},
   "source": [
    "#### Preprocessind data"
   ]
  },
  {
   "cell_type": "code",
   "execution_count": 107,
   "metadata": {},
   "outputs": [],
   "source": [
    "data = family_groups_encoder(data_train.copy(), fgrp_mask)\n",
    "data = fare_encoder(data, fare_mask)\n",
    "data = fare_transformer(data)\n",
    "\n",
    "data = ticket_encoder(data, ticket_mask)\n",
    "data = title_encoder(data)\n",
    "data = sex_encoder(data)\n",
    "data = fam_size(data)\n",
    "data = embarked_encoder(data)\n",
    "data = pclass_encoder(data)\n",
    "\n",
    "data = age_predictor(data, age_cls_model, age_reg_model)\n",
    "data = cabin_encoder(data)\n",
    "\n",
    "data = data[['PassengerId', 'Survived', 'Age', 'Fare', 'Sex', 'ttl', 'fgrp', 'famsize', 'Ticket', 'Pclass', 'Embarked', 'Cabin']]"
   ]
  },
  {
   "cell_type": "code",
   "execution_count": 49,
   "metadata": {},
   "outputs": [
    {
     "data": {
      "image/png": "[encoded data removed]",
      "text/plain": [
       "<Figure size 576x576 with 2 Axes>"
      ]
     },
     "metadata": {
      "needs_background": "light"
     },
     "output_type": "display_data"
    }
   ],
   "source": [
    "fig = plt.figure()\n",
    "fig.set_size_inches(8, 8)\n",
    "corr_matrix = data.drop(columns='PassengerId').corr()\n",
    "plot_correlation_matrix(ax=fig.add_subplot(1,1,1), data=corr_matrix, cmap='coolwarm')"
   ]
  },
  {
   "cell_type": "markdown",
   "metadata": {},
   "source": [
    "#### Train base estimators for stacking model"
   ]
  },
  {
   "cell_type": "code",
   "execution_count": 108,
   "metadata": {
    "scrolled": true
   },
   "outputs": [],
   "source": [
    "X = data.drop(columns=['Survived', 'PassengerId'])\n",
    "y = data['Survived']"
   ]
  },
  {
   "cell_type": "code",
   "execution_count": 51,
   "metadata": {},
   "outputs": [],
   "source": [
    "#common random_state\n",
    "random_state=30\n",
    "#cross validation strategy\n",
    "cv = model_selection.StratifiedShuffleSplit(n_splits=10, test_size=0.3, train_size=0.6, random_state=random_state)\n",
    "#cross validation metrics\n",
    "scoring = {'balanced_accuracy': 'balanced_accuracy', \n",
    "           'roc_auc':  'roc_auc',\n",
    "           'precision_macro': 'precision_macro'}\n",
    "refit = 'roc_auc'"
   ]
  },
  {
   "cell_type": "code",
   "execution_count": 52,
   "metadata": {},
   "outputs": [],
   "source": [
    "n = len(y)\n",
    "class_priors = {}\n",
    "class_weights = {}\n",
    "for i in y.unique():\n",
    "    class_priors[i] = len(y.loc[y==i]) / n\n",
    "    class_weights[i] = 1- class_priors[i]"
   ]
  },
  {
   "cell_type": "code",
   "execution_count": 53,
   "metadata": {},
   "outputs": [],
   "source": [
    "base_scores = {}"
   ]
  },
  {
   "cell_type": "markdown",
   "metadata": {},
   "source": [
    "#### LinearDiscriminantAnalysis"
   ]
  },
  {
   "cell_type": "code",
   "execution_count": 54,
   "metadata": {},
   "outputs": [
    {
     "name": "stdout",
     "output_type": "stream",
     "text": [
      "            balanced_accuracy   roc_auc  precision_macro\n",
      "mean_train           0.807615  0.872040         0.819255\n",
      "std_train            0.012528  0.013794         0.012715\n",
      "mean_test            0.788788  0.866826         0.803578\n",
      "std_test             0.023967  0.024306         0.022079\n"
     ]
    }
   ],
   "source": [
    "lda = disan.LinearDiscriminantAnalysis(solver='lsqr', shrinkage='auto')\n",
    "scores = cv_rep(lda, X, y, cv, scoring)\n",
    "base_scores['lda'] = [scores.loc['mean_test', refit], scores.loc['mean_train', refit]]\n",
    "print(scores)"
   ]
  },
  {
   "cell_type": "code",
   "execution_count": 55,
   "metadata": {},
   "outputs": [],
   "source": [
    "base_scores['lda'] = [scores.loc['mean_test', refit], scores.loc['mean_train', refit]]"
   ]
  },
  {
   "cell_type": "markdown",
   "metadata": {},
   "source": [
    "#### QuadraticDiscriminantAnalysis"
   ]
  },
  {
   "cell_type": "code",
   "execution_count": 56,
   "metadata": {},
   "outputs": [
    {
     "name": "stdout",
     "output_type": "stream",
     "text": [
      "            balanced_accuracy   roc_auc  precision_macro\n",
      "mean_train           0.814311  0.865152         0.819687\n",
      "std_train            0.011014  0.012696         0.012076\n",
      "mean_test            0.794928  0.854039         0.802072\n",
      "std_test             0.025749  0.024278         0.025424\n"
     ]
    }
   ],
   "source": [
    "qda = disan.QuadraticDiscriminantAnalysis(priors=[class_priors[0], class_priors[1]], reg_param=0.08989795918367348)\n",
    "scores = cv_rep(qda, X, y, cv, scoring)\n",
    "base_scores['qda'] = [scores.loc['mean_test', refit], scores.loc['mean_train', refit]]\n",
    "print(scores)"
   ]
  },
  {
   "cell_type": "code",
   "execution_count": 57,
   "metadata": {},
   "outputs": [
    {
     "name": "stdout",
     "output_type": "stream",
     "text": [
      "            balanced_accuracy   roc_auc  precision_macro\n",
      "mean_train           0.817324  0.868199         0.820467\n",
      "std_train            0.017136  0.012280         0.012651\n",
      "mean_test            0.799553  0.854416         0.803706\n",
      "std_test             0.025079  0.024291         0.025017\n",
      "{'reg_param': 0.043428571428571434}\n"
     ]
    }
   ],
   "source": [
    "param_ranges = {'reg_param': np.linspace(0.001,0.1,99)}\n",
    "qda, scores = train_best_model(qda, param_ranges, X, y, scoring, cv, refit=refit)"
   ]
  },
  {
   "cell_type": "code",
   "execution_count": 58,
   "metadata": {},
   "outputs": [],
   "source": [
    "base_scores['qda'] = [scores.loc['mean_test', refit], scores.loc['mean_train', refit]]"
   ]
  },
  {
   "cell_type": "markdown",
   "metadata": {},
   "source": [
    "#### AdaBoostClassifier"
   ]
  },
  {
   "cell_type": "code",
   "execution_count": 59,
   "metadata": {},
   "outputs": [
    {
     "name": "stdout",
     "output_type": "stream",
     "text": [
      "            balanced_accuracy   roc_auc  precision_macro\n",
      "mean_train           0.818144  0.877052         0.832249\n",
      "std_train            0.011406  0.011843         0.010686\n",
      "mean_test            0.802977  0.865281         0.820289\n",
      "std_test             0.022017  0.023923         0.021755\n"
     ]
    }
   ],
   "source": [
    "abc = ens.AdaBoostClassifier(algorithm='SAMME.R', \n",
    "                             learning_rate=0.07776923076923077,\n",
    "                             n_estimators=65,\n",
    "                             random_state=random_state)\n",
    "scores = cv_rep(abc, X, y, cv, scoring)\n",
    "base_scores['abc'] = [scores.loc['mean_test', refit], scores.loc['mean_train', refit]]\n",
    "print(scores)"
   ]
  },
  {
   "cell_type": "code",
   "execution_count": 60,
   "metadata": {},
   "outputs": [
    {
     "name": "stdout",
     "output_type": "stream",
     "text": [
      "            balanced_accuracy   roc_auc  precision_macro\n",
      "mean_train           0.818144  0.877754         0.832249\n",
      "std_train            0.011406  0.011882         0.010686\n",
      "mean_test            0.802977  0.866040         0.820289\n",
      "std_test             0.022017  0.022915         0.021755\n",
      "{'learning_rate': 0.11615384615384615, 'n_estimators': 45}\n"
     ]
    }
   ],
   "source": [
    "param_ranges = {'n_estimators': np.arange(5, 100, 20), 'learning_rate': np.linspace(0.001, 0.5, 40)}\n",
    "abc, scores = train_best_model(abc, param_ranges, X, y, scoring, cv, refit=refit)"
   ]
  },
  {
   "cell_type": "code",
   "execution_count": 61,
   "metadata": {},
   "outputs": [],
   "source": [
    "base_scores['abc'] = [scores.loc['mean_test', refit], scores.loc['mean_train', refit]]"
   ]
  },
  {
   "cell_type": "code",
   "execution_count": 110,
   "metadata": {},
   "outputs": [
    {
     "name": "stdout",
     "output_type": "stream",
     "text": [
      "Optimal number of features : 4\n",
      "Features to drop: \n",
      "\n",
      "['Age', 'Fare', 'Sex', 'fgrp', 'Ticket', 'Embarked']\n"
     ]
    },
    {
     "data": {
      "image/png": "[encoded data removed]",
      "text/plain": [
       "<Figure size 1152x288 with 3 Axes>"
      ]
     },
     "metadata": {
      "needs_background": "light"
     },
     "output_type": "display_data"
    }
   ],
   "source": [
    "rfecv = feature_selection.RFECV(estimator=abc, step=1, min_features_to_select=1, cv=cv, scoring=refit, n_jobs=-1)\n",
    "rfecv.fit(X, y)\n",
    "print(\"Optimal number of features : %d\" % rfecv.n_features_)\n",
    "\n",
    "# Plot number of features VS. cross-validation scores\n",
    "fig = plt.figure()\n",
    "fig.set_size_inches(16,4)\n",
    "ax = fig.add_subplot(1,2,1)\n",
    "ax.set_xlabel(\"Number of features selected\")\n",
    "ax.set_ylabel(\"Cross validation score (nb of correct classifications)\")\n",
    "ax.plot(range(1, len(rfecv.grid_scores_) + 1), rfecv.grid_scores_)\n",
    "\n",
    "plot_confusion_matrix(abc, X, y, ax=fig.add_subplot(1,2,2), normalize=True, title='rfc')\n",
    "\n",
    "print('Features to drop: \\n')\n",
    "feats = []\n",
    "for i, m in zip(X.columns, rfecv.get_support()):\n",
    "    if not m:\n",
    "        feats.append(i)\n",
    "print(feats)"
   ]
  },
  {
   "cell_type": "markdown",
   "metadata": {},
   "source": [
    "#### ExtraTreesClassifier"
   ]
  },
  {
   "cell_type": "code",
   "execution_count": 62,
   "metadata": {},
   "outputs": [
    {
     "name": "stdout",
     "output_type": "stream",
     "text": [
      "            balanced_accuracy   roc_auc  precision_macro\n",
      "mean_train           0.827370  0.911878         0.842307\n",
      "std_train            0.009750  0.010449         0.007890\n",
      "mean_test            0.792180  0.871339         0.810335\n",
      "std_test             0.028262  0.025923         0.027323\n"
     ]
    }
   ],
   "source": [
    "etc = ens.ExtraTreesClassifier(random_state=random_state, n_jobs=-1, criterion='entropy',\n",
    "                               n_estimators=75,\n",
    "                               max_depth=5,\n",
    "                               ccp_alpha=0.0)\n",
    "scores = cv_rep(etc, X, y, cv, scoring)\n",
    "base_scores['etc'] = [scores.loc['mean_test', refit], scores.loc['mean_train', refit]]\n",
    "print(scores)"
   ]
  },
  {
   "cell_type": "code",
   "execution_count": 63,
   "metadata": {},
   "outputs": [
    {
     "name": "stdout",
     "output_type": "stream",
     "text": [
      "            balanced_accuracy   roc_auc  precision_macro\n",
      "mean_train           0.909005  0.912528         0.930606\n",
      "std_train            0.010499  0.010503         0.009223\n",
      "mean_test            0.794907  0.871545         0.815629\n",
      "std_test             0.024304  0.025271         0.021616\n",
      "{'criterion': 'entropy', 'max_depth': 5, 'n_estimators': 95}\n"
     ]
    }
   ],
   "source": [
    "param_ranges = {'criterion': ['gini', 'entropy'], \n",
    "                'n_estimators': np.arange(60, 100, 5),\n",
    "                'max_depth': np.arange(3, 10)}\n",
    "etc, scores = train_best_model(etc, param_ranges, X, y, scoring, cv, refit=refit)"
   ]
  },
  {
   "cell_type": "code",
   "execution_count": 64,
   "metadata": {},
   "outputs": [
    {
     "name": "stdout",
     "output_type": "stream",
     "text": [
      "            balanced_accuracy   roc_auc  precision_macro\n",
      "mean_train           0.818512  0.910627         0.831673\n",
      "std_train            0.011106  0.010698         0.010414\n",
      "mean_test            0.794484  0.872551         0.813527\n",
      "std_test             0.025469  0.024146         0.024457\n",
      "{'ccp_alpha': 0.0014576271186440678}\n"
     ]
    }
   ],
   "source": [
    "param_ranges = {'ccp_alpha': np.linspace(0.001,0.01, 60)}\n",
    "etc, scores = train_best_model(etc, param_ranges, X, y, scoring, cv, refit=refit)"
   ]
  },
  {
   "cell_type": "code",
   "execution_count": 65,
   "metadata": {},
   "outputs": [],
   "source": [
    "base_scores['etc'] = [scores.loc['mean_test', refit], scores.loc['mean_train', refit]]"
   ]
  },
  {
   "cell_type": "code",
   "execution_count": 111,
   "metadata": {},
   "outputs": [
    {
     "name": "stdout",
     "output_type": "stream",
     "text": [
      "Optimal number of features : 10\n",
      "Features to drop: \n",
      "\n",
      "[]\n"
     ]
    },
    {
     "data": {
      "image/png": "[encoded data removed]",
      "text/plain": [
       "<Figure size 1152x288 with 3 Axes>"
      ]
     },
     "metadata": {
      "needs_background": "light"
     },
     "output_type": "display_data"
    }
   ],
   "source": [
    "rfecv = feature_selection.RFECV(estimator=etc, step=1, min_features_to_select=1, cv=cv, scoring=refit, n_jobs=-1)\n",
    "rfecv.fit(X, y)\n",
    "print(\"Optimal number of features : %d\" % rfecv.n_features_)\n",
    "\n",
    "# Plot number of features VS. cross-validation scores\n",
    "fig = plt.figure()\n",
    "fig.set_size_inches(16,4)\n",
    "ax = fig.add_subplot(1,2,1)\n",
    "ax.set_xlabel(\"Number of features selected\")\n",
    "ax.set_ylabel(\"Cross validation score (nb of correct classifications)\")\n",
    "ax.plot(range(1, len(rfecv.grid_scores_) + 1), rfecv.grid_scores_)\n",
    "\n",
    "plot_confusion_matrix(etc, X, y, ax=fig.add_subplot(1,2,2), normalize=True, title='etc')\n",
    "\n",
    "print('Features to drop: \\n')\n",
    "feats = []\n",
    "for i, m in zip(X.columns, rfecv.get_support()):\n",
    "    if not m:\n",
    "        feats.append(i)\n",
    "print(feats)"
   ]
  },
  {
   "cell_type": "markdown",
   "metadata": {},
   "source": [
    "#### RandomForestClassifier"
   ]
  },
  {
   "cell_type": "code",
   "execution_count": 66,
   "metadata": {},
   "outputs": [
    {
     "name": "stdout",
     "output_type": "stream",
     "text": [
      "            balanced_accuracy   roc_auc  precision_macro\n",
      "mean_train           0.804392  0.866046         0.814882\n",
      "std_train            0.015038  0.013754         0.016265\n",
      "mean_test            0.783510  0.854084         0.799136\n",
      "std_test             0.024070  0.020979         0.024837\n"
     ]
    }
   ],
   "source": [
    "rfc = ens.RandomForestClassifier(random_state=random_state, n_jobs=-1, criterion='entropy',\n",
    "                                 n_estimators=20,\n",
    "                                 max_depth=5,\n",
    "                                 ccp_alpha=0.04)\n",
    "scores = cv_rep(rfc, X, y, cv, scoring)\n",
    "base_scores['rfc'] = [scores.loc['mean_test', refit], scores.loc['mean_train', refit]]\n",
    "print(scores)"
   ]
  },
  {
   "cell_type": "code",
   "execution_count": 67,
   "metadata": {},
   "outputs": [
    {
     "name": "stdout",
     "output_type": "stream",
     "text": [
      "            balanced_accuracy   roc_auc  precision_macro\n",
      "mean_train           0.808011  0.869659         0.820342\n",
      "std_train            0.014887  0.015181         0.013507\n",
      "mean_test            0.787573  0.859785         0.805030\n",
      "std_test             0.023983  0.020490         0.028386\n",
      "{'criterion': 'entropy', 'max_depth': 8, 'n_estimators': 75}\n"
     ]
    }
   ],
   "source": [
    "param_ranges = {'criterion': ['gini', 'entropy'], \n",
    "                'n_estimators': np.arange(5, 100, 10),\n",
    "                'max_depth': np.arange(3, 10)}\n",
    "rfc, scores = train_best_model(rfc, param_ranges, X, y, scoring, cv, refit=refit)"
   ]
  },
  {
   "cell_type": "code",
   "execution_count": 68,
   "metadata": {},
   "outputs": [
    {
     "name": "stdout",
     "output_type": "stream",
     "text": [
      "            balanced_accuracy   roc_auc  precision_macro\n",
      "mean_train           0.919253  0.970821         0.867304\n",
      "std_train            0.012968  0.004977         0.010112\n",
      "mean_test            0.806555  0.877864         0.829354\n",
      "std_test             0.024678  0.017530         0.019334\n",
      "{'ccp_alpha': 0.004355932203389831}\n"
     ]
    }
   ],
   "source": [
    "param_ranges = {'ccp_alpha': np.linspace(0.001,0.1, 60)}\n",
    "rfc, scores = train_best_model(rfc, param_ranges, X, y, scoring, cv, refit=refit)"
   ]
  },
  {
   "cell_type": "code",
   "execution_count": 69,
   "metadata": {},
   "outputs": [],
   "source": [
    "base_scores['rfc'] = [scores.loc['mean_test', refit], scores.loc['mean_train', refit]]"
   ]
  },
  {
   "cell_type": "markdown",
   "metadata": {},
   "source": [
    "#### LogisticRegression"
   ]
  },
  {
   "cell_type": "code",
   "execution_count": 70,
   "metadata": {},
   "outputs": [
    {
     "name": "stdout",
     "output_type": "stream",
     "text": [
      "            balanced_accuracy   roc_auc  precision_macro\n",
      "mean_train           0.813537  0.873383         0.804726\n",
      "std_train            0.013761  0.013797         0.013164\n",
      "mean_test            0.804537  0.866955         0.799854\n",
      "std_test             0.030378  0.023780         0.025794\n"
     ]
    }
   ],
   "source": [
    "lr = lm.LogisticRegression(class_weight=class_weights, random_state=random_state, n_jobs=-1,\n",
    "                           penalty='l2',\n",
    "                           solver='liblinear',\n",
    "                           dual=False,\n",
    "                           C=1.3122448979591839)\n",
    "scores = cv_rep(lr, X, y, cv, scoring)\n",
    "base_scores['lr'] = [scores.loc['mean_test', refit], scores.loc['mean_train', refit]]\n",
    "print(scores)"
   ]
  },
  {
   "cell_type": "code",
   "execution_count": 71,
   "metadata": {},
   "outputs": [
    {
     "name": "stdout",
     "output_type": "stream",
     "text": [
      "            balanced_accuracy   roc_auc  precision_macro\n",
      "mean_train           0.814177  0.871911         0.805292\n",
      "std_train            0.013960  0.013969         0.013454\n",
      "mean_test            0.807690  0.868914         0.802767\n",
      "std_test             0.028394  0.023263         0.024869\n",
      "{'C': 0.31551020408163266, 'solver': 'liblinear'}\n"
     ]
    },
    {
     "name": "stderr",
     "output_type": "stream",
     "text": [
      "c:\\00_data\\python38\\lib\\site-packages\\sklearn\\linear_model\\_logistic.py:1537: UserWarning: 'n_jobs' > 1 does not have any effect when 'solver' is set to 'liblinear'. Got 'n_jobs' = 4.\n",
      "  warnings.warn(\"'n_jobs' > 1 does not have any effect when\"\n"
     ]
    }
   ],
   "source": [
    "param_ranges = {'C': np.linspace(0.01, 5, 99), 'solver': ['newton-cg', 'lbfgs', 'liblinear', 'sag', 'saga']}\n",
    "lr, scores = train_best_model(lr, param_ranges, X, y, scoring, cv, refit=refit)"
   ]
  },
  {
   "cell_type": "code",
   "execution_count": 72,
   "metadata": {},
   "outputs": [],
   "source": [
    "base_scores['lr'] = [scores.loc['mean_test', refit], scores.loc['mean_train', refit]]"
   ]
  },
  {
   "cell_type": "markdown",
   "metadata": {},
   "source": [
    "#### RidgeClassifier"
   ]
  },
  {
   "cell_type": "code",
   "execution_count": 73,
   "metadata": {},
   "outputs": [
    {
     "name": "stdout",
     "output_type": "stream",
     "text": [
      "            balanced_accuracy   roc_auc  precision_macro\n",
      "mean_train           0.810191  0.871425         0.810665\n",
      "std_train            0.013631  0.014099         0.013701\n",
      "mean_test            0.799606  0.866214         0.802103\n",
      "std_test             0.026531  0.023178         0.022123\n"
     ]
    }
   ],
   "source": [
    "rc = lm.RidgeClassifier(class_weight=class_weights, random_state=random_state,\n",
    "                        alpha=11.122448979591837)\n",
    "scores = cv_rep(rc, X, y, cv, scoring)\n",
    "base_scores['rc'] = [scores.loc['mean_test', refit], scores.loc['mean_train', refit]]\n",
    "print(scores)"
   ]
  },
  {
   "cell_type": "code",
   "execution_count": 74,
   "metadata": {},
   "outputs": [
    {
     "name": "stdout",
     "output_type": "stream",
     "text": [
      "            balanced_accuracy   roc_auc  precision_macro\n",
      "mean_train           0.812078  0.870724         0.813072\n",
      "std_train            0.013548  0.013991         0.012691\n",
      "mean_test            0.799362  0.866478         0.802593\n",
      "std_test             0.025927  0.023037         0.021839\n",
      "{'alpha': 15.36734693877551}\n"
     ]
    }
   ],
   "source": [
    "param_ranges = {'alpha': np.linspace(1, 45, 99)}\n",
    "rc, scores = train_best_model(rc, param_ranges, X, y, scoring, cv, refit=refit)"
   ]
  },
  {
   "cell_type": "code",
   "execution_count": 75,
   "metadata": {},
   "outputs": [],
   "source": [
    "base_scores['rc'] = [scores.loc['mean_test', refit], scores.loc['mean_train', refit]]"
   ]
  },
  {
   "cell_type": "markdown",
   "metadata": {},
   "source": [
    "#### SVC"
   ]
  },
  {
   "cell_type": "code",
   "execution_count": 76,
   "metadata": {},
   "outputs": [
    {
     "name": "stdout",
     "output_type": "stream",
     "text": [
      "            balanced_accuracy   roc_auc  precision_macro\n",
      "mean_train           0.830879  0.890418         0.829975\n",
      "std_train            0.015561  0.015279         0.019758\n",
      "mean_test            0.789723  0.841265         0.790808\n",
      "std_test             0.022417  0.029110         0.024658\n"
     ]
    }
   ],
   "source": [
    "svc = svm.SVC(kernel='rbf', gamma='scale', shrinking=True, class_weight=class_weights,\n",
    "              C=9428.57142857143)\n",
    "scores = cv_rep(svc, X, y, cv, scoring)\n",
    "base_scores['svc'] = [scores.loc['mean_test', refit], scores.loc['mean_train', refit]]\n",
    "print(scores)"
   ]
  },
  {
   "cell_type": "code",
   "execution_count": 77,
   "metadata": {},
   "outputs": [
    {
     "name": "stdout",
     "output_type": "stream",
     "text": [
      "            balanced_accuracy   roc_auc  precision_macro\n",
      "mean_train           0.817262  0.873950         0.822992\n",
      "std_train            0.014120  0.014095         0.014786\n",
      "mean_test            0.796440  0.856046         0.805791\n",
      "std_test             0.023526  0.018530         0.023919\n",
      "{'C': 400.0}\n"
     ]
    }
   ],
   "source": [
    "param_ranges = {'C': np.linspace(400, 1000, 23)}\n",
    "svc, scores = train_best_model(svc, param_ranges, X, y, scoring, cv, refit=refit)"
   ]
  },
  {
   "cell_type": "code",
   "execution_count": 78,
   "metadata": {},
   "outputs": [],
   "source": [
    "base_scores['svc'] = [scores.loc['mean_test', refit], scores.loc['mean_train', refit]]"
   ]
  },
  {
   "cell_type": "code",
   "execution_count": 79,
   "metadata": {},
   "outputs": [
    {
     "name": "stdout",
     "output_type": "stream",
     "text": [
      "            balanced_accuracy   roc_auc  precision_macro\n",
      "mean_train           0.813949  0.861710         0.825877\n",
      "std_train            0.010865  0.010086         0.010184\n",
      "mean_test            0.791395  0.844342         0.807660\n",
      "std_test             0.021231  0.016590         0.020095\n"
     ]
    }
   ],
   "source": [
    "nusvc = svm.NuSVC(kernel='rbf', gamma='scale', shrinking=True, class_weight=class_weights,\n",
    "                 nu=0.5102089795918366)\n",
    "scores = cv_rep(nusvc, X, y, cv, scoring)\n",
    "base_scores['nusvc'] = [scores.loc['mean_test', refit], scores.loc['mean_train', refit]]\n",
    "print(scores)"
   ]
  },
  {
   "cell_type": "code",
   "execution_count": 80,
   "metadata": {},
   "outputs": [
    {
     "name": "stdout",
     "output_type": "stream",
     "text": [
      "            balanced_accuracy   roc_auc  precision_macro\n",
      "mean_train           0.815713  0.863030         0.828439\n",
      "std_train            0.011818  0.010674         0.013107\n",
      "mean_test            0.795034  0.851115         0.811121\n",
      "std_test             0.021847  0.020957         0.021006\n",
      "{'nu': 0.49591836734693884}\n"
     ]
    }
   ],
   "source": [
    "param_ranges = {'nu': np.linspace(0.1,0.5,99)}\n",
    "nusvc, scores = train_best_model(nusvc, param_ranges, X, y, scoring, cv, refit=refit)"
   ]
  },
  {
   "cell_type": "code",
   "execution_count": 81,
   "metadata": {},
   "outputs": [],
   "source": [
    "base_scores['nusvc'] = [scores.loc['mean_test', refit], scores.loc['mean_train', refit]]"
   ]
  },
  {
   "cell_type": "markdown",
   "metadata": {},
   "source": [
    "#### Base estimators scores"
   ]
  },
  {
   "cell_type": "code",
   "execution_count": 82,
   "metadata": {},
   "outputs": [
    {
     "data": {
      "text/html": [
       "<div>\n",
       "<style scoped>\n",
       "    .dataframe tbody tr th:only-of-type {\n",
       "        vertical-align: middle;\n",
       "    }\n",
       "\n",
       "    .dataframe tbody tr th {\n",
       "        vertical-align: top;\n",
       "    }\n",
       "\n",
       "    .dataframe thead th {\n",
       "        text-align: right;\n",
       "    }\n",
       "</style>\n",
       "<table border=\"1\" class=\"dataframe\">\n",
       "  <thead>\n",
       "    <tr style=\"text-align: right;\">\n",
       "      <th></th>\n",
       "      <th>rfc</th>\n",
       "      <th>etc</th>\n",
       "      <th>lr</th>\n",
       "      <th>lda</th>\n",
       "      <th>rc</th>\n",
       "      <th>abc</th>\n",
       "      <th>svc</th>\n",
       "      <th>qda</th>\n",
       "      <th>nusvc</th>\n",
       "    </tr>\n",
       "  </thead>\n",
       "  <tbody>\n",
       "    <tr>\n",
       "      <th>test_score</th>\n",
       "      <td>0.877864</td>\n",
       "      <td>0.872551</td>\n",
       "      <td>0.868914</td>\n",
       "      <td>0.866826</td>\n",
       "      <td>0.866478</td>\n",
       "      <td>0.866040</td>\n",
       "      <td>0.856046</td>\n",
       "      <td>0.854416</td>\n",
       "      <td>0.851115</td>\n",
       "    </tr>\n",
       "    <tr>\n",
       "      <th>train_score</th>\n",
       "      <td>0.970821</td>\n",
       "      <td>0.910627</td>\n",
       "      <td>0.871911</td>\n",
       "      <td>0.872040</td>\n",
       "      <td>0.870724</td>\n",
       "      <td>0.877754</td>\n",
       "      <td>0.873950</td>\n",
       "      <td>0.868199</td>\n",
       "      <td>0.863030</td>\n",
       "    </tr>\n",
       "  </tbody>\n",
       "</table>\n",
       "</div>"
      ],
      "text/plain": [
       "                  rfc       etc        lr       lda        rc       abc  \\\n",
       "test_score   0.877864  0.872551  0.868914  0.866826  0.866478  0.866040   \n",
       "train_score  0.970821  0.910627  0.871911  0.872040  0.870724  0.877754   \n",
       "\n",
       "                  svc       qda     nusvc  \n",
       "test_score   0.856046  0.854416  0.851115  \n",
       "train_score  0.873950  0.868199  0.863030  "
      ]
     },
     "execution_count": 82,
     "metadata": {},
     "output_type": "execute_result"
    }
   ],
   "source": [
    "pd.DataFrame(base_scores, index=['test_score', 'train_score']).sort_values(by='test_score', axis=1,ascending=False)"
   ]
  },
  {
   "cell_type": "code",
   "execution_count": 83,
   "metadata": {},
   "outputs": [],
   "source": [
    "base_models_surv_dic = {'lda':lda,'qda':qda,'abc':abc,'etc':etc,'rfc':rfc,'lr':lr,'rc':rc,'svc':svc,'nusvc':nusvc}"
   ]
  },
  {
   "cell_type": "code",
   "execution_count": 84,
   "metadata": {},
   "outputs": [],
   "source": [
    "base_models_surv = [(k,base_models_surv_dic[k]) for k in base_models_surv_dic.keys()]"
   ]
  },
  {
   "cell_type": "code",
   "execution_count": 85,
   "metadata": {},
   "outputs": [
    {
     "name": "stderr",
     "output_type": "stream",
     "text": [
      "c:\\00_data\\python38\\lib\\site-packages\\sklearn\\linear_model\\_logistic.py:1537: UserWarning: 'n_jobs' > 1 does not have any effect when 'solver' is set to 'liblinear'. Got 'n_jobs' = 4.\n",
      "  warnings.warn(\"'n_jobs' > 1 does not have any effect when\"\n"
     ]
    },
    {
     "data": {
      "image/png": "[encoded data removed]",
      "text/plain": [
       "<Figure size 1728x576 with 18 Axes>"
      ]
     },
     "metadata": {
      "needs_background": "light"
     },
     "output_type": "display_data"
    }
   ],
   "source": [
    "grd_n = len(base_models_surv)\n",
    "grd_cols_n = 6\n",
    "grd_rows_n = int(math.ceil(grd_n / grd_cols_n))\n",
    "fig = plt.figure()\n",
    "fig.set_size_inches(4 * grd_cols_n, 4 * grd_rows_n)\n",
    "gs = gridspec.GridSpec(grd_rows_n, grd_cols_n, figure=fig, wspace=0.3, hspace=0.3)\n",
    "\n",
    "for i, m in enumerate(base_models_surv):\n",
    "    lbl, model = m\n",
    "    plot_confusion_matrix(model, X, y, ax=fig.add_subplot(gs[i]), normalize=True, title=lbl)"
   ]
  },
  {
   "cell_type": "code",
   "execution_count": 86,
   "metadata": {},
   "outputs": [],
   "source": [
    "def base_models_predictions(models, X):\n",
    "    X1 = None\n",
    "    for i, model in models:\n",
    "        if X1 is None:\n",
    "            X1 = pd.Series(model.predict(X), name=i).to_frame()\n",
    "        else:\n",
    "            X1 = X1.merge(pd.Series(model.predict(X), name=i).to_frame(), left_index=True, right_index=True)\n",
    "    return X1"
   ]
  },
  {
   "cell_type": "code",
   "execution_count": 87,
   "metadata": {},
   "outputs": [],
   "source": [
    "def base_models_predictions_proba(models, X):\n",
    "    X0 = None\n",
    "    X1 = None\n",
    "    for i, model in models:\n",
    "        proba_0 = model.predict_proba(X)[:,0]\n",
    "        proba_1 = model.predict_proba(X)[:,1]\n",
    "        if X0 is None:\n",
    "            X0 = pd.Series(proba_0, name='{0}_proba'.format(i)).to_frame()\n",
    "        else:\n",
    "            X0 = X0.merge(pd.Series(proba_0, name='{0}_proba'.format(i)).to_frame(), left_index=True, right_index=True)\n",
    "        \n",
    "        if X1 is None:\n",
    "            X1 = pd.Series(proba_1, name='{0}_proba'.format(i)).to_frame()\n",
    "        else:\n",
    "            X1 = X1.merge(pd.Series(proba_1, name='{0}_proba'.format(i)).to_frame(), left_index=True, right_index=True)\n",
    "    return (X0, X1)"
   ]
  },
  {
   "cell_type": "markdown",
   "metadata": {},
   "source": [
    "#### Base estimators correlation matrix"
   ]
  },
  {
   "cell_type": "code",
   "execution_count": 88,
   "metadata": {},
   "outputs": [
    {
     "data": {
      "image/png": "[encoded data removed]",
      "text/plain": [
       "<Figure size 720x720 with 2 Axes>"
      ]
     },
     "metadata": {
      "needs_background": "light"
     },
     "output_type": "display_data"
    }
   ],
   "source": [
    "preds_base = base_models_predictions(base_models_surv, X)\n",
    "fig = plt.figure()\n",
    "fig.set_size_inches(10, 10)\n",
    "corr_matrix = preds_base.corr()\n",
    "plot_correlation_matrix(ax=fig.add_subplot(1,1,1),\n",
    "                              data=corr_matrix,\n",
    "                             cmap=sns.diverging_palette(200, 15, s=75, l=50, sep=1, n=25, center='light', as_cmap=False))"
   ]
  },
  {
   "cell_type": "code",
   "execution_count": 89,
   "metadata": {},
   "outputs": [
    {
     "data": {
      "text/html": [
       "<div>\n",
       "<style scoped>\n",
       "    .dataframe tbody tr th:only-of-type {\n",
       "        vertical-align: middle;\n",
       "    }\n",
       "\n",
       "    .dataframe tbody tr th {\n",
       "        vertical-align: top;\n",
       "    }\n",
       "\n",
       "    .dataframe thead th {\n",
       "        text-align: right;\n",
       "    }\n",
       "</style>\n",
       "<table border=\"1\" class=\"dataframe\">\n",
       "  <thead>\n",
       "    <tr style=\"text-align: right;\">\n",
       "      <th></th>\n",
       "      <th>svc</th>\n",
       "      <th>abc</th>\n",
       "      <th>etc</th>\n",
       "      <th>nusvc</th>\n",
       "      <th>lda</th>\n",
       "      <th>rc</th>\n",
       "      <th>lr</th>\n",
       "      <th>qda</th>\n",
       "      <th>rfc</th>\n",
       "    </tr>\n",
       "  </thead>\n",
       "  <tbody>\n",
       "    <tr>\n",
       "      <th>cc</th>\n",
       "      <td>0.807341</td>\n",
       "      <td>0.80653</td>\n",
       "      <td>0.805991</td>\n",
       "      <td>0.801196</td>\n",
       "      <td>0.800222</td>\n",
       "      <td>0.797399</td>\n",
       "      <td>0.768398</td>\n",
       "      <td>0.758923</td>\n",
       "      <td>0.726867</td>\n",
       "    </tr>\n",
       "  </tbody>\n",
       "</table>\n",
       "</div>"
      ],
      "text/plain": [
       "         svc      abc       etc     nusvc       lda        rc        lr  \\\n",
       "cc  0.807341  0.80653  0.805991  0.801196  0.800222  0.797399  0.768398   \n",
       "\n",
       "         qda       rfc  \n",
       "cc  0.758923  0.726867  "
      ]
     },
     "execution_count": 89,
     "metadata": {},
     "output_type": "execute_result"
    }
   ],
   "source": [
    "# Mean of each model correlation coefficients\n",
    "corr_sc = {}\n",
    "for k in base_models_surv_dic.keys():\n",
    "    corr_sc[k] = (corr_matrix[k].sum() - 1) / len(corr_matrix.index)\n",
    "df_base_models_corr_sc = pd.DataFrame(corr_sc, index=['cc'])\n",
    "df_base_models_corr_sc.sort_values(by='cc', axis=1, ascending=False)"
   ]
  },
  {
   "cell_type": "markdown",
   "metadata": {},
   "source": [
    "#### Select less correlated models"
   ]
  },
  {
   "cell_type": "code",
   "execution_count": 90,
   "metadata": {},
   "outputs": [],
   "source": [
    "base_models_surv_dic = {'lda':lda,'qda':qda,'abc':abc,'etc':etc,'rc':rc,'svc':svc}"
   ]
  },
  {
   "cell_type": "code",
   "execution_count": 91,
   "metadata": {},
   "outputs": [],
   "source": [
    "base_models_surv = [(k,base_models_surv_dic[k]) for k in base_models_surv_dic.keys()]"
   ]
  },
  {
   "cell_type": "code",
   "execution_count": 92,
   "metadata": {},
   "outputs": [
    {
     "data": {
      "image/png": "[encoded data removed]",
      "text/plain": [
       "<Figure size 720x720 with 2 Axes>"
      ]
     },
     "metadata": {
      "needs_background": "light"
     },
     "output_type": "display_data"
    }
   ],
   "source": [
    "preds_base = base_models_predictions(base_models_surv, X)\n",
    "fig = plt.figure()\n",
    "fig.set_size_inches(10, 10)\n",
    "corr_matrix = preds_base.corr()\n",
    "plot_correlation_matrix(ax=fig.add_subplot(1,1,1),\n",
    "                              data=corr_matrix,\n",
    "                             cmap=sns.diverging_palette(200, 15, s=75, l=50, sep=1, n=25, center='light', as_cmap=False))"
   ]
  },
  {
   "cell_type": "code",
   "execution_count": 93,
   "metadata": {},
   "outputs": [
    {
     "data": {
      "text/html": [
       "<div>\n",
       "<style scoped>\n",
       "    .dataframe tbody tr th:only-of-type {\n",
       "        vertical-align: middle;\n",
       "    }\n",
       "\n",
       "    .dataframe tbody tr th {\n",
       "        vertical-align: top;\n",
       "    }\n",
       "\n",
       "    .dataframe thead th {\n",
       "        text-align: right;\n",
       "    }\n",
       "</style>\n",
       "<table border=\"1\" class=\"dataframe\">\n",
       "  <thead>\n",
       "    <tr style=\"text-align: right;\">\n",
       "      <th></th>\n",
       "      <th>abc</th>\n",
       "      <th>etc</th>\n",
       "      <th>svc</th>\n",
       "      <th>lda</th>\n",
       "      <th>rc</th>\n",
       "      <th>qda</th>\n",
       "    </tr>\n",
       "  </thead>\n",
       "  <tbody>\n",
       "    <tr>\n",
       "      <th>cc</th>\n",
       "      <td>0.769812</td>\n",
       "      <td>0.769002</td>\n",
       "      <td>0.768084</td>\n",
       "      <td>0.763798</td>\n",
       "      <td>0.755854</td>\n",
       "      <td>0.714075</td>\n",
       "    </tr>\n",
       "  </tbody>\n",
       "</table>\n",
       "</div>"
      ],
      "text/plain": [
       "         abc       etc       svc       lda        rc       qda\n",
       "cc  0.769812  0.769002  0.768084  0.763798  0.755854  0.714075"
      ]
     },
     "execution_count": 93,
     "metadata": {},
     "output_type": "execute_result"
    }
   ],
   "source": [
    "# Mean of each model correlation coefficients\n",
    "corr_sc = {}\n",
    "for k in base_models_surv_dic.keys():\n",
    "    corr_sc[k] = (corr_matrix[k].sum() - 1) / len(corr_matrix.index)\n",
    "df_base_models_corr_sc = pd.DataFrame(corr_sc, index=['cc'])\n",
    "df_base_models_corr_sc.sort_values(by='cc', axis=1, ascending=False)"
   ]
  },
  {
   "cell_type": "markdown",
   "metadata": {},
   "source": [
    "#### Compare stacking classifier score for different final estimator models"
   ]
  },
  {
   "cell_type": "code",
   "execution_count": 94,
   "metadata": {},
   "outputs": [],
   "source": [
    "def train_final_models(models, X, y, score, cv_folds=5):\n",
    "    scores = {}\n",
    "    fin_models = []\n",
    "    for m in models:\n",
    "        model_st = ens.StackingClassifier(estimators=base_models_surv,\n",
    "                                          final_estimator=m[1],\n",
    "                                          cv=cv_folds, \n",
    "                                          stack_method='predict', \n",
    "                                          n_jobs=-1)\n",
    "        res = cv_rep(model_st, X, y, cv, scoring)\n",
    "        scores[m[0]] = [res.loc['mean_test', score], res.loc['mean_train', score]]\n",
    "        fin_models.append((m[0], model_st))\n",
    "    scores = pd.DataFrame(scores, index=['Test_score', 'Train_score']).sort_values(by='Test_score', axis=1,ascending=False)\n",
    "    return fin_models, scores"
   ]
  },
  {
   "cell_type": "code",
   "execution_count": 95,
   "metadata": {},
   "outputs": [],
   "source": [
    "final_models_surv = [('abc', ens.AdaBoostClassifier()),\n",
    "                     ('etc', ens.ExtraTreesClassifier()),\n",
    "                     ('rfc', ens.RandomForestClassifier()),\n",
    "                     ('lr', lm.LogisticRegression()),\n",
    "                     ('svc', svm.SVC())]"
   ]
  },
  {
   "cell_type": "code",
   "execution_count": 96,
   "metadata": {},
   "outputs": [],
   "source": [
    "fin_models, scores = train_final_models(final_models_surv, X, y, cv_folds=5, score=refit)"
   ]
  },
  {
   "cell_type": "code",
   "execution_count": 97,
   "metadata": {},
   "outputs": [
    {
     "data": {
      "text/html": [
       "<div>\n",
       "<style scoped>\n",
       "    .dataframe tbody tr th:only-of-type {\n",
       "        vertical-align: middle;\n",
       "    }\n",
       "\n",
       "    .dataframe tbody tr th {\n",
       "        vertical-align: top;\n",
       "    }\n",
       "\n",
       "    .dataframe thead th {\n",
       "        text-align: right;\n",
       "    }\n",
       "</style>\n",
       "<table border=\"1\" class=\"dataframe\">\n",
       "  <thead>\n",
       "    <tr style=\"text-align: right;\">\n",
       "      <th></th>\n",
       "      <th>lr</th>\n",
       "      <th>abc</th>\n",
       "      <th>rfc</th>\n",
       "      <th>etc</th>\n",
       "      <th>svc</th>\n",
       "    </tr>\n",
       "  </thead>\n",
       "  <tbody>\n",
       "    <tr>\n",
       "      <th>Test_score</th>\n",
       "      <td>0.820056</td>\n",
       "      <td>0.818188</td>\n",
       "      <td>0.814716</td>\n",
       "      <td>0.813407</td>\n",
       "      <td>0.805152</td>\n",
       "    </tr>\n",
       "    <tr>\n",
       "      <th>Train_score</th>\n",
       "      <td>0.843088</td>\n",
       "      <td>0.840660</td>\n",
       "      <td>0.841676</td>\n",
       "      <td>0.840336</td>\n",
       "      <td>0.835404</td>\n",
       "    </tr>\n",
       "  </tbody>\n",
       "</table>\n",
       "</div>"
      ],
      "text/plain": [
       "                   lr       abc       rfc       etc       svc\n",
       "Test_score   0.820056  0.818188  0.814716  0.813407  0.805152\n",
       "Train_score  0.843088  0.840660  0.841676  0.840336  0.835404"
      ]
     },
     "execution_count": 97,
     "metadata": {},
     "output_type": "execute_result"
    }
   ],
   "source": [
    "scores"
   ]
  },
  {
   "cell_type": "code",
   "execution_count": 98,
   "metadata": {},
   "outputs": [
    {
     "data": {
      "image/png": "[encoded data removed]",
      "text/plain": [
       "<Figure size 1728x288 with 10 Axes>"
      ]
     },
     "metadata": {
      "needs_background": "light"
     },
     "output_type": "display_data"
    }
   ],
   "source": [
    "grd_n = len(fin_models)\n",
    "grd_cols_n = 6\n",
    "grd_rows_n = int(math.ceil(grd_n / grd_cols_n))\n",
    "fig = plt.figure()\n",
    "fig.set_size_inches(4 * grd_cols_n, 4 * grd_rows_n)\n",
    "gs = gridspec.GridSpec(grd_rows_n, grd_cols_n, figure=fig, wspace=0.3, hspace=0.3)\n",
    "\n",
    "for i, m in enumerate(fin_models):\n",
    "    lbl, model = m\n",
    "    plot_confusion_matrix(model, X, y, ax=fig.add_subplot(gs[i]), normalize=True, title=lbl)"
   ]
  },
  {
   "cell_type": "markdown",
   "metadata": {},
   "source": [
    "#### Train stacking classifier"
   ]
  },
  {
   "cell_type": "code",
   "execution_count": 109,
   "metadata": {},
   "outputs": [
    {
     "data": {
      "text/html": [
       "<div>\n",
       "<style scoped>\n",
       "    .dataframe tbody tr th:only-of-type {\n",
       "        vertical-align: middle;\n",
       "    }\n",
       "\n",
       "    .dataframe tbody tr th {\n",
       "        vertical-align: top;\n",
       "    }\n",
       "\n",
       "    .dataframe thead th {\n",
       "        text-align: right;\n",
       "    }\n",
       "</style>\n",
       "<table border=\"1\" class=\"dataframe\">\n",
       "  <thead>\n",
       "    <tr style=\"text-align: right;\">\n",
       "      <th></th>\n",
       "      <th>balanced_accuracy</th>\n",
       "      <th>roc_auc</th>\n",
       "      <th>precision_macro</th>\n",
       "    </tr>\n",
       "  </thead>\n",
       "  <tbody>\n",
       "    <tr>\n",
       "      <th>mean_train</th>\n",
       "      <td>0.824295</td>\n",
       "      <td>0.840660</td>\n",
       "      <td>0.838966</td>\n",
       "    </tr>\n",
       "    <tr>\n",
       "      <th>std_train</th>\n",
       "      <td>0.008834</td>\n",
       "      <td>0.014302</td>\n",
       "      <td>0.006335</td>\n",
       "    </tr>\n",
       "    <tr>\n",
       "      <th>mean_test</th>\n",
       "      <td>0.801221</td>\n",
       "      <td>0.818188</td>\n",
       "      <td>0.817513</td>\n",
       "    </tr>\n",
       "    <tr>\n",
       "      <th>std_test</th>\n",
       "      <td>0.021799</td>\n",
       "      <td>0.026663</td>\n",
       "      <td>0.023105</td>\n",
       "    </tr>\n",
       "  </tbody>\n",
       "</table>\n",
       "</div>"
      ],
      "text/plain": [
       "            balanced_accuracy   roc_auc  precision_macro\n",
       "mean_train           0.824295  0.840660         0.838966\n",
       "std_train            0.008834  0.014302         0.006335\n",
       "mean_test            0.801221  0.818188         0.817513\n",
       "std_test             0.021799  0.026663         0.023105"
      ]
     },
     "execution_count": 109,
     "metadata": {},
     "output_type": "execute_result"
    }
   ],
   "source": [
    "model_st = ens.StackingClassifier(estimators=base_models_surv,\n",
    "                                  final_estimator=ens.AdaBoostClassifier(random_state=random_state),\n",
    "                                  cv=5, \n",
    "                                  stack_method='predict', \n",
    "                                  passthrough=False,\n",
    "                                  n_jobs=-1)\n",
    "\n",
    "cv_rep(model_st, X, y, cv, scoring)"
   ]
  },
  {
   "cell_type": "code",
   "execution_count": 100,
   "metadata": {},
   "outputs": [
    {
     "name": "stdout",
     "output_type": "stream",
     "text": [
      "            balanced_accuracy   roc_auc  precision_macro\n",
      "mean_train           0.824507  0.841503         0.839633\n",
      "std_train            0.009124  0.013682         0.007448\n",
      "mean_test            0.803283  0.820012         0.819141\n",
      "std_test             0.021927  0.028640         0.022600\n",
      "{'final_estimator__learning_rate': 0.6157894736842106, 'final_estimator__n_estimators': 80}\n"
     ]
    }
   ],
   "source": [
    "param_ranges = {'final_estimator__n_estimators': np.arange(50, 120, 10), 'final_estimator__learning_rate': np.linspace(0.1, 0.8, 20)}\n",
    "model_st, scores = train_best_model(model_st, param_ranges, X, y, scoring, cv, refit=refit)\n"
   ]
  },
  {
   "cell_type": "code",
   "execution_count": 101,
   "metadata": {},
   "outputs": [
    {
     "data": {
      "image/png": "[encoded data removed]",
      "text/plain": [
       "<Figure size 288x288 with 2 Axes>"
      ]
     },
     "metadata": {
      "needs_background": "light"
     },
     "output_type": "display_data"
    }
   ],
   "source": [
    "fig = plt.figure()\n",
    "fig.set_size_inches(4,4)\n",
    "plot_confusion_matrix(model_st, X, y, ax=fig.add_subplot(1,1,1), normalize=True, title='')"
   ]
  },
  {
   "cell_type": "markdown",
   "metadata": {},
   "source": [
    "## Predict test set"
   ]
  },
  {
   "cell_type": "markdown",
   "metadata": {},
   "source": [
    "#### Preprocessind data"
   ]
  },
  {
   "cell_type": "code",
   "execution_count": 103,
   "metadata": {},
   "outputs": [],
   "source": [
    "data = family_groups_encoder(data_test.copy(), fgrp_mask)\n",
    "data = fare_encoder(data, fare_mask)\n",
    "data = fare_transformer(data)\n",
    "\n",
    "data = ticket_encoder(data, ticket_mask)\n",
    "\n",
    "data = title_encoder(data)\n",
    "data = sex_encoder(data)\n",
    "data = fam_size(data)\n",
    "\n",
    "data = embarked_encoder(data)\n",
    "data = pclass_encoder(data)\n",
    "\n",
    "data = age_predictor(data, age_cls_model, age_reg_model)\n",
    "data = cabin_encoder(data)\n",
    "data = data[['PassengerId', 'Age', 'Fare', 'Sex', 'ttl', 'fgrp', 'famsize', 'Ticket', 'Pclass', 'Embarked', 'Cabin']]"
   ]
  },
  {
   "cell_type": "markdown",
   "metadata": {},
   "source": [
    "#### Make predictions"
   ]
  },
  {
   "cell_type": "code",
   "execution_count": 104,
   "metadata": {
    "scrolled": true
   },
   "outputs": [],
   "source": [
    "X = data.drop(columns=['PassengerId'])"
   ]
  },
  {
   "cell_type": "code",
   "execution_count": 105,
   "metadata": {},
   "outputs": [],
   "source": [
    "data['Survived'] = model_st.predict(X)\n",
    "df_submission = data[['PassengerId', 'Survived']]\n",
    "df_submission.to_csv(\"df_submission.csv\", index=False)"
   ]
  },
  {
   "cell_type": "code",
   "execution_count": null,
   "metadata": {},
   "outputs": [],
   "source": []
  }
 ],
 "metadata": {
  "kernelspec": {
   "display_name": "Python 3",
   "language": "python",
   "name": "python3"
  },
  "language_info": {
   "codemirror_mode": {
    "name": "ipython",
    "version": 3
   },
   "file_extension": ".py",
   "mimetype": "text/x-python",
   "name": "python",
   "nbconvert_exporter": "python",
   "pygments_lexer": "ipython3",
   "version": "3.8.1"
  }
 },
 "nbformat": 4,
 "nbformat_minor": 4
}
