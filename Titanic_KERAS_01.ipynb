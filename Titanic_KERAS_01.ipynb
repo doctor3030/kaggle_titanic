{
 "cells": [
  {
   "cell_type": "code",
   "execution_count": 1,
   "metadata": {
    "scrolled": true
   },
   "outputs": [
    {
     "name": "stderr",
     "output_type": "stream",
     "text": [
      "Using TensorFlow backend.\n"
     ]
    }
   ],
   "source": [
    "%config IPCompleter.greedy=True\n",
    "from IPython.display import IFrame\n",
    "\n",
    "import pandas as pd\n",
    "import numpy as np\n",
    "import string\n",
    "import math\n",
    "\n",
    "import scipy.stats as sts\n",
    "\n",
    "import matplotlib.pyplot as plt\n",
    "import matplotlib.gridspec as gridspec\n",
    "import seaborn as sns\n",
    "\n",
    "from sklearn import preprocessing as prep\n",
    "import sklearn.metrics as metrics\n",
    "import sklearn.model_selection as model_selection\n",
    "from sklearn import discriminant_analysis as disan\n",
    "from sklearn import calibration as calib\n",
    "from sklearn import linear_model as lm\n",
    "from sklearn import svm\n",
    "from sklearn import gaussian_process as gaup\n",
    "from sklearn import mixture as mix\n",
    "from sklearn import tree\n",
    "from sklearn import ensemble as ens\n",
    "\n",
    "import tensorflow as tf\n",
    "from tensorflow import keras\n",
    "# from keras import models as kermdls\n",
    "# from keras import layers as kerlrs\n",
    "# from keras import metrics as kmetrics\n",
    "\n",
    "from hyperas import optim\n",
    "from hyperas.distributions import choice, uniform\n",
    "from hyperopt import Trials, STATUS_OK, tpe\n",
    "\n",
    "import pickle"
   ]
  },
  {
   "cell_type": "code",
   "execution_count": 28,
   "metadata": {},
   "outputs": [
    {
     "name": "stdout",
     "output_type": "stream",
     "text": [
      "['/device:CPU:0', '/device:XLA_CPU:0', '/device:XLA_GPU:0']\n"
     ]
    }
   ],
   "source": [
    "from tensorflow.python.client import device_lib\n",
    "\n",
    "def get_available_devices():\n",
    "    local_device_protos = device_lib.list_local_devices()\n",
    "    return [x.name for x in local_device_protos]\n",
    "\n",
    "print(get_available_devices())"
   ]
  },
  {
   "cell_type": "markdown",
   "metadata": {},
   "source": [
    "## Helper Functions"
   ]
  },
  {
   "cell_type": "markdown",
   "metadata": {},
   "source": [
    "#### Helper functions for plotting"
   ]
  },
  {
   "cell_type": "code",
   "execution_count": 29,
   "metadata": {
    "jupyter": {
     "source_hidden": true
    }
   },
   "outputs": [],
   "source": [
    "def plot_bar_diagram(ax, data, nested=False, plots_labels=None, plots_colors=None, bar_labels='', width=0.4, title='', length_label='',\n",
    "                     orient='v', legend_loc=None, spines=None):\n",
    "    \"\"\"\n",
    "    Plots single or multiple bar diagrams with data labels on top(aside) of the bars\n",
    "    :param ax: matplotlib axes\n",
    "    :param data: pandas DataFrame where rows correspond to bar plots and columns correspond to data labels (columns in data)\n",
    "    :param nested: boolean. If True, bar plots are plotted on top of each other. If False bar plots are plotted besides each other\n",
    "    :param bar_labels: pandas DataFrame. labels over the bars. Should be same shape as data\n",
    "    :param width: float. Bar width\n",
    "    :param title: string. Plot title\n",
    "    :param length_label: bar height/width axis label\n",
    "    :param spines: dictionary of booleans. indicates to plot borders or not. Keys=['left', 'right', 'top', 'bottom'], values=True/False\n",
    "    :param orient: string. Bar orientation: 'v'-vertical; 'h'-horisontal\n",
    "    \"\"\"\n",
    "    bars = list(data.index)\n",
    "    cols = list(data.columns)\n",
    "    cells = data.values.tolist()\n",
    "\n",
    "    if bar_labels is not None:\n",
    "        for i, lab in enumerate(bars):\n",
    "            labels = ([f\"{j:.4f}\" for j in cells[i]] if bar_labels=='' else bar_labels[i])\n",
    "\n",
    "    if orient == 'v':\n",
    "        for i, lab in enumerate(bars):\n",
    "            label = (bars[i] if plots_labels is None else plots_labels[i])\n",
    "            color = ('r' if plots_colors is None else plots_colors[i])\n",
    "            x = np.arange(len(cols))\n",
    "            bar = ax.bar(x=x + width * (i - len(bars) / 2), height=cells[i], width=width,\n",
    "                         label=label,\n",
    "                         color=color,\n",
    "                         align=('center' if nested else 'edge'))\n",
    "            if bar_labels is not None:\n",
    "                autolabel(bar, ax, labels, oriented='v')\n",
    "\n",
    "        ax.set_xticks(np.arange(len(cols)))\n",
    "        ax.set_xticklabels(cols)\n",
    "        if not length_label=='':\n",
    "            ax.set_ylabel(length_label)\n",
    "    elif orient == 'h':\n",
    "        for i, lab in enumerate(bars):\n",
    "            label = (bars[i] if plots_labels is None else plots_labels[i])\n",
    "            y = np.arange(len(cols))\n",
    "            height = width\n",
    "            bar = ax.barh(y=y + height * (i - len(bars) / 2), width=cells[i], height=width,\n",
    "                          label=label,\n",
    "                          color=plots_colors[i],\n",
    "                          align=('center' if nested else 'edge'))\n",
    "            if bar_labels is not None:\n",
    "                autolabel(bar, ax, labels, oriented='h')\n",
    "\n",
    "        ax.set_yticks(np.arange(len(cols)))\n",
    "        ax.set_yticklabels(cols)\n",
    "        if not length_label=='':\n",
    "            ax.set_xlabel(length_label)\n",
    "    else:\n",
    "        raise ValueError('orient parameter value error. expected v or h ')\n",
    "\n",
    "    if not title == '':\n",
    "        ttl = ax.title\n",
    "        ttl.set_position([.5, 1.07])\n",
    "        ax.set_title(title)\n",
    "    if legend_loc is not None:\n",
    "        ax.legend(loc=legend_loc)\n",
    "    else:\n",
    "        ax.legend().set_visible(False)\n",
    "\n",
    "    if spines is None:\n",
    "        spines = {'left': True,\n",
    "                  'right': True,\n",
    "                  'top': True,\n",
    "                  'bottom': True}\n",
    "    for i in list(spines.keys()):\n",
    "        ax.spines[i].set_visible(spines[i])\n",
    "\n",
    "def autolabel(bars, ax, labels, oriented='v'):\n",
    "    \"\"\"Attach a text label displaying its height/width (depends of orientation).\"\"\"\n",
    "    for bar, label in zip(bars, labels):\n",
    "        if oriented == 'v':\n",
    "            height = bar.get_height()\n",
    "            ax.annotate(label,\n",
    "                        xy=(bar.get_x() + bar.get_width() / 2, height),\n",
    "                        xytext=(0, 2),\n",
    "                        textcoords=\"offset points\",\n",
    "                        ha='center')\n",
    "        else:\n",
    "            width = bar.get_width()\n",
    "            ax.annotate(label,\n",
    "                        xy=(width, bar.get_y() + bar.get_height() / 2),\n",
    "                        xytext=(1, 0),\n",
    "                        textcoords=\"offset points\",\n",
    "                        ha='left',\n",
    "                        va='center')\n",
    "\n",
    "def plot_correlation_matrix(ax, data, cmap='hot', diagonal=False, square=True):\n",
    "    mask = None\n",
    "    if diagonal:\n",
    "        mask = np.zeros_like(data, dtype=np.bool)\n",
    "        mask[np.triu_indices_from(mask)] = True\n",
    "    sns.heatmap(data, ax=ax,\n",
    "                mask=mask,\n",
    "                square=square,\n",
    "                linewidths=1.5,\n",
    "                cmap=cmap,\n",
    "                cbar_kws={'shrink': 1, 'ticks': [-1, -.5, 0, 0.5, 1]},\n",
    "                vmin=-1,\n",
    "                vmax=1,\n",
    "                annot=True,\n",
    "                annot_kws={'size': 8})\n",
    "    ax.set_xticklabels(ax.get_xticklabels(), rotation=45, horizontalalignment='right')\n",
    "    \n",
    "def plot_confusion_matrix(model, X, y, ax, normalize=True, title=None):\n",
    "    \"\"\"Plots confusion matrix\n",
    "    Parameters:\n",
    "    ax =  matplotlib axes\n",
    "    normalyze = normalization over truth (number_predicted / total_count_of_this_class)\n",
    "    \"\"\"\n",
    "    model.fit(X,y)\n",
    "    conf_matrix = metrics.confusion_matrix(y_true=y, y_pred=model.predict(X),\n",
    "                              labels=None)  # returns matrix for sorted classes (i.e 0, 1, 2,..., n)\n",
    "    classes = y.unique()\n",
    "    classes.sort()\n",
    "    n_classes = [len(y[y == c]) for c in classes]\n",
    "    if normalize == True:\n",
    "        n_matrix = [[i for j in range(len(n_classes))] for i in n_classes]\n",
    "        norm_matrix = conf_matrix / np.array(n_classes)\n",
    "        ns_matrix = np.array([[i for j in enumerate(n_classes)] for i in n_classes])\n",
    "        labels = np.array([[\"{0:.2%} \\n {1:d} of {2:d}\".format(norm_matrix[i, j], conf_matrix[i, j],\n",
    "                                                               ns_matrix[i, j]) for j, v in\n",
    "                            enumerate(norm_matrix[i])]\n",
    "                           for i, v in enumerate(norm_matrix)])\n",
    "\n",
    "        sns.heatmap(norm_matrix, annot=labels, fmt='', cmap='Blues')\n",
    "    else:\n",
    "        sns.heatmap(conf_matrix, annot=True, fmt='d', cmap='Blues')\n",
    "\n",
    "    ax.set_ylabel('True Labels')\n",
    "    ax.set_xlabel('Predicted Labels')\n",
    "    if title is None:\n",
    "        title = model.__class__.__name__\n",
    "    ax.set_title(title)\n",
    "    ttl = ax.title\n",
    "    ttl.set_position([.5, 1.07])\n",
    "\n",
    "    # fix for mpl bug that cuts off top/bottom of seaborn viz\n",
    "    b, t = ax.get_ylim()  # discover the values for bottom and top\n",
    "    b += 0.5  # Add 0.5 to the bottom\n",
    "    t -= 0.5  # Subtract 0.5 from the top\n",
    "    ax.set_ylim(b, t)  # update the ylim(bottom, top) values"
   ]
  },
  {
   "cell_type": "markdown",
   "metadata": {},
   "source": [
    "#### Helper functions for data preprocessing"
   ]
  },
  {
   "cell_type": "code",
   "execution_count": 30,
   "metadata": {
    "jupyter": {
     "source_hidden": true
    }
   },
   "outputs": [],
   "source": [
    "#Encode 'Name'\n",
    "def name_encoder(data):\n",
    "    data_encoded = []\n",
    "    for i in data['Name']:\n",
    "        lname0 = i.split(',')[0].strip() #last name\n",
    "        ttl = i.split(',')[1].split('.')[0].strip() #title\n",
    "        lname1 = (i.split('(')[-1].split(')')[0].split()[-1].strip() if '(' in i else '').replace('\\\"','') #second last name\n",
    "        data_encoded.append([lname0, lname1, ttl])\n",
    "    data_encoded = pd.DataFrame(data_encoded, columns=['lname0', 'lname1', 'ttl'], index=data.index)\n",
    "    return pd.concat([data.reset_index(drop=True), data_encoded], axis=1)\n",
    "\n",
    "def title_encoder(data):\n",
    "    mask = {'Don':'Mr',\n",
    "            'Sir':'Mr',\n",
    "            'Jonkheer':'Mr',\n",
    "            'Mme':'Mrs',\n",
    "            'Lady':'Mrs',\n",
    "            'the Countess':'Mrs',\n",
    "            'Dona':'Mrs',\n",
    "            'Mlle':'Miss',\n",
    "            'Ms':'Miss',\n",
    "            'Major':'Mr',\n",
    "            'Col':'Mr',\n",
    "            'Capt':'Mr',\n",
    "            'Rev':'Mr',\n",
    "            'Dr':'Mr'}\n",
    "    \n",
    "    data = name_encoder(data)\n",
    "    data['ttl'] = data['ttl'].apply(lambda i: mask[i] if i in mask else i)\n",
    "    if 797 in data['PassengerId'].values:\n",
    "        data.loc[data_tot['PassengerId']==797, 'ttl'] = 'Mrs'\n",
    "    mask = {'Mr':1, 'Mrs':2, 'Miss':3, 'Master':4}\n",
    "    data['ttl'] = data['ttl'].apply(lambda i: mask[i])\n",
    "    return data\n",
    "\n",
    "#Encoding 'Embarked'\n",
    "def embarked_encoder(data):\n",
    "    if len(data.loc[data['Embarked'].isnull()].index)>0:\n",
    "        data = data.fillna(value={'Embarked':'C'})\n",
    "    mask = {'C':0, 'S':1, 'Q':2}\n",
    "    data['Embarked'] = data['Embarked'].apply(lambda i: mask[i])\n",
    "    return data\n",
    "\n",
    "# Clean text function\n",
    "def clean_text(text):\n",
    "    text = ''.join([c for c in text if c not in string.punctuation]).strip()\n",
    "    text = ''.join(text.split())\n",
    "    return text\n",
    "\n",
    "# This function is used to return sub-groups by unique and non-unique tickets from a group by SibSP and Parch\n",
    "def grps_by_size(grp):\n",
    "    #group size > 1\n",
    "    grp1 = None\n",
    "    #group size == 1\n",
    "    grp0 = None\n",
    "    for g in grp.groups:\n",
    "        grp_ = grp.get_group(g)\n",
    "        if len(grp.get_group(g).index)>1:\n",
    "            if grp1 is None:\n",
    "                grp1 = grp_\n",
    "            else:\n",
    "                grp1 = pd.concat([grp1, grp_])\n",
    "        else:\n",
    "            if grp0 is None:\n",
    "                grp0 = grp_\n",
    "            else:\n",
    "                grp0 = pd.concat([grp0, grp_])\n",
    "    return (grp0, grp1)\n",
    "\n",
    "def get_family_groups(data):\n",
    "    families0 = data.loc[(data['SibSp']>0) & (data['Parch']==0)]\n",
    "    families1 = data.loc[data['Parch']>0]\n",
    "    singles = data.loc[(data['SibSp']==0) & (data['Parch']==0)]\n",
    "    \n",
    "    data['Ticket'] = data['Ticket'].apply(lambda i: clean_text(i))\n",
    "    \n",
    "    #singles\n",
    "    sig_grp = singles.groupby('Ticket')\n",
    "    #families NO children\n",
    "    fam0_grp = families0.groupby('Ticket')\n",
    "    #families w/children\n",
    "    fam1_grp = families1.groupby('Ticket')\n",
    "\n",
    "    #no family, unique ticket\n",
    "    sig0 = grps_by_size(sig_grp)[0]\n",
    "    #no family, matching tickets\n",
    "    sig1 = grps_by_size(sig_grp)[1]\n",
    "    #has family, no children, unique ticket\n",
    "    fam0 = grps_by_size(fam0_grp)[0]\n",
    "    #has family, no children, matching ticket\n",
    "    fam1 = grps_by_size(fam0_grp)[1]\n",
    "    #has family, has children, unique ticket\n",
    "    famch0 = grps_by_size(fam1_grp)[0]\n",
    "    #has family, has children, matching ticket\n",
    "    famch1 = grps_by_size(fam1_grp)[1]\n",
    "    return [sig0, sig1, fam0, fam1, famch0, famch1]\n",
    "\n",
    "def get_fgrp_mask(data):\n",
    "    # Family groups\n",
    "    fam_grps = get_family_groups(data)\n",
    "    \n",
    "    # Make a mask of family groups labels\n",
    "    fgrp_mask = {}\n",
    "    for idx, grp in enumerate(fam_grps):\n",
    "        for pid in grp['PassengerId']:\n",
    "            fgrp_mask[pid] = idx\n",
    "    return fgrp_mask\n",
    "\n",
    "def get_fare_mask(data):\n",
    "    data['Ticket'] = data['Ticket'].apply(lambda i: clean_text(i))\n",
    "    # Make a mask of ticket fare\n",
    "    data = data.fillna(value={'Fare':0})\n",
    "    fare_mask = {}\n",
    "    for tic in data['Ticket'].unique():\n",
    "        # subgroup with matching tickets\n",
    "        tic_grp = data.loc[data['Ticket']==tic]\n",
    "\n",
    "        # passenger class that the subgroup belongs to\n",
    "        c = tic_grp['Pclass'].values[0]\n",
    "\n",
    "        # ticket fare of the subgroup\n",
    "        # all subgroup members have the same ticket fare initially\n",
    "        fare_grp = tic_grp['Fare'].values[0]\n",
    "\n",
    "        # if a subgroup fare is 0 then assign a mean of the fare of the Pclass that the subgroup belongs to\n",
    "        if fare_grp == 0:\n",
    "            fare_i = np.mean(data.loc[data['Pclass']==c, 'Fare'])\n",
    "            for pid in tic_grp['PassengerId']:\n",
    "                fare_mask[pid] = fare_i\n",
    "\n",
    "        # recalculate fare for subrgoup members: fare_i = group_fare / n_members\n",
    "        if len(tic_grp.index) > 1:\n",
    "            if fare_grp > 0:\n",
    "                if np.mean(tic_grp['Fare'])==fare_grp: #check if all group members have same fare\n",
    "                    fare_i = fare_grp / len(tic_grp.index)\n",
    "                    for pid in tic_grp['PassengerId']:\n",
    "                        fare_mask[pid] = fare_i\n",
    "                else:\n",
    "                    for pid in tic_grp['PassengerId']:\n",
    "                        fare_mask[pid] = tic_grp.loc[tic_grp['PassengerId']==pid, 'Fare'].values[0]\n",
    "        # keep fare value for passengers with unuque tickets\n",
    "        else:\n",
    "            if fare_grp > 0:\n",
    "                fare_i = fare_grp\n",
    "                for pid in tic_grp['PassengerId']:\n",
    "                    fare_mask[pid] = fare_i\n",
    "    return fare_mask\n",
    "\n",
    "def get_ticket_mask(data):\n",
    "    data['Ticket'] = data['Ticket'].apply(lambda i: clean_text(i))\n",
    "    # Make a mask of ticket codes\n",
    "    # For ticket IDs that belongs to multiple passengers, set 1 othervise set 0\n",
    "    m_tickets = []\n",
    "    for tic in data['Ticket'].unique():\n",
    "        if len(data.loc[data['Ticket']==tic].index) > 1:\n",
    "            m_tickets.append(tic)\n",
    "\n",
    "    ticket_mask = {}        \n",
    "    for pid in data['PassengerId']:\n",
    "        tic = data.loc[data['PassengerId']==pid, 'Ticket'].values[0]\n",
    "        if tic in m_tickets:\n",
    "            ticket_mask[pid] = 1\n",
    "        else:\n",
    "            ticket_mask[pid] = 0\n",
    "    return ticket_mask\n",
    "\n",
    "# Encode family groups\n",
    "# This function adds new class variable 'fgrp' that indicates a group that a passenger belongs to.\n",
    "def family_groups_encoder(data, fgrp_mask):\n",
    "    # assign a label\n",
    "    data['fgrp'] = data['PassengerId'].apply(lambda i: fgrp_mask[i])\n",
    "    # replace labels with corresponding counts\n",
    "    data['fgrp'] = data['fgrp'].apply(lambda i: len(data.loc[data['fgrp']==i].index))\n",
    "    return data\n",
    "\n",
    "# Recalculate ticket fare in the family groups and fill missing values with a mean for corresponding passenger class and then log-transform.\n",
    "def fare_encoder(data, fare_mask):\n",
    "    data['Fare'] = data['PassengerId'].apply(lambda i: fare_mask[i])\n",
    "    data['Fare'] = data['Fare'].apply(np.log)\n",
    "    return data\n",
    "\n",
    "# Encode tickets\n",
    "def ticket_encoder(data, ticket_mask):\n",
    "    data['Ticket'] = data['PassengerId'].apply(lambda i: ticket_mask[i])\n",
    "    return data\n",
    "\n",
    "# Encode 'Sex'\n",
    "def sex_encoder(data):\n",
    "    mask = {'male':0, 'female':1}\n",
    "    data['Sex'] = data['Sex'].apply(lambda i: mask[i])\n",
    "    return data\n",
    "\n",
    "# Add family size\n",
    "def fam_size(data):\n",
    "    data['famsize'] = data['SibSp'] + data['Parch']\n",
    "    return data\n",
    "\n",
    "#Encoding 'Pclass' (to labels 0,1,2)\n",
    "def pclass_encoder(data):\n",
    "    data['Pclass'] = data['Pclass'].apply(lambda i: i-1)\n",
    "    return data\n",
    "\n",
    "def age_transformer(data, cluster_model):\n",
    "    data['Age'] = data['Age'].apply(np.log)\n",
    "    X = data['Age'].to_frame()\n",
    "    data['Age_cls'] = cluster_model.predict(X)\n",
    "    data['Age_cls'] = data['Age_cls'].astype(int)\n",
    "    return data"
   ]
  },
  {
   "cell_type": "markdown",
   "metadata": {},
   "source": [
    "#### Helper functions for model training"
   ]
  },
  {
   "cell_type": "code",
   "execution_count": 31,
   "metadata": {
    "jupyter": {
     "source_hidden": true
    }
   },
   "outputs": [],
   "source": [
    "# Tune parameters\n",
    "def param_tune(model, X_train, y_train, param_ranges, scoring, cv, refit=''):\n",
    "    if refit == '': refit = list(scoring.keys())[0]\n",
    "    gsearch = model_selection.GridSearchCV(estimator=model, param_grid=param_ranges, scoring=scoring, cv=cv, refit=refit, return_train_score=True,\n",
    "                           n_jobs=-1)\n",
    "    gsearch.fit(X_train, y_train)\n",
    "    cv_res = pd.DataFrame(gsearch.cv_results_)\n",
    "    cv_res_sel = []\n",
    "    for i in list(scoring.keys()):\n",
    "        df = cv_res.loc[cv_res['rank_test_%s' % i] == 1].head(1)\n",
    "        cv_res_sel.append(df[['mean_train_%s' % i, 'std_train_%s' % i, 'mean_test_%s' % i, 'std_test_%s' % i]].values[0])\n",
    "\n",
    "    cv_res_sel = pd.DataFrame(cv_res_sel, index=list(scoring.keys()), columns=['mean_train', 'std_train', 'mean_test', 'std_test'])\n",
    "    cv_results = cv_res_sel.T\n",
    "    cv_results = cv_results.apply(lambda i: np.absolute(i))\n",
    "    return gsearch.best_estimator_, gsearch.best_params_, gsearch.best_score_, cv_results\n",
    "\n",
    "# Cross-validation report\n",
    "def cv_rep(model, X, y, cv, scoring):\n",
    "    cv_res = model_selection.cross_validate(model, X, y, scoring=scoring, cv=cv, return_train_score=True, n_jobs=-1)\n",
    "    cv_res = [[np.mean(cv_res['train_%s' % i]), np.std(cv_res['train_%s' % i]), np.mean(cv_res['test_%s' % i]), np.std(cv_res['test_%s' % i])] for i in list(scoring.keys())]\n",
    "    cv_results = pd.DataFrame(cv_res, index=list(scoring.keys()), columns=['mean_train', 'std_train', 'mean_test', 'std_test'])\n",
    "    cv_results = cv_results.T\n",
    "    cv_results = cv_results.apply(lambda i: np.absolute(i))\n",
    "    return cv_results\n",
    "\n",
    "# Tune model parameters and print CV report\n",
    "def train_best_model(model, param_ranges, X_train, y_train, scoring, cv, refit):\n",
    "    model, best_params, best_score, cv_res = param_tune(model, X_train, y_train, param_ranges, scoring, cv, refit=refit)\n",
    "    print(cv_res)\n",
    "    print(best_params)\n",
    "    return model, cv_res\n",
    "\n",
    "# Tune model parameters and print CV report for calibrated classifier model\n",
    "def train_best_model_cal(model, param_ranges, X_train, y_train, scoring, cv, refit):\n",
    "    if model.__class__.__name__=='CalibratedClassifierCV':\n",
    "         model_cal= model \n",
    "    else:\n",
    "        model_cal = calib.CalibratedClassifierCV(base_estimator=model, method='sigmoid', cv=cv)\n",
    "    model_cal, best_params, best_score, cv_res = param_tune(model_cal, X_train, y_train, param_ranges, scoring, cv, refit=refit)\n",
    "    print(cv_res)\n",
    "    print(best_params)\n",
    "    return model, cv_res\n",
    "\n",
    "def roc_auc_score_ovr(y_true, y_score):\n",
    "    return metrics.roc_auc_score(y_true, y_score, average='macro', sample_weight=None, max_fpr=None,\n",
    "                                 multi_class='ovr', labels=None)\n",
    "\n",
    "def roc_auc_score_ovo(y_true, y_score):\n",
    "    return metrics.roc_auc_score(y_true, y_score, average='macro', sample_weight=None, max_fpr=None,\n",
    "                                 multi_class='ovo', labels=None)"
   ]
  },
  {
   "cell_type": "markdown",
   "metadata": {},
   "source": [
    "### Import data"
   ]
  },
  {
   "cell_type": "code",
   "execution_count": 32,
   "metadata": {},
   "outputs": [],
   "source": [
    "#import train dataset\n",
    "data_train = pd.read_csv('train.csv')\n",
    "\n",
    "#import test dataset\n",
    "data_test = pd.read_csv('test.csv')"
   ]
  },
  {
   "cell_type": "code",
   "execution_count": 33,
   "metadata": {},
   "outputs": [],
   "source": [
    "# Concatinate train & test data\n",
    "data_tot = pd.concat([data_train, data_test], ignore_index=True)"
   ]
  },
  {
   "cell_type": "code",
   "execution_count": 34,
   "metadata": {},
   "outputs": [],
   "source": [
    "# get fgrp mask\n",
    "fgrp_mask = get_fgrp_mask(data_tot)\n",
    "# get fare mask\n",
    "fare_mask = get_fare_mask(data_tot)\n",
    "# get ticket mask\n",
    "ticket_mask = get_ticket_mask(data_tot)"
   ]
  },
  {
   "cell_type": "markdown",
   "metadata": {},
   "source": [
    "### Age prediction"
   ]
  },
  {
   "cell_type": "code",
   "execution_count": 35,
   "metadata": {},
   "outputs": [],
   "source": [
    "#Define clustering model\n",
    "age_clast_model = mix.BayesianGaussianMixture(n_components=3, \n",
    "                                              covariance_type='spherical', \n",
    "                                              init_params='kmeans', \n",
    "                                              weight_concentration_prior_type='dirichlet_distribution', \n",
    "                                              max_iter=1000,\n",
    "                                              random_state=30)\n",
    "\n",
    "#Fit model\n",
    "X = data_tot['Age'].dropna().copy().apply(np.log).to_frame()\n",
    "age_clast_model = age_clast_model.fit(X)"
   ]
  },
  {
   "cell_type": "markdown",
   "metadata": {},
   "source": [
    "### Preprocess data\n",
    "\n",
    "Use transformer functions defined above.\n",
    "Also drop Sex as it is highly correlated with ttl. Basicaly the ttl already contains gender information."
   ]
  },
  {
   "cell_type": "code",
   "execution_count": 47,
   "metadata": {},
   "outputs": [],
   "source": [
    "data = family_groups_encoder(data_tot.copy(), fgrp_mask)\n",
    "data = fare_encoder(data, fare_mask)\n",
    "data = ticket_encoder(data, ticket_mask)\n",
    "data = title_encoder(data)\n",
    "data = sex_encoder(data)\n",
    "data = fam_size(data)\n",
    "data = embarked_encoder(data)\n",
    "data = pclass_encoder(data)\n",
    "\n",
    "data = data[data['Age'].notna()].copy()\n",
    "data = age_transformer(data, age_clast_model)\n",
    "\n",
    "data = data[['Age', 'Age_cls', 'Fare', 'ttl', 'fgrp', 'famsize', 'Ticket', 'Pclass', 'Embarked']]\n",
    "data = pd.get_dummies(data, columns=['ttl', 'Pclass', 'Embarked'])\n",
    "\n",
    "# scaler = prep.StandardScaler(copy=False, with_mean=False, with_std=True)\n",
    "# data['fgrp'] = scaler.fit_transform(np.array(data['fgrp']).reshape(-1,1))\n",
    "\n",
    "data['Age'] = data['Age'].apply(np.exp)\n",
    "data['Fare'] = data['Fare'].apply(np.exp)\n",
    "\n",
    "data.to_csv('age_data.csv', index=False)"
   ]
  },
  {
   "cell_type": "code",
   "execution_count": 48,
   "metadata": {},
   "outputs": [
    {
     "data": {
      "text/html": [
       "<div>\n",
       "<style scoped>\n",
       "    .dataframe tbody tr th:only-of-type {\n",
       "        vertical-align: middle;\n",
       "    }\n",
       "\n",
       "    .dataframe tbody tr th {\n",
       "        vertical-align: top;\n",
       "    }\n",
       "\n",
       "    .dataframe thead th {\n",
       "        text-align: right;\n",
       "    }\n",
       "</style>\n",
       "<table border=\"1\" class=\"dataframe\">\n",
       "  <thead>\n",
       "    <tr style=\"text-align: right;\">\n",
       "      <th></th>\n",
       "      <th>Age</th>\n",
       "      <th>Age_cls</th>\n",
       "      <th>Fare</th>\n",
       "      <th>fgrp</th>\n",
       "      <th>famsize</th>\n",
       "      <th>Ticket</th>\n",
       "      <th>ttl_1</th>\n",
       "      <th>ttl_2</th>\n",
       "      <th>ttl_3</th>\n",
       "      <th>ttl_4</th>\n",
       "      <th>Pclass_0</th>\n",
       "      <th>Pclass_1</th>\n",
       "      <th>Pclass_2</th>\n",
       "      <th>Embarked_0</th>\n",
       "      <th>Embarked_1</th>\n",
       "      <th>Embarked_2</th>\n",
       "    </tr>\n",
       "  </thead>\n",
       "  <tbody>\n",
       "    <tr>\n",
       "      <th>0</th>\n",
       "      <td>22.0</td>\n",
       "      <td>2</td>\n",
       "      <td>7.25000</td>\n",
       "      <td>38</td>\n",
       "      <td>1</td>\n",
       "      <td>0</td>\n",
       "      <td>1</td>\n",
       "      <td>0</td>\n",
       "      <td>0</td>\n",
       "      <td>0</td>\n",
       "      <td>0</td>\n",
       "      <td>0</td>\n",
       "      <td>1</td>\n",
       "      <td>0</td>\n",
       "      <td>1</td>\n",
       "      <td>0</td>\n",
       "    </tr>\n",
       "    <tr>\n",
       "      <th>1</th>\n",
       "      <td>38.0</td>\n",
       "      <td>0</td>\n",
       "      <td>35.64165</td>\n",
       "      <td>174</td>\n",
       "      <td>1</td>\n",
       "      <td>1</td>\n",
       "      <td>0</td>\n",
       "      <td>1</td>\n",
       "      <td>0</td>\n",
       "      <td>0</td>\n",
       "      <td>1</td>\n",
       "      <td>0</td>\n",
       "      <td>0</td>\n",
       "      <td>1</td>\n",
       "      <td>0</td>\n",
       "      <td>0</td>\n",
       "    </tr>\n",
       "    <tr>\n",
       "      <th>2</th>\n",
       "      <td>26.0</td>\n",
       "      <td>2</td>\n",
       "      <td>7.92500</td>\n",
       "      <td>682</td>\n",
       "      <td>0</td>\n",
       "      <td>0</td>\n",
       "      <td>0</td>\n",
       "      <td>0</td>\n",
       "      <td>1</td>\n",
       "      <td>0</td>\n",
       "      <td>0</td>\n",
       "      <td>0</td>\n",
       "      <td>1</td>\n",
       "      <td>0</td>\n",
       "      <td>1</td>\n",
       "      <td>0</td>\n",
       "    </tr>\n",
       "    <tr>\n",
       "      <th>3</th>\n",
       "      <td>35.0</td>\n",
       "      <td>0</td>\n",
       "      <td>26.55000</td>\n",
       "      <td>174</td>\n",
       "      <td>1</td>\n",
       "      <td>1</td>\n",
       "      <td>0</td>\n",
       "      <td>1</td>\n",
       "      <td>0</td>\n",
       "      <td>0</td>\n",
       "      <td>1</td>\n",
       "      <td>0</td>\n",
       "      <td>0</td>\n",
       "      <td>0</td>\n",
       "      <td>1</td>\n",
       "      <td>0</td>\n",
       "    </tr>\n",
       "    <tr>\n",
       "      <th>4</th>\n",
       "      <td>35.0</td>\n",
       "      <td>0</td>\n",
       "      <td>8.05000</td>\n",
       "      <td>682</td>\n",
       "      <td>0</td>\n",
       "      <td>0</td>\n",
       "      <td>1</td>\n",
       "      <td>0</td>\n",
       "      <td>0</td>\n",
       "      <td>0</td>\n",
       "      <td>0</td>\n",
       "      <td>0</td>\n",
       "      <td>1</td>\n",
       "      <td>0</td>\n",
       "      <td>1</td>\n",
       "      <td>0</td>\n",
       "    </tr>\n",
       "  </tbody>\n",
       "</table>\n",
       "</div>"
      ],
      "text/plain": [
       "    Age  Age_cls      Fare  fgrp  famsize  Ticket  ttl_1  ttl_2  ttl_3  ttl_4  \\\n",
       "0  22.0        2   7.25000    38        1       0      1      0      0      0   \n",
       "1  38.0        0  35.64165   174        1       1      0      1      0      0   \n",
       "2  26.0        2   7.92500   682        0       0      0      0      1      0   \n",
       "3  35.0        0  26.55000   174        1       1      0      1      0      0   \n",
       "4  35.0        0   8.05000   682        0       0      1      0      0      0   \n",
       "\n",
       "   Pclass_0  Pclass_1  Pclass_2  Embarked_0  Embarked_1  Embarked_2  \n",
       "0         0         0         1           0           1           0  \n",
       "1         1         0         0           1           0           0  \n",
       "2         0         0         1           0           1           0  \n",
       "3         1         0         0           0           1           0  \n",
       "4         0         0         1           0           1           0  "
      ]
     },
     "execution_count": 48,
     "metadata": {},
     "output_type": "execute_result"
    }
   ],
   "source": [
    "data.head(5)"
   ]
  },
  {
   "cell_type": "code",
   "execution_count": 49,
   "metadata": {},
   "outputs": [
    {
     "data": {
      "text/plain": [
       "['Age',\n",
       " 'Age_cls',\n",
       " 'Fare',\n",
       " 'fgrp',\n",
       " 'famsize',\n",
       " 'Ticket',\n",
       " 'ttl_1',\n",
       " 'ttl_2',\n",
       " 'ttl_3',\n",
       " 'ttl_4',\n",
       " 'Pclass_0',\n",
       " 'Pclass_1',\n",
       " 'Pclass_2',\n",
       " 'Embarked_0',\n",
       " 'Embarked_1',\n",
       " 'Embarked_2']"
      ]
     },
     "execution_count": 49,
     "metadata": {},
     "output_type": "execute_result"
    }
   ],
   "source": [
    "data.columns.to_list()"
   ]
  },
  {
   "cell_type": "markdown",
   "metadata": {},
   "source": [
    "### Train classification model for age class prediction"
   ]
  },
  {
   "cell_type": "code",
   "execution_count": 2,
   "metadata": {},
   "outputs": [],
   "source": [
    "def data():\n",
    "    df = pd.read_csv('age_data.csv')\n",
    "    selected_features = df.columns.to_list()\n",
    "    selected_features = selected_features[2:]\n",
    "    target = 'Age_cls'\n",
    "    \n",
    "    train, test = model_selection.train_test_split(df, test_size=0.2)\n",
    "    train, val = model_selection.train_test_split(train, test_size=0.2)\n",
    "    X_train = train[selected_features]\n",
    "    X_val = val[selected_features]\n",
    "    Y_train = train[target]\n",
    "    Y_val = val[target]\n",
    "    \n",
    "    scaler = prep.StandardScaler(copy=False, with_mean=True, with_std=True)\n",
    "    X_train = scaler.fit_transform(X_train)\n",
    "    X_val = scaler.fit_transform(X_val)\n",
    "    \n",
    "    Y_train = keras.utils.to_categorical(Y_train, 3)\n",
    "    Y_val = keras.utils.to_categorical(Y_val, 3)\n",
    "    return X_train, Y_train, X_val, Y_val"
   ]
  },
  {
   "cell_type": "code",
   "execution_count": 3,
   "metadata": {},
   "outputs": [],
   "source": [
    "def create_model(X_train, Y_train, X_val, Y_val):\n",
    "    \n",
    "    class_weights = {}\n",
    "    for i in range(Y_train.shape[1]):\n",
    "        class_weights[i] = Y_train.shape[0] / Y_train[Y_train[:,i]==1].shape[0] / 2\n",
    "    \n",
    "    # select features\n",
    "    selected_features=['Fare',\n",
    "                   'fgrp',\n",
    "                   'famsize',\n",
    "                   'Ticket',\n",
    "                   'ttl_1',\n",
    "                   'ttl_2',\n",
    "                   'ttl_3',\n",
    "                   'ttl_4', \n",
    "                   'Pclass_0',\n",
    "                   'Pclass_1',\n",
    "                   'Pclass_2',\n",
    "                   'Embarked_0',\n",
    "                   'Embarked_1',\n",
    "                   'Embarked_2']\n",
    "    \n",
    "    # model\n",
    "    model = keras.Sequential()\n",
    "    \n",
    "    # input\n",
    "    model.add(keras.layers.Dense({{choice([32,64,128])}}, \n",
    "                                 input_dim=len(selected_features),\n",
    "                                 kernel_initializer=keras.initializers.he_normal(seed=30),\n",
    "                                 bias_initializer=keras.initializers.Constant({{uniform(0.01,0.5)}})))\n",
    "    model.add(keras.layers.Activation(keras.layers.LeakyReLU(alpha={{uniform(0.05,0.2)}})))\n",
    "    \n",
    "    # hidden layers\n",
    "    nh_relu = {{choice([2,4,6])}}\n",
    "    nh_tanh = {{choice([2,4,6])}}\n",
    "    nh_sig = {{choice([2,4,6])}}\n",
    "    \n",
    "    is_relu = {{choice([True,False])}}\n",
    "    is_tanh = {{choice([True,False])}}\n",
    "    is_sig = {{choice([True,False])}}\n",
    "    \n",
    "    if is_relu==True:\n",
    "        for i in range(nh_relu):\n",
    "            model.add(keras.layers.Dense({{choice([32,64])}},\n",
    "                                     kernel_initializer=keras.initializers.he_normal(seed=30),\n",
    "                                     bias_initializer=keras.initializers.Constant({{uniform(0.01,0.5)}})))\n",
    "            model.add(keras.layers.Activation(keras.layers.LeakyReLU(alpha={{uniform(0.05,0.2)}})))\n",
    "            model.add(keras.layers.Dropout(rate={{uniform(0.05,0.2)}}, seed=30))\n",
    "    \n",
    "    if is_tanh==True:\n",
    "        for i in range(nh_tanh):\n",
    "            model.add(keras.layers.Dense({{choice([32,64])}},\n",
    "                                     kernel_initializer=keras.initializers.glorot_normal(seed=30),\n",
    "                                     bias_initializer=keras.initializers.Constant({{uniform(0.01,0.5)}})))\n",
    "            model.add(keras.layers.Activation('tanh'))\n",
    "            model.add(keras.layers.Dropout(rate={{uniform(0.05,0.2)}}, seed=30))\n",
    "        \n",
    "    if is_sig==True:    \n",
    "        for i in range(nh_sig):\n",
    "            model.add(keras.layers.Dense({{choice([32,64])}},\n",
    "                                     kernel_initializer=keras.initializers.glorot_normal(seed=30),\n",
    "                                     bias_initializer=keras.initializers.Constant({{uniform(0.01,0.5)}})))\n",
    "            model.add(keras.layers.Activation('sigmoid'))\n",
    "            model.add(keras.layers.Dropout(rate={{uniform(0.05,0.2)}}, seed=30))\n",
    "    \n",
    "    # output    \n",
    "    model.add(keras.layers.Dense(3,\n",
    "                                 kernel_initializer=keras.initializers.glorot_normal(seed=30),\n",
    "                                 bias_initializer=keras.initializers.Constant({{uniform(0.01,0.5)}})))\n",
    "    model.add(keras.layers.Activation('sigmoid'))\n",
    "    \n",
    "    # optimizers\n",
    "    optim = keras.optimizers.Adam(lr={{uniform(0.00001,0.001)}},\n",
    "                                 beta_1={{uniform(0.8,0.999)}},\n",
    "                                 beta_2={{uniform(0.8,0.999)}},\n",
    "                                 amsgrad={{choice([True,False])}})\n",
    "        \n",
    "    METRICS = [keras.metrics.CategoricalAccuracy(name='CategoricalAccuracy'),\n",
    "               keras.metrics.CategoricalCrossentropy(name='CategoricalCrossentropy'),\n",
    "               keras.metrics.AUC(name='AUC')]\n",
    "        \n",
    "    model.compile(loss='categorical_crossentropy', metrics=METRICS, optimizer=optim)\n",
    "    hist = model.fit(X_train, Y_train,\n",
    "              class_weight=class_weights,\n",
    "              batch_size=32,\n",
    "              epoch=200,\n",
    "              verbose=3,\n",
    "              validation_data=(X_val, Y_val))\n",
    "    \n",
    "    validation_acc = np.amax(hist.history['val_CategoricalAccuracy']) \n",
    "    return {'loss': -validation_acc, 'status': STATUS_OK, 'model': model}"
   ]
  },
  {
   "cell_type": "code",
   "execution_count": 3,
   "metadata": {
    "jupyter": {
     "source_hidden": true
    }
   },
   "outputs": [],
   "source": [
    "def create_model(X_train, Y_train, X_val, Y_val):\n",
    "    \n",
    "    class_weights = {}\n",
    "    for i in range(Y_train.shape[1]):\n",
    "        class_weights[i] = Y_train.shape[0] / Y_train[Y_train[:,i]==1].shape[0] / 2\n",
    "    \n",
    "    # select features\n",
    "    selected_features=['Fare',\n",
    "                   'fgrp',\n",
    "                   'famsize',\n",
    "                   'Ticket',\n",
    "                   'ttl_1',\n",
    "                   'ttl_2',\n",
    "                   'ttl_3',\n",
    "                   'ttl_4', \n",
    "                   'Pclass_0',\n",
    "                   'Pclass_1',\n",
    "                   'Pclass_2',\n",
    "                   'Embarked_0',\n",
    "                   'Embarked_1',\n",
    "                   'Embarked_2']\n",
    "    \n",
    "    # model\n",
    "    model = keras.Sequential()\n",
    "    \n",
    "    # input\n",
    "    model.add(keras.layers.Dense({{choice([32,64])}}, \n",
    "                             input_dim=len(selected_features),\n",
    "                             kernel_initializer=keras.initializers.he_normal(seed=30),\n",
    "                             bias_initializer=keras.initializers.Constant({{uniform(0.01,0.5)}})))\n",
    "    model.add(keras.layers.Activation(keras.layers.LeakyReLU(alpha={{uniform(0.05,0.2)}})))\n",
    "    model.add(keras.layers.Dropout(rate={{uniform(0.05,0.2)}}, seed=30))\n",
    "    \n",
    "    # hidden layers\n",
    "    nh_relu = {{choice([2,4,6])}}\n",
    "    nh_tanh = {{choice([2,4,6])}}\n",
    "    nh_sig = {{choice([2,4,6])}}\n",
    "    \n",
    "    for i in range(nh_relu):\n",
    "        model.add(keras.layers.Dense({{choice([32,64])}},\n",
    "                                 kernel_initializer=keras.initializers.he_normal(seed=30),\n",
    "                                 bias_initializer=keras.initializers.Constant({{uniform(0.01,0.5)}})))\n",
    "        model.add(keras.layers.Activation(keras.layers.LeakyReLU(alpha={{uniform(0.05,0.2)}})))\n",
    "        model.add(keras.layers.Dropout(rate={{uniform(0.05,0.2)}}, seed=30))\n",
    "\n",
    "    for i in range(nh_tanh):\n",
    "        model.add(keras.layers.Dense({{choice([32,64])}},\n",
    "                                 kernel_initializer=keras.initializers.glorot_normal(seed=30),\n",
    "                                 bias_initializer=keras.initializers.Constant({{uniform(0.01,0.5)}})))\n",
    "        model.add(keras.layers.Activation('tanh'))\n",
    "        model.add(keras.layers.Dropout(rate={{uniform(0.05,0.2)}}, seed=30))\n",
    "        \n",
    "    for i in range(nh_sig):\n",
    "        model.add(keras.layers.Dense({{choice([32,64])}},\n",
    "                                 kernel_initializer=keras.initializers.glorot_normal(seed=30),\n",
    "                                 bias_initializer=keras.initializers.Constant({{uniform(0.01,0.5)}})))\n",
    "        model.add(keras.layers.Activation('sigmoid'))\n",
    "        model.add(keras.layers.Dropout(rate={{uniform(0.05,0.2)}}, seed=30))\n",
    "    \n",
    "    # output  \n",
    "    model.add(keras.layers.Dense(3,\n",
    "                             kernel_initializer=keras.initializers.glorot_normal(seed=30),\n",
    "                             bias_initializer=keras.initializers.Constant({{uniform(0.01,0.5)}})))\n",
    "    model.add(keras.layers.Activation('sigmoid'))\n",
    "    \n",
    "    # optimizers\n",
    "    optim = keras.optimizers.Adam(lr={{uniform(0.00001,0.0001)}},\n",
    "                                 beta_1={{uniform(0.8,0.999)}},\n",
    "                                 beta_2={{uniform(0.8,0.999)}},\n",
    "                                 amsgrad={{choice([True,False])}})\n",
    "\n",
    "    METRICS = [keras.metrics.CategoricalAccuracy(name='CategoricalAccuracy'),\n",
    "               keras.metrics.CategoricalCrossentropy(name='CategoricalCrossentropy'),\n",
    "               keras.metrics.AUC(name='AUC')]\n",
    "\n",
    "    model.compile(loss='categorical_crossentropy', metrics=METRICS, optimizer=optim)\n",
    "    hist = model.fit(X_train, Y_train,\n",
    "              class_weight=class_weights,\n",
    "              batch_size=32,\n",
    "              epoch=200,\n",
    "              verbose=0,\n",
    "              validation_data=(X_val, Y_val))\n",
    "\n",
    "    validation_acc = np.amax(hist.history['val_AUC']) \n",
    "    print('Best validation acc of epoch:', validation_acc)\n",
    "    return {'loss': -validation_acc, 'status': STATUS_OK, 'model': model}"
   ]
  },
  {
   "cell_type": "code",
   "execution_count": 4,
   "metadata": {
    "collapsed": true,
    "jupyter": {
     "outputs_hidden": true,
     "source_hidden": true
    }
   },
   "outputs": [
    {
     "name": "stdout",
     "output_type": "stream",
     "text": [
      ">>> Imports:\n",
      "#coding=utf-8\n",
      "\n",
      "try:\n",
      "    from IPython.display import IFrame\n",
      "except:\n",
      "    pass\n",
      "\n",
      "try:\n",
      "    import pandas as pd\n",
      "except:\n",
      "    pass\n",
      "\n",
      "try:\n",
      "    import numpy as np\n",
      "except:\n",
      "    pass\n",
      "\n",
      "try:\n",
      "    import string\n",
      "except:\n",
      "    pass\n",
      "\n",
      "try:\n",
      "    import math\n",
      "except:\n",
      "    pass\n",
      "\n",
      "try:\n",
      "    import scipy.stats as sts\n",
      "except:\n",
      "    pass\n",
      "\n",
      "try:\n",
      "    import matplotlib.pyplot as plt\n",
      "except:\n",
      "    pass\n",
      "\n",
      "try:\n",
      "    import matplotlib.gridspec as gridspec\n",
      "except:\n",
      "    pass\n",
      "\n",
      "try:\n",
      "    import seaborn as sns\n",
      "except:\n",
      "    pass\n",
      "\n",
      "try:\n",
      "    from sklearn import preprocessing as prep\n",
      "except:\n",
      "    pass\n",
      "\n",
      "try:\n",
      "    import sklearn.metrics as metrics\n",
      "except:\n",
      "    pass\n",
      "\n",
      "try:\n",
      "    import sklearn.model_selection as model_selection\n",
      "except:\n",
      "    pass\n",
      "\n",
      "try:\n",
      "    from sklearn import discriminant_analysis as disan\n",
      "except:\n",
      "    pass\n",
      "\n",
      "try:\n",
      "    from sklearn import calibration as calib\n",
      "except:\n",
      "    pass\n",
      "\n",
      "try:\n",
      "    from sklearn import linear_model as lm\n",
      "except:\n",
      "    pass\n",
      "\n",
      "try:\n",
      "    from sklearn import svm\n",
      "except:\n",
      "    pass\n",
      "\n",
      "try:\n",
      "    from sklearn import gaussian_process as gaup\n",
      "except:\n",
      "    pass\n",
      "\n",
      "try:\n",
      "    from sklearn import mixture as mix\n",
      "except:\n",
      "    pass\n",
      "\n",
      "try:\n",
      "    from sklearn import tree\n",
      "except:\n",
      "    pass\n",
      "\n",
      "try:\n",
      "    from sklearn import ensemble as ens\n",
      "except:\n",
      "    pass\n",
      "\n",
      "try:\n",
      "    import tensorflow as tf\n",
      "except:\n",
      "    pass\n",
      "\n",
      "try:\n",
      "    from tensorflow import keras\n",
      "except:\n",
      "    pass\n",
      "\n",
      "try:\n",
      "    from hyperas import optim\n",
      "except:\n",
      "    pass\n",
      "\n",
      "try:\n",
      "    from hyperas.distributions import choice, uniform\n",
      "except:\n",
      "    pass\n",
      "\n",
      "try:\n",
      "    from hyperopt import Trials, STATUS_OK, tpe\n",
      "except:\n",
      "    pass\n",
      "\n",
      "try:\n",
      "    import pickle\n",
      "except:\n",
      "    pass\n",
      "\n",
      "try:\n",
      "    from tensorflow.python.client import device_lib\n",
      "except:\n",
      "    pass\n",
      "\n",
      ">>> Hyperas search space:\n",
      "\n",
      "def get_space():\n",
      "    return {\n",
      "        'Dense': hp.choice('Dense', [32,64,128]),\n",
      "        'Constant': hp.uniform('Constant', 0.01,0.5),\n",
      "        'alpha': hp.uniform('alpha', 0.05,0.2),\n",
      "        'nh_relu': hp.choice('nh_relu', [2,4,6]),\n",
      "        'nh_relu_1': hp.choice('nh_relu_1', [2,4,6]),\n",
      "        'nh_relu_2': hp.choice('nh_relu_2', [2,4,6]),\n",
      "        'is_relu': hp.choice('is_relu', [True,False]),\n",
      "        'is_relu_1': hp.choice('is_relu_1', [True,False]),\n",
      "        'is_relu_2': hp.choice('is_relu_2', [True,False]),\n",
      "        'Dense_1': hp.choice('Dense_1', [32,64]),\n",
      "        'Constant_1': hp.uniform('Constant_1', 0.01,0.5),\n",
      "        'alpha_1': hp.uniform('alpha_1', 0.05,0.2),\n",
      "        'alpha_2': hp.uniform('alpha_2', 0.05,0.2),\n",
      "        'Dense_2': hp.choice('Dense_2', [32,64]),\n",
      "        'Constant_2': hp.uniform('Constant_2', 0.01,0.5),\n",
      "        'alpha_3': hp.uniform('alpha_3', 0.05,0.2),\n",
      "        'Dense_3': hp.choice('Dense_3', [32,64]),\n",
      "        'Constant_3': hp.uniform('Constant_3', 0.01,0.5),\n",
      "        'alpha_4': hp.uniform('alpha_4', 0.05,0.2),\n",
      "        'Constant_4': hp.uniform('Constant_4', 0.01,0.5),\n",
      "        'lr': hp.uniform('lr', 0.00001,0.001),\n",
      "        'beta_1': hp.uniform('beta_1', 0.8,0.999),\n",
      "        'beta_1_1': hp.uniform('beta_1_1', 0.8,0.999),\n",
      "        'is_relu_3': hp.choice('is_relu_3', [True,False]),\n",
      "    }\n",
      "\n",
      ">>> Data\n",
      "  1: \n",
      "  2: df = pd.read_csv('age_data.csv')\n",
      "  3: selected_features = df.columns.to_list()\n",
      "  4: selected_features = selected_features[2:]\n",
      "  5: target = 'Age_cls'\n",
      "  6: \n",
      "  7: train, test = model_selection.train_test_split(df, test_size=0.2)\n",
      "  8: train, val = model_selection.train_test_split(train, test_size=0.2)\n",
      "  9: X_train = train[selected_features]\n",
      " 10: X_val = val[selected_features]\n",
      " 11: Y_train = train[target]\n",
      " 12: Y_val = val[target]\n",
      " 13: \n",
      " 14: scaler = prep.StandardScaler(copy=False, with_mean=True, with_std=True)\n",
      " 15: X_train = scaler.fit_transform(X_train)\n",
      " 16: X_val = scaler.fit_transform(X_val)\n",
      " 17: \n",
      " 18: Y_train = keras.utils.to_categorical(Y_train, 3)\n",
      " 19: Y_val = keras.utils.to_categorical(Y_val, 3)\n",
      " 20: \n",
      " 21: \n",
      " 22: \n",
      ">>> Resulting replaced keras model:\n",
      "\n",
      "   1: def keras_fmin_fnct(space):\n",
      "   2: \n",
      "   3:     \n",
      "   4:     class_weights = {}\n",
      "   5:     for i in range(Y_train.shape[1]):\n",
      "   6:         class_weights[i] = Y_train.shape[0] / Y_train[Y_train[:,i]==1].shape[0] / 2\n",
      "   7:     \n",
      "   8:     # select features\n",
      "   9:     selected_features=['Fare',\n",
      "  10:                    'fgrp',\n",
      "  11:                    'famsize',\n",
      "  12:                    'Ticket',\n",
      "  13:                    'ttl_1',\n",
      "  14:                    'ttl_2',\n",
      "  15:                    'ttl_3',\n",
      "  16:                    'ttl_4', \n",
      "  17:                    'Pclass_0',\n",
      "  18:                    'Pclass_1',\n",
      "  19:                    'Pclass_2',\n",
      "  20:                    'Embarked_0',\n",
      "  21:                    'Embarked_1',\n",
      "  22:                    'Embarked_2']\n",
      "  23:     \n",
      "  24:     # model\n",
      "  25:     model = keras.Sequential()\n",
      "  26:     \n",
      "  27:     # input\n",
      "  28:     model.add(keras.layers.Dense(space['Dense'], \n",
      "  29:                                  input_dim=len(selected_features),\n",
      "  30:                                  kernel_initializer=keras.initializers.he_normal(seed=30),\n",
      "  31:                                  bias_initializer=keras.initializers.Constant(space['Constant'])))\n",
      "  32:     model.add(keras.layers.Activation(keras.layers.LeakyReLU(alpha=space['alpha'])))\n",
      "  33:     \n",
      "  34:     # hidden layers\n",
      "  35:     nh_relu = space['nh_relu']\n",
      "  36:     nh_tanh = space['nh_relu_1']\n",
      "  37:     nh_sig = space['nh_relu_2']\n",
      "  38:     \n",
      "  39:     is_relu = space['is_relu']\n",
      "  40:     is_tanh = space['is_relu_1']\n",
      "  41:     is_sig = space['is_relu_2']\n",
      "  42:     \n",
      "  43:     if is_relu==True:\n",
      "  44:         for i in range(nh_relu):\n",
      "  45:             model.add(keras.layers.Dense(space['Dense_1'],\n",
      "  46:                                      kernel_initializer=keras.initializers.he_normal(seed=30),\n",
      "  47:                                      bias_initializer=keras.initializers.Constant(space['Constant_1'])))\n",
      "  48:             model.add(keras.layers.Activation(keras.layers.LeakyReLU(alpha=space['alpha_1'])))\n",
      "  49:             model.add(keras.layers.Dropout(rate=space['alpha_2'], seed=30))\n",
      "  50:     \n",
      "  51:     if is_tanh==True:\n",
      "  52:         for i in range(nh_tanh):\n",
      "  53:             model.add(keras.layers.Dense(space['Dense_2'],\n",
      "  54:                                      kernel_initializer=keras.initializers.glorot_normal(seed=30),\n",
      "  55:                                      bias_initializer=keras.initializers.Constant(space['Constant_2'])))\n",
      "  56:             model.add(keras.layers.Activation('tanh'))\n",
      "  57:             model.add(keras.layers.Dropout(rate=space['alpha_3'], seed=30))\n",
      "  58:         \n",
      "  59:     if is_sig==True:    \n",
      "  60:         for i in range(nh_sig):\n",
      "  61:             model.add(keras.layers.Dense(space['Dense_3'],\n",
      "  62:                                      kernel_initializer=keras.initializers.glorot_normal(seed=30),\n",
      "  63:                                      bias_initializer=keras.initializers.Constant(space['Constant_3'])))\n",
      "  64:             model.add(keras.layers.Activation('sigmoid'))\n",
      "  65:             model.add(keras.layers.Dropout(rate=space['alpha_4'], seed=30))\n",
      "  66:     \n",
      "  67:     # output    \n",
      "  68:     model.add(keras.layers.Dense(3,\n",
      "  69:                                  kernel_initializer=keras.initializers.glorot_normal(seed=30),\n",
      "  70:                                  bias_initializer=keras.initializers.Constant(space['Constant_4'])))\n",
      "  71:     model.add(keras.layers.Activation('sigmoid'))\n",
      "  72:     \n",
      "  73:     # optimizers\n",
      "  74:     optim = keras.optimizers.Adam(lr=space['lr'],\n",
      "  75:                                  beta_1=space['beta_1'],\n",
      "  76:                                  beta_2=space['beta_1_1'],\n",
      "  77:                                  amsgrad=space['is_relu_3'])\n",
      "  78:         \n",
      "  79:     METRICS = [keras.metrics.CategoricalAccuracy(name='CategoricalAccuracy'),\n",
      "  80:                keras.metrics.CategoricalCrossentropy(name='CategoricalCrossentropy'),\n",
      "  81:                keras.metrics.AUC(name='AUC')]\n",
      "  82:         \n",
      "  83:     model.compile(loss='categorical_crossentropy', metrics=METRICS, optimizer=optim)\n",
      "  84:     hist = model.fit(X_train, Y_train,\n",
      "  85:               class_weight=class_weights,\n",
      "  86:               batch_size=32,\n",
      "  87:               epoch=200,\n",
      "  88:               verbose=3,\n",
      "  89:               validation_data=(X_val, Y_val))\n",
      "  90:     \n",
      "  91:     validation_acc = np.amax(hist.history['val_CategoricalAccuracy']) \n",
      "  92:     return {'loss': -validation_acc, 'status': STATUS_OK, 'model': model}\n",
      "  93: \n",
      "100%|█████████████████████████████████████████████| 500/500 [14:14<00:00,  1.71s/trial, best loss: -0.7321428656578064]\n",
      "Evalutation of best performing model:\n",
      "6/6 [==============================] - 0s 3ms/step - loss: 0.8234 - CategoricalAccuracy: 0.6726 - CategoricalCrossentropy: 0.8137 - AUC: 0.8536\n",
      "[0.8233911991119385, 0.6726190447807312, 0.813684344291687, 0.8536086678504944]\n",
      "Best performing model chosen hyper-parameters:\n",
      "{'Constant': 0.44894890729520176, 'Constant_1': 0.23753866776003024, 'Constant_2': 0.43200900216318927, 'Constant_3': 0.18373869060769776, 'Constant_4': 0.43226231657381026, 'Dense': 2, 'Dense_1': 1, 'Dense_2': 1, 'Dense_3': 0, 'alpha': 0.0720371514769807, 'alpha_1': 0.18857575750984173, 'alpha_2': 0.08203926059568292, 'alpha_3': 0.07681720147828022, 'alpha_4': 0.1452105833758761, 'beta_1': 0.8968096217944816, 'beta_1_1': 0.9172374820824993, 'is_relu': 0, 'is_relu_1': 0, 'is_relu_2': 1, 'is_relu_3': 0, 'lr': 0.0008759305600879901, 'nh_relu': 1, 'nh_relu_1': 0, 'nh_relu_2': 2}\n"
     ]
    }
   ],
   "source": [
    "# if __name__ == '__main__':\n",
    "best_run, best_model = optim.minimize(model=create_model,\n",
    "                                      data=data,\n",
    "                                      algo=tpe.suggest,\n",
    "                                      max_evals=500,\n",
    "                                      trials=Trials(),\n",
    "                                      notebook_name='Titanic_KERAS_01',\n",
    "                                      verbose=1)\n",
    "X_train, Y_train, X_val, Y_val = data()\n",
    "print(\"Evalutation of best performing model:\")\n",
    "print(best_model.evaluate(X_val, Y_val))\n",
    "print(\"Best performing model chosen hyper-parameters:\")\n",
    "print(best_run)"
   ]
  },
  {
   "cell_type": "code",
   "execution_count": 2,
   "metadata": {},
   "outputs": [],
   "source": [
    "data = pd.read_csv('age_data.csv')\n",
    "selected_features = data.columns.to_list()\n",
    "selected_features = selected_features[2:]\n",
    "selected_features=['Fare',\n",
    "                   'fgrp',\n",
    "                   'famsize',\n",
    "                   'Ticket',\n",
    "                   'ttl_1',\n",
    "                   'ttl_2',\n",
    "                   'ttl_3',\n",
    "                   'ttl_4', \n",
    "                   'Pclass_0',\n",
    "                   'Pclass_1',\n",
    "                   'Pclass_2',\n",
    "                   'Embarked_0',\n",
    "                   'Embarked_1',\n",
    "                   'Embarked_2']\n",
    "target = 'Age_cls'\n",
    "\n",
    "train, test = model_selection.train_test_split(data, test_size=0.2)\n",
    "train, val = model_selection.train_test_split(train, test_size=0.2)\n",
    "X_train = train[selected_features]\n",
    "X_val = val[selected_features]\n",
    "X_test = test[selected_features]\n",
    "Y_train = train[target]\n",
    "Y_val = val[target]\n",
    "Y_test = test[target]\n",
    "\n",
    "\n",
    "scaler = prep.StandardScaler(copy=False, with_mean=True, with_std=True)\n",
    "X_train = scaler.fit_transform(X_train)\n",
    "X_val = scaler.fit_transform(X_val)\n",
    "X_test = scaler.fit_transform(X_test)\n",
    "\n",
    "# scaler = prep.StandardScaler(copy=False, with_mean=False, with_std=False)\n",
    "# X_train['Fare'] = scaler.fit_transform(np.array(X_train['Fare']).reshape(-1,1))\n",
    "# X_val['Fare'] = scaler.fit_transform(np.array(X_val['Fare']).reshape(-1,1))\n",
    "# X_test['Fare'] = scaler.fit_transform(np.array(X_test['Fare']).reshape(-1,1))\n",
    "    \n",
    "Y_train = keras.utils.to_categorical(Y_train, 3)\n",
    "Y_val = keras.utils.to_categorical(Y_val, 3)\n",
    "Y_test = keras.utils.to_categorical(Y_test, 3)"
   ]
  },
  {
   "cell_type": "code",
   "execution_count": 12,
   "metadata": {},
   "outputs": [],
   "source": [
    "best_run_params = pd.Series(best_run)\n",
    "best_run_params.to_csv(\"best_run_params.csv\")"
   ]
  },
  {
   "cell_type": "code",
   "execution_count": 3,
   "metadata": {},
   "outputs": [],
   "source": [
    "data = pd.read_csv('best_run_params.csv')\n",
    "# best_run_params.columns.to_list()\n",
    "best_run_params = {}\n",
    "for idx, row in data.iterrows():\n",
    "#     print(type(row['Unnamed: 0']))\n",
    "    best_run_params[row['Unnamed: 0']] = row['0']"
   ]
  },
  {
   "cell_type": "code",
   "execution_count": 6,
   "metadata": {},
   "outputs": [
    {
     "name": "stdout",
     "output_type": "stream",
     "text": [
      "7/7 [==============================] - 0s 997us/step - loss: 0.8046 - CategoricalAccuracy: 0.6476 - CategoricalCrossentropy: 0.8070 - AUC: 0.8505\n"
     ]
    }
   ],
   "source": [
    "results = best_model.evaluate(X_test, Y_test, verbose=1)"
   ]
  },
  {
   "cell_type": "code",
   "execution_count": 8,
   "metadata": {
    "jupyter": {
     "source_hidden": true
    }
   },
   "outputs": [
    {
     "data": {
      "text/plain": [
       "(3.5, -0.5)"
      ]
     },
     "execution_count": 8,
     "metadata": {},
     "output_type": "execute_result"
    },
    {
     "data": {
      "image/png": "[encoded data removed]",
      "text/plain": [
       "<Figure size 288x288 with 2 Axes>"
      ]
     },
     "metadata": {
      "needs_background": "light"
     },
     "output_type": "display_data"
    }
   ],
   "source": [
    "fig = plt.figure()\n",
    "fig.set_size_inches(4,4)\n",
    "ax=fig.add_subplot(1,1,1)\n",
    "title=None\n",
    "# plot_confusion_matrix(model_st, X, y, ax=fig.add_subplot(1,1,1), normalize=True, title='')\n",
    "\n",
    "conf_matrix = metrics.confusion_matrix(y_true=[np.argmax(i) for i in Y_test], \n",
    "                                       y_pred=[np.argmax(i) for i in best_model.predict(X_test)],\n",
    "                                       labels=None)  # returns matrix for sorted classes (i.e 0, 1, 2,..., n)\n",
    "\n",
    "classes = [0,1,2]\n",
    "n_classes = [Y_test[Y_test[:,c]==1].shape[0] for c in classes]\n",
    "\n",
    "normalize = True\n",
    "\n",
    "if normalize == True:\n",
    "    n_matrix = [[i for j in range(len(n_classes))] for i in n_classes]\n",
    "    norm_matrix = conf_matrix / np.array(n_classes)\n",
    "    ns_matrix = np.array([[i for j in enumerate(n_classes)] for i in n_classes])\n",
    "    labels = np.array([[\"{0:.2%} \\n {1:d} of {2:d}\".format(norm_matrix[i, j], conf_matrix[i, j],\n",
    "                                                           ns_matrix[i, j]) for j, v in\n",
    "                        enumerate(norm_matrix[i])]\n",
    "                       for i, v in enumerate(norm_matrix)])\n",
    "\n",
    "    sns.heatmap(norm_matrix, annot=labels, fmt='', cmap='Blues')\n",
    "else:\n",
    "    sns.heatmap(conf_matrix, annot=True, fmt='d', cmap='Blues')\n",
    "\n",
    "ax.set_ylabel('True Labels')\n",
    "ax.set_xlabel('Predicted Labels')\n",
    "if title is None:\n",
    "    title = best_model.__class__.__name__\n",
    "ax.set_title(title)\n",
    "ttl = ax.title\n",
    "ttl.set_position([.5, 1.07])\n",
    "\n",
    "# fix for mpl bug that cuts off top/bottom of seaborn viz\n",
    "b, t = ax.get_ylim()  # discover the values for bottom and top\n",
    "b += 0.5  # Add 0.5 to the bottom\n",
    "t -= 0.5  # Subtract 0.5 from the top\n",
    "ax.set_ylim(b, t)  # update the ylim(bottom, top) values"
   ]
  },
  {
   "cell_type": "code",
   "execution_count": 27,
   "metadata": {},
   "outputs": [],
   "source": [
    "class_weights = {}\n",
    "for i in range(Y_train.shape[1]):\n",
    "        class_weights[i] = Y_train.shape[0] / Y_train[Y_train[:,i]==1].shape[0] / 2"
   ]
  },
  {
   "cell_type": "code",
   "execution_count": 56,
   "metadata": {},
   "outputs": [],
   "source": [
    "def re_create_model(X_train, Y_train, X_val, Y_val, X_test, Y_test, best_run_params):\n",
    "    \n",
    "    dense_in = [32,64,128]\n",
    "    dense_h = [32,64]\n",
    "    nh_relu = [2,4,6]\n",
    "    nh_tanh = [2,4,6]\n",
    "    nh_sig = [2,4,6]\n",
    "    \n",
    "    \n",
    "    class_weights = {}\n",
    "    for i in range(Y_train.shape[1]):\n",
    "        class_weights[i] = Y_train.shape[0] / Y_train[Y_train[:,i]==1].shape[0] / 2\n",
    "    \n",
    "    # select features\n",
    "    selected_features=['Fare',\n",
    "                   'fgrp',\n",
    "                   'famsize',\n",
    "                   'Ticket',\n",
    "                   'ttl_1',\n",
    "                   'ttl_2',\n",
    "                   'ttl_3',\n",
    "                   'ttl_4', \n",
    "                   'Pclass_0',\n",
    "                   'Pclass_1',\n",
    "                   'Pclass_2',\n",
    "                   'Embarked_0',\n",
    "                   'Embarked_1',\n",
    "                   'Embarked_2']\n",
    "    \n",
    "    # model\n",
    "    model = keras.Sequential()\n",
    "    \n",
    "    # input\n",
    "    model.add(keras.layers.Dense(dense_in[int(best_run_params['Dense'])], \n",
    "                                 input_dim=len(selected_features),\n",
    "                                 kernel_initializer=keras.initializers.he_normal(seed=30),\n",
    "                                 bias_initializer=keras.initializers.Constant(best_run_params['Constant'])))\n",
    "    model.add(keras.layers.Activation(keras.layers.LeakyReLU(alpha=best_run_params['alpha'])))\n",
    "    \n",
    "    # hidden layers\n",
    "    nh_relu = nh_relu[int(best_run_params['nh_relu'])]\n",
    "    nh_tanh = nh_tanh[int(best_run_params['nh_relu_1'])]\n",
    "    nh_sig = nh_sig[int(best_run_params['nh_relu_2'])]\n",
    "    \n",
    "    is_relu = bool(best_run_params['is_relu'])\n",
    "    is_tanh = bool(best_run_params['is_relu_1'])\n",
    "    is_sig = bool(best_run_params['is_relu_2'])\n",
    "    \n",
    "    if is_relu==True:\n",
    "        for i in range(nh_relu):\n",
    "            model.add(keras.layers.Dense(dense_h[int(best_run_params['Dense_1'])],\n",
    "                                     kernel_initializer=keras.initializers.he_normal(seed=30),\n",
    "                                     bias_initializer=keras.initializers.Constant(best_run_params['Constant_1'])))\n",
    "            model.add(keras.layers.Activation(keras.layers.LeakyReLU(alpha=best_run_params['alpha_1'])))\n",
    "            model.add(keras.layers.Dropout(rate=best_run_params['alpha_2'], seed=30))\n",
    "    \n",
    "    if is_tanh==True:\n",
    "        for i in range(nh_tanh):\n",
    "            model.add(keras.layers.Dense(dense_h[int(best_run_params['Dense_2'])],\n",
    "                                     kernel_initializer=keras.initializers.glorot_normal(seed=30),\n",
    "                                     bias_initializer=keras.initializers.Constant(best_run_params['Constant_2'])))\n",
    "            model.add(keras.layers.Activation('tanh'))\n",
    "            model.add(keras.layers.Dropout(rate=best_run_params['alpha_3'], seed=30))\n",
    "        \n",
    "    if is_sig==True:    \n",
    "        for i in range(nh_sig):\n",
    "            model.add(keras.layers.Dense(dense_h[int(best_run_params['Dense_3'])],\n",
    "                                     kernel_initializer=keras.initializers.glorot_normal(seed=30),\n",
    "                                     bias_initializer=keras.initializers.Constant(best_run_params['Constant_3'])))\n",
    "            model.add(keras.layers.Activation('sigmoid'))\n",
    "            model.add(keras.layers.Dropout(rate=best_run_params['alpha_4'], seed=30))\n",
    "    \n",
    "    # output    \n",
    "    model.add(keras.layers.Dense(3,\n",
    "                                 kernel_initializer=keras.initializers.glorot_normal(seed=30),\n",
    "                                 bias_initializer=keras.initializers.Constant(best_run_params['Constant_4'])))\n",
    "    model.add(keras.layers.Activation('sigmoid'))\n",
    "    \n",
    "    # optimizers\n",
    "#     lr=0.0008759305600879901\n",
    "    optim = keras.optimizers.Adam(lr=0.0001,\n",
    "                                 beta_1=best_run_params['beta_1'],\n",
    "                                 beta_2=best_run_params['beta_1_1'],\n",
    "                                 amsgrad=bool(best_run_params['is_relu_3']))\n",
    "        \n",
    "    METRICS = [keras.metrics.CategoricalAccuracy(name='CategoricalAccuracy'),\n",
    "               keras.metrics.CategoricalCrossentropy(name='CategoricalCrossentropy'),\n",
    "               keras.metrics.AUC(name='AUC')]\n",
    "        \n",
    "    model.compile(loss='categorical_crossentropy', metrics=METRICS, optimizer=optim)\n",
    "#     model.summary()\n",
    "    hist = model.fit(X_train, Y_train,\n",
    "              class_weight=class_weights,\n",
    "              batch_size=32,\n",
    "              epoch=300,\n",
    "              verbose=0,\n",
    "              validation_data=(X_val, Y_val))\n",
    "    \n",
    "    results = model.evaluate(X_test, Y_test, verbose=1)\n",
    "#     print(hist.history['AUC'])\n",
    "    fig = plt.figure()\n",
    "    fig.set_size_inches(16,16)\n",
    "\n",
    "    ax=fig.add_subplot(3,2,1)\n",
    "    ax.plot(hist.history['AUC'])\n",
    "    ax.plot(hist.history['CategoricalCrossentropy'])\n",
    "    ax.legend(['Metric', 'Loss'])\n",
    "    ax.set_title('Train')\n",
    "\n",
    "    ax=fig.add_subplot(3,2,2)\n",
    "    ax.plot(hist.history['val_AUC'])\n",
    "    ax.plot(hist.history['val_CategoricalCrossentropy'])\n",
    "    ax.legend(['Metric', 'Loss'])\n",
    "    ax.set_title('Test')\n",
    "\n",
    "    ax=fig.add_subplot(3,2,3)\n",
    "    ax.plot(hist.history['CategoricalCrossentropy'])\n",
    "    ax.plot(hist.history['val_CategoricalCrossentropy'])\n",
    "    ax.legend(['Train', 'Test'])\n",
    "    ax.set_title('Loss')\n",
    "\n",
    "    ax=fig.add_subplot(3,2,4)\n",
    "    ax.plot(hist.history['AUC'])\n",
    "    ax.plot(hist.history['val_AUC'])\n",
    "    ax.legend(['Train', 'Test'])\n",
    "    ax.set_title('Metric')\n",
    "    \n",
    "#     fig = plt.figure()\n",
    "#     fig.set_size_inches(4,4)\n",
    "    ax=fig.add_subplot(3,2,5)\n",
    "    title=None\n",
    "    # plot_confusion_matrix(model_st, X, y, ax=fig.add_subplot(1,1,1), normalize=True, title='')\n",
    "\n",
    "    conf_matrix = metrics.confusion_matrix(y_true=[np.argmax(i) for i in Y_test], \n",
    "                                           y_pred=[np.argmax(i) for i in model.predict(X_test)],\n",
    "                                           labels=None)  # returns matrix for sorted classes (i.e 0, 1, 2,..., n)\n",
    "\n",
    "    classes = [0,1,2]\n",
    "    n_classes = [Y_test[Y_test[:,c]==1].shape[0] for c in classes]\n",
    "\n",
    "    normalize = True\n",
    "\n",
    "    if normalize == True:\n",
    "        n_matrix = [[i for j in range(len(n_classes))] for i in n_classes]\n",
    "        norm_matrix = conf_matrix / np.array(n_classes)\n",
    "        ns_matrix = np.array([[i for j in enumerate(n_classes)] for i in n_classes])\n",
    "        labels = np.array([[\"{0:.2%} \\n {1:d} of {2:d}\".format(norm_matrix[i, j], conf_matrix[i, j],\n",
    "                                                               ns_matrix[i, j]) for j, v in\n",
    "                            enumerate(norm_matrix[i])]\n",
    "                           for i, v in enumerate(norm_matrix)])\n",
    "\n",
    "        sns.heatmap(norm_matrix, annot=labels, fmt='', cmap='Blues')\n",
    "    else:\n",
    "        sns.heatmap(conf_matrix, annot=True, fmt='d', cmap='Blues')\n",
    "\n",
    "    ax.set_ylabel('True Labels')\n",
    "    ax.set_xlabel('Predicted Labels')\n",
    "    if title is None:\n",
    "        title = model.__class__.__name__\n",
    "    ax.set_title(title)\n",
    "    ttl = ax.title\n",
    "    ttl.set_position([.5, 1.07])\n",
    "\n",
    "    # fix for mpl bug that cuts off top/bottom of seaborn viz\n",
    "    b, t = ax.get_ylim()  # discover the values for bottom and top\n",
    "    b += 0.5  # Add 0.5 to the bottom\n",
    "    t -= 0.5  # Subtract 0.5 from the top\n",
    "    ax.set_ylim(b, t)  # update the ylim(bottom, top) values\n",
    "    \n",
    "    plt.show()"
   ]
  },
  {
   "cell_type": "code",
   "execution_count": 61,
   "metadata": {},
   "outputs": [],
   "source": [
    "# def re_create_model(X_train, Y_train, X_val, Y_val, X_test, Y_test, best_run_params):\n",
    "\n",
    "dense_in = [32,64,128]\n",
    "dense_h = [32,64]\n",
    "nh_relu = [2,4,6]\n",
    "nh_tanh = [2,4,6]\n",
    "nh_sig = [2,4,6]\n",
    "\n",
    "\n",
    "class_weights = {}\n",
    "for i in range(Y_train.shape[1]):\n",
    "    class_weights[i] = Y_train.shape[0] / Y_train[Y_train[:,i]==1].shape[0] / 2\n",
    "\n",
    "# select features\n",
    "selected_features=['Fare',\n",
    "               'fgrp',\n",
    "               'famsize',\n",
    "               'Ticket',\n",
    "               'ttl_1',\n",
    "               'ttl_2',\n",
    "               'ttl_3',\n",
    "               'ttl_4', \n",
    "               'Pclass_0',\n",
    "               'Pclass_1',\n",
    "               'Pclass_2',\n",
    "               'Embarked_0',\n",
    "               'Embarked_1',\n",
    "               'Embarked_2']\n",
    "\n",
    "# model\n",
    "model = keras.Sequential()\n",
    "\n",
    "# input\n",
    "model.add(keras.layers.Dense(dense_in[int(best_run_params['Dense'])], \n",
    "                             input_dim=len(selected_features),\n",
    "                             kernel_initializer=keras.initializers.he_normal(seed=30),\n",
    "                             bias_initializer=keras.initializers.Constant(best_run_params['Constant'])))\n",
    "model.add(keras.layers.Activation(keras.layers.LeakyReLU(alpha=best_run_params['alpha'])))\n",
    "\n",
    "# hidden layers\n",
    "nh_relu = nh_relu[int(best_run_params['nh_relu'])]\n",
    "nh_tanh = nh_tanh[int(best_run_params['nh_relu_1'])]\n",
    "nh_sig = nh_sig[int(best_run_params['nh_relu_2'])]\n",
    "\n",
    "is_relu = bool(best_run_params['is_relu'])\n",
    "is_tanh = bool(best_run_params['is_relu_1'])\n",
    "is_sig = bool(best_run_params['is_relu_2'])\n",
    "\n",
    "# print(nh_relu)\n",
    "# print(nh_tanh)\n",
    "# print(nh_sig)\n",
    "# print(is_relu)\n",
    "# print(is_tanh)\n",
    "# print(is_sig)\n",
    "\n",
    "if is_relu==True:\n",
    "    for i in range(nh_relu):\n",
    "        model.add(keras.layers.Dense(dense_h[int(best_run_params['Dense_1'])],\n",
    "                                 kernel_initializer=keras.initializers.he_normal(seed=30),\n",
    "                                 bias_initializer=keras.initializers.Constant(best_run_params['Constant_1'])))\n",
    "        model.add(keras.layers.Activation(keras.layers.LeakyReLU(alpha=best_run_params['alpha_1'])))\n",
    "        model.add(keras.layers.Dropout(rate=best_run_params['alpha_2'], seed=30))\n",
    "\n",
    "if is_tanh==True:\n",
    "    for i in range(nh_tanh):\n",
    "        model.add(keras.layers.Dense(dense_h[int(best_run_params['Dense_2'])],\n",
    "                                 kernel_initializer=keras.initializers.glorot_normal(seed=30),\n",
    "                                 bias_initializer=keras.initializers.Constant(best_run_params['Constant_2'])))\n",
    "        model.add(keras.layers.Activation('tanh'))\n",
    "        model.add(keras.layers.Dropout(rate=best_run_params['alpha_3'], seed=30))\n",
    "\n",
    "if is_sig==True:    \n",
    "    for i in range(nh_sig):\n",
    "        model.add(keras.layers.Dense(dense_h[int(best_run_params['Dense_3'])],\n",
    "                                 kernel_initializer=keras.initializers.glorot_normal(seed=30),\n",
    "                                 bias_initializer=keras.initializers.Constant(best_run_params['Constant_3'])))\n",
    "        model.add(keras.layers.Activation('sigmoid'))\n",
    "        model.add(keras.layers.Dropout(rate=best_run_params['alpha_4'], seed=30))\n",
    "\n",
    "# output    \n",
    "model.add(keras.layers.Dense(3,\n",
    "                             kernel_initializer=keras.initializers.glorot_normal(seed=30),\n",
    "                             bias_initializer=keras.initializers.Constant(best_run_params['Constant_4'])))\n",
    "model.add(keras.layers.Activation('sigmoid'))\n",
    "\n",
    "# optimizers\n",
    "#     lr=0.0008759305600879901\n",
    "optim = keras.optimizers.Adam(lr=0.0008759305600879901,\n",
    "                             beta_1=best_run_params['beta_1'],\n",
    "                             beta_2=best_run_params['beta_1_1'],\n",
    "                             amsgrad=bool(best_run_params['is_relu_3']))\n",
    "\n",
    "METRICS = [keras.metrics.CategoricalAccuracy(name='CategoricalAccuracy'),\n",
    "           keras.metrics.CategoricalCrossentropy(name='CategoricalCrossentropy'),\n",
    "           keras.metrics.AUC(name='AUC')]\n",
    "\n",
    "\n",
    "#     return model, hist"
   ]
  },
  {
   "cell_type": "code",
   "execution_count": 62,
   "metadata": {},
   "outputs": [
    {
     "name": "stdout",
     "output_type": "stream",
     "text": [
      "Model: \"sequential_12\"\n",
      "_________________________________________________________________\n",
      "Layer (type)                 Output Shape              Param #   \n",
      "=================================================================\n",
      "dense_84 (Dense)             (None, 128)               1920      \n",
      "_________________________________________________________________\n",
      "activation_84 (Activation)   (None, 128)               0         \n",
      "_________________________________________________________________\n",
      "dense_85 (Dense)             (None, 32)                4128      \n",
      "_________________________________________________________________\n",
      "activation_85 (Activation)   (None, 32)                0         \n",
      "_________________________________________________________________\n",
      "dropout_63 (Dropout)         (None, 32)                0         \n",
      "_________________________________________________________________\n",
      "dense_86 (Dense)             (None, 32)                1056      \n",
      "_________________________________________________________________\n",
      "activation_86 (Activation)   (None, 32)                0         \n",
      "_________________________________________________________________\n",
      "dropout_64 (Dropout)         (None, 32)                0         \n",
      "_________________________________________________________________\n",
      "dense_87 (Dense)             (None, 32)                1056      \n",
      "_________________________________________________________________\n",
      "activation_87 (Activation)   (None, 32)                0         \n",
      "_________________________________________________________________\n",
      "dropout_65 (Dropout)         (None, 32)                0         \n",
      "_________________________________________________________________\n",
      "dense_88 (Dense)             (None, 32)                1056      \n",
      "_________________________________________________________________\n",
      "activation_88 (Activation)   (None, 32)                0         \n",
      "_________________________________________________________________\n",
      "dropout_66 (Dropout)         (None, 32)                0         \n",
      "_________________________________________________________________\n",
      "dense_89 (Dense)             (None, 32)                1056      \n",
      "_________________________________________________________________\n",
      "activation_89 (Activation)   (None, 32)                0         \n",
      "_________________________________________________________________\n",
      "dropout_67 (Dropout)         (None, 32)                0         \n",
      "_________________________________________________________________\n",
      "dense_90 (Dense)             (None, 32)                1056      \n",
      "_________________________________________________________________\n",
      "activation_90 (Activation)   (None, 32)                0         \n",
      "_________________________________________________________________\n",
      "dropout_68 (Dropout)         (None, 32)                0         \n",
      "_________________________________________________________________\n",
      "dense_91 (Dense)             (None, 3)                 99        \n",
      "_________________________________________________________________\n",
      "activation_91 (Activation)   (None, 3)                 0         \n",
      "=================================================================\n",
      "Total params: 11,427\n",
      "Trainable params: 11,427\n",
      "Non-trainable params: 0\n",
      "_________________________________________________________________\n"
     ]
    }
   ],
   "source": [
    "model.compile(loss='categorical_crossentropy', metrics=METRICS, optimizer=optim)\n",
    "model.summary()"
   ]
  },
  {
   "cell_type": "code",
   "execution_count": 63,
   "metadata": {},
   "outputs": [
    {
     "data": {
      "text/plain": [
       "{0: 1.3522267206477734, 1: 4.911764705882353, 2: 0.9461756373937678}"
      ]
     },
     "execution_count": 63,
     "metadata": {},
     "output_type": "execute_result"
    }
   ],
   "source": [
    "class_weights"
   ]
  },
  {
   "cell_type": "code",
   "execution_count": 64,
   "metadata": {},
   "outputs": [],
   "source": [
    "hist = model.fit(X_train, Y_train,\n",
    "                 class_weight=class_weights,\n",
    "                 batch_size=32,\n",
    "                 epochs=200,\n",
    "                 verbose=0,\n",
    "                 validation_data=(X_val, Y_val))"
   ]
  },
  {
   "cell_type": "code",
   "execution_count": 66,
   "metadata": {
    "jupyter": {
     "source_hidden": true
    }
   },
   "outputs": [
    {
     "data": {
      "image/png": "[encoded data removed]",
      "text/plain": [
       "<Figure size 1152x576 with 4 Axes>"
      ]
     },
     "metadata": {
      "needs_background": "light"
     },
     "output_type": "display_data"
    }
   ],
   "source": [
    "fig = plt.figure()\n",
    "fig.set_size_inches(16,8)\n",
    "\n",
    "ax=fig.add_subplot(2,2,1)\n",
    "ax.plot(hist.history['AUC'])\n",
    "ax.plot(hist.history['CategoricalCrossentropy'])\n",
    "ax.legend(['Metric', 'Loss'])\n",
    "ax.set_title('Train')\n",
    "\n",
    "ax=fig.add_subplot(2,2,2)\n",
    "ax.plot(hist.history['val_AUC'])\n",
    "ax.plot(hist.history['val_CategoricalCrossentropy'])\n",
    "ax.legend(['Metric', 'Loss'])\n",
    "ax.set_title('Test')\n",
    "\n",
    "ax=fig.add_subplot(2,2,3)\n",
    "ax.plot(hist.history['CategoricalCrossentropy'])\n",
    "ax.plot(hist.history['val_CategoricalCrossentropy'])\n",
    "ax.legend(['Train', 'Test'])\n",
    "ax.set_title('Loss')\n",
    "\n",
    "ax=fig.add_subplot(2,2,4)\n",
    "ax.plot(hist.history['AUC'])\n",
    "ax.plot(hist.history['val_AUC'])\n",
    "ax.legend(['Train', 'Test'])\n",
    "ax.set_title('Metric')\n",
    "\n",
    "plt.show()"
   ]
  },
  {
   "cell_type": "code",
   "execution_count": 67,
   "metadata": {},
   "outputs": [
    {
     "name": "stdout",
     "output_type": "stream",
     "text": [
      "7/7 - 0s - loss: 0.7226 - CategoricalAccuracy: 0.5619 - CategoricalCrossentropy: 0.7326 - AUC: 0.7756\n"
     ]
    }
   ],
   "source": [
    "results = model.evaluate(X_test, Y_test, verbose=2)"
   ]
  },
  {
   "cell_type": "code",
   "execution_count": 68,
   "metadata": {
    "jupyter": {
     "source_hidden": true
    }
   },
   "outputs": [
    {
     "data": {
      "text/plain": [
       "(3.5, -0.5)"
      ]
     },
     "execution_count": 68,
     "metadata": {},
     "output_type": "execute_result"
    },
    {
     "data": {
      "image/png": "[encoded data removed]",
      "text/plain": [
       "<Figure size 288x288 with 2 Axes>"
      ]
     },
     "metadata": {
      "needs_background": "light"
     },
     "output_type": "display_data"
    }
   ],
   "source": [
    "fig = plt.figure()\n",
    "fig.set_size_inches(4,4)\n",
    "ax=fig.add_subplot(1,1,1)\n",
    "title=None\n",
    "# plot_confusion_matrix(model_st, X, y, ax=fig.add_subplot(1,1,1), normalize=True, title='')\n",
    "\n",
    "conf_matrix = metrics.confusion_matrix(y_true=[np.argmax(i) for i in Y_test], \n",
    "                                       y_pred=[np.argmax(i) for i in model.predict(X_test)],\n",
    "                                       labels=None)  # returns matrix for sorted classes (i.e 0, 1, 2,..., n)\n",
    "\n",
    "classes = [0,1,2]\n",
    "n_classes = [Y_test[Y_test[:,c]==1].shape[0] for c in classes]\n",
    "\n",
    "normalize = True\n",
    "\n",
    "if normalize == True:\n",
    "    n_matrix = [[i for j in range(len(n_classes))] for i in n_classes]\n",
    "    norm_matrix = conf_matrix / np.array(n_classes)\n",
    "    ns_matrix = np.array([[i for j in enumerate(n_classes)] for i in n_classes])\n",
    "    labels = np.array([[\"{0:.2%} \\n {1:d} of {2:d}\".format(norm_matrix[i, j], conf_matrix[i, j],\n",
    "                                                           ns_matrix[i, j]) for j, v in\n",
    "                        enumerate(norm_matrix[i])]\n",
    "                       for i, v in enumerate(norm_matrix)])\n",
    "\n",
    "    sns.heatmap(norm_matrix, annot=labels, fmt='', cmap='Blues')\n",
    "else:\n",
    "    sns.heatmap(conf_matrix, annot=True, fmt='d', cmap='Blues')\n",
    "\n",
    "ax.set_ylabel('True Labels')\n",
    "ax.set_xlabel('Predicted Labels')\n",
    "if title is None:\n",
    "    title = model.__class__.__name__\n",
    "ax.set_title(title)\n",
    "ttl = ax.title\n",
    "ttl.set_position([.5, 1.07])\n",
    "\n",
    "# fix for mpl bug that cuts off top/bottom of seaborn viz\n",
    "b, t = ax.get_ylim()  # discover the values for bottom and top\n",
    "b += 0.5  # Add 0.5 to the bottom\n",
    "t -= 0.5  # Subtract 0.5 from the top\n",
    "ax.set_ylim(b, t)  # update the ylim(bottom, top) values"
   ]
  },
  {
   "cell_type": "code",
   "execution_count": 14,
   "metadata": {},
   "outputs": [
    {
     "ename": "NameError",
     "evalue": "name 're_create_model' is not defined",
     "output_type": "error",
     "traceback": [
      "\u001b[1;31m---------------------------------------------------------------------------\u001b[0m",
      "\u001b[1;31mNameError\u001b[0m                                 Traceback (most recent call last)",
      "\u001b[1;32m<ipython-input-14-790bf78dcfd5>\u001b[0m in \u001b[0;36m<module>\u001b[1;34m\u001b[0m\n\u001b[1;32m----> 1\u001b[1;33m \u001b[0mre_create_model\u001b[0m\u001b[1;33m(\u001b[0m\u001b[0mX_train\u001b[0m\u001b[1;33m,\u001b[0m \u001b[0mY_train\u001b[0m\u001b[1;33m,\u001b[0m \u001b[0mX_val\u001b[0m\u001b[1;33m,\u001b[0m \u001b[0mY_val\u001b[0m\u001b[1;33m,\u001b[0m \u001b[0mX_test\u001b[0m\u001b[1;33m,\u001b[0m \u001b[0mY_test\u001b[0m\u001b[1;33m,\u001b[0m \u001b[0mbest_run_params\u001b[0m\u001b[1;33m)\u001b[0m\u001b[1;33m\u001b[0m\u001b[1;33m\u001b[0m\u001b[0m\n\u001b[0m",
      "\u001b[1;31mNameError\u001b[0m: name 're_create_model' is not defined"
     ]
    }
   ],
   "source": [
    "re_create_model(X_train, Y_train, X_val, Y_val, X_test, Y_test, best_run_params)"
   ]
  },
  {
   "cell_type": "code",
   "execution_count": 25,
   "metadata": {},
   "outputs": [],
   "source": [
    "rnd_seed = 30\n",
    "\n",
    "# model\n",
    "model = keras.Sequential()\n",
    "\n",
    "# input\n",
    "w_init = keras.initializers.he_normal(seed=rnd_seed)\n",
    "b_init = keras.initializers.Constant(0.001)\n",
    "\n",
    "in_dropout = 0.1\n",
    "model.add(keras.layers.Dense(32, \n",
    "                             input_dim=len(selected_features),\n",
    "                             kernel_initializer=w_init,\n",
    "                             bias_initializer=b_init))\n",
    "model.add(keras.layers.Activation(keras.layers.LeakyReLU(alpha=0.1)))\n",
    "model.add(keras.layers.Dropout(rate=in_dropout, seed=rnd_seed))\n",
    "\n",
    "# hidden layers\n",
    "h_dropout = 0.1\n",
    "w_init = keras.initializers.glorot_normal(seed=rnd_seed)\n",
    "w_init = keras.initializers.he_normal(seed=rnd_seed)\n",
    "b_init = keras.initializers.Constant(0.0)\n",
    "model.add(keras.layers.Dense(32,\n",
    "                             kernel_initializer=w_init,\n",
    "                             bias_initializer=b_init))\n",
    "model.add(keras.layers.Activation(keras.layers.LeakyReLU(alpha=0.1)))\n",
    "model.add(keras.layers.Dropout(rate=h_dropout, seed=rnd_seed))\n",
    "\n",
    "model.add(keras.layers.Dense(32,\n",
    "                             kernel_initializer=w_init,\n",
    "                             bias_initializer=b_init))\n",
    "model.add(keras.layers.Activation(keras.layers.LeakyReLU(alpha=0.1)))\n",
    "model.add(keras.layers.Dropout(rate=h_dropout, seed=rnd_seed))\n",
    "\n",
    "# w_init = keras.initializers.glorot_uniform(seed=rnd_seed)\n",
    "# b_init = keras.initializers.Constant(0.01)\n",
    "# model.add(keras.layers.Dense(256,\n",
    "#                              kernel_initializer=w_init,\n",
    "#                              bias_initializer=b_init))\n",
    "# model.add(keras.layers.Activation('tanh'))\n",
    "# model.add(keras.layers.Dropout(rate=h_dropout, seed=rnd_seed))\n",
    "\n",
    "# w_init = keras.initializers.glorot_uniform(seed=rnd_seed)\n",
    "# b_init = keras.initializers.Constant(0.01)\n",
    "# model.add(keras.layers.Dense(256,\n",
    "#                              kernel_initializer=w_init,\n",
    "#                              bias_initializer=b_init))\n",
    "# model.add(keras.layers.Activation('tanh'))\n",
    "# model.add(keras.layers.Dropout(rate=h_dropout, seed=rnd_seed))\n",
    "\n",
    "# model.add(keras.layers.Dense(32,\n",
    "#                              kernel_initializer=w_init,\n",
    "#                              bias_initializer=b_init))\n",
    "# model.add(keras.layers.Activation('tanh'))\n",
    "# model.add(keras.layers.Dropout(rate=h_dropout, seed=rnd_seed))\n",
    "\n",
    "# model.add(keras.layers.Dense(128,\n",
    "#                              kernel_initializer=w_init,\n",
    "#                              bias_initializer=b_init))\n",
    "# model.add(keras.layers.Activation('sigmoid'))\n",
    "# model.add(keras.layers.Dropout(rate=h_dropout, seed=rnd_seed))\n",
    "\n",
    "\n",
    "\n",
    "# output    \n",
    "# w_init = keras.initializers.glorot_normal(seed=rnd_seed)\n",
    "# w_init = keras.initializers.glorot_uniform(seed=rnd_seed)\n",
    "# b_init = keras.initializers.Constant(0.01)\n",
    "model.add(keras.layers.Dense(3,\n",
    "                             kernel_initializer=w_init,\n",
    "                             bias_initializer=b_init))\n",
    "model.add(keras.layers.Activation('sigmoid'))\n",
    "\n",
    "# optimizers\n",
    "optim = keras.optimizers.Adam(lr=0.00005, beta_1=0.99, beta_2=0.999, amsgrad=True)\n",
    "\n",
    "METRICS = [keras.metrics.CategoricalAccuracy(name='CategoricalAccuracy'),\n",
    "           keras.metrics.CategoricalCrossentropy(name='CategoricalCrossentropy'),\n",
    "           keras.metrics.AUC(name='AUC')]"
   ]
  },
  {
   "cell_type": "code",
   "execution_count": 26,
   "metadata": {},
   "outputs": [
    {
     "name": "stdout",
     "output_type": "stream",
     "text": [
      "Model: \"sequential_5\"\n",
      "_________________________________________________________________\n",
      "Layer (type)                 Output Shape              Param #   \n",
      "=================================================================\n",
      "dense_32 (Dense)             (None, 32)                480       \n",
      "_________________________________________________________________\n",
      "activation_32 (Activation)   (None, 32)                0         \n",
      "_________________________________________________________________\n",
      "dropout_24 (Dropout)         (None, 32)                0         \n",
      "_________________________________________________________________\n",
      "dense_33 (Dense)             (None, 32)                1056      \n",
      "_________________________________________________________________\n",
      "activation_33 (Activation)   (None, 32)                0         \n",
      "_________________________________________________________________\n",
      "dropout_25 (Dropout)         (None, 32)                0         \n",
      "_________________________________________________________________\n",
      "dense_34 (Dense)             (None, 32)                1056      \n",
      "_________________________________________________________________\n",
      "activation_34 (Activation)   (None, 32)                0         \n",
      "_________________________________________________________________\n",
      "dropout_26 (Dropout)         (None, 32)                0         \n",
      "_________________________________________________________________\n",
      "dense_35 (Dense)             (None, 3)                 99        \n",
      "_________________________________________________________________\n",
      "activation_35 (Activation)   (None, 3)                 0         \n",
      "=================================================================\n",
      "Total params: 2,691\n",
      "Trainable params: 2,691\n",
      "Non-trainable params: 0\n",
      "_________________________________________________________________\n"
     ]
    }
   ],
   "source": [
    "model.compile(optimizer=optim, \n",
    "              loss='categorical_crossentropy', \n",
    "              metrics=METRICS)\n",
    "model.summary()"
   ]
  },
  {
   "cell_type": "code",
   "execution_count": 44,
   "metadata": {},
   "outputs": [
    {
     "name": "stdout",
     "output_type": "stream",
     "text": [
      "Epoch 1/200\n",
      "21/21 [==============================] - 0s 3ms/step - loss: 1.7037 - CategoricalAccuracy: 0.3308 - CategoricalCrossentropy: 1.2367 - AUC: 0.3982 - val_loss: 1.2776 - val_CategoricalAccuracy: 0.3333 - val_CategoricalCrossentropy: 1.2655 - val_AUC: 0.3661\n",
      "Epoch 2/200\n",
      "21/21 [==============================] - 0s 3ms/step - loss: 1.7015 - CategoricalAccuracy: 0.3383 - CategoricalCrossentropy: 1.2193 - AUC: 0.3939 - val_loss: 1.2541 - val_CategoricalAccuracy: 0.3333 - val_CategoricalCrossentropy: 1.2431 - val_AUC: 0.3661\n",
      "Epoch 3/200\n",
      "21/21 [==============================] - 0s 3ms/step - loss: 1.6927 - CategoricalAccuracy: 0.3323 - CategoricalCrossentropy: 1.2097 - AUC: 0.3877 - val_loss: 1.2353 - val_CategoricalAccuracy: 0.3333 - val_CategoricalCrossentropy: 1.2254 - val_AUC: 0.3661\n",
      "Epoch 4/200\n",
      "21/21 [==============================] - 0s 3ms/step - loss: 1.6866 - CategoricalAccuracy: 0.3219 - CategoricalCrossentropy: 1.1967 - AUC: 0.3772 - val_loss: 1.2196 - val_CategoricalAccuracy: 0.3333 - val_CategoricalCrossentropy: 1.2107 - val_AUC: 0.3661\n",
      "Epoch 5/200\n",
      "21/21 [==============================] - 0s 3ms/step - loss: 1.6848 - CategoricalAccuracy: 0.3024 - CategoricalCrossentropy: 1.1861 - AUC: 0.3820 - val_loss: 1.2033 - val_CategoricalAccuracy: 0.3333 - val_CategoricalCrossentropy: 1.1954 - val_AUC: 0.3661\n",
      "Epoch 6/200\n",
      "21/21 [==============================] - 0s 3ms/step - loss: 1.6628 - CategoricalAccuracy: 0.3024 - CategoricalCrossentropy: 1.1682 - AUC: 0.3975 - val_loss: 1.1904 - val_CategoricalAccuracy: 0.3333 - val_CategoricalCrossentropy: 1.1833 - val_AUC: 0.3661\n",
      "Epoch 7/200\n",
      "21/21 [==============================] - 0s 3ms/step - loss: 1.6652 - CategoricalAccuracy: 0.3069 - CategoricalCrossentropy: 1.1570 - AUC: 0.3988 - val_loss: 1.1789 - val_CategoricalAccuracy: 0.3333 - val_CategoricalCrossentropy: 1.1725 - val_AUC: 0.3661\n",
      "Epoch 8/200\n",
      "21/21 [==============================] - 0s 3ms/step - loss: 1.6690 - CategoricalAccuracy: 0.3039 - CategoricalCrossentropy: 1.1548 - AUC: 0.3863 - val_loss: 1.1676 - val_CategoricalAccuracy: 0.3333 - val_CategoricalCrossentropy: 1.1619 - val_AUC: 0.3661\n",
      "Epoch 9/200\n",
      "21/21 [==============================] - 0s 3ms/step - loss: 1.6706 - CategoricalAccuracy: 0.2829 - CategoricalCrossentropy: 1.1511 - AUC: 0.3857 - val_loss: 1.1571 - val_CategoricalAccuracy: 0.3333 - val_CategoricalCrossentropy: 1.1521 - val_AUC: 0.3661\n",
      "Epoch 10/200\n",
      "21/21 [==============================] - 0s 3ms/step - loss: 1.6695 - CategoricalAccuracy: 0.2814 - CategoricalCrossentropy: 1.1449 - AUC: 0.3933 - val_loss: 1.1480 - val_CategoricalAccuracy: 0.3333 - val_CategoricalCrossentropy: 1.1436 - val_AUC: 0.3661\n",
      "Epoch 11/200\n",
      "21/21 [==============================] - 0s 3ms/step - loss: 1.6501 - CategoricalAccuracy: 0.3234 - CategoricalCrossentropy: 1.1355 - AUC: 0.4171 - val_loss: 1.1432 - val_CategoricalAccuracy: 0.3333 - val_CategoricalCrossentropy: 1.1393 - val_AUC: 0.3729\n",
      "Epoch 12/200\n",
      "21/21 [==============================] - 0s 3ms/step - loss: 1.6602 - CategoricalAccuracy: 0.2874 - CategoricalCrossentropy: 1.1343 - AUC: 0.4115 - val_loss: 1.1363 - val_CategoricalAccuracy: 0.3333 - val_CategoricalCrossentropy: 1.1328 - val_AUC: 0.3661\n",
      "Epoch 13/200\n",
      "21/21 [==============================] - 0s 3ms/step - loss: 1.6599 - CategoricalAccuracy: 0.3099 - CategoricalCrossentropy: 1.1273 - AUC: 0.4254 - val_loss: 1.1303 - val_CategoricalAccuracy: 0.3333 - val_CategoricalCrossentropy: 1.1273 - val_AUC: 0.3661\n",
      "Epoch 14/200\n",
      "21/21 [==============================] - 0s 3ms/step - loss: 1.6675 - CategoricalAccuracy: 0.3174 - CategoricalCrossentropy: 1.1262 - AUC: 0.4269 - val_loss: 1.1259 - val_CategoricalAccuracy: 0.3333 - val_CategoricalCrossentropy: 1.1231 - val_AUC: 0.3661\n",
      "Epoch 15/200\n",
      "21/21 [==============================] - 0s 3ms/step - loss: 1.6580 - CategoricalAccuracy: 0.3114 - CategoricalCrossentropy: 1.1207 - AUC: 0.4438 - val_loss: 1.1241 - val_CategoricalAccuracy: 0.3333 - val_CategoricalCrossentropy: 1.1216 - val_AUC: 0.3661\n",
      "Epoch 16/200\n",
      "21/21 [==============================] - 0s 3ms/step - loss: 1.6530 - CategoricalAccuracy: 0.3204 - CategoricalCrossentropy: 1.1143 - AUC: 0.4543 - val_loss: 1.1213 - val_CategoricalAccuracy: 0.3333 - val_CategoricalCrossentropy: 1.1191 - val_AUC: 0.3786\n",
      "Epoch 17/200\n",
      "21/21 [==============================] - 0s 3ms/step - loss: 1.6519 - CategoricalAccuracy: 0.3099 - CategoricalCrossentropy: 1.1114 - AUC: 0.4710 - val_loss: 1.1171 - val_CategoricalAccuracy: 0.3333 - val_CategoricalCrossentropy: 1.1153 - val_AUC: 0.3806\n",
      "Epoch 18/200\n",
      "21/21 [==============================] - 0s 3ms/step - loss: 1.6538 - CategoricalAccuracy: 0.3054 - CategoricalCrossentropy: 1.1151 - AUC: 0.4558 - val_loss: 1.1146 - val_CategoricalAccuracy: 0.3333 - val_CategoricalCrossentropy: 1.1130 - val_AUC: 0.3661\n",
      "Epoch 19/200\n",
      "21/21 [==============================] - 0s 3ms/step - loss: 1.6554 - CategoricalAccuracy: 0.3159 - CategoricalCrossentropy: 1.1128 - AUC: 0.4670 - val_loss: 1.1127 - val_CategoricalAccuracy: 0.3333 - val_CategoricalCrossentropy: 1.1113 - val_AUC: 0.3661\n",
      "Epoch 20/200\n",
      "21/21 [==============================] - 0s 3ms/step - loss: 1.6496 - CategoricalAccuracy: 0.3249 - CategoricalCrossentropy: 1.1128 - AUC: 0.4678 - val_loss: 1.1105 - val_CategoricalAccuracy: 0.3333 - val_CategoricalCrossentropy: 1.1093 - val_AUC: 0.3849\n",
      "Epoch 21/200\n",
      "21/21 [==============================] - 0s 3ms/step - loss: 1.6526 - CategoricalAccuracy: 0.3293 - CategoricalCrossentropy: 1.1072 - AUC: 0.4847 - val_loss: 1.1099 - val_CategoricalAccuracy: 0.3333 - val_CategoricalCrossentropy: 1.1087 - val_AUC: 0.3810\n",
      "Epoch 22/200\n",
      "21/21 [==============================] - 0s 3ms/step - loss: 1.6508 - CategoricalAccuracy: 0.3353 - CategoricalCrossentropy: 1.1084 - AUC: 0.4771 - val_loss: 1.1078 - val_CategoricalAccuracy: 0.3333 - val_CategoricalCrossentropy: 1.1067 - val_AUC: 0.3661\n",
      "Epoch 23/200\n",
      "21/21 [==============================] - 0s 3ms/step - loss: 1.6611 - CategoricalAccuracy: 0.3308 - CategoricalCrossentropy: 1.1080 - AUC: 0.4805 - val_loss: 1.1068 - val_CategoricalAccuracy: 0.3333 - val_CategoricalCrossentropy: 1.1057 - val_AUC: 0.3661\n",
      "Epoch 24/200\n",
      "21/21 [==============================] - 0s 3ms/step - loss: 1.6536 - CategoricalAccuracy: 0.3219 - CategoricalCrossentropy: 1.1076 - AUC: 0.4770 - val_loss: 1.1063 - val_CategoricalAccuracy: 0.3333 - val_CategoricalCrossentropy: 1.1055 - val_AUC: 0.3892\n",
      "Epoch 25/200\n",
      "21/21 [==============================] - 0s 3ms/step - loss: 1.6549 - CategoricalAccuracy: 0.3353 - CategoricalCrossentropy: 1.1083 - AUC: 0.4738 - val_loss: 1.1067 - val_CategoricalAccuracy: 0.3333 - val_CategoricalCrossentropy: 1.1058 - val_AUC: 0.3705\n",
      "Epoch 26/200\n",
      "21/21 [==============================] - 0s 3ms/step - loss: 1.6571 - CategoricalAccuracy: 0.3308 - CategoricalCrossentropy: 1.1073 - AUC: 0.4773 - val_loss: 1.1056 - val_CategoricalAccuracy: 0.3333 - val_CategoricalCrossentropy: 1.1048 - val_AUC: 0.3775\n",
      "Epoch 27/200\n",
      "21/21 [==============================] - 0s 3ms/step - loss: 1.6490 - CategoricalAccuracy: 0.3413 - CategoricalCrossentropy: 1.1031 - AUC: 0.4925 - val_loss: 1.1042 - val_CategoricalAccuracy: 0.3333 - val_CategoricalCrossentropy: 1.1035 - val_AUC: 0.3661\n",
      "Epoch 28/200\n",
      "21/21 [==============================] - 0s 3ms/step - loss: 1.6546 - CategoricalAccuracy: 0.3278 - CategoricalCrossentropy: 1.1079 - AUC: 0.4760 - val_loss: 1.1036 - val_CategoricalAccuracy: 0.3333 - val_CategoricalCrossentropy: 1.1029 - val_AUC: 0.3859\n",
      "Epoch 29/200\n",
      "21/21 [==============================] - 0s 3ms/step - loss: 1.6487 - CategoricalAccuracy: 0.3548 - CategoricalCrossentropy: 1.1066 - AUC: 0.4810 - val_loss: 1.1043 - val_CategoricalAccuracy: 0.3333 - val_CategoricalCrossentropy: 1.1037 - val_AUC: 0.3661\n",
      "Epoch 30/200\n",
      "21/21 [==============================] - 0s 3ms/step - loss: 1.6469 - CategoricalAccuracy: 0.3144 - CategoricalCrossentropy: 1.1077 - AUC: 0.4704 - val_loss: 1.1032 - val_CategoricalAccuracy: 0.3333 - val_CategoricalCrossentropy: 1.1026 - val_AUC: 0.3814\n",
      "Epoch 31/200\n",
      "21/21 [==============================] - 0s 3ms/step - loss: 1.6508 - CategoricalAccuracy: 0.3308 - CategoricalCrossentropy: 1.1082 - AUC: 0.4701 - val_loss: 1.1027 - val_CategoricalAccuracy: 0.3333 - val_CategoricalCrossentropy: 1.1021 - val_AUC: 0.3745\n",
      "Epoch 32/200\n",
      "21/21 [==============================] - 0s 3ms/step - loss: 1.6518 - CategoricalAccuracy: 0.3443 - CategoricalCrossentropy: 1.1061 - AUC: 0.4866 - val_loss: 1.1022 - val_CategoricalAccuracy: 0.3333 - val_CategoricalCrossentropy: 1.1018 - val_AUC: 0.3638\n",
      "Epoch 33/200\n",
      "21/21 [==============================] - 0s 3ms/step - loss: 1.6586 - CategoricalAccuracy: 0.3518 - CategoricalCrossentropy: 1.1065 - AUC: 0.4854 - val_loss: 1.1017 - val_CategoricalAccuracy: 0.3333 - val_CategoricalCrossentropy: 1.1014 - val_AUC: 0.2991\n",
      "Epoch 34/200\n",
      "21/21 [==============================] - 0s 3ms/step - loss: 1.6542 - CategoricalAccuracy: 0.3159 - CategoricalCrossentropy: 1.1053 - AUC: 0.4855 - val_loss: 1.1000 - val_CategoricalAccuracy: 0.3333 - val_CategoricalCrossentropy: 1.0998 - val_AUC: 0.3009\n",
      "Epoch 35/200\n",
      "21/21 [==============================] - 0s 3ms/step - loss: 1.6455 - CategoricalAccuracy: 0.3338 - CategoricalCrossentropy: 1.1024 - AUC: 0.4933 - val_loss: 1.1018 - val_CategoricalAccuracy: 0.3333 - val_CategoricalCrossentropy: 1.1012 - val_AUC: 0.3867\n",
      "Epoch 36/200\n",
      "21/21 [==============================] - 0s 3ms/step - loss: 1.6500 - CategoricalAccuracy: 0.3847 - CategoricalCrossentropy: 1.1008 - AUC: 0.5042 - val_loss: 1.0993 - val_CategoricalAccuracy: 0.3333 - val_CategoricalCrossentropy: 1.0989 - val_AUC: 0.5099\n",
      "Epoch 37/200\n",
      "21/21 [==============================] - 0s 3ms/step - loss: 1.6400 - CategoricalAccuracy: 0.3967 - CategoricalCrossentropy: 1.0959 - AUC: 0.5170 - val_loss: 1.0999 - val_CategoricalAccuracy: 0.3333 - val_CategoricalCrossentropy: 1.0994 - val_AUC: 0.4980\n",
      "Epoch 38/200\n",
      "21/21 [==============================] - 0s 3ms/step - loss: 1.6531 - CategoricalAccuracy: 0.3443 - CategoricalCrossentropy: 1.1076 - AUC: 0.4794 - val_loss: 1.0997 - val_CategoricalAccuracy: 0.3333 - val_CategoricalCrossentropy: 1.0993 - val_AUC: 0.4891\n",
      "Epoch 39/200\n",
      "21/21 [==============================] - 0s 3ms/step - loss: 1.6576 - CategoricalAccuracy: 0.3563 - CategoricalCrossentropy: 1.1083 - AUC: 0.4766 - val_loss: 1.0995 - val_CategoricalAccuracy: 0.3333 - val_CategoricalCrossentropy: 1.0991 - val_AUC: 0.3661\n",
      "Epoch 40/200\n",
      "21/21 [==============================] - 0s 3ms/step - loss: 1.6544 - CategoricalAccuracy: 0.3458 - CategoricalCrossentropy: 1.1032 - AUC: 0.4920 - val_loss: 1.0999 - val_CategoricalAccuracy: 0.3333 - val_CategoricalCrossentropy: 1.0995 - val_AUC: 0.4435\n",
      "Epoch 41/200\n",
      "21/21 [==============================] - 0s 3ms/step - loss: 1.6512 - CategoricalAccuracy: 0.3398 - CategoricalCrossentropy: 1.1036 - AUC: 0.4905 - val_loss: 1.0981 - val_CategoricalAccuracy: 0.3333 - val_CategoricalCrossentropy: 1.0977 - val_AUC: 0.5000\n",
      "Epoch 42/200\n",
      "21/21 [==============================] - 0s 3ms/step - loss: 1.6451 - CategoricalAccuracy: 0.3623 - CategoricalCrossentropy: 1.0997 - AUC: 0.5100 - val_loss: 1.0978 - val_CategoricalAccuracy: 0.3333 - val_CategoricalCrossentropy: 1.0974 - val_AUC: 0.5000\n",
      "Epoch 43/200\n",
      "21/21 [==============================] - 0s 3ms/step - loss: 1.6533 - CategoricalAccuracy: 0.3503 - CategoricalCrossentropy: 1.1041 - AUC: 0.4910 - val_loss: 1.0970 - val_CategoricalAccuracy: 0.3333 - val_CategoricalCrossentropy: 1.0967 - val_AUC: 0.5863\n",
      "Epoch 44/200\n",
      "21/21 [==============================] - 0s 3ms/step - loss: 1.6491 - CategoricalAccuracy: 0.3713 - CategoricalCrossentropy: 1.0972 - AUC: 0.5183 - val_loss: 1.0955 - val_CategoricalAccuracy: 0.3333 - val_CategoricalCrossentropy: 1.0953 - val_AUC: 0.7235\n",
      "Epoch 45/200\n",
      "21/21 [==============================] - 0s 3ms/step - loss: 1.6469 - CategoricalAccuracy: 0.3638 - CategoricalCrossentropy: 1.0974 - AUC: 0.5176 - val_loss: 1.0956 - val_CategoricalAccuracy: 0.3333 - val_CategoricalCrossentropy: 1.0952 - val_AUC: 0.6390\n",
      "Epoch 46/200\n",
      "21/21 [==============================] - 0s 3ms/step - loss: 1.6484 - CategoricalAccuracy: 0.3458 - CategoricalCrossentropy: 1.0986 - AUC: 0.5112 - val_loss: 1.0942 - val_CategoricalAccuracy: 0.3333 - val_CategoricalCrossentropy: 1.0939 - val_AUC: 0.6474\n",
      "Epoch 47/200\n",
      "21/21 [==============================] - 0s 3ms/step - loss: 1.6520 - CategoricalAccuracy: 0.3683 - CategoricalCrossentropy: 1.1024 - AUC: 0.5004 - val_loss: 1.0947 - val_CategoricalAccuracy: 0.3333 - val_CategoricalCrossentropy: 1.0943 - val_AUC: 0.6526\n",
      "Epoch 48/200\n",
      "21/21 [==============================] - 0s 3ms/step - loss: 1.6546 - CategoricalAccuracy: 0.3847 - CategoricalCrossentropy: 1.1000 - AUC: 0.5068 - val_loss: 1.0944 - val_CategoricalAccuracy: 0.3333 - val_CategoricalCrossentropy: 1.0941 - val_AUC: 0.6405\n",
      "Epoch 49/200\n",
      "21/21 [==============================] - 0s 3ms/step - loss: 1.6562 - CategoricalAccuracy: 0.3458 - CategoricalCrossentropy: 1.0974 - AUC: 0.5186 - val_loss: 1.0952 - val_CategoricalAccuracy: 0.3333 - val_CategoricalCrossentropy: 1.0948 - val_AUC: 0.6468\n",
      "Epoch 50/200\n",
      "21/21 [==============================] - 0s 3ms/step - loss: 1.6468 - CategoricalAccuracy: 0.3518 - CategoricalCrossentropy: 1.0980 - AUC: 0.5159 - val_loss: 1.0962 - val_CategoricalAccuracy: 0.3333 - val_CategoricalCrossentropy: 1.0959 - val_AUC: 0.6453\n",
      "Epoch 51/200\n",
      "21/21 [==============================] - 0s 3ms/step - loss: 1.6491 - CategoricalAccuracy: 0.3713 - CategoricalCrossentropy: 1.0989 - AUC: 0.5121 - val_loss: 1.0948 - val_CategoricalAccuracy: 0.3333 - val_CategoricalCrossentropy: 1.0946 - val_AUC: 0.6752\n",
      "Epoch 52/200\n",
      "21/21 [==============================] - 0s 3ms/step - loss: 1.6586 - CategoricalAccuracy: 0.3278 - CategoricalCrossentropy: 1.1060 - AUC: 0.4824 - val_loss: 1.0949 - val_CategoricalAccuracy: 0.3333 - val_CategoricalCrossentropy: 1.0946 - val_AUC: 0.6555\n",
      "Epoch 53/200\n",
      "21/21 [==============================] - 0s 3ms/step - loss: 1.6434 - CategoricalAccuracy: 0.3832 - CategoricalCrossentropy: 1.0942 - AUC: 0.5264 - val_loss: 1.0942 - val_CategoricalAccuracy: 0.3333 - val_CategoricalCrossentropy: 1.0939 - val_AUC: 0.6474\n",
      "Epoch 54/200\n",
      "21/21 [==============================] - 0s 3ms/step - loss: 1.6448 - CategoricalAccuracy: 0.4042 - CategoricalCrossentropy: 1.0951 - AUC: 0.5247 - val_loss: 1.0949 - val_CategoricalAccuracy: 0.3333 - val_CategoricalCrossentropy: 1.0946 - val_AUC: 0.6546\n",
      "Epoch 55/200\n",
      "21/21 [==============================] - 0s 3ms/step - loss: 1.6457 - CategoricalAccuracy: 0.3757 - CategoricalCrossentropy: 1.0957 - AUC: 0.5220 - val_loss: 1.0940 - val_CategoricalAccuracy: 0.3333 - val_CategoricalCrossentropy: 1.0938 - val_AUC: 0.6474\n",
      "Epoch 56/200\n",
      "21/21 [==============================] - 0s 3ms/step - loss: 1.6514 - CategoricalAccuracy: 0.3698 - CategoricalCrossentropy: 1.0997 - AUC: 0.5002 - val_loss: 1.0940 - val_CategoricalAccuracy: 0.3333 - val_CategoricalCrossentropy: 1.0937 - val_AUC: 0.6474\n",
      "Epoch 57/200\n",
      "21/21 [==============================] - 0s 3ms/step - loss: 1.6532 - CategoricalAccuracy: 0.3383 - CategoricalCrossentropy: 1.1009 - AUC: 0.5042 - val_loss: 1.0940 - val_CategoricalAccuracy: 0.3333 - val_CategoricalCrossentropy: 1.0937 - val_AUC: 0.6577\n",
      "Epoch 58/200\n",
      "21/21 [==============================] - 0s 3ms/step - loss: 1.6401 - CategoricalAccuracy: 0.3802 - CategoricalCrossentropy: 1.0919 - AUC: 0.5396 - val_loss: 1.0940 - val_CategoricalAccuracy: 0.3333 - val_CategoricalCrossentropy: 1.0937 - val_AUC: 0.6582\n",
      "Epoch 59/200\n",
      "21/21 [==============================] - 0s 3ms/step - loss: 1.6394 - CategoricalAccuracy: 0.3892 - CategoricalCrossentropy: 1.0904 - AUC: 0.5370 - val_loss: 1.0925 - val_CategoricalAccuracy: 0.3333 - val_CategoricalCrossentropy: 1.0922 - val_AUC: 0.6817\n",
      "Epoch 60/200\n",
      "21/21 [==============================] - 0s 3ms/step - loss: 1.6419 - CategoricalAccuracy: 0.3683 - CategoricalCrossentropy: 1.0955 - AUC: 0.5199 - val_loss: 1.0920 - val_CategoricalAccuracy: 0.3333 - val_CategoricalCrossentropy: 1.0917 - val_AUC: 0.6906\n",
      "Epoch 61/200\n",
      "21/21 [==============================] - 0s 3ms/step - loss: 1.6480 - CategoricalAccuracy: 0.3787 - CategoricalCrossentropy: 1.0980 - AUC: 0.5128 - val_loss: 1.0924 - val_CategoricalAccuracy: 0.3333 - val_CategoricalCrossentropy: 1.0921 - val_AUC: 0.7229\n",
      "Epoch 62/200\n",
      "21/21 [==============================] - 0s 3ms/step - loss: 1.6438 - CategoricalAccuracy: 0.3683 - CategoricalCrossentropy: 1.0961 - AUC: 0.5210 - val_loss: 1.0921 - val_CategoricalAccuracy: 0.3333 - val_CategoricalCrossentropy: 1.0918 - val_AUC: 0.6791\n",
      "Epoch 63/200\n",
      "21/21 [==============================] - 0s 3ms/step - loss: 1.6444 - CategoricalAccuracy: 0.3458 - CategoricalCrossentropy: 1.0950 - AUC: 0.5258 - val_loss: 1.0915 - val_CategoricalAccuracy: 0.3333 - val_CategoricalCrossentropy: 1.0911 - val_AUC: 0.6558\n",
      "Epoch 64/200\n",
      "21/21 [==============================] - 0s 3ms/step - loss: 1.6373 - CategoricalAccuracy: 0.4087 - CategoricalCrossentropy: 1.0927 - AUC: 0.5414 - val_loss: 1.0918 - val_CategoricalAccuracy: 0.3333 - val_CategoricalCrossentropy: 1.0914 - val_AUC: 0.6800\n",
      "Epoch 65/200\n",
      "21/21 [==============================] - 0s 3ms/step - loss: 1.6417 - CategoricalAccuracy: 0.3862 - CategoricalCrossentropy: 1.0920 - AUC: 0.5347 - val_loss: 1.0897 - val_CategoricalAccuracy: 0.3333 - val_CategoricalCrossentropy: 1.0894 - val_AUC: 0.6555\n",
      "Epoch 66/200\n",
      "21/21 [==============================] - 0s 3ms/step - loss: 1.6478 - CategoricalAccuracy: 0.3608 - CategoricalCrossentropy: 1.0982 - AUC: 0.5125 - val_loss: 1.0917 - val_CategoricalAccuracy: 0.3333 - val_CategoricalCrossentropy: 1.0913 - val_AUC: 0.6596\n",
      "Epoch 67/200\n",
      "21/21 [==============================] - 0s 3ms/step - loss: 1.6498 - CategoricalAccuracy: 0.3802 - CategoricalCrossentropy: 1.0951 - AUC: 0.5323 - val_loss: 1.0912 - val_CategoricalAccuracy: 0.3333 - val_CategoricalCrossentropy: 1.0907 - val_AUC: 0.6562\n",
      "Epoch 68/200\n",
      "21/21 [==============================] - 0s 3ms/step - loss: 1.6476 - CategoricalAccuracy: 0.3563 - CategoricalCrossentropy: 1.0953 - AUC: 0.5243 - val_loss: 1.0910 - val_CategoricalAccuracy: 0.3333 - val_CategoricalCrossentropy: 1.0906 - val_AUC: 0.6556\n",
      "Epoch 69/200\n",
      "21/21 [==============================] - 0s 3ms/step - loss: 1.6393 - CategoricalAccuracy: 0.3907 - CategoricalCrossentropy: 1.0931 - AUC: 0.5304 - val_loss: 1.0919 - val_CategoricalAccuracy: 0.3333 - val_CategoricalCrossentropy: 1.0914 - val_AUC: 0.6677\n",
      "Epoch 70/200\n",
      "21/21 [==============================] - 0s 3ms/step - loss: 1.6513 - CategoricalAccuracy: 0.3488 - CategoricalCrossentropy: 1.0994 - AUC: 0.5123 - val_loss: 1.0926 - val_CategoricalAccuracy: 0.3333 - val_CategoricalCrossentropy: 1.0922 - val_AUC: 0.6605\n",
      "Epoch 71/200\n",
      "21/21 [==============================] - 0s 3ms/step - loss: 1.6459 - CategoricalAccuracy: 0.3802 - CategoricalCrossentropy: 1.0920 - AUC: 0.5410 - val_loss: 1.0913 - val_CategoricalAccuracy: 0.3333 - val_CategoricalCrossentropy: 1.0909 - val_AUC: 0.6572\n",
      "Epoch 72/200\n",
      "21/21 [==============================] - 0s 3ms/step - loss: 1.6481 - CategoricalAccuracy: 0.3503 - CategoricalCrossentropy: 1.0974 - AUC: 0.5153 - val_loss: 1.0909 - val_CategoricalAccuracy: 0.3333 - val_CategoricalCrossentropy: 1.0906 - val_AUC: 0.6579\n",
      "Epoch 73/200\n",
      "21/21 [==============================] - 0s 3ms/step - loss: 1.6476 - CategoricalAccuracy: 0.3488 - CategoricalCrossentropy: 1.0966 - AUC: 0.5133 - val_loss: 1.0902 - val_CategoricalAccuracy: 0.3333 - val_CategoricalCrossentropy: 1.0898 - val_AUC: 0.6589\n",
      "Epoch 74/200\n",
      "21/21 [==============================] - 0s 3ms/step - loss: 1.6412 - CategoricalAccuracy: 0.3728 - CategoricalCrossentropy: 1.0960 - AUC: 0.5221 - val_loss: 1.0904 - val_CategoricalAccuracy: 0.3929 - val_CategoricalCrossentropy: 1.0902 - val_AUC: 0.6867\n",
      "Epoch 75/200\n",
      "21/21 [==============================] - 0s 3ms/step - loss: 1.6473 - CategoricalAccuracy: 0.3623 - CategoricalCrossentropy: 1.0999 - AUC: 0.5084 - val_loss: 1.0908 - val_CategoricalAccuracy: 0.3929 - val_CategoricalCrossentropy: 1.0904 - val_AUC: 0.6644\n",
      "Epoch 76/200\n",
      "21/21 [==============================] - 0s 3ms/step - loss: 1.6351 - CategoricalAccuracy: 0.3683 - CategoricalCrossentropy: 1.0918 - AUC: 0.5353 - val_loss: 1.0893 - val_CategoricalAccuracy: 0.3929 - val_CategoricalCrossentropy: 1.0890 - val_AUC: 0.6896\n",
      "Epoch 77/200\n",
      "21/21 [==============================] - 0s 3ms/step - loss: 1.6412 - CategoricalAccuracy: 0.3668 - CategoricalCrossentropy: 1.0960 - AUC: 0.5220 - val_loss: 1.0880 - val_CategoricalAccuracy: 0.3929 - val_CategoricalCrossentropy: 1.0877 - val_AUC: 0.6887\n",
      "Epoch 78/200\n",
      "21/21 [==============================] - 0s 3ms/step - loss: 1.6439 - CategoricalAccuracy: 0.3757 - CategoricalCrossentropy: 1.0959 - AUC: 0.5221 - val_loss: 1.0866 - val_CategoricalAccuracy: 0.3750 - val_CategoricalCrossentropy: 1.0862 - val_AUC: 0.7463\n",
      "Epoch 79/200\n",
      "21/21 [==============================] - 0s 3ms/step - loss: 1.6379 - CategoricalAccuracy: 0.4057 - CategoricalCrossentropy: 1.0903 - AUC: 0.5481 - val_loss: 1.0873 - val_CategoricalAccuracy: 0.3869 - val_CategoricalCrossentropy: 1.0868 - val_AUC: 0.6656\n",
      "Epoch 80/200\n",
      "21/21 [==============================] - 0s 3ms/step - loss: 1.6352 - CategoricalAccuracy: 0.4102 - CategoricalCrossentropy: 1.0893 - AUC: 0.5507 - val_loss: 1.0871 - val_CategoricalAccuracy: 0.3929 - val_CategoricalCrossentropy: 1.0867 - val_AUC: 0.6874\n",
      "Epoch 81/200\n",
      "21/21 [==============================] - 0s 3ms/step - loss: 1.6495 - CategoricalAccuracy: 0.3608 - CategoricalCrossentropy: 1.0937 - AUC: 0.5270 - val_loss: 1.0852 - val_CategoricalAccuracy: 0.3929 - val_CategoricalCrossentropy: 1.0848 - val_AUC: 0.6900\n",
      "Epoch 82/200\n",
      "21/21 [==============================] - 0s 3ms/step - loss: 1.6474 - CategoricalAccuracy: 0.3862 - CategoricalCrossentropy: 1.0936 - AUC: 0.5318 - val_loss: 1.0864 - val_CategoricalAccuracy: 0.3929 - val_CategoricalCrossentropy: 1.0859 - val_AUC: 0.6821\n",
      "Epoch 83/200\n",
      "21/21 [==============================] - 0s 3ms/step - loss: 1.6259 - CategoricalAccuracy: 0.4072 - CategoricalCrossentropy: 1.0871 - AUC: 0.5580 - val_loss: 1.0857 - val_CategoricalAccuracy: 0.3929 - val_CategoricalCrossentropy: 1.0852 - val_AUC: 0.6925\n",
      "Epoch 84/200\n",
      "21/21 [==============================] - 0s 3ms/step - loss: 1.6388 - CategoricalAccuracy: 0.3892 - CategoricalCrossentropy: 1.0885 - AUC: 0.5501 - val_loss: 1.0848 - val_CategoricalAccuracy: 0.3929 - val_CategoricalCrossentropy: 1.0844 - val_AUC: 0.7070\n",
      "Epoch 85/200\n",
      "21/21 [==============================] - 0s 3ms/step - loss: 1.6326 - CategoricalAccuracy: 0.4177 - CategoricalCrossentropy: 1.0865 - AUC: 0.5583 - val_loss: 1.0831 - val_CategoricalAccuracy: 0.3929 - val_CategoricalCrossentropy: 1.0827 - val_AUC: 0.7046\n",
      "Epoch 86/200\n",
      "21/21 [==============================] - 0s 3ms/step - loss: 1.6373 - CategoricalAccuracy: 0.4102 - CategoricalCrossentropy: 1.0872 - AUC: 0.5562 - val_loss: 1.0823 - val_CategoricalAccuracy: 0.3929 - val_CategoricalCrossentropy: 1.0818 - val_AUC: 0.7057\n",
      "Epoch 87/200\n",
      "21/21 [==============================] - 0s 3ms/step - loss: 1.6319 - CategoricalAccuracy: 0.3743 - CategoricalCrossentropy: 1.0911 - AUC: 0.5349 - val_loss: 1.0816 - val_CategoricalAccuracy: 0.3929 - val_CategoricalCrossentropy: 1.0812 - val_AUC: 0.7133\n",
      "Epoch 88/200\n",
      "21/21 [==============================] - 0s 3ms/step - loss: 1.6234 - CategoricalAccuracy: 0.4192 - CategoricalCrossentropy: 1.0818 - AUC: 0.5814 - val_loss: 1.0780 - val_CategoricalAccuracy: 0.3929 - val_CategoricalCrossentropy: 1.0776 - val_AUC: 0.7628\n",
      "Epoch 89/200\n",
      "21/21 [==============================] - 0s 3ms/step - loss: 1.6255 - CategoricalAccuracy: 0.4237 - CategoricalCrossentropy: 1.0813 - AUC: 0.5765 - val_loss: 1.0768 - val_CategoricalAccuracy: 0.6429 - val_CategoricalCrossentropy: 1.0764 - val_AUC: 0.7686\n",
      "Epoch 90/200\n",
      "21/21 [==============================] - 0s 3ms/step - loss: 1.6208 - CategoricalAccuracy: 0.4551 - CategoricalCrossentropy: 1.0775 - AUC: 0.5964 - val_loss: 1.0765 - val_CategoricalAccuracy: 0.3929 - val_CategoricalCrossentropy: 1.0761 - val_AUC: 0.7581\n",
      "Epoch 91/200\n",
      "21/21 [==============================] - 0s 3ms/step - loss: 1.6226 - CategoricalAccuracy: 0.4117 - CategoricalCrossentropy: 1.0871 - AUC: 0.5571 - val_loss: 1.0750 - val_CategoricalAccuracy: 0.3869 - val_CategoricalCrossentropy: 1.0746 - val_AUC: 0.7623\n",
      "Epoch 92/200\n",
      "21/21 [==============================] - 0s 3ms/step - loss: 1.6117 - CategoricalAccuracy: 0.4192 - CategoricalCrossentropy: 1.0766 - AUC: 0.5936 - val_loss: 1.0730 - val_CategoricalAccuracy: 0.6250 - val_CategoricalCrossentropy: 1.0726 - val_AUC: 0.7635\n",
      "Epoch 93/200\n",
      "21/21 [==============================] - 0s 3ms/step - loss: 1.6165 - CategoricalAccuracy: 0.4192 - CategoricalCrossentropy: 1.0757 - AUC: 0.6009 - val_loss: 1.0702 - val_CategoricalAccuracy: 0.6310 - val_CategoricalCrossentropy: 1.0697 - val_AUC: 0.7647\n",
      "Epoch 94/200\n",
      "21/21 [==============================] - 0s 3ms/step - loss: 1.6135 - CategoricalAccuracy: 0.4626 - CategoricalCrossentropy: 1.0706 - AUC: 0.6095 - val_loss: 1.0676 - val_CategoricalAccuracy: 0.6250 - val_CategoricalCrossentropy: 1.0671 - val_AUC: 0.7628\n",
      "Epoch 95/200\n",
      "21/21 [==============================] - 0s 3ms/step - loss: 1.6082 - CategoricalAccuracy: 0.4207 - CategoricalCrossentropy: 1.0722 - AUC: 0.6102 - val_loss: 1.0649 - val_CategoricalAccuracy: 0.6250 - val_CategoricalCrossentropy: 1.0644 - val_AUC: 0.7536\n",
      "Epoch 96/200\n",
      "21/21 [==============================] - 0s 3ms/step - loss: 1.6147 - CategoricalAccuracy: 0.4237 - CategoricalCrossentropy: 1.0728 - AUC: 0.6047 - val_loss: 1.0633 - val_CategoricalAccuracy: 0.6131 - val_CategoricalCrossentropy: 1.0627 - val_AUC: 0.8160\n",
      "Epoch 97/200\n",
      "21/21 [==============================] - 0s 3ms/step - loss: 1.6118 - CategoricalAccuracy: 0.4506 - CategoricalCrossentropy: 1.0668 - AUC: 0.6182 - val_loss: 1.0613 - val_CategoricalAccuracy: 0.6250 - val_CategoricalCrossentropy: 1.0607 - val_AUC: 0.8075\n",
      "Epoch 98/200\n",
      "21/21 [==============================] - 0s 3ms/step - loss: 1.5979 - CategoricalAccuracy: 0.4760 - CategoricalCrossentropy: 1.0617 - AUC: 0.6413 - val_loss: 1.0604 - val_CategoricalAccuracy: 0.6190 - val_CategoricalCrossentropy: 1.0598 - val_AUC: 0.8197\n",
      "Epoch 99/200\n",
      "21/21 [==============================] - 0s 3ms/step - loss: 1.5993 - CategoricalAccuracy: 0.4536 - CategoricalCrossentropy: 1.0640 - AUC: 0.6287 - val_loss: 1.0571 - val_CategoricalAccuracy: 0.6310 - val_CategoricalCrossentropy: 1.0565 - val_AUC: 0.8167\n",
      "Epoch 100/200\n",
      "21/21 [==============================] - 0s 3ms/step - loss: 1.5907 - CategoricalAccuracy: 0.4910 - CategoricalCrossentropy: 1.0579 - AUC: 0.6442 - val_loss: 1.0544 - val_CategoricalAccuracy: 0.6250 - val_CategoricalCrossentropy: 1.0537 - val_AUC: 0.8071\n",
      "Epoch 101/200\n",
      "21/21 [==============================] - 0s 3ms/step - loss: 1.5752 - CategoricalAccuracy: 0.5060 - CategoricalCrossentropy: 1.0532 - AUC: 0.6645 - val_loss: 1.0528 - val_CategoricalAccuracy: 0.6250 - val_CategoricalCrossentropy: 1.0521 - val_AUC: 0.8158\n",
      "Epoch 102/200\n",
      "21/21 [==============================] - 0s 3ms/step - loss: 1.6007 - CategoricalAccuracy: 0.4431 - CategoricalCrossentropy: 1.0628 - AUC: 0.6252 - val_loss: 1.0474 - val_CategoricalAccuracy: 0.6310 - val_CategoricalCrossentropy: 1.0466 - val_AUC: 0.8158\n",
      "Epoch 103/200\n",
      "21/21 [==============================] - 0s 3ms/step - loss: 1.5771 - CategoricalAccuracy: 0.4716 - CategoricalCrossentropy: 1.0516 - AUC: 0.6584 - val_loss: 1.0459 - val_CategoricalAccuracy: 0.6310 - val_CategoricalCrossentropy: 1.0451 - val_AUC: 0.8061\n",
      "Epoch 104/200\n",
      "21/21 [==============================] - 0s 3ms/step - loss: 1.5789 - CategoricalAccuracy: 0.4581 - CategoricalCrossentropy: 1.0533 - AUC: 0.6475 - val_loss: 1.0428 - val_CategoricalAccuracy: 0.6310 - val_CategoricalCrossentropy: 1.0420 - val_AUC: 0.8150\n",
      "Epoch 105/200\n",
      "21/21 [==============================] - 0s 3ms/step - loss: 1.5656 - CategoricalAccuracy: 0.4820 - CategoricalCrossentropy: 1.0427 - AUC: 0.6792 - val_loss: 1.0388 - val_CategoricalAccuracy: 0.6310 - val_CategoricalCrossentropy: 1.0379 - val_AUC: 0.8124\n",
      "Epoch 106/200\n",
      "21/21 [==============================] - 0s 3ms/step - loss: 1.5715 - CategoricalAccuracy: 0.5254 - CategoricalCrossentropy: 1.0397 - AUC: 0.6865 - val_loss: 1.0342 - val_CategoricalAccuracy: 0.6429 - val_CategoricalCrossentropy: 1.0334 - val_AUC: 0.8191\n",
      "Epoch 107/200\n",
      "21/21 [==============================] - 0s 3ms/step - loss: 1.5661 - CategoricalAccuracy: 0.4925 - CategoricalCrossentropy: 1.0400 - AUC: 0.6734 - val_loss: 1.0319 - val_CategoricalAccuracy: 0.6310 - val_CategoricalCrossentropy: 1.0309 - val_AUC: 0.8128\n",
      "Epoch 108/200\n",
      "21/21 [==============================] - 0s 3ms/step - loss: 1.5465 - CategoricalAccuracy: 0.5105 - CategoricalCrossentropy: 1.0321 - AUC: 0.6932 - val_loss: 1.0277 - val_CategoricalAccuracy: 0.6369 - val_CategoricalCrossentropy: 1.0267 - val_AUC: 0.8145\n",
      "Epoch 109/200\n",
      "21/21 [==============================] - 0s 3ms/step - loss: 1.5495 - CategoricalAccuracy: 0.5000 - CategoricalCrossentropy: 1.0310 - AUC: 0.6902 - val_loss: 1.0233 - val_CategoricalAccuracy: 0.6429 - val_CategoricalCrossentropy: 1.0222 - val_AUC: 0.8172\n",
      "Epoch 110/200\n",
      "21/21 [==============================] - 0s 3ms/step - loss: 1.5487 - CategoricalAccuracy: 0.4895 - CategoricalCrossentropy: 1.0282 - AUC: 0.6864 - val_loss: 1.0191 - val_CategoricalAccuracy: 0.6429 - val_CategoricalCrossentropy: 1.0180 - val_AUC: 0.8197\n",
      "Epoch 111/200\n",
      "21/21 [==============================] - 0s 3ms/step - loss: 1.5324 - CategoricalAccuracy: 0.5314 - CategoricalCrossentropy: 1.0184 - AUC: 0.7168 - val_loss: 1.0137 - val_CategoricalAccuracy: 0.6429 - val_CategoricalCrossentropy: 1.0127 - val_AUC: 0.8182\n",
      "Epoch 112/200\n",
      "21/21 [==============================] - 0s 3ms/step - loss: 1.5305 - CategoricalAccuracy: 0.5120 - CategoricalCrossentropy: 1.0216 - AUC: 0.7043 - val_loss: 1.0104 - val_CategoricalAccuracy: 0.6429 - val_CategoricalCrossentropy: 1.0092 - val_AUC: 0.8197\n",
      "Epoch 113/200\n",
      "21/21 [==============================] - 0s 3ms/step - loss: 1.5233 - CategoricalAccuracy: 0.4985 - CategoricalCrossentropy: 1.0187 - AUC: 0.7009 - val_loss: 1.0057 - val_CategoricalAccuracy: 0.6429 - val_CategoricalCrossentropy: 1.0044 - val_AUC: 0.8196\n",
      "Epoch 114/200\n",
      "21/21 [==============================] - 0s 3ms/step - loss: 1.5221 - CategoricalAccuracy: 0.5299 - CategoricalCrossentropy: 1.0078 - AUC: 0.7235 - val_loss: 1.0000 - val_CategoricalAccuracy: 0.6429 - val_CategoricalCrossentropy: 0.9985 - val_AUC: 0.8200\n",
      "Epoch 115/200\n",
      "21/21 [==============================] - 0s 3ms/step - loss: 1.5001 - CategoricalAccuracy: 0.5225 - CategoricalCrossentropy: 1.0021 - AUC: 0.7291 - val_loss: 0.9965 - val_CategoricalAccuracy: 0.6429 - val_CategoricalCrossentropy: 0.9951 - val_AUC: 0.8202\n",
      "Epoch 116/200\n",
      "21/21 [==============================] - 0s 3ms/step - loss: 1.5001 - CategoricalAccuracy: 0.5329 - CategoricalCrossentropy: 0.9987 - AUC: 0.7301 - val_loss: 0.9909 - val_CategoricalAccuracy: 0.6429 - val_CategoricalCrossentropy: 0.9894 - val_AUC: 0.8231\n",
      "Epoch 117/200\n",
      "21/21 [==============================] - 0s 3ms/step - loss: 1.4985 - CategoricalAccuracy: 0.5120 - CategoricalCrossentropy: 1.0005 - AUC: 0.7179 - val_loss: 0.9864 - val_CategoricalAccuracy: 0.6429 - val_CategoricalCrossentropy: 0.9846 - val_AUC: 0.8193\n",
      "Epoch 118/200\n",
      "21/21 [==============================] - 0s 3ms/step - loss: 1.4930 - CategoricalAccuracy: 0.5359 - CategoricalCrossentropy: 0.9901 - AUC: 0.7310 - val_loss: 0.9800 - val_CategoricalAccuracy: 0.6429 - val_CategoricalCrossentropy: 0.9782 - val_AUC: 0.8194\n",
      "Epoch 119/200\n",
      "21/21 [==============================] - 0s 3ms/step - loss: 1.4827 - CategoricalAccuracy: 0.4910 - CategoricalCrossentropy: 0.9907 - AUC: 0.7181 - val_loss: 0.9760 - val_CategoricalAccuracy: 0.6429 - val_CategoricalCrossentropy: 0.9741 - val_AUC: 0.8183\n",
      "Epoch 120/200\n",
      "21/21 [==============================] - 0s 3ms/step - loss: 1.4756 - CategoricalAccuracy: 0.5135 - CategoricalCrossentropy: 0.9791 - AUC: 0.7328 - val_loss: 0.9697 - val_CategoricalAccuracy: 0.6429 - val_CategoricalCrossentropy: 0.9677 - val_AUC: 0.8201\n",
      "Epoch 121/200\n",
      "21/21 [==============================] - 0s 3ms/step - loss: 1.4535 - CategoricalAccuracy: 0.5254 - CategoricalCrossentropy: 0.9719 - AUC: 0.7446 - val_loss: 0.9649 - val_CategoricalAccuracy: 0.6429 - val_CategoricalCrossentropy: 0.9627 - val_AUC: 0.8155\n",
      "Epoch 122/200\n",
      "21/21 [==============================] - 0s 3ms/step - loss: 1.4467 - CategoricalAccuracy: 0.5284 - CategoricalCrossentropy: 0.9702 - AUC: 0.7358 - val_loss: 0.9598 - val_CategoricalAccuracy: 0.6429 - val_CategoricalCrossentropy: 0.9577 - val_AUC: 0.8176\n",
      "Epoch 123/200\n",
      "21/21 [==============================] - 0s 3ms/step - loss: 1.4495 - CategoricalAccuracy: 0.5150 - CategoricalCrossentropy: 0.9706 - AUC: 0.7355 - val_loss: 0.9546 - val_CategoricalAccuracy: 0.6429 - val_CategoricalCrossentropy: 0.9523 - val_AUC: 0.8194\n",
      "Epoch 124/200\n",
      "21/21 [==============================] - 0s 3ms/step - loss: 1.4493 - CategoricalAccuracy: 0.5150 - CategoricalCrossentropy: 0.9639 - AUC: 0.7374 - val_loss: 0.9501 - val_CategoricalAccuracy: 0.6429 - val_CategoricalCrossentropy: 0.9476 - val_AUC: 0.8187\n",
      "Epoch 125/200\n",
      "21/21 [==============================] - 0s 3ms/step - loss: 1.4409 - CategoricalAccuracy: 0.5314 - CategoricalCrossentropy: 0.9630 - AUC: 0.7416 - val_loss: 0.9453 - val_CategoricalAccuracy: 0.6429 - val_CategoricalCrossentropy: 0.9427 - val_AUC: 0.8191\n",
      "Epoch 126/200\n",
      "21/21 [==============================] - 0s 3ms/step - loss: 1.4306 - CategoricalAccuracy: 0.5254 - CategoricalCrossentropy: 0.9543 - AUC: 0.7443 - val_loss: 0.9405 - val_CategoricalAccuracy: 0.6429 - val_CategoricalCrossentropy: 0.9378 - val_AUC: 0.8137\n",
      "Epoch 127/200\n",
      "21/21 [==============================] - 0s 3ms/step - loss: 1.4243 - CategoricalAccuracy: 0.5075 - CategoricalCrossentropy: 0.9538 - AUC: 0.7377 - val_loss: 0.9363 - val_CategoricalAccuracy: 0.6429 - val_CategoricalCrossentropy: 0.9335 - val_AUC: 0.8207\n",
      "Epoch 128/200\n",
      "21/21 [==============================] - 0s 3ms/step - loss: 1.3957 - CategoricalAccuracy: 0.5449 - CategoricalCrossentropy: 0.9443 - AUC: 0.7477 - val_loss: 0.9295 - val_CategoricalAccuracy: 0.6429 - val_CategoricalCrossentropy: 0.9267 - val_AUC: 0.8191\n",
      "Epoch 129/200\n",
      "21/21 [==============================] - 0s 3ms/step - loss: 1.3836 - CategoricalAccuracy: 0.5494 - CategoricalCrossentropy: 0.9345 - AUC: 0.7585 - val_loss: 0.9230 - val_CategoricalAccuracy: 0.6429 - val_CategoricalCrossentropy: 0.9200 - val_AUC: 0.8174\n",
      "Epoch 130/200\n",
      "21/21 [==============================] - 0s 3ms/step - loss: 1.3746 - CategoricalAccuracy: 0.5299 - CategoricalCrossentropy: 0.9289 - AUC: 0.7621 - val_loss: 0.9164 - val_CategoricalAccuracy: 0.6429 - val_CategoricalCrossentropy: 0.9133 - val_AUC: 0.8195\n",
      "Epoch 131/200\n",
      "21/21 [==============================] - 0s 3ms/step - loss: 1.3597 - CategoricalAccuracy: 0.5359 - CategoricalCrossentropy: 0.9223 - AUC: 0.7593 - val_loss: 0.9110 - val_CategoricalAccuracy: 0.6429 - val_CategoricalCrossentropy: 0.9077 - val_AUC: 0.8218\n",
      "Epoch 132/200\n",
      "21/21 [==============================] - 0s 3ms/step - loss: 1.3849 - CategoricalAccuracy: 0.5210 - CategoricalCrossentropy: 0.9265 - AUC: 0.7534 - val_loss: 0.9054 - val_CategoricalAccuracy: 0.6429 - val_CategoricalCrossentropy: 0.9018 - val_AUC: 0.8214\n",
      "Epoch 133/200\n",
      "21/21 [==============================] - 0s 3ms/step - loss: 1.3488 - CategoricalAccuracy: 0.5419 - CategoricalCrossentropy: 0.9183 - AUC: 0.7567 - val_loss: 0.9008 - val_CategoricalAccuracy: 0.6429 - val_CategoricalCrossentropy: 0.8971 - val_AUC: 0.8210\n",
      "Epoch 134/200\n",
      "21/21 [==============================] - 0s 3ms/step - loss: 1.3396 - CategoricalAccuracy: 0.5494 - CategoricalCrossentropy: 0.9064 - AUC: 0.7656 - val_loss: 0.8956 - val_CategoricalAccuracy: 0.6429 - val_CategoricalCrossentropy: 0.8919 - val_AUC: 0.8216\n",
      "Epoch 135/200\n",
      "21/21 [==============================] - 0s 3ms/step - loss: 1.3361 - CategoricalAccuracy: 0.5225 - CategoricalCrossentropy: 0.9146 - AUC: 0.7549 - val_loss: 0.8897 - val_CategoricalAccuracy: 0.6429 - val_CategoricalCrossentropy: 0.8859 - val_AUC: 0.8195\n",
      "Epoch 136/200\n",
      "21/21 [==============================] - 0s 3ms/step - loss: 1.3095 - CategoricalAccuracy: 0.5868 - CategoricalCrossentropy: 0.8926 - AUC: 0.7781 - val_loss: 0.8854 - val_CategoricalAccuracy: 0.6429 - val_CategoricalCrossentropy: 0.8813 - val_AUC: 0.8213\n",
      "Epoch 137/200\n",
      "21/21 [==============================] - 0s 3ms/step - loss: 1.2962 - CategoricalAccuracy: 0.5838 - CategoricalCrossentropy: 0.8863 - AUC: 0.7829 - val_loss: 0.8794 - val_CategoricalAccuracy: 0.6429 - val_CategoricalCrossentropy: 0.8751 - val_AUC: 0.8198\n",
      "Epoch 138/200\n",
      "21/21 [==============================] - 0s 3ms/step - loss: 1.3006 - CategoricalAccuracy: 0.5045 - CategoricalCrossentropy: 0.8944 - AUC: 0.7586 - val_loss: 0.8736 - val_CategoricalAccuracy: 0.6429 - val_CategoricalCrossentropy: 0.8690 - val_AUC: 0.8226\n",
      "Epoch 139/200\n",
      "21/21 [==============================] - 0s 3ms/step - loss: 1.2798 - CategoricalAccuracy: 0.5329 - CategoricalCrossentropy: 0.8836 - AUC: 0.7636 - val_loss: 0.8690 - val_CategoricalAccuracy: 0.6429 - val_CategoricalCrossentropy: 0.8642 - val_AUC: 0.8226\n",
      "Epoch 140/200\n",
      "21/21 [==============================] - 0s 3ms/step - loss: 1.2728 - CategoricalAccuracy: 0.5359 - CategoricalCrossentropy: 0.8828 - AUC: 0.7615 - val_loss: 0.8627 - val_CategoricalAccuracy: 0.6429 - val_CategoricalCrossentropy: 0.8579 - val_AUC: 0.8227\n",
      "Epoch 141/200\n",
      "21/21 [==============================] - 0s 3ms/step - loss: 1.2760 - CategoricalAccuracy: 0.5120 - CategoricalCrossentropy: 0.8789 - AUC: 0.7603 - val_loss: 0.8584 - val_CategoricalAccuracy: 0.6429 - val_CategoricalCrossentropy: 0.8533 - val_AUC: 0.8212\n",
      "Epoch 142/200\n",
      "21/21 [==============================] - 0s 3ms/step - loss: 1.2605 - CategoricalAccuracy: 0.5284 - CategoricalCrossentropy: 0.8739 - AUC: 0.7664 - val_loss: 0.8536 - val_CategoricalAccuracy: 0.6429 - val_CategoricalCrossentropy: 0.8484 - val_AUC: 0.8223\n",
      "Epoch 143/200\n",
      "21/21 [==============================] - 0s 3ms/step - loss: 1.2360 - CategoricalAccuracy: 0.5494 - CategoricalCrossentropy: 0.8586 - AUC: 0.7812 - val_loss: 0.8491 - val_CategoricalAccuracy: 0.6429 - val_CategoricalCrossentropy: 0.8437 - val_AUC: 0.8217\n",
      "Epoch 144/200\n",
      "21/21 [==============================] - 0s 3ms/step - loss: 1.2375 - CategoricalAccuracy: 0.5090 - CategoricalCrossentropy: 0.8580 - AUC: 0.7682 - val_loss: 0.8455 - val_CategoricalAccuracy: 0.6429 - val_CategoricalCrossentropy: 0.8399 - val_AUC: 0.8216\n",
      "Epoch 145/200\n",
      "21/21 [==============================] - 0s 3ms/step - loss: 1.2155 - CategoricalAccuracy: 0.5240 - CategoricalCrossentropy: 0.8497 - AUC: 0.7701 - val_loss: 0.8415 - val_CategoricalAccuracy: 0.6429 - val_CategoricalCrossentropy: 0.8357 - val_AUC: 0.8226\n",
      "Epoch 146/200\n",
      "21/21 [==============================] - 0s 3ms/step - loss: 1.2108 - CategoricalAccuracy: 0.5599 - CategoricalCrossentropy: 0.8485 - AUC: 0.7810 - val_loss: 0.8385 - val_CategoricalAccuracy: 0.6429 - val_CategoricalCrossentropy: 0.8324 - val_AUC: 0.8210\n",
      "Epoch 147/200\n",
      "21/21 [==============================] - 0s 3ms/step - loss: 1.2003 - CategoricalAccuracy: 0.5329 - CategoricalCrossentropy: 0.8397 - AUC: 0.7768 - val_loss: 0.8337 - val_CategoricalAccuracy: 0.6429 - val_CategoricalCrossentropy: 0.8274 - val_AUC: 0.8227\n",
      "Epoch 148/200\n",
      "21/21 [==============================] - 0s 3ms/step - loss: 1.1755 - CategoricalAccuracy: 0.5329 - CategoricalCrossentropy: 0.8412 - AUC: 0.7741 - val_loss: 0.8285 - val_CategoricalAccuracy: 0.6429 - val_CategoricalCrossentropy: 0.8220 - val_AUC: 0.8220\n",
      "Epoch 149/200\n",
      "21/21 [==============================] - 0s 3ms/step - loss: 1.1723 - CategoricalAccuracy: 0.5344 - CategoricalCrossentropy: 0.8323 - AUC: 0.7774 - val_loss: 0.8239 - val_CategoricalAccuracy: 0.6429 - val_CategoricalCrossentropy: 0.8174 - val_AUC: 0.8217\n",
      "Epoch 150/200\n",
      "21/21 [==============================] - 0s 3ms/step - loss: 1.1480 - CategoricalAccuracy: 0.5344 - CategoricalCrossentropy: 0.8247 - AUC: 0.7827 - val_loss: 0.8192 - val_CategoricalAccuracy: 0.6429 - val_CategoricalCrossentropy: 0.8125 - val_AUC: 0.8208\n",
      "Epoch 151/200\n",
      "21/21 [==============================] - 0s 3ms/step - loss: 1.1387 - CategoricalAccuracy: 0.5674 - CategoricalCrossentropy: 0.8108 - AUC: 0.7917 - val_loss: 0.8166 - val_CategoricalAccuracy: 0.6429 - val_CategoricalCrossentropy: 0.8097 - val_AUC: 0.8203\n",
      "Epoch 152/200\n",
      "21/21 [==============================] - 0s 3ms/step - loss: 1.1359 - CategoricalAccuracy: 0.5464 - CategoricalCrossentropy: 0.8193 - AUC: 0.7800 - val_loss: 0.8118 - val_CategoricalAccuracy: 0.6429 - val_CategoricalCrossentropy: 0.8047 - val_AUC: 0.8214\n",
      "Epoch 153/200\n",
      "21/21 [==============================] - 0s 3ms/step - loss: 1.1435 - CategoricalAccuracy: 0.5614 - CategoricalCrossentropy: 0.8154 - AUC: 0.7837 - val_loss: 0.8087 - val_CategoricalAccuracy: 0.6429 - val_CategoricalCrossentropy: 0.8014 - val_AUC: 0.8217\n",
      "Epoch 154/200\n",
      "21/21 [==============================] - 0s 3ms/step - loss: 1.1289 - CategoricalAccuracy: 0.5359 - CategoricalCrossentropy: 0.8108 - AUC: 0.7816 - val_loss: 0.8054 - val_CategoricalAccuracy: 0.6429 - val_CategoricalCrossentropy: 0.7978 - val_AUC: 0.8219\n",
      "Epoch 155/200\n",
      "21/21 [==============================] - 0s 3ms/step - loss: 1.1152 - CategoricalAccuracy: 0.5329 - CategoricalCrossentropy: 0.8080 - AUC: 0.7764 - val_loss: 0.8028 - val_CategoricalAccuracy: 0.6429 - val_CategoricalCrossentropy: 0.7950 - val_AUC: 0.8213\n",
      "Epoch 156/200\n",
      "21/21 [==============================] - 0s 3ms/step - loss: 1.0948 - CategoricalAccuracy: 0.5614 - CategoricalCrossentropy: 0.7902 - AUC: 0.7926 - val_loss: 0.7993 - val_CategoricalAccuracy: 0.6429 - val_CategoricalCrossentropy: 0.7914 - val_AUC: 0.8209\n",
      "Epoch 157/200\n",
      "21/21 [==============================] - 0s 3ms/step - loss: 1.0989 - CategoricalAccuracy: 0.5180 - CategoricalCrossentropy: 0.7999 - AUC: 0.7764 - val_loss: 0.7972 - val_CategoricalAccuracy: 0.6429 - val_CategoricalCrossentropy: 0.7890 - val_AUC: 0.8228\n",
      "Epoch 158/200\n",
      "21/21 [==============================] - 0s 3ms/step - loss: 1.1108 - CategoricalAccuracy: 0.5165 - CategoricalCrossentropy: 0.8048 - AUC: 0.7757 - val_loss: 0.7955 - val_CategoricalAccuracy: 0.6429 - val_CategoricalCrossentropy: 0.7871 - val_AUC: 0.8221\n",
      "Epoch 159/200\n",
      "21/21 [==============================] - 0s 3ms/step - loss: 1.0834 - CategoricalAccuracy: 0.5704 - CategoricalCrossentropy: 0.7927 - AUC: 0.7861 - val_loss: 0.7943 - val_CategoricalAccuracy: 0.6429 - val_CategoricalCrossentropy: 0.7855 - val_AUC: 0.8213\n",
      "Epoch 160/200\n",
      "21/21 [==============================] - 0s 3ms/step - loss: 1.0689 - CategoricalAccuracy: 0.5254 - CategoricalCrossentropy: 0.7944 - AUC: 0.7721 - val_loss: 0.7914 - val_CategoricalAccuracy: 0.6429 - val_CategoricalCrossentropy: 0.7823 - val_AUC: 0.8213\n",
      "Epoch 161/200\n",
      "21/21 [==============================] - 0s 3ms/step - loss: 1.0629 - CategoricalAccuracy: 0.5704 - CategoricalCrossentropy: 0.7801 - AUC: 0.7917 - val_loss: 0.7892 - val_CategoricalAccuracy: 0.6429 - val_CategoricalCrossentropy: 0.7799 - val_AUC: 0.8232\n",
      "Epoch 162/200\n",
      "21/21 [==============================] - 0s 3ms/step - loss: 1.0706 - CategoricalAccuracy: 0.5344 - CategoricalCrossentropy: 0.7903 - AUC: 0.7783 - val_loss: 0.7871 - val_CategoricalAccuracy: 0.6429 - val_CategoricalCrossentropy: 0.7774 - val_AUC: 0.8214\n",
      "Epoch 163/200\n",
      "21/21 [==============================] - 0s 3ms/step - loss: 1.0504 - CategoricalAccuracy: 0.5180 - CategoricalCrossentropy: 0.7770 - AUC: 0.7780 - val_loss: 0.7846 - val_CategoricalAccuracy: 0.6429 - val_CategoricalCrossentropy: 0.7747 - val_AUC: 0.8214\n",
      "Epoch 164/200\n",
      "21/21 [==============================] - 0s 3ms/step - loss: 1.0404 - CategoricalAccuracy: 0.5449 - CategoricalCrossentropy: 0.7729 - AUC: 0.7884 - val_loss: 0.7829 - val_CategoricalAccuracy: 0.6429 - val_CategoricalCrossentropy: 0.7728 - val_AUC: 0.8197\n",
      "Epoch 165/200\n",
      "21/21 [==============================] - 0s 3ms/step - loss: 1.0590 - CategoricalAccuracy: 0.5090 - CategoricalCrossentropy: 0.7819 - AUC: 0.7755 - val_loss: 0.7821 - val_CategoricalAccuracy: 0.6429 - val_CategoricalCrossentropy: 0.7716 - val_AUC: 0.7686\n",
      "Epoch 166/200\n",
      "21/21 [==============================] - 0s 3ms/step - loss: 1.0263 - CategoricalAccuracy: 0.5329 - CategoricalCrossentropy: 0.7679 - AUC: 0.7837 - val_loss: 0.7814 - val_CategoricalAccuracy: 0.3988 - val_CategoricalCrossentropy: 0.7706 - val_AUC: 0.7646\n",
      "Epoch 167/200\n",
      "21/21 [==============================] - 0s 3ms/step - loss: 1.0305 - CategoricalAccuracy: 0.5240 - CategoricalCrossentropy: 0.7716 - AUC: 0.7827 - val_loss: 0.7790 - val_CategoricalAccuracy: 0.6429 - val_CategoricalCrossentropy: 0.7681 - val_AUC: 0.7686\n",
      "Epoch 168/200\n",
      "21/21 [==============================] - 0s 3ms/step - loss: 1.0241 - CategoricalAccuracy: 0.5284 - CategoricalCrossentropy: 0.7712 - AUC: 0.7824 - val_loss: 0.7792 - val_CategoricalAccuracy: 0.3929 - val_CategoricalCrossentropy: 0.7678 - val_AUC: 0.7130\n",
      "Epoch 169/200\n",
      "21/21 [==============================] - 0s 3ms/step - loss: 1.0161 - CategoricalAccuracy: 0.5359 - CategoricalCrossentropy: 0.7690 - AUC: 0.7800 - val_loss: 0.7769 - val_CategoricalAccuracy: 0.4048 - val_CategoricalCrossentropy: 0.7654 - val_AUC: 0.7675\n",
      "Epoch 170/200\n",
      "21/21 [==============================] - 0s 3ms/step - loss: 1.0150 - CategoricalAccuracy: 0.5434 - CategoricalCrossentropy: 0.7685 - AUC: 0.7815 - val_loss: 0.7750 - val_CategoricalAccuracy: 0.3988 - val_CategoricalCrossentropy: 0.7633 - val_AUC: 0.7659\n",
      "Epoch 171/200\n",
      "21/21 [==============================] - 0s 3ms/step - loss: 0.9814 - CategoricalAccuracy: 0.5434 - CategoricalCrossentropy: 0.7539 - AUC: 0.7848 - val_loss: 0.7738 - val_CategoricalAccuracy: 0.3929 - val_CategoricalCrossentropy: 0.7618 - val_AUC: 0.7659\n",
      "Epoch 172/200\n",
      "21/21 [==============================] - 0s 3ms/step - loss: 0.9944 - CategoricalAccuracy: 0.5359 - CategoricalCrossentropy: 0.7577 - AUC: 0.7813 - val_loss: 0.7725 - val_CategoricalAccuracy: 0.3929 - val_CategoricalCrossentropy: 0.7602 - val_AUC: 0.7646\n",
      "Epoch 173/200\n",
      "21/21 [==============================] - 0s 3ms/step - loss: 0.9814 - CategoricalAccuracy: 0.5374 - CategoricalCrossentropy: 0.7536 - AUC: 0.7896 - val_loss: 0.7705 - val_CategoricalAccuracy: 0.3988 - val_CategoricalCrossentropy: 0.7581 - val_AUC: 0.7659\n",
      "Epoch 174/200\n",
      "21/21 [==============================] - 0s 3ms/step - loss: 0.9832 - CategoricalAccuracy: 0.5419 - CategoricalCrossentropy: 0.7498 - AUC: 0.7858 - val_loss: 0.7700 - val_CategoricalAccuracy: 0.3929 - val_CategoricalCrossentropy: 0.7574 - val_AUC: 0.7620\n",
      "Epoch 175/200\n",
      "21/21 [==============================] - 0s 3ms/step - loss: 0.9674 - CategoricalAccuracy: 0.5344 - CategoricalCrossentropy: 0.7483 - AUC: 0.7879 - val_loss: 0.7688 - val_CategoricalAccuracy: 0.3929 - val_CategoricalCrossentropy: 0.7559 - val_AUC: 0.7129\n",
      "Epoch 176/200\n",
      "21/21 [==============================] - 0s 3ms/step - loss: 0.9630 - CategoricalAccuracy: 0.5344 - CategoricalCrossentropy: 0.7463 - AUC: 0.7861 - val_loss: 0.7670 - val_CategoricalAccuracy: 0.3988 - val_CategoricalCrossentropy: 0.7540 - val_AUC: 0.7646\n",
      "Epoch 177/200\n",
      "21/21 [==============================] - 0s 12ms/step - loss: 0.9634 - CategoricalAccuracy: 0.5584 - CategoricalCrossentropy: 0.7431 - AUC: 0.7886 - val_loss: 0.7654 - val_CategoricalAccuracy: 0.4048 - val_CategoricalCrossentropy: 0.7522 - val_AUC: 0.7659\n",
      "Epoch 178/200\n",
      "21/21 [==============================] - 0s 3ms/step - loss: 0.9654 - CategoricalAccuracy: 0.5763 - CategoricalCrossentropy: 0.7438 - AUC: 0.7908 - val_loss: 0.7645 - val_CategoricalAccuracy: 0.4048 - val_CategoricalCrossentropy: 0.7511 - val_AUC: 0.7674\n",
      "Epoch 179/200\n",
      "21/21 [==============================] - 0s 3ms/step - loss: 0.9778 - CategoricalAccuracy: 0.4850 - CategoricalCrossentropy: 0.7597 - AUC: 0.7689 - val_loss: 0.7637 - val_CategoricalAccuracy: 0.3929 - val_CategoricalCrossentropy: 0.7500 - val_AUC: 0.7635\n",
      "Epoch 180/200\n",
      "21/21 [==============================] - 0s 3ms/step - loss: 0.9451 - CategoricalAccuracy: 0.5479 - CategoricalCrossentropy: 0.7371 - AUC: 0.7868 - val_loss: 0.7627 - val_CategoricalAccuracy: 0.3929 - val_CategoricalCrossentropy: 0.7487 - val_AUC: 0.7647\n",
      "Epoch 181/200\n",
      "21/21 [==============================] - 0s 3ms/step - loss: 0.9436 - CategoricalAccuracy: 0.5374 - CategoricalCrossentropy: 0.7390 - AUC: 0.7817 - val_loss: 0.7620 - val_CategoricalAccuracy: 0.3929 - val_CategoricalCrossentropy: 0.7479 - val_AUC: 0.7649\n",
      "Epoch 182/200\n",
      "21/21 [==============================] - 0s 3ms/step - loss: 0.9496 - CategoricalAccuracy: 0.5464 - CategoricalCrossentropy: 0.7409 - AUC: 0.7832 - val_loss: 0.7616 - val_CategoricalAccuracy: 0.3869 - val_CategoricalCrossentropy: 0.7472 - val_AUC: 0.7634\n",
      "Epoch 183/200\n",
      "21/21 [==============================] - 0s 3ms/step - loss: 0.9466 - CategoricalAccuracy: 0.5180 - CategoricalCrossentropy: 0.7392 - AUC: 0.7756 - val_loss: 0.7617 - val_CategoricalAccuracy: 0.3869 - val_CategoricalCrossentropy: 0.7470 - val_AUC: 0.7099\n",
      "Epoch 184/200\n",
      "21/21 [==============================] - 0s 3ms/step - loss: 0.9625 - CategoricalAccuracy: 0.5314 - CategoricalCrossentropy: 0.7449 - AUC: 0.7793 - val_loss: 0.7606 - val_CategoricalAccuracy: 0.3929 - val_CategoricalCrossentropy: 0.7458 - val_AUC: 0.7634\n",
      "Epoch 185/200\n",
      "21/21 [==============================] - 0s 3ms/step - loss: 0.9283 - CategoricalAccuracy: 0.5524 - CategoricalCrossentropy: 0.7312 - AUC: 0.7875 - val_loss: 0.7606 - val_CategoricalAccuracy: 0.3929 - val_CategoricalCrossentropy: 0.7457 - val_AUC: 0.7121\n",
      "Epoch 186/200\n",
      "21/21 [==============================] - 0s 3ms/step - loss: 0.9269 - CategoricalAccuracy: 0.5509 - CategoricalCrossentropy: 0.7292 - AUC: 0.7867 - val_loss: 0.7601 - val_CategoricalAccuracy: 0.3929 - val_CategoricalCrossentropy: 0.7449 - val_AUC: 0.7134\n",
      "Epoch 187/200\n",
      "21/21 [==============================] - 0s 3ms/step - loss: 0.9044 - CategoricalAccuracy: 0.5569 - CategoricalCrossentropy: 0.7158 - AUC: 0.7958 - val_loss: 0.7591 - val_CategoricalAccuracy: 0.6429 - val_CategoricalCrossentropy: 0.7439 - val_AUC: 0.7672\n",
      "Epoch 188/200\n",
      "21/21 [==============================] - 0s 3ms/step - loss: 0.9294 - CategoricalAccuracy: 0.5434 - CategoricalCrossentropy: 0.7406 - AUC: 0.7833 - val_loss: 0.7580 - val_CategoricalAccuracy: 0.6429 - val_CategoricalCrossentropy: 0.7426 - val_AUC: 0.8219\n",
      "Epoch 189/200\n",
      "21/21 [==============================] - 0s 3ms/step - loss: 0.9110 - CategoricalAccuracy: 0.5329 - CategoricalCrossentropy: 0.7290 - AUC: 0.7886 - val_loss: 0.7573 - val_CategoricalAccuracy: 0.4167 - val_CategoricalCrossentropy: 0.7416 - val_AUC: 0.7679\n",
      "Epoch 190/200\n",
      "21/21 [==============================] - 0s 3ms/step - loss: 0.9223 - CategoricalAccuracy: 0.5419 - CategoricalCrossentropy: 0.7334 - AUC: 0.7833 - val_loss: 0.7571 - val_CategoricalAccuracy: 0.6429 - val_CategoricalCrossentropy: 0.7413 - val_AUC: 0.7692\n",
      "Epoch 191/200\n",
      "21/21 [==============================] - 0s 3ms/step - loss: 0.9203 - CategoricalAccuracy: 0.5120 - CategoricalCrossentropy: 0.7301 - AUC: 0.7789 - val_loss: 0.7571 - val_CategoricalAccuracy: 0.4048 - val_CategoricalCrossentropy: 0.7410 - val_AUC: 0.7679\n",
      "Epoch 192/200\n",
      "21/21 [==============================] - 0s 3ms/step - loss: 0.9243 - CategoricalAccuracy: 0.5344 - CategoricalCrossentropy: 0.7296 - AUC: 0.7838 - val_loss: 0.7562 - val_CategoricalAccuracy: 0.3988 - val_CategoricalCrossentropy: 0.7398 - val_AUC: 0.7666\n",
      "Epoch 193/200\n",
      "21/21 [==============================] - 0s 3ms/step - loss: 0.9034 - CategoricalAccuracy: 0.5344 - CategoricalCrossentropy: 0.7236 - AUC: 0.7860 - val_loss: 0.7578 - val_CategoricalAccuracy: 0.3869 - val_CategoricalCrossentropy: 0.7410 - val_AUC: 0.7104\n",
      "Epoch 194/200\n",
      "21/21 [==============================] - 0s 3ms/step - loss: 0.9119 - CategoricalAccuracy: 0.5419 - CategoricalCrossentropy: 0.7227 - AUC: 0.7898 - val_loss: 0.7568 - val_CategoricalAccuracy: 0.3929 - val_CategoricalCrossentropy: 0.7400 - val_AUC: 0.7652\n",
      "Epoch 195/200\n",
      "21/21 [==============================] - 0s 3ms/step - loss: 0.9050 - CategoricalAccuracy: 0.5344 - CategoricalCrossentropy: 0.7256 - AUC: 0.7795 - val_loss: 0.7576 - val_CategoricalAccuracy: 0.3869 - val_CategoricalCrossentropy: 0.7404 - val_AUC: 0.7612\n",
      "Epoch 196/200\n",
      "21/21 [==============================] - 0s 3ms/step - loss: 0.8779 - CategoricalAccuracy: 0.5374 - CategoricalCrossentropy: 0.7153 - AUC: 0.7851 - val_loss: 0.7575 - val_CategoricalAccuracy: 0.3869 - val_CategoricalCrossentropy: 0.7401 - val_AUC: 0.7124\n",
      "Epoch 197/200\n",
      "21/21 [==============================] - 0s 3ms/step - loss: 0.9126 - CategoricalAccuracy: 0.5299 - CategoricalCrossentropy: 0.7326 - AUC: 0.7780 - val_loss: 0.7571 - val_CategoricalAccuracy: 0.3869 - val_CategoricalCrossentropy: 0.7393 - val_AUC: 0.7099\n",
      "Epoch 198/200\n",
      "21/21 [==============================] - 0s 3ms/step - loss: 0.8967 - CategoricalAccuracy: 0.5479 - CategoricalCrossentropy: 0.7228 - AUC: 0.7825 - val_loss: 0.7570 - val_CategoricalAccuracy: 0.3869 - val_CategoricalCrossentropy: 0.7390 - val_AUC: 0.7106\n",
      "Epoch 199/200\n",
      "21/21 [==============================] - 0s 3ms/step - loss: 0.8949 - CategoricalAccuracy: 0.5599 - CategoricalCrossentropy: 0.7181 - AUC: 0.7874 - val_loss: 0.7579 - val_CategoricalAccuracy: 0.3869 - val_CategoricalCrossentropy: 0.7398 - val_AUC: 0.7104\n",
      "Epoch 200/200\n",
      "21/21 [==============================] - 0s 3ms/step - loss: 0.8876 - CategoricalAccuracy: 0.5314 - CategoricalCrossentropy: 0.7123 - AUC: 0.7862 - val_loss: 0.7583 - val_CategoricalAccuracy: 0.3869 - val_CategoricalCrossentropy: 0.7400 - val_AUC: 0.7099\n"
     ]
    }
   ],
   "source": [
    "hist = model.fit(X_train, Y_train,\n",
    "                 class_weight=class_weights,\n",
    "                 batch_size=32,\n",
    "                 epochs=200,\n",
    "                 verbose=1,\n",
    "                 validation_data=(X_val, Y_val))"
   ]
  },
  {
   "cell_type": "code",
   "execution_count": 45,
   "metadata": {},
   "outputs": [
    {
     "data": {
      "image/png": "[encoded data removed]",
      "text/plain": [
       "<Figure size 1152x576 with 4 Axes>"
      ]
     },
     "metadata": {
      "needs_background": "light"
     },
     "output_type": "display_data"
    }
   ],
   "source": [
    "fig = plt.figure()\n",
    "fig.set_size_inches(16,8)\n",
    "\n",
    "ax=fig.add_subplot(2,2,1)\n",
    "ax.plot(hist.history['AUC'])\n",
    "ax.plot(hist.history['CategoricalCrossentropy'])\n",
    "ax.legend(['Metric', 'Loss'])\n",
    "ax.set_title('Train')\n",
    "\n",
    "ax=fig.add_subplot(2,2,2)\n",
    "ax.plot(hist.history['val_AUC'])\n",
    "ax.plot(hist.history['val_CategoricalCrossentropy'])\n",
    "ax.legend(['Metric', 'Loss'])\n",
    "ax.set_title('Test')\n",
    "\n",
    "ax=fig.add_subplot(2,2,3)\n",
    "ax.plot(hist.history['CategoricalCrossentropy'])\n",
    "ax.plot(hist.history['val_CategoricalCrossentropy'])\n",
    "ax.legend(['Train', 'Test'])\n",
    "ax.set_title('Loss')\n",
    "\n",
    "ax=fig.add_subplot(2,2,4)\n",
    "ax.plot(hist.history['AUC'])\n",
    "ax.plot(hist.history['val_AUC'])\n",
    "ax.legend(['Train', 'Test'])\n",
    "ax.set_title('Metric')\n",
    "\n",
    "plt.show()"
   ]
  },
  {
   "cell_type": "code",
   "execution_count": 46,
   "metadata": {},
   "outputs": [
    {
     "name": "stdout",
     "output_type": "stream",
     "text": [
      "7/7 - 0s - loss: 0.7585 - CategoricalAccuracy: 0.4762 - CategoricalCrossentropy: 0.7629 - AUC: 0.7460\n"
     ]
    }
   ],
   "source": [
    "results = model.evaluate(X_test, Y_test, verbose=2)"
   ]
  },
  {
   "cell_type": "code",
   "execution_count": 47,
   "metadata": {},
   "outputs": [
    {
     "data": {
      "text/plain": [
       "(3.5, -0.5)"
      ]
     },
     "execution_count": 47,
     "metadata": {},
     "output_type": "execute_result"
    },
    {
     "data": {
      "image/png": "[encoded data removed]",
      "text/plain": [
       "<Figure size 288x288 with 2 Axes>"
      ]
     },
     "metadata": {
      "needs_background": "light"
     },
     "output_type": "display_data"
    }
   ],
   "source": [
    "fig = plt.figure()\n",
    "fig.set_size_inches(4,4)\n",
    "ax=fig.add_subplot(1,1,1)\n",
    "title=None\n",
    "# plot_confusion_matrix(model_st, X, y, ax=fig.add_subplot(1,1,1), normalize=True, title='')\n",
    "\n",
    "conf_matrix = metrics.confusion_matrix(y_true=[np.argmax(i) for i in Y_test], \n",
    "                                       y_pred=[np.argmax(i) for i in model.predict(X_test)],\n",
    "                                       labels=None)  # returns matrix for sorted classes (i.e 0, 1, 2,..., n)\n",
    "\n",
    "classes = [0,1,2]\n",
    "n_classes = [Y_test[Y_test[:,c]==1].shape[0] for c in classes]\n",
    "\n",
    "normalize = True\n",
    "\n",
    "if normalize == True:\n",
    "    n_matrix = [[i for j in range(len(n_classes))] for i in n_classes]\n",
    "    norm_matrix = conf_matrix / np.array(n_classes)\n",
    "    ns_matrix = np.array([[i for j in enumerate(n_classes)] for i in n_classes])\n",
    "    labels = np.array([[\"{0:.2%} \\n {1:d} of {2:d}\".format(norm_matrix[i, j], conf_matrix[i, j],\n",
    "                                                           ns_matrix[i, j]) for j, v in\n",
    "                        enumerate(norm_matrix[i])]\n",
    "                       for i, v in enumerate(norm_matrix)])\n",
    "\n",
    "    sns.heatmap(norm_matrix, annot=labels, fmt='', cmap='Blues')\n",
    "else:\n",
    "    sns.heatmap(conf_matrix, annot=True, fmt='d', cmap='Blues')\n",
    "\n",
    "ax.set_ylabel('True Labels')\n",
    "ax.set_xlabel('Predicted Labels')\n",
    "if title is None:\n",
    "    title = model.__class__.__name__\n",
    "ax.set_title(title)\n",
    "ttl = ax.title\n",
    "ttl.set_position([.5, 1.07])\n",
    "\n",
    "# fix for mpl bug that cuts off top/bottom of seaborn viz\n",
    "b, t = ax.get_ylim()  # discover the values for bottom and top\n",
    "b += 0.5  # Add 0.5 to the bottom\n",
    "t -= 0.5  # Subtract 0.5 from the top\n",
    "ax.set_ylim(b, t)  # update the ylim(bottom, top) values"
   ]
  },
  {
   "cell_type": "code",
   "execution_count": 835,
   "metadata": {},
   "outputs": [],
   "source": [
    "class_weights = {}\n",
    "for i in range(Y_train.shape[1]):\n",
    "        class_weights[i] = Y_train.shape[0] / Y_train[Y_train[:,i]==1].shape[0]"
   ]
  },
  {
   "cell_type": "code",
   "execution_count": 931,
   "metadata": {},
   "outputs": [
    {
     "data": {
      "text/plain": [
       "{0: 5.344, 1: 23.43859649122807, 2: 3.700831024930748}"
      ]
     },
     "execution_count": 931,
     "metadata": {},
     "output_type": "execute_result"
    }
   ],
   "source": [
    "class_weights"
   ]
  },
  {
   "cell_type": "code",
   "execution_count": 725,
   "metadata": {},
   "outputs": [],
   "source": [
    "class_weights = {0:2.76,\n",
    "                 1:10.77,\n",
    "                 2:2.76}"
   ]
  },
  {
   "cell_type": "code",
   "execution_count": 157,
   "metadata": {},
   "outputs": [],
   "source": [
    "class_weights[2]=class_weights[2]+0.3"
   ]
  },
  {
   "cell_type": "code",
   "execution_count": 23,
   "metadata": {},
   "outputs": [],
   "source": [
    "age_cls_model = pickle.load(open('age_cls_model_02.mdl', 'rb'))"
   ]
  },
  {
   "cell_type": "code",
   "execution_count": 24,
   "metadata": {},
   "outputs": [],
   "source": [
    "X = test[selected_features]\n",
    "y = test[target]"
   ]
  },
  {
   "cell_type": "code",
   "execution_count": 25,
   "metadata": {},
   "outputs": [
    {
     "data": {
      "image/png": "[encoded data removed]",
      "text/plain": [
       "<Figure size 288x288 with 2 Axes>"
      ]
     },
     "metadata": {
      "needs_background": "light"
     },
     "output_type": "display_data"
    }
   ],
   "source": [
    "fig = plt.figure()\n",
    "fig.set_size_inches(4,4)\n",
    "plot_confusion_matrix(age_cls_model, X, y, ax=fig.add_subplot(1,1,1), normalize=True, title='')"
   ]
  },
  {
   "cell_type": "code",
   "execution_count": 402,
   "metadata": {},
   "outputs": [
    {
     "data": {
      "text/html": [
       "<div>\n",
       "<style scoped>\n",
       "    .dataframe tbody tr th:only-of-type {\n",
       "        vertical-align: middle;\n",
       "    }\n",
       "\n",
       "    .dataframe tbody tr th {\n",
       "        vertical-align: top;\n",
       "    }\n",
       "\n",
       "    .dataframe thead th {\n",
       "        text-align: right;\n",
       "    }\n",
       "</style>\n",
       "<table border=\"1\" class=\"dataframe\">\n",
       "  <thead>\n",
       "    <tr style=\"text-align: right;\">\n",
       "      <th></th>\n",
       "      <th>roc_auc_ovr</th>\n",
       "      <th>roc_auc_ovo</th>\n",
       "    </tr>\n",
       "  </thead>\n",
       "  <tbody>\n",
       "    <tr>\n",
       "      <th>mean_train</th>\n",
       "      <td>0.954231</td>\n",
       "      <td>0.972080</td>\n",
       "    </tr>\n",
       "    <tr>\n",
       "      <th>std_train</th>\n",
       "      <td>0.012967</td>\n",
       "      <td>0.007874</td>\n",
       "    </tr>\n",
       "    <tr>\n",
       "      <th>mean_test</th>\n",
       "      <td>0.817452</td>\n",
       "      <td>0.864915</td>\n",
       "    </tr>\n",
       "    <tr>\n",
       "      <th>std_test</th>\n",
       "      <td>0.044881</td>\n",
       "      <td>0.040210</td>\n",
       "    </tr>\n",
       "  </tbody>\n",
       "</table>\n",
       "</div>"
      ],
      "text/plain": [
       "            roc_auc_ovr  roc_auc_ovo\n",
       "mean_train     0.954231     0.972080\n",
       "std_train      0.012967     0.007874\n",
       "mean_test      0.817452     0.864915\n",
       "std_test       0.044881     0.040210"
      ]
     },
     "execution_count": 402,
     "metadata": {},
     "output_type": "execute_result"
    }
   ],
   "source": [
    "scoring = {'roc_auc_ovr':  metrics.make_scorer(roc_auc_score_ovr, needs_proba=True),\n",
    "           'roc_auc_ovo':  metrics.make_scorer(roc_auc_score_ovo, needs_proba=True)}\n",
    "cv = model_selection.StratifiedShuffleSplit(n_splits=10, test_size=0.3, train_size=0.6, random_state=30)\n",
    "cv_rep(age_cls_model, X, y, cv, scoring)"
   ]
  },
  {
   "cell_type": "markdown",
   "metadata": {},
   "source": [
    "#### Define cross validation strategy"
   ]
  },
  {
   "cell_type": "code",
   "execution_count": 109,
   "metadata": {},
   "outputs": [],
   "source": [
    "random_state=30\n",
    "cv = model_selection.StratifiedShuffleSplit(n_splits=10, test_size=0.3, train_size=0.6, random_state=random_state)\n",
    "scoring = {'balanced_accuracy': 'balanced_accuracy',\n",
    "           'roc_auc_ovr':  metrics.make_scorer(roc_auc_score_ovr, needs_proba=True),\n",
    "           'roc_auc_ovo':  metrics.make_scorer(roc_auc_score_ovo, needs_proba=True),\n",
    "           'precision_macro': 'precision_macro'}\n",
    "refit = 'roc_auc_ovr'"
   ]
  },
  {
   "cell_type": "markdown",
   "metadata": {},
   "source": [
    "##### Initial model"
   ]
  },
  {
   "cell_type": "code",
   "execution_count": 114,
   "metadata": {},
   "outputs": [
    {
     "data": {
      "text/html": [
       "<div>\n",
       "<style scoped>\n",
       "    .dataframe tbody tr th:only-of-type {\n",
       "        vertical-align: middle;\n",
       "    }\n",
       "\n",
       "    .dataframe tbody tr th {\n",
       "        vertical-align: top;\n",
       "    }\n",
       "\n",
       "    .dataframe thead th {\n",
       "        text-align: right;\n",
       "    }\n",
       "</style>\n",
       "<table border=\"1\" class=\"dataframe\">\n",
       "  <thead>\n",
       "    <tr style=\"text-align: right;\">\n",
       "      <th></th>\n",
       "      <th>balanced_accuracy</th>\n",
       "      <th>roc_auc_ovr</th>\n",
       "      <th>roc_auc_ovo</th>\n",
       "      <th>precision_macro</th>\n",
       "    </tr>\n",
       "  </thead>\n",
       "  <tbody>\n",
       "    <tr>\n",
       "      <th>mean_train</th>\n",
       "      <td>0.743869</td>\n",
       "      <td>0.862951</td>\n",
       "      <td>0.903441</td>\n",
       "      <td>0.747733</td>\n",
       "    </tr>\n",
       "    <tr>\n",
       "      <th>std_train</th>\n",
       "      <td>0.013838</td>\n",
       "      <td>0.006075</td>\n",
       "      <td>0.004483</td>\n",
       "      <td>0.010848</td>\n",
       "    </tr>\n",
       "    <tr>\n",
       "      <th>mean_test</th>\n",
       "      <td>0.706854</td>\n",
       "      <td>0.826376</td>\n",
       "      <td>0.877185</td>\n",
       "      <td>0.706078</td>\n",
       "    </tr>\n",
       "    <tr>\n",
       "      <th>std_test</th>\n",
       "      <td>0.042856</td>\n",
       "      <td>0.016959</td>\n",
       "      <td>0.014787</td>\n",
       "      <td>0.029135</td>\n",
       "    </tr>\n",
       "  </tbody>\n",
       "</table>\n",
       "</div>"
      ],
      "text/plain": [
       "            balanced_accuracy  roc_auc_ovr  roc_auc_ovo  precision_macro\n",
       "mean_train           0.743869     0.862951     0.903441         0.747733\n",
       "std_train            0.013838     0.006075     0.004483         0.010848\n",
       "mean_test            0.706854     0.826376     0.877185         0.706078\n",
       "std_test             0.042856     0.016959     0.014787         0.029135"
      ]
     },
     "execution_count": 114,
     "metadata": {},
     "output_type": "execute_result"
    }
   ],
   "source": [
    "params = {'learning_rate': 0.1, \n",
    "          'n_estimators': 25,\n",
    "          'min_weight_fraction_leaf': 0.099, \n",
    "          'min_impurity_decrease': 0.05,\n",
    "          'max_depth': 4,\n",
    "          'subsample': 1.0,\n",
    "          'ccp_alpha': 0.0}\n",
    "\n",
    "age_cls_model = ens.GradientBoostingClassifier(loss='deviance', criterion='friedman_mse', \n",
    "                                               random_state=random_state, **params)\n",
    "cv_rep(age_cls_model, X, y, cv, scoring)"
   ]
  },
  {
   "cell_type": "markdown",
   "metadata": {},
   "source": [
    "##### Tune parameters"
   ]
  },
  {
   "cell_type": "code",
   "execution_count": 115,
   "metadata": {},
   "outputs": [
    {
     "name": "stdout",
     "output_type": "stream",
     "text": [
      "            balanced_accuracy  roc_auc_ovr  roc_auc_ovo  precision_macro\n",
      "mean_train           0.784003     0.871729     0.922254         0.802312\n",
      "std_train            0.008738     0.005815     0.003538         0.009796\n",
      "mean_test            0.731721     0.827037     0.881948         0.739057\n",
      "std_test             0.021660     0.015277     0.012377         0.022379\n",
      "{'learning_rate': 0.8211025641025641, 'n_estimators': 5}\n"
     ]
    }
   ],
   "source": [
    "param_ranges = {'learning_rate': np.linspace(0.001, 2, 40), 'n_estimators': np.arange(5, 100, 20)}\n",
    "age_cls_model, scores = train_best_model(age_cls_model, param_ranges, X, y, scoring, cv, refit=refit)"
   ]
  },
  {
   "cell_type": "code",
   "execution_count": 116,
   "metadata": {},
   "outputs": [
    {
     "name": "stdout",
     "output_type": "stream",
     "text": [
      "            balanced_accuracy  roc_auc_ovr  roc_auc_ovo  precision_macro\n",
      "mean_train           0.772475     0.869702     0.930477         0.790327\n",
      "std_train            0.012243     0.006141     0.003292         0.019923\n",
      "mean_test            0.732645     0.827732     0.881093         0.735938\n",
      "std_test             0.023862     0.014989     0.012767         0.014681\n",
      "{'min_impurity_decrease': 0.005223076923076923, 'min_weight_fraction_leaf': 0.11325641025641026}\n"
     ]
    }
   ],
   "source": [
    "param_ranges = {'min_weight_fraction_leaf': np.linspace(0.001, 0.2, 40), 'min_impurity_decrease': np.linspace(0.0001, 0.1, 40)}\n",
    "age_cls_model, scores = train_best_model(age_cls_model, param_ranges, X, y, scoring, cv, refit=refit)"
   ]
  },
  {
   "cell_type": "code",
   "execution_count": 117,
   "metadata": {},
   "outputs": [
    {
     "name": "stdout",
     "output_type": "stream",
     "text": [
      "            balanced_accuracy  roc_auc_ovr  roc_auc_ovo  precision_macro\n",
      "mean_train           0.767685     0.869702     0.911581         0.767422\n",
      "std_train            0.014709     0.006141     0.004395         0.017185\n",
      "mean_test            0.736763     0.827732     0.880512         0.728696\n",
      "std_test             0.023178     0.014989     0.015460         0.026185\n",
      "{'max_depth': 4, 'subsample': 1.0}\n"
     ]
    }
   ],
   "source": [
    "param_ranges = {'subsample': np.linspace(0.1, 1.0, 50), 'max_depth': np.arange(3, 10)}\n",
    "age_cls_model, scores = train_best_model(age_cls_model, param_ranges, X, y, scoring, cv, refit=refit)"
   ]
  },
  {
   "cell_type": "code",
   "execution_count": 118,
   "metadata": {},
   "outputs": [
    {
     "name": "stdout",
     "output_type": "stream",
     "text": [
      "            balanced_accuracy  roc_auc_ovr  roc_auc_ovo  precision_macro\n",
      "mean_train           0.765663     0.869649     0.910198         0.766038\n",
      "std_train            0.016636     0.006250     0.005508         0.010258\n",
      "mean_test            0.724570     0.827784     0.880279         0.719945\n",
      "std_test             0.024520     0.015087     0.013548         0.021067\n",
      "{'ccp_alpha': 1e-05}\n"
     ]
    }
   ],
   "source": [
    "param_ranges = {'ccp_alpha': np.linspace(0.00001,0.0001, 99)}\n",
    "age_cls_model, scores = train_best_model(age_cls_model, param_ranges, X, y, scoring, cv, refit=refit)"
   ]
  },
  {
   "cell_type": "markdown",
   "metadata": {},
   "source": [
    "### Train regression model for age prediction"
   ]
  },
  {
   "cell_type": "code",
   "execution_count": 147,
   "metadata": {
    "scrolled": true
   },
   "outputs": [],
   "source": [
    "X = data.drop(columns=['Age'])\n",
    "X = pd.get_dummies(X, columns=['Age_cls'])\n",
    "y = data['Age']"
   ]
  },
  {
   "cell_type": "markdown",
   "metadata": {},
   "source": [
    "#### Define cross validation strategy"
   ]
  },
  {
   "cell_type": "code",
   "execution_count": 148,
   "metadata": {},
   "outputs": [],
   "source": [
    "random_state=30\n",
    "cv = model_selection.RepeatedKFold(n_splits=5, n_repeats=10, random_state=random_state)\n",
    "scoring = {'explained_variance':  'explained_variance', 'r2': 'r2'}\n",
    "refit='r2'"
   ]
  },
  {
   "cell_type": "markdown",
   "metadata": {},
   "source": [
    "##### Initial model"
   ]
  },
  {
   "cell_type": "code",
   "execution_count": 149,
   "metadata": {},
   "outputs": [
    {
     "data": {
      "text/html": [
       "<div>\n",
       "<style scoped>\n",
       "    .dataframe tbody tr th:only-of-type {\n",
       "        vertical-align: middle;\n",
       "    }\n",
       "\n",
       "    .dataframe tbody tr th {\n",
       "        vertical-align: top;\n",
       "    }\n",
       "\n",
       "    .dataframe thead th {\n",
       "        text-align: right;\n",
       "    }\n",
       "</style>\n",
       "<table border=\"1\" class=\"dataframe\">\n",
       "  <thead>\n",
       "    <tr style=\"text-align: right;\">\n",
       "      <th></th>\n",
       "      <th>explained_variance</th>\n",
       "      <th>r2</th>\n",
       "    </tr>\n",
       "  </thead>\n",
       "  <tbody>\n",
       "    <tr>\n",
       "      <th>mean_train</th>\n",
       "      <td>0.855506</td>\n",
       "      <td>0.855506</td>\n",
       "    </tr>\n",
       "    <tr>\n",
       "      <th>std_train</th>\n",
       "      <td>0.006636</td>\n",
       "      <td>0.006636</td>\n",
       "    </tr>\n",
       "    <tr>\n",
       "      <th>mean_test</th>\n",
       "      <td>0.798998</td>\n",
       "      <td>0.797667</td>\n",
       "    </tr>\n",
       "    <tr>\n",
       "      <th>std_test</th>\n",
       "      <td>0.042477</td>\n",
       "      <td>0.042920</td>\n",
       "    </tr>\n",
       "  </tbody>\n",
       "</table>\n",
       "</div>"
      ],
      "text/plain": [
       "            explained_variance        r2\n",
       "mean_train            0.855506  0.855506\n",
       "std_train             0.006636  0.006636\n",
       "mean_test             0.798998  0.797667\n",
       "std_test              0.042477  0.042920"
      ]
     },
     "execution_count": 149,
     "metadata": {},
     "output_type": "execute_result"
    }
   ],
   "source": [
    "params = {'learning_rate': 0.1, \n",
    "          'n_estimators': 55,\n",
    "          'min_weight_fraction_leaf': 0.001, \n",
    "          'min_impurity_decrease': 0.5,\n",
    "          'max_depth': 3,\n",
    "          'subsample': 1.0,\n",
    "          'ccp_alpha': 0.001}\n",
    "\n",
    "age_reg_model = ens.GradientBoostingRegressor(loss='ls', criterion='friedman_mse', random_state=random_state, **params)\n",
    "cv_rep(age_reg_model, X, y, cv, scoring)"
   ]
  },
  {
   "cell_type": "markdown",
   "metadata": {},
   "source": [
    "##### Tune parameters"
   ]
  },
  {
   "cell_type": "code",
   "execution_count": 150,
   "metadata": {},
   "outputs": [
    {
     "name": "stdout",
     "output_type": "stream",
     "text": [
      "            explained_variance        r2\n",
      "mean_train            0.854007  0.854007\n",
      "std_train             0.006734  0.006734\n",
      "mean_test             0.799742  0.798412\n",
      "std_test              0.041897  0.042332\n",
      "{'learning_rate': 0.05846153846153847, 'n_estimators': 55}\n"
     ]
    }
   ],
   "source": [
    "param_ranges = {'learning_rate': np.linspace(0.01, 0.1, 40), 'n_estimators': np.arange(5, 100, 25)}\n",
    "age_reg_model, scores = train_best_model(age_reg_model, param_ranges, X, y, scoring, cv, refit=refit)"
   ]
  },
  {
   "cell_type": "code",
   "execution_count": 151,
   "metadata": {},
   "outputs": [
    {
     "name": "stdout",
     "output_type": "stream",
     "text": [
      "            explained_variance        r2\n",
      "mean_train            0.854007  0.854007\n",
      "std_train             0.006734  0.006734\n",
      "mean_test             0.799742  0.798412\n",
      "std_test              0.041897  0.042332\n",
      "{'min_impurity_decrease': 0.4744102564102564, 'min_weight_fraction_leaf': 0.001}\n"
     ]
    }
   ],
   "source": [
    "param_ranges = {'min_weight_fraction_leaf': np.linspace(0.001, 0.2, 40), 'min_impurity_decrease': np.linspace(0.001, 0.5, 40)}\n",
    "age_reg_model, scores = train_best_model(age_reg_model, param_ranges, X, y, scoring, cv, refit=refit)"
   ]
  },
  {
   "cell_type": "code",
   "execution_count": 152,
   "metadata": {},
   "outputs": [
    {
     "name": "stdout",
     "output_type": "stream",
     "text": [
      "            explained_variance        r2\n",
      "mean_train            0.860054  0.860044\n",
      "std_train             0.006857  0.006857\n",
      "mean_test             0.802455  0.801155\n",
      "std_test              0.041774  0.042037\n",
      "{'max_depth': 3, 'subsample': 0.41224489795918373}\n"
     ]
    }
   ],
   "source": [
    "param_ranges = {'max_depth': np.arange(2,10), 'subsample': np.linspace(0.1, 1.0, 50)}\n",
    "age_reg_model, scores = train_best_model(age_reg_model, param_ranges, X, y, scoring, cv, refit=refit)"
   ]
  },
  {
   "cell_type": "code",
   "execution_count": 153,
   "metadata": {},
   "outputs": [
    {
     "name": "stdout",
     "output_type": "stream",
     "text": [
      "            explained_variance        r2\n",
      "mean_train            0.859296  0.859286\n",
      "std_train             0.006925  0.006925\n",
      "mean_test             0.802464  0.801170\n",
      "std_test              0.041363  0.041621\n",
      "{'ccp_alpha': 0.0016153061224489797}\n"
     ]
    }
   ],
   "source": [
    "param_ranges = {'ccp_alpha': np.linspace(0.0001, 0.01, 99)}\n",
    "age_reg_model, scores = train_best_model(age_reg_model, param_ranges, X, y, scoring, cv, refit=refit)"
   ]
  },
  {
   "cell_type": "code",
   "execution_count": 155,
   "metadata": {},
   "outputs": [
    {
     "data": {
      "text/plain": [
       "Index(['Fare', 'fgrp', 'famsize', 'Ticket', 'ttl_1', 'ttl_2', 'ttl_3', 'ttl_4',\n",
       "       'Pclass_0', 'Pclass_1', 'Pclass_2', 'Embarked_0', 'Embarked_1',\n",
       "       'Embarked_2', 'Age_cls_0', 'Age_cls_1', 'Age_cls_2'],\n",
       "      dtype='object')"
      ]
     },
     "execution_count": 154,
     "metadata": {},
     "output_type": "execute_result"
    }
   ],
   "source": [
    "# Age predict (predict missing vakues and log-transform)\n",
    "def age_predictor(data, age_cls_model, age_reg_model):\n",
    "    cols = ['Fare', 'fgrp', 'famsize', 'Ticket', \n",
    "            'ttl_1', 'ttl_2','ttl_3', 'ttl_4', \n",
    "            'Pclass_0', 'Pclass_1', 'Pclass_2', \n",
    "            'Embarked_0', 'Embarked_1', 'Embarked_2']\n",
    "\n",
    "    data_na = data.loc[data['Age'].isnull()].copy()\n",
    "    data_notna = data.loc[data['Age'].notna()].copy()\n",
    "\n",
    "    # predict class labels\n",
    "    X = data_na[cols].copy()\n",
    "#     X = pd.get_dummies(X, columns=['ttl', 'Pclass', 'Embarked'])\n",
    "    X['Age_cls'] = age_cls_model.predict(X)\n",
    "\n",
    "    # predict age\n",
    "    X = pd.get_dummies(X, columns=['Age_cls'])\n",
    "    print(X.columns)\n",
    "    data_na['Age'] = age_reg_model.predict(X)\n",
    "    return pd.concat([data_na, data_notna])"
   ]
  },
  {
   "cell_type": "markdown",
   "metadata": {},
   "source": [
    "## Predict survivals\n",
    "\n",
    "I will use stacking classifier to predict survivals.\n",
    "\n",
    "Base classifiers for stacking:\n",
    "* Linear Discriminant Analysis\n",
    "* Quadratic Discriminant Analysis\n",
    "* Extra Trees Classifier\n",
    "* Random Forest Classifier\n",
    "* Logistic Regression\n",
    "* Ridge Classifier\n",
    "* SVC\n",
    "* nuSVC\n",
    "\n",
    "For the final classifier in stacking I chose Ada Boost Classifier.\n",
    "\n",
    "### Preprocessind data"
   ]
  },
  {
   "cell_type": "code",
   "execution_count": 156,
   "metadata": {},
   "outputs": [
    {
     "name": "stdout",
     "output_type": "stream",
     "text": [
      "Index(['Fare', 'fgrp', 'famsize', 'Ticket', 'ttl_1', 'ttl_2', 'ttl_3', 'ttl_4',\n",
      "       'Pclass_0', 'Pclass_1', 'Pclass_2', 'Embarked_0', 'Embarked_1',\n",
      "       'Embarked_2', 'Age_cls_0', 'Age_cls_1', 'Age_cls_2'],\n",
      "      dtype='object')\n"
     ]
    }
   ],
   "source": [
    "data = family_groups_encoder(data_train.copy(), fgrp_mask)\n",
    "data = fare_encoder(data, fare_mask)\n",
    "data = ticket_encoder(data, ticket_mask)\n",
    "data = title_encoder(data)\n",
    "data = sex_encoder(data)\n",
    "data = fam_size(data)\n",
    "data = embarked_encoder(data)\n",
    "data = pclass_encoder(data)\n",
    "\n",
    "data = data[['PassengerId', 'Survived', 'Age', 'Fare', 'ttl', 'fgrp', 'famsize', 'Ticket', 'Pclass', 'Embarked']]\n",
    "data = pd.get_dummies(data, columns=['ttl', 'Pclass', 'Embarked'])\n",
    "data = age_predictor(data, age_cls_model, age_reg_model)"
   ]
  },
  {
   "cell_type": "markdown",
   "metadata": {},
   "source": [
    "### Plot correlation matrix:"
   ]
  },
  {
   "cell_type": "code",
   "execution_count": 157,
   "metadata": {},
   "outputs": [
    {
     "data": {
      "image/png": "[encoded data removed]",
      "text/plain": [
       "<Figure size 720x720 with 2 Axes>"
      ]
     },
     "metadata": {
      "needs_background": "light"
     },
     "output_type": "display_data"
    }
   ],
   "source": [
    "fig = plt.figure()\n",
    "fig.set_size_inches(10, 10)\n",
    "corr_matrix = data.drop(columns='PassengerId').corr()\n",
    "plot_correlation_matrix(ax=fig.add_subplot(1,1,1), data=corr_matrix, cmap='coolwarm')"
   ]
  },
  {
   "cell_type": "markdown",
   "metadata": {},
   "source": [
    "### Train base estimators for stacking model"
   ]
  },
  {
   "cell_type": "code",
   "execution_count": 158,
   "metadata": {
    "scrolled": true
   },
   "outputs": [],
   "source": [
    "X = data.drop(columns=['Survived', 'PassengerId'])\n",
    "y = data['Survived']"
   ]
  },
  {
   "cell_type": "markdown",
   "metadata": {},
   "source": [
    "#### Define cross validation strategy"
   ]
  },
  {
   "cell_type": "code",
   "execution_count": 159,
   "metadata": {},
   "outputs": [],
   "source": [
    "random_state=30\n",
    "cv = model_selection.StratifiedShuffleSplit(n_splits=10, test_size=0.3, train_size=0.6, random_state=random_state)\n",
    "scoring = {'balanced_accuracy': 'balanced_accuracy', \n",
    "           'roc_auc':  'roc_auc',\n",
    "           'precision_macro': 'precision_macro'}\n",
    "refit = 'roc_auc'"
   ]
  },
  {
   "cell_type": "markdown",
   "metadata": {},
   "source": [
    "#### Calculate class weights and priors"
   ]
  },
  {
   "cell_type": "code",
   "execution_count": 160,
   "metadata": {},
   "outputs": [],
   "source": [
    "n = len(y)\n",
    "class_priors = {}\n",
    "class_weights = {}\n",
    "for i in y.unique():\n",
    "    class_priors[i] = len(y.loc[y==i]) / n\n",
    "    class_weights[i] = 1- class_priors[i]"
   ]
  },
  {
   "cell_type": "code",
   "execution_count": 161,
   "metadata": {},
   "outputs": [],
   "source": [
    "# Base estomators scores\n",
    "base_scores = {}"
   ]
  },
  {
   "cell_type": "markdown",
   "metadata": {},
   "source": [
    "#### LinearDiscriminantAnalysis"
   ]
  },
  {
   "cell_type": "code",
   "execution_count": 162,
   "metadata": {},
   "outputs": [],
   "source": [
    "# Initialize\n",
    "lda = disan.LinearDiscriminantAnalysis(solver='lsqr', shrinkage='auto')"
   ]
  },
  {
   "cell_type": "code",
   "execution_count": 205,
   "metadata": {},
   "outputs": [
    {
     "name": "stdout",
     "output_type": "stream",
     "text": [
      "            balanced_accuracy   roc_auc  precision_macro\n",
      "mean_train           0.818304  0.872567         0.830353\n",
      "std_train            0.010123  0.012065         0.008664\n",
      "mean_test            0.801586  0.860880         0.816270\n",
      "std_test             0.021881  0.027885         0.021134\n",
      "{'solver': 'lsqr'}\n"
     ]
    }
   ],
   "source": [
    "# Tune\n",
    "param_ranges = {'solver': ['svd', 'lsqr', 'eigen'],}\n",
    "lda, scores = train_best_model(lda, param_ranges, X, y, scoring, cv, refit=refit)"
   ]
  },
  {
   "cell_type": "code",
   "execution_count": 206,
   "metadata": {},
   "outputs": [],
   "source": [
    "base_scores['lda'] = [scores.loc['mean_test', refit], scores.loc['mean_train', refit]]"
   ]
  },
  {
   "cell_type": "markdown",
   "metadata": {},
   "source": [
    "#### QuadraticDiscriminantAnalysis"
   ]
  },
  {
   "cell_type": "code",
   "execution_count": 165,
   "metadata": {},
   "outputs": [],
   "source": [
    "# Initialize\n",
    "qda = disan.QuadraticDiscriminantAnalysis(priors=[class_priors[0], class_priors[1]], reg_param=0.09)"
   ]
  },
  {
   "cell_type": "code",
   "execution_count": 207,
   "metadata": {},
   "outputs": [
    {
     "name": "stdout",
     "output_type": "stream",
     "text": [
      "            balanced_accuracy   roc_auc  precision_macro\n",
      "mean_train           0.821566  0.887737         0.832871\n",
      "std_train            0.013759  0.008395         0.009904\n",
      "mean_test            0.802921  0.869200         0.817799\n",
      "std_test             0.023669  0.016994         0.028163\n",
      "{'reg_param': 0.09166666666666666}\n"
     ]
    },
    {
     "name": "stderr",
     "output_type": "stream",
     "text": [
      "/opt/conda/lib/python3.6/site-packages/sklearn/discriminant_analysis.py:691: UserWarning: Variables are collinear\n",
      "  warnings.warn(\"Variables are collinear\")\n"
     ]
    }
   ],
   "source": [
    "# Tune\n",
    "param_ranges = {'reg_param': np.linspace(0.01,0.5,55)}\n",
    "qda, scores = train_best_model(qda, param_ranges, X, y, scoring, cv, refit=refit)"
   ]
  },
  {
   "cell_type": "code",
   "execution_count": 208,
   "metadata": {},
   "outputs": [],
   "source": [
    "base_scores['qda'] = [scores.loc['mean_test', refit], scores.loc['mean_train', refit]]"
   ]
  },
  {
   "cell_type": "markdown",
   "metadata": {},
   "source": [
    "#### ExtraTreesClassifier"
   ]
  },
  {
   "cell_type": "code",
   "execution_count": 168,
   "metadata": {},
   "outputs": [],
   "source": [
    "# Initialize\n",
    "etc = ens.ExtraTreesClassifier(random_state=random_state, \n",
    "                               n_jobs=-1, \n",
    "                               criterion='entropy',\n",
    "                               n_estimators=75,\n",
    "                               max_depth=5,\n",
    "                               ccp_alpha=0.0)"
   ]
  },
  {
   "cell_type": "code",
   "execution_count": 169,
   "metadata": {},
   "outputs": [
    {
     "name": "stdout",
     "output_type": "stream",
     "text": [
      "            balanced_accuracy   roc_auc  precision_macro\n",
      "mean_train           0.911797  0.920693         0.850900\n",
      "std_train            0.009839  0.009068         0.015043\n",
      "mean_test            0.785322  0.871474         0.831457\n",
      "std_test             0.018053  0.021378         0.021785\n",
      "{'criterion': 'entropy', 'max_depth': 6, 'n_estimators': 95}\n"
     ]
    }
   ],
   "source": [
    "# Tune\n",
    "param_ranges = {'criterion': ['gini', 'entropy'], \n",
    "                'n_estimators': np.arange(60, 100, 5),\n",
    "                'max_depth': np.arange(3, 10)}\n",
    "etc, scores = train_best_model(etc, param_ranges, X, y, scoring, cv, refit=refit)"
   ]
  },
  {
   "cell_type": "code",
   "execution_count": 170,
   "metadata": {},
   "outputs": [
    {
     "name": "stdout",
     "output_type": "stream",
     "text": [
      "            balanced_accuracy   roc_auc  precision_macro\n",
      "mean_train           0.814684  0.913576         0.867701\n",
      "std_train            0.010595  0.009508         0.006188\n",
      "mean_test            0.784872  0.872118         0.831650\n",
      "std_test             0.025954  0.021655         0.022008\n",
      "{'ccp_alpha': 0.0020677966101694915}\n"
     ]
    }
   ],
   "source": [
    "param_ranges = {'ccp_alpha': np.linspace(0.001,0.01, 60)}\n",
    "etc, scores = train_best_model(etc, param_ranges, X, y, scoring, cv, refit=refit)"
   ]
  },
  {
   "cell_type": "code",
   "execution_count": 171,
   "metadata": {},
   "outputs": [],
   "source": [
    "base_scores['etc'] = [scores.loc['mean_test', refit], scores.loc['mean_train', refit]]"
   ]
  },
  {
   "cell_type": "markdown",
   "metadata": {},
   "source": [
    "#### RandomForestClassifier"
   ]
  },
  {
   "cell_type": "code",
   "execution_count": 172,
   "metadata": {},
   "outputs": [],
   "source": [
    "# Initialize\n",
    "rfc = ens.RandomForestClassifier(random_state=random_state, n_jobs=-1, criterion='entropy',\n",
    "                                 n_estimators=20,\n",
    "                                 max_depth=5,\n",
    "                                 ccp_alpha=0.04)"
   ]
  },
  {
   "cell_type": "code",
   "execution_count": 173,
   "metadata": {},
   "outputs": [
    {
     "name": "stdout",
     "output_type": "stream",
     "text": [
      "            balanced_accuracy   roc_auc  precision_macro\n",
      "mean_train           0.809608  0.869776         0.834213\n",
      "std_train            0.013400  0.013147         0.019609\n",
      "mean_test            0.783866  0.862536         0.823277\n",
      "std_test             0.029032  0.020653         0.036723\n",
      "{'criterion': 'entropy', 'max_depth': 8, 'n_estimators': 85}\n"
     ]
    }
   ],
   "source": [
    "param_ranges = {'criterion': ['gini', 'entropy'], \n",
    "                'n_estimators': np.arange(5, 100, 10),\n",
    "                'max_depth': np.arange(3, 10)}\n",
    "rfc, scores = train_best_model(rfc, param_ranges, X, y, scoring, cv, refit=refit)"
   ]
  },
  {
   "cell_type": "code",
   "execution_count": 174,
   "metadata": {},
   "outputs": [
    {
     "name": "stdout",
     "output_type": "stream",
     "text": [
      "            balanced_accuracy   roc_auc  precision_macro\n",
      "mean_train           0.859342  0.929456         0.849357\n",
      "std_train            0.015600  0.009061         0.014726\n",
      "mean_test            0.799688  0.873989         0.848941\n",
      "std_test             0.024001  0.019816         0.028014\n",
      "{'ccp_alpha': 0.009389830508474577}\n"
     ]
    }
   ],
   "source": [
    "# Tune\n",
    "param_ranges = {'ccp_alpha': np.linspace(0.001,0.1, 60)}\n",
    "rfc, scores = train_best_model(rfc, param_ranges, X, y, scoring, cv, refit=refit)"
   ]
  },
  {
   "cell_type": "code",
   "execution_count": 175,
   "metadata": {},
   "outputs": [],
   "source": [
    "base_scores['rfc'] = [scores.loc['mean_test', refit], scores.loc['mean_train', refit]]"
   ]
  },
  {
   "cell_type": "markdown",
   "metadata": {},
   "source": [
    "#### LogisticRegression"
   ]
  },
  {
   "cell_type": "code",
   "execution_count": 176,
   "metadata": {},
   "outputs": [],
   "source": [
    "# Initialize\n",
    "lr = lm.LogisticRegression(class_weight=class_weights, \n",
    "                           random_state=random_state, \n",
    "                           n_jobs=-1,\n",
    "                           penalty='l2',\n",
    "                           solver='liblinear',\n",
    "                           dual=False,\n",
    "                           C=1.3)"
   ]
  },
  {
   "cell_type": "code",
   "execution_count": 177,
   "metadata": {},
   "outputs": [
    {
     "name": "stdout",
     "output_type": "stream",
     "text": [
      "            balanced_accuracy   roc_auc  precision_macro\n",
      "mean_train           0.819354  0.874555         0.814789\n",
      "std_train            0.012784  0.011645         0.012116\n",
      "mean_test            0.799250  0.866399         0.797918\n",
      "std_test             0.023801  0.024105         0.022282\n",
      "{'C': 0.2136734693877551, 'solver': 'liblinear'}\n"
     ]
    },
    {
     "name": "stderr",
     "output_type": "stream",
     "text": [
      "/opt/conda/lib/python3.6/site-packages/sklearn/linear_model/_logistic.py:1539: UserWarning: 'n_jobs' > 1 does not have any effect when 'solver' is set to 'liblinear'. Got 'n_jobs' = 4.\n",
      "  \" = {}.\".format(effective_n_jobs(self.n_jobs)))\n"
     ]
    }
   ],
   "source": [
    "# Tune\n",
    "param_ranges = {'C': np.linspace(0.01, 5, 99), 'solver': ['newton-cg', 'lbfgs', 'liblinear', 'sag', 'saga']}\n",
    "lr, scores = train_best_model(lr, param_ranges, X, y, scoring, cv, refit=refit)"
   ]
  },
  {
   "cell_type": "code",
   "execution_count": 178,
   "metadata": {},
   "outputs": [],
   "source": [
    "base_scores['lr'] = [scores.loc['mean_test', refit], scores.loc['mean_train', refit]]"
   ]
  },
  {
   "cell_type": "markdown",
   "metadata": {},
   "source": [
    "#### RidgeClassifier"
   ]
  },
  {
   "cell_type": "code",
   "execution_count": 179,
   "metadata": {},
   "outputs": [],
   "source": [
    "# Initialize\n",
    "rc = lm.RidgeClassifier(class_weight=class_weights, random_state=random_state,\n",
    "                        alpha=11.12)"
   ]
  },
  {
   "cell_type": "code",
   "execution_count": 180,
   "metadata": {},
   "outputs": [
    {
     "name": "stdout",
     "output_type": "stream",
     "text": [
      "            balanced_accuracy   roc_auc  precision_macro\n",
      "mean_train           0.810671  0.872698         0.812605\n",
      "std_train            0.011050  0.012155         0.011492\n",
      "mean_test            0.798023  0.864381         0.802908\n",
      "std_test             0.021778  0.023432         0.019637\n",
      "{'alpha': 36.91836734693877}\n"
     ]
    }
   ],
   "source": [
    "# Tune\n",
    "param_ranges = {'alpha': np.linspace(1, 45, 99)}\n",
    "rc, scores = train_best_model(rc, param_ranges, X, y, scoring, cv, refit=refit)"
   ]
  },
  {
   "cell_type": "code",
   "execution_count": 181,
   "metadata": {},
   "outputs": [],
   "source": [
    "base_scores['rc'] = [scores.loc['mean_test', refit], scores.loc['mean_train', refit]]"
   ]
  },
  {
   "cell_type": "markdown",
   "metadata": {},
   "source": [
    "#### SVC"
   ]
  },
  {
   "cell_type": "code",
   "execution_count": 182,
   "metadata": {},
   "outputs": [],
   "source": [
    "# Initialize\n",
    "svc = svm.SVC(kernel='rbf', gamma='scale', shrinking=True, class_weight=class_weights,\n",
    "              C=2000)"
   ]
  },
  {
   "cell_type": "code",
   "execution_count": 183,
   "metadata": {},
   "outputs": [
    {
     "name": "stdout",
     "output_type": "stream",
     "text": [
      "            balanced_accuracy   roc_auc  precision_macro\n",
      "mean_train           0.809380  0.868961         0.819473\n",
      "std_train            0.012470  0.010208         0.012304\n",
      "mean_test            0.795107  0.852395         0.803836\n",
      "std_test             0.025640  0.020558         0.019036\n",
      "{'C': 2037.037037037037}\n"
     ]
    }
   ],
   "source": [
    "# Tune\n",
    "param_ranges = {'C': np.linspace(1000, 3000, 55)}\n",
    "svc, scores = train_best_model(svc, param_ranges, X, y, scoring, cv, refit=refit)"
   ]
  },
  {
   "cell_type": "code",
   "execution_count": 184,
   "metadata": {},
   "outputs": [],
   "source": [
    "base_scores['svc'] = [scores.loc['mean_test', refit], scores.loc['mean_train', refit]]"
   ]
  },
  {
   "cell_type": "code",
   "execution_count": 185,
   "metadata": {},
   "outputs": [],
   "source": [
    "# Initialize\n",
    "nusvc = svm.NuSVC(kernel='rbf', \n",
    "                  gamma='scale', \n",
    "                  shrinking=True, \n",
    "                  class_weight=class_weights,\n",
    "                  nu=0.51)"
   ]
  },
  {
   "cell_type": "code",
   "execution_count": 186,
   "metadata": {},
   "outputs": [
    {
     "name": "stdout",
     "output_type": "stream",
     "text": [
      "            balanced_accuracy   roc_auc  precision_macro\n",
      "mean_train           0.803722  0.857259         0.822608\n",
      "std_train            0.010337  0.014088         0.010324\n",
      "mean_test            0.788779  0.836867         0.809869\n",
      "std_test             0.025946  0.020068         0.023150\n",
      "{'nu': 0.6602040816326531}\n"
     ]
    }
   ],
   "source": [
    "# Tune\n",
    "param_ranges = {'nu': np.linspace(0.1,1.0,99)}\n",
    "nusvc, scores = train_best_model(nusvc, param_ranges, X, y, scoring, cv, refit=refit)"
   ]
  },
  {
   "cell_type": "code",
   "execution_count": 187,
   "metadata": {},
   "outputs": [],
   "source": [
    "base_scores['nusvc'] = [scores.loc['mean_test', refit], scores.loc['mean_train', refit]]"
   ]
  },
  {
   "cell_type": "markdown",
   "metadata": {},
   "source": [
    "### Base estimators scores"
   ]
  },
  {
   "cell_type": "code",
   "execution_count": 188,
   "metadata": {},
   "outputs": [
    {
     "data": {
      "text/html": [
       "<div>\n",
       "<style scoped>\n",
       "    .dataframe tbody tr th:only-of-type {\n",
       "        vertical-align: middle;\n",
       "    }\n",
       "\n",
       "    .dataframe tbody tr th {\n",
       "        vertical-align: top;\n",
       "    }\n",
       "\n",
       "    .dataframe thead th {\n",
       "        text-align: right;\n",
       "    }\n",
       "</style>\n",
       "<table border=\"1\" class=\"dataframe\">\n",
       "  <thead>\n",
       "    <tr style=\"text-align: right;\">\n",
       "      <th></th>\n",
       "      <th>rfc</th>\n",
       "      <th>etc</th>\n",
       "      <th>qda</th>\n",
       "      <th>lr</th>\n",
       "      <th>rc</th>\n",
       "      <th>lda</th>\n",
       "      <th>svc</th>\n",
       "      <th>nusvc</th>\n",
       "    </tr>\n",
       "  </thead>\n",
       "  <tbody>\n",
       "    <tr>\n",
       "      <th>test_score</th>\n",
       "      <td>0.873989</td>\n",
       "      <td>0.872118</td>\n",
       "      <td>0.869270</td>\n",
       "      <td>0.866399</td>\n",
       "      <td>0.864381</td>\n",
       "      <td>0.860880</td>\n",
       "      <td>0.852395</td>\n",
       "      <td>0.836867</td>\n",
       "    </tr>\n",
       "    <tr>\n",
       "      <th>train_score</th>\n",
       "      <td>0.929456</td>\n",
       "      <td>0.913576</td>\n",
       "      <td>0.887557</td>\n",
       "      <td>0.874555</td>\n",
       "      <td>0.872698</td>\n",
       "      <td>0.872567</td>\n",
       "      <td>0.868961</td>\n",
       "      <td>0.857259</td>\n",
       "    </tr>\n",
       "  </tbody>\n",
       "</table>\n",
       "</div>"
      ],
      "text/plain": [
       "                  rfc       etc       qda        lr        rc       lda  \\\n",
       "test_score   0.873989  0.872118  0.869270  0.866399  0.864381  0.860880   \n",
       "train_score  0.929456  0.913576  0.887557  0.874555  0.872698  0.872567   \n",
       "\n",
       "                  svc     nusvc  \n",
       "test_score   0.852395  0.836867  \n",
       "train_score  0.868961  0.857259  "
      ]
     },
     "execution_count": 188,
     "metadata": {},
     "output_type": "execute_result"
    }
   ],
   "source": [
    "pd.DataFrame(base_scores, index=['test_score', 'train_score']).sort_values(by='test_score', axis=1,ascending=False)"
   ]
  },
  {
   "cell_type": "code",
   "execution_count": 190,
   "metadata": {},
   "outputs": [],
   "source": [
    "base_models_surv_dic = {'lda':lda,'qda':qda,'etc':etc,'rfc':rfc,'lr':lr,'rc':rc,'svc':svc,'nusvc':nusvc}"
   ]
  },
  {
   "cell_type": "code",
   "execution_count": 191,
   "metadata": {},
   "outputs": [],
   "source": [
    "base_models_surv = [(k,base_models_surv_dic[k]) for k in base_models_surv_dic.keys()]"
   ]
  },
  {
   "cell_type": "markdown",
   "metadata": {},
   "source": [
    "### Confusion matrices"
   ]
  },
  {
   "cell_type": "code",
   "execution_count": 192,
   "metadata": {},
   "outputs": [
    {
     "name": "stderr",
     "output_type": "stream",
     "text": [
      "/opt/conda/lib/python3.6/site-packages/sklearn/discriminant_analysis.py:691: UserWarning: Variables are collinear\n",
      "  warnings.warn(\"Variables are collinear\")\n",
      "/opt/conda/lib/python3.6/site-packages/sklearn/linear_model/_logistic.py:1539: UserWarning: 'n_jobs' > 1 does not have any effect when 'solver' is set to 'liblinear'. Got 'n_jobs' = 4.\n",
      "  \" = {}.\".format(effective_n_jobs(self.n_jobs)))\n"
     ]
    },
    {
     "data": {
      "image/png": "[encoded data removed]",
      "text/plain": [
       "<Figure size 1728x576 with 16 Axes>"
      ]
     },
     "metadata": {
      "needs_background": "light"
     },
     "output_type": "display_data"
    }
   ],
   "source": [
    "grd_n = len(base_models_surv)\n",
    "grd_cols_n = 6\n",
    "grd_rows_n = int(math.ceil(grd_n / grd_cols_n))\n",
    "fig = plt.figure()\n",
    "fig.set_size_inches(4 * grd_cols_n, 4 * grd_rows_n)\n",
    "gs = gridspec.GridSpec(grd_rows_n, grd_cols_n, figure=fig, wspace=0.3, hspace=0.3)\n",
    "\n",
    "for i, m in enumerate(base_models_surv):\n",
    "    lbl, model = m\n",
    "    plot_confusion_matrix(model, X, y, ax=fig.add_subplot(gs[i]), normalize=True, title=lbl)"
   ]
  },
  {
   "cell_type": "markdown",
   "metadata": {},
   "source": [
    "### Base estimators correlation matrix"
   ]
  },
  {
   "cell_type": "code",
   "execution_count": 193,
   "metadata": {},
   "outputs": [],
   "source": [
    "def base_models_predictions(models, X):\n",
    "    X1 = None\n",
    "    for i, model in models:\n",
    "        if X1 is None:\n",
    "            X1 = pd.Series(model.predict(X), name=i).to_frame()\n",
    "        else:\n",
    "            X1 = X1.merge(pd.Series(model.predict(X), name=i).to_frame(), left_index=True, right_index=True)\n",
    "    return X1"
   ]
  },
  {
   "cell_type": "code",
   "execution_count": 194,
   "metadata": {},
   "outputs": [
    {
     "data": {
      "image/png": "[encoded data removed]",
      "text/plain": [
       "<Figure size 720x720 with 2 Axes>"
      ]
     },
     "metadata": {
      "needs_background": "light"
     },
     "output_type": "display_data"
    }
   ],
   "source": [
    "preds_base = base_models_predictions(base_models_surv, X)\n",
    "fig = plt.figure()\n",
    "fig.set_size_inches(10, 10)\n",
    "corr_matrix = preds_base.corr()\n",
    "plot_correlation_matrix(ax=fig.add_subplot(1,1,1),\n",
    "                              data=corr_matrix,\n",
    "                             cmap=sns.diverging_palette(200, 15, s=75, l=50, sep=1, n=25, center='light', as_cmap=False))"
   ]
  },
  {
   "cell_type": "code",
   "execution_count": 195,
   "metadata": {},
   "outputs": [
    {
     "data": {
      "text/html": [
       "<div>\n",
       "<style scoped>\n",
       "    .dataframe tbody tr th:only-of-type {\n",
       "        vertical-align: middle;\n",
       "    }\n",
       "\n",
       "    .dataframe tbody tr th {\n",
       "        vertical-align: top;\n",
       "    }\n",
       "\n",
       "    .dataframe thead th {\n",
       "        text-align: right;\n",
       "    }\n",
       "</style>\n",
       "<table border=\"1\" class=\"dataframe\">\n",
       "  <thead>\n",
       "    <tr style=\"text-align: right;\">\n",
       "      <th></th>\n",
       "      <th>lda</th>\n",
       "      <th>svc</th>\n",
       "      <th>qda</th>\n",
       "      <th>rc</th>\n",
       "      <th>rfc</th>\n",
       "      <th>nusvc</th>\n",
       "      <th>lr</th>\n",
       "      <th>etc</th>\n",
       "    </tr>\n",
       "  </thead>\n",
       "  <tbody>\n",
       "    <tr>\n",
       "      <th>cc</th>\n",
       "      <td>0.803521</td>\n",
       "      <td>0.790198</td>\n",
       "      <td>0.785777</td>\n",
       "      <td>0.78097</td>\n",
       "      <td>0.780824</td>\n",
       "      <td>0.765906</td>\n",
       "      <td>0.751391</td>\n",
       "      <td>0.728686</td>\n",
       "    </tr>\n",
       "  </tbody>\n",
       "</table>\n",
       "</div>"
      ],
      "text/plain": [
       "         lda       svc       qda       rc       rfc     nusvc        lr  \\\n",
       "cc  0.803521  0.790198  0.785777  0.78097  0.780824  0.765906  0.751391   \n",
       "\n",
       "         etc  \n",
       "cc  0.728686  "
      ]
     },
     "execution_count": 195,
     "metadata": {},
     "output_type": "execute_result"
    }
   ],
   "source": [
    "# Mean of each model correlation coefficients\n",
    "corr_sc = {}\n",
    "for k in base_models_surv_dic.keys():\n",
    "    corr_sc[k] = (corr_matrix[k].sum() - 1) / len(corr_matrix.index)\n",
    "df_base_models_corr_sc = pd.DataFrame(corr_sc, index=['cc'])\n",
    "df_base_models_corr_sc.sort_values(by='cc', axis=1, ascending=False)"
   ]
  },
  {
   "cell_type": "markdown",
   "metadata": {},
   "source": [
    "### Select less correlated models"
   ]
  },
  {
   "cell_type": "code",
   "execution_count": 209,
   "metadata": {},
   "outputs": [],
   "source": [
    "base_models_surv_dic = {'lda':lda,'etc':etc,'lr':lr,'rc':rc,'svc':svc}"
   ]
  },
  {
   "cell_type": "code",
   "execution_count": 210,
   "metadata": {},
   "outputs": [],
   "source": [
    "base_models_surv = [(k,base_models_surv_dic[k]) for k in base_models_surv_dic.keys()]"
   ]
  },
  {
   "cell_type": "markdown",
   "metadata": {},
   "source": [
    "### Train stacking classifier"
   ]
  },
  {
   "cell_type": "code",
   "execution_count": 211,
   "metadata": {},
   "outputs": [
    {
     "data": {
      "text/html": [
       "<div>\n",
       "<style scoped>\n",
       "    .dataframe tbody tr th:only-of-type {\n",
       "        vertical-align: middle;\n",
       "    }\n",
       "\n",
       "    .dataframe tbody tr th {\n",
       "        vertical-align: top;\n",
       "    }\n",
       "\n",
       "    .dataframe thead th {\n",
       "        text-align: right;\n",
       "    }\n",
       "</style>\n",
       "<table border=\"1\" class=\"dataframe\">\n",
       "  <thead>\n",
       "    <tr style=\"text-align: right;\">\n",
       "      <th></th>\n",
       "      <th>balanced_accuracy</th>\n",
       "      <th>roc_auc</th>\n",
       "      <th>precision_macro</th>\n",
       "    </tr>\n",
       "  </thead>\n",
       "  <tbody>\n",
       "    <tr>\n",
       "      <th>mean_train</th>\n",
       "      <td>0.820805</td>\n",
       "      <td>0.854874</td>\n",
       "      <td>0.842778</td>\n",
       "    </tr>\n",
       "    <tr>\n",
       "      <th>std_train</th>\n",
       "      <td>0.008782</td>\n",
       "      <td>0.012840</td>\n",
       "      <td>0.015375</td>\n",
       "    </tr>\n",
       "    <tr>\n",
       "      <th>mean_test</th>\n",
       "      <td>0.795207</td>\n",
       "      <td>0.821906</td>\n",
       "      <td>0.818829</td>\n",
       "    </tr>\n",
       "    <tr>\n",
       "      <th>std_test</th>\n",
       "      <td>0.020722</td>\n",
       "      <td>0.029159</td>\n",
       "      <td>0.023984</td>\n",
       "    </tr>\n",
       "  </tbody>\n",
       "</table>\n",
       "</div>"
      ],
      "text/plain": [
       "            balanced_accuracy   roc_auc  precision_macro\n",
       "mean_train           0.820805  0.854874         0.842778\n",
       "std_train            0.008782  0.012840         0.015375\n",
       "mean_test            0.795207  0.821906         0.818829\n",
       "std_test             0.020722  0.029159         0.023984"
      ]
     },
     "execution_count": 211,
     "metadata": {},
     "output_type": "execute_result"
    }
   ],
   "source": [
    "# Initialize\n",
    "model_st = ens.StackingClassifier(estimators=base_models_surv,\n",
    "                                  final_estimator=ens.AdaBoostClassifier(random_state=random_state),\n",
    "                                  cv=5, \n",
    "                                  stack_method='predict', \n",
    "                                  passthrough=False,\n",
    "                                  n_jobs=-1)\n",
    "\n",
    "cv_rep(model_st, X, y, cv, scoring)"
   ]
  },
  {
   "cell_type": "code",
   "execution_count": 212,
   "metadata": {},
   "outputs": [
    {
     "name": "stdout",
     "output_type": "stream",
     "text": [
      "            balanced_accuracy   roc_auc  precision_macro\n",
      "mean_train           0.821293  0.854050         0.843110\n",
      "std_train            0.009138  0.013042         0.015400\n",
      "mean_test            0.795207  0.823719         0.818829\n",
      "std_test             0.020722  0.028203         0.023984\n",
      "{'final_estimator__learning_rate': 0.28421052631578947, 'final_estimator__n_estimators': 60}\n"
     ]
    }
   ],
   "source": [
    "# Tune\n",
    "param_ranges = {'final_estimator__n_estimators': np.arange(50, 120, 10), 'final_estimator__learning_rate': np.linspace(0.1, 0.8, 20)}\n",
    "model_st, scores = train_best_model(model_st, param_ranges, X, y, scoring, cv, refit=refit)"
   ]
  },
  {
   "cell_type": "code",
   "execution_count": 213,
   "metadata": {},
   "outputs": [
    {
     "data": {
      "image/png": "[encoded data removed]",
      "text/plain": [
       "<Figure size 288x288 with 2 Axes>"
      ]
     },
     "metadata": {
      "needs_background": "light"
     },
     "output_type": "display_data"
    }
   ],
   "source": [
    "fig = plt.figure()\n",
    "fig.set_size_inches(4,4)\n",
    "plot_confusion_matrix(model_st, X, y, ax=fig.add_subplot(1,1,1), normalize=True, title='')"
   ]
  },
  {
   "cell_type": "markdown",
   "metadata": {},
   "source": [
    "## Predict test set\n",
    "### Preprocessind data"
   ]
  },
  {
   "cell_type": "code",
   "execution_count": 214,
   "metadata": {},
   "outputs": [
    {
     "name": "stdout",
     "output_type": "stream",
     "text": [
      "Index(['Fare', 'fgrp', 'famsize', 'Ticket', 'ttl_1', 'ttl_2', 'ttl_3', 'ttl_4',\n",
      "       'Pclass_0', 'Pclass_1', 'Pclass_2', 'Embarked_0', 'Embarked_1',\n",
      "       'Embarked_2', 'Age_cls_0', 'Age_cls_1', 'Age_cls_2'],\n",
      "      dtype='object')\n"
     ]
    }
   ],
   "source": [
    "data = family_groups_encoder(data_test.copy(), fgrp_mask)\n",
    "data = fare_encoder(data, fare_mask)\n",
    "data = ticket_encoder(data, ticket_mask)\n",
    "data = title_encoder(data)\n",
    "data = sex_encoder(data)\n",
    "data = fam_size(data)\n",
    "data = embarked_encoder(data)\n",
    "data = pclass_encoder(data)\n",
    "\n",
    "data = data[['PassengerId', 'Age', 'Fare', 'ttl', 'fgrp', 'famsize', 'Ticket', 'Pclass', 'Embarked']]\n",
    "data = pd.get_dummies(data, columns=['ttl', 'Pclass', 'Embarked'])\n",
    "data = age_predictor(data, age_cls_model, age_reg_model)"
   ]
  },
  {
   "cell_type": "markdown",
   "metadata": {},
   "source": [
    "### Make predictions"
   ]
  },
  {
   "cell_type": "code",
   "execution_count": 215,
   "metadata": {
    "scrolled": true
   },
   "outputs": [],
   "source": [
    "X = data.drop(columns=['PassengerId'])"
   ]
  },
  {
   "cell_type": "code",
   "execution_count": 216,
   "metadata": {},
   "outputs": [],
   "source": [
    "data['Survived'] = model_st.predict(X)\n",
    "df_submission = data[['PassengerId', 'Survived']]\n",
    "df_submission.to_csv(\"submission.csv\", index=False)"
   ]
  },
  {
   "cell_type": "code",
   "execution_count": null,
   "metadata": {},
   "outputs": [],
   "source": []
  }
 ],
 "metadata": {
  "kernelspec": {
   "display_name": "Python 3",
   "language": "python",
   "name": "python3"
  },
  "language_info": {
   "codemirror_mode": {
    "name": "ipython",
    "version": 3
   },
   "file_extension": ".py",
   "mimetype": "text/x-python",
   "name": "python",
   "nbconvert_exporter": "python",
   "pygments_lexer": "ipython3",
   "version": "3.8.1"
  }
 },
 "nbformat": 4,
 "nbformat_minor": 4
}
